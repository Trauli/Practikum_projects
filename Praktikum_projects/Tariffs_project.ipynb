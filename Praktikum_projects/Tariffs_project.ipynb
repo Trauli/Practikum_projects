{
 "cells": [
  {
   "cell_type": "markdown",
   "metadata": {},
   "source": [
    "# Анализ тарифных планов \"Мегалайн\""
   ]
  },
  {
   "cell_type": "markdown",
   "metadata": {},
   "source": [
    "Задача - проанализировать поведение и профили клиентов за 2018 год, на основании полученных данных сделать выводы о большей прибыльности одного из двух исследуемых тарифов"
   ]
  },
  {
   "cell_type": "markdown",
   "metadata": {},
   "source": [
    "## Описание имеющихся данных"
   ]
  },
  {
   "cell_type": "markdown",
   "metadata": {},
   "source": [
    "### Описание тарифов"
   ]
  },
  {
   "cell_type": "markdown",
   "metadata": {},
   "source": [
    "#### Тариф «Смарт» \n",
    "Ежемесячная плата: 550 рублей \\\n",
    "Включено 500 минут разговора, 50 сообщений и 15 Гб интернет-трафика \n",
    "\n",
    "Стоимость услуг сверх тарифного пакета: \\\n",
    "минута разговора: 3 рубля \\\n",
    "сообщение: 3 рубля \\\n",
    "1 Гб интернет-трафика: 200 рублей"
   ]
  },
  {
   "cell_type": "markdown",
   "metadata": {},
   "source": [
    "#### Тариф «Ультра» \n",
    "Ежемесячная плата: 1950 рублей \\\n",
    "Включено 3000 минут разговора, 1000 сообщений и 30 Гб интернет-трафика \\\n",
    "\n",
    "Стоимость услуг сверх тарифного пакета: \\\n",
    "минута разговора: 1 рубль \\\n",
    "сообщение: 1 рубль \\\n",
    "1 Гб интернет-трафика: 150 рублей"
   ]
  },
  {
   "cell_type": "markdown",
   "metadata": {},
   "source": [
    "### Описание датасетов"
   ]
  },
  {
   "cell_type": "markdown",
   "metadata": {},
   "source": [
    "### Примечание"
   ]
  },
  {
   "cell_type": "markdown",
   "metadata": {},
   "source": [
    "«Мегалайн» всегда округляет секунды до минут, а мегабайты — до гигабайт. Каждый звонок округляется отдельно: даже если он длился всего 1 секунду, будет засчитан как 1 минута. \\\n",
    "Для веб-трафика отдельные сессии не считаются. Вместо этого общая сумма за месяц округляется в бо́льшую сторону. Если абонент использует 1025 мегабайт в этом месяце, с него возьмут плату за 2 гигабайта. Неиспользованные за предыдущий месяц звонки, смс, интернет на следующий месяц не переносятся."
   ]
  },
  {
   "cell_type": "markdown",
   "metadata": {},
   "source": [
    "## Подготовка к анализу"
   ]
  },
  {
   "cell_type": "markdown",
   "metadata": {},
   "source": [
    "### Импорт библиотек, загрузка датасетов"
   ]
  },
  {
   "cell_type": "code",
   "execution_count": 1,
   "metadata": {},
   "outputs": [],
   "source": [
    "# Импортируем библиотеки\n",
    "import pandas as pd\n",
    "import matplotlib.pyplot as plt\n",
    "from scipy import stats as st\n",
    "import numpy as np\n",
    "import seaborn as sns\n",
    "import math"
   ]
  },
  {
   "cell_type": "code",
   "execution_count": 2,
   "metadata": {},
   "outputs": [],
   "source": [
    "# Зададим датасеты\n",
    "calls = pd.read_csv('/datasets/calls.csv')\n",
    "internet = pd.read_csv('/datasets/internet.csv')\n",
    "messages = pd.read_csv('/datasets/messages.csv')\n",
    "tariffs = pd.read_csv('/datasets/tariffs.csv')\n",
    "users = pd.read_csv('/datasets/users.csv')"
   ]
  },
  {
   "cell_type": "markdown",
   "metadata": {},
   "source": [
    "### Чистка данных"
   ]
  },
  {
   "cell_type": "markdown",
   "metadata": {},
   "source": [
    "#### Таблица calls"
   ]
  },
  {
   "cell_type": "code",
   "execution_count": 3,
   "metadata": {},
   "outputs": [
    {
     "name": "stdout",
     "output_type": "stream",
     "text": [
      "<class 'pandas.core.frame.DataFrame'>\n",
      "RangeIndex: 202607 entries, 0 to 202606\n",
      "Data columns (total 4 columns):\n",
      " #   Column     Non-Null Count   Dtype  \n",
      "---  ------     --------------   -----  \n",
      " 0   id         202607 non-null  object \n",
      " 1   call_date  202607 non-null  object \n",
      " 2   duration   202607 non-null  float64\n",
      " 3   user_id    202607 non-null  int64  \n",
      "dtypes: float64(1), int64(1), object(2)\n",
      "memory usage: 6.2+ MB\n",
      "None\n"
     ]
    },
    {
     "data": {
      "text/html": [
       "<div>\n",
       "<style scoped>\n",
       "    .dataframe tbody tr th:only-of-type {\n",
       "        vertical-align: middle;\n",
       "    }\n",
       "\n",
       "    .dataframe tbody tr th {\n",
       "        vertical-align: top;\n",
       "    }\n",
       "\n",
       "    .dataframe thead th {\n",
       "        text-align: right;\n",
       "    }\n",
       "</style>\n",
       "<table border=\"1\" class=\"dataframe\">\n",
       "  <thead>\n",
       "    <tr style=\"text-align: right;\">\n",
       "      <th></th>\n",
       "      <th>id</th>\n",
       "      <th>call_date</th>\n",
       "      <th>duration</th>\n",
       "      <th>user_id</th>\n",
       "    </tr>\n",
       "  </thead>\n",
       "  <tbody>\n",
       "    <tr>\n",
       "      <th>0</th>\n",
       "      <td>1000_0</td>\n",
       "      <td>2018-07-25</td>\n",
       "      <td>0.00</td>\n",
       "      <td>1000</td>\n",
       "    </tr>\n",
       "    <tr>\n",
       "      <th>1</th>\n",
       "      <td>1000_1</td>\n",
       "      <td>2018-08-17</td>\n",
       "      <td>0.00</td>\n",
       "      <td>1000</td>\n",
       "    </tr>\n",
       "    <tr>\n",
       "      <th>2</th>\n",
       "      <td>1000_2</td>\n",
       "      <td>2018-06-11</td>\n",
       "      <td>2.85</td>\n",
       "      <td>1000</td>\n",
       "    </tr>\n",
       "    <tr>\n",
       "      <th>3</th>\n",
       "      <td>1000_3</td>\n",
       "      <td>2018-09-21</td>\n",
       "      <td>13.80</td>\n",
       "      <td>1000</td>\n",
       "    </tr>\n",
       "    <tr>\n",
       "      <th>4</th>\n",
       "      <td>1000_4</td>\n",
       "      <td>2018-12-15</td>\n",
       "      <td>5.18</td>\n",
       "      <td>1000</td>\n",
       "    </tr>\n",
       "    <tr>\n",
       "      <th>...</th>\n",
       "      <td>...</td>\n",
       "      <td>...</td>\n",
       "      <td>...</td>\n",
       "      <td>...</td>\n",
       "    </tr>\n",
       "    <tr>\n",
       "      <th>202602</th>\n",
       "      <td>1499_215</td>\n",
       "      <td>2018-12-26</td>\n",
       "      <td>0.76</td>\n",
       "      <td>1499</td>\n",
       "    </tr>\n",
       "    <tr>\n",
       "      <th>202603</th>\n",
       "      <td>1499_216</td>\n",
       "      <td>2018-10-18</td>\n",
       "      <td>18.83</td>\n",
       "      <td>1499</td>\n",
       "    </tr>\n",
       "    <tr>\n",
       "      <th>202604</th>\n",
       "      <td>1499_217</td>\n",
       "      <td>2018-11-10</td>\n",
       "      <td>10.81</td>\n",
       "      <td>1499</td>\n",
       "    </tr>\n",
       "    <tr>\n",
       "      <th>202605</th>\n",
       "      <td>1499_218</td>\n",
       "      <td>2018-10-06</td>\n",
       "      <td>4.27</td>\n",
       "      <td>1499</td>\n",
       "    </tr>\n",
       "    <tr>\n",
       "      <th>202606</th>\n",
       "      <td>1499_219</td>\n",
       "      <td>2018-12-14</td>\n",
       "      <td>19.62</td>\n",
       "      <td>1499</td>\n",
       "    </tr>\n",
       "  </tbody>\n",
       "</table>\n",
       "<p>202607 rows × 4 columns</p>\n",
       "</div>"
      ],
      "text/plain": [
       "              id   call_date  duration  user_id\n",
       "0         1000_0  2018-07-25      0.00     1000\n",
       "1         1000_1  2018-08-17      0.00     1000\n",
       "2         1000_2  2018-06-11      2.85     1000\n",
       "3         1000_3  2018-09-21     13.80     1000\n",
       "4         1000_4  2018-12-15      5.18     1000\n",
       "...          ...         ...       ...      ...\n",
       "202602  1499_215  2018-12-26      0.76     1499\n",
       "202603  1499_216  2018-10-18     18.83     1499\n",
       "202604  1499_217  2018-11-10     10.81     1499\n",
       "202605  1499_218  2018-10-06      4.27     1499\n",
       "202606  1499_219  2018-12-14     19.62     1499\n",
       "\n",
       "[202607 rows x 4 columns]"
      ]
     },
     "metadata": {},
     "output_type": "display_data"
    }
   ],
   "source": [
    "print(calls.info())\n",
    "display(calls)"
   ]
  },
  {
   "cell_type": "code",
   "execution_count": 4,
   "metadata": {},
   "outputs": [],
   "source": [
    "# Приведём столбец к нужному типу\n",
    "calls['call_date'] = pd.to_datetime(calls['call_date'])"
   ]
  },
  {
   "cell_type": "code",
   "execution_count": 5,
   "metadata": {},
   "outputs": [
    {
     "name": "stdout",
     "output_type": "stream",
     "text": [
      "Самая ранняя дата - 2018-01-01 00:00:00\n",
      "Самая поздняя дата - 2018-12-31 00:00:00\n"
     ]
    }
   ],
   "source": [
    "# Проверим, совпадают ли интервалы \n",
    "mindate_calls = calls['call_date'].min()\n",
    "maxdate_calls = calls['call_date'].max()\n",
    "print(f'Самая ранняя дата - {mindate_calls}')\n",
    "print(f'Самая поздняя дата - {maxdate_calls}')"
   ]
  },
  {
   "cell_type": "code",
   "execution_count": 6,
   "metadata": {},
   "outputs": [
    {
     "data": {
      "text/plain": [
       "False    202607\n",
       "Name: id, dtype: int64"
      ]
     },
     "execution_count": 6,
     "metadata": {},
     "output_type": "execute_result"
    }
   ],
   "source": [
    "# Столбец id проверим на уникальность\n",
    "calls['id'].duplicated().value_counts()"
   ]
  },
  {
   "cell_type": "markdown",
   "metadata": {},
   "source": [
    "#### Таблица internet"
   ]
  },
  {
   "cell_type": "code",
   "execution_count": 7,
   "metadata": {},
   "outputs": [
    {
     "name": "stdout",
     "output_type": "stream",
     "text": [
      "<class 'pandas.core.frame.DataFrame'>\n",
      "RangeIndex: 149396 entries, 0 to 149395\n",
      "Data columns (total 5 columns):\n",
      " #   Column        Non-Null Count   Dtype  \n",
      "---  ------        --------------   -----  \n",
      " 0   Unnamed: 0    149396 non-null  int64  \n",
      " 1   id            149396 non-null  object \n",
      " 2   mb_used       149396 non-null  float64\n",
      " 3   session_date  149396 non-null  object \n",
      " 4   user_id       149396 non-null  int64  \n",
      "dtypes: float64(1), int64(2), object(2)\n",
      "memory usage: 5.7+ MB\n",
      "None\n"
     ]
    },
    {
     "data": {
      "text/html": [
       "<div>\n",
       "<style scoped>\n",
       "    .dataframe tbody tr th:only-of-type {\n",
       "        vertical-align: middle;\n",
       "    }\n",
       "\n",
       "    .dataframe tbody tr th {\n",
       "        vertical-align: top;\n",
       "    }\n",
       "\n",
       "    .dataframe thead th {\n",
       "        text-align: right;\n",
       "    }\n",
       "</style>\n",
       "<table border=\"1\" class=\"dataframe\">\n",
       "  <thead>\n",
       "    <tr style=\"text-align: right;\">\n",
       "      <th></th>\n",
       "      <th>Unnamed: 0</th>\n",
       "      <th>id</th>\n",
       "      <th>mb_used</th>\n",
       "      <th>session_date</th>\n",
       "      <th>user_id</th>\n",
       "    </tr>\n",
       "  </thead>\n",
       "  <tbody>\n",
       "    <tr>\n",
       "      <th>0</th>\n",
       "      <td>0</td>\n",
       "      <td>1000_0</td>\n",
       "      <td>112.95</td>\n",
       "      <td>2018-11-25</td>\n",
       "      <td>1000</td>\n",
       "    </tr>\n",
       "    <tr>\n",
       "      <th>1</th>\n",
       "      <td>1</td>\n",
       "      <td>1000_1</td>\n",
       "      <td>1052.81</td>\n",
       "      <td>2018-09-07</td>\n",
       "      <td>1000</td>\n",
       "    </tr>\n",
       "    <tr>\n",
       "      <th>2</th>\n",
       "      <td>2</td>\n",
       "      <td>1000_2</td>\n",
       "      <td>1197.26</td>\n",
       "      <td>2018-06-25</td>\n",
       "      <td>1000</td>\n",
       "    </tr>\n",
       "    <tr>\n",
       "      <th>3</th>\n",
       "      <td>3</td>\n",
       "      <td>1000_3</td>\n",
       "      <td>550.27</td>\n",
       "      <td>2018-08-22</td>\n",
       "      <td>1000</td>\n",
       "    </tr>\n",
       "    <tr>\n",
       "      <th>4</th>\n",
       "      <td>4</td>\n",
       "      <td>1000_4</td>\n",
       "      <td>302.56</td>\n",
       "      <td>2018-09-24</td>\n",
       "      <td>1000</td>\n",
       "    </tr>\n",
       "    <tr>\n",
       "      <th>...</th>\n",
       "      <td>...</td>\n",
       "      <td>...</td>\n",
       "      <td>...</td>\n",
       "      <td>...</td>\n",
       "      <td>...</td>\n",
       "    </tr>\n",
       "    <tr>\n",
       "      <th>149391</th>\n",
       "      <td>149391</td>\n",
       "      <td>1499_152</td>\n",
       "      <td>318.90</td>\n",
       "      <td>2018-10-03</td>\n",
       "      <td>1499</td>\n",
       "    </tr>\n",
       "    <tr>\n",
       "      <th>149392</th>\n",
       "      <td>149392</td>\n",
       "      <td>1499_153</td>\n",
       "      <td>490.13</td>\n",
       "      <td>2018-12-14</td>\n",
       "      <td>1499</td>\n",
       "    </tr>\n",
       "    <tr>\n",
       "      <th>149393</th>\n",
       "      <td>149393</td>\n",
       "      <td>1499_154</td>\n",
       "      <td>0.00</td>\n",
       "      <td>2018-10-27</td>\n",
       "      <td>1499</td>\n",
       "    </tr>\n",
       "    <tr>\n",
       "      <th>149394</th>\n",
       "      <td>149394</td>\n",
       "      <td>1499_155</td>\n",
       "      <td>1246.32</td>\n",
       "      <td>2018-11-26</td>\n",
       "      <td>1499</td>\n",
       "    </tr>\n",
       "    <tr>\n",
       "      <th>149395</th>\n",
       "      <td>149395</td>\n",
       "      <td>1499_156</td>\n",
       "      <td>544.37</td>\n",
       "      <td>2018-10-26</td>\n",
       "      <td>1499</td>\n",
       "    </tr>\n",
       "  </tbody>\n",
       "</table>\n",
       "<p>149396 rows × 5 columns</p>\n",
       "</div>"
      ],
      "text/plain": [
       "        Unnamed: 0        id  mb_used session_date  user_id\n",
       "0                0    1000_0   112.95   2018-11-25     1000\n",
       "1                1    1000_1  1052.81   2018-09-07     1000\n",
       "2                2    1000_2  1197.26   2018-06-25     1000\n",
       "3                3    1000_3   550.27   2018-08-22     1000\n",
       "4                4    1000_4   302.56   2018-09-24     1000\n",
       "...            ...       ...      ...          ...      ...\n",
       "149391      149391  1499_152   318.90   2018-10-03     1499\n",
       "149392      149392  1499_153   490.13   2018-12-14     1499\n",
       "149393      149393  1499_154     0.00   2018-10-27     1499\n",
       "149394      149394  1499_155  1246.32   2018-11-26     1499\n",
       "149395      149395  1499_156   544.37   2018-10-26     1499\n",
       "\n",
       "[149396 rows x 5 columns]"
      ]
     },
     "execution_count": 7,
     "metadata": {},
     "output_type": "execute_result"
    }
   ],
   "source": [
    "print(internet.info())\n",
    "internet"
   ]
  },
  {
   "cell_type": "code",
   "execution_count": 8,
   "metadata": {},
   "outputs": [],
   "source": [
    "# Удалим столбец, дублирующй индексы\n",
    "del internet['Unnamed: 0']"
   ]
  },
  {
   "cell_type": "code",
   "execution_count": 9,
   "metadata": {},
   "outputs": [],
   "source": [
    "# Поменяем тип на datetime\n",
    "internet['session_date'] = pd.to_datetime(internet['session_date'])"
   ]
  },
  {
   "cell_type": "code",
   "execution_count": 10,
   "metadata": {},
   "outputs": [
    {
     "data": {
      "text/plain": [
       "False    149396\n",
       "Name: id, dtype: int64"
      ]
     },
     "execution_count": 10,
     "metadata": {},
     "output_type": "execute_result"
    }
   ],
   "source": [
    "# Столбец id проверим на уникальность\n",
    "internet['id'].duplicated().value_counts()"
   ]
  },
  {
   "cell_type": "code",
   "execution_count": 11,
   "metadata": {},
   "outputs": [
    {
     "name": "stdout",
     "output_type": "stream",
     "text": [
      "Самая ранняя дата - 2018-01-01 00:00:00\n",
      "Самая поздняя дата - 2018-12-31 00:00:00\n"
     ]
    }
   ],
   "source": [
    "# Проверим, совпадают ли интервалы \n",
    "mindate_internet = internet['session_date'].min()\n",
    "maxdate_internet = internet['session_date'].max()\n",
    "print(f'Самая ранняя дата - {mindate_internet}')\n",
    "print(f'Самая поздняя дата - {maxdate_internet}')"
   ]
  },
  {
   "cell_type": "markdown",
   "metadata": {},
   "source": [
    "#### Таблица messages"
   ]
  },
  {
   "cell_type": "code",
   "execution_count": 12,
   "metadata": {},
   "outputs": [
    {
     "name": "stdout",
     "output_type": "stream",
     "text": [
      "<class 'pandas.core.frame.DataFrame'>\n",
      "RangeIndex: 123036 entries, 0 to 123035\n",
      "Data columns (total 3 columns):\n",
      " #   Column        Non-Null Count   Dtype \n",
      "---  ------        --------------   ----- \n",
      " 0   id            123036 non-null  object\n",
      " 1   message_date  123036 non-null  object\n",
      " 2   user_id       123036 non-null  int64 \n",
      "dtypes: int64(1), object(2)\n",
      "memory usage: 2.8+ MB\n",
      "None\n"
     ]
    },
    {
     "data": {
      "text/html": [
       "<div>\n",
       "<style scoped>\n",
       "    .dataframe tbody tr th:only-of-type {\n",
       "        vertical-align: middle;\n",
       "    }\n",
       "\n",
       "    .dataframe tbody tr th {\n",
       "        vertical-align: top;\n",
       "    }\n",
       "\n",
       "    .dataframe thead th {\n",
       "        text-align: right;\n",
       "    }\n",
       "</style>\n",
       "<table border=\"1\" class=\"dataframe\">\n",
       "  <thead>\n",
       "    <tr style=\"text-align: right;\">\n",
       "      <th></th>\n",
       "      <th>id</th>\n",
       "      <th>message_date</th>\n",
       "      <th>user_id</th>\n",
       "    </tr>\n",
       "  </thead>\n",
       "  <tbody>\n",
       "    <tr>\n",
       "      <th>0</th>\n",
       "      <td>1000_0</td>\n",
       "      <td>2018-06-27</td>\n",
       "      <td>1000</td>\n",
       "    </tr>\n",
       "    <tr>\n",
       "      <th>1</th>\n",
       "      <td>1000_1</td>\n",
       "      <td>2018-10-08</td>\n",
       "      <td>1000</td>\n",
       "    </tr>\n",
       "    <tr>\n",
       "      <th>2</th>\n",
       "      <td>1000_2</td>\n",
       "      <td>2018-08-04</td>\n",
       "      <td>1000</td>\n",
       "    </tr>\n",
       "    <tr>\n",
       "      <th>3</th>\n",
       "      <td>1000_3</td>\n",
       "      <td>2018-06-16</td>\n",
       "      <td>1000</td>\n",
       "    </tr>\n",
       "    <tr>\n",
       "      <th>4</th>\n",
       "      <td>1000_4</td>\n",
       "      <td>2018-12-05</td>\n",
       "      <td>1000</td>\n",
       "    </tr>\n",
       "    <tr>\n",
       "      <th>...</th>\n",
       "      <td>...</td>\n",
       "      <td>...</td>\n",
       "      <td>...</td>\n",
       "    </tr>\n",
       "    <tr>\n",
       "      <th>123031</th>\n",
       "      <td>1499_179</td>\n",
       "      <td>2018-12-12</td>\n",
       "      <td>1499</td>\n",
       "    </tr>\n",
       "    <tr>\n",
       "      <th>123032</th>\n",
       "      <td>1499_180</td>\n",
       "      <td>2018-09-28</td>\n",
       "      <td>1499</td>\n",
       "    </tr>\n",
       "    <tr>\n",
       "      <th>123033</th>\n",
       "      <td>1499_181</td>\n",
       "      <td>2018-09-27</td>\n",
       "      <td>1499</td>\n",
       "    </tr>\n",
       "    <tr>\n",
       "      <th>123034</th>\n",
       "      <td>1499_182</td>\n",
       "      <td>2018-11-15</td>\n",
       "      <td>1499</td>\n",
       "    </tr>\n",
       "    <tr>\n",
       "      <th>123035</th>\n",
       "      <td>1499_183</td>\n",
       "      <td>2018-11-16</td>\n",
       "      <td>1499</td>\n",
       "    </tr>\n",
       "  </tbody>\n",
       "</table>\n",
       "<p>123036 rows × 3 columns</p>\n",
       "</div>"
      ],
      "text/plain": [
       "              id message_date  user_id\n",
       "0         1000_0   2018-06-27     1000\n",
       "1         1000_1   2018-10-08     1000\n",
       "2         1000_2   2018-08-04     1000\n",
       "3         1000_3   2018-06-16     1000\n",
       "4         1000_4   2018-12-05     1000\n",
       "...          ...          ...      ...\n",
       "123031  1499_179   2018-12-12     1499\n",
       "123032  1499_180   2018-09-28     1499\n",
       "123033  1499_181   2018-09-27     1499\n",
       "123034  1499_182   2018-11-15     1499\n",
       "123035  1499_183   2018-11-16     1499\n",
       "\n",
       "[123036 rows x 3 columns]"
      ]
     },
     "execution_count": 12,
     "metadata": {},
     "output_type": "execute_result"
    }
   ],
   "source": [
    "print(messages.info())\n",
    "messages"
   ]
  },
  {
   "cell_type": "code",
   "execution_count": 13,
   "metadata": {},
   "outputs": [
    {
     "data": {
      "text/plain": [
       "False    123036\n",
       "Name: id, dtype: int64"
      ]
     },
     "execution_count": 13,
     "metadata": {},
     "output_type": "execute_result"
    }
   ],
   "source": [
    "# Проверка на дубликаты в id\n",
    "messages['id'].duplicated().value_counts()"
   ]
  },
  {
   "cell_type": "code",
   "execution_count": 14,
   "metadata": {},
   "outputs": [],
   "source": [
    "# Приводим к нужному типу\n",
    "messages['message_date'] = pd.to_datetime(messages['message_date'])"
   ]
  },
  {
   "cell_type": "code",
   "execution_count": 15,
   "metadata": {},
   "outputs": [
    {
     "name": "stdout",
     "output_type": "stream",
     "text": [
      "Самая ранняя дата - 2018-01-02 00:00:00\n",
      "Самая поздняя дата - 2018-12-31 00:00:00\n"
     ]
    }
   ],
   "source": [
    "# Проверим, совпадают ли интервалы \n",
    "mindate_messages = messages['message_date'].min()\n",
    "maxdate_messages = messages['message_date'].max()\n",
    "print(f'Самая ранняя дата - {mindate_messages}')\n",
    "print(f'Самая поздняя дата - {maxdate_messages}')"
   ]
  },
  {
   "cell_type": "markdown",
   "metadata": {},
   "source": [
    "#### Таблица tariffs"
   ]
  },
  {
   "cell_type": "code",
   "execution_count": 16,
   "metadata": {},
   "outputs": [
    {
     "name": "stdout",
     "output_type": "stream",
     "text": [
      "<class 'pandas.core.frame.DataFrame'>\n",
      "RangeIndex: 2 entries, 0 to 1\n",
      "Data columns (total 8 columns):\n",
      " #   Column                 Non-Null Count  Dtype \n",
      "---  ------                 --------------  ----- \n",
      " 0   messages_included      2 non-null      int64 \n",
      " 1   mb_per_month_included  2 non-null      int64 \n",
      " 2   minutes_included       2 non-null      int64 \n",
      " 3   rub_monthly_fee        2 non-null      int64 \n",
      " 4   rub_per_gb             2 non-null      int64 \n",
      " 5   rub_per_message        2 non-null      int64 \n",
      " 6   rub_per_minute         2 non-null      int64 \n",
      " 7   tariff_name            2 non-null      object\n",
      "dtypes: int64(7), object(1)\n",
      "memory usage: 256.0+ bytes\n",
      "None\n"
     ]
    },
    {
     "data": {
      "text/html": [
       "<div>\n",
       "<style scoped>\n",
       "    .dataframe tbody tr th:only-of-type {\n",
       "        vertical-align: middle;\n",
       "    }\n",
       "\n",
       "    .dataframe tbody tr th {\n",
       "        vertical-align: top;\n",
       "    }\n",
       "\n",
       "    .dataframe thead th {\n",
       "        text-align: right;\n",
       "    }\n",
       "</style>\n",
       "<table border=\"1\" class=\"dataframe\">\n",
       "  <thead>\n",
       "    <tr style=\"text-align: right;\">\n",
       "      <th></th>\n",
       "      <th>messages_included</th>\n",
       "      <th>mb_per_month_included</th>\n",
       "      <th>minutes_included</th>\n",
       "      <th>rub_monthly_fee</th>\n",
       "      <th>rub_per_gb</th>\n",
       "      <th>rub_per_message</th>\n",
       "      <th>rub_per_minute</th>\n",
       "      <th>tariff_name</th>\n",
       "    </tr>\n",
       "  </thead>\n",
       "  <tbody>\n",
       "    <tr>\n",
       "      <th>0</th>\n",
       "      <td>50</td>\n",
       "      <td>15360</td>\n",
       "      <td>500</td>\n",
       "      <td>550</td>\n",
       "      <td>200</td>\n",
       "      <td>3</td>\n",
       "      <td>3</td>\n",
       "      <td>smart</td>\n",
       "    </tr>\n",
       "    <tr>\n",
       "      <th>1</th>\n",
       "      <td>1000</td>\n",
       "      <td>30720</td>\n",
       "      <td>3000</td>\n",
       "      <td>1950</td>\n",
       "      <td>150</td>\n",
       "      <td>1</td>\n",
       "      <td>1</td>\n",
       "      <td>ultra</td>\n",
       "    </tr>\n",
       "  </tbody>\n",
       "</table>\n",
       "</div>"
      ],
      "text/plain": [
       "   messages_included  mb_per_month_included  minutes_included  \\\n",
       "0                 50                  15360               500   \n",
       "1               1000                  30720              3000   \n",
       "\n",
       "   rub_monthly_fee  rub_per_gb  rub_per_message  rub_per_minute tariff_name  \n",
       "0              550         200                3               3       smart  \n",
       "1             1950         150                1               1       ultra  "
      ]
     },
     "execution_count": 16,
     "metadata": {},
     "output_type": "execute_result"
    }
   ],
   "source": [
    "print(tariffs.info())\n",
    "tariffs"
   ]
  },
  {
   "cell_type": "markdown",
   "metadata": {},
   "source": [
    "Это скорее информационная таблица, не требующая каких либо изменений"
   ]
  },
  {
   "cell_type": "markdown",
   "metadata": {},
   "source": [
    "#### Таблица users"
   ]
  },
  {
   "cell_type": "code",
   "execution_count": 17,
   "metadata": {},
   "outputs": [
    {
     "name": "stdout",
     "output_type": "stream",
     "text": [
      "<class 'pandas.core.frame.DataFrame'>\n",
      "RangeIndex: 500 entries, 0 to 499\n",
      "Data columns (total 8 columns):\n",
      " #   Column      Non-Null Count  Dtype \n",
      "---  ------      --------------  ----- \n",
      " 0   user_id     500 non-null    int64 \n",
      " 1   age         500 non-null    int64 \n",
      " 2   churn_date  38 non-null     object\n",
      " 3   city        500 non-null    object\n",
      " 4   first_name  500 non-null    object\n",
      " 5   last_name   500 non-null    object\n",
      " 6   reg_date    500 non-null    object\n",
      " 7   tariff      500 non-null    object\n",
      "dtypes: int64(2), object(6)\n",
      "memory usage: 31.4+ KB\n",
      "None\n"
     ]
    },
    {
     "data": {
      "text/html": [
       "<div>\n",
       "<style scoped>\n",
       "    .dataframe tbody tr th:only-of-type {\n",
       "        vertical-align: middle;\n",
       "    }\n",
       "\n",
       "    .dataframe tbody tr th {\n",
       "        vertical-align: top;\n",
       "    }\n",
       "\n",
       "    .dataframe thead th {\n",
       "        text-align: right;\n",
       "    }\n",
       "</style>\n",
       "<table border=\"1\" class=\"dataframe\">\n",
       "  <thead>\n",
       "    <tr style=\"text-align: right;\">\n",
       "      <th></th>\n",
       "      <th>user_id</th>\n",
       "      <th>age</th>\n",
       "      <th>churn_date</th>\n",
       "      <th>city</th>\n",
       "      <th>first_name</th>\n",
       "      <th>last_name</th>\n",
       "      <th>reg_date</th>\n",
       "      <th>tariff</th>\n",
       "    </tr>\n",
       "  </thead>\n",
       "  <tbody>\n",
       "    <tr>\n",
       "      <th>0</th>\n",
       "      <td>1000</td>\n",
       "      <td>52</td>\n",
       "      <td>NaN</td>\n",
       "      <td>Краснодар</td>\n",
       "      <td>Рафаил</td>\n",
       "      <td>Верещагин</td>\n",
       "      <td>2018-05-25</td>\n",
       "      <td>ultra</td>\n",
       "    </tr>\n",
       "    <tr>\n",
       "      <th>1</th>\n",
       "      <td>1001</td>\n",
       "      <td>41</td>\n",
       "      <td>NaN</td>\n",
       "      <td>Москва</td>\n",
       "      <td>Иван</td>\n",
       "      <td>Ежов</td>\n",
       "      <td>2018-11-01</td>\n",
       "      <td>smart</td>\n",
       "    </tr>\n",
       "    <tr>\n",
       "      <th>2</th>\n",
       "      <td>1002</td>\n",
       "      <td>59</td>\n",
       "      <td>NaN</td>\n",
       "      <td>Стерлитамак</td>\n",
       "      <td>Евгений</td>\n",
       "      <td>Абрамович</td>\n",
       "      <td>2018-06-17</td>\n",
       "      <td>smart</td>\n",
       "    </tr>\n",
       "    <tr>\n",
       "      <th>3</th>\n",
       "      <td>1003</td>\n",
       "      <td>23</td>\n",
       "      <td>NaN</td>\n",
       "      <td>Москва</td>\n",
       "      <td>Белла</td>\n",
       "      <td>Белякова</td>\n",
       "      <td>2018-08-17</td>\n",
       "      <td>ultra</td>\n",
       "    </tr>\n",
       "    <tr>\n",
       "      <th>4</th>\n",
       "      <td>1004</td>\n",
       "      <td>68</td>\n",
       "      <td>NaN</td>\n",
       "      <td>Новокузнецк</td>\n",
       "      <td>Татьяна</td>\n",
       "      <td>Авдеенко</td>\n",
       "      <td>2018-05-14</td>\n",
       "      <td>ultra</td>\n",
       "    </tr>\n",
       "    <tr>\n",
       "      <th>...</th>\n",
       "      <td>...</td>\n",
       "      <td>...</td>\n",
       "      <td>...</td>\n",
       "      <td>...</td>\n",
       "      <td>...</td>\n",
       "      <td>...</td>\n",
       "      <td>...</td>\n",
       "      <td>...</td>\n",
       "    </tr>\n",
       "    <tr>\n",
       "      <th>495</th>\n",
       "      <td>1495</td>\n",
       "      <td>65</td>\n",
       "      <td>NaN</td>\n",
       "      <td>Иркутск</td>\n",
       "      <td>Авксентий</td>\n",
       "      <td>Фокин</td>\n",
       "      <td>2018-08-28</td>\n",
       "      <td>ultra</td>\n",
       "    </tr>\n",
       "    <tr>\n",
       "      <th>496</th>\n",
       "      <td>1496</td>\n",
       "      <td>36</td>\n",
       "      <td>NaN</td>\n",
       "      <td>Вологда</td>\n",
       "      <td>Трифон</td>\n",
       "      <td>Блохин</td>\n",
       "      <td>2018-01-27</td>\n",
       "      <td>smart</td>\n",
       "    </tr>\n",
       "    <tr>\n",
       "      <th>497</th>\n",
       "      <td>1497</td>\n",
       "      <td>32</td>\n",
       "      <td>NaN</td>\n",
       "      <td>Челябинск</td>\n",
       "      <td>Каролина</td>\n",
       "      <td>Агеева</td>\n",
       "      <td>2018-10-09</td>\n",
       "      <td>smart</td>\n",
       "    </tr>\n",
       "    <tr>\n",
       "      <th>498</th>\n",
       "      <td>1498</td>\n",
       "      <td>68</td>\n",
       "      <td>2018-10-25</td>\n",
       "      <td>Владикавказ</td>\n",
       "      <td>Всеволод</td>\n",
       "      <td>Акимчин</td>\n",
       "      <td>2018-07-19</td>\n",
       "      <td>smart</td>\n",
       "    </tr>\n",
       "    <tr>\n",
       "      <th>499</th>\n",
       "      <td>1499</td>\n",
       "      <td>35</td>\n",
       "      <td>NaN</td>\n",
       "      <td>Пермь</td>\n",
       "      <td>Гектор</td>\n",
       "      <td>Корнилов</td>\n",
       "      <td>2018-09-27</td>\n",
       "      <td>smart</td>\n",
       "    </tr>\n",
       "  </tbody>\n",
       "</table>\n",
       "<p>500 rows × 8 columns</p>\n",
       "</div>"
      ],
      "text/plain": [
       "     user_id  age  churn_date         city first_name  last_name    reg_date  \\\n",
       "0       1000   52         NaN    Краснодар     Рафаил  Верещагин  2018-05-25   \n",
       "1       1001   41         NaN       Москва       Иван       Ежов  2018-11-01   \n",
       "2       1002   59         NaN  Стерлитамак    Евгений  Абрамович  2018-06-17   \n",
       "3       1003   23         NaN       Москва      Белла   Белякова  2018-08-17   \n",
       "4       1004   68         NaN  Новокузнецк    Татьяна   Авдеенко  2018-05-14   \n",
       "..       ...  ...         ...          ...        ...        ...         ...   \n",
       "495     1495   65         NaN      Иркутск  Авксентий      Фокин  2018-08-28   \n",
       "496     1496   36         NaN      Вологда     Трифон     Блохин  2018-01-27   \n",
       "497     1497   32         NaN    Челябинск   Каролина     Агеева  2018-10-09   \n",
       "498     1498   68  2018-10-25  Владикавказ   Всеволод    Акимчин  2018-07-19   \n",
       "499     1499   35         NaN        Пермь     Гектор   Корнилов  2018-09-27   \n",
       "\n",
       "    tariff  \n",
       "0    ultra  \n",
       "1    smart  \n",
       "2    smart  \n",
       "3    ultra  \n",
       "4    ultra  \n",
       "..     ...  \n",
       "495  ultra  \n",
       "496  smart  \n",
       "497  smart  \n",
       "498  smart  \n",
       "499  smart  \n",
       "\n",
       "[500 rows x 8 columns]"
      ]
     },
     "execution_count": 17,
     "metadata": {},
     "output_type": "execute_result"
    }
   ],
   "source": [
    "print(users.info())\n",
    "users"
   ]
  },
  {
   "cell_type": "code",
   "execution_count": 18,
   "metadata": {},
   "outputs": [],
   "source": [
    "# Приводим к нужному типу\n",
    "users['reg_date'] = pd.to_datetime(users['reg_date'])"
   ]
  },
  {
   "cell_type": "code",
   "execution_count": 19,
   "metadata": {},
   "outputs": [
    {
     "data": {
      "text/plain": [
       "False    500\n",
       "Name: user_id, dtype: int64"
      ]
     },
     "execution_count": 19,
     "metadata": {},
     "output_type": "execute_result"
    }
   ],
   "source": [
    "# Проверка на дубликаты в id\n",
    "users['user_id'].duplicated().value_counts()"
   ]
  },
  {
   "cell_type": "code",
   "execution_count": 20,
   "metadata": {},
   "outputs": [
    {
     "name": "stdout",
     "output_type": "stream",
     "text": [
      "Самая ранняя дата регистрации - 2018-01-01 00:00:00\n",
      "Самая поздняя дата регистрации - 2018-12-31 00:00:00\n"
     ]
    }
   ],
   "source": [
    "# Проверим, совпадают ли интервалы \n",
    "mindate_users = users['reg_date'].min()\n",
    "maxdate_users = users['reg_date'].max()\n",
    "print(f'Самая ранняя дата регистрации - {mindate_users}')\n",
    "print(f'Самая поздняя дата регистрации - {maxdate_users}')"
   ]
  },
  {
   "cell_type": "code",
   "execution_count": 21,
   "metadata": {},
   "outputs": [
    {
     "name": "stdout",
     "output_type": "stream",
     "text": [
      "Наименьший возраст - 18\n",
      "Наибольший возраст - 75\n"
     ]
    }
   ],
   "source": [
    "# Проверим, совпадают ли интервалы возраста с \"нормальными\"\n",
    "minage_users = users['age'].min()\n",
    "maxage_users = users['age'].max()\n",
    "print(f'Наименьший возраст - {minage_users}')\n",
    "print(f'Наибольший возраст - {maxage_users}')"
   ]
  },
  {
   "cell_type": "code",
   "execution_count": 22,
   "metadata": {},
   "outputs": [
    {
     "data": {
      "text/plain": [
       "['Архангельск',\n",
       " 'Астрахань',\n",
       " 'Балашиха',\n",
       " 'Барнаул',\n",
       " 'Белгород',\n",
       " 'Брянск',\n",
       " 'Владивосток',\n",
       " 'Владикавказ',\n",
       " 'Владимир',\n",
       " 'Волгоград',\n",
       " 'Волжский',\n",
       " 'Вологда',\n",
       " 'Воронеж',\n",
       " 'Грозный',\n",
       " 'Екатеринбург',\n",
       " 'Иваново',\n",
       " 'Ижевск',\n",
       " 'Иркутск',\n",
       " 'Казань',\n",
       " 'Калининград',\n",
       " 'Калуга',\n",
       " 'Кемерово',\n",
       " 'Киров',\n",
       " 'Кострома',\n",
       " 'Краснодар',\n",
       " 'Красноярск',\n",
       " 'Курган',\n",
       " 'Курск',\n",
       " 'Липецк',\n",
       " 'Магнитогорск',\n",
       " 'Махачкала',\n",
       " 'Москва',\n",
       " 'Мурманск',\n",
       " 'Набережные Челны',\n",
       " 'Нижневартовск',\n",
       " 'Нижний Новгород',\n",
       " 'Нижний Тагил',\n",
       " 'Новокузнецк',\n",
       " 'Новороссийск',\n",
       " 'Новосибирск',\n",
       " 'Омск',\n",
       " 'Оренбург',\n",
       " 'Орёл',\n",
       " 'Пенза',\n",
       " 'Пермь',\n",
       " 'Петрозаводск',\n",
       " 'Подольск',\n",
       " 'Ростов-на-Дону',\n",
       " 'Рязань',\n",
       " 'Самара',\n",
       " 'Санкт-Петербург',\n",
       " 'Саранск',\n",
       " 'Саратов',\n",
       " 'Севастополь',\n",
       " 'Смоленск',\n",
       " 'Сочи',\n",
       " 'Ставрополь',\n",
       " 'Стерлитамак',\n",
       " 'Сургут',\n",
       " 'Тамбов',\n",
       " 'Тверь',\n",
       " 'Тольятти',\n",
       " 'Томск',\n",
       " 'Тула',\n",
       " 'Тюмень',\n",
       " 'Улан-Удэ',\n",
       " 'Ульяновск',\n",
       " 'Уфа',\n",
       " 'Хабаровск',\n",
       " 'Химки',\n",
       " 'Чебоксары',\n",
       " 'Челябинск',\n",
       " 'Череповец',\n",
       " 'Чита',\n",
       " 'Якутск',\n",
       " 'Ярославль']"
      ]
     },
     "execution_count": 22,
     "metadata": {},
     "output_type": "execute_result"
    }
   ],
   "source": [
    "# Проверим список городов на ошикби заполнения\n",
    "# Т.к. список небольшой - можно проверить \"глазами\"\n",
    "sorted(users['city'].unique())"
   ]
  },
  {
   "cell_type": "code",
   "execution_count": 23,
   "metadata": {},
   "outputs": [
    {
     "data": {
      "text/plain": [
       "['Авксентий',\n",
       " 'Агата',\n",
       " 'Агафья',\n",
       " 'Агнесса',\n",
       " 'Адам',\n",
       " 'Аким',\n",
       " 'Аксён',\n",
       " 'Алан',\n",
       " 'Алевтина',\n",
       " 'Александр',\n",
       " 'Александра',\n",
       " 'Алексей',\n",
       " 'Алина',\n",
       " 'Алиса',\n",
       " 'Алла',\n",
       " 'Альберта',\n",
       " 'Альбин',\n",
       " 'Альфред',\n",
       " 'Алёна',\n",
       " 'Анатолий',\n",
       " 'Анвар',\n",
       " 'Ангелина',\n",
       " 'Андрей',\n",
       " 'Анжелика',\n",
       " 'Анита',\n",
       " 'Антонина',\n",
       " 'Анфиса',\n",
       " 'Арина',\n",
       " 'Арнольд',\n",
       " 'Арсен',\n",
       " 'Арсений',\n",
       " 'Артемий',\n",
       " 'Артём',\n",
       " 'Аурелия',\n",
       " 'Афанасий',\n",
       " 'Ахмет',\n",
       " 'Аюна',\n",
       " 'Белла',\n",
       " 'Берта',\n",
       " 'Борис',\n",
       " 'Вадим',\n",
       " 'Валентина',\n",
       " 'Валерий',\n",
       " 'Валерия',\n",
       " 'Варвара',\n",
       " 'Варлам',\n",
       " 'Василиса',\n",
       " 'Вениамин',\n",
       " 'Вера',\n",
       " 'Вероника',\n",
       " 'Веселина',\n",
       " 'Виктор',\n",
       " 'Виктория',\n",
       " 'Виолетта',\n",
       " 'Виталий',\n",
       " 'Владимир',\n",
       " 'Владислав',\n",
       " 'Владислава',\n",
       " 'Всеволод',\n",
       " 'Габриель',\n",
       " 'Габриэль',\n",
       " 'Гайдар',\n",
       " 'Галина',\n",
       " 'Гарри',\n",
       " 'Гектор',\n",
       " 'Гелена',\n",
       " 'Геннадий',\n",
       " 'Геодар',\n",
       " 'Георгий',\n",
       " 'Георгина',\n",
       " 'Геральд',\n",
       " 'Герасим',\n",
       " 'Глеб',\n",
       " 'Гордей',\n",
       " 'Григорий',\n",
       " 'Дайна',\n",
       " 'Дана',\n",
       " 'Даниил',\n",
       " 'Даниэла',\n",
       " 'Дебора',\n",
       " 'Демьян',\n",
       " 'Денис',\n",
       " 'Джемма',\n",
       " 'Джозефина',\n",
       " 'Джулия',\n",
       " 'Динара',\n",
       " 'Доминика',\n",
       " 'Ева',\n",
       " 'Евгений',\n",
       " 'Евгения',\n",
       " 'Евдокия',\n",
       " 'Евфросинья',\n",
       " 'Егор',\n",
       " 'Екатерина',\n",
       " 'Елена',\n",
       " 'Еремей',\n",
       " 'Ермолай',\n",
       " 'Ефим',\n",
       " 'Зинаида',\n",
       " 'Иван',\n",
       " 'Игнатий',\n",
       " 'Игорь',\n",
       " 'Изольда',\n",
       " 'Илзе',\n",
       " 'Илья',\n",
       " 'Инара',\n",
       " 'Инга',\n",
       " 'Инесса',\n",
       " 'Инна',\n",
       " 'Иннокентий',\n",
       " 'Ириней',\n",
       " 'Исаак',\n",
       " 'Исак',\n",
       " 'Иулиан',\n",
       " 'Камилла',\n",
       " 'Карина',\n",
       " 'Каролина',\n",
       " 'Касьян',\n",
       " 'Ким',\n",
       " 'Клавдия',\n",
       " 'Клара',\n",
       " 'Клариса',\n",
       " 'Константин',\n",
       " 'Кристина',\n",
       " 'Ксения',\n",
       " 'Кузьма',\n",
       " 'Лаврентий',\n",
       " 'Лариса',\n",
       " 'Лаура',\n",
       " 'Лев',\n",
       " 'Лейла',\n",
       " 'Леон',\n",
       " 'Леонид',\n",
       " 'Леонтий',\n",
       " 'Леся',\n",
       " 'Лидия',\n",
       " 'Лилия',\n",
       " 'Лия',\n",
       " 'Лола',\n",
       " 'Лолита',\n",
       " 'Луиза',\n",
       " 'Лукий',\n",
       " 'Людмила',\n",
       " 'Мадина',\n",
       " 'Майя',\n",
       " 'Максим',\n",
       " 'Мальвина',\n",
       " 'Мануэла',\n",
       " 'Маргарита',\n",
       " 'Марианна',\n",
       " 'Мариетта',\n",
       " 'Марина',\n",
       " 'Марица',\n",
       " 'Мария',\n",
       " 'Марта',\n",
       " 'Марьяна',\n",
       " 'Матвей',\n",
       " 'Милана',\n",
       " 'Милена',\n",
       " 'Милица',\n",
       " 'Мирослава',\n",
       " 'Михаил',\n",
       " 'Мстислав',\n",
       " 'Надежда',\n",
       " 'Наида',\n",
       " 'Наталья',\n",
       " 'Нателла',\n",
       " 'Нелли',\n",
       " 'Николай',\n",
       " 'Нина',\n",
       " 'Оксана',\n",
       " 'Олег',\n",
       " 'Олеся',\n",
       " 'Онисим',\n",
       " 'Павел',\n",
       " 'Пётр',\n",
       " 'Радим',\n",
       " 'Радислав',\n",
       " 'Радомир',\n",
       " 'Раиса',\n",
       " 'Рауль',\n",
       " 'Рафаил',\n",
       " 'Рафаэль',\n",
       " 'Рашид',\n",
       " 'Рем',\n",
       " 'Ренальд',\n",
       " 'Ренат',\n",
       " 'Рената',\n",
       " 'Ринат',\n",
       " 'Роберт',\n",
       " 'Роза',\n",
       " 'Розалия',\n",
       " 'Роксана',\n",
       " 'Ростислав',\n",
       " 'Рубен',\n",
       " 'Рудольф',\n",
       " 'Рузана',\n",
       " 'Руслан',\n",
       " 'Руслана',\n",
       " 'Рустам',\n",
       " 'Рустем',\n",
       " 'Рустэм',\n",
       " 'Рэм',\n",
       " 'Сабина',\n",
       " 'Саида',\n",
       " 'Сара',\n",
       " 'Светлана',\n",
       " 'Святослав',\n",
       " 'Семён',\n",
       " 'Серафима',\n",
       " 'Симона',\n",
       " 'Снежана',\n",
       " 'Софья',\n",
       " 'Станислав',\n",
       " 'Степан',\n",
       " 'Таира',\n",
       " 'Таисия',\n",
       " 'Тала',\n",
       " 'Тамара',\n",
       " 'Татьяна',\n",
       " 'Тимофей',\n",
       " 'Тихон',\n",
       " 'Трифон',\n",
       " 'Трофим',\n",
       " 'Фаддей',\n",
       " 'Фёдор',\n",
       " 'Харитон',\n",
       " 'Эдита',\n",
       " 'Эдуард',\n",
       " 'Элеонора',\n",
       " 'Элина',\n",
       " 'Элла',\n",
       " 'Эллада',\n",
       " 'Эльвира',\n",
       " 'Эльга',\n",
       " 'Эльза',\n",
       " 'Эльмира',\n",
       " 'Эмилия',\n",
       " 'Эсмеральда',\n",
       " 'Юзефа',\n",
       " 'Юлий',\n",
       " 'Юлия',\n",
       " 'Юна',\n",
       " 'Юрий',\n",
       " 'Яков',\n",
       " 'Яна']"
      ]
     },
     "execution_count": 23,
     "metadata": {},
     "output_type": "execute_result"
    }
   ],
   "source": [
    "# То же самое проделаем со списком имён...\n",
    "sorted(users['first_name'].unique())"
   ]
  },
  {
   "cell_type": "code",
   "execution_count": 24,
   "metadata": {},
   "outputs": [
    {
     "data": {
      "text/plain": [
       "['Ёлчина',\n",
       " 'Ёркин',\n",
       " 'Ёркина',\n",
       " 'Ёрохов',\n",
       " 'Ёрохова',\n",
       " 'Абаимов',\n",
       " 'Абакумов',\n",
       " 'Абакшина',\n",
       " 'Абалакова',\n",
       " 'Абалдуева',\n",
       " 'Абалкин',\n",
       " 'Абашкин',\n",
       " 'Абашкина',\n",
       " 'Абдулина',\n",
       " 'Абоимов',\n",
       " 'Абрамович',\n",
       " 'Абрамцев',\n",
       " 'Абрамычева',\n",
       " 'Абрашина',\n",
       " 'Абрикосова',\n",
       " 'Авдеев',\n",
       " 'Авдеенко',\n",
       " 'Авдонюшкин',\n",
       " 'Авдушева',\n",
       " 'Авдышев',\n",
       " 'Авдюков',\n",
       " 'Авраамова',\n",
       " 'Авраменко',\n",
       " 'Авринский',\n",
       " 'Аврорин',\n",
       " 'Авроров',\n",
       " 'Авросимова',\n",
       " 'Авросинова',\n",
       " 'Авсейкина',\n",
       " 'Авчинникова',\n",
       " 'Агаев',\n",
       " 'Агаева',\n",
       " 'Агапеева',\n",
       " 'Агеева',\n",
       " 'Адаменко',\n",
       " 'Адамов',\n",
       " 'Азаров',\n",
       " 'Азерников',\n",
       " 'Азимова',\n",
       " 'Акимов',\n",
       " 'Акимчин',\n",
       " 'Акимычева',\n",
       " 'Акиндинов',\n",
       " 'Акинин',\n",
       " 'Акинфьев',\n",
       " 'Аксёнов',\n",
       " 'Акуленко',\n",
       " 'Александрова',\n",
       " 'Александрович',\n",
       " 'Александрюк',\n",
       " 'Алексеева',\n",
       " 'Алексеенко',\n",
       " 'Алексеичев',\n",
       " 'Аленникова',\n",
       " 'Алесин',\n",
       " 'Алехина',\n",
       " 'Алешин',\n",
       " 'Алешина',\n",
       " 'Алешкова',\n",
       " 'Алиев',\n",
       " 'Алфеева',\n",
       " 'Алфимов',\n",
       " 'Алфимова',\n",
       " 'Алымова',\n",
       " 'Алютин',\n",
       " 'Алюшина',\n",
       " 'Алёшко',\n",
       " 'Алёшкова',\n",
       " 'Амелин',\n",
       " 'Амелишко',\n",
       " 'Амельченко',\n",
       " 'Ананьева',\n",
       " 'Андреенко',\n",
       " 'Андрейкин',\n",
       " 'Андрейчук',\n",
       " 'Андрианов',\n",
       " 'Андропов',\n",
       " 'Андропова',\n",
       " 'Андрющенко',\n",
       " 'Аникина',\n",
       " 'Аничкина',\n",
       " 'Анищенко',\n",
       " 'Антипов',\n",
       " 'Антоненко',\n",
       " 'Антонова',\n",
       " 'Антропов',\n",
       " 'Антропова',\n",
       " 'Аракина',\n",
       " 'Аракчеев',\n",
       " 'Аркадьев',\n",
       " 'Арсенкова',\n",
       " 'Артемчук',\n",
       " 'Артемьев',\n",
       " 'Артёменко',\n",
       " 'Артёмов',\n",
       " 'Артёшин',\n",
       " 'Архипова',\n",
       " 'Асафьева',\n",
       " 'Астапенко',\n",
       " 'Астапов',\n",
       " 'Астафьева',\n",
       " 'Афанасенко',\n",
       " 'Афанасова',\n",
       " 'Афинин',\n",
       " 'Афонасьева',\n",
       " 'Афонин',\n",
       " 'Афонина',\n",
       " 'Ахмадулин',\n",
       " 'Ахматов',\n",
       " 'Ахматулин',\n",
       " 'Ахматулина',\n",
       " 'Ахмедов',\n",
       " 'Бабушкина',\n",
       " 'Барсуков',\n",
       " 'Басова',\n",
       " 'Безруков',\n",
       " 'Беликова',\n",
       " 'Белова',\n",
       " 'Белозёров',\n",
       " 'Белоусова',\n",
       " 'Беляев',\n",
       " 'Беляева',\n",
       " 'Белякова',\n",
       " 'Березина',\n",
       " 'Блинова',\n",
       " 'Блохин',\n",
       " 'Блохина',\n",
       " 'Боброва',\n",
       " 'Бобылёв',\n",
       " 'Богданов',\n",
       " 'Богданова',\n",
       " 'Болдырев',\n",
       " 'Болдырева',\n",
       " 'Бондарев',\n",
       " 'Борисова',\n",
       " 'Бородин',\n",
       " 'Бородина',\n",
       " 'Булгаков',\n",
       " 'Бычкова',\n",
       " 'Васильева',\n",
       " 'Верещагин',\n",
       " 'Верещагина',\n",
       " 'Веселов',\n",
       " 'Вешнякова',\n",
       " 'Вишневский',\n",
       " 'Вишняков',\n",
       " 'Воронин',\n",
       " 'Воронина',\n",
       " 'Гаврилова',\n",
       " 'Галкин',\n",
       " 'Глушков',\n",
       " 'Голованова',\n",
       " 'Гончаров',\n",
       " 'Горбачева',\n",
       " 'Горбунов',\n",
       " 'Горлов',\n",
       " 'Григорьев',\n",
       " 'Григорьева',\n",
       " 'Гришина',\n",
       " 'Громова',\n",
       " 'Давыдов',\n",
       " 'Демидов',\n",
       " 'Демьянов',\n",
       " 'Демьянова',\n",
       " 'Денисова',\n",
       " 'Добрынин',\n",
       " 'Добрынина',\n",
       " 'Дорофеева',\n",
       " 'Дроздов',\n",
       " 'Дубинина',\n",
       " 'Дьячкова',\n",
       " 'Евсеев',\n",
       " 'Ежов',\n",
       " 'Елизаров',\n",
       " 'Емельянова',\n",
       " 'Еремин',\n",
       " 'Ермилов',\n",
       " 'Ермолаев',\n",
       " 'Ерофеев',\n",
       " 'Ерофеева',\n",
       " 'Ефремов',\n",
       " 'Жарова',\n",
       " 'Жданов',\n",
       " 'Жукова',\n",
       " 'Завьялова',\n",
       " 'Зайцев',\n",
       " 'Зеленина',\n",
       " 'Зимина',\n",
       " 'Золотов',\n",
       " 'Золотова',\n",
       " 'Зубков',\n",
       " 'Зубкова',\n",
       " 'Зуев',\n",
       " 'Зыков',\n",
       " 'Иванов',\n",
       " 'Иванова',\n",
       " 'Игнатова',\n",
       " 'Игнатьев',\n",
       " 'Игнатьева',\n",
       " 'Измайлова',\n",
       " 'Ильин',\n",
       " 'Ильина',\n",
       " 'Кабанова',\n",
       " 'Казакова',\n",
       " 'Казанцев',\n",
       " 'Калинина',\n",
       " 'Капустин',\n",
       " 'Карасев',\n",
       " 'Карасева',\n",
       " 'Карташова',\n",
       " 'Касьянова',\n",
       " 'Киреева',\n",
       " 'Кириллов',\n",
       " 'Киселёв',\n",
       " 'Климова',\n",
       " 'Ковалева',\n",
       " 'Козлов',\n",
       " 'Козлова',\n",
       " 'Козырева',\n",
       " 'Колесова',\n",
       " 'Колобов',\n",
       " 'Кольцова',\n",
       " 'Кондратов',\n",
       " 'Коновалова',\n",
       " 'Кононов',\n",
       " 'Константинова',\n",
       " 'Корнеева',\n",
       " 'Корнилов',\n",
       " 'Корнилова',\n",
       " 'Корольков',\n",
       " 'Королькова',\n",
       " 'Короткова',\n",
       " 'Коршунов',\n",
       " 'Костин',\n",
       " 'Костина',\n",
       " 'Кочергина',\n",
       " 'Кочетков',\n",
       " 'Кочетов',\n",
       " 'Кошелева',\n",
       " 'Кравцов',\n",
       " 'Красильников',\n",
       " 'Круглов',\n",
       " 'Крылова',\n",
       " 'Крюков',\n",
       " 'Крюкова',\n",
       " 'Крючков',\n",
       " 'Кузнецов',\n",
       " 'Кукушкин',\n",
       " 'Кулагина',\n",
       " 'Кулешова',\n",
       " 'Куприянов',\n",
       " 'Курочкин',\n",
       " 'Лазарева',\n",
       " 'Лапина',\n",
       " 'Лаптева',\n",
       " 'Ларин',\n",
       " 'Ларина',\n",
       " 'Ларионова',\n",
       " 'Латышева',\n",
       " 'Лебедев',\n",
       " 'Левин',\n",
       " 'Леонтьев',\n",
       " 'Литвинов',\n",
       " 'Лобанова',\n",
       " 'Логинов',\n",
       " 'Лосева',\n",
       " 'Лукин',\n",
       " 'Любимов',\n",
       " 'Макаров',\n",
       " 'Макарова',\n",
       " 'Макеев',\n",
       " 'Малахов',\n",
       " 'Малинин',\n",
       " 'Малинина',\n",
       " 'Малышев',\n",
       " 'Мальцев',\n",
       " 'Мамонтова',\n",
       " 'Марков',\n",
       " 'Масленникова',\n",
       " 'Матвеев',\n",
       " 'Медведев',\n",
       " 'Мельникова',\n",
       " 'Меркулова',\n",
       " 'Минаев',\n",
       " 'Минаева',\n",
       " 'Мишин',\n",
       " 'Молчанова',\n",
       " 'Моргунов',\n",
       " 'Морозов',\n",
       " 'Муравьева',\n",
       " 'Муравьёв',\n",
       " 'Мясникова',\n",
       " 'Наумов',\n",
       " 'Некрасов',\n",
       " 'Нестеров',\n",
       " 'Нестерова',\n",
       " 'Нечаева',\n",
       " 'Никонов',\n",
       " 'Никулин',\n",
       " 'Новикова',\n",
       " 'Носкова',\n",
       " 'Овчинников',\n",
       " 'Одинцов',\n",
       " 'Одинцова',\n",
       " 'Озерова',\n",
       " 'Орлов',\n",
       " 'Павловский',\n",
       " 'Панов',\n",
       " 'Пантелеева',\n",
       " 'Панфилов',\n",
       " 'Панфилова',\n",
       " 'Парфенов',\n",
       " 'Петухова',\n",
       " 'Пирогова',\n",
       " 'Платонова',\n",
       " 'Покровский',\n",
       " 'Поликарпова',\n",
       " 'Поляков',\n",
       " 'Пономарев',\n",
       " 'Пономарева',\n",
       " 'Пономарёв',\n",
       " 'Попов',\n",
       " 'Прокофьева',\n",
       " 'Пугачева',\n",
       " 'Ракова',\n",
       " 'Родина',\n",
       " 'Родионов',\n",
       " 'Родионова',\n",
       " 'Розанова',\n",
       " 'Рудаков',\n",
       " 'Румянцева',\n",
       " 'Русанова',\n",
       " 'Рыбакова',\n",
       " 'Рябов',\n",
       " 'Савельева',\n",
       " 'Сазонов',\n",
       " 'Сазонова',\n",
       " 'Сальников',\n",
       " 'Сафонова',\n",
       " 'Сахарова',\n",
       " 'Свиридов',\n",
       " 'Севастьянова',\n",
       " 'Седова',\n",
       " 'Селезнев',\n",
       " 'Селезнева',\n",
       " 'Селиванова',\n",
       " 'Семенова',\n",
       " 'Семин',\n",
       " 'Семина',\n",
       " 'Семёнов',\n",
       " 'Сергеева',\n",
       " 'Серебрякова',\n",
       " 'Серов',\n",
       " 'Силин',\n",
       " 'Симонова',\n",
       " 'Синицын',\n",
       " 'Ситникова',\n",
       " 'Соколов',\n",
       " 'Соловьев',\n",
       " 'Соловьёв',\n",
       " 'Сомова',\n",
       " 'Сорокин',\n",
       " 'Софронов',\n",
       " 'Спиридонова',\n",
       " 'Субботина',\n",
       " 'Суслов',\n",
       " 'Суслова',\n",
       " 'Сухарев',\n",
       " 'Сухарева',\n",
       " 'Сухова',\n",
       " 'Сысоев',\n",
       " 'Тарасов',\n",
       " 'Тарасова',\n",
       " 'Терехова',\n",
       " 'Тетерина',\n",
       " 'Тимофеев',\n",
       " 'Тимофеева',\n",
       " 'Тихомирова',\n",
       " 'Тихонов',\n",
       " 'Толкачев',\n",
       " 'Третьякова',\n",
       " 'Троицкий',\n",
       " 'Трофимов',\n",
       " 'Трофимова',\n",
       " 'Трошин',\n",
       " 'Уваров',\n",
       " 'Устинов',\n",
       " 'Устинова',\n",
       " 'Фадеева',\n",
       " 'Федосеев',\n",
       " 'Фетисова',\n",
       " 'Филатов',\n",
       " 'Фокин',\n",
       " 'Фокина',\n",
       " 'Фомин',\n",
       " 'Фролов',\n",
       " 'Фёдоров',\n",
       " 'Худяков',\n",
       " 'Чернов',\n",
       " 'Черный',\n",
       " 'Чернышев',\n",
       " 'Черняев',\n",
       " 'Чеснокова',\n",
       " 'Чижова',\n",
       " 'Чистякова',\n",
       " 'Чумаков',\n",
       " 'Шарапов',\n",
       " 'Шарапова',\n",
       " 'Шарова',\n",
       " 'Швецов',\n",
       " 'Шевцов',\n",
       " 'Шевцова',\n",
       " 'Щербакова',\n",
       " 'Яшина']"
      ]
     },
     "execution_count": 24,
     "metadata": {},
     "output_type": "execute_result"
    }
   ],
   "source": [
    "# И фамилий\n",
    "sorted(users['last_name'].unique())"
   ]
  },
  {
   "cell_type": "markdown",
   "metadata": {},
   "source": [
    "Учитывая, что имена и фамилии представляют собой крайне изменичивую переменную (имеют место разные написания одного имени, которые фактически и бюрократически будут считаться разными. Как и фамилии, собственно говоря) стоит сказать что в данном случае я искал скорее явные ошибки "
   ]
  },
  {
   "cell_type": "markdown",
   "metadata": {},
   "source": [
    "#### Вывод\n",
    "\n",
    "Данные достаточно чистые, без каких-либо явных ошибок, неточностей \\\n",
    "Выборка пользователей небольшая, и, как покажет дальнешая работа, немного неравномерная. Скорее всего в силу неравного количества пользователей двух тарифов"
   ]
  },
  {
   "cell_type": "markdown",
   "metadata": {},
   "source": [
    "### Добавление необходимых переменных "
   ]
  },
  {
   "cell_type": "markdown",
   "metadata": {},
   "source": [
    "Посчитаем главные параметры пользователей с разбивкой по месяцам - количество сделанных звонков и потраченных минут, количество сообщений, объём трафика, месячую выручку"
   ]
  },
  {
   "cell_type": "code",
   "execution_count": 25,
   "metadata": {},
   "outputs": [],
   "source": [
    "# Посчитаем общее число звонков и количество потраченных минут по месяцам на каждого пользователя\n",
    "# Для начала вынесем месяц в отдельный столбец\n",
    "calls['month'] = calls['call_date'].dt.to_period('M')\n",
    "\n",
    "# Зададим новую таблицу, в которую будем складывать необходимые для анализа данные\n",
    "analysis_df = pd.DataFrame(calls.groupby(['user_id', 'month'])['call_date'].count())\n",
    "\n",
    "# Приклеим данные о количестве минут\n",
    "analysis_df = analysis_df.join(calls.groupby(['user_id', 'month'])['duration'].sum(), on=['user_id', 'month'])"
   ]
  },
  {
   "cell_type": "code",
   "execution_count": 26,
   "metadata": {},
   "outputs": [],
   "source": [
    "# Та же схема, что и со звонками\n",
    "messages['month'] = messages['message_date'].dt.to_period('M')\n",
    "\n",
    "# Присоединяем к таблице данные о сообщениях\n",
    "analysis_df = analysis_df.join(messages.groupby(['user_id', 'month'])['id'].count(), on=['user_id', 'month'], how='outer')"
   ]
  },
  {
   "cell_type": "code",
   "execution_count": 27,
   "metadata": {},
   "outputs": [],
   "source": [
    "# Вычленям месяц в отдельный столбец\n",
    "internet['month'] = internet['session_date'].dt.to_period('M')\n",
    "\n",
    "# Присоединям к таблице данные о трафике\n",
    "analysis_df = analysis_df.join(internet.groupby(['user_id', 'month'])['mb_used'].sum(), on=['user_id', 'month'], how='outer')"
   ]
  },
  {
   "cell_type": "code",
   "execution_count": 28,
   "metadata": {},
   "outputs": [],
   "source": [
    "# \"Причешем\" таблицу\n",
    "analysis_df = analysis_df.sort_values(['user_id', 'month']).fillna(0)\n",
    "analysis_df.rename(columns={'id':'messages', 'call_date':'calls_count', 'duration':'month_duration'},inplace=True)\n",
    "analysis_df = analysis_df.reset_index()\n",
    "\n",
    "# Добавим информацию о тарифе\n",
    "analysis_df = analysis_df.merge(users[['user_id', 'tariff']], left_on='user_id', right_on='user_id')"
   ]
  },
  {
   "cell_type": "code",
   "execution_count": 29,
   "metadata": {},
   "outputs": [],
   "source": [
    "# Напишем функцию для подсчёта месячной выручки \n",
    "def total_revenue (row):\n",
    "    if row['tariff'] == 'smart':\n",
    "        s_rest_of_minutes = row['month_duration'] - 500\n",
    "        s_rest_of_messages = row['messages'] - 50\n",
    "        s_rest_of_traffic = row['mb_used'] - 15360\n",
    "        s_tot_rev = 550\n",
    "        if s_rest_of_minutes + abs(s_rest_of_minutes):\n",
    "            s_tot_rev += math.ceil(s_rest_of_minutes)*3\n",
    "        if s_rest_of_messages + abs(s_rest_of_messages):\n",
    "            s_tot_rev += s_rest_of_messages*3\n",
    "        if s_rest_of_traffic + abs(s_rest_of_traffic):\n",
    "            s_tot_rev += math.ceil(s_rest_of_traffic / 1024)*200\n",
    "        return s_tot_rev\n",
    "    if row['tariff'] == 'ultra':\n",
    "        u_rest_of_minutes = row['month_duration'] - 3000\n",
    "        u_rest_of_messages = row['messages'] - 1000\n",
    "        u_rest_of_traffic = row['mb_used'] - 30720\n",
    "        u_tot_rev = 1950\n",
    "        if u_rest_of_minutes + abs(u_rest_of_minutes):\n",
    "            u_tot_rev += math.ceil(u_rest_of_minutes)*1\n",
    "        if u_rest_of_messages + abs(u_rest_of_messages):\n",
    "            u_tot_rev += u_rest_of_messages*1\n",
    "        if u_rest_of_traffic + abs(u_rest_of_traffic):\n",
    "            u_tot_rev += math.ceil(u_rest_of_traffic / 1024)*150\n",
    "        return u_tot_rev"
   ]
  },
  {
   "cell_type": "code",
   "execution_count": 30,
   "metadata": {},
   "outputs": [],
   "source": [
    "analysis_df['total_rev'] = analysis_df.apply(total_revenue, axis=1)"
   ]
  },
  {
   "cell_type": "code",
   "execution_count": 186,
   "metadata": {},
   "outputs": [
    {
     "data": {
      "text/html": [
       "<div>\n",
       "<style scoped>\n",
       "    .dataframe tbody tr th:only-of-type {\n",
       "        vertical-align: middle;\n",
       "    }\n",
       "\n",
       "    .dataframe tbody tr th {\n",
       "        vertical-align: top;\n",
       "    }\n",
       "\n",
       "    .dataframe thead th {\n",
       "        text-align: right;\n",
       "    }\n",
       "</style>\n",
       "<table border=\"1\" class=\"dataframe\">\n",
       "  <thead>\n",
       "    <tr style=\"text-align: right;\">\n",
       "      <th></th>\n",
       "      <th>user_id</th>\n",
       "      <th>month</th>\n",
       "      <th>calls_count</th>\n",
       "      <th>month_duration</th>\n",
       "      <th>messages</th>\n",
       "      <th>mb_used</th>\n",
       "      <th>tariff</th>\n",
       "      <th>total_rev</th>\n",
       "    </tr>\n",
       "  </thead>\n",
       "  <tbody>\n",
       "    <tr>\n",
       "      <th>0</th>\n",
       "      <td>1000</td>\n",
       "      <td>2018-05</td>\n",
       "      <td>22.0</td>\n",
       "      <td>150.06</td>\n",
       "      <td>22.0</td>\n",
       "      <td>2253.49</td>\n",
       "      <td>ultra</td>\n",
       "      <td>1950.0</td>\n",
       "    </tr>\n",
       "    <tr>\n",
       "      <th>1</th>\n",
       "      <td>1000</td>\n",
       "      <td>2018-06</td>\n",
       "      <td>43.0</td>\n",
       "      <td>158.90</td>\n",
       "      <td>60.0</td>\n",
       "      <td>23233.77</td>\n",
       "      <td>ultra</td>\n",
       "      <td>1950.0</td>\n",
       "    </tr>\n",
       "    <tr>\n",
       "      <th>2</th>\n",
       "      <td>1000</td>\n",
       "      <td>2018-07</td>\n",
       "      <td>47.0</td>\n",
       "      <td>318.80</td>\n",
       "      <td>75.0</td>\n",
       "      <td>14003.64</td>\n",
       "      <td>ultra</td>\n",
       "      <td>1950.0</td>\n",
       "    </tr>\n",
       "    <tr>\n",
       "      <th>3</th>\n",
       "      <td>1000</td>\n",
       "      <td>2018-08</td>\n",
       "      <td>52.0</td>\n",
       "      <td>389.87</td>\n",
       "      <td>81.0</td>\n",
       "      <td>14055.93</td>\n",
       "      <td>ultra</td>\n",
       "      <td>1950.0</td>\n",
       "    </tr>\n",
       "    <tr>\n",
       "      <th>4</th>\n",
       "      <td>1000</td>\n",
       "      <td>2018-09</td>\n",
       "      <td>58.0</td>\n",
       "      <td>440.14</td>\n",
       "      <td>57.0</td>\n",
       "      <td>14568.91</td>\n",
       "      <td>ultra</td>\n",
       "      <td>1950.0</td>\n",
       "    </tr>\n",
       "    <tr>\n",
       "      <th>...</th>\n",
       "      <td>...</td>\n",
       "      <td>...</td>\n",
       "      <td>...</td>\n",
       "      <td>...</td>\n",
       "      <td>...</td>\n",
       "      <td>...</td>\n",
       "      <td>...</td>\n",
       "      <td>...</td>\n",
       "    </tr>\n",
       "    <tr>\n",
       "      <th>3209</th>\n",
       "      <td>1498</td>\n",
       "      <td>2018-10</td>\n",
       "      <td>41.0</td>\n",
       "      <td>232.63</td>\n",
       "      <td>42.0</td>\n",
       "      <td>20579.36</td>\n",
       "      <td>smart</td>\n",
       "      <td>1750.0</td>\n",
       "    </tr>\n",
       "    <tr>\n",
       "      <th>3210</th>\n",
       "      <td>1499</td>\n",
       "      <td>2018-09</td>\n",
       "      <td>9.0</td>\n",
       "      <td>64.65</td>\n",
       "      <td>11.0</td>\n",
       "      <td>1845.75</td>\n",
       "      <td>smart</td>\n",
       "      <td>550.0</td>\n",
       "    </tr>\n",
       "    <tr>\n",
       "      <th>3211</th>\n",
       "      <td>1499</td>\n",
       "      <td>2018-10</td>\n",
       "      <td>68.0</td>\n",
       "      <td>429.91</td>\n",
       "      <td>48.0</td>\n",
       "      <td>17788.51</td>\n",
       "      <td>smart</td>\n",
       "      <td>1150.0</td>\n",
       "    </tr>\n",
       "    <tr>\n",
       "      <th>3212</th>\n",
       "      <td>1499</td>\n",
       "      <td>2018-11</td>\n",
       "      <td>74.0</td>\n",
       "      <td>576.50</td>\n",
       "      <td>59.0</td>\n",
       "      <td>17963.31</td>\n",
       "      <td>smart</td>\n",
       "      <td>1408.0</td>\n",
       "    </tr>\n",
       "    <tr>\n",
       "      <th>3213</th>\n",
       "      <td>1499</td>\n",
       "      <td>2018-12</td>\n",
       "      <td>69.0</td>\n",
       "      <td>465.16</td>\n",
       "      <td>66.0</td>\n",
       "      <td>13055.58</td>\n",
       "      <td>smart</td>\n",
       "      <td>598.0</td>\n",
       "    </tr>\n",
       "  </tbody>\n",
       "</table>\n",
       "<p>3214 rows × 8 columns</p>\n",
       "</div>"
      ],
      "text/plain": [
       "      user_id    month  calls_count  month_duration  messages   mb_used  \\\n",
       "0        1000  2018-05         22.0          150.06      22.0   2253.49   \n",
       "1        1000  2018-06         43.0          158.90      60.0  23233.77   \n",
       "2        1000  2018-07         47.0          318.80      75.0  14003.64   \n",
       "3        1000  2018-08         52.0          389.87      81.0  14055.93   \n",
       "4        1000  2018-09         58.0          440.14      57.0  14568.91   \n",
       "...       ...      ...          ...             ...       ...       ...   \n",
       "3209     1498  2018-10         41.0          232.63      42.0  20579.36   \n",
       "3210     1499  2018-09          9.0           64.65      11.0   1845.75   \n",
       "3211     1499  2018-10         68.0          429.91      48.0  17788.51   \n",
       "3212     1499  2018-11         74.0          576.50      59.0  17963.31   \n",
       "3213     1499  2018-12         69.0          465.16      66.0  13055.58   \n",
       "\n",
       "     tariff  total_rev  \n",
       "0     ultra     1950.0  \n",
       "1     ultra     1950.0  \n",
       "2     ultra     1950.0  \n",
       "3     ultra     1950.0  \n",
       "4     ultra     1950.0  \n",
       "...     ...        ...  \n",
       "3209  smart     1750.0  \n",
       "3210  smart      550.0  \n",
       "3211  smart     1150.0  \n",
       "3212  smart     1408.0  \n",
       "3213  smart      598.0  \n",
       "\n",
       "[3214 rows x 8 columns]"
      ]
     },
     "execution_count": 186,
     "metadata": {},
     "output_type": "execute_result"
    }
   ],
   "source": [
    "# Посмотрим на получившуюся таблицу\n",
    "# Красивое...\n",
    "analysis_df"
   ]
  },
  {
   "cell_type": "markdown",
   "metadata": {},
   "source": [
    "## Анализ данных"
   ]
  },
  {
   "cell_type": "markdown",
   "metadata": {},
   "source": [
    "### Основные статистики"
   ]
  },
  {
   "cell_type": "code",
   "execution_count": 187,
   "metadata": {},
   "outputs": [],
   "source": [
    "# Разделим выборки на две группы - по тарифу\n",
    "u_analysis_df = analysis_df.query('tariff == \"ultra\"').copy().reset_index(drop=True)\n",
    "s_analysis_df = analysis_df.query('tariff == \"smart\"').copy().reset_index(drop=True)"
   ]
  },
  {
   "cell_type": "code",
   "execution_count": 188,
   "metadata": {},
   "outputs": [
    {
     "data": {
      "text/html": [
       "<style  type=\"text/css\" >\n",
       "</style><table id=\"T_d1816_\" ><thead>    <tr>        <th class=\"blank level0\" ></th>        <th class=\"col_heading level0 col0\" colspan=\"4\">month_duration</th>    </tr>    <tr>        <th class=\"blank level1\" ></th>        <th class=\"col_heading level1 col0\" >Среднее</th>        <th class=\"col_heading level1 col1\" >Медиана</th>        <th class=\"col_heading level1 col2\" >Дисперсия</th>        <th class=\"col_heading level1 col3\" >Ст-е отклонение</th>    </tr>    <tr>        <th class=\"index_name level0\" >tariff</th>        <th class=\"blank\" ></th>        <th class=\"blank\" ></th>        <th class=\"blank\" ></th>        <th class=\"blank\" ></th>    </tr></thead><tbody>\n",
       "                <tr>\n",
       "                        <th id=\"T_d1816_level0_row0\" class=\"row_heading level0 row0\" >smart</th>\n",
       "                        <td id=\"T_d1816_row0_col0\" class=\"data row0 col0\" >394.43</td>\n",
       "                        <td id=\"T_d1816_row0_col1\" class=\"data row0 col1\" >397.98</td>\n",
       "                        <td id=\"T_d1816_row0_col2\" class=\"data row0 col2\" >32386.40</td>\n",
       "                        <td id=\"T_d1816_row0_col3\" class=\"data row0 col3\" >179.96</td>\n",
       "            </tr>\n",
       "            <tr>\n",
       "                        <th id=\"T_d1816_level0_row1\" class=\"row_heading level0 row1\" >ultra</th>\n",
       "                        <td id=\"T_d1816_row1_col0\" class=\"data row1 col0\" >497.07</td>\n",
       "                        <td id=\"T_d1816_row1_col1\" class=\"data row1 col1\" >488.10</td>\n",
       "                        <td id=\"T_d1816_row1_col2\" class=\"data row1 col2\" >89942.50</td>\n",
       "                        <td id=\"T_d1816_row1_col3\" class=\"data row1 col3\" >299.90</td>\n",
       "            </tr>\n",
       "    </tbody></table>"
      ],
      "text/plain": [
       "<pandas.io.formats.style.Styler at 0x7f1c84a8aa30>"
      ]
     },
     "metadata": {},
     "output_type": "display_data"
    },
    {
     "data": {
      "text/html": [
       "<style  type=\"text/css\" >\n",
       "</style><table id=\"T_0f02a_\" ><thead>    <tr>        <th class=\"blank level0\" ></th>        <th class=\"col_heading level0 col0\" colspan=\"4\">messages</th>    </tr>    <tr>        <th class=\"blank level1\" ></th>        <th class=\"col_heading level1 col0\" >Среднее</th>        <th class=\"col_heading level1 col1\" >Медиана</th>        <th class=\"col_heading level1 col2\" >Дисперсия</th>        <th class=\"col_heading level1 col3\" >Ст-е отклонение</th>    </tr>    <tr>        <th class=\"index_name level0\" >tariff</th>        <th class=\"blank\" ></th>        <th class=\"blank\" ></th>        <th class=\"blank\" ></th>        <th class=\"blank\" ></th>    </tr></thead><tbody>\n",
       "                <tr>\n",
       "                        <th id=\"T_0f02a_level0_row0\" class=\"row_heading level0 row0\" >smart</th>\n",
       "                        <td id=\"T_0f02a_row0_col0\" class=\"data row0 col0\" >33.38</td>\n",
       "                        <td id=\"T_0f02a_row0_col1\" class=\"data row0 col1\" >28.00</td>\n",
       "                        <td id=\"T_0f02a_row0_col2\" class=\"data row0 col2\" >796.81</td>\n",
       "                        <td id=\"T_0f02a_row0_col3\" class=\"data row0 col3\" >28.23</td>\n",
       "            </tr>\n",
       "            <tr>\n",
       "                        <th id=\"T_0f02a_level0_row1\" class=\"row_heading level0 row1\" >ultra</th>\n",
       "                        <td id=\"T_0f02a_row1_col0\" class=\"data row1 col0\" >49.36</td>\n",
       "                        <td id=\"T_0f02a_row1_col1\" class=\"data row1 col1\" >38.00</td>\n",
       "                        <td id=\"T_0f02a_row1_col2\" class=\"data row1 col2\" >2285.27</td>\n",
       "                        <td id=\"T_0f02a_row1_col3\" class=\"data row1 col3\" >47.80</td>\n",
       "            </tr>\n",
       "    </tbody></table>"
      ],
      "text/plain": [
       "<pandas.io.formats.style.Styler at 0x7f1c7a848e20>"
      ]
     },
     "metadata": {},
     "output_type": "display_data"
    },
    {
     "data": {
      "text/html": [
       "<style  type=\"text/css\" >\n",
       "</style><table id=\"T_c5b53_\" ><thead>    <tr>        <th class=\"blank level0\" ></th>        <th class=\"col_heading level0 col0\" colspan=\"4\">mb_used</th>    </tr>    <tr>        <th class=\"blank level1\" ></th>        <th class=\"col_heading level1 col0\" >Среднее</th>        <th class=\"col_heading level1 col1\" >Медиана</th>        <th class=\"col_heading level1 col2\" >Дисперсия</th>        <th class=\"col_heading level1 col3\" >Ст-е отклонение</th>    </tr>    <tr>        <th class=\"index_name level0\" >tariff</th>        <th class=\"blank\" ></th>        <th class=\"blank\" ></th>        <th class=\"blank\" ></th>        <th class=\"blank\" ></th>    </tr></thead><tbody>\n",
       "                <tr>\n",
       "                        <th id=\"T_c5b53_level0_row0\" class=\"row_heading level0 row0\" >smart</th>\n",
       "                        <td id=\"T_c5b53_row0_col0\" class=\"data row0 col0\" >16208.39</td>\n",
       "                        <td id=\"T_c5b53_row0_col1\" class=\"data row0 col1\" >16506.84</td>\n",
       "                        <td id=\"T_c5b53_row0_col2\" class=\"data row0 col2\" >34462496.46</td>\n",
       "                        <td id=\"T_c5b53_row0_col3\" class=\"data row0 col3\" >5870.48</td>\n",
       "            </tr>\n",
       "            <tr>\n",
       "                        <th id=\"T_c5b53_level0_row1\" class=\"row_heading level0 row1\" >ultra</th>\n",
       "                        <td id=\"T_c5b53_row1_col0\" class=\"data row1 col0\" >19468.81</td>\n",
       "                        <td id=\"T_c5b53_row1_col1\" class=\"data row1 col1\" >19308.01</td>\n",
       "                        <td id=\"T_c5b53_row1_col2\" class=\"data row1 col2\" >101751013.78</td>\n",
       "                        <td id=\"T_c5b53_row1_col3\" class=\"data row1 col3\" >10087.17</td>\n",
       "            </tr>\n",
       "    </tbody></table>"
      ],
      "text/plain": [
       "<pandas.io.formats.style.Styler at 0x7f1c8fe4eeb0>"
      ]
     },
     "metadata": {},
     "output_type": "display_data"
    },
    {
     "data": {
      "text/html": [
       "<style  type=\"text/css\" >\n",
       "</style><table id=\"T_dc4a3_\" ><thead>    <tr>        <th class=\"blank level0\" ></th>        <th class=\"col_heading level0 col0\" colspan=\"4\">total_rev</th>    </tr>    <tr>        <th class=\"blank level1\" ></th>        <th class=\"col_heading level1 col0\" >Среднее</th>        <th class=\"col_heading level1 col1\" >Медиана</th>        <th class=\"col_heading level1 col2\" >Дисперсия</th>        <th class=\"col_heading level1 col3\" >Ст-е отклонение</th>    </tr>    <tr>        <th class=\"index_name level0\" >tariff</th>        <th class=\"blank\" ></th>        <th class=\"blank\" ></th>        <th class=\"blank\" ></th>        <th class=\"blank\" ></th>    </tr></thead><tbody>\n",
       "                <tr>\n",
       "                        <th id=\"T_dc4a3_level0_row0\" class=\"row_heading level0 row0\" >smart</th>\n",
       "                        <td id=\"T_dc4a3_row0_col0\" class=\"data row0 col0\" >1257.59</td>\n",
       "                        <td id=\"T_dc4a3_row0_col1\" class=\"data row0 col1\" >962.00</td>\n",
       "                        <td id=\"T_dc4a3_row0_col2\" class=\"data row0 col2\" >641465.80</td>\n",
       "                        <td id=\"T_dc4a3_row0_col3\" class=\"data row0 col3\" >800.92</td>\n",
       "            </tr>\n",
       "            <tr>\n",
       "                        <th id=\"T_dc4a3_level0_row1\" class=\"row_heading level0 row1\" >ultra</th>\n",
       "                        <td id=\"T_dc4a3_row1_col0\" class=\"data row1 col0\" >2070.15</td>\n",
       "                        <td id=\"T_dc4a3_row1_col1\" class=\"data row1 col1\" >1950.00</td>\n",
       "                        <td id=\"T_dc4a3_row1_col2\" class=\"data row1 col2\" >141516.75</td>\n",
       "                        <td id=\"T_dc4a3_row1_col3\" class=\"data row1 col3\" >376.19</td>\n",
       "            </tr>\n",
       "    </tbody></table>"
      ],
      "text/plain": [
       "<pandas.io.formats.style.Styler at 0x7f1c8cc44a30>"
      ]
     },
     "metadata": {},
     "output_type": "display_data"
    }
   ],
   "source": [
    "# Выделим основные статистики\n",
    "for col in ['month_duration', 'messages', 'mb_used', 'total_rev']:\n",
    "    display(analysis_df.groupby('tariff')\n",
    "    .agg({col:['mean','median','var','std']})\n",
    "    .rename(columns={'mean':'Среднее', 'median':'Медиана', 'var':'Дисперсия', 'std':'Ст-е отклонение'})\n",
    "    .style.format('{:.2f}'))"
   ]
  },
  {
   "cell_type": "markdown",
   "metadata": {},
   "source": [
    "Можно обратить внимание, что из всех трёх ктаегорий использования тарифа, в среднем превышается лимит только в категори трафика и только пользователями тарифа смарт \\\n",
    "Сообщения особой популярностью не пользуются и в смарт, и в ультра \\\n",
    "У пользователей тарифа смарт в среднем остаётся ещё около 100 минут в запасе, у пользователей ультра - гораздо больше, порядка 2500 минут"
   ]
  },
  {
   "cell_type": "markdown",
   "metadata": {},
   "source": [
    "#### Гистограммы"
   ]
  },
  {
   "cell_type": "code",
   "execution_count": 189,
   "metadata": {},
   "outputs": [
    {
     "data": {
      "image/png": "[encoded data removed]",
      "text/plain": [
       "<Figure size 432x432 with 1 Axes>"
      ]
     },
     "metadata": {
      "needs_background": "light"
     },
     "output_type": "display_data"
    }
   ],
   "source": [
    "# Зададим гистограммы для распределений\n",
    "plt.figure(figsize=(6,6))\n",
    "ax_1 = sns.histplot(data=s_analysis_df['mb_used'], bins=30, kde=True)\n",
    "plt.ylabel('')\n",
    "plt.xlabel('Использовано мегабайтов, в месяц')\n",
    "ax_1.axes.set_title('Распределние потраченного трафика, тариф smart', fontsize=12)\n",
    "plt.show()"
   ]
  },
  {
   "cell_type": "markdown",
   "metadata": {},
   "source": [
    "Распределение подобно нормальному, слегка скошено вправо"
   ]
  },
  {
   "cell_type": "code",
   "execution_count": 190,
   "metadata": {},
   "outputs": [
    {
     "data": {
      "image/png": "[encoded data removed]",
      "text/plain": [
       "<Figure size 432x432 with 1 Axes>"
      ]
     },
     "metadata": {
      "needs_background": "light"
     },
     "output_type": "display_data"
    }
   ],
   "source": [
    "plt.figure(figsize=(6,6))\n",
    "ax_1 = sns.histplot(data=u_analysis_df['mb_used'], bins=30, kde=True)\n",
    "plt.ylabel('')\n",
    "plt.xlabel('Использовано мегабайтов, в месяц')\n",
    "ax_1.axes.set_title('Распределние потраченного трафика, тариф ultra', fontsize=12)\n",
    "plt.show()"
   ]
  },
  {
   "cell_type": "markdown",
   "metadata": {},
   "source": [
    "Распределение меньше похоже на нормальное, чем в тарифе smart \\\n",
    "Такая ситуация могла сложиться из-за неравномерности выборок - количество данных в тарифе smart первышает в ultra"
   ]
  },
  {
   "cell_type": "code",
   "execution_count": 191,
   "metadata": {},
   "outputs": [
    {
     "data": {
      "image/png": "[encoded data removed]",
      "text/plain": [
       "<Figure size 432x432 with 1 Axes>"
      ]
     },
     "metadata": {
      "needs_background": "light"
     },
     "output_type": "display_data"
    }
   ],
   "source": [
    "plt.figure(figsize=(6,6))\n",
    "ax_1 = sns.histplot(data=s_analysis_df['messages'], bins=30, kde=True)\n",
    "plt.ylabel('')\n",
    "plt.xlabel('Потрачено сообщений, в месяц')\n",
    "ax_1.axes.set_title('Распределние потраченных сообщений, тариф smart', fontsize=12)\n",
    "plt.show()"
   ]
  },
  {
   "cell_type": "markdown",
   "metadata": {},
   "source": [
    "Распределение не нормальное, с огромным количество нулевых данных. Такие данные легко объясняются неактуальностью смс-сообщений"
   ]
  },
  {
   "cell_type": "code",
   "execution_count": 192,
   "metadata": {},
   "outputs": [
    {
     "data": {
      "image/png": "[encoded data removed]",
      "text/plain": [
       "<Figure size 432x432 with 1 Axes>"
      ]
     },
     "metadata": {
      "needs_background": "light"
     },
     "output_type": "display_data"
    }
   ],
   "source": [
    "plt.figure(figsize=(6,6))\n",
    "ax_1 = sns.histplot(data=u_analysis_df['messages'], bins=30, kde=True)\n",
    "plt.ylabel('')\n",
    "plt.xlabel('Потрачено сообщений, в месяц')\n",
    "ax_1.axes.set_title('Распределние потраченных сообщений, тариф ultra', fontsize=12)\n",
    "plt.show()"
   ]
  },
  {
   "cell_type": "markdown",
   "metadata": {},
   "source": [
    "Абсолютно та же ситуация"
   ]
  },
  {
   "cell_type": "code",
   "execution_count": 193,
   "metadata": {},
   "outputs": [
    {
     "data": {
      "image/png": "[encoded data removed]",
      "text/plain": [
       "<Figure size 432x432 with 1 Axes>"
      ]
     },
     "metadata": {
      "needs_background": "light"
     },
     "output_type": "display_data"
    }
   ],
   "source": [
    "plt.figure(figsize=(6,6))\n",
    "ax_1 = sns.histplot(data=s_analysis_df['month_duration'], bins=30, kde=True)\n",
    "plt.ylabel('')\n",
    "plt.xlabel('Потрачено минут, в месяц')\n",
    "ax_1.axes.set_title('Распределние потраченных минут, тариф smart', fontsize=12)\n",
    "plt.show()"
   ]
  },
  {
   "cell_type": "markdown",
   "metadata": {},
   "source": [
    "У данных сильный \"хвост\" справа, много выбросов"
   ]
  },
  {
   "cell_type": "code",
   "execution_count": 194,
   "metadata": {},
   "outputs": [
    {
     "data": {
      "image/png": "[encoded data removed]",
      "text/plain": [
       "<Figure size 432x432 with 1 Axes>"
      ]
     },
     "metadata": {
      "needs_background": "light"
     },
     "output_type": "display_data"
    }
   ],
   "source": [
    "plt.figure(figsize=(6,6))\n",
    "ax_1 = sns.histplot(data=u_analysis_df['month_duration'], bins=30, kde=True)\n",
    "plt.ylabel('')\n",
    "plt.xlabel('Потрачено минут, в месяц')\n",
    "ax_1.axes.set_title('Распределние потраченных минут, тариф ultra', fontsize=12)\n",
    "plt.show()"
   ]
  },
  {
   "cell_type": "markdown",
   "metadata": {},
   "source": [
    "Много нулевых значений, небольшой \"хвост\" справа. В целом напоминает график по тарифу smart, но с особенностью в нулевых значениях"
   ]
  },
  {
   "cell_type": "code",
   "execution_count": 195,
   "metadata": {},
   "outputs": [
    {
     "data": {
      "image/png": "[encoded data removed]",
      "text/plain": [
       "<Figure size 432x432 with 1 Axes>"
      ]
     },
     "metadata": {
      "needs_background": "light"
     },
     "output_type": "display_data"
    }
   ],
   "source": [
    "plt.figure(figsize=(6,6))\n",
    "ax_1 = sns.histplot(data=s_analysis_df['total_rev'], bins=30, kde=True)\n",
    "plt.ylabel('')\n",
    "plt.xlabel('Выручка, в месяц')\n",
    "ax_1.axes.set_title('Распределние месячной выручки, тариф smart', fontsize=12)\n",
    "plt.show()"
   ]
  },
  {
   "cell_type": "code",
   "execution_count": 196,
   "metadata": {},
   "outputs": [
    {
     "data": {
      "image/png": "[encoded data removed]",
      "text/plain": [
       "<Figure size 432x432 with 1 Axes>"
      ]
     },
     "metadata": {
      "needs_background": "light"
     },
     "output_type": "display_data"
    }
   ],
   "source": [
    "plt.figure(figsize=(6,6))\n",
    "ax_1 = sns.histplot(data=u_analysis_df['total_rev'], bins=30, kde=True)\n",
    "plt.ylabel('')\n",
    "plt.xlabel('Выручка, в месяц')\n",
    "ax_1.axes.set_title('Распределние месячной выручки, тариф ultra', fontsize=12)\n",
    "plt.show()"
   ]
  },
  {
   "cell_type": "markdown",
   "metadata": {},
   "source": [
    "Сравнив графики можно сказать, что пользователи тарифа smart гораздо чаще выходят за рамки лимита и доплачивают, пользователи ultra - реже"
   ]
  },
  {
   "cell_type": "markdown",
   "metadata": {},
   "source": [
    "### Проверка гипотез"
   ]
  },
  {
   "cell_type": "markdown",
   "metadata": {},
   "source": [
    "Есть задача проверить две основные гипотезы:\n",
    "1) Средняя выручка пользователей тарифов smart и ultra различаются (не имеет значения, в какую сторону) \\\n",
    "2) Средняя выручка пользователей из Москвы и других город различаются (не имеет значения, в какую сторону)"
   ]
  },
  {
   "cell_type": "markdown",
   "metadata": {},
   "source": [
    "Сформулируем нулевую и альтернативную гипотезы для каждого случая на основании того, что среднии выручки равны, альтернативные соответсвенно будут гласить обратное\\\n",
    "Начнём с различий тарифов \n",
    "\n",
    "Н0: Различий между средними выручками нет \\\n",
    "НА: Различия между средними выручками есть (в любую сторону)\n",
    "\n",
    "Для этого используем t-критерий Стьюдента по независимым выборкам \\\n",
    "Пороговое значение примем как 0.05"
   ]
  },
  {
   "cell_type": "code",
   "execution_count": 197,
   "metadata": {},
   "outputs": [],
   "source": [
    "alpha = .05"
   ]
  },
  {
   "cell_type": "code",
   "execution_count": 198,
   "metadata": {},
   "outputs": [
    {
     "name": "stdout",
     "output_type": "stream",
     "text": [
      "\n",
      "p-значение - 1.513773301175091e-178\n",
      "Среднее значение в smart - 1257.5886047554957\n",
      "Среднее значение в ultra - 2070.1522842639592\n"
     ]
    }
   ],
   "source": [
    "result = st.ttest_ind(u_analysis_df['total_rev'], s_analysis_df['total_rev'])\n",
    "\n",
    "print(f'''\n",
    "p-значение - {result[1]}\n",
    "Среднее значение в smart - {np.mean(s_analysis_df['total_rev'])}\n",
    "Среднее значение в ultra - {np.mean(u_analysis_df['total_rev'])}''')"
   ]
  },
  {
   "cell_type": "code",
   "execution_count": 205,
   "metadata": {},
   "outputs": [
    {
     "name": "stdout",
     "output_type": "stream",
     "text": [
      "Нулевая гипотеза не отвергнута\n"
     ]
    }
   ],
   "source": [
    "if result[1] < alpha:\n",
    "    print(\"Нулевая гипотеза отвергнута\")\n",
    "else:\n",
    "    print(\"Нулевая гипотеза не отвергнута\")"
   ]
  },
  {
   "cell_type": "markdown",
   "metadata": {},
   "source": [
    "Можно сделать вывод, что с определённой долей вероятности выручка тарифов различается"
   ]
  },
  {
   "cell_type": "markdown",
   "metadata": {},
   "source": [
    "Перейдём к различию средней выручки между жителями Москвы и других городов\n",
    "\n",
    "Н0: Различий между средними выручками жителей Москвы и других городов нет \\\n",
    "НА: Различия между средними выручками жителей Москвы и других городов есть\n",
    "\n",
    "Применим тот же метод, что и в прошлый раз"
   ]
  },
  {
   "cell_type": "code",
   "execution_count": 200,
   "metadata": {},
   "outputs": [],
   "source": [
    "# Для этого придётся приклеить данные про город\n",
    "analysis_df = analysis_df.merge(users[['user_id', 'city']], left_on='user_id', right_on='user_id')"
   ]
  },
  {
   "cell_type": "code",
   "execution_count": 201,
   "metadata": {},
   "outputs": [],
   "source": [
    "moscow_analysis_df = analysis_df.loc[analysis_df['city'] == 'Москва']\n",
    "not_moscow_analysis_df = analysis_df.loc[analysis_df['city'] != 'Москва']"
   ]
  },
  {
   "cell_type": "code",
   "execution_count": 202,
   "metadata": {},
   "outputs": [
    {
     "name": "stdout",
     "output_type": "stream",
     "text": [
      "\n",
      "p-значение - 0.4836504757759247\n",
      "Среднее значение в Москве - 1526.8379705400982\n",
      "Среднее значение не в Москве - 1501.8697656550135 \n"
     ]
    }
   ],
   "source": [
    "result = st.ttest_ind(moscow_analysis_df['total_rev'] \n",
    "                      ,not_moscow_analysis_df['total_rev'])\n",
    "\n",
    "print(f'''\n",
    "p-значение - {result[1]}\n",
    "Среднее значение в Москве - {np.mean(moscow_analysis_df['total_rev'])}\n",
    "Среднее значение не в Москве - {np.mean(not_moscow_analysis_df['total_rev'])} ''')"
   ]
  },
  {
   "cell_type": "code",
   "execution_count": 204,
   "metadata": {},
   "outputs": [
    {
     "name": "stdout",
     "output_type": "stream",
     "text": [
      "Нулевая гипотеза не отвергнута\n"
     ]
    }
   ],
   "source": [
    "if result[1] < alpha:\n",
    "    print(\"Нулевая гипотеза отвергнута\")\n",
    "else:\n",
    "    print(\"Нулевая гипотеза не отвергнута\")"
   ]
  },
  {
   "cell_type": "markdown",
   "metadata": {},
   "source": [
    "Можно сделать вывод, что как таковой разницы между средними выручками нет"
   ]
  },
  {
   "cell_type": "markdown",
   "metadata": {},
   "source": [
    "## Общий вывод"
   ]
  },
  {
   "cell_type": "markdown",
   "metadata": {},
   "source": [
    "Из проведённого исследования можно сделать следующие выводы:\n",
    "\n",
    "1) Пользователи тарифа ultra менее охотно выходят за рамки лимита, чем пользователи smart. Это может быть связано с более гораздо более широким лимитом \\\n",
    "2) В среднем выходят за рамки лимита только пользователи smart в категории трафика \\\n",
    "3) Пользователи ultra приносят нам больше выручки \\\n",
    "4) Нет явных статистических различий между выручками пользователей из Москвы и из других городов \\\n",
    "5) Сообщения не пользуются популярностью ни у одного тарифа\n",
    "\n",
    "Обобщая всё вышесказанное можно заключить - тариф ultra для компании выгоднее, т.к. в среднем выручка с него больше, а затраты на обслуживание (имеется ввиду, что каждый потраченный пользователем мегабайт, минута и т.д. стоят для компании определённых расходов на поддержание работоспосбности инфраструктуры) не намного больше"
   ]
  }
 ],
 "metadata": {
  "ExecuteTimeLog": [
   {
    "duration": 1909,
    "start_time": "2022-05-27T08:39:01.805Z"
   },
   {
    "duration": 235,
    "start_time": "2022-05-27T08:40:29.356Z"
   },
   {
    "duration": 956,
    "start_time": "2022-05-27T08:42:37.854Z"
   },
   {
    "duration": 4,
    "start_time": "2022-05-27T08:43:29.753Z"
   },
   {
    "duration": 26,
    "start_time": "2022-05-27T08:43:37.730Z"
   },
   {
    "duration": 83,
    "start_time": "2022-05-27T08:44:32.735Z"
   },
   {
    "duration": 3,
    "start_time": "2022-05-27T08:45:16.467Z"
   },
   {
    "duration": 134,
    "start_time": "2022-05-27T08:45:19.155Z"
   },
   {
    "duration": 12,
    "start_time": "2022-05-27T08:45:35.394Z"
   },
   {
    "duration": 3,
    "start_time": "2022-05-27T08:45:38.657Z"
   },
   {
    "duration": 77,
    "start_time": "2022-05-27T08:45:40.104Z"
   },
   {
    "duration": 92,
    "start_time": "2022-05-28T07:33:16.581Z"
   },
   {
    "duration": 1470,
    "start_time": "2022-05-28T07:33:24.114Z"
   },
   {
    "duration": 1491,
    "start_time": "2022-05-28T07:33:28.474Z"
   },
   {
    "duration": 3,
    "start_time": "2022-05-28T07:33:30.833Z"
   },
   {
    "duration": 162,
    "start_time": "2022-05-28T07:33:31.547Z"
   },
   {
    "duration": 176,
    "start_time": "2022-05-28T07:33:55.877Z"
   },
   {
    "duration": 226,
    "start_time": "2022-05-28T07:34:05.210Z"
   },
   {
    "duration": 151,
    "start_time": "2022-05-28T07:34:18.881Z"
   },
   {
    "duration": 163,
    "start_time": "2022-05-28T07:34:26.213Z"
   },
   {
    "duration": 155,
    "start_time": "2022-05-28T07:34:54.341Z"
   },
   {
    "duration": 107,
    "start_time": "2022-05-28T07:43:25.000Z"
   },
   {
    "duration": 103,
    "start_time": "2022-05-28T07:43:32.785Z"
   },
   {
    "duration": 20,
    "start_time": "2022-05-28T07:44:36.812Z"
   },
   {
    "duration": 94,
    "start_time": "2022-05-28T07:44:53.574Z"
   },
   {
    "duration": 26,
    "start_time": "2022-05-28T07:45:10.293Z"
   },
   {
    "duration": 7,
    "start_time": "2022-05-28T07:49:20.804Z"
   },
   {
    "duration": 26,
    "start_time": "2022-05-28T07:49:35.003Z"
   },
   {
    "duration": 40,
    "start_time": "2022-05-28T07:49:39.433Z"
   },
   {
    "duration": 49,
    "start_time": "2022-05-28T07:49:48.562Z"
   },
   {
    "duration": 180,
    "start_time": "2022-05-28T07:49:51.603Z"
   },
   {
    "duration": 30,
    "start_time": "2022-05-28T07:54:36.613Z"
   },
   {
    "duration": 77,
    "start_time": "2022-05-28T07:55:32.005Z"
   },
   {
    "duration": 67,
    "start_time": "2022-05-28T07:55:38.323Z"
   },
   {
    "duration": 33,
    "start_time": "2022-05-28T07:56:01.226Z"
   },
   {
    "duration": 4,
    "start_time": "2022-05-28T07:56:16.180Z"
   },
   {
    "duration": 4,
    "start_time": "2022-05-28T07:56:28.685Z"
   },
   {
    "duration": 61,
    "start_time": "2022-05-28T07:56:55.211Z"
   },
   {
    "duration": 44,
    "start_time": "2022-05-28T08:34:35.159Z"
   },
   {
    "duration": 31,
    "start_time": "2022-05-28T08:58:41.424Z"
   },
   {
    "duration": 17,
    "start_time": "2022-05-28T08:58:47.397Z"
   },
   {
    "duration": 12,
    "start_time": "2022-05-28T08:58:53.678Z"
   },
   {
    "duration": 5,
    "start_time": "2022-05-28T09:00:07.287Z"
   },
   {
    "duration": 5,
    "start_time": "2022-05-28T09:00:13.500Z"
   },
   {
    "duration": 58,
    "start_time": "2022-05-28T09:01:53.852Z"
   },
   {
    "duration": 21,
    "start_time": "2022-05-28T09:02:23.176Z"
   },
   {
    "duration": 29,
    "start_time": "2022-05-28T09:02:28.641Z"
   },
   {
    "duration": 20,
    "start_time": "2022-05-28T09:02:36.969Z"
   },
   {
    "duration": 6,
    "start_time": "2022-05-28T09:03:48.952Z"
   },
   {
    "duration": 63,
    "start_time": "2022-05-28T09:04:36.744Z"
   },
   {
    "duration": 59,
    "start_time": "2022-05-28T09:04:47.901Z"
   },
   {
    "duration": 70,
    "start_time": "2022-05-28T09:05:01.025Z"
   },
   {
    "duration": 64,
    "start_time": "2022-05-28T09:05:07.722Z"
   },
   {
    "duration": 28,
    "start_time": "2022-05-28T09:16:08.691Z"
   },
   {
    "duration": 6,
    "start_time": "2022-05-28T09:17:01.099Z"
   },
   {
    "duration": 4,
    "start_time": "2022-05-28T09:17:08.518Z"
   },
   {
    "duration": 13,
    "start_time": "2022-05-28T09:17:12.536Z"
   },
   {
    "duration": 468,
    "start_time": "2022-05-28T09:17:19.480Z"
   },
   {
    "duration": 24,
    "start_time": "2022-05-28T09:18:18.349Z"
   },
   {
    "duration": 25,
    "start_time": "2022-05-28T09:19:00.902Z"
   },
   {
    "duration": 7,
    "start_time": "2022-05-28T09:20:55.284Z"
   },
   {
    "duration": 7,
    "start_time": "2022-05-28T09:21:12.827Z"
   },
   {
    "duration": 5,
    "start_time": "2022-05-28T09:21:17.008Z"
   },
   {
    "duration": 5,
    "start_time": "2022-05-28T09:21:28.813Z"
   },
   {
    "duration": 8,
    "start_time": "2022-05-28T09:21:34.426Z"
   },
   {
    "duration": 1312,
    "start_time": "2022-05-29T10:13:59.341Z"
   },
   {
    "duration": 1009,
    "start_time": "2022-05-29T10:14:00.655Z"
   },
   {
    "duration": 41,
    "start_time": "2022-05-29T10:14:01.666Z"
   },
   {
    "duration": 33,
    "start_time": "2022-05-29T10:14:01.709Z"
   },
   {
    "duration": 17,
    "start_time": "2022-05-29T10:14:01.744Z"
   },
   {
    "duration": 75,
    "start_time": "2022-05-29T10:14:01.763Z"
   },
   {
    "duration": 55,
    "start_time": "2022-05-29T10:14:01.840Z"
   },
   {
    "duration": 7,
    "start_time": "2022-05-29T10:14:01.897Z"
   },
   {
    "duration": 91,
    "start_time": "2022-05-29T10:14:01.906Z"
   },
   {
    "duration": 42,
    "start_time": "2022-05-29T10:14:01.999Z"
   },
   {
    "duration": 15,
    "start_time": "2022-05-29T10:14:02.043Z"
   },
   {
    "duration": 37,
    "start_time": "2022-05-29T10:35:46.441Z"
   },
   {
    "duration": 35,
    "start_time": "2022-05-29T10:36:11.183Z"
   },
   {
    "duration": 23,
    "start_time": "2022-05-29T10:36:52.289Z"
   },
   {
    "duration": 20,
    "start_time": "2022-05-29T10:37:26.489Z"
   },
   {
    "duration": 5,
    "start_time": "2022-05-29T10:37:27.082Z"
   },
   {
    "duration": 20,
    "start_time": "2022-05-29T10:38:05.917Z"
   },
   {
    "duration": 21,
    "start_time": "2022-05-29T10:55:13.650Z"
   },
   {
    "duration": 492,
    "start_time": "2022-05-29T10:55:53.457Z"
   },
   {
    "duration": 7,
    "start_time": "2022-05-29T10:56:00.455Z"
   },
   {
    "duration": 7,
    "start_time": "2022-05-29T10:56:43.700Z"
   },
   {
    "duration": 4,
    "start_time": "2022-05-29T10:56:55.679Z"
   },
   {
    "duration": 4,
    "start_time": "2022-05-29T10:57:40.646Z"
   },
   {
    "duration": 6,
    "start_time": "2022-05-29T10:57:41.749Z"
   },
   {
    "duration": 5,
    "start_time": "2022-05-29T10:57:42.449Z"
   },
   {
    "duration": 5,
    "start_time": "2022-05-29T11:00:17.416Z"
   },
   {
    "duration": 12,
    "start_time": "2022-05-29T11:00:53.640Z"
   },
   {
    "duration": 4,
    "start_time": "2022-05-29T11:01:00.553Z"
   },
   {
    "duration": 3,
    "start_time": "2022-05-29T11:01:23.205Z"
   },
   {
    "duration": 11,
    "start_time": "2022-05-29T11:01:30.168Z"
   },
   {
    "duration": 11,
    "start_time": "2022-05-29T11:01:36.016Z"
   },
   {
    "duration": 9,
    "start_time": "2022-05-29T11:01:45.587Z"
   },
   {
    "duration": 8,
    "start_time": "2022-05-29T11:02:06.787Z"
   },
   {
    "duration": 8,
    "start_time": "2022-05-29T11:08:56.923Z"
   },
   {
    "duration": 3,
    "start_time": "2022-05-29T11:09:02.844Z"
   },
   {
    "duration": 6,
    "start_time": "2022-05-29T11:09:14.268Z"
   },
   {
    "duration": 9,
    "start_time": "2022-05-29T11:09:41.674Z"
   },
   {
    "duration": 12,
    "start_time": "2022-05-29T11:09:44.568Z"
   },
   {
    "duration": 6,
    "start_time": "2022-05-29T11:09:46.902Z"
   },
   {
    "duration": 5,
    "start_time": "2022-05-29T11:10:01.108Z"
   },
   {
    "duration": 5,
    "start_time": "2022-05-29T11:10:22.807Z"
   },
   {
    "duration": 5,
    "start_time": "2022-05-29T11:11:45.148Z"
   },
   {
    "duration": 23,
    "start_time": "2022-05-29T11:12:09.677Z"
   },
   {
    "duration": 9,
    "start_time": "2022-05-29T11:12:19.324Z"
   },
   {
    "duration": 11,
    "start_time": "2022-05-29T11:14:00.405Z"
   },
   {
    "duration": 5,
    "start_time": "2022-05-29T11:26:07.920Z"
   },
   {
    "duration": 1252,
    "start_time": "2022-05-29T11:27:59.179Z"
   },
   {
    "duration": 13,
    "start_time": "2022-05-29T11:28:07.356Z"
   },
   {
    "duration": 5,
    "start_time": "2022-05-29T11:28:19.992Z"
   },
   {
    "duration": 6,
    "start_time": "2022-05-29T11:28:24.347Z"
   },
   {
    "duration": 6,
    "start_time": "2022-05-29T11:28:40.412Z"
   },
   {
    "duration": 10,
    "start_time": "2022-05-29T11:30:47.519Z"
   },
   {
    "duration": 14,
    "start_time": "2022-05-29T11:30:50.696Z"
   },
   {
    "duration": 9,
    "start_time": "2022-05-29T11:32:07.231Z"
   },
   {
    "duration": 12,
    "start_time": "2022-05-29T11:32:07.719Z"
   },
   {
    "duration": 6,
    "start_time": "2022-05-29T11:32:13.073Z"
   },
   {
    "duration": 13,
    "start_time": "2022-05-29T11:32:13.979Z"
   },
   {
    "duration": 4,
    "start_time": "2022-05-29T11:32:19.324Z"
   },
   {
    "duration": 12,
    "start_time": "2022-05-29T11:32:19.909Z"
   },
   {
    "duration": 6,
    "start_time": "2022-05-29T11:35:06.784Z"
   },
   {
    "duration": 10,
    "start_time": "2022-05-29T11:35:32.842Z"
   },
   {
    "duration": 68,
    "start_time": "2022-05-29T11:35:42.883Z"
   },
   {
    "duration": 5,
    "start_time": "2022-05-29T11:36:42.476Z"
   },
   {
    "duration": 13,
    "start_time": "2022-05-29T11:37:27.112Z"
   },
   {
    "duration": 27,
    "start_time": "2022-05-29T11:38:30.690Z"
   },
   {
    "duration": 40,
    "start_time": "2022-05-29T11:38:48.444Z"
   },
   {
    "duration": 57,
    "start_time": "2022-05-29T11:38:57.087Z"
   },
   {
    "duration": 695,
    "start_time": "2022-05-29T11:39:02.283Z"
   },
   {
    "duration": 45,
    "start_time": "2022-05-29T11:39:39.148Z"
   },
   {
    "duration": 24,
    "start_time": "2022-05-29T11:39:44.706Z"
   },
   {
    "duration": 17,
    "start_time": "2022-05-29T11:39:47.723Z"
   },
   {
    "duration": 13,
    "start_time": "2022-05-29T11:40:25.382Z"
   },
   {
    "duration": 19,
    "start_time": "2022-05-29T11:40:34.351Z"
   },
   {
    "duration": 4,
    "start_time": "2022-05-29T11:40:37.719Z"
   },
   {
    "duration": 59,
    "start_time": "2022-05-29T11:41:02.391Z"
   },
   {
    "duration": 553,
    "start_time": "2022-05-29T11:47:45.404Z"
   },
   {
    "duration": 63,
    "start_time": "2022-05-29T11:50:53.649Z"
   },
   {
    "duration": 91,
    "start_time": "2022-05-29T11:51:47.056Z"
   },
   {
    "duration": 2923,
    "start_time": "2022-05-29T11:51:51.304Z"
   },
   {
    "duration": 1313,
    "start_time": "2022-05-29T11:51:54.229Z"
   },
   {
    "duration": 56,
    "start_time": "2022-05-29T11:51:55.544Z"
   },
   {
    "duration": 55,
    "start_time": "2022-05-29T11:51:55.602Z"
   },
   {
    "duration": 13,
    "start_time": "2022-05-29T11:51:55.661Z"
   },
   {
    "duration": 109,
    "start_time": "2022-05-29T11:51:55.676Z"
   },
   {
    "duration": 60,
    "start_time": "2022-05-29T11:51:55.788Z"
   },
   {
    "duration": 3,
    "start_time": "2022-05-29T11:51:55.851Z"
   },
   {
    "duration": 60,
    "start_time": "2022-05-29T11:51:55.855Z"
   },
   {
    "duration": 25,
    "start_time": "2022-05-29T11:51:55.918Z"
   },
   {
    "duration": 6,
    "start_time": "2022-05-29T11:51:55.945Z"
   },
   {
    "duration": 48,
    "start_time": "2022-05-29T11:51:55.952Z"
   },
   {
    "duration": 40,
    "start_time": "2022-05-29T11:51:56.002Z"
   },
   {
    "duration": 37,
    "start_time": "2022-05-29T11:51:56.044Z"
   },
   {
    "duration": 20,
    "start_time": "2022-05-29T11:51:56.083Z"
   },
   {
    "duration": 20,
    "start_time": "2022-05-29T11:51:56.105Z"
   },
   {
    "duration": 20,
    "start_time": "2022-05-29T11:51:56.128Z"
   },
   {
    "duration": 35,
    "start_time": "2022-05-29T11:51:56.166Z"
   },
   {
    "duration": 13,
    "start_time": "2022-05-29T11:51:56.202Z"
   },
   {
    "duration": 10,
    "start_time": "2022-05-29T11:51:56.216Z"
   },
   {
    "duration": 52,
    "start_time": "2022-05-29T11:51:56.228Z"
   },
   {
    "duration": 26,
    "start_time": "2022-05-29T11:51:56.287Z"
   },
   {
    "duration": 16,
    "start_time": "2022-05-29T11:51:56.315Z"
   },
   {
    "duration": 23,
    "start_time": "2022-05-29T11:51:56.333Z"
   },
   {
    "duration": 47,
    "start_time": "2022-05-29T11:51:56.358Z"
   },
   {
    "duration": 34,
    "start_time": "2022-05-29T11:51:56.407Z"
   },
   {
    "duration": 3426,
    "start_time": "2022-05-29T11:52:22.007Z"
   },
   {
    "duration": 1431,
    "start_time": "2022-05-29T11:52:25.435Z"
   },
   {
    "duration": 66,
    "start_time": "2022-05-29T11:52:26.872Z"
   },
   {
    "duration": 64,
    "start_time": "2022-05-29T11:52:26.940Z"
   },
   {
    "duration": 7,
    "start_time": "2022-05-29T11:52:27.007Z"
   },
   {
    "duration": 119,
    "start_time": "2022-05-29T11:52:27.016Z"
   },
   {
    "duration": 84,
    "start_time": "2022-05-29T11:52:27.137Z"
   },
   {
    "duration": 5,
    "start_time": "2022-05-29T11:52:27.225Z"
   },
   {
    "duration": 100,
    "start_time": "2022-05-29T11:52:27.232Z"
   },
   {
    "duration": 69,
    "start_time": "2022-05-29T11:52:27.334Z"
   },
   {
    "duration": 18,
    "start_time": "2022-05-29T11:52:27.405Z"
   },
   {
    "duration": 76,
    "start_time": "2022-05-29T11:52:27.426Z"
   },
   {
    "duration": 70,
    "start_time": "2022-05-29T11:52:27.504Z"
   },
   {
    "duration": 89,
    "start_time": "2022-05-29T11:52:27.577Z"
   },
   {
    "duration": 14,
    "start_time": "2022-05-29T11:52:27.668Z"
   },
   {
    "duration": 56,
    "start_time": "2022-05-29T11:52:27.684Z"
   },
   {
    "duration": 45,
    "start_time": "2022-05-29T11:52:27.741Z"
   },
   {
    "duration": 36,
    "start_time": "2022-05-29T11:52:27.787Z"
   },
   {
    "duration": 11,
    "start_time": "2022-05-29T11:52:27.825Z"
   },
   {
    "duration": 7,
    "start_time": "2022-05-29T11:52:27.838Z"
   },
   {
    "duration": 15,
    "start_time": "2022-05-29T11:52:27.847Z"
   },
   {
    "duration": 46,
    "start_time": "2022-05-29T11:52:27.865Z"
   },
   {
    "duration": 11,
    "start_time": "2022-05-29T11:52:27.913Z"
   },
   {
    "duration": 10,
    "start_time": "2022-05-29T11:52:27.926Z"
   },
   {
    "duration": 7,
    "start_time": "2022-05-29T11:52:27.938Z"
   },
   {
    "duration": 38,
    "start_time": "2022-05-29T11:52:27.947Z"
   },
   {
    "duration": 32,
    "start_time": "2022-05-29T12:22:32.200Z"
   },
   {
    "duration": 38,
    "start_time": "2022-05-29T12:23:48.428Z"
   },
   {
    "duration": 30,
    "start_time": "2022-05-29T12:27:47.387Z"
   },
   {
    "duration": 27,
    "start_time": "2022-05-29T12:27:49.309Z"
   },
   {
    "duration": 126,
    "start_time": "2022-05-29T12:30:24.576Z"
   },
   {
    "duration": 18,
    "start_time": "2022-05-29T12:32:44.123Z"
   },
   {
    "duration": 25,
    "start_time": "2022-05-29T12:32:55.126Z"
   },
   {
    "duration": 24,
    "start_time": "2022-05-29T12:38:51.025Z"
   },
   {
    "duration": 11,
    "start_time": "2022-05-29T12:39:40.976Z"
   },
   {
    "duration": 10,
    "start_time": "2022-05-29T12:40:38.376Z"
   },
   {
    "duration": 27,
    "start_time": "2022-05-29T12:42:27.042Z"
   },
   {
    "duration": 49,
    "start_time": "2022-05-29T12:42:36.360Z"
   },
   {
    "duration": 48,
    "start_time": "2022-05-29T12:42:50.028Z"
   },
   {
    "duration": 42,
    "start_time": "2022-05-29T12:43:31.839Z"
   },
   {
    "duration": 22,
    "start_time": "2022-05-29T12:50:42.529Z"
   },
   {
    "duration": 18,
    "start_time": "2022-05-29T12:50:48.296Z"
   },
   {
    "duration": 21,
    "start_time": "2022-05-29T12:50:51.232Z"
   },
   {
    "duration": 14,
    "start_time": "2022-05-29T12:50:54.930Z"
   },
   {
    "duration": 34,
    "start_time": "2022-05-29T12:52:17.638Z"
   },
   {
    "duration": 33,
    "start_time": "2022-05-29T12:52:19.155Z"
   },
   {
    "duration": 23,
    "start_time": "2022-05-29T12:52:25.794Z"
   },
   {
    "duration": 34,
    "start_time": "2022-05-29T13:01:50.748Z"
   },
   {
    "duration": 23,
    "start_time": "2022-05-29T13:02:40.041Z"
   },
   {
    "duration": 17,
    "start_time": "2022-05-29T13:02:57.625Z"
   },
   {
    "duration": 15,
    "start_time": "2022-05-29T13:03:46.420Z"
   },
   {
    "duration": 30,
    "start_time": "2022-05-29T13:03:53.648Z"
   },
   {
    "duration": 37,
    "start_time": "2022-05-29T13:04:13.192Z"
   },
   {
    "duration": 17,
    "start_time": "2022-05-29T13:04:14.078Z"
   },
   {
    "duration": 18,
    "start_time": "2022-05-29T13:04:37.616Z"
   },
   {
    "duration": 25,
    "start_time": "2022-05-29T13:05:05.304Z"
   },
   {
    "duration": 38,
    "start_time": "2022-05-29T13:05:05.969Z"
   },
   {
    "duration": 18,
    "start_time": "2022-05-29T13:05:06.582Z"
   },
   {
    "duration": 30,
    "start_time": "2022-05-29T13:05:10.793Z"
   },
   {
    "duration": 26,
    "start_time": "2022-05-29T13:05:13.481Z"
   },
   {
    "duration": 37,
    "start_time": "2022-05-29T13:05:53.057Z"
   },
   {
    "duration": 20,
    "start_time": "2022-05-29T13:06:02.883Z"
   },
   {
    "duration": 23,
    "start_time": "2022-05-29T13:30:08.218Z"
   },
   {
    "duration": 21,
    "start_time": "2022-05-29T13:31:13.579Z"
   },
   {
    "duration": 31,
    "start_time": "2022-05-29T13:31:49.940Z"
   },
   {
    "duration": 26,
    "start_time": "2022-05-29T13:40:45.596Z"
   },
   {
    "duration": 10,
    "start_time": "2022-05-29T13:41:07.100Z"
   },
   {
    "duration": 13,
    "start_time": "2022-05-29T13:41:13.688Z"
   },
   {
    "duration": 16,
    "start_time": "2022-05-29T13:41:21.558Z"
   },
   {
    "duration": 10,
    "start_time": "2022-05-29T13:42:54.991Z"
   },
   {
    "duration": 19,
    "start_time": "2022-05-29T13:43:10.506Z"
   },
   {
    "duration": 22,
    "start_time": "2022-05-29T13:43:20.469Z"
   },
   {
    "duration": 28,
    "start_time": "2022-05-29T13:43:34.957Z"
   },
   {
    "duration": 22,
    "start_time": "2022-05-29T13:44:03.930Z"
   },
   {
    "duration": 11,
    "start_time": "2022-05-29T13:44:23.502Z"
   },
   {
    "duration": 23,
    "start_time": "2022-05-29T13:44:26.676Z"
   },
   {
    "duration": 31,
    "start_time": "2022-05-29T13:44:58.843Z"
   },
   {
    "duration": 20,
    "start_time": "2022-05-29T13:45:04.247Z"
   },
   {
    "duration": 31,
    "start_time": "2022-05-29T13:45:04.643Z"
   },
   {
    "duration": 16,
    "start_time": "2022-05-29T13:45:04.953Z"
   },
   {
    "duration": 20,
    "start_time": "2022-05-29T13:45:05.672Z"
   },
   {
    "duration": 592,
    "start_time": "2022-05-29T13:45:06.340Z"
   },
   {
    "duration": 19,
    "start_time": "2022-05-29T13:45:21.392Z"
   },
   {
    "duration": 27,
    "start_time": "2022-05-29T13:45:22.245Z"
   },
   {
    "duration": 20,
    "start_time": "2022-05-29T13:45:22.688Z"
   },
   {
    "duration": 24,
    "start_time": "2022-05-29T13:45:23.722Z"
   },
   {
    "duration": 31,
    "start_time": "2022-05-29T13:46:32.679Z"
   },
   {
    "duration": 26,
    "start_time": "2022-05-29T13:46:54.047Z"
   },
   {
    "duration": 16,
    "start_time": "2022-05-29T13:46:59.701Z"
   },
   {
    "duration": 19,
    "start_time": "2022-05-29T13:47:08.966Z"
   },
   {
    "duration": 17,
    "start_time": "2022-05-29T13:47:18.212Z"
   },
   {
    "duration": 29,
    "start_time": "2022-05-29T13:47:24.769Z"
   },
   {
    "duration": 10,
    "start_time": "2022-05-29T13:47:59.206Z"
   },
   {
    "duration": 8,
    "start_time": "2022-05-29T13:48:17.519Z"
   },
   {
    "duration": 28,
    "start_time": "2022-05-29T13:48:23.786Z"
   },
   {
    "duration": 10,
    "start_time": "2022-05-29T13:48:25.732Z"
   },
   {
    "duration": 16,
    "start_time": "2022-05-29T13:48:38.422Z"
   },
   {
    "duration": 22,
    "start_time": "2022-05-29T14:06:27.196Z"
   },
   {
    "duration": 48,
    "start_time": "2022-05-29T14:06:49.002Z"
   },
   {
    "duration": 3,
    "start_time": "2022-05-29T14:06:59.128Z"
   },
   {
    "duration": 26,
    "start_time": "2022-05-29T14:07:03.699Z"
   },
   {
    "duration": 9,
    "start_time": "2022-05-29T14:07:30.576Z"
   },
   {
    "duration": 6,
    "start_time": "2022-05-29T14:07:51.885Z"
   },
   {
    "duration": 20,
    "start_time": "2022-05-29T14:07:57.988Z"
   },
   {
    "duration": 6,
    "start_time": "2022-05-29T14:08:06.794Z"
   },
   {
    "duration": 24,
    "start_time": "2022-05-29T14:08:08.093Z"
   },
   {
    "duration": 23,
    "start_time": "2022-05-29T14:08:12.628Z"
   },
   {
    "duration": 26,
    "start_time": "2022-05-29T14:08:13.023Z"
   },
   {
    "duration": 15,
    "start_time": "2022-05-29T14:08:13.315Z"
   },
   {
    "duration": 16,
    "start_time": "2022-05-29T14:08:13.825Z"
   },
   {
    "duration": 22,
    "start_time": "2022-05-29T14:08:14.371Z"
   },
   {
    "duration": 17,
    "start_time": "2022-05-29T14:08:14.639Z"
   },
   {
    "duration": 19,
    "start_time": "2022-05-29T14:08:14.778Z"
   },
   {
    "duration": 7,
    "start_time": "2022-05-29T14:08:15.270Z"
   },
   {
    "duration": 17,
    "start_time": "2022-05-29T14:08:15.849Z"
   },
   {
    "duration": 61,
    "start_time": "2022-05-29T14:09:11.995Z"
   },
   {
    "duration": 43,
    "start_time": "2022-05-29T14:09:12.424Z"
   },
   {
    "duration": 33,
    "start_time": "2022-05-29T14:09:13.696Z"
   },
   {
    "duration": 7,
    "start_time": "2022-05-29T14:09:14.782Z"
   },
   {
    "duration": 18,
    "start_time": "2022-05-29T14:09:16.023Z"
   },
   {
    "duration": 61,
    "start_time": "2022-05-29T17:10:52.224Z"
   },
   {
    "duration": 1626,
    "start_time": "2022-05-29T17:10:58.563Z"
   },
   {
    "duration": 1185,
    "start_time": "2022-05-29T17:11:00.191Z"
   },
   {
    "duration": 36,
    "start_time": "2022-05-29T17:11:01.378Z"
   },
   {
    "duration": 35,
    "start_time": "2022-05-29T17:11:01.416Z"
   },
   {
    "duration": 7,
    "start_time": "2022-05-29T17:11:01.453Z"
   },
   {
    "duration": 93,
    "start_time": "2022-05-29T17:11:01.462Z"
   },
   {
    "duration": 37,
    "start_time": "2022-05-29T17:11:01.560Z"
   },
   {
    "duration": 4,
    "start_time": "2022-05-29T17:11:01.598Z"
   },
   {
    "duration": 31,
    "start_time": "2022-05-29T17:11:01.603Z"
   },
   {
    "duration": 40,
    "start_time": "2022-05-29T17:11:01.637Z"
   },
   {
    "duration": 21,
    "start_time": "2022-05-29T17:11:01.679Z"
   },
   {
    "duration": 51,
    "start_time": "2022-05-29T17:11:01.702Z"
   },
   {
    "duration": 38,
    "start_time": "2022-05-29T17:11:01.755Z"
   },
   {
    "duration": 30,
    "start_time": "2022-05-29T17:11:01.795Z"
   },
   {
    "duration": 4,
    "start_time": "2022-05-29T17:11:01.827Z"
   },
   {
    "duration": 37,
    "start_time": "2022-05-29T17:11:01.832Z"
   },
   {
    "duration": 30,
    "start_time": "2022-05-29T17:11:01.871Z"
   },
   {
    "duration": 4,
    "start_time": "2022-05-29T17:11:01.903Z"
   },
   {
    "duration": 9,
    "start_time": "2022-05-29T17:11:01.909Z"
   },
   {
    "duration": 9,
    "start_time": "2022-05-29T17:11:01.919Z"
   },
   {
    "duration": 7,
    "start_time": "2022-05-29T17:11:01.929Z"
   },
   {
    "duration": 7,
    "start_time": "2022-05-29T17:11:01.959Z"
   },
   {
    "duration": 16,
    "start_time": "2022-05-29T17:11:01.968Z"
   },
   {
    "duration": 14,
    "start_time": "2022-05-29T17:11:01.986Z"
   },
   {
    "duration": 83,
    "start_time": "2022-05-29T17:11:02.001Z"
   },
   {
    "duration": 40,
    "start_time": "2022-05-29T17:11:02.086Z"
   },
   {
    "duration": 48,
    "start_time": "2022-05-29T17:11:02.127Z"
   },
   {
    "duration": 7,
    "start_time": "2022-05-29T17:11:02.179Z"
   },
   {
    "duration": 27,
    "start_time": "2022-05-29T17:11:02.187Z"
   },
   {
    "duration": 85,
    "start_time": "2022-05-29T17:11:02.215Z"
   },
   {
    "duration": 8,
    "start_time": "2022-05-29T17:11:16.246Z"
   },
   {
    "duration": 17,
    "start_time": "2022-05-29T17:11:48.187Z"
   },
   {
    "duration": 21,
    "start_time": "2022-05-29T17:12:17.809Z"
   },
   {
    "duration": 5,
    "start_time": "2022-05-29T17:13:45.399Z"
   },
   {
    "duration": 514,
    "start_time": "2022-05-29T17:21:03.208Z"
   },
   {
    "duration": 15,
    "start_time": "2022-05-29T17:21:13.236Z"
   },
   {
    "duration": 374,
    "start_time": "2022-05-29T17:27:59.075Z"
   },
   {
    "duration": 4,
    "start_time": "2022-05-29T17:28:07.572Z"
   },
   {
    "duration": 12,
    "start_time": "2022-05-29T17:28:32.433Z"
   },
   {
    "duration": 7,
    "start_time": "2022-05-29T17:28:41.556Z"
   },
   {
    "duration": 10,
    "start_time": "2022-05-29T17:28:58.556Z"
   },
   {
    "duration": 16,
    "start_time": "2022-05-29T17:29:43.655Z"
   },
   {
    "duration": 6,
    "start_time": "2022-05-29T17:29:49.817Z"
   },
   {
    "duration": 8,
    "start_time": "2022-05-29T17:30:00.503Z"
   },
   {
    "duration": 7,
    "start_time": "2022-05-29T17:30:11.589Z"
   },
   {
    "duration": 3,
    "start_time": "2022-05-29T17:32:20.297Z"
   },
   {
    "duration": 10,
    "start_time": "2022-05-29T17:32:42.200Z"
   },
   {
    "duration": 13,
    "start_time": "2022-05-29T17:32:47.205Z"
   },
   {
    "duration": 60,
    "start_time": "2022-05-29T17:34:49.856Z"
   },
   {
    "duration": 52,
    "start_time": "2022-05-29T17:35:06.094Z"
   },
   {
    "duration": 7,
    "start_time": "2022-05-29T17:35:19.160Z"
   },
   {
    "duration": 43,
    "start_time": "2022-05-29T17:35:20.002Z"
   },
   {
    "duration": 4,
    "start_time": "2022-05-29T17:37:14.819Z"
   },
   {
    "duration": 8,
    "start_time": "2022-05-29T17:37:28.831Z"
   },
   {
    "duration": 4,
    "start_time": "2022-05-29T17:38:27.078Z"
   },
   {
    "duration": 516,
    "start_time": "2022-05-29T17:39:09.377Z"
   },
   {
    "duration": 4,
    "start_time": "2022-05-29T17:39:15.924Z"
   },
   {
    "duration": 4,
    "start_time": "2022-05-29T17:39:26.704Z"
   },
   {
    "duration": 59,
    "start_time": "2022-05-29T17:40:58.573Z"
   },
   {
    "duration": 35,
    "start_time": "2022-05-29T17:42:05.945Z"
   },
   {
    "duration": 4,
    "start_time": "2022-05-29T17:42:31.002Z"
   },
   {
    "duration": 56,
    "start_time": "2022-05-29T17:43:03.046Z"
   },
   {
    "duration": 37,
    "start_time": "2022-05-29T17:43:07.763Z"
   },
   {
    "duration": 45,
    "start_time": "2022-05-29T17:43:22.888Z"
   },
   {
    "duration": 37,
    "start_time": "2022-05-29T17:43:28.293Z"
   },
   {
    "duration": 125,
    "start_time": "2022-05-29T17:43:36.851Z"
   },
   {
    "duration": 468,
    "start_time": "2022-05-29T17:48:22.255Z"
   },
   {
    "duration": 4,
    "start_time": "2022-05-29T17:48:25.997Z"
   },
   {
    "duration": 10,
    "start_time": "2022-05-29T17:52:08.572Z"
   },
   {
    "duration": 20,
    "start_time": "2022-05-29T17:52:28.153Z"
   },
   {
    "duration": 13,
    "start_time": "2022-05-29T17:54:16.020Z"
   },
   {
    "duration": 8,
    "start_time": "2022-05-29T17:55:29.171Z"
   },
   {
    "duration": 426,
    "start_time": "2022-05-29T17:55:29.182Z"
   },
   {
    "duration": 37,
    "start_time": "2022-05-29T17:55:29.610Z"
   },
   {
    "duration": 44,
    "start_time": "2022-05-29T17:55:29.649Z"
   },
   {
    "duration": 6,
    "start_time": "2022-05-29T17:55:29.694Z"
   },
   {
    "duration": 78,
    "start_time": "2022-05-29T17:55:29.702Z"
   },
   {
    "duration": 43,
    "start_time": "2022-05-29T17:55:29.782Z"
   },
   {
    "duration": 3,
    "start_time": "2022-05-29T17:55:29.827Z"
   },
   {
    "duration": 48,
    "start_time": "2022-05-29T17:55:29.832Z"
   },
   {
    "duration": 22,
    "start_time": "2022-05-29T17:55:29.882Z"
   },
   {
    "duration": 6,
    "start_time": "2022-05-29T17:55:29.905Z"
   },
   {
    "duration": 26,
    "start_time": "2022-05-29T17:55:29.912Z"
   },
   {
    "duration": 39,
    "start_time": "2022-05-29T17:55:29.961Z"
   },
   {
    "duration": 18,
    "start_time": "2022-05-29T17:55:30.002Z"
   },
   {
    "duration": 5,
    "start_time": "2022-05-29T17:55:30.022Z"
   },
   {
    "duration": 46,
    "start_time": "2022-05-29T17:55:30.029Z"
   },
   {
    "duration": 51,
    "start_time": "2022-05-29T17:55:30.078Z"
   },
   {
    "duration": 19,
    "start_time": "2022-05-29T17:55:30.131Z"
   },
   {
    "duration": 9,
    "start_time": "2022-05-29T17:55:30.152Z"
   },
   {
    "duration": 19,
    "start_time": "2022-05-29T17:55:30.163Z"
   },
   {
    "duration": 15,
    "start_time": "2022-05-29T17:55:30.184Z"
   },
   {
    "duration": 6,
    "start_time": "2022-05-29T17:55:30.202Z"
   },
   {
    "duration": 18,
    "start_time": "2022-05-29T17:55:30.209Z"
   },
   {
    "duration": 12,
    "start_time": "2022-05-29T17:55:30.229Z"
   },
   {
    "duration": 61,
    "start_time": "2022-05-29T17:55:30.242Z"
   },
   {
    "duration": 30,
    "start_time": "2022-05-29T17:55:30.305Z"
   },
   {
    "duration": 43,
    "start_time": "2022-05-29T17:55:30.337Z"
   },
   {
    "duration": 6,
    "start_time": "2022-05-29T17:55:30.384Z"
   },
   {
    "duration": 8,
    "start_time": "2022-05-29T17:55:30.391Z"
   },
   {
    "duration": 16,
    "start_time": "2022-05-29T17:55:38.568Z"
   },
   {
    "duration": 4,
    "start_time": "2022-05-29T17:56:11.346Z"
   },
   {
    "duration": 9,
    "start_time": "2022-05-29T17:57:07.020Z"
   },
   {
    "duration": 10,
    "start_time": "2022-05-29T17:57:17.143Z"
   },
   {
    "duration": 9,
    "start_time": "2022-05-29T18:00:39.022Z"
   },
   {
    "duration": 11,
    "start_time": "2022-05-29T18:00:52.602Z"
   },
   {
    "duration": 3,
    "start_time": "2022-05-29T18:01:11.321Z"
   },
   {
    "duration": 413,
    "start_time": "2022-05-29T18:01:11.342Z"
   },
   {
    "duration": 42,
    "start_time": "2022-05-29T18:01:11.757Z"
   },
   {
    "duration": 28,
    "start_time": "2022-05-29T18:01:11.801Z"
   },
   {
    "duration": 13,
    "start_time": "2022-05-29T18:01:11.831Z"
   },
   {
    "duration": 110,
    "start_time": "2022-05-29T18:01:11.846Z"
   },
   {
    "duration": 42,
    "start_time": "2022-05-29T18:01:11.958Z"
   },
   {
    "duration": 13,
    "start_time": "2022-05-29T18:01:12.002Z"
   },
   {
    "duration": 59,
    "start_time": "2022-05-29T18:01:12.017Z"
   },
   {
    "duration": 37,
    "start_time": "2022-05-29T18:01:12.077Z"
   },
   {
    "duration": 23,
    "start_time": "2022-05-29T18:01:12.116Z"
   },
   {
    "duration": 32,
    "start_time": "2022-05-29T18:01:12.141Z"
   },
   {
    "duration": 28,
    "start_time": "2022-05-29T18:01:12.174Z"
   },
   {
    "duration": 27,
    "start_time": "2022-05-29T18:01:12.204Z"
   },
   {
    "duration": 5,
    "start_time": "2022-05-29T18:01:12.233Z"
   },
   {
    "duration": 19,
    "start_time": "2022-05-29T18:01:12.260Z"
   },
   {
    "duration": 29,
    "start_time": "2022-05-29T18:01:12.280Z"
   },
   {
    "duration": 4,
    "start_time": "2022-05-29T18:01:12.310Z"
   },
   {
    "duration": 9,
    "start_time": "2022-05-29T18:01:12.316Z"
   },
   {
    "duration": 35,
    "start_time": "2022-05-29T18:01:12.327Z"
   },
   {
    "duration": 35,
    "start_time": "2022-05-29T18:01:12.364Z"
   },
   {
    "duration": 26,
    "start_time": "2022-05-29T18:01:12.400Z"
   },
   {
    "duration": 46,
    "start_time": "2022-05-29T18:01:12.427Z"
   },
   {
    "duration": 45,
    "start_time": "2022-05-29T18:01:12.474Z"
   },
   {
    "duration": 72,
    "start_time": "2022-05-29T18:01:12.521Z"
   },
   {
    "duration": 37,
    "start_time": "2022-05-29T18:01:12.595Z"
   },
   {
    "duration": 59,
    "start_time": "2022-05-29T18:01:12.633Z"
   },
   {
    "duration": 20,
    "start_time": "2022-05-29T18:01:12.693Z"
   },
   {
    "duration": 12,
    "start_time": "2022-05-29T18:01:12.715Z"
   },
   {
    "duration": 55,
    "start_time": "2022-05-29T18:01:12.728Z"
   },
   {
    "duration": 1477,
    "start_time": "2022-05-29T18:01:44.205Z"
   },
   {
    "duration": 473,
    "start_time": "2022-05-29T18:02:11.243Z"
   },
   {
    "duration": 412,
    "start_time": "2022-05-29T18:02:17.262Z"
   },
   {
    "duration": 35,
    "start_time": "2022-05-29T18:02:27.643Z"
   },
   {
    "duration": 437,
    "start_time": "2022-05-29T18:02:33.271Z"
   },
   {
    "duration": 25,
    "start_time": "2022-05-29T18:03:41.496Z"
   },
   {
    "duration": 27,
    "start_time": "2022-05-29T18:03:56.773Z"
   },
   {
    "duration": 39,
    "start_time": "2022-05-29T18:04:25.363Z"
   },
   {
    "duration": 3,
    "start_time": "2022-05-29T18:51:46.630Z"
   },
   {
    "duration": 434,
    "start_time": "2022-05-29T18:51:46.635Z"
   },
   {
    "duration": 40,
    "start_time": "2022-05-29T18:51:47.072Z"
   },
   {
    "duration": 32,
    "start_time": "2022-05-29T18:51:47.114Z"
   },
   {
    "duration": 27,
    "start_time": "2022-05-29T18:51:47.149Z"
   },
   {
    "duration": 77,
    "start_time": "2022-05-29T18:51:47.178Z"
   },
   {
    "duration": 41,
    "start_time": "2022-05-29T18:51:47.257Z"
   },
   {
    "duration": 5,
    "start_time": "2022-05-29T18:51:47.300Z"
   },
   {
    "duration": 33,
    "start_time": "2022-05-29T18:51:47.307Z"
   },
   {
    "duration": 37,
    "start_time": "2022-05-29T18:51:47.342Z"
   },
   {
    "duration": 11,
    "start_time": "2022-05-29T18:51:47.381Z"
   },
   {
    "duration": 35,
    "start_time": "2022-05-29T18:51:47.394Z"
   },
   {
    "duration": 55,
    "start_time": "2022-05-29T18:51:47.433Z"
   },
   {
    "duration": 29,
    "start_time": "2022-05-29T18:51:47.490Z"
   },
   {
    "duration": 5,
    "start_time": "2022-05-29T18:51:47.521Z"
   },
   {
    "duration": 32,
    "start_time": "2022-05-29T18:51:47.528Z"
   },
   {
    "duration": 40,
    "start_time": "2022-05-29T18:51:47.565Z"
   },
   {
    "duration": 4,
    "start_time": "2022-05-29T18:51:47.606Z"
   },
   {
    "duration": 7,
    "start_time": "2022-05-29T18:51:47.611Z"
   },
   {
    "duration": 9,
    "start_time": "2022-05-29T18:51:47.619Z"
   },
   {
    "duration": 10,
    "start_time": "2022-05-29T18:51:47.629Z"
   },
   {
    "duration": 7,
    "start_time": "2022-05-29T18:51:47.640Z"
   },
   {
    "duration": 8,
    "start_time": "2022-05-29T18:51:47.660Z"
   },
   {
    "duration": 17,
    "start_time": "2022-05-29T18:51:47.671Z"
   },
   {
    "duration": 46,
    "start_time": "2022-05-29T18:51:47.689Z"
   },
   {
    "duration": 37,
    "start_time": "2022-05-29T18:51:47.737Z"
   },
   {
    "duration": 39,
    "start_time": "2022-05-29T18:51:47.777Z"
   },
   {
    "duration": 6,
    "start_time": "2022-05-29T18:51:47.818Z"
   },
   {
    "duration": 7,
    "start_time": "2022-05-29T18:51:47.826Z"
   },
   {
    "duration": 13,
    "start_time": "2022-05-29T18:51:55.340Z"
   },
   {
    "duration": 31,
    "start_time": "2022-05-29T18:52:21.456Z"
   },
   {
    "duration": 16,
    "start_time": "2022-05-29T18:53:08.298Z"
   },
   {
    "duration": 4,
    "start_time": "2022-05-29T18:54:08.586Z"
   },
   {
    "duration": 14,
    "start_time": "2022-05-29T18:54:11.919Z"
   },
   {
    "duration": 18,
    "start_time": "2022-05-29T18:54:50.120Z"
   },
   {
    "duration": 8,
    "start_time": "2022-05-29T18:55:01.849Z"
   },
   {
    "duration": 23,
    "start_time": "2022-05-29T18:57:53.306Z"
   },
   {
    "duration": 9,
    "start_time": "2022-05-29T18:58:02.330Z"
   },
   {
    "duration": 8,
    "start_time": "2022-05-29T18:58:13.726Z"
   },
   {
    "duration": 7,
    "start_time": "2022-05-29T18:58:17.535Z"
   },
   {
    "duration": 14,
    "start_time": "2022-05-29T18:58:20.232Z"
   },
   {
    "duration": 6,
    "start_time": "2022-05-29T19:00:32.474Z"
   },
   {
    "duration": 21,
    "start_time": "2022-05-29T19:00:34.376Z"
   },
   {
    "duration": 36,
    "start_time": "2022-05-30T10:31:28.068Z"
   },
   {
    "duration": 65,
    "start_time": "2022-05-30T10:31:32.018Z"
   },
   {
    "duration": 1964,
    "start_time": "2022-05-30T10:31:37.542Z"
   },
   {
    "duration": 1018,
    "start_time": "2022-05-30T10:31:39.509Z"
   },
   {
    "duration": 46,
    "start_time": "2022-05-30T10:31:40.529Z"
   },
   {
    "duration": 52,
    "start_time": "2022-05-30T10:31:40.577Z"
   },
   {
    "duration": 8,
    "start_time": "2022-05-30T10:31:40.633Z"
   },
   {
    "duration": 101,
    "start_time": "2022-05-30T10:31:40.643Z"
   },
   {
    "duration": 32,
    "start_time": "2022-05-30T10:31:40.746Z"
   },
   {
    "duration": 16,
    "start_time": "2022-05-30T10:31:40.780Z"
   },
   {
    "duration": 38,
    "start_time": "2022-05-30T10:31:40.798Z"
   },
   {
    "duration": 36,
    "start_time": "2022-05-30T10:31:40.838Z"
   },
   {
    "duration": 29,
    "start_time": "2022-05-30T10:31:40.875Z"
   },
   {
    "duration": 28,
    "start_time": "2022-05-30T10:31:40.907Z"
   },
   {
    "duration": 63,
    "start_time": "2022-05-30T10:31:40.937Z"
   },
   {
    "duration": 32,
    "start_time": "2022-05-30T10:31:41.005Z"
   },
   {
    "duration": 6,
    "start_time": "2022-05-30T10:31:41.039Z"
   },
   {
    "duration": 23,
    "start_time": "2022-05-30T10:31:41.047Z"
   },
   {
    "duration": 31,
    "start_time": "2022-05-30T10:31:41.095Z"
   },
   {
    "duration": 11,
    "start_time": "2022-05-30T10:31:41.129Z"
   },
   {
    "duration": 15,
    "start_time": "2022-05-30T10:31:41.142Z"
   },
   {
    "duration": 37,
    "start_time": "2022-05-30T10:31:41.160Z"
   },
   {
    "duration": 7,
    "start_time": "2022-05-30T10:31:41.199Z"
   },
   {
    "duration": 14,
    "start_time": "2022-05-30T10:31:41.208Z"
   },
   {
    "duration": 14,
    "start_time": "2022-05-30T10:31:41.224Z"
   },
   {
    "duration": 10,
    "start_time": "2022-05-30T10:31:41.241Z"
   },
   {
    "duration": 103,
    "start_time": "2022-05-30T10:31:41.252Z"
   },
   {
    "duration": 43,
    "start_time": "2022-05-30T10:31:41.357Z"
   },
   {
    "duration": 40,
    "start_time": "2022-05-30T10:31:41.403Z"
   },
   {
    "duration": 7,
    "start_time": "2022-05-30T10:31:41.445Z"
   },
   {
    "duration": 7,
    "start_time": "2022-05-30T10:31:41.454Z"
   },
   {
    "duration": 34,
    "start_time": "2022-05-30T10:31:41.462Z"
   },
   {
    "duration": 27,
    "start_time": "2022-05-30T10:31:41.498Z"
   },
   {
    "duration": 9,
    "start_time": "2022-05-30T10:31:41.528Z"
   },
   {
    "duration": 9,
    "start_time": "2022-05-30T10:31:41.539Z"
   },
   {
    "duration": 0,
    "start_time": "2022-05-30T10:31:41.550Z"
   },
   {
    "duration": 99,
    "start_time": "2022-05-30T10:32:01.473Z"
   },
   {
    "duration": 5,
    "start_time": "2022-05-30T10:32:06.355Z"
   },
   {
    "duration": 30,
    "start_time": "2022-05-30T10:32:11.851Z"
   },
   {
    "duration": 25,
    "start_time": "2022-05-30T10:32:15.430Z"
   },
   {
    "duration": 586,
    "start_time": "2022-05-30T10:35:32.498Z"
   },
   {
    "duration": 30,
    "start_time": "2022-05-30T10:35:40.108Z"
   },
   {
    "duration": 14,
    "start_time": "2022-05-30T10:36:06.138Z"
   },
   {
    "duration": 6,
    "start_time": "2022-05-30T10:36:18.820Z"
   },
   {
    "duration": 242,
    "start_time": "2022-05-30T10:36:39.121Z"
   },
   {
    "duration": 269,
    "start_time": "2022-05-30T10:36:52.727Z"
   },
   {
    "duration": 10,
    "start_time": "2022-05-30T10:37:17.799Z"
   },
   {
    "duration": 21,
    "start_time": "2022-05-30T10:37:37.339Z"
   },
   {
    "duration": 208,
    "start_time": "2022-05-30T10:37:41.166Z"
   },
   {
    "duration": 28,
    "start_time": "2022-05-30T10:37:53.648Z"
   },
   {
    "duration": 253,
    "start_time": "2022-05-30T10:37:58.012Z"
   },
   {
    "duration": 10,
    "start_time": "2022-05-30T10:38:24.666Z"
   },
   {
    "duration": 7,
    "start_time": "2022-05-30T10:38:34.842Z"
   },
   {
    "duration": 9,
    "start_time": "2022-05-30T10:38:43.808Z"
   },
   {
    "duration": 4,
    "start_time": "2022-05-30T10:47:03.033Z"
   },
   {
    "duration": 3,
    "start_time": "2022-05-30T10:47:07.671Z"
   },
   {
    "duration": 3,
    "start_time": "2022-05-30T10:47:11.102Z"
   },
   {
    "duration": 3,
    "start_time": "2022-05-30T10:49:31.762Z"
   },
   {
    "duration": 4,
    "start_time": "2022-05-30T10:49:45.769Z"
   },
   {
    "duration": 4,
    "start_time": "2022-05-30T10:49:49.965Z"
   },
   {
    "duration": 5,
    "start_time": "2022-05-30T10:50:33.071Z"
   },
   {
    "duration": 4,
    "start_time": "2022-05-30T10:52:31.010Z"
   },
   {
    "duration": 4,
    "start_time": "2022-05-30T10:58:05.759Z"
   },
   {
    "duration": 3,
    "start_time": "2022-05-30T10:58:12.088Z"
   },
   {
    "duration": 3,
    "start_time": "2022-05-30T11:00:00.415Z"
   },
   {
    "duration": 5,
    "start_time": "2022-05-30T11:02:52.897Z"
   },
   {
    "duration": 5,
    "start_time": "2022-05-30T11:03:31.643Z"
   },
   {
    "duration": 4,
    "start_time": "2022-05-30T11:07:55.650Z"
   },
   {
    "duration": 8,
    "start_time": "2022-05-30T11:17:46.021Z"
   },
   {
    "duration": 39,
    "start_time": "2022-05-30T11:18:26.326Z"
   },
   {
    "duration": 26,
    "start_time": "2022-05-30T11:18:45.450Z"
   },
   {
    "duration": 23,
    "start_time": "2022-05-30T11:19:08.541Z"
   },
   {
    "duration": 13,
    "start_time": "2022-05-30T11:19:15.901Z"
   },
   {
    "duration": 8,
    "start_time": "2022-05-30T11:19:49.742Z"
   },
   {
    "duration": 18,
    "start_time": "2022-05-30T11:19:55.997Z"
   },
   {
    "duration": 24,
    "start_time": "2022-05-30T11:20:03.928Z"
   },
   {
    "duration": 23,
    "start_time": "2022-05-30T11:20:15.148Z"
   },
   {
    "duration": 16,
    "start_time": "2022-05-30T11:20:31.426Z"
   },
   {
    "duration": 60,
    "start_time": "2022-05-30T11:20:35.384Z"
   },
   {
    "duration": 19,
    "start_time": "2022-05-30T11:20:40.262Z"
   },
   {
    "duration": 16,
    "start_time": "2022-05-30T11:23:37.890Z"
   },
   {
    "duration": 22,
    "start_time": "2022-05-30T11:23:42.344Z"
   },
   {
    "duration": 190,
    "start_time": "2022-05-30T11:27:35.898Z"
   },
   {
    "duration": 29,
    "start_time": "2022-05-30T11:27:51.159Z"
   },
   {
    "duration": 59,
    "start_time": "2022-05-30T11:28:16.409Z"
   },
   {
    "duration": 19,
    "start_time": "2022-05-30T11:28:24.419Z"
   },
   {
    "duration": 32,
    "start_time": "2022-05-30T11:47:55.781Z"
   },
   {
    "duration": 9,
    "start_time": "2022-05-30T11:48:15.113Z"
   },
   {
    "duration": 19,
    "start_time": "2022-05-30T11:48:22.456Z"
   },
   {
    "duration": 17,
    "start_time": "2022-05-30T11:49:40.853Z"
   },
   {
    "duration": 11,
    "start_time": "2022-05-30T11:49:42.994Z"
   },
   {
    "duration": 29,
    "start_time": "2022-05-30T11:49:49.393Z"
   },
   {
    "duration": 8,
    "start_time": "2022-05-30T11:50:34.896Z"
   },
   {
    "duration": 18,
    "start_time": "2022-05-30T11:50:35.656Z"
   },
   {
    "duration": 20,
    "start_time": "2022-05-30T11:50:41.207Z"
   },
   {
    "duration": 13,
    "start_time": "2022-05-30T11:57:11.357Z"
   },
   {
    "duration": 8,
    "start_time": "2022-05-30T11:57:38.358Z"
   },
   {
    "duration": 8,
    "start_time": "2022-05-30T11:58:26.785Z"
   },
   {
    "duration": 9,
    "start_time": "2022-05-30T11:59:20.576Z"
   },
   {
    "duration": 8,
    "start_time": "2022-05-30T12:01:01.730Z"
   },
   {
    "duration": 11,
    "start_time": "2022-05-30T12:01:07.121Z"
   },
   {
    "duration": 4,
    "start_time": "2022-05-30T12:06:58.689Z"
   },
   {
    "duration": 14,
    "start_time": "2022-05-30T12:16:45.894Z"
   },
   {
    "duration": 12,
    "start_time": "2022-05-30T12:17:26.947Z"
   },
   {
    "duration": 11,
    "start_time": "2022-05-30T12:17:39.164Z"
   },
   {
    "duration": 10,
    "start_time": "2022-05-30T12:17:45.065Z"
   },
   {
    "duration": 8,
    "start_time": "2022-05-30T12:17:48.314Z"
   },
   {
    "duration": 8,
    "start_time": "2022-05-30T13:05:24.113Z"
   },
   {
    "duration": 34,
    "start_time": "2022-05-30T17:36:56.132Z"
   },
   {
    "duration": 49,
    "start_time": "2022-05-30T17:37:05.971Z"
   },
   {
    "duration": 1737,
    "start_time": "2022-05-30T17:37:12.657Z"
   },
   {
    "duration": 1036,
    "start_time": "2022-05-30T17:37:14.396Z"
   },
   {
    "duration": 54,
    "start_time": "2022-05-30T17:37:15.437Z"
   },
   {
    "duration": 51,
    "start_time": "2022-05-30T17:37:15.493Z"
   },
   {
    "duration": 6,
    "start_time": "2022-05-30T17:37:15.555Z"
   },
   {
    "duration": 98,
    "start_time": "2022-05-30T17:37:15.562Z"
   },
   {
    "duration": 46,
    "start_time": "2022-05-30T17:37:15.661Z"
   },
   {
    "duration": 4,
    "start_time": "2022-05-30T17:37:15.708Z"
   },
   {
    "duration": 56,
    "start_time": "2022-05-30T17:37:15.714Z"
   },
   {
    "duration": 30,
    "start_time": "2022-05-30T17:37:15.772Z"
   },
   {
    "duration": 7,
    "start_time": "2022-05-30T17:37:15.804Z"
   },
   {
    "duration": 43,
    "start_time": "2022-05-30T17:37:15.812Z"
   },
   {
    "duration": 31,
    "start_time": "2022-05-30T17:37:15.857Z"
   },
   {
    "duration": 21,
    "start_time": "2022-05-30T17:37:15.892Z"
   },
   {
    "duration": 5,
    "start_time": "2022-05-30T17:37:15.916Z"
   },
   {
    "duration": 43,
    "start_time": "2022-05-30T17:37:15.923Z"
   },
   {
    "duration": 25,
    "start_time": "2022-05-30T17:37:15.968Z"
   },
   {
    "duration": 5,
    "start_time": "2022-05-30T17:37:15.994Z"
   },
   {
    "duration": 11,
    "start_time": "2022-05-30T17:37:16.001Z"
   },
   {
    "duration": 7,
    "start_time": "2022-05-30T17:37:16.013Z"
   },
   {
    "duration": 33,
    "start_time": "2022-05-30T17:37:16.022Z"
   },
   {
    "duration": 30,
    "start_time": "2022-05-30T17:37:16.057Z"
   },
   {
    "duration": 10,
    "start_time": "2022-05-30T17:37:16.089Z"
   },
   {
    "duration": 17,
    "start_time": "2022-05-30T17:37:16.100Z"
   },
   {
    "duration": 74,
    "start_time": "2022-05-30T17:37:16.118Z"
   },
   {
    "duration": 45,
    "start_time": "2022-05-30T17:37:16.194Z"
   },
   {
    "duration": 51,
    "start_time": "2022-05-30T17:37:16.241Z"
   },
   {
    "duration": 14,
    "start_time": "2022-05-30T17:37:16.294Z"
   },
   {
    "duration": 7,
    "start_time": "2022-05-30T17:37:16.310Z"
   },
   {
    "duration": 119,
    "start_time": "2022-05-30T17:37:16.319Z"
   },
   {
    "duration": 27,
    "start_time": "2022-05-30T17:37:16.440Z"
   },
   {
    "duration": 8,
    "start_time": "2022-05-30T17:37:16.469Z"
   },
   {
    "duration": 14,
    "start_time": "2022-05-30T17:37:16.479Z"
   },
   {
    "duration": 10,
    "start_time": "2022-05-30T17:37:16.494Z"
   },
   {
    "duration": 9,
    "start_time": "2022-05-30T17:37:16.505Z"
   },
   {
    "duration": 4,
    "start_time": "2022-05-30T17:37:24.519Z"
   },
   {
    "duration": 16,
    "start_time": "2022-05-30T17:37:41.279Z"
   },
   {
    "duration": 16,
    "start_time": "2022-05-30T17:37:44.423Z"
   },
   {
    "duration": 4,
    "start_time": "2022-05-30T17:38:04.787Z"
   },
   {
    "duration": 142,
    "start_time": "2022-05-30T17:38:15.738Z"
   },
   {
    "duration": 28,
    "start_time": "2022-05-30T17:38:36.711Z"
   },
   {
    "duration": 98,
    "start_time": "2022-05-30T17:38:42.687Z"
   },
   {
    "duration": 14,
    "start_time": "2022-05-30T17:38:55.212Z"
   },
   {
    "duration": 25,
    "start_time": "2022-05-30T17:39:02.277Z"
   },
   {
    "duration": 31,
    "start_time": "2022-05-30T17:39:04.776Z"
   },
   {
    "duration": 12,
    "start_time": "2022-05-30T17:39:28.870Z"
   },
   {
    "duration": 12,
    "start_time": "2022-05-30T17:40:21.314Z"
   },
   {
    "duration": 12,
    "start_time": "2022-05-30T17:41:18.535Z"
   },
   {
    "duration": 12,
    "start_time": "2022-05-30T17:46:48.969Z"
   },
   {
    "duration": 23,
    "start_time": "2022-05-30T17:47:28.471Z"
   },
   {
    "duration": 22,
    "start_time": "2022-05-30T17:52:52.860Z"
   },
   {
    "duration": 26,
    "start_time": "2022-05-30T17:53:09.798Z"
   },
   {
    "duration": 31,
    "start_time": "2022-05-30T17:53:33.705Z"
   },
   {
    "duration": 32,
    "start_time": "2022-05-30T17:56:31.201Z"
   },
   {
    "duration": 9,
    "start_time": "2022-05-30T17:58:14.257Z"
   },
   {
    "duration": 3,
    "start_time": "2022-05-30T17:59:31.738Z"
   },
   {
    "duration": 528,
    "start_time": "2022-05-30T17:59:36.508Z"
   },
   {
    "duration": 179,
    "start_time": "2022-05-30T18:08:17.869Z"
   },
   {
    "duration": 169,
    "start_time": "2022-05-30T18:08:41.714Z"
   },
   {
    "duration": 162,
    "start_time": "2022-05-30T18:14:12.441Z"
   },
   {
    "duration": 142,
    "start_time": "2022-05-30T18:14:38.108Z"
   },
   {
    "duration": 147,
    "start_time": "2022-05-30T18:14:43.781Z"
   },
   {
    "duration": 164,
    "start_time": "2022-05-30T18:14:47.681Z"
   },
   {
    "duration": 181,
    "start_time": "2022-05-30T18:14:55.167Z"
   },
   {
    "duration": 166,
    "start_time": "2022-05-30T18:15:04.433Z"
   },
   {
    "duration": 207,
    "start_time": "2022-05-30T18:15:13.896Z"
   },
   {
    "duration": 266,
    "start_time": "2022-05-30T18:15:24.994Z"
   },
   {
    "duration": 174,
    "start_time": "2022-05-30T18:19:03.881Z"
   },
   {
    "duration": 147,
    "start_time": "2022-05-30T18:20:30.199Z"
   },
   {
    "duration": 183,
    "start_time": "2022-05-30T18:21:06.443Z"
   },
   {
    "duration": 162,
    "start_time": "2022-05-30T18:21:24.794Z"
   },
   {
    "duration": 173,
    "start_time": "2022-05-30T18:22:20.634Z"
   },
   {
    "duration": 163,
    "start_time": "2022-05-30T18:24:27.504Z"
   },
   {
    "duration": 197,
    "start_time": "2022-05-30T18:24:42.159Z"
   },
   {
    "duration": 155,
    "start_time": "2022-05-30T18:24:53.294Z"
   },
   {
    "duration": 173,
    "start_time": "2022-05-30T18:25:30.254Z"
   },
   {
    "duration": 3,
    "start_time": "2022-05-30T18:53:07.905Z"
   },
   {
    "duration": 9,
    "start_time": "2022-05-30T18:54:51.079Z"
   },
   {
    "duration": 3,
    "start_time": "2022-05-30T18:54:56.362Z"
   },
   {
    "duration": 8,
    "start_time": "2022-05-30T18:54:57.668Z"
   },
   {
    "duration": 4,
    "start_time": "2022-05-30T18:55:09.074Z"
   },
   {
    "duration": 4,
    "start_time": "2022-05-30T18:55:18.728Z"
   },
   {
    "duration": 5,
    "start_time": "2022-05-30T18:55:23.462Z"
   },
   {
    "duration": 4,
    "start_time": "2022-05-30T18:55:34.738Z"
   },
   {
    "duration": 3,
    "start_time": "2022-05-30T18:56:10.608Z"
   },
   {
    "duration": 3,
    "start_time": "2022-05-30T18:56:39.295Z"
   },
   {
    "duration": 9,
    "start_time": "2022-05-30T19:04:32.550Z"
   },
   {
    "duration": 20,
    "start_time": "2022-05-30T19:04:37.245Z"
   },
   {
    "duration": 11,
    "start_time": "2022-05-30T19:05:04.373Z"
   },
   {
    "duration": 19,
    "start_time": "2022-05-30T19:05:06.250Z"
   },
   {
    "duration": 2,
    "start_time": "2022-05-30T19:05:14.046Z"
   },
   {
    "duration": 466,
    "start_time": "2022-05-30T19:05:14.050Z"
   },
   {
    "duration": 30,
    "start_time": "2022-05-30T19:05:14.518Z"
   },
   {
    "duration": 29,
    "start_time": "2022-05-30T19:05:14.549Z"
   },
   {
    "duration": 5,
    "start_time": "2022-05-30T19:05:14.580Z"
   },
   {
    "duration": 85,
    "start_time": "2022-05-30T19:05:14.587Z"
   },
   {
    "duration": 30,
    "start_time": "2022-05-30T19:05:14.673Z"
   },
   {
    "duration": 5,
    "start_time": "2022-05-30T19:05:14.704Z"
   },
   {
    "duration": 24,
    "start_time": "2022-05-30T19:05:14.710Z"
   },
   {
    "duration": 25,
    "start_time": "2022-05-30T19:05:14.754Z"
   },
   {
    "duration": 4,
    "start_time": "2022-05-30T19:05:14.781Z"
   },
   {
    "duration": 24,
    "start_time": "2022-05-30T19:05:14.787Z"
   },
   {
    "duration": 54,
    "start_time": "2022-05-30T19:05:14.812Z"
   },
   {
    "duration": 19,
    "start_time": "2022-05-30T19:05:14.869Z"
   },
   {
    "duration": 5,
    "start_time": "2022-05-30T19:05:14.889Z"
   },
   {
    "duration": 16,
    "start_time": "2022-05-30T19:05:14.896Z"
   },
   {
    "duration": 48,
    "start_time": "2022-05-30T19:05:14.913Z"
   },
   {
    "duration": 4,
    "start_time": "2022-05-30T19:05:14.963Z"
   },
   {
    "duration": 8,
    "start_time": "2022-05-30T19:05:14.969Z"
   },
   {
    "duration": 8,
    "start_time": "2022-05-30T19:05:14.978Z"
   },
   {
    "duration": 8,
    "start_time": "2022-05-30T19:05:14.987Z"
   },
   {
    "duration": 5,
    "start_time": "2022-05-30T19:05:14.997Z"
   },
   {
    "duration": 15,
    "start_time": "2022-05-30T19:05:15.004Z"
   },
   {
    "duration": 12,
    "start_time": "2022-05-30T19:05:15.020Z"
   },
   {
    "duration": 45,
    "start_time": "2022-05-30T19:05:15.054Z"
   },
   {
    "duration": 30,
    "start_time": "2022-05-30T19:05:15.101Z"
   },
   {
    "duration": 42,
    "start_time": "2022-05-30T19:05:15.133Z"
   },
   {
    "duration": 10,
    "start_time": "2022-05-30T19:05:15.177Z"
   },
   {
    "duration": 5,
    "start_time": "2022-05-30T19:05:15.188Z"
   },
   {
    "duration": 84,
    "start_time": "2022-05-30T19:05:15.195Z"
   },
   {
    "duration": 32,
    "start_time": "2022-05-30T19:05:15.280Z"
   },
   {
    "duration": 8,
    "start_time": "2022-05-30T19:05:15.314Z"
   },
   {
    "duration": 47,
    "start_time": "2022-05-30T19:05:15.324Z"
   },
   {
    "duration": 329,
    "start_time": "2022-05-30T19:05:15.372Z"
   },
   {
    "duration": 183,
    "start_time": "2022-05-30T19:05:15.703Z"
   },
   {
    "duration": 194,
    "start_time": "2022-05-30T19:05:15.888Z"
   },
   {
    "duration": 165,
    "start_time": "2022-05-30T19:05:16.084Z"
   },
   {
    "duration": 184,
    "start_time": "2022-05-30T19:05:16.253Z"
   },
   {
    "duration": 198,
    "start_time": "2022-05-30T19:05:16.438Z"
   },
   {
    "duration": 177,
    "start_time": "2022-05-30T19:05:16.637Z"
   },
   {
    "duration": 179,
    "start_time": "2022-05-30T19:05:16.817Z"
   },
   {
    "duration": 3,
    "start_time": "2022-05-30T19:05:16.997Z"
   },
   {
    "duration": 6,
    "start_time": "2022-05-30T19:05:17.002Z"
   },
   {
    "duration": 10,
    "start_time": "2022-05-30T19:05:17.009Z"
   },
   {
    "duration": 12,
    "start_time": "2022-05-30T19:05:17.021Z"
   },
   {
    "duration": 19,
    "start_time": "2022-05-30T19:05:22.279Z"
   },
   {
    "duration": 30,
    "start_time": "2022-05-30T19:05:43.377Z"
   },
   {
    "duration": 20,
    "start_time": "2022-05-30T19:05:49.663Z"
   },
   {
    "duration": 19,
    "start_time": "2022-05-30T19:05:59.252Z"
   },
   {
    "duration": 21,
    "start_time": "2022-05-30T19:06:18.396Z"
   },
   {
    "duration": 9,
    "start_time": "2022-05-30T19:07:11.594Z"
   },
   {
    "duration": 17,
    "start_time": "2022-05-30T19:07:14.737Z"
   },
   {
    "duration": 11,
    "start_time": "2022-05-30T19:08:15.391Z"
   },
   {
    "duration": 11,
    "start_time": "2022-05-30T19:08:19.171Z"
   },
   {
    "duration": 18,
    "start_time": "2022-05-30T19:08:22.360Z"
   },
   {
    "duration": 32,
    "start_time": "2022-05-30T19:09:26.899Z"
   },
   {
    "duration": 9,
    "start_time": "2022-05-30T19:09:39.788Z"
   },
   {
    "duration": 21,
    "start_time": "2022-05-30T19:11:10.785Z"
   },
   {
    "duration": 33,
    "start_time": "2022-05-30T19:11:51.628Z"
   },
   {
    "duration": 23,
    "start_time": "2022-05-30T19:13:32.544Z"
   },
   {
    "duration": 6,
    "start_time": "2022-05-30T19:14:49.357Z"
   },
   {
    "duration": 5,
    "start_time": "2022-05-30T19:16:35.510Z"
   },
   {
    "duration": 3,
    "start_time": "2022-05-30T19:17:04.900Z"
   },
   {
    "duration": 2,
    "start_time": "2022-05-30T19:26:57.202Z"
   },
   {
    "duration": 437,
    "start_time": "2022-05-30T19:26:57.206Z"
   },
   {
    "duration": 36,
    "start_time": "2022-05-30T19:26:57.645Z"
   },
   {
    "duration": 45,
    "start_time": "2022-05-30T19:26:57.683Z"
   },
   {
    "duration": 25,
    "start_time": "2022-05-30T19:26:57.730Z"
   },
   {
    "duration": 84,
    "start_time": "2022-05-30T19:26:57.757Z"
   },
   {
    "duration": 32,
    "start_time": "2022-05-30T19:26:57.855Z"
   },
   {
    "duration": 4,
    "start_time": "2022-05-30T19:26:57.888Z"
   },
   {
    "duration": 27,
    "start_time": "2022-05-30T19:26:57.894Z"
   },
   {
    "duration": 47,
    "start_time": "2022-05-30T19:26:57.922Z"
   },
   {
    "duration": 5,
    "start_time": "2022-05-30T19:26:57.972Z"
   },
   {
    "duration": 26,
    "start_time": "2022-05-30T19:26:57.978Z"
   },
   {
    "duration": 49,
    "start_time": "2022-05-30T19:26:58.006Z"
   },
   {
    "duration": 19,
    "start_time": "2022-05-30T19:26:58.056Z"
   },
   {
    "duration": 4,
    "start_time": "2022-05-30T19:26:58.076Z"
   },
   {
    "duration": 16,
    "start_time": "2022-05-30T19:26:58.081Z"
   },
   {
    "duration": 19,
    "start_time": "2022-05-30T19:26:58.098Z"
   },
   {
    "duration": 35,
    "start_time": "2022-05-30T19:26:58.119Z"
   },
   {
    "duration": 5,
    "start_time": "2022-05-30T19:26:58.156Z"
   },
   {
    "duration": 7,
    "start_time": "2022-05-30T19:26:58.163Z"
   },
   {
    "duration": 4,
    "start_time": "2022-05-30T19:26:58.172Z"
   },
   {
    "duration": 6,
    "start_time": "2022-05-30T19:26:58.178Z"
   },
   {
    "duration": 7,
    "start_time": "2022-05-30T19:26:58.185Z"
   },
   {
    "duration": 11,
    "start_time": "2022-05-30T19:26:58.193Z"
   },
   {
    "duration": 82,
    "start_time": "2022-05-30T19:26:58.206Z"
   },
   {
    "duration": 29,
    "start_time": "2022-05-30T19:26:58.290Z"
   },
   {
    "duration": 42,
    "start_time": "2022-05-30T19:26:58.320Z"
   },
   {
    "duration": 11,
    "start_time": "2022-05-30T19:26:58.364Z"
   },
   {
    "duration": 5,
    "start_time": "2022-05-30T19:26:58.378Z"
   },
   {
    "duration": 77,
    "start_time": "2022-05-30T19:26:58.384Z"
   },
   {
    "duration": 16,
    "start_time": "2022-05-30T19:26:58.463Z"
   },
   {
    "duration": 12,
    "start_time": "2022-05-30T19:26:58.481Z"
   },
   {
    "duration": 38,
    "start_time": "2022-05-30T19:26:58.494Z"
   },
   {
    "duration": 223,
    "start_time": "2022-05-30T19:26:58.533Z"
   },
   {
    "duration": 189,
    "start_time": "2022-05-30T19:26:58.758Z"
   },
   {
    "duration": 348,
    "start_time": "2022-05-30T19:26:58.948Z"
   },
   {
    "duration": 177,
    "start_time": "2022-05-30T19:26:59.298Z"
   },
   {
    "duration": 208,
    "start_time": "2022-05-30T19:26:59.477Z"
   },
   {
    "duration": 191,
    "start_time": "2022-05-30T19:26:59.687Z"
   },
   {
    "duration": 223,
    "start_time": "2022-05-30T19:26:59.880Z"
   },
   {
    "duration": 192,
    "start_time": "2022-05-30T19:27:00.106Z"
   },
   {
    "duration": 3,
    "start_time": "2022-05-30T19:27:00.299Z"
   },
   {
    "duration": 31,
    "start_time": "2022-05-30T19:27:00.303Z"
   },
   {
    "duration": 25,
    "start_time": "2022-05-30T19:27:00.336Z"
   },
   {
    "duration": 30,
    "start_time": "2022-05-30T19:27:00.363Z"
   },
   {
    "duration": 15,
    "start_time": "2022-05-30T19:27:00.395Z"
   },
   {
    "duration": 31,
    "start_time": "2022-05-30T19:27:00.412Z"
   },
   {
    "duration": 29,
    "start_time": "2022-05-30T19:27:00.445Z"
   },
   {
    "duration": 3,
    "start_time": "2022-05-30T19:27:29.321Z"
   },
   {
    "duration": 4,
    "start_time": "2022-05-30T19:27:33.848Z"
   },
   {
    "duration": 1572,
    "start_time": "2022-05-30T20:49:20.037Z"
   },
   {
    "duration": 443,
    "start_time": "2022-05-30T20:49:25.874Z"
   },
   {
    "duration": 38,
    "start_time": "2022-05-30T20:49:35.412Z"
   },
   {
    "duration": 39,
    "start_time": "2022-05-30T20:49:36.107Z"
   },
   {
    "duration": 6,
    "start_time": "2022-05-30T20:49:36.837Z"
   },
   {
    "duration": 82,
    "start_time": "2022-05-30T20:49:37.069Z"
   },
   {
    "duration": 49,
    "start_time": "2022-05-30T20:49:37.548Z"
   },
   {
    "duration": 5,
    "start_time": "2022-05-30T20:49:37.779Z"
   },
   {
    "duration": 24,
    "start_time": "2022-05-30T20:49:38.031Z"
   },
   {
    "duration": 26,
    "start_time": "2022-05-30T20:49:38.475Z"
   },
   {
    "duration": 10,
    "start_time": "2022-05-30T20:49:38.670Z"
   },
   {
    "duration": 26,
    "start_time": "2022-05-30T20:49:39.197Z"
   },
   {
    "duration": 45,
    "start_time": "2022-05-30T20:49:39.474Z"
   },
   {
    "duration": 28,
    "start_time": "2022-05-30T20:49:40.095Z"
   },
   {
    "duration": 6,
    "start_time": "2022-05-30T20:49:40.292Z"
   },
   {
    "duration": 25,
    "start_time": "2022-05-30T20:49:40.718Z"
   },
   {
    "duration": 22,
    "start_time": "2022-05-30T20:49:41.327Z"
   },
   {
    "duration": 8,
    "start_time": "2022-05-30T20:49:41.552Z"
   },
   {
    "duration": 12,
    "start_time": "2022-05-30T20:49:41.763Z"
   },
   {
    "duration": 6,
    "start_time": "2022-05-30T20:49:41.975Z"
   },
   {
    "duration": 5,
    "start_time": "2022-05-30T20:49:42.410Z"
   },
   {
    "duration": 6,
    "start_time": "2022-05-30T20:49:42.667Z"
   },
   {
    "duration": 13,
    "start_time": "2022-05-30T20:49:42.886Z"
   },
   {
    "duration": 14,
    "start_time": "2022-05-30T20:49:43.340Z"
   },
   {
    "duration": 62,
    "start_time": "2022-05-30T20:49:45.483Z"
   },
   {
    "duration": 41,
    "start_time": "2022-05-30T20:49:46.324Z"
   },
   {
    "duration": 38,
    "start_time": "2022-05-30T20:49:46.684Z"
   },
   {
    "duration": 14,
    "start_time": "2022-05-30T20:49:47.466Z"
   },
   {
    "duration": 7,
    "start_time": "2022-05-30T20:49:47.692Z"
   },
   {
    "duration": 97,
    "start_time": "2022-05-30T20:49:49.537Z"
   },
   {
    "duration": 11,
    "start_time": "2022-05-30T20:50:13.376Z"
   },
   {
    "duration": 33,
    "start_time": "2022-05-30T21:54:39.261Z"
   }
  ],
  "kernelspec": {
   "display_name": "Python 3 (ipykernel)",
   "language": "python",
   "name": "python3"
  },
  "language_info": {
   "codemirror_mode": {
    "name": "ipython",
    "version": 3
   },
   "file_extension": ".py",
   "mimetype": "text/x-python",
   "name": "python",
   "nbconvert_exporter": "python",
   "pygments_lexer": "ipython3",
   "version": "3.9.7"
  },
  "toc": {
   "base_numbering": 1,
   "nav_menu": {},
   "number_sections": true,
   "sideBar": true,
   "skip_h1_title": true,
   "title_cell": "Table of Contents",
   "title_sidebar": "Contents",
   "toc_cell": false,
   "toc_position": {},
   "toc_section_display": true,
   "toc_window_display": false
  }
 },
 "nbformat": 4,
 "nbformat_minor": 2
}

{
 "cells": [
  {
   "cell_type": "markdown",
   "metadata": {
    "id": "sIfNaMOxgFyK"
   },
   "source": [
    "## Исследование данных о российском кинопрокате\n",
    "\n"
   ]
  },
  {
   "cell_type": "markdown",
   "metadata": {},
   "source": [
    "В налачии две таблицы в формате csv с сайта открытых данных Министерства Культуры РФ с различной информацией о прокатных удостоверениях и прокатываемых фильмах \\\n",
    "Необходимо провести структуризацию данных, очистку, приведение к удобному формату \\\n",
    "После возьмёмся за сам анализ \n",
    "\n",
    "Цель проекта - проанализировать фильмы, по которым есть информация в госданных. Особый акцент в исследовании будет стоять на фильмах с господдержкой"
   ]
  },
  {
   "cell_type": "markdown",
   "metadata": {},
   "source": [
    "### Общая информация о датасетах"
   ]
  },
  {
   "cell_type": "code",
   "execution_count": 3,
   "metadata": {},
   "outputs": [],
   "source": [
    "import pandas as pd # Импорт необходимых библиотек, методова и т.д.\n",
    "import numpy as np\n",
    "import matplotlib.pyplot as plt\n",
    "\n",
    "from pymystem3 import Mystem\n",
    "m = Mystem()\n",
    "\n",
    "df_movies = pd.read_csv('/datasets/mkrf_movies.csv')\n",
    "df_shows = pd.read_csv('/datasets/mkrf_shows.csv')"
   ]
  },
  {
   "cell_type": "code",
   "execution_count": 4,
   "metadata": {},
   "outputs": [
    {
     "name": "stdout",
     "output_type": "stream",
     "text": [
      "<class 'pandas.core.frame.DataFrame'>\n",
      "RangeIndex: 7486 entries, 0 to 7485\n",
      "Data columns (total 15 columns):\n",
      "title                    7486 non-null object\n",
      "puNumber                 7486 non-null object\n",
      "show_start_date          7486 non-null object\n",
      "type                     7486 non-null object\n",
      "film_studio              7468 non-null object\n",
      "production_country       7484 non-null object\n",
      "director                 7477 non-null object\n",
      "producer                 6918 non-null object\n",
      "age_restriction          7486 non-null object\n",
      "refundable_support       332 non-null float64\n",
      "nonrefundable_support    332 non-null float64\n",
      "budget                   332 non-null float64\n",
      "financing_source         332 non-null object\n",
      "ratings                  6519 non-null object\n",
      "genres                   6510 non-null object\n",
      "dtypes: float64(3), object(12)\n",
      "memory usage: 877.4+ KB\n"
     ]
    },
    {
     "data": {
      "text/plain": [
       "None"
      ]
     },
     "metadata": {},
     "output_type": "display_data"
    },
    {
     "name": "stdout",
     "output_type": "stream",
     "text": [
      "<class 'pandas.core.frame.DataFrame'>\n",
      "RangeIndex: 3158 entries, 0 to 3157\n",
      "Data columns (total 2 columns):\n",
      "puNumber      3158 non-null int64\n",
      "box_office    3158 non-null float64\n",
      "dtypes: float64(1), int64(1)\n",
      "memory usage: 49.5 KB\n"
     ]
    },
    {
     "data": {
      "text/plain": [
       "None"
      ]
     },
     "metadata": {},
     "output_type": "display_data"
    }
   ],
   "source": [
    "display(df_movies.info()) # Общая информация о датасетах\n",
    "display(df_shows.info())"
   ]
  },
  {
   "cell_type": "code",
   "execution_count": 5,
   "metadata": {},
   "outputs": [
    {
     "data": {
      "text/html": [
       "<div>\n",
       "<style scoped>\n",
       "    .dataframe tbody tr th:only-of-type {\n",
       "        vertical-align: middle;\n",
       "    }\n",
       "\n",
       "    .dataframe tbody tr th {\n",
       "        vertical-align: top;\n",
       "    }\n",
       "\n",
       "    .dataframe thead th {\n",
       "        text-align: right;\n",
       "    }\n",
       "</style>\n",
       "<table border=\"1\" class=\"dataframe\">\n",
       "  <thead>\n",
       "    <tr style=\"text-align: right;\">\n",
       "      <th></th>\n",
       "      <th>title</th>\n",
       "      <th>puNumber</th>\n",
       "      <th>show_start_date</th>\n",
       "      <th>type</th>\n",
       "      <th>film_studio</th>\n",
       "      <th>production_country</th>\n",
       "      <th>director</th>\n",
       "      <th>producer</th>\n",
       "      <th>age_restriction</th>\n",
       "      <th>refundable_support</th>\n",
       "      <th>nonrefundable_support</th>\n",
       "      <th>budget</th>\n",
       "      <th>financing_source</th>\n",
       "      <th>ratings</th>\n",
       "      <th>genres</th>\n",
       "    </tr>\n",
       "  </thead>\n",
       "  <tbody>\n",
       "    <tr>\n",
       "      <td>0</td>\n",
       "      <td>Открытый простор</td>\n",
       "      <td>221048915</td>\n",
       "      <td>2015-11-27T12:00:00.000Z</td>\n",
       "      <td>Художественный</td>\n",
       "      <td>Тачстоун Пикчерз, Кобальт Пикчерз, Бикон Пикче...</td>\n",
       "      <td>США</td>\n",
       "      <td>Кевин Костнер</td>\n",
       "      <td>Дэвид Валдес, Кевин Костнер, Джейк Эбертс</td>\n",
       "      <td>«18+» - запрещено для детей</td>\n",
       "      <td>NaN</td>\n",
       "      <td>NaN</td>\n",
       "      <td>NaN</td>\n",
       "      <td>NaN</td>\n",
       "      <td>7.2</td>\n",
       "      <td>боевик,драма,мелодрама</td>\n",
       "    </tr>\n",
       "    <tr>\n",
       "      <td>1</td>\n",
       "      <td>Особо важное задание</td>\n",
       "      <td>111013716</td>\n",
       "      <td>2016-09-13T12:00:00.000Z</td>\n",
       "      <td>Художественный</td>\n",
       "      <td>Киностудия \"Мосфильм\"</td>\n",
       "      <td>СССР</td>\n",
       "      <td>Е.Матвеев</td>\n",
       "      <td>NaN</td>\n",
       "      <td>«6+» - для детей старше 6 лет</td>\n",
       "      <td>NaN</td>\n",
       "      <td>NaN</td>\n",
       "      <td>NaN</td>\n",
       "      <td>NaN</td>\n",
       "      <td>6.6</td>\n",
       "      <td>драма,военный</td>\n",
       "    </tr>\n",
       "    <tr>\n",
       "      <td>2</td>\n",
       "      <td>Особо опасен</td>\n",
       "      <td>221038416</td>\n",
       "      <td>2016-10-10T12:00:00.000Z</td>\n",
       "      <td>Художественный</td>\n",
       "      <td>Юниверсал Пикчерз, Кикстарт Продакшнз, Марк Пл...</td>\n",
       "      <td>США</td>\n",
       "      <td>Тимур Бекмамбетов</td>\n",
       "      <td>Джим Лемли, Джейсон Нетер, Марк Е.Платт, Яйн Смит</td>\n",
       "      <td>«18+» - запрещено для детей</td>\n",
       "      <td>NaN</td>\n",
       "      <td>NaN</td>\n",
       "      <td>NaN</td>\n",
       "      <td>NaN</td>\n",
       "      <td>6.8</td>\n",
       "      <td>фантастика,боевик,триллер</td>\n",
       "    </tr>\n",
       "    <tr>\n",
       "      <td>3</td>\n",
       "      <td>Особо опасен</td>\n",
       "      <td>221026916</td>\n",
       "      <td>2016-06-10T12:00:00.000Z</td>\n",
       "      <td>Художественный</td>\n",
       "      <td>Юниверсал Пикчерз, Кикстарт Продакшнз, Марк Пл...</td>\n",
       "      <td>США</td>\n",
       "      <td>Тимур Бекмамбетов</td>\n",
       "      <td>Джим Лемли, Джейсон Нетер, Марк Е.Платт, Яйн Смит</td>\n",
       "      <td>«18+» - запрещено для детей</td>\n",
       "      <td>NaN</td>\n",
       "      <td>NaN</td>\n",
       "      <td>NaN</td>\n",
       "      <td>NaN</td>\n",
       "      <td>6.8</td>\n",
       "      <td>фантастика,боевик,триллер</td>\n",
       "    </tr>\n",
       "    <tr>\n",
       "      <td>4</td>\n",
       "      <td>Особо опасен</td>\n",
       "      <td>221030815</td>\n",
       "      <td>2015-07-29T12:00:00.000Z</td>\n",
       "      <td>Художественный</td>\n",
       "      <td>Юниверсал Пикчерз, Кикстарт Продакшнз, Марк Пл...</td>\n",
       "      <td>США</td>\n",
       "      <td>Тимур Бекмамбетов</td>\n",
       "      <td>Джим Лемли, Джейсон Нетер, Марк Е.Платт, Яйн Смит</td>\n",
       "      <td>«18+» - запрещено для детей</td>\n",
       "      <td>NaN</td>\n",
       "      <td>NaN</td>\n",
       "      <td>NaN</td>\n",
       "      <td>NaN</td>\n",
       "      <td>6.8</td>\n",
       "      <td>фантастика,боевик,триллер</td>\n",
       "    </tr>\n",
       "  </tbody>\n",
       "</table>\n",
       "</div>"
      ],
      "text/plain": [
       "                  title   puNumber           show_start_date            type  \\\n",
       "0      Открытый простор  221048915  2015-11-27T12:00:00.000Z  Художественный   \n",
       "1  Особо важное задание  111013716  2016-09-13T12:00:00.000Z  Художественный   \n",
       "2          Особо опасен  221038416  2016-10-10T12:00:00.000Z  Художественный   \n",
       "3          Особо опасен  221026916  2016-06-10T12:00:00.000Z  Художественный   \n",
       "4          Особо опасен  221030815  2015-07-29T12:00:00.000Z  Художественный   \n",
       "\n",
       "                                         film_studio production_country  \\\n",
       "0  Тачстоун Пикчерз, Кобальт Пикчерз, Бикон Пикче...                США   \n",
       "1                              Киностудия \"Мосфильм\"               СССР   \n",
       "2  Юниверсал Пикчерз, Кикстарт Продакшнз, Марк Пл...                США   \n",
       "3  Юниверсал Пикчерз, Кикстарт Продакшнз, Марк Пл...                США   \n",
       "4  Юниверсал Пикчерз, Кикстарт Продакшнз, Марк Пл...                США   \n",
       "\n",
       "            director                                           producer  \\\n",
       "0      Кевин Костнер          Дэвид Валдес, Кевин Костнер, Джейк Эбертс   \n",
       "1          Е.Матвеев                                                NaN   \n",
       "2  Тимур Бекмамбетов  Джим Лемли, Джейсон Нетер, Марк Е.Платт, Яйн Смит   \n",
       "3  Тимур Бекмамбетов  Джим Лемли, Джейсон Нетер, Марк Е.Платт, Яйн Смит   \n",
       "4  Тимур Бекмамбетов  Джим Лемли, Джейсон Нетер, Марк Е.Платт, Яйн Смит   \n",
       "\n",
       "                 age_restriction  refundable_support  nonrefundable_support  \\\n",
       "0    «18+» - запрещено для детей                 NaN                    NaN   \n",
       "1  «6+» - для детей старше 6 лет                 NaN                    NaN   \n",
       "2    «18+» - запрещено для детей                 NaN                    NaN   \n",
       "3    «18+» - запрещено для детей                 NaN                    NaN   \n",
       "4    «18+» - запрещено для детей                 NaN                    NaN   \n",
       "\n",
       "   budget financing_source ratings                     genres  \n",
       "0     NaN              NaN     7.2     боевик,драма,мелодрама  \n",
       "1     NaN              NaN     6.6              драма,военный  \n",
       "2     NaN              NaN     6.8  фантастика,боевик,триллер  \n",
       "3     NaN              NaN     6.8  фантастика,боевик,триллер  \n",
       "4     NaN              NaN     6.8  фантастика,боевик,триллер  "
      ]
     },
     "metadata": {},
     "output_type": "display_data"
    },
    {
     "data": {
      "text/html": [
       "<div>\n",
       "<style scoped>\n",
       "    .dataframe tbody tr th:only-of-type {\n",
       "        vertical-align: middle;\n",
       "    }\n",
       "\n",
       "    .dataframe tbody tr th {\n",
       "        vertical-align: top;\n",
       "    }\n",
       "\n",
       "    .dataframe thead th {\n",
       "        text-align: right;\n",
       "    }\n",
       "</style>\n",
       "<table border=\"1\" class=\"dataframe\">\n",
       "  <thead>\n",
       "    <tr style=\"text-align: right;\">\n",
       "      <th></th>\n",
       "      <th>puNumber</th>\n",
       "      <th>box_office</th>\n",
       "    </tr>\n",
       "  </thead>\n",
       "  <tbody>\n",
       "    <tr>\n",
       "      <td>0</td>\n",
       "      <td>111000113</td>\n",
       "      <td>2.450000e+03</td>\n",
       "    </tr>\n",
       "    <tr>\n",
       "      <td>1</td>\n",
       "      <td>111000115</td>\n",
       "      <td>6.104000e+04</td>\n",
       "    </tr>\n",
       "    <tr>\n",
       "      <td>2</td>\n",
       "      <td>111000116</td>\n",
       "      <td>1.530300e+08</td>\n",
       "    </tr>\n",
       "    <tr>\n",
       "      <td>3</td>\n",
       "      <td>111000117</td>\n",
       "      <td>1.226096e+07</td>\n",
       "    </tr>\n",
       "    <tr>\n",
       "      <td>4</td>\n",
       "      <td>111000118</td>\n",
       "      <td>1.636841e+08</td>\n",
       "    </tr>\n",
       "  </tbody>\n",
       "</table>\n",
       "</div>"
      ],
      "text/plain": [
       "    puNumber    box_office\n",
       "0  111000113  2.450000e+03\n",
       "1  111000115  6.104000e+04\n",
       "2  111000116  1.530300e+08\n",
       "3  111000117  1.226096e+07\n",
       "4  111000118  1.636841e+08"
      ]
     },
     "metadata": {},
     "output_type": "display_data"
    }
   ],
   "source": [
    "display(df_movies.head())\n",
    "display(df_shows.head())"
   ]
  },
  {
   "cell_type": "markdown",
   "metadata": {},
   "source": [
    "Видно, что в данных есть пропуски, нейминг только в одном случае требует изменения (puNumber) \\\n",
    "Приступим к объединению таблиц и последующей очистке данных"
   ]
  },
  {
   "cell_type": "code",
   "execution_count": 6,
   "metadata": {
    "id": "dw87FlzMgFyM"
   },
   "outputs": [],
   "source": [
    "df_movies['puNumber'] = pd.to_numeric(df_movies['puNumber'], errors='coerce').fillna(0) # Устраняем возможные ошибки\n",
    "df_movies['puNumber'] = df_movies['puNumber'].astype(int)"
   ]
  },
  {
   "cell_type": "code",
   "execution_count": 7,
   "metadata": {},
   "outputs": [
    {
     "data": {
      "text/html": [
       "<div>\n",
       "<style scoped>\n",
       "    .dataframe tbody tr th:only-of-type {\n",
       "        vertical-align: middle;\n",
       "    }\n",
       "\n",
       "    .dataframe tbody tr th {\n",
       "        vertical-align: top;\n",
       "    }\n",
       "\n",
       "    .dataframe thead th {\n",
       "        text-align: right;\n",
       "    }\n",
       "</style>\n",
       "<table border=\"1\" class=\"dataframe\">\n",
       "  <thead>\n",
       "    <tr style=\"text-align: right;\">\n",
       "      <th></th>\n",
       "      <th>title</th>\n",
       "      <th>puNumber</th>\n",
       "      <th>show_start_date</th>\n",
       "      <th>type</th>\n",
       "      <th>film_studio</th>\n",
       "      <th>production_country</th>\n",
       "      <th>director</th>\n",
       "      <th>producer</th>\n",
       "      <th>age_restriction</th>\n",
       "      <th>refundable_support</th>\n",
       "      <th>nonrefundable_support</th>\n",
       "      <th>budget</th>\n",
       "      <th>financing_source</th>\n",
       "      <th>ratings</th>\n",
       "      <th>genres</th>\n",
       "    </tr>\n",
       "  </thead>\n",
       "  <tbody>\n",
       "    <tr>\n",
       "      <td>1797</td>\n",
       "      <td>Курбан-роман. (История с жертвой)</td>\n",
       "      <td>0</td>\n",
       "      <td>2014-05-15T12:00:00.000Z</td>\n",
       "      <td>Художественный</td>\n",
       "      <td>ФОНД \"ИННОВАЦИЯ\"</td>\n",
       "      <td>Россия</td>\n",
       "      <td>С.Юзеев</td>\n",
       "      <td>М.Галицкая</td>\n",
       "      <td>«12+» - для детей старше 12 лет</td>\n",
       "      <td>NaN</td>\n",
       "      <td>NaN</td>\n",
       "      <td>NaN</td>\n",
       "      <td>NaN</td>\n",
       "      <td>NaN</td>\n",
       "      <td>NaN</td>\n",
       "    </tr>\n",
       "  </tbody>\n",
       "</table>\n",
       "</div>"
      ],
      "text/plain": [
       "                                  title  puNumber           show_start_date  \\\n",
       "1797  Курбан-роман. (История с жертвой)         0  2014-05-15T12:00:00.000Z   \n",
       "\n",
       "                type       film_studio production_country director  \\\n",
       "1797  Художественный  ФОНД \"ИННОВАЦИЯ\"             Россия  С.Юзеев   \n",
       "\n",
       "        producer                  age_restriction  refundable_support  \\\n",
       "1797  М.Галицкая  «12+» - для детей старше 12 лет                 NaN   \n",
       "\n",
       "      nonrefundable_support  budget financing_source ratings genres  \n",
       "1797                    NaN     NaN              NaN     NaN    NaN  "
      ]
     },
     "execution_count": 7,
     "metadata": {},
     "output_type": "execute_result"
    }
   ],
   "source": [
    "df_movies.query('puNumber == 0') # Посмотрим, сколько таких строк есть"
   ]
  },
  {
   "cell_type": "code",
   "execution_count": 8,
   "metadata": {},
   "outputs": [
    {
     "data": {
      "text/plain": [
       "3158"
      ]
     },
     "execution_count": 8,
     "metadata": {},
     "output_type": "execute_result"
    }
   ],
   "source": [
    "list_of_col = list(df_shows['puNumber'])\n",
    "df_movies.query('puNumber.isin(@list_of_col)')['puNumber'].count() #Проверим, все ли номера есть в обоих списках"
   ]
  },
  {
   "cell_type": "code",
   "execution_count": 9,
   "metadata": {},
   "outputs": [],
   "source": [
    "df_full = df_movies.merge(df_shows, on='puNumber', how='outer') # Выбрал метод merge() для слияния"
   ]
  },
  {
   "cell_type": "code",
   "execution_count": 10,
   "metadata": {},
   "outputs": [
    {
     "name": "stdout",
     "output_type": "stream",
     "text": [
      "<class 'pandas.core.frame.DataFrame'>\n",
      "Int64Index: 7486 entries, 0 to 7485\n",
      "Data columns (total 16 columns):\n",
      "title                    7486 non-null object\n",
      "puNumber                 7486 non-null int64\n",
      "show_start_date          7486 non-null object\n",
      "type                     7486 non-null object\n",
      "film_studio              7468 non-null object\n",
      "production_country       7484 non-null object\n",
      "director                 7477 non-null object\n",
      "producer                 6918 non-null object\n",
      "age_restriction          7486 non-null object\n",
      "refundable_support       332 non-null float64\n",
      "nonrefundable_support    332 non-null float64\n",
      "budget                   332 non-null float64\n",
      "financing_source         332 non-null object\n",
      "ratings                  6519 non-null object\n",
      "genres                   6510 non-null object\n",
      "box_office               3158 non-null float64\n",
      "dtypes: float64(4), int64(1), object(11)\n",
      "memory usage: 994.2+ KB\n"
     ]
    }
   ],
   "source": [
    "df_full.info() # Проверим результат"
   ]
  },
  {
   "cell_type": "markdown",
   "metadata": {},
   "source": [
    "Объединив таблицы, можно приступать к работе по очистке данных"
   ]
  },
  {
   "cell_type": "markdown",
   "metadata": {
    "id": "KLDGpPG0gFyM"
   },
   "source": [
    "###  Предобработка данных"
   ]
  },
  {
   "cell_type": "markdown",
   "metadata": {
    "id": "ssWwKXsxgFyO"
   },
   "source": [
    "#### Проверим типы данных\n"
   ]
  },
  {
   "cell_type": "code",
   "execution_count": 11,
   "metadata": {
    "id": "kVGSplJOgFyO"
   },
   "outputs": [
    {
     "data": {
      "text/plain": [
       "0      2015-11-27 12:00:00\n",
       "1      2016-09-13 12:00:00\n",
       "2      2016-10-10 12:00:00\n",
       "3      2016-06-10 12:00:00\n",
       "4      2015-07-29 12:00:00\n",
       "               ...        \n",
       "7481   2019-12-23 12:00:00\n",
       "7482   2019-12-24 12:00:00\n",
       "7483   2019-12-28 12:00:00\n",
       "7484   2019-12-30 12:00:00\n",
       "7485   2019-12-30 12:00:00\n",
       "Name: show_start_date, Length: 7486, dtype: datetime64[ns]"
      ]
     },
     "metadata": {},
     "output_type": "display_data"
    }
   ],
   "source": [
    "df_full['show_start_date'] = pd.to_datetime(df_full['show_start_date'], format='%Y-%m-%dT%H:%M:%S.000Z')\n",
    "display(df_full['show_start_date']) # Поменяли формат на datetime и сразу проверили результат"
   ]
  },
  {
   "cell_type": "code",
   "execution_count": 12,
   "metadata": {},
   "outputs": [],
   "source": [
    "list_of_names = ['refundable_support', 'nonrefundable_support', 'budget', 'box_office']\n",
    "#for name in list_of_names: # Меняем тип данных здесь на int64\n",
    "#   df_full.loc[:,name] = df_full.loc[:,name].apply(lambda x: np.int64(x))\n",
    "#df_full[list_of_names] = df_full[list_of_names].fillna('НЕТ') # Меняем пропуски на строковое значение для корректной замены типа"
   ]
  },
  {
   "cell_type": "code",
   "execution_count": 13,
   "metadata": {
    "scrolled": true
   },
   "outputs": [
    {
     "name": "stderr",
     "output_type": "stream",
     "text": [
      "/opt/conda/lib/python3.7/site-packages/pandas/core/ops/__init__.py:1115: FutureWarning: elementwise comparison failed; returning scalar instead, but in the future will perform elementwise comparison\n",
      "  result = method(y)\n"
     ]
    }
   ],
   "source": [
    "for name in list_of_names: # Меняем тип данных здесь на int\n",
    "    df_full.loc[df_full[name] != \"НЕТ\", name] = np.floor(pd.to_numeric(df_full[name], errors='coerce')).astype('Int64')"
   ]
  },
  {
   "cell_type": "code",
   "execution_count": 14,
   "metadata": {},
   "outputs": [],
   "source": [
    "def rating_col_cleaning(row): #Функция для замены процентных величин в столбце ratings и замены типа данных на float\n",
    "    rating = row['ratings']\n",
    "    if type(rating) == str and '%' in rating:\n",
    "        rating = rating.replace('%', '')\n",
    "        rating = float(rating)/10\n",
    "        return rating\n",
    "    else:\n",
    "        return float(rating)"
   ]
  },
  {
   "cell_type": "code",
   "execution_count": 15,
   "metadata": {},
   "outputs": [],
   "source": [
    "df_full['ratings'] = df_full.apply(rating_col_cleaning, axis=1)"
   ]
  },
  {
   "cell_type": "markdown",
   "metadata": {
    "id": "i0MOLbF-gFyP"
   },
   "source": [
    "####  Посмотрим на пропуски\n"
   ]
  },
  {
   "cell_type": "markdown",
   "metadata": {
    "id": "8MJD_lkngFyP"
   },
   "source": [
    "Пропуски, по большей части, заменять нечем или незачем. Для поставленных задач те столбцы, где есть пропуски, неважны \\\n",
    "Можно предположить, что пропуски в колоках с финансами, бюджетом и боксофисом - отсутствие оного, поэтому заменю в данном случае нулём"
   ]
  },
  {
   "cell_type": "code",
   "execution_count": 16,
   "metadata": {},
   "outputs": [],
   "source": [
    "df_full[list_of_names] = df_full[list_of_names].replace('НЕТ', np.nan) # Вернём NaN на место"
   ]
  },
  {
   "cell_type": "markdown",
   "metadata": {},
   "source": [
    "Касаемо остальных пропусков: \\\n",
    "Столбцы с названием студии, продюссером и режиссёром нам не нужны для поставленных задач, поэтому можно оставить пропуски на месте. (Когда я разберусь с тем, как парсить хотя бы тот же Кинопоиск - можно было бы вытянуть информацию оттуда. Но пока я так не умею) \\\n",
    "Столбцы с господдержкой, бюджетом, сборами и источником финансирования - информации для заполнения нет, вытянуть её неоткуда, средние/медианы и проч. не подходят по природе данных \\\n",
    "Жанры и рейтинги - аналогично с первым случаем"
   ]
  },
  {
   "cell_type": "markdown",
   "metadata": {
    "id": "4c6k1t9ygFyQ"
   },
   "source": [
    "####  Дубликаты"
   ]
  },
  {
   "cell_type": "markdown",
   "metadata": {
    "id": "aKck8RIdgFyQ"
   },
   "source": [
    "Проверять дубликаты есть смысл только в двух столбцах - номер прокатного удостоверения(он должен быть уникален), название фильма(в теории может повторяться) \\\n",
    "Во всех остальных случаях дубликаты возможны по природе данных "
   ]
  },
  {
   "cell_type": "code",
   "execution_count": 17,
   "metadata": {},
   "outputs": [
    {
     "data": {
      "text/plain": [
       "False    7486\n",
       "dtype: int64"
      ]
     },
     "execution_count": 17,
     "metadata": {},
     "output_type": "execute_result"
    }
   ],
   "source": [
    "df_full.duplicated().value_counts() # На всякий случай проверим полных дубликатов"
   ]
  },
  {
   "cell_type": "code",
   "execution_count": 18,
   "metadata": {},
   "outputs": [
    {
     "data": {
      "text/html": [
       "<div>\n",
       "<style scoped>\n",
       "    .dataframe tbody tr th:only-of-type {\n",
       "        vertical-align: middle;\n",
       "    }\n",
       "\n",
       "    .dataframe tbody tr th {\n",
       "        vertical-align: top;\n",
       "    }\n",
       "\n",
       "    .dataframe thead th {\n",
       "        text-align: right;\n",
       "    }\n",
       "</style>\n",
       "<table border=\"1\" class=\"dataframe\">\n",
       "  <thead>\n",
       "    <tr style=\"text-align: right;\">\n",
       "      <th></th>\n",
       "      <th>title</th>\n",
       "      <th>puNumber</th>\n",
       "      <th>show_start_date</th>\n",
       "      <th>type</th>\n",
       "      <th>film_studio</th>\n",
       "      <th>production_country</th>\n",
       "      <th>director</th>\n",
       "      <th>producer</th>\n",
       "      <th>age_restriction</th>\n",
       "      <th>refundable_support</th>\n",
       "      <th>nonrefundable_support</th>\n",
       "      <th>budget</th>\n",
       "      <th>financing_source</th>\n",
       "      <th>ratings</th>\n",
       "      <th>genres</th>\n",
       "      <th>box_office</th>\n",
       "    </tr>\n",
       "  </thead>\n",
       "  <tbody>\n",
       "    <tr>\n",
       "      <td>4639</td>\n",
       "      <td>Иоанна - женщина на папском престоле /По роман...</td>\n",
       "      <td>221154310</td>\n",
       "      <td>2010-12-17 12:00:00</td>\n",
       "      <td>Художественный</td>\n",
       "      <td>Константин Фильм, А Эр Ди Дегето Фильм, Дюне ...</td>\n",
       "      <td>Германия - Великобритания - Италия - Испания</td>\n",
       "      <td>Зенке Вортманн</td>\n",
       "      <td>Оливер Бербен, Дорис Д.Хайнце, Фарук Элтан</td>\n",
       "      <td>«16+» - для детей старше 16 лет</td>\n",
       "      <td>NaN</td>\n",
       "      <td>NaN</td>\n",
       "      <td>NaN</td>\n",
       "      <td>NaN</td>\n",
       "      <td>7.6</td>\n",
       "      <td>драма,мелодрама,история</td>\n",
       "      <td>NaN</td>\n",
       "    </tr>\n",
       "    <tr>\n",
       "      <td>5068</td>\n",
       "      <td>Анализируй то!</td>\n",
       "      <td>221054410</td>\n",
       "      <td>2010-05-25 12:00:00</td>\n",
       "      <td>Художественный</td>\n",
       "      <td>Уорнер Бразерс, Виллидж Роадшоу Пикчерз, Эн-Пи...</td>\n",
       "      <td>США</td>\n",
       "      <td>Гарольд Реймис</td>\n",
       "      <td>Джейн Розенталь, Паул Уэйнстейн</td>\n",
       "      <td>«12+» - для детей старше 12 лет</td>\n",
       "      <td>NaN</td>\n",
       "      <td>NaN</td>\n",
       "      <td>NaN</td>\n",
       "      <td>NaN</td>\n",
       "      <td>6.8</td>\n",
       "      <td>комедия,криминал</td>\n",
       "      <td>NaN</td>\n",
       "    </tr>\n",
       "  </tbody>\n",
       "</table>\n",
       "</div>"
      ],
      "text/plain": [
       "                                                  title   puNumber  \\\n",
       "4639  Иоанна - женщина на папском престоле /По роман...  221154310   \n",
       "5068                                     Анализируй то!  221054410   \n",
       "\n",
       "         show_start_date            type  \\\n",
       "4639 2010-12-17 12:00:00  Художественный   \n",
       "5068 2010-05-25 12:00:00  Художественный   \n",
       "\n",
       "                                            film_studio  \\\n",
       "4639   Константин Фильм, А Эр Ди Дегето Фильм, Дюне ...   \n",
       "5068  Уорнер Бразерс, Виллидж Роадшоу Пикчерз, Эн-Пи...   \n",
       "\n",
       "                                production_country        director  \\\n",
       "4639  Германия - Великобритания - Италия - Испания  Зенке Вортманн   \n",
       "5068                                           США  Гарольд Реймис   \n",
       "\n",
       "                                        producer  \\\n",
       "4639  Оливер Бербен, Дорис Д.Хайнце, Фарук Элтан   \n",
       "5068             Джейн Розенталь, Паул Уэйнстейн   \n",
       "\n",
       "                      age_restriction  refundable_support  \\\n",
       "4639  «16+» - для детей старше 16 лет                 NaN   \n",
       "5068  «12+» - для детей старше 12 лет                 NaN   \n",
       "\n",
       "      nonrefundable_support  budget financing_source  ratings  \\\n",
       "4639                    NaN     NaN              NaN      7.6   \n",
       "5068                    NaN     NaN              NaN      6.8   \n",
       "\n",
       "                       genres  box_office  \n",
       "4639  драма,мелодрама,история         NaN  \n",
       "5068         комедия,криминал         NaN  "
      ]
     },
     "execution_count": 18,
     "metadata": {},
     "output_type": "execute_result"
    }
   ],
   "source": [
    "df_full[df_full.duplicated('puNumber')] # Всего два дубликата. Возможно, что это просто человеческая ошибка при заполнении"
   ]
  },
  {
   "cell_type": "code",
   "execution_count": 19,
   "metadata": {
    "scrolled": true
   },
   "outputs": [
    {
     "data": {
      "text/html": [
       "<div>\n",
       "<style scoped>\n",
       "    .dataframe tbody tr th:only-of-type {\n",
       "        vertical-align: middle;\n",
       "    }\n",
       "\n",
       "    .dataframe tbody tr th {\n",
       "        vertical-align: top;\n",
       "    }\n",
       "\n",
       "    .dataframe thead th {\n",
       "        text-align: right;\n",
       "    }\n",
       "</style>\n",
       "<table border=\"1\" class=\"dataframe\">\n",
       "  <thead>\n",
       "    <tr style=\"text-align: right;\">\n",
       "      <th></th>\n",
       "      <th>title</th>\n",
       "      <th>puNumber</th>\n",
       "      <th>show_start_date</th>\n",
       "      <th>type</th>\n",
       "      <th>film_studio</th>\n",
       "      <th>production_country</th>\n",
       "      <th>director</th>\n",
       "      <th>producer</th>\n",
       "      <th>age_restriction</th>\n",
       "      <th>refundable_support</th>\n",
       "      <th>nonrefundable_support</th>\n",
       "      <th>budget</th>\n",
       "      <th>financing_source</th>\n",
       "      <th>ratings</th>\n",
       "      <th>genres</th>\n",
       "      <th>box_office</th>\n",
       "    </tr>\n",
       "  </thead>\n",
       "  <tbody>\n",
       "    <tr>\n",
       "      <td>4638</td>\n",
       "      <td>Как жениться и остаться холостым</td>\n",
       "      <td>221154310</td>\n",
       "      <td>2010-12-17 12:00:00</td>\n",
       "      <td>Художественный</td>\n",
       "      <td>Ше Вам, Скрипт Ассосье, Тэ Фэ 1 Фильм Продюксь...</td>\n",
       "      <td>Франция</td>\n",
       "      <td>Эрик Лартиго</td>\n",
       "      <td>Амандин Било, Алан Шаба</td>\n",
       "      <td>«16+» - для детей старше 16 лет</td>\n",
       "      <td>NaN</td>\n",
       "      <td>NaN</td>\n",
       "      <td>NaN</td>\n",
       "      <td>NaN</td>\n",
       "      <td>7.0</td>\n",
       "      <td>мелодрама,комедия</td>\n",
       "      <td>NaN</td>\n",
       "    </tr>\n",
       "    <tr>\n",
       "      <td>4639</td>\n",
       "      <td>Иоанна - женщина на папском престоле /По роман...</td>\n",
       "      <td>221154310</td>\n",
       "      <td>2010-12-17 12:00:00</td>\n",
       "      <td>Художественный</td>\n",
       "      <td>Константин Фильм, А Эр Ди Дегето Фильм, Дюне ...</td>\n",
       "      <td>Германия - Великобритания - Италия - Испания</td>\n",
       "      <td>Зенке Вортманн</td>\n",
       "      <td>Оливер Бербен, Дорис Д.Хайнце, Фарук Элтан</td>\n",
       "      <td>«16+» - для детей старше 16 лет</td>\n",
       "      <td>NaN</td>\n",
       "      <td>NaN</td>\n",
       "      <td>NaN</td>\n",
       "      <td>NaN</td>\n",
       "      <td>7.6</td>\n",
       "      <td>драма,мелодрама,история</td>\n",
       "      <td>NaN</td>\n",
       "    </tr>\n",
       "    <tr>\n",
       "      <td>5067</td>\n",
       "      <td>Анализируй это!</td>\n",
       "      <td>221054410</td>\n",
       "      <td>2010-05-25 12:00:00</td>\n",
       "      <td>Художественный</td>\n",
       "      <td>Уорнер Бразерс, Вилладж Роудшоу Филмз ЛТД</td>\n",
       "      <td>США-Австралия</td>\n",
       "      <td>ХЭрольд Рэмис</td>\n",
       "      <td>Джейн Розенталь, Пола Уейнстейн</td>\n",
       "      <td>«16+» - для детей старше 16 лет</td>\n",
       "      <td>NaN</td>\n",
       "      <td>NaN</td>\n",
       "      <td>NaN</td>\n",
       "      <td>NaN</td>\n",
       "      <td>7.4</td>\n",
       "      <td>комедия,криминал</td>\n",
       "      <td>NaN</td>\n",
       "    </tr>\n",
       "    <tr>\n",
       "      <td>5068</td>\n",
       "      <td>Анализируй то!</td>\n",
       "      <td>221054410</td>\n",
       "      <td>2010-05-25 12:00:00</td>\n",
       "      <td>Художественный</td>\n",
       "      <td>Уорнер Бразерс, Виллидж Роадшоу Пикчерз, Эн-Пи...</td>\n",
       "      <td>США</td>\n",
       "      <td>Гарольд Реймис</td>\n",
       "      <td>Джейн Розенталь, Паул Уэйнстейн</td>\n",
       "      <td>«12+» - для детей старше 12 лет</td>\n",
       "      <td>NaN</td>\n",
       "      <td>NaN</td>\n",
       "      <td>NaN</td>\n",
       "      <td>NaN</td>\n",
       "      <td>6.8</td>\n",
       "      <td>комедия,криминал</td>\n",
       "      <td>NaN</td>\n",
       "    </tr>\n",
       "  </tbody>\n",
       "</table>\n",
       "</div>"
      ],
      "text/plain": [
       "                                                  title   puNumber  \\\n",
       "4638                   Как жениться и остаться холостым  221154310   \n",
       "4639  Иоанна - женщина на папском престоле /По роман...  221154310   \n",
       "5067                                    Анализируй это!  221054410   \n",
       "5068                                     Анализируй то!  221054410   \n",
       "\n",
       "         show_start_date            type  \\\n",
       "4638 2010-12-17 12:00:00  Художественный   \n",
       "4639 2010-12-17 12:00:00  Художественный   \n",
       "5067 2010-05-25 12:00:00  Художественный   \n",
       "5068 2010-05-25 12:00:00  Художественный   \n",
       "\n",
       "                                            film_studio  \\\n",
       "4638  Ше Вам, Скрипт Ассосье, Тэ Фэ 1 Фильм Продюксь...   \n",
       "4639   Константин Фильм, А Эр Ди Дегето Фильм, Дюне ...   \n",
       "5067          Уорнер Бразерс, Вилладж Роудшоу Филмз ЛТД   \n",
       "5068  Уорнер Бразерс, Виллидж Роадшоу Пикчерз, Эн-Пи...   \n",
       "\n",
       "                                production_country        director  \\\n",
       "4638                                       Франция    Эрик Лартиго   \n",
       "4639  Германия - Великобритания - Италия - Испания  Зенке Вортманн   \n",
       "5067                                 США-Австралия   ХЭрольд Рэмис   \n",
       "5068                                           США  Гарольд Реймис   \n",
       "\n",
       "                                        producer  \\\n",
       "4638                     Амандин Било, Алан Шаба   \n",
       "4639  Оливер Бербен, Дорис Д.Хайнце, Фарук Элтан   \n",
       "5067             Джейн Розенталь, Пола Уейнстейн   \n",
       "5068             Джейн Розенталь, Паул Уэйнстейн   \n",
       "\n",
       "                      age_restriction  refundable_support  \\\n",
       "4638  «16+» - для детей старше 16 лет                 NaN   \n",
       "4639  «16+» - для детей старше 16 лет                 NaN   \n",
       "5067  «16+» - для детей старше 16 лет                 NaN   \n",
       "5068  «12+» - для детей старше 12 лет                 NaN   \n",
       "\n",
       "      nonrefundable_support  budget financing_source  ratings  \\\n",
       "4638                    NaN     NaN              NaN      7.0   \n",
       "4639                    NaN     NaN              NaN      7.6   \n",
       "5067                    NaN     NaN              NaN      7.4   \n",
       "5068                    NaN     NaN              NaN      6.8   \n",
       "\n",
       "                       genres  box_office  \n",
       "4638        мелодрама,комедия         NaN  \n",
       "4639  драма,мелодрама,история         NaN  \n",
       "5067         комедия,криминал         NaN  \n",
       "5068         комедия,криминал         NaN  "
      ]
     },
     "metadata": {},
     "output_type": "display_data"
    }
   ],
   "source": [
    "display(df_full[(df_full['puNumber'] == 221054410) | (df_full['puNumber'] == 221154310)])\n",
    "df_full.drop([4639, 5068], inplace=True)"
   ]
  },
  {
   "cell_type": "code",
   "execution_count": 20,
   "metadata": {
    "scrolled": true
   },
   "outputs": [
    {
     "data": {
      "text/html": [
       "<div>\n",
       "<style scoped>\n",
       "    .dataframe tbody tr th:only-of-type {\n",
       "        vertical-align: middle;\n",
       "    }\n",
       "\n",
       "    .dataframe tbody tr th {\n",
       "        vertical-align: top;\n",
       "    }\n",
       "\n",
       "    .dataframe thead th {\n",
       "        text-align: right;\n",
       "    }\n",
       "</style>\n",
       "<table border=\"1\" class=\"dataframe\">\n",
       "  <thead>\n",
       "    <tr style=\"text-align: right;\">\n",
       "      <th></th>\n",
       "      <th>title</th>\n",
       "      <th>puNumber</th>\n",
       "      <th>show_start_date</th>\n",
       "      <th>type</th>\n",
       "      <th>film_studio</th>\n",
       "      <th>production_country</th>\n",
       "      <th>director</th>\n",
       "      <th>producer</th>\n",
       "      <th>age_restriction</th>\n",
       "      <th>refundable_support</th>\n",
       "      <th>nonrefundable_support</th>\n",
       "      <th>budget</th>\n",
       "      <th>financing_source</th>\n",
       "      <th>ratings</th>\n",
       "      <th>genres</th>\n",
       "      <th>box_office</th>\n",
       "    </tr>\n",
       "  </thead>\n",
       "  <tbody>\n",
       "    <tr>\n",
       "      <td>3</td>\n",
       "      <td>Особо опасен</td>\n",
       "      <td>221026916</td>\n",
       "      <td>2016-06-10 12:00:00</td>\n",
       "      <td>Художественный</td>\n",
       "      <td>Юниверсал Пикчерз, Кикстарт Продакшнз, Марк Пл...</td>\n",
       "      <td>США</td>\n",
       "      <td>Тимур Бекмамбетов</td>\n",
       "      <td>Джим Лемли, Джейсон Нетер, Марк Е.Платт, Яйн Смит</td>\n",
       "      <td>«18+» - запрещено для детей</td>\n",
       "      <td>NaN</td>\n",
       "      <td>NaN</td>\n",
       "      <td>NaN</td>\n",
       "      <td>NaN</td>\n",
       "      <td>6.8</td>\n",
       "      <td>фантастика,боевик,триллер</td>\n",
       "      <td>NaN</td>\n",
       "    </tr>\n",
       "    <tr>\n",
       "      <td>4</td>\n",
       "      <td>Особо опасен</td>\n",
       "      <td>221030815</td>\n",
       "      <td>2015-07-29 12:00:00</td>\n",
       "      <td>Художественный</td>\n",
       "      <td>Юниверсал Пикчерз, Кикстарт Продакшнз, Марк Пл...</td>\n",
       "      <td>США</td>\n",
       "      <td>Тимур Бекмамбетов</td>\n",
       "      <td>Джим Лемли, Джейсон Нетер, Марк Е.Платт, Яйн Смит</td>\n",
       "      <td>«18+» - запрещено для детей</td>\n",
       "      <td>NaN</td>\n",
       "      <td>NaN</td>\n",
       "      <td>NaN</td>\n",
       "      <td>NaN</td>\n",
       "      <td>6.8</td>\n",
       "      <td>фантастика,боевик,триллер</td>\n",
       "      <td>NaN</td>\n",
       "    </tr>\n",
       "    <tr>\n",
       "      <td>41</td>\n",
       "      <td>Алекс и Эмма</td>\n",
       "      <td>221004616</td>\n",
       "      <td>2016-02-09 12:00:00</td>\n",
       "      <td>Художественный</td>\n",
       "      <td>Эскейп Артистс, Франчайз Пикчерз, Рейнер-Грэйс...</td>\n",
       "      <td>США</td>\n",
       "      <td>Роб Райнер</td>\n",
       "      <td>Тодд Блэк, Элан Грейсман, Джереми Левен, Роб Р...</td>\n",
       "      <td>«16+» - для детей старше 16 лет</td>\n",
       "      <td>NaN</td>\n",
       "      <td>NaN</td>\n",
       "      <td>NaN</td>\n",
       "      <td>NaN</td>\n",
       "      <td>6.4</td>\n",
       "      <td>мелодрама,комедия</td>\n",
       "      <td>NaN</td>\n",
       "    </tr>\n",
       "    <tr>\n",
       "      <td>110</td>\n",
       "      <td>Гарри Поттер и орден Феникса /По роману Дж.К.Р...</td>\n",
       "      <td>121026316</td>\n",
       "      <td>2016-09-23 12:00:00</td>\n",
       "      <td>Художественный</td>\n",
       "      <td>Уорнер Бразерс, Хэйдей Филмз</td>\n",
       "      <td>США - Великобритания</td>\n",
       "      <td>Дэвид Йетс</td>\n",
       "      <td>Дэйвид Баррон, Дэйвид Хейман</td>\n",
       "      <td>«16+» - для детей старше 16 лет</td>\n",
       "      <td>NaN</td>\n",
       "      <td>NaN</td>\n",
       "      <td>NaN</td>\n",
       "      <td>NaN</td>\n",
       "      <td>7.7</td>\n",
       "      <td>фэнтези,приключения,семейный</td>\n",
       "      <td>759526.0</td>\n",
       "    </tr>\n",
       "    <tr>\n",
       "      <td>113</td>\n",
       "      <td>Гарри Поттер и узник Азкабана /По роману Дж.К....</td>\n",
       "      <td>121026116</td>\n",
       "      <td>2016-09-23 12:00:00</td>\n",
       "      <td>Художественный</td>\n",
       "      <td>Хэйдей Филмз, 1492 Пикчерз, Уорнер Бразерс</td>\n",
       "      <td>США</td>\n",
       "      <td>Альфонсо Куарон</td>\n",
       "      <td>Майкл Барната</td>\n",
       "      <td>«12+» - для детей старше 12 лет</td>\n",
       "      <td>NaN</td>\n",
       "      <td>NaN</td>\n",
       "      <td>NaN</td>\n",
       "      <td>NaN</td>\n",
       "      <td>8.2</td>\n",
       "      <td>фэнтези,приключения,семейный</td>\n",
       "      <td>1125302.0</td>\n",
       "    </tr>\n",
       "    <tr>\n",
       "      <td>...</td>\n",
       "      <td>...</td>\n",
       "      <td>...</td>\n",
       "      <td>...</td>\n",
       "      <td>...</td>\n",
       "      <td>...</td>\n",
       "      <td>...</td>\n",
       "      <td>...</td>\n",
       "      <td>...</td>\n",
       "      <td>...</td>\n",
       "      <td>...</td>\n",
       "      <td>...</td>\n",
       "      <td>...</td>\n",
       "      <td>...</td>\n",
       "      <td>...</td>\n",
       "      <td>...</td>\n",
       "      <td>...</td>\n",
       "    </tr>\n",
       "    <tr>\n",
       "      <td>7369</td>\n",
       "      <td>Невиновен</td>\n",
       "      <td>111019319</td>\n",
       "      <td>2019-11-07 12:00:00</td>\n",
       "      <td>Художественный</td>\n",
       "      <td>ООО \"Кавказфильм\"</td>\n",
       "      <td>Россия</td>\n",
       "      <td>А.Емкужев</td>\n",
       "      <td>А.Емкужев, А.Хуажева, ООО \"Корпорация Русская ...</td>\n",
       "      <td>«16+» - для детей старше 16 лет</td>\n",
       "      <td>NaN</td>\n",
       "      <td>NaN</td>\n",
       "      <td>NaN</td>\n",
       "      <td>NaN</td>\n",
       "      <td>7.5</td>\n",
       "      <td>триллер,детектив,криминал</td>\n",
       "      <td>NaN</td>\n",
       "    </tr>\n",
       "    <tr>\n",
       "      <td>7416</td>\n",
       "      <td>Отель \"Гранд Будапешт\"</td>\n",
       "      <td>121035119</td>\n",
       "      <td>2019-12-13 12:00:00</td>\n",
       "      <td>Художественный</td>\n",
       "      <td>Американ Эмпирикал, Индиан Пэинтбраш, Скотт Ру...</td>\n",
       "      <td>Германия, США</td>\n",
       "      <td>Уэс Андерсен</td>\n",
       "      <td>Уэс Андерсон, Джереми Доусон, Стивен Рейлс</td>\n",
       "      <td>«16+» - для детей старше 16 лет</td>\n",
       "      <td>NaN</td>\n",
       "      <td>NaN</td>\n",
       "      <td>NaN</td>\n",
       "      <td>NaN</td>\n",
       "      <td>7.9</td>\n",
       "      <td>комедия,приключения,детектив</td>\n",
       "      <td>NaN</td>\n",
       "    </tr>\n",
       "    <tr>\n",
       "      <td>7438</td>\n",
       "      <td>Зверь</td>\n",
       "      <td>121035919</td>\n",
       "      <td>2019-12-05 12:00:00</td>\n",
       "      <td>Художественный</td>\n",
       "      <td>Студио энд Нью</td>\n",
       "      <td>Южная Корея</td>\n",
       "      <td>Ли Джон-хо</td>\n",
       "      <td>Чан Гён-ик, Чон Джи-хун, Пэк Кён сук</td>\n",
       "      <td>«18+» - запрещено для детей</td>\n",
       "      <td>NaN</td>\n",
       "      <td>NaN</td>\n",
       "      <td>NaN</td>\n",
       "      <td>NaN</td>\n",
       "      <td>6.5</td>\n",
       "      <td>триллер,драма</td>\n",
       "      <td>175003.0</td>\n",
       "    </tr>\n",
       "    <tr>\n",
       "      <td>7450</td>\n",
       "      <td>В тихом омуте</td>\n",
       "      <td>121036919</td>\n",
       "      <td>2019-12-09 12:00:00</td>\n",
       "      <td>Художественный</td>\n",
       "      <td>Хэд Гир Филмз, Крео Филмз, Локал Хироу, Метрол...</td>\n",
       "      <td>США</td>\n",
       "      <td>Адам Рэндолл</td>\n",
       "      <td>Мэтт Уолдек</td>\n",
       "      <td>«18+» - запрещено для детей</td>\n",
       "      <td>NaN</td>\n",
       "      <td>NaN</td>\n",
       "      <td>NaN</td>\n",
       "      <td>NaN</td>\n",
       "      <td>6.8</td>\n",
       "      <td>триллер,криминал,детектив</td>\n",
       "      <td>NaN</td>\n",
       "    </tr>\n",
       "    <tr>\n",
       "      <td>7474</td>\n",
       "      <td>Вторжение</td>\n",
       "      <td>111022519</td>\n",
       "      <td>2019-12-23 12:00:00</td>\n",
       "      <td>Художественный</td>\n",
       "      <td>ООО \"Арт Пикчерс Студия\", ООО \"Водород 2011\"</td>\n",
       "      <td>Россия</td>\n",
       "      <td>Ф.Бондарчук</td>\n",
       "      <td>Ф.Бондарчук, М.Врубель, А.Андрющенко, Д.Рудовский</td>\n",
       "      <td>«12+» - для детей старше 12 лет</td>\n",
       "      <td>100000000.0</td>\n",
       "      <td>400000000.0</td>\n",
       "      <td>944000000.0</td>\n",
       "      <td>Фонд кино</td>\n",
       "      <td>5.7</td>\n",
       "      <td>фантастика,боевик</td>\n",
       "      <td>NaN</td>\n",
       "    </tr>\n",
       "  </tbody>\n",
       "</table>\n",
       "<p>713 rows × 16 columns</p>\n",
       "</div>"
      ],
      "text/plain": [
       "                                                  title   puNumber  \\\n",
       "3                                          Особо опасен  221026916   \n",
       "4                                          Особо опасен  221030815   \n",
       "41                                         Алекс и Эмма  221004616   \n",
       "110   Гарри Поттер и орден Феникса /По роману Дж.К.Р...  121026316   \n",
       "113   Гарри Поттер и узник Азкабана /По роману Дж.К....  121026116   \n",
       "...                                                 ...        ...   \n",
       "7369                                          Невиновен  111019319   \n",
       "7416                             Отель \"Гранд Будапешт\"  121035119   \n",
       "7438                                              Зверь  121035919   \n",
       "7450                                      В тихом омуте  121036919   \n",
       "7474                                          Вторжение  111022519   \n",
       "\n",
       "         show_start_date             type  \\\n",
       "3    2016-06-10 12:00:00   Художественный   \n",
       "4    2015-07-29 12:00:00   Художественный   \n",
       "41   2016-02-09 12:00:00   Художественный   \n",
       "110  2016-09-23 12:00:00   Художественный   \n",
       "113  2016-09-23 12:00:00   Художественный   \n",
       "...                  ...              ...   \n",
       "7369 2019-11-07 12:00:00   Художественный   \n",
       "7416 2019-12-13 12:00:00   Художественный   \n",
       "7438 2019-12-05 12:00:00   Художественный   \n",
       "7450 2019-12-09 12:00:00   Художественный   \n",
       "7474 2019-12-23 12:00:00   Художественный   \n",
       "\n",
       "                                            film_studio    production_country  \\\n",
       "3     Юниверсал Пикчерз, Кикстарт Продакшнз, Марк Пл...                   США   \n",
       "4     Юниверсал Пикчерз, Кикстарт Продакшнз, Марк Пл...                   США   \n",
       "41    Эскейп Артистс, Франчайз Пикчерз, Рейнер-Грэйс...                   США   \n",
       "110                        Уорнер Бразерс, Хэйдей Филмз  США - Великобритания   \n",
       "113          Хэйдей Филмз, 1492 Пикчерз, Уорнер Бразерс                   США   \n",
       "...                                                 ...                   ...   \n",
       "7369                                  ООО \"Кавказфильм\"                Россия   \n",
       "7416  Американ Эмпирикал, Индиан Пэинтбраш, Скотт Ру...         Германия, США   \n",
       "7438                                     Студио энд Нью           Южная Корея   \n",
       "7450  Хэд Гир Филмз, Крео Филмз, Локал Хироу, Метрол...                   США   \n",
       "7474       ООО \"Арт Пикчерс Студия\", ООО \"Водород 2011\"                Россия   \n",
       "\n",
       "               director                                           producer  \\\n",
       "3     Тимур Бекмамбетов  Джим Лемли, Джейсон Нетер, Марк Е.Платт, Яйн Смит   \n",
       "4     Тимур Бекмамбетов  Джим Лемли, Джейсон Нетер, Марк Е.Платт, Яйн Смит   \n",
       "41           Роб Райнер  Тодд Блэк, Элан Грейсман, Джереми Левен, Роб Р...   \n",
       "110          Дэвид Йетс                       Дэйвид Баррон, Дэйвид Хейман   \n",
       "113     Альфонсо Куарон                                      Майкл Барната   \n",
       "...                 ...                                                ...   \n",
       "7369          А.Емкужев  А.Емкужев, А.Хуажева, ООО \"Корпорация Русская ...   \n",
       "7416       Уэс Андерсен         Уэс Андерсон, Джереми Доусон, Стивен Рейлс   \n",
       "7438         Ли Джон-хо               Чан Гён-ик, Чон Джи-хун, Пэк Кён сук   \n",
       "7450       Адам Рэндолл                                        Мэтт Уолдек   \n",
       "7474        Ф.Бондарчук  Ф.Бондарчук, М.Врубель, А.Андрющенко, Д.Рудовский   \n",
       "\n",
       "                      age_restriction  refundable_support  \\\n",
       "3         «18+» - запрещено для детей                 NaN   \n",
       "4         «18+» - запрещено для детей                 NaN   \n",
       "41    «16+» - для детей старше 16 лет                 NaN   \n",
       "110   «16+» - для детей старше 16 лет                 NaN   \n",
       "113   «12+» - для детей старше 12 лет                 NaN   \n",
       "...                               ...                 ...   \n",
       "7369  «16+» - для детей старше 16 лет                 NaN   \n",
       "7416  «16+» - для детей старше 16 лет                 NaN   \n",
       "7438      «18+» - запрещено для детей                 NaN   \n",
       "7450      «18+» - запрещено для детей                 NaN   \n",
       "7474  «12+» - для детей старше 12 лет         100000000.0   \n",
       "\n",
       "      nonrefundable_support       budget financing_source  ratings  \\\n",
       "3                       NaN          NaN              NaN      6.8   \n",
       "4                       NaN          NaN              NaN      6.8   \n",
       "41                      NaN          NaN              NaN      6.4   \n",
       "110                     NaN          NaN              NaN      7.7   \n",
       "113                     NaN          NaN              NaN      8.2   \n",
       "...                     ...          ...              ...      ...   \n",
       "7369                    NaN          NaN              NaN      7.5   \n",
       "7416                    NaN          NaN              NaN      7.9   \n",
       "7438                    NaN          NaN              NaN      6.5   \n",
       "7450                    NaN          NaN              NaN      6.8   \n",
       "7474            400000000.0  944000000.0        Фонд кино      5.7   \n",
       "\n",
       "                            genres  box_office  \n",
       "3        фантастика,боевик,триллер         NaN  \n",
       "4        фантастика,боевик,триллер         NaN  \n",
       "41               мелодрама,комедия         NaN  \n",
       "110   фэнтези,приключения,семейный    759526.0  \n",
       "113   фэнтези,приключения,семейный   1125302.0  \n",
       "...                            ...         ...  \n",
       "7369     триллер,детектив,криминал         NaN  \n",
       "7416  комедия,приключения,детектив         NaN  \n",
       "7438                 триллер,драма    175003.0  \n",
       "7450     триллер,криминал,детектив         NaN  \n",
       "7474             фантастика,боевик         NaN  \n",
       "\n",
       "[713 rows x 16 columns]"
      ]
     },
     "execution_count": 20,
     "metadata": {},
     "output_type": "execute_result"
    }
   ],
   "source": [
    "df_full[df_full.duplicated('title')]"
   ]
  },
  {
   "cell_type": "markdown",
   "metadata": {},
   "source": [
    "В случае прокатного удостверения - скорее всего человеческая ошибка \\\n",
    "В случае названия - они могут повторяться, это в целом нормальная ситуация. Их можно отличить по режиссёру, продюссеру и т.д. \\\n",
    "Полных дубликатов в данных нет"
   ]
  },
  {
   "cell_type": "markdown",
   "metadata": {
    "id": "52fOPrEBgFyQ"
   },
   "source": [
    "####  Посмотрим на категориальные признаки\n"
   ]
  },
  {
   "cell_type": "code",
   "execution_count": 21,
   "metadata": {},
   "outputs": [],
   "source": [
    "df_full['type'] = df_full['type'].str.strip() #Следуя подсказке начну со столбца type"
   ]
  },
  {
   "cell_type": "code",
   "execution_count": 22,
   "metadata": {},
   "outputs": [
    {
     "data": {
      "text/plain": [
       "Художественный                5907\n",
       "Анимационный                   829\n",
       "Прочие                         406\n",
       "Документальный                 288\n",
       "Научно-популярный               53\n",
       "Музыкально-развлекательный       1\n",
       "Name: type, dtype: int64"
      ]
     },
     "execution_count": 22,
     "metadata": {},
     "output_type": "execute_result"
    }
   ],
   "source": [
    "df_full['type'].value_counts() #Посмотрим сколько тут уникальных значений, есть ли что-то странное или необычное"
   ]
  },
  {
   "cell_type": "code",
   "execution_count": 23,
   "metadata": {},
   "outputs": [
    {
     "data": {
      "text/plain": [
       "«16+» - для детей старше 16 лет           2850\n",
       "«18+» - запрещено для детей               1605\n",
       "«12+» - для детей старше 12 лет           1592\n",
       "«0+» - для любой зрительской аудитории     811\n",
       "«6+» - для детей старше 6 лет              626\n",
       "Name: age_restriction, dtype: int64"
      ]
     },
     "execution_count": 23,
     "metadata": {},
     "output_type": "execute_result"
    }
   ],
   "source": [
    "df_full['age_restriction'].value_counts() #Слишком сложные категории, на мой взгляд. Упростим до цифр"
   ]
  },
  {
   "cell_type": "code",
   "execution_count": 24,
   "metadata": {},
   "outputs": [],
   "source": [
    "def age_cleaning(row):\n",
    "    age = row['age_restriction']\n",
    "    if '0+' in age:\n",
    "        return 0\n",
    "    elif '6+' in age:\n",
    "        return 6\n",
    "    elif '12+' in age:\n",
    "        return 12\n",
    "    elif '16+' in age:\n",
    "        return 16\n",
    "    elif '18+' in age:\n",
    "        return 18"
   ]
  },
  {
   "cell_type": "code",
   "execution_count": 25,
   "metadata": {},
   "outputs": [],
   "source": [
    "df_full['age_restriction'] = df_full.apply(age_cleaning, axis=1) #Так определённо легче"
   ]
  },
  {
   "cell_type": "code",
   "execution_count": 26,
   "metadata": {},
   "outputs": [
    {
     "data": {
      "text/plain": [
       "драма                              476\n",
       "комедия                            352\n",
       "мелодрама,комедия                  222\n",
       "драма,мелодрама,комедия            189\n",
       "драма,мелодрама                    183\n",
       "                                  ... \n",
       "документальный,криминал,военный      1\n",
       "фэнтези,семейный,приключения         1\n",
       "фантастика,боевик,ужасы              1\n",
       "семейный,приключения,комедия         1\n",
       "ужасы,фэнтези,приключения            1\n",
       "Name: genres, Length: 742, dtype: int64"
      ]
     },
     "execution_count": 26,
     "metadata": {},
     "output_type": "execute_result"
    }
   ],
   "source": [
    "df_full['genres'].value_counts() # можно заметить, что не использовались пробелы"
   ]
  },
  {
   "cell_type": "code",
   "execution_count": 27,
   "metadata": {},
   "outputs": [
    {
     "data": {
      "text/plain": [
       "Министерство культуры               164\n",
       "Фонд кино                           146\n",
       "Министерство культуры, Фонд кино     22\n",
       "Name: financing_source, dtype: int64"
      ]
     },
     "execution_count": 27,
     "metadata": {},
     "output_type": "execute_result"
    }
   ],
   "source": [
    "df_full['financing_source'].value_counts() #Тут всё в порядке. На удивление."
   ]
  },
  {
   "cell_type": "markdown",
   "metadata": {},
   "source": [
    "В категориальных столбцах видна \"рука человека\". Ошибки, неверное заполнение и т.д. \\\n",
    "И это было заметно практически в каждом столбце \\\n",
    "Но т.к. большая часть информации в датасете для поставленных аналитических задач неважна - можно оставить как есть"
   ]
  },
  {
   "cell_type": "markdown",
   "metadata": {
    "id": "XFSN5lrEgFyR"
   },
   "source": [
    "####  Проверим количественные значения \n"
   ]
  },
  {
   "cell_type": "code",
   "execution_count": 28,
   "metadata": {
    "id": "YbzClBxagFyS"
   },
   "outputs": [
    {
     "data": {
      "text/html": [
       "<div>\n",
       "<style scoped>\n",
       "    .dataframe tbody tr th:only-of-type {\n",
       "        vertical-align: middle;\n",
       "    }\n",
       "\n",
       "    .dataframe tbody tr th {\n",
       "        vertical-align: top;\n",
       "    }\n",
       "\n",
       "    .dataframe thead th {\n",
       "        text-align: right;\n",
       "    }\n",
       "</style>\n",
       "<table border=\"1\" class=\"dataframe\">\n",
       "  <thead>\n",
       "    <tr style=\"text-align: right;\">\n",
       "      <th></th>\n",
       "      <th>title</th>\n",
       "      <th>puNumber</th>\n",
       "      <th>show_start_date</th>\n",
       "      <th>type</th>\n",
       "      <th>film_studio</th>\n",
       "      <th>production_country</th>\n",
       "      <th>director</th>\n",
       "      <th>producer</th>\n",
       "      <th>age_restriction</th>\n",
       "      <th>refundable_support</th>\n",
       "      <th>nonrefundable_support</th>\n",
       "      <th>budget</th>\n",
       "      <th>financing_source</th>\n",
       "      <th>ratings</th>\n",
       "      <th>genres</th>\n",
       "      <th>box_office</th>\n",
       "    </tr>\n",
       "  </thead>\n",
       "  <tbody>\n",
       "    <tr>\n",
       "      <td>2053</td>\n",
       "      <td>14+</td>\n",
       "      <td>111023614</td>\n",
       "      <td>2014-12-19 12:00:00</td>\n",
       "      <td>Художественный</td>\n",
       "      <td>ООО Киностудия  \"Сентябрь\"</td>\n",
       "      <td>Россия</td>\n",
       "      <td>А.Зайцев</td>\n",
       "      <td>О.Гранина, А.Зайцев</td>\n",
       "      <td>6</td>\n",
       "      <td>0.0</td>\n",
       "      <td>23000000.0</td>\n",
       "      <td>0.0</td>\n",
       "      <td>Министерство культуры, Фонд кино</td>\n",
       "      <td>6.6</td>\n",
       "      <td>мелодрама</td>\n",
       "      <td>1.023402e+07</td>\n",
       "    </tr>\n",
       "    <tr>\n",
       "      <td>2058</td>\n",
       "      <td>Дуxless 2</td>\n",
       "      <td>111000415</td>\n",
       "      <td>2015-01-26 12:00:00</td>\n",
       "      <td>Художественный</td>\n",
       "      <td>ООО \"Киностудия \"Слово\", ООО \"Арт Пикчерс Студия\"</td>\n",
       "      <td>Россия</td>\n",
       "      <td>Р.Прыгунов</td>\n",
       "      <td>П.Ануров, Ф.Бондарчук, Д.Рудовский</td>\n",
       "      <td>6</td>\n",
       "      <td>0.0</td>\n",
       "      <td>75000000.0</td>\n",
       "      <td>0.0</td>\n",
       "      <td>Фонд кино</td>\n",
       "      <td>6.6</td>\n",
       "      <td>драма</td>\n",
       "      <td>4.461635e+08</td>\n",
       "    </tr>\n",
       "    <tr>\n",
       "      <td>2472</td>\n",
       "      <td>Воин (2015)</td>\n",
       "      <td>111017315</td>\n",
       "      <td>2015-09-28 12:00:00</td>\n",
       "      <td>Художественный</td>\n",
       "      <td>ООО \"Форпост Продакшн\", ООО \"Арт Пикчерс Студия\"</td>\n",
       "      <td>Россия</td>\n",
       "      <td>А.Андрианов</td>\n",
       "      <td>ООО \"Арт Пикчерс Студия\"</td>\n",
       "      <td>12</td>\n",
       "      <td>10000000.0</td>\n",
       "      <td>70000000.0</td>\n",
       "      <td>0.0</td>\n",
       "      <td>Фонд кино</td>\n",
       "      <td>7.8</td>\n",
       "      <td>боевик,драма,криминал</td>\n",
       "      <td>1.965724e+08</td>\n",
       "    </tr>\n",
       "    <tr>\n",
       "      <td>2532</td>\n",
       "      <td>Бармен.</td>\n",
       "      <td>111009615</td>\n",
       "      <td>2015-05-26 12:00:00</td>\n",
       "      <td>Художественный</td>\n",
       "      <td>АО \"ВайТ Медиа\", ООО \"Арт Пикчерс Студия\"</td>\n",
       "      <td>Россия</td>\n",
       "      <td>Д.Штурманова</td>\n",
       "      <td>Т.Вайнштейн</td>\n",
       "      <td>6</td>\n",
       "      <td>20000000.0</td>\n",
       "      <td>0.0</td>\n",
       "      <td>0.0</td>\n",
       "      <td>Фонд кино</td>\n",
       "      <td>6.2</td>\n",
       "      <td>комедия,фэнтези</td>\n",
       "      <td>6.741897e+07</td>\n",
       "    </tr>\n",
       "    <tr>\n",
       "      <td>2615</td>\n",
       "      <td>Савва. Сердце воина</td>\n",
       "      <td>114001715</td>\n",
       "      <td>2015-07-21 12:00:00</td>\n",
       "      <td>Анимационный</td>\n",
       "      <td>ООО \"Глюкоза Продакшн\", ООО \"Арт Пикчерс Студия\"</td>\n",
       "      <td>Россия</td>\n",
       "      <td>М.Фадеев</td>\n",
       "      <td>А.Чистяков</td>\n",
       "      <td>6</td>\n",
       "      <td>60000000.0</td>\n",
       "      <td>100000000.0</td>\n",
       "      <td>0.0</td>\n",
       "      <td>Фонд кино</td>\n",
       "      <td>4.6</td>\n",
       "      <td>мультфильм,приключения,фэнтези</td>\n",
       "      <td>1.844876e+08</td>\n",
       "    </tr>\n",
       "    <tr>\n",
       "      <td>2684</td>\n",
       "      <td>Тряпичный союз</td>\n",
       "      <td>111010215</td>\n",
       "      <td>2015-06-08 12:00:00</td>\n",
       "      <td>Художественный</td>\n",
       "      <td>ООО \"Кинокомпания \"КОКТЕБЕЛЬ\"</td>\n",
       "      <td>Россия</td>\n",
       "      <td>М.Местецкий</td>\n",
       "      <td>Р.Борисевич, А.Кушаев</td>\n",
       "      <td>18</td>\n",
       "      <td>0.0</td>\n",
       "      <td>59000000.0</td>\n",
       "      <td>0.0</td>\n",
       "      <td>Фонд кино</td>\n",
       "      <td>6.3</td>\n",
       "      <td>комедия,драма</td>\n",
       "      <td>1.957738e+06</td>\n",
       "    </tr>\n",
       "    <tr>\n",
       "      <td>2788</td>\n",
       "      <td>Срочно выйду замуж</td>\n",
       "      <td>111017115</td>\n",
       "      <td>2015-09-30 12:00:00</td>\n",
       "      <td>Художественный</td>\n",
       "      <td>АО \"ВайТ Медиа\", ООО \"Арт Пикчерс Студия\"</td>\n",
       "      <td>Россия</td>\n",
       "      <td>С Чекалов</td>\n",
       "      <td>Ф.Бондарчук, Т.Вайнштейн, Д.Рудовский</td>\n",
       "      <td>6</td>\n",
       "      <td>0.0</td>\n",
       "      <td>35000000.0</td>\n",
       "      <td>0.0</td>\n",
       "      <td>Фонд кино</td>\n",
       "      <td>5.1</td>\n",
       "      <td>комедия,мелодрама</td>\n",
       "      <td>7.293778e+07</td>\n",
       "    </tr>\n",
       "    <tr>\n",
       "      <td>2874</td>\n",
       "      <td>Помню - не помню!</td>\n",
       "      <td>111004916</td>\n",
       "      <td>2016-03-01 12:00:00</td>\n",
       "      <td>Художественный</td>\n",
       "      <td>ООО \"КиноФирма\"</td>\n",
       "      <td>Россия</td>\n",
       "      <td>В.Ровенский</td>\n",
       "      <td>ООО \"КиноФирма\"</td>\n",
       "      <td>12</td>\n",
       "      <td>0.0</td>\n",
       "      <td>6000000.0</td>\n",
       "      <td>0.0</td>\n",
       "      <td>Министерство культуры</td>\n",
       "      <td>4.3</td>\n",
       "      <td>комедия</td>\n",
       "      <td>1.536293e+07</td>\n",
       "    </tr>\n",
       "    <tr>\n",
       "      <td>3047</td>\n",
       "      <td>Любовь с ограничениями</td>\n",
       "      <td>111008216</td>\n",
       "      <td>2016-04-29 12:00:00</td>\n",
       "      <td>Художественный</td>\n",
       "      <td>АО \"ВайТ Медиа\", ООО \"Арт Пикчерс Студия\"</td>\n",
       "      <td>Россия</td>\n",
       "      <td>Д.Тюрин</td>\n",
       "      <td>Ф.Бондарчук, Т.Вайнштейн, Д.Рудовский</td>\n",
       "      <td>6</td>\n",
       "      <td>19000000.0</td>\n",
       "      <td>51000000.0</td>\n",
       "      <td>0.0</td>\n",
       "      <td>Фонд кино</td>\n",
       "      <td>6.3</td>\n",
       "      <td>комедия,мелодрама</td>\n",
       "      <td>7.029905e+07</td>\n",
       "    </tr>\n",
       "    <tr>\n",
       "      <td>3565</td>\n",
       "      <td>Притяжение (2016)</td>\n",
       "      <td>111018116</td>\n",
       "      <td>2016-12-16 12:00:00</td>\n",
       "      <td>Художественный</td>\n",
       "      <td>ООО \"Водород 2011\",  ООО \"Арт Пикчерс Студия\"</td>\n",
       "      <td>Россия</td>\n",
       "      <td>Ф.Бондарчук</td>\n",
       "      <td>ООО \"Арт Пикчерс Студия\"</td>\n",
       "      <td>12</td>\n",
       "      <td>0.0</td>\n",
       "      <td>250000000.0</td>\n",
       "      <td>0.0</td>\n",
       "      <td>Фонд кино</td>\n",
       "      <td>5.6</td>\n",
       "      <td>фантастика</td>\n",
       "      <td>1.038321e+09</td>\n",
       "    </tr>\n",
       "    <tr>\n",
       "      <td>3675</td>\n",
       "      <td>Чудо-юдо</td>\n",
       "      <td>114001817</td>\n",
       "      <td>2017-06-27 12:00:00</td>\n",
       "      <td>Анимационный</td>\n",
       "      <td>ООО \"КиноФирма\"</td>\n",
       "      <td>Россия</td>\n",
       "      <td>А.Лукичев</td>\n",
       "      <td>ООО \"КиноФирма\"</td>\n",
       "      <td>6</td>\n",
       "      <td>20000000.0</td>\n",
       "      <td>20000000.0</td>\n",
       "      <td>0.0</td>\n",
       "      <td>Фонд кино</td>\n",
       "      <td>5.2</td>\n",
       "      <td>мультфильм,фэнтези,семейный</td>\n",
       "      <td>5.510801e+07</td>\n",
       "    </tr>\n",
       "    <tr>\n",
       "      <td>3739</td>\n",
       "      <td>Мифы</td>\n",
       "      <td>111004317</td>\n",
       "      <td>2017-06-07 12:00:00</td>\n",
       "      <td>Художественный</td>\n",
       "      <td>ООО \"ХАЙПФИЛМ\", ООО \"Арт Пикчерс Студия\"</td>\n",
       "      <td>Россия</td>\n",
       "      <td>А.Молочников</td>\n",
       "      <td>Ф.Бондарчук, Д.Рудовский, И.Стюарт, М.Османн, ...</td>\n",
       "      <td>6</td>\n",
       "      <td>25000000.0</td>\n",
       "      <td>20000000.0</td>\n",
       "      <td>0.0</td>\n",
       "      <td>Фонд кино</td>\n",
       "      <td>4.8</td>\n",
       "      <td>комедия</td>\n",
       "      <td>5.045195e+07</td>\n",
       "    </tr>\n",
       "    <tr>\n",
       "      <td>5673</td>\n",
       "      <td>Селфи</td>\n",
       "      <td>111012117</td>\n",
       "      <td>2018-02-01 12:00:00</td>\n",
       "      <td>Художественный</td>\n",
       "      <td>ООО \"Киностудия \"Слово\", ООО \"Арт Пикчерс Студия\"</td>\n",
       "      <td>Россия</td>\n",
       "      <td>Н.Хомерики</td>\n",
       "      <td>П.Ануров, Ф.Бондарчук, Д.Рудовский</td>\n",
       "      <td>6</td>\n",
       "      <td>20000000.0</td>\n",
       "      <td>40000000.0</td>\n",
       "      <td>0.0</td>\n",
       "      <td>Фонд кино</td>\n",
       "      <td>5.8</td>\n",
       "      <td>триллер,драма</td>\n",
       "      <td>2.251964e+08</td>\n",
       "    </tr>\n",
       "    <tr>\n",
       "      <td>5806</td>\n",
       "      <td>Два хвоста</td>\n",
       "      <td>114001018</td>\n",
       "      <td>2018-05-31 12:00:00</td>\n",
       "      <td>Анимационный</td>\n",
       "      <td>ООО \"ЛИЦЕНЗИОННЫЕ БРЕНДЫ\"</td>\n",
       "      <td>Россия</td>\n",
       "      <td>В.Ровенский, Н.Лопато, В.Азеев</td>\n",
       "      <td>ООО \"ЛИЦЕНЗИОННЫЕ БРЕНДЫ\"</td>\n",
       "      <td>6</td>\n",
       "      <td>10000000.0</td>\n",
       "      <td>60000000.0</td>\n",
       "      <td>0.0</td>\n",
       "      <td>Фонд кино</td>\n",
       "      <td>5.0</td>\n",
       "      <td>мультфильм,детский</td>\n",
       "      <td>1.065143e+08</td>\n",
       "    </tr>\n",
       "    <tr>\n",
       "      <td>6008</td>\n",
       "      <td>Принцесса и дракон</td>\n",
       "      <td>114003018</td>\n",
       "      <td>2018-08-23 12:00:00</td>\n",
       "      <td>Анимационный</td>\n",
       "      <td>ООО \"ЛИЦЕНЗИОННЫЕ БРЕНДЫ\"</td>\n",
       "      <td>Россия</td>\n",
       "      <td>М.Нефедова</td>\n",
       "      <td>ООО \"ЛИЦЕНЗИОННЫЕ БРЕНДЫ\"</td>\n",
       "      <td>6</td>\n",
       "      <td>40000000.0</td>\n",
       "      <td>40000000.0</td>\n",
       "      <td>0.0</td>\n",
       "      <td>Фонд кино</td>\n",
       "      <td>5.2</td>\n",
       "      <td>мультфильм,фэнтези,детский</td>\n",
       "      <td>8.336633e+07</td>\n",
       "    </tr>\n",
       "    <tr>\n",
       "      <td>6323</td>\n",
       "      <td>Баба Яга</td>\n",
       "      <td>114006518</td>\n",
       "      <td>2018-11-08 12:00:00</td>\n",
       "      <td>Анимационный</td>\n",
       "      <td>ООО \"Арт Пикчерс Студия\"</td>\n",
       "      <td>Россия</td>\n",
       "      <td>В.Саков</td>\n",
       "      <td>ООО \"Арт Пикчерс Студия\", ООО \"КРИЭЙТИВ АНИМЭЙ...</td>\n",
       "      <td>6</td>\n",
       "      <td>0.0</td>\n",
       "      <td>138969465.0</td>\n",
       "      <td>0.0</td>\n",
       "      <td>Фонд кино</td>\n",
       "      <td>NaN</td>\n",
       "      <td>NaN</td>\n",
       "      <td>1.334699e+06</td>\n",
       "    </tr>\n",
       "    <tr>\n",
       "      <td>6823</td>\n",
       "      <td>Большое путешествие</td>\n",
       "      <td>114002419</td>\n",
       "      <td>2019-04-20 12:00:00</td>\n",
       "      <td>Анимационный</td>\n",
       "      <td>ООО \"ЛИЦЕНЗИОННЫЕ БРЕНДЫ\"</td>\n",
       "      <td>Россия</td>\n",
       "      <td>Н.Лопато, В.Ровенский</td>\n",
       "      <td>ООО \"ЛИЦЕНЗИОННЫЕ БРЕНДЫ\"</td>\n",
       "      <td>6</td>\n",
       "      <td>60000000.0</td>\n",
       "      <td>120000000.0</td>\n",
       "      <td>0.0</td>\n",
       "      <td>Фонд кино</td>\n",
       "      <td>6.2</td>\n",
       "      <td>мультфильм,комедия,приключения</td>\n",
       "      <td>1.476068e+08</td>\n",
       "    </tr>\n",
       "  </tbody>\n",
       "</table>\n",
       "</div>"
      ],
      "text/plain": [
       "                       title   puNumber     show_start_date            type  \\\n",
       "2053                     14+  111023614 2014-12-19 12:00:00  Художественный   \n",
       "2058               Дуxless 2  111000415 2015-01-26 12:00:00  Художественный   \n",
       "2472             Воин (2015)  111017315 2015-09-28 12:00:00  Художественный   \n",
       "2532                 Бармен.  111009615 2015-05-26 12:00:00  Художественный   \n",
       "2615     Савва. Сердце воина  114001715 2015-07-21 12:00:00    Анимационный   \n",
       "2684          Тряпичный союз  111010215 2015-06-08 12:00:00  Художественный   \n",
       "2788      Срочно выйду замуж  111017115 2015-09-30 12:00:00  Художественный   \n",
       "2874       Помню - не помню!  111004916 2016-03-01 12:00:00  Художественный   \n",
       "3047  Любовь с ограничениями  111008216 2016-04-29 12:00:00  Художественный   \n",
       "3565       Притяжение (2016)  111018116 2016-12-16 12:00:00  Художественный   \n",
       "3675                Чудо-юдо  114001817 2017-06-27 12:00:00    Анимационный   \n",
       "3739                    Мифы  111004317 2017-06-07 12:00:00  Художественный   \n",
       "5673                   Селфи  111012117 2018-02-01 12:00:00  Художественный   \n",
       "5806              Два хвоста  114001018 2018-05-31 12:00:00    Анимационный   \n",
       "6008      Принцесса и дракон  114003018 2018-08-23 12:00:00    Анимационный   \n",
       "6323                Баба Яга  114006518 2018-11-08 12:00:00    Анимационный   \n",
       "6823     Большое путешествие  114002419 2019-04-20 12:00:00    Анимационный   \n",
       "\n",
       "                                            film_studio production_country  \\\n",
       "2053                         ООО Киностудия  \"Сентябрь\"             Россия   \n",
       "2058  ООО \"Киностудия \"Слово\", ООО \"Арт Пикчерс Студия\"             Россия   \n",
       "2472   ООО \"Форпост Продакшн\", ООО \"Арт Пикчерс Студия\"             Россия   \n",
       "2532          АО \"ВайТ Медиа\", ООО \"Арт Пикчерс Студия\"             Россия   \n",
       "2615   ООО \"Глюкоза Продакшн\", ООО \"Арт Пикчерс Студия\"             Россия   \n",
       "2684                      ООО \"Кинокомпания \"КОКТЕБЕЛЬ\"             Россия   \n",
       "2788          АО \"ВайТ Медиа\", ООО \"Арт Пикчерс Студия\"             Россия   \n",
       "2874                                    ООО \"КиноФирма\"             Россия   \n",
       "3047          АО \"ВайТ Медиа\", ООО \"Арт Пикчерс Студия\"             Россия   \n",
       "3565      ООО \"Водород 2011\",  ООО \"Арт Пикчерс Студия\"             Россия   \n",
       "3675                                    ООО \"КиноФирма\"             Россия   \n",
       "3739           ООО \"ХАЙПФИЛМ\", ООО \"Арт Пикчерс Студия\"             Россия   \n",
       "5673  ООО \"Киностудия \"Слово\", ООО \"Арт Пикчерс Студия\"             Россия   \n",
       "5806                          ООО \"ЛИЦЕНЗИОННЫЕ БРЕНДЫ\"             Россия   \n",
       "6008                          ООО \"ЛИЦЕНЗИОННЫЕ БРЕНДЫ\"             Россия   \n",
       "6323                           ООО \"Арт Пикчерс Студия\"             Россия   \n",
       "6823                          ООО \"ЛИЦЕНЗИОННЫЕ БРЕНДЫ\"             Россия   \n",
       "\n",
       "                            director  \\\n",
       "2053                        А.Зайцев   \n",
       "2058                      Р.Прыгунов   \n",
       "2472                     А.Андрианов   \n",
       "2532                    Д.Штурманова   \n",
       "2615                        М.Фадеев   \n",
       "2684                     М.Местецкий   \n",
       "2788                       С Чекалов   \n",
       "2874                     В.Ровенский   \n",
       "3047                         Д.Тюрин   \n",
       "3565                     Ф.Бондарчук   \n",
       "3675                       А.Лукичев   \n",
       "3739                    А.Молочников   \n",
       "5673                      Н.Хомерики   \n",
       "5806  В.Ровенский, Н.Лопато, В.Азеев   \n",
       "6008                      М.Нефедова   \n",
       "6323                         В.Саков   \n",
       "6823           Н.Лопато, В.Ровенский   \n",
       "\n",
       "                                               producer  age_restriction  \\\n",
       "2053                                О.Гранина, А.Зайцев                6   \n",
       "2058                 П.Ануров, Ф.Бондарчук, Д.Рудовский                6   \n",
       "2472                           ООО \"Арт Пикчерс Студия\"               12   \n",
       "2532                                        Т.Вайнштейн                6   \n",
       "2615                                         А.Чистяков                6   \n",
       "2684                              Р.Борисевич, А.Кушаев               18   \n",
       "2788              Ф.Бондарчук, Т.Вайнштейн, Д.Рудовский                6   \n",
       "2874                                    ООО \"КиноФирма\"               12   \n",
       "3047              Ф.Бондарчук, Т.Вайнштейн, Д.Рудовский                6   \n",
       "3565                           ООО \"Арт Пикчерс Студия\"               12   \n",
       "3675                                    ООО \"КиноФирма\"                6   \n",
       "3739  Ф.Бондарчук, Д.Рудовский, И.Стюарт, М.Османн, ...                6   \n",
       "5673                 П.Ануров, Ф.Бондарчук, Д.Рудовский                6   \n",
       "5806                          ООО \"ЛИЦЕНЗИОННЫЕ БРЕНДЫ\"                6   \n",
       "6008                          ООО \"ЛИЦЕНЗИОННЫЕ БРЕНДЫ\"                6   \n",
       "6323  ООО \"Арт Пикчерс Студия\", ООО \"КРИЭЙТИВ АНИМЭЙ...                6   \n",
       "6823                          ООО \"ЛИЦЕНЗИОННЫЕ БРЕНДЫ\"                6   \n",
       "\n",
       "      refundable_support  nonrefundable_support  budget  \\\n",
       "2053                 0.0             23000000.0     0.0   \n",
       "2058                 0.0             75000000.0     0.0   \n",
       "2472          10000000.0             70000000.0     0.0   \n",
       "2532          20000000.0                    0.0     0.0   \n",
       "2615          60000000.0            100000000.0     0.0   \n",
       "2684                 0.0             59000000.0     0.0   \n",
       "2788                 0.0             35000000.0     0.0   \n",
       "2874                 0.0              6000000.0     0.0   \n",
       "3047          19000000.0             51000000.0     0.0   \n",
       "3565                 0.0            250000000.0     0.0   \n",
       "3675          20000000.0             20000000.0     0.0   \n",
       "3739          25000000.0             20000000.0     0.0   \n",
       "5673          20000000.0             40000000.0     0.0   \n",
       "5806          10000000.0             60000000.0     0.0   \n",
       "6008          40000000.0             40000000.0     0.0   \n",
       "6323                 0.0            138969465.0     0.0   \n",
       "6823          60000000.0            120000000.0     0.0   \n",
       "\n",
       "                      financing_source  ratings  \\\n",
       "2053  Министерство культуры, Фонд кино      6.6   \n",
       "2058                         Фонд кино      6.6   \n",
       "2472                         Фонд кино      7.8   \n",
       "2532                         Фонд кино      6.2   \n",
       "2615                         Фонд кино      4.6   \n",
       "2684                         Фонд кино      6.3   \n",
       "2788                         Фонд кино      5.1   \n",
       "2874             Министерство культуры      4.3   \n",
       "3047                         Фонд кино      6.3   \n",
       "3565                         Фонд кино      5.6   \n",
       "3675                         Фонд кино      5.2   \n",
       "3739                         Фонд кино      4.8   \n",
       "5673                         Фонд кино      5.8   \n",
       "5806                         Фонд кино      5.0   \n",
       "6008                         Фонд кино      5.2   \n",
       "6323                         Фонд кино      NaN   \n",
       "6823                         Фонд кино      6.2   \n",
       "\n",
       "                              genres    box_office  \n",
       "2053                       мелодрама  1.023402e+07  \n",
       "2058                           драма  4.461635e+08  \n",
       "2472           боевик,драма,криминал  1.965724e+08  \n",
       "2532                 комедия,фэнтези  6.741897e+07  \n",
       "2615  мультфильм,приключения,фэнтези  1.844876e+08  \n",
       "2684                   комедия,драма  1.957738e+06  \n",
       "2788               комедия,мелодрама  7.293778e+07  \n",
       "2874                         комедия  1.536293e+07  \n",
       "3047               комедия,мелодрама  7.029905e+07  \n",
       "3565                      фантастика  1.038321e+09  \n",
       "3675     мультфильм,фэнтези,семейный  5.510801e+07  \n",
       "3739                         комедия  5.045195e+07  \n",
       "5673                   триллер,драма  2.251964e+08  \n",
       "5806              мультфильм,детский  1.065143e+08  \n",
       "6008      мультфильм,фэнтези,детский  8.336633e+07  \n",
       "6323                             NaN  1.334699e+06  \n",
       "6823  мультфильм,комедия,приключения  1.476068e+08  "
      ]
     },
     "execution_count": 28,
     "metadata": {},
     "output_type": "execute_result"
    }
   ],
   "source": [
    "df_full.query('(refundable_support + nonrefundable_support) > budget') #Начнём со столбца бюджет"
   ]
  },
  {
   "cell_type": "markdown",
   "metadata": {},
   "source": [
    "Действительно, есть фильмы с якобы нулевым бюджетом, но с наличием господдержки. Непорядок \\\n",
    "Пропуск точно можно в данном случае заменить на сумму возвратной и невозвратной части господдержки"
   ]
  },
  {
   "cell_type": "code",
   "execution_count": 29,
   "metadata": {},
   "outputs": [],
   "source": [
    "def sum_of_support(row):\n",
    "    if (row[\"refundable_support\"] + row['nonrefundable_support']) > row['budget']:\n",
    "        return row[['refundable_support', 'nonrefundable_support']].sum()\n",
    "    else:\n",
    "        return row['budget']"
   ]
  },
  {
   "cell_type": "code",
   "execution_count": 30,
   "metadata": {
    "scrolled": true
   },
   "outputs": [],
   "source": [
    "df_full['budget'] = df_full.apply(sum_of_support, axis=1) #Заменим в нужных строках значения"
   ]
  },
  {
   "cell_type": "markdown",
   "metadata": {},
   "source": [
    "Так же есть странные, неровные значения в господдержке. И возвратной, и невозвратной. Но с ними мы сделать ничего не сможем "
   ]
  },
  {
   "cell_type": "code",
   "execution_count": 31,
   "metadata": {},
   "outputs": [
    {
     "data": {
      "text/plain": [
       "0.0            24\n",
       "200.0          13\n",
       "300.0          12\n",
       "360.0           9\n",
       "250.0           8\n",
       "               ..\n",
       "988413.0        1\n",
       "634644321.0     1\n",
       "161086.0        1\n",
       "8335973.0       1\n",
       "25557823.0      1\n",
       "Name: box_office, Length: 2938, dtype: int64"
      ]
     },
     "execution_count": 31,
     "metadata": {},
     "output_type": "execute_result"
    }
   ],
   "source": [
    "df_full['box_office'].value_counts() # 200 рублей сборов? Неплохой \"улов\"! Но тут мы тоже бессильны что-то менять"
   ]
  },
  {
   "cell_type": "markdown",
   "metadata": {
    "id": "Eu6oWp2CgFyS"
   },
   "source": [
    "####  Добавляем новые необходимые столбцы\n",
    "\n",
    "\n",
    "\n"
   ]
  },
  {
   "cell_type": "code",
   "execution_count": 32,
   "metadata": {
    "id": "I-yd1DkWgFyT"
   },
   "outputs": [],
   "source": [
    "df_full['year'] = pd.DatetimeIndex(df_full['show_start_date']).year"
   ]
  },
  {
   "cell_type": "code",
   "execution_count": 33,
   "metadata": {},
   "outputs": [],
   "source": [
    "df_full[['director', 'genres']] = df_full[['director', 'genres']].fillna('NA')"
   ]
  },
  {
   "cell_type": "code",
   "execution_count": 34,
   "metadata": {
    "id": "LSbRZKbMgFyU"
   },
   "outputs": [],
   "source": [
    "def dirname_and_genre (row):\n",
    "    ''' Функция  будет возвращать первые значения из столбцов genres и director\n",
    "    '''\n",
    "    name_or_genre = row.split(',')\n",
    "    \n",
    "    return name_or_genre[0]"
   ]
  },
  {
   "cell_type": "code",
   "execution_count": 35,
   "metadata": {},
   "outputs": [],
   "source": [
    "df_full['main_genre'] = df_full['genres'].apply(dirname_and_genre) #Применим созданную функцию к нужным столбцам\n",
    "df_full['main_director'] = df_full['director'].apply(dirname_and_genre)"
   ]
  },
  {
   "cell_type": "code",
   "execution_count": 36,
   "metadata": {},
   "outputs": [
    {
     "data": {
      "text/html": [
       "<div>\n",
       "<style scoped>\n",
       "    .dataframe tbody tr th:only-of-type {\n",
       "        vertical-align: middle;\n",
       "    }\n",
       "\n",
       "    .dataframe tbody tr th {\n",
       "        vertical-align: top;\n",
       "    }\n",
       "\n",
       "    .dataframe thead th {\n",
       "        text-align: right;\n",
       "    }\n",
       "</style>\n",
       "<table border=\"1\" class=\"dataframe\">\n",
       "  <thead>\n",
       "    <tr style=\"text-align: right;\">\n",
       "      <th></th>\n",
       "      <th>main_genre</th>\n",
       "      <th>main_director</th>\n",
       "    </tr>\n",
       "  </thead>\n",
       "  <tbody>\n",
       "    <tr>\n",
       "      <td>0</td>\n",
       "      <td>боевик</td>\n",
       "      <td>Кевин Костнер</td>\n",
       "    </tr>\n",
       "    <tr>\n",
       "      <td>1</td>\n",
       "      <td>драма</td>\n",
       "      <td>Е.Матвеев</td>\n",
       "    </tr>\n",
       "    <tr>\n",
       "      <td>2</td>\n",
       "      <td>фантастика</td>\n",
       "      <td>Тимур Бекмамбетов</td>\n",
       "    </tr>\n",
       "    <tr>\n",
       "      <td>3</td>\n",
       "      <td>фантастика</td>\n",
       "      <td>Тимур Бекмамбетов</td>\n",
       "    </tr>\n",
       "    <tr>\n",
       "      <td>4</td>\n",
       "      <td>фантастика</td>\n",
       "      <td>Тимур Бекмамбетов</td>\n",
       "    </tr>\n",
       "    <tr>\n",
       "      <td>...</td>\n",
       "      <td>...</td>\n",
       "      <td>...</td>\n",
       "    </tr>\n",
       "    <tr>\n",
       "      <td>7481</td>\n",
       "      <td>NA</td>\n",
       "      <td>Фил Грабски</td>\n",
       "    </tr>\n",
       "    <tr>\n",
       "      <td>7482</td>\n",
       "      <td>боевик</td>\n",
       "      <td>Ник Пауэлл</td>\n",
       "    </tr>\n",
       "    <tr>\n",
       "      <td>7483</td>\n",
       "      <td>NA</td>\n",
       "      <td>Чарльз Е.Бастьен</td>\n",
       "    </tr>\n",
       "    <tr>\n",
       "      <td>7484</td>\n",
       "      <td>NA</td>\n",
       "      <td>А.Беляев</td>\n",
       "    </tr>\n",
       "    <tr>\n",
       "      <td>7485</td>\n",
       "      <td>комедия</td>\n",
       "      <td>И.Трусов</td>\n",
       "    </tr>\n",
       "  </tbody>\n",
       "</table>\n",
       "<p>7484 rows × 2 columns</p>\n",
       "</div>"
      ],
      "text/plain": [
       "      main_genre      main_director\n",
       "0         боевик      Кевин Костнер\n",
       "1          драма          Е.Матвеев\n",
       "2     фантастика  Тимур Бекмамбетов\n",
       "3     фантастика  Тимур Бекмамбетов\n",
       "4     фантастика  Тимур Бекмамбетов\n",
       "...          ...                ...\n",
       "7481          NA        Фил Грабски\n",
       "7482      боевик         Ник Пауэлл\n",
       "7483          NA   Чарльз Е.Бастьен\n",
       "7484          NA           А.Беляев\n",
       "7485     комедия           И.Трусов\n",
       "\n",
       "[7484 rows x 2 columns]"
      ]
     },
     "execution_count": 36,
     "metadata": {},
     "output_type": "execute_result"
    }
   ],
   "source": [
    "df_full[['main_genre', 'main_director']] #Проверим результат"
   ]
  },
  {
   "cell_type": "code",
   "execution_count": 37,
   "metadata": {},
   "outputs": [],
   "source": [
    "df_full[['main_genre', 'main_director']] = df_full[['main_genre', 'main_director']].replace('NA', 'NaN')"
   ]
  },
  {
   "cell_type": "code",
   "execution_count": 38,
   "metadata": {
    "id": "LV6qFuZLgFyV"
   },
   "outputs": [],
   "source": [
    "df_full['gov_part_of_budget'] = (df_full['refundable_support'] + df_full['nonrefundable_support']) / df_full['budget']"
   ]
  },
  {
   "cell_type": "code",
   "execution_count": 39,
   "metadata": {},
   "outputs": [
    {
     "data": {
      "text/plain": [
       "1.000000    17\n",
       "0.649351     6\n",
       "0.657895     5\n",
       "0.500000     5\n",
       "0.700000     5\n",
       "            ..\n",
       "0.242097     1\n",
       "0.649872     1\n",
       "0.595252     1\n",
       "0.624599     1\n",
       "0.236345     1\n",
       "Name: gov_part_of_budget, Length: 282, dtype: int64"
      ]
     },
     "execution_count": 39,
     "metadata": {},
     "output_type": "execute_result"
    }
   ],
   "source": [
    "df_full['gov_part_of_budget'].value_counts() #Проверим результат "
   ]
  },
  {
   "cell_type": "markdown",
   "metadata": {
    "id": "6t4EukPLgFyV"
   },
   "source": [
    "###  Анализ \n"
   ]
  },
  {
   "cell_type": "code",
   "execution_count": 40,
   "metadata": {
    "id": "ABeV47y7gFyW"
   },
   "outputs": [
    {
     "data": {
      "text/plain": [
       "year\n",
       "2010    983\n",
       "2011    622\n",
       "2012    593\n",
       "2013    630\n",
       "2014    807\n",
       "2015    705\n",
       "2016    818\n",
       "2017    505\n",
       "2018    891\n",
       "2019    930\n",
       "Name: title, dtype: int64"
      ]
     },
     "metadata": {},
     "output_type": "display_data"
    },
    {
     "data": {
      "text/plain": [
       "year\n",
       "2010    105\n",
       "2011    109\n",
       "2012    128\n",
       "2013    184\n",
       "2014    279\n",
       "2015    465\n",
       "2016    526\n",
       "2017    357\n",
       "2018    475\n",
       "2019    530\n",
       "Name: box_office, dtype: int64"
      ]
     },
     "metadata": {},
     "output_type": "display_data"
    }
   ],
   "source": [
    "amount_by_year = df_full.groupby('year')['title'].count()\n",
    "films_with_boxof_info = df_full.groupby('year')['box_office'].count()\n",
    "display(amount_by_year)\n",
    "display(films_with_boxof_info)"
   ]
  },
  {
   "cell_type": "code",
   "execution_count": 41,
   "metadata": {},
   "outputs": [
    {
     "data": {
      "text/plain": [
       "year\n",
       "2010    0.106816\n",
       "2011    0.175241\n",
       "2012    0.215852\n",
       "2013    0.292063\n",
       "2014    0.345725\n",
       "2015    0.659574\n",
       "2016    0.643032\n",
       "2017    0.706931\n",
       "2018    0.533109\n",
       "2019    0.569892\n",
       "dtype: float64"
      ]
     },
     "metadata": {},
     "output_type": "display_data"
    }
   ],
   "source": [
    "ratio =  films_with_boxof_info / amount_by_year\n",
    "display(ratio)"
   ]
  },
  {
   "cell_type": "code",
   "execution_count": 42,
   "metadata": {},
   "outputs": [
    {
     "data": {
      "text/plain": [
       "<matplotlib.axes._subplots.AxesSubplot at 0x7f0ae0690d50>"
      ]
     },
     "execution_count": 42,
     "metadata": {},
     "output_type": "execute_result"
    },
    {
     "data": {
      "image/png": "[encoded data removed]",
      "text/plain": [
       "<Figure size 432x288 with 1 Axes>"
      ]
     },
     "metadata": {
      "needs_background": "light"
     },
     "output_type": "display_data"
    }
   ],
   "source": [
    "ratio.plot(grid=True)"
   ]
  },
  {
   "cell_type": "markdown",
   "metadata": {},
   "source": [
    "Видно, что доля с известной информацией непропорционально возрастает каждый год, падая в 2018 году"
   ]
  },
  {
   "cell_type": "code",
   "execution_count": 43,
   "metadata": {
    "id": "tfEhofYvgFyX"
   },
   "outputs": [
    {
     "data": {
      "text/html": [
       "<div>\n",
       "<style scoped>\n",
       "    .dataframe tbody tr th:only-of-type {\n",
       "        vertical-align: middle;\n",
       "    }\n",
       "\n",
       "    .dataframe tbody tr th {\n",
       "        vertical-align: top;\n",
       "    }\n",
       "\n",
       "    .dataframe thead th {\n",
       "        text-align: right;\n",
       "    }\n",
       "</style>\n",
       "<table border=\"1\" class=\"dataframe\">\n",
       "  <thead>\n",
       "    <tr style=\"text-align: right;\">\n",
       "      <th></th>\n",
       "      <th>box_office</th>\n",
       "    </tr>\n",
       "    <tr>\n",
       "      <th>year</th>\n",
       "      <th></th>\n",
       "    </tr>\n",
       "  </thead>\n",
       "  <tbody>\n",
       "    <tr>\n",
       "      <td>2010</td>\n",
       "      <td>2.428654e+06</td>\n",
       "    </tr>\n",
       "    <tr>\n",
       "      <td>2012</td>\n",
       "      <td>6.955423e+06</td>\n",
       "    </tr>\n",
       "    <tr>\n",
       "      <td>2011</td>\n",
       "      <td>1.410276e+07</td>\n",
       "    </tr>\n",
       "    <tr>\n",
       "      <td>2013</td>\n",
       "      <td>2.979970e+07</td>\n",
       "    </tr>\n",
       "    <tr>\n",
       "      <td>2014</td>\n",
       "      <td>7.444952e+09</td>\n",
       "    </tr>\n",
       "    <tr>\n",
       "      <td>2015</td>\n",
       "      <td>3.949737e+10</td>\n",
       "    </tr>\n",
       "    <tr>\n",
       "      <td>2016</td>\n",
       "      <td>4.786630e+10</td>\n",
       "    </tr>\n",
       "    <tr>\n",
       "      <td>2019</td>\n",
       "      <td>4.842571e+10</td>\n",
       "    </tr>\n",
       "    <tr>\n",
       "      <td>2017</td>\n",
       "      <td>4.856371e+10</td>\n",
       "    </tr>\n",
       "    <tr>\n",
       "      <td>2018</td>\n",
       "      <td>4.966840e+10</td>\n",
       "    </tr>\n",
       "  </tbody>\n",
       "</table>\n",
       "</div>"
      ],
      "text/plain": [
       "        box_office\n",
       "year              \n",
       "2010  2.428654e+06\n",
       "2012  6.955423e+06\n",
       "2011  1.410276e+07\n",
       "2013  2.979970e+07\n",
       "2014  7.444952e+09\n",
       "2015  3.949737e+10\n",
       "2016  4.786630e+10\n",
       "2019  4.842571e+10\n",
       "2017  4.856371e+10\n",
       "2018  4.966840e+10"
      ]
     },
     "metadata": {},
     "output_type": "display_data"
    }
   ],
   "source": [
    "boxof_sum_pivot = df_full.pivot_table(index='year', values='box_office', aggfunc='sum')\n",
    "display(boxof_sum_pivot.sort_values('box_office'))"
   ]
  },
  {
   "cell_type": "code",
   "execution_count": 44,
   "metadata": {
    "scrolled": false
   },
   "outputs": [
    {
     "data": {
      "text/plain": [
       "<matplotlib.axes._subplots.AxesSubplot at 0x7f0ae0435810>"
      ]
     },
     "execution_count": 44,
     "metadata": {},
     "output_type": "execute_result"
    },
    {
     "data": {
      "image/png": "[encoded data removed]",
      "text/plain": [
       "<Figure size 720x720 with 1 Axes>"
      ]
     },
     "metadata": {
      "needs_background": "light"
     },
     "output_type": "display_data"
    }
   ],
   "source": [
    "boxof_sum_pivot.plot( figsize=(10,10))"
   ]
  },
  {
   "cell_type": "markdown",
   "metadata": {},
   "source": [
    "В период с 2014 до 2016 видно взрывной рост сборов"
   ]
  },
  {
   "cell_type": "code",
   "execution_count": 45,
   "metadata": {
    "id": "jmp-rgg9gFyY"
   },
   "outputs": [
    {
     "data": {
      "text/html": [
       "<div>\n",
       "<style scoped>\n",
       "    .dataframe tbody tr th:only-of-type {\n",
       "        vertical-align: middle;\n",
       "    }\n",
       "\n",
       "    .dataframe tbody tr th {\n",
       "        vertical-align: top;\n",
       "    }\n",
       "\n",
       "    .dataframe thead tr th {\n",
       "        text-align: left;\n",
       "    }\n",
       "\n",
       "    .dataframe thead tr:last-of-type th {\n",
       "        text-align: right;\n",
       "    }\n",
       "</style>\n",
       "<table border=\"1\" class=\"dataframe\">\n",
       "  <thead>\n",
       "    <tr>\n",
       "      <th></th>\n",
       "      <th>mean</th>\n",
       "      <th>median</th>\n",
       "    </tr>\n",
       "    <tr>\n",
       "      <th></th>\n",
       "      <th>box_office</th>\n",
       "      <th>box_office</th>\n",
       "    </tr>\n",
       "    <tr>\n",
       "      <th>year</th>\n",
       "      <th></th>\n",
       "      <th></th>\n",
       "    </tr>\n",
       "  </thead>\n",
       "  <tbody>\n",
       "    <tr>\n",
       "      <td>2010</td>\n",
       "      <td>2.313004e+04</td>\n",
       "      <td>1700.0</td>\n",
       "    </tr>\n",
       "    <tr>\n",
       "      <td>2011</td>\n",
       "      <td>1.293832e+05</td>\n",
       "      <td>3000.0</td>\n",
       "    </tr>\n",
       "    <tr>\n",
       "      <td>2012</td>\n",
       "      <td>5.433924e+04</td>\n",
       "      <td>5660.0</td>\n",
       "    </tr>\n",
       "    <tr>\n",
       "      <td>2013</td>\n",
       "      <td>1.619549e+05</td>\n",
       "      <td>3522.5</td>\n",
       "    </tr>\n",
       "    <tr>\n",
       "      <td>2014</td>\n",
       "      <td>2.668442e+07</td>\n",
       "      <td>18160.0</td>\n",
       "    </tr>\n",
       "    <tr>\n",
       "      <td>2015</td>\n",
       "      <td>8.494057e+07</td>\n",
       "      <td>4920933.0</td>\n",
       "    </tr>\n",
       "    <tr>\n",
       "      <td>2016</td>\n",
       "      <td>9.100057e+07</td>\n",
       "      <td>3846679.0</td>\n",
       "    </tr>\n",
       "    <tr>\n",
       "      <td>2017</td>\n",
       "      <td>1.360328e+08</td>\n",
       "      <td>9968340.0</td>\n",
       "    </tr>\n",
       "    <tr>\n",
       "      <td>2018</td>\n",
       "      <td>1.045651e+08</td>\n",
       "      <td>8891102.0</td>\n",
       "    </tr>\n",
       "    <tr>\n",
       "      <td>2019</td>\n",
       "      <td>9.136926e+07</td>\n",
       "      <td>4627798.0</td>\n",
       "    </tr>\n",
       "  </tbody>\n",
       "</table>\n",
       "</div>"
      ],
      "text/plain": [
       "              mean     median\n",
       "        box_office box_office\n",
       "year                         \n",
       "2010  2.313004e+04     1700.0\n",
       "2011  1.293832e+05     3000.0\n",
       "2012  5.433924e+04     5660.0\n",
       "2013  1.619549e+05     3522.5\n",
       "2014  2.668442e+07    18160.0\n",
       "2015  8.494057e+07  4920933.0\n",
       "2016  9.100057e+07  3846679.0\n",
       "2017  1.360328e+08  9968340.0\n",
       "2018  1.045651e+08  8891102.0\n",
       "2019  9.136926e+07  4627798.0"
      ]
     },
     "metadata": {},
     "output_type": "display_data"
    }
   ],
   "source": [
    "boxof_pivot = df_full.pivot_table(index='year', values='box_office', aggfunc=['mean','median'])\n",
    "display(boxof_pivot)"
   ]
  },
  {
   "cell_type": "markdown",
   "metadata": {},
   "source": [
    "По медиане видно, что очень много фильмов с неизвестной информацией было до 2014 года включительно \\\n",
    "Позже ситуация наладилась \\\n",
    "Максимальная средняя величина в 2017 году, минимальная в 2012"
   ]
  },
  {
   "cell_type": "code",
   "execution_count": 46,
   "metadata": {
    "id": "jsSbEqfjgFya"
   },
   "outputs": [
    {
     "data": {
      "text/html": [
       "<div>\n",
       "<style scoped>\n",
       "    .dataframe tbody tr th:only-of-type {\n",
       "        vertical-align: middle;\n",
       "    }\n",
       "\n",
       "    .dataframe tbody tr th {\n",
       "        vertical-align: top;\n",
       "    }\n",
       "\n",
       "    .dataframe thead th {\n",
       "        text-align: right;\n",
       "    }\n",
       "</style>\n",
       "<table border=\"1\" class=\"dataframe\">\n",
       "  <thead>\n",
       "    <tr style=\"text-align: right;\">\n",
       "      <th>age_restriction</th>\n",
       "      <th>0</th>\n",
       "      <th>6</th>\n",
       "      <th>12</th>\n",
       "      <th>18</th>\n",
       "    </tr>\n",
       "    <tr>\n",
       "      <th>year</th>\n",
       "      <th></th>\n",
       "      <th></th>\n",
       "      <th></th>\n",
       "      <th></th>\n",
       "    </tr>\n",
       "  </thead>\n",
       "  <tbody>\n",
       "    <tr>\n",
       "      <td>2010</td>\n",
       "      <td>1887611.0</td>\n",
       "      <td>3.665120e+05</td>\n",
       "      <td>1.201460e+05</td>\n",
       "      <td>5.438500e+04</td>\n",
       "    </tr>\n",
       "    <tr>\n",
       "      <td>2011</td>\n",
       "      <td>13499871.0</td>\n",
       "      <td>3.819630e+05</td>\n",
       "      <td>2.198910e+05</td>\n",
       "      <td>1.040000e+03</td>\n",
       "    </tr>\n",
       "    <tr>\n",
       "      <td>2012</td>\n",
       "      <td>2266483.0</td>\n",
       "      <td>4.397626e+06</td>\n",
       "      <td>1.087340e+05</td>\n",
       "      <td>1.825800e+05</td>\n",
       "    </tr>\n",
       "    <tr>\n",
       "      <td>2013</td>\n",
       "      <td>2710302.0</td>\n",
       "      <td>1.017821e+06</td>\n",
       "      <td>2.091034e+07</td>\n",
       "      <td>5.161245e+06</td>\n",
       "    </tr>\n",
       "    <tr>\n",
       "      <td>2014</td>\n",
       "      <td>375562257.0</td>\n",
       "      <td>2.274895e+09</td>\n",
       "      <td>2.584782e+09</td>\n",
       "      <td>2.209713e+09</td>\n",
       "    </tr>\n",
       "    <tr>\n",
       "      <td>2015</td>\n",
       "      <td>379054567.0</td>\n",
       "      <td>2.006992e+10</td>\n",
       "      <td>1.361608e+10</td>\n",
       "      <td>5.432308e+09</td>\n",
       "    </tr>\n",
       "    <tr>\n",
       "      <td>2016</td>\n",
       "      <td>150228839.0</td>\n",
       "      <td>2.871769e+10</td>\n",
       "      <td>1.220445e+10</td>\n",
       "      <td>6.793930e+09</td>\n",
       "    </tr>\n",
       "    <tr>\n",
       "      <td>2017</td>\n",
       "      <td>229598930.0</td>\n",
       "      <td>3.083119e+10</td>\n",
       "      <td>7.851428e+09</td>\n",
       "      <td>9.651496e+09</td>\n",
       "    </tr>\n",
       "    <tr>\n",
       "      <td>2018</td>\n",
       "      <td>32449001.0</td>\n",
       "      <td>2.660858e+10</td>\n",
       "      <td>1.426729e+10</td>\n",
       "      <td>8.760085e+09</td>\n",
       "    </tr>\n",
       "    <tr>\n",
       "      <td>2019</td>\n",
       "      <td>17746066.0</td>\n",
       "      <td>2.560597e+10</td>\n",
       "      <td>1.268020e+10</td>\n",
       "      <td>1.012180e+10</td>\n",
       "    </tr>\n",
       "  </tbody>\n",
       "</table>\n",
       "</div>"
      ],
      "text/plain": [
       "age_restriction           0             6             12            18\n",
       "year                                                                  \n",
       "2010               1887611.0  3.665120e+05  1.201460e+05  5.438500e+04\n",
       "2011              13499871.0  3.819630e+05  2.198910e+05  1.040000e+03\n",
       "2012               2266483.0  4.397626e+06  1.087340e+05  1.825800e+05\n",
       "2013               2710302.0  1.017821e+06  2.091034e+07  5.161245e+06\n",
       "2014             375562257.0  2.274895e+09  2.584782e+09  2.209713e+09\n",
       "2015             379054567.0  2.006992e+10  1.361608e+10  5.432308e+09\n",
       "2016             150228839.0  2.871769e+10  1.220445e+10  6.793930e+09\n",
       "2017             229598930.0  3.083119e+10  7.851428e+09  9.651496e+09\n",
       "2018              32449001.0  2.660858e+10  1.426729e+10  8.760085e+09\n",
       "2019              17746066.0  2.560597e+10  1.268020e+10  1.012180e+10"
      ]
     },
     "metadata": {},
     "output_type": "display_data"
    }
   ],
   "source": [
    "box_by_age = df_full.pivot_table(index='year', columns='age_restriction', values='box_office', aggfunc='sum')\n",
    "display(box_by_age)"
   ]
  },
  {
   "cell_type": "code",
   "execution_count": 47,
   "metadata": {},
   "outputs": [
    {
     "data": {
      "image/png": "[encoded data removed]",
      "text/plain": [
       "<Figure size 720x720 with 1 Axes>"
      ]
     },
     "metadata": {
      "needs_background": "light"
     },
     "output_type": "display_data"
    }
   ],
   "source": [
    "for i in [0, 6, 12, 18]:\n",
    "    box_by_age[i].plot(grid=True, legend=True, figsize=(10,10))"
   ]
  },
  {
   "cell_type": "code",
   "execution_count": 48,
   "metadata": {},
   "outputs": [
    {
     "data": {
      "image/png": "[encoded data removed]",
      "text/plain": [
       "<Figure size 504x504 with 1 Axes>"
      ]
     },
     "metadata": {
      "needs_background": "light"
     },
     "output_type": "display_data"
    }
   ],
   "source": [
    "for i in [0, 6, 12, 18]: # Чуть увеличим тот участок, который не видно на основном графике\n",
    "    box_by_age.loc[2010:2013, i].plot(grid=True, legend=True, figsize=(7,7))"
   ]
  },
  {
   "cell_type": "markdown",
   "metadata": {},
   "source": [
    "Видно, что постепенно бОльшую часть проката захватывают фильмы в 6+ категории \\\n",
    "И тенденция не особо-то меняется. Возможно, это связано с тем, что это фильмы для самого широкого круга зрителей. И с семьей, и со второй половинкой, и одному. В эту категорию попадают самые разные картины, на любой вкус"
   ]
  },
  {
   "cell_type": "markdown",
   "metadata": {
    "id": "l_Kg6Ku4gFya"
   },
   "source": [
    "###  Исследуем отдельно фильмы с господдержкой\n"
   ]
  },
  {
   "cell_type": "code",
   "execution_count": 49,
   "metadata": {
    "id": "W9QKpjUdgFyb",
    "scrolled": true
   },
   "outputs": [
    {
     "data": {
      "text/html": [
       "<div>\n",
       "<style scoped>\n",
       "    .dataframe tbody tr th:only-of-type {\n",
       "        vertical-align: middle;\n",
       "    }\n",
       "\n",
       "    .dataframe tbody tr th {\n",
       "        vertical-align: top;\n",
       "    }\n",
       "\n",
       "    .dataframe thead th {\n",
       "        text-align: right;\n",
       "    }\n",
       "</style>\n",
       "<table border=\"1\" class=\"dataframe\">\n",
       "  <thead>\n",
       "    <tr style=\"text-align: right;\">\n",
       "      <th></th>\n",
       "      <th>title</th>\n",
       "      <th>puNumber</th>\n",
       "      <th>show_start_date</th>\n",
       "      <th>type</th>\n",
       "      <th>film_studio</th>\n",
       "      <th>production_country</th>\n",
       "      <th>director</th>\n",
       "      <th>producer</th>\n",
       "      <th>age_restriction</th>\n",
       "      <th>refundable_support</th>\n",
       "      <th>nonrefundable_support</th>\n",
       "      <th>budget</th>\n",
       "      <th>financing_source</th>\n",
       "      <th>ratings</th>\n",
       "      <th>genres</th>\n",
       "      <th>box_office</th>\n",
       "      <th>year</th>\n",
       "      <th>main_genre</th>\n",
       "      <th>main_director</th>\n",
       "      <th>gov_part_of_budget</th>\n",
       "    </tr>\n",
       "  </thead>\n",
       "  <tbody>\n",
       "    <tr>\n",
       "      <td>1281</td>\n",
       "      <td>Пока еще жива</td>\n",
       "      <td>111005313</td>\n",
       "      <td>2013-10-11 12:00:00</td>\n",
       "      <td>Художественный</td>\n",
       "      <td>АНО содействия развитию кинематографии \"Ангел-...</td>\n",
       "      <td>Россия</td>\n",
       "      <td>А.Атанесян</td>\n",
       "      <td>А.Атанесян, М.Бабаханов, Р.Бутко</td>\n",
       "      <td>6</td>\n",
       "      <td>0.0</td>\n",
       "      <td>26500000.0</td>\n",
       "      <td>79411900.0</td>\n",
       "      <td>Министерство культуры</td>\n",
       "      <td>8.1</td>\n",
       "      <td>драма,мелодрама</td>\n",
       "      <td>365353.0</td>\n",
       "      <td>2013</td>\n",
       "      <td>драма</td>\n",
       "      <td>А.Атанесян</td>\n",
       "      <td>0.333703</td>\n",
       "    </tr>\n",
       "    <tr>\n",
       "      <td>1448</td>\n",
       "      <td>Бесславные придурки</td>\n",
       "      <td>111003314</td>\n",
       "      <td>2014-03-28 12:00:00</td>\n",
       "      <td>Художественный</td>\n",
       "      <td>ООО \"Компания \"АТК-Студио\"</td>\n",
       "      <td>Россия</td>\n",
       "      <td>А.Якимчук</td>\n",
       "      <td>А.Тютрюмов</td>\n",
       "      <td>12</td>\n",
       "      <td>0.0</td>\n",
       "      <td>26000000.0</td>\n",
       "      <td>37142857.0</td>\n",
       "      <td>Министерство культуры</td>\n",
       "      <td>NaN</td>\n",
       "      <td>NA</td>\n",
       "      <td>28140.0</td>\n",
       "      <td>2014</td>\n",
       "      <td>NaN</td>\n",
       "      <td>А.Якимчук</td>\n",
       "      <td>0.700000</td>\n",
       "    </tr>\n",
       "    <tr>\n",
       "      <td>1498</td>\n",
       "      <td>Невидимки</td>\n",
       "      <td>111004213</td>\n",
       "      <td>2013-09-10 12:00:00</td>\n",
       "      <td>Художественный</td>\n",
       "      <td>ООО \"Компания \"РЕАЛ-ДАКОТА\"</td>\n",
       "      <td>Россия</td>\n",
       "      <td>Р.Давлетьяров, С.Комаров</td>\n",
       "      <td>Р.Давлетьяров, А.Котелевский, А.Олейников</td>\n",
       "      <td>12</td>\n",
       "      <td>0.0</td>\n",
       "      <td>107847945.0</td>\n",
       "      <td>176023490.0</td>\n",
       "      <td>Фонд кино</td>\n",
       "      <td>5.3</td>\n",
       "      <td>комедия,фантастика</td>\n",
       "      <td>19957031.0</td>\n",
       "      <td>2013</td>\n",
       "      <td>комедия</td>\n",
       "      <td>Р.Давлетьяров</td>\n",
       "      <td>0.612691</td>\n",
       "    </tr>\n",
       "    <tr>\n",
       "      <td>1524</td>\n",
       "      <td>БЕРЦЫ</td>\n",
       "      <td>111004314</td>\n",
       "      <td>2014-05-05 12:00:00</td>\n",
       "      <td>Художественный</td>\n",
       "      <td>ООО \"Студия \"Пассажир\"</td>\n",
       "      <td>Россия</td>\n",
       "      <td>Е.Миндадзе (псевдоним Катя Шагалова)</td>\n",
       "      <td>Л.Антонова</td>\n",
       "      <td>6</td>\n",
       "      <td>0.0</td>\n",
       "      <td>28000000.0</td>\n",
       "      <td>40574140.0</td>\n",
       "      <td>Министерство культуры</td>\n",
       "      <td>4.2</td>\n",
       "      <td>драма</td>\n",
       "      <td>55917.0</td>\n",
       "      <td>2014</td>\n",
       "      <td>драма</td>\n",
       "      <td>Е.Миндадзе (псевдоним Катя Шагалова)</td>\n",
       "      <td>0.690095</td>\n",
       "    </tr>\n",
       "    <tr>\n",
       "      <td>1792</td>\n",
       "      <td>Братья Ч</td>\n",
       "      <td>111004414</td>\n",
       "      <td>2014-04-23 12:00:00</td>\n",
       "      <td>Художественный</td>\n",
       "      <td>ООО \"Студия \"Пассажир\"</td>\n",
       "      <td>Россия</td>\n",
       "      <td>М.Угаров</td>\n",
       "      <td>А.Миндадзе, Л.Антонова</td>\n",
       "      <td>6</td>\n",
       "      <td>0.0</td>\n",
       "      <td>25000000.0</td>\n",
       "      <td>40015122.0</td>\n",
       "      <td>Министерство культуры</td>\n",
       "      <td>6.4</td>\n",
       "      <td>драма</td>\n",
       "      <td>232100.0</td>\n",
       "      <td>2014</td>\n",
       "      <td>драма</td>\n",
       "      <td>М.Угаров</td>\n",
       "      <td>0.624764</td>\n",
       "    </tr>\n",
       "    <tr>\n",
       "      <td>...</td>\n",
       "      <td>...</td>\n",
       "      <td>...</td>\n",
       "      <td>...</td>\n",
       "      <td>...</td>\n",
       "      <td>...</td>\n",
       "      <td>...</td>\n",
       "      <td>...</td>\n",
       "      <td>...</td>\n",
       "      <td>...</td>\n",
       "      <td>...</td>\n",
       "      <td>...</td>\n",
       "      <td>...</td>\n",
       "      <td>...</td>\n",
       "      <td>...</td>\n",
       "      <td>...</td>\n",
       "      <td>...</td>\n",
       "      <td>...</td>\n",
       "      <td>...</td>\n",
       "      <td>...</td>\n",
       "      <td>...</td>\n",
       "    </tr>\n",
       "    <tr>\n",
       "      <td>7464</td>\n",
       "      <td>Союз спасения</td>\n",
       "      <td>111022019</td>\n",
       "      <td>2019-12-26 12:00:00</td>\n",
       "      <td>Художественный</td>\n",
       "      <td>ЗАО \"Дирекция кино\"</td>\n",
       "      <td>Россия</td>\n",
       "      <td>А.Кравчук</td>\n",
       "      <td>А.Максимов, К.Эрнст</td>\n",
       "      <td>12</td>\n",
       "      <td>100000000.0</td>\n",
       "      <td>400000000.0</td>\n",
       "      <td>980000000.0</td>\n",
       "      <td>Фонд кино</td>\n",
       "      <td>6.0</td>\n",
       "      <td>история,биография,драма</td>\n",
       "      <td>717703185.0</td>\n",
       "      <td>2019</td>\n",
       "      <td>история</td>\n",
       "      <td>А.Кравчук</td>\n",
       "      <td>0.510204</td>\n",
       "    </tr>\n",
       "    <tr>\n",
       "      <td>7466</td>\n",
       "      <td>Иван Царевич и Серый Волк 4</td>\n",
       "      <td>114005019</td>\n",
       "      <td>2019-12-20 12:00:00</td>\n",
       "      <td>Анимационный</td>\n",
       "      <td>ООО \"Студия анимационного кино \"Мельница\"</td>\n",
       "      <td>Россия</td>\n",
       "      <td>Д.Шмидт, К.Феоктистов</td>\n",
       "      <td>С.Сельянов, А.Боярский</td>\n",
       "      <td>6</td>\n",
       "      <td>100000000.0</td>\n",
       "      <td>0.0</td>\n",
       "      <td>190000000.0</td>\n",
       "      <td>Фонд кино</td>\n",
       "      <td>6.7</td>\n",
       "      <td>мультфильм,приключения,семейный</td>\n",
       "      <td>501069235.0</td>\n",
       "      <td>2019</td>\n",
       "      <td>мультфильм</td>\n",
       "      <td>Д.Шмидт</td>\n",
       "      <td>0.526316</td>\n",
       "    </tr>\n",
       "    <tr>\n",
       "      <td>7474</td>\n",
       "      <td>Вторжение</td>\n",
       "      <td>111022519</td>\n",
       "      <td>2019-12-23 12:00:00</td>\n",
       "      <td>Художественный</td>\n",
       "      <td>ООО \"Арт Пикчерс Студия\", ООО \"Водород 2011\"</td>\n",
       "      <td>Россия</td>\n",
       "      <td>Ф.Бондарчук</td>\n",
       "      <td>Ф.Бондарчук, М.Врубель, А.Андрющенко, Д.Рудовский</td>\n",
       "      <td>12</td>\n",
       "      <td>100000000.0</td>\n",
       "      <td>400000000.0</td>\n",
       "      <td>944000000.0</td>\n",
       "      <td>Фонд кино</td>\n",
       "      <td>5.7</td>\n",
       "      <td>фантастика,боевик</td>\n",
       "      <td>NaN</td>\n",
       "      <td>2019</td>\n",
       "      <td>фантастика</td>\n",
       "      <td>Ф.Бондарчук</td>\n",
       "      <td>0.529661</td>\n",
       "    </tr>\n",
       "    <tr>\n",
       "      <td>7476</td>\n",
       "      <td>Я свободен</td>\n",
       "      <td>111023019</td>\n",
       "      <td>2019-12-26 12:00:00</td>\n",
       "      <td>Художественный</td>\n",
       "      <td>АО \"ТПО \"Киностудия им. М.Горького\"</td>\n",
       "      <td>Россия</td>\n",
       "      <td>И.Северов</td>\n",
       "      <td>С.Зернов</td>\n",
       "      <td>12</td>\n",
       "      <td>0.0</td>\n",
       "      <td>30000000.0</td>\n",
       "      <td>46154000.0</td>\n",
       "      <td>Министерство культуры</td>\n",
       "      <td>5.9</td>\n",
       "      <td>драма</td>\n",
       "      <td>NaN</td>\n",
       "      <td>2019</td>\n",
       "      <td>драма</td>\n",
       "      <td>И.Северов</td>\n",
       "      <td>0.649998</td>\n",
       "    </tr>\n",
       "    <tr>\n",
       "      <td>7478</td>\n",
       "      <td>(Не)идеальный мужчина</td>\n",
       "      <td>111023119</td>\n",
       "      <td>2019-12-24 12:00:00</td>\n",
       "      <td>Художественный</td>\n",
       "      <td>ООО \"Нон-Стоп Продакшн\"</td>\n",
       "      <td>Россия</td>\n",
       "      <td>М.Бальчюнас (псевдоним М.Вайсберг)</td>\n",
       "      <td>С.Мелькумов, А.Роднянский, М.Вайсберг, Р.Минас...</td>\n",
       "      <td>12</td>\n",
       "      <td>40000000.0</td>\n",
       "      <td>60000000.0</td>\n",
       "      <td>150147502.0</td>\n",
       "      <td>Фонд кино</td>\n",
       "      <td>4.5</td>\n",
       "      <td>комедия,фантастика,мелодрама</td>\n",
       "      <td>NaN</td>\n",
       "      <td>2019</td>\n",
       "      <td>комедия</td>\n",
       "      <td>М.Бальчюнас (псевдоним М.Вайсберг)</td>\n",
       "      <td>0.666012</td>\n",
       "    </tr>\n",
       "  </tbody>\n",
       "</table>\n",
       "<p>332 rows × 20 columns</p>\n",
       "</div>"
      ],
      "text/plain": [
       "                            title   puNumber     show_start_date  \\\n",
       "1281                Пока еще жива  111005313 2013-10-11 12:00:00   \n",
       "1448          Бесславные придурки  111003314 2014-03-28 12:00:00   \n",
       "1498                    Невидимки  111004213 2013-09-10 12:00:00   \n",
       "1524                        БЕРЦЫ  111004314 2014-05-05 12:00:00   \n",
       "1792                     Братья Ч  111004414 2014-04-23 12:00:00   \n",
       "...                           ...        ...                 ...   \n",
       "7464                Союз спасения  111022019 2019-12-26 12:00:00   \n",
       "7466  Иван Царевич и Серый Волк 4  114005019 2019-12-20 12:00:00   \n",
       "7474                    Вторжение  111022519 2019-12-23 12:00:00   \n",
       "7476                   Я свободен  111023019 2019-12-26 12:00:00   \n",
       "7478        (Не)идеальный мужчина  111023119 2019-12-24 12:00:00   \n",
       "\n",
       "                type                                        film_studio  \\\n",
       "1281  Художественный  АНО содействия развитию кинематографии \"Ангел-...   \n",
       "1448  Художественный                         ООО \"Компания \"АТК-Студио\"   \n",
       "1498  Художественный                        ООО \"Компания \"РЕАЛ-ДАКОТА\"   \n",
       "1524  Художественный                             ООО \"Студия \"Пассажир\"   \n",
       "1792  Художественный                             ООО \"Студия \"Пассажир\"   \n",
       "...              ...                                                ...   \n",
       "7464  Художественный                                ЗАО \"Дирекция кино\"   \n",
       "7466    Анимационный          ООО \"Студия анимационного кино \"Мельница\"   \n",
       "7474  Художественный       ООО \"Арт Пикчерс Студия\", ООО \"Водород 2011\"   \n",
       "7476  Художественный                АО \"ТПО \"Киностудия им. М.Горького\"   \n",
       "7478  Художественный                           ООО \"Нон-Стоп Продакшн\"    \n",
       "\n",
       "     production_country                              director  \\\n",
       "1281             Россия                            А.Атанесян   \n",
       "1448             Россия                             А.Якимчук   \n",
       "1498             Россия              Р.Давлетьяров, С.Комаров   \n",
       "1524             Россия  Е.Миндадзе (псевдоним Катя Шагалова)   \n",
       "1792             Россия                              М.Угаров   \n",
       "...                 ...                                   ...   \n",
       "7464             Россия                             А.Кравчук   \n",
       "7466             Россия                 Д.Шмидт, К.Феоктистов   \n",
       "7474             Россия                           Ф.Бондарчук   \n",
       "7476             Россия                             И.Северов   \n",
       "7478             Россия    М.Бальчюнас (псевдоним М.Вайсберг)   \n",
       "\n",
       "                                               producer  age_restriction  \\\n",
       "1281                   А.Атанесян, М.Бабаханов, Р.Бутко                6   \n",
       "1448                                         А.Тютрюмов               12   \n",
       "1498          Р.Давлетьяров, А.Котелевский, А.Олейников               12   \n",
       "1524                                         Л.Антонова                6   \n",
       "1792                             А.Миндадзе, Л.Антонова                6   \n",
       "...                                                 ...              ...   \n",
       "7464                                А.Максимов, К.Эрнст               12   \n",
       "7466                             С.Сельянов, А.Боярский                6   \n",
       "7474  Ф.Бондарчук, М.Врубель, А.Андрющенко, Д.Рудовский               12   \n",
       "7476                                           С.Зернов               12   \n",
       "7478  С.Мелькумов, А.Роднянский, М.Вайсберг, Р.Минас...               12   \n",
       "\n",
       "      refundable_support  nonrefundable_support       budget  \\\n",
       "1281                 0.0             26500000.0   79411900.0   \n",
       "1448                 0.0             26000000.0   37142857.0   \n",
       "1498                 0.0            107847945.0  176023490.0   \n",
       "1524                 0.0             28000000.0   40574140.0   \n",
       "1792                 0.0             25000000.0   40015122.0   \n",
       "...                  ...                    ...          ...   \n",
       "7464         100000000.0            400000000.0  980000000.0   \n",
       "7466         100000000.0                    0.0  190000000.0   \n",
       "7474         100000000.0            400000000.0  944000000.0   \n",
       "7476                 0.0             30000000.0   46154000.0   \n",
       "7478          40000000.0             60000000.0  150147502.0   \n",
       "\n",
       "           financing_source  ratings                           genres  \\\n",
       "1281  Министерство культуры      8.1                  драма,мелодрама   \n",
       "1448  Министерство культуры      NaN                               NA   \n",
       "1498              Фонд кино      5.3               комедия,фантастика   \n",
       "1524  Министерство культуры      4.2                            драма   \n",
       "1792  Министерство культуры      6.4                            драма   \n",
       "...                     ...      ...                              ...   \n",
       "7464              Фонд кино      6.0          история,биография,драма   \n",
       "7466              Фонд кино      6.7  мультфильм,приключения,семейный   \n",
       "7474              Фонд кино      5.7                фантастика,боевик   \n",
       "7476  Министерство культуры      5.9                            драма   \n",
       "7478              Фонд кино      4.5     комедия,фантастика,мелодрама   \n",
       "\n",
       "       box_office  year  main_genre                         main_director  \\\n",
       "1281     365353.0  2013       драма                            А.Атанесян   \n",
       "1448      28140.0  2014         NaN                             А.Якимчук   \n",
       "1498   19957031.0  2013     комедия                         Р.Давлетьяров   \n",
       "1524      55917.0  2014       драма  Е.Миндадзе (псевдоним Катя Шагалова)   \n",
       "1792     232100.0  2014       драма                              М.Угаров   \n",
       "...           ...   ...         ...                                   ...   \n",
       "7464  717703185.0  2019     история                             А.Кравчук   \n",
       "7466  501069235.0  2019  мультфильм                               Д.Шмидт   \n",
       "7474          NaN  2019  фантастика                           Ф.Бондарчук   \n",
       "7476          NaN  2019       драма                             И.Северов   \n",
       "7478          NaN  2019     комедия    М.Бальчюнас (псевдоним М.Вайсберг)   \n",
       "\n",
       "      gov_part_of_budget  \n",
       "1281            0.333703  \n",
       "1448            0.700000  \n",
       "1498            0.612691  \n",
       "1524            0.690095  \n",
       "1792            0.624764  \n",
       "...                  ...  \n",
       "7464            0.510204  \n",
       "7466            0.526316  \n",
       "7474            0.529661  \n",
       "7476            0.649998  \n",
       "7478            0.666012  \n",
       "\n",
       "[332 rows x 20 columns]"
      ]
     },
     "metadata": {},
     "output_type": "display_data"
    }
   ],
   "source": [
    "df_gov = df_full.query('refundable_support > 0 or nonrefundable_support > 0')\n",
    "display(df_gov)"
   ]
  },
  {
   "cell_type": "code",
   "execution_count": 50,
   "metadata": {},
   "outputs": [
    {
     "name": "stdout",
     "output_type": "stream",
     "text": [
      "Общая сумма господдержки: 20200688312.0\n",
      "Общие сборы для фильмов с господдержкой: 42113509482.0\n"
     ]
    }
   ],
   "source": [
    "sum_of_sup = df_gov[['refundable_support', 'nonrefundable_support']].sum().sum()\n",
    "sum_of_boxof = df_gov['box_office'].sum()\n",
    "print('Общая сумма господдержки:', sum_of_sup)\n",
    "print('Общие сборы для фильмов с господдержкой:', sum_of_boxof)"
   ]
  },
  {
   "cell_type": "code",
   "execution_count": 51,
   "metadata": {},
   "outputs": [
    {
     "data": {
      "text/html": [
       "<div>\n",
       "<style scoped>\n",
       "    .dataframe tbody tr th:only-of-type {\n",
       "        vertical-align: middle;\n",
       "    }\n",
       "\n",
       "    .dataframe tbody tr th {\n",
       "        vertical-align: top;\n",
       "    }\n",
       "\n",
       "    .dataframe thead th {\n",
       "        text-align: right;\n",
       "    }\n",
       "</style>\n",
       "<table border=\"1\" class=\"dataframe\">\n",
       "  <thead>\n",
       "    <tr style=\"text-align: right;\">\n",
       "      <th></th>\n",
       "      <th>gov_part_of_budget</th>\n",
       "      <th>ratings</th>\n",
       "    </tr>\n",
       "    <tr>\n",
       "      <th>year</th>\n",
       "      <th></th>\n",
       "      <th></th>\n",
       "    </tr>\n",
       "  </thead>\n",
       "  <tbody>\n",
       "    <tr>\n",
       "      <td>2013</td>\n",
       "      <td>0.473197</td>\n",
       "      <td>6.7</td>\n",
       "    </tr>\n",
       "    <tr>\n",
       "      <td>2014</td>\n",
       "      <td>0.582085</td>\n",
       "      <td>6.4</td>\n",
       "    </tr>\n",
       "    <tr>\n",
       "      <td>2015</td>\n",
       "      <td>0.623736</td>\n",
       "      <td>6.2</td>\n",
       "    </tr>\n",
       "    <tr>\n",
       "      <td>2016</td>\n",
       "      <td>0.640000</td>\n",
       "      <td>5.8</td>\n",
       "    </tr>\n",
       "    <tr>\n",
       "      <td>2017</td>\n",
       "      <td>0.524780</td>\n",
       "      <td>6.2</td>\n",
       "    </tr>\n",
       "    <tr>\n",
       "      <td>2018</td>\n",
       "      <td>0.594160</td>\n",
       "      <td>6.2</td>\n",
       "    </tr>\n",
       "    <tr>\n",
       "      <td>2019</td>\n",
       "      <td>0.585982</td>\n",
       "      <td>6.2</td>\n",
       "    </tr>\n",
       "  </tbody>\n",
       "</table>\n",
       "</div>"
      ],
      "text/plain": [
       "      gov_part_of_budget  ratings\n",
       "year                             \n",
       "2013            0.473197      6.7\n",
       "2014            0.582085      6.4\n",
       "2015            0.623736      6.2\n",
       "2016            0.640000      5.8\n",
       "2017            0.524780      6.2\n",
       "2018            0.594160      6.2\n",
       "2019            0.585982      6.2"
      ]
     },
     "metadata": {},
     "output_type": "display_data"
    }
   ],
   "source": [
    "gov_rating = df_gov.pivot_table(index='year', values=['ratings', 'gov_part_of_budget'], aggfunc='median')\n",
    "display(gov_rating)"
   ]
  },
  {
   "cell_type": "code",
   "execution_count": 52,
   "metadata": {},
   "outputs": [
    {
     "data": {
      "text/plain": [
       "<matplotlib.axes._subplots.AxesSubplot at 0x7f0adfcf34d0>"
      ]
     },
     "execution_count": 52,
     "metadata": {},
     "output_type": "execute_result"
    },
    {
     "data": {
      "image/png": "[encoded data removed]",
      "text/plain": [
       "<Figure size 504x504 with 1 Axes>"
      ]
     },
     "metadata": {
      "needs_background": "light"
     },
     "output_type": "display_data"
    }
   ],
   "source": [
    "gov_rating['gov_part_of_budget'].plot(grid=True, figsize=(7,7))"
   ]
  },
  {
   "cell_type": "code",
   "execution_count": 53,
   "metadata": {},
   "outputs": [
    {
     "data": {
      "text/plain": [
       "<matplotlib.axes._subplots.AxesSubplot at 0x7f0adfc8fbd0>"
      ]
     },
     "execution_count": 53,
     "metadata": {},
     "output_type": "execute_result"
    },
    {
     "data": {
      "image/png": "[encoded data removed]",
      "text/plain": [
       "<Figure size 504x504 with 1 Axes>"
      ]
     },
     "metadata": {
      "needs_background": "light"
     },
     "output_type": "display_data"
    }
   ],
   "source": [
    "gov_rating['ratings'].plot(grid=True, figsize=(7,7))"
   ]
  },
  {
   "cell_type": "markdown",
   "metadata": {},
   "source": [
    "Нет заметной тенденции ни к росту, ни к снижению рейтингов \\\n",
    "Госчасть бюджета так же ни растёт, ни падает. Данные имеют разную направленность в зависимости от года"
   ]
  },
  {
   "cell_type": "code",
   "execution_count": 54,
   "metadata": {},
   "outputs": [
    {
     "data": {
      "text/html": [
       "<div>\n",
       "<style scoped>\n",
       "    .dataframe tbody tr th:only-of-type {\n",
       "        vertical-align: middle;\n",
       "    }\n",
       "\n",
       "    .dataframe tbody tr th {\n",
       "        vertical-align: top;\n",
       "    }\n",
       "\n",
       "    .dataframe thead th {\n",
       "        text-align: right;\n",
       "    }\n",
       "</style>\n",
       "<table border=\"1\" class=\"dataframe\">\n",
       "  <thead>\n",
       "    <tr style=\"text-align: right;\">\n",
       "      <th></th>\n",
       "      <th>box_office</th>\n",
       "      <th>nonrefundable_support</th>\n",
       "      <th>refundable_support</th>\n",
       "    </tr>\n",
       "    <tr>\n",
       "      <th>year</th>\n",
       "      <th></th>\n",
       "      <th></th>\n",
       "      <th></th>\n",
       "    </tr>\n",
       "  </thead>\n",
       "  <tbody>\n",
       "    <tr>\n",
       "      <td>2013</td>\n",
       "      <td>2.032238e+07</td>\n",
       "      <td>1.343479e+08</td>\n",
       "      <td>0.0</td>\n",
       "    </tr>\n",
       "    <tr>\n",
       "      <td>2014</td>\n",
       "      <td>1.017422e+09</td>\n",
       "      <td>5.010023e+08</td>\n",
       "      <td>71000000.0</td>\n",
       "    </tr>\n",
       "    <tr>\n",
       "      <td>2015</td>\n",
       "      <td>5.785285e+09</td>\n",
       "      <td>3.019088e+09</td>\n",
       "      <td>637153119.0</td>\n",
       "    </tr>\n",
       "    <tr>\n",
       "      <td>2016</td>\n",
       "      <td>6.081708e+09</td>\n",
       "      <td>3.381655e+09</td>\n",
       "      <td>921500000.0</td>\n",
       "    </tr>\n",
       "    <tr>\n",
       "      <td>2017</td>\n",
       "      <td>1.086508e+10</td>\n",
       "      <td>2.464625e+09</td>\n",
       "      <td>719346881.0</td>\n",
       "    </tr>\n",
       "    <tr>\n",
       "      <td>2018</td>\n",
       "      <td>9.934069e+09</td>\n",
       "      <td>2.784969e+09</td>\n",
       "      <td>662000000.0</td>\n",
       "    </tr>\n",
       "    <tr>\n",
       "      <td>2019</td>\n",
       "      <td>8.409627e+09</td>\n",
       "      <td>3.976000e+09</td>\n",
       "      <td>928000000.0</td>\n",
       "    </tr>\n",
       "  </tbody>\n",
       "</table>\n",
       "</div>"
      ],
      "text/plain": [
       "        box_office  nonrefundable_support  refundable_support\n",
       "year                                                         \n",
       "2013  2.032238e+07           1.343479e+08                 0.0\n",
       "2014  1.017422e+09           5.010023e+08          71000000.0\n",
       "2015  5.785285e+09           3.019088e+09         637153119.0\n",
       "2016  6.081708e+09           3.381655e+09         921500000.0\n",
       "2017  1.086508e+10           2.464625e+09         719346881.0\n",
       "2018  9.934069e+09           2.784969e+09         662000000.0\n",
       "2019  8.409627e+09           3.976000e+09         928000000.0"
      ]
     },
     "metadata": {},
     "output_type": "display_data"
    }
   ],
   "source": [
    "finance_table = df_gov.pivot_table(index='year', values=['refundable_support', 'nonrefundable_support', 'box_office'], aggfunc='sum')\n",
    "display(finance_table)"
   ]
  },
  {
   "cell_type": "markdown",
   "metadata": {},
   "source": [
    "Определённо видно, что интерес государства к кино с каждым годом растёт. Сумма поддержки растёт с каждым годом. Причём сумма невозвратной поддержки на порядок выше, чем возвратной \\\n",
    "Причём нельзя сказать, что сборы фильмов с господдержкой каждый год растут. Последние 2 года так вообще падают"
   ]
  },
  {
   "cell_type": "code",
   "execution_count": 55,
   "metadata": {},
   "outputs": [
    {
     "data": {
      "text/plain": [
       "Министерство культуры               164\n",
       "Фонд кино                           146\n",
       "Министерство культуры, Фонд кино     22\n",
       "Name: financing_source, dtype: int64"
      ]
     },
     "execution_count": 55,
     "metadata": {},
     "output_type": "execute_result"
    }
   ],
   "source": [
    "df_gov['financing_source'].value_counts()"
   ]
  },
  {
   "cell_type": "markdown",
   "metadata": {},
   "source": [
    "Нельзя сказать, что есть значительный перевес в сторону Фонда кино или Министерства культуры как источника финансирования "
   ]
  },
  {
   "cell_type": "code",
   "execution_count": 56,
   "metadata": {},
   "outputs": [
    {
     "data": {
      "text/plain": [
       "<matplotlib.axes._subplots.AxesSubplot at 0x7f0adfbf1590>"
      ]
     },
     "execution_count": 56,
     "metadata": {},
     "output_type": "execute_result"
    },
    {
     "data": {
      "image/png": "[encoded data removed]",
      "text/plain": [
       "<Figure size 720x720 with 1 Axes>"
      ]
     },
     "metadata": {
      "needs_background": "light"
     },
     "output_type": "display_data"
    }
   ],
   "source": [
    "df_gov['main_genre'].value_counts().plot.barh(figsize=(10,10))"
   ]
  },
  {
   "cell_type": "markdown",
   "metadata": {},
   "source": [
    "Чаще всего с господдержкой снимают драмы и комедии, что, в целом, не удивительно"
   ]
  },
  {
   "cell_type": "code",
   "execution_count": 57,
   "metadata": {},
   "outputs": [
    {
     "data": {
      "text/plain": [
       "ООО \"Студия анимационного кино \"Мельница\"    7\n",
       "ООО \"Кинокомпания \"СТВ\"                      6\n",
       "ООО \"ТаББаК\"                                 6\n",
       "ООО \"ВИЗАРТ ФИЛЬМ\"                           4\n",
       "ООО \"Каро Продакшн\"                          4\n",
       "ООО \"Киностудия \"ВЕРТИКАЛЬ\"                  4\n",
       "ООО \"Продюсерский центр \"Ленфильм\"           4\n",
       "ООО \"ЛИЦЕНЗИОННЫЕ БРЕНДЫ\"                    3\n",
       "ООО \"Студия \"СЛОН\"                           3\n",
       "ООО \"Нон-Стоп Продакшн\"                      3\n",
       "Name: film_studio, dtype: int64"
      ]
     },
     "execution_count": 57,
     "metadata": {},
     "output_type": "execute_result"
    }
   ],
   "source": [
    "df_gov['film_studio'].value_counts().head(10) #Посмотрим 10 самых часто финансируемых студий"
   ]
  },
  {
   "cell_type": "code",
   "execution_count": 58,
   "metadata": {},
   "outputs": [
    {
     "data": {
      "text/plain": [
       "С.Сельянов                   8\n",
       "С.Сельянов, А.Боярский       7\n",
       "С.Говорухин, Е.Маскина       4\n",
       "Н.Мокрицкая                  3\n",
       "ООО \"ЛИЦЕНЗИОННЫЕ БРЕНДЫ\"    3\n",
       "С.Еремеева                   3\n",
       "В.Денисюк, Е.Мелентьев       3\n",
       "Ю.Обухов, А.Рязанцев         3\n",
       "Е.Филиппова                  3\n",
       "А.Тютрюмов                   3\n",
       "Name: producer, dtype: int64"
      ]
     },
     "execution_count": 58,
     "metadata": {},
     "output_type": "execute_result"
    }
   ],
   "source": [
    "df_gov['producer'].value_counts().head(10) #10 самых часто финансируемых продюссеров"
   ]
  },
  {
   "cell_type": "code",
   "execution_count": 59,
   "metadata": {},
   "outputs": [
    {
     "data": {
      "text/plain": [
       "Р.Давлетьяров    5\n",
       "Д.Дьяченко       4\n",
       "С.Андреасян      4\n",
       "С.Мокрицкий      3\n",
       "К.Шипенко        3\n",
       "А.Цицилин        3\n",
       "А.Котт           3\n",
       "Д.Шмидт          3\n",
       "Н.Хомерики       3\n",
       "А.Аксененко      3\n",
       "Name: main_director, dtype: int64"
      ]
     },
     "execution_count": 59,
     "metadata": {},
     "output_type": "execute_result"
    }
   ],
   "source": [
    "df_gov['main_director'].value_counts().head(10) #10 самых часто финансируемых режиссёров"
   ]
  },
  {
   "cell_type": "code",
   "execution_count": 60,
   "metadata": {},
   "outputs": [
    {
     "data": {
      "text/plain": [
       "year\n",
       "2013    0.079560\n",
       "2014    0.781139\n",
       "2015    0.747581\n",
       "2016    0.804997\n",
       "2017    1.539579\n",
       "2018    1.419018\n",
       "2019    0.660985\n",
       "dtype: float64"
      ]
     },
     "execution_count": 60,
     "metadata": {},
     "output_type": "execute_result"
    }
   ],
   "source": [
    "pvt_for_ratio = df_gov.pivot_table(index='year', values=['budget', 'box_office'], aggfunc='sum')\n",
    "pvt_for_ratio['box_office'] / pvt_for_ratio['budget']"
   ]
  },
  {
   "cell_type": "markdown",
   "metadata": {},
   "source": [
    "Учитывая, что для окупаемости и выхода \"в ноль\" фильму нужно собрать в два раза больше бюджета - фильмы не окупаются \\\n",
    "Посмотрим, есть ли вообще среди фильмов с господдержкой окупившиеся"
   ]
  },
  {
   "cell_type": "code",
   "execution_count": 61,
   "metadata": {},
   "outputs": [
    {
     "data": {
      "text/html": [
       "<div>\n",
       "<style scoped>\n",
       "    .dataframe tbody tr th:only-of-type {\n",
       "        vertical-align: middle;\n",
       "    }\n",
       "\n",
       "    .dataframe tbody tr th {\n",
       "        vertical-align: top;\n",
       "    }\n",
       "\n",
       "    .dataframe thead th {\n",
       "        text-align: right;\n",
       "    }\n",
       "</style>\n",
       "<table border=\"1\" class=\"dataframe\">\n",
       "  <thead>\n",
       "    <tr style=\"text-align: right;\">\n",
       "      <th></th>\n",
       "      <th>title</th>\n",
       "      <th>puNumber</th>\n",
       "      <th>show_start_date</th>\n",
       "      <th>type</th>\n",
       "      <th>film_studio</th>\n",
       "      <th>production_country</th>\n",
       "      <th>director</th>\n",
       "      <th>producer</th>\n",
       "      <th>age_restriction</th>\n",
       "      <th>refundable_support</th>\n",
       "      <th>nonrefundable_support</th>\n",
       "      <th>budget</th>\n",
       "      <th>financing_source</th>\n",
       "      <th>ratings</th>\n",
       "      <th>genres</th>\n",
       "      <th>box_office</th>\n",
       "      <th>year</th>\n",
       "      <th>main_genre</th>\n",
       "      <th>main_director</th>\n",
       "      <th>gov_part_of_budget</th>\n",
       "    </tr>\n",
       "  </thead>\n",
       "  <tbody>\n",
       "    <tr>\n",
       "      <td>1903</td>\n",
       "      <td>Призрак_.</td>\n",
       "      <td>111001815</td>\n",
       "      <td>2015-03-02 12:00:00</td>\n",
       "      <td>Художественный</td>\n",
       "      <td>ООО \"Водород 2011\"</td>\n",
       "      <td>Россия</td>\n",
       "      <td>А.Войтинский</td>\n",
       "      <td>С.Сельянов</td>\n",
       "      <td>6</td>\n",
       "      <td>0.0</td>\n",
       "      <td>75000000.0</td>\n",
       "      <td>139551503.0</td>\n",
       "      <td>Фонд кино</td>\n",
       "      <td>7.0</td>\n",
       "      <td>триллер,боевик,приключения</td>\n",
       "      <td>3.528043e+08</td>\n",
       "      <td>2015</td>\n",
       "      <td>триллер</td>\n",
       "      <td>А.Войтинский</td>\n",
       "      <td>0.537436</td>\n",
       "    </tr>\n",
       "    <tr>\n",
       "      <td>2058</td>\n",
       "      <td>Дуxless 2</td>\n",
       "      <td>111000415</td>\n",
       "      <td>2015-01-26 12:00:00</td>\n",
       "      <td>Художественный</td>\n",
       "      <td>ООО \"Киностудия \"Слово\", ООО \"Арт Пикчерс Студия\"</td>\n",
       "      <td>Россия</td>\n",
       "      <td>Р.Прыгунов</td>\n",
       "      <td>П.Ануров, Ф.Бондарчук, Д.Рудовский</td>\n",
       "      <td>6</td>\n",
       "      <td>0.0</td>\n",
       "      <td>75000000.0</td>\n",
       "      <td>75000000.0</td>\n",
       "      <td>Фонд кино</td>\n",
       "      <td>6.6</td>\n",
       "      <td>драма</td>\n",
       "      <td>4.461635e+08</td>\n",
       "      <td>2015</td>\n",
       "      <td>драма</td>\n",
       "      <td>Р.Прыгунов</td>\n",
       "      <td>1.000000</td>\n",
       "    </tr>\n",
       "    <tr>\n",
       "      <td>2132</td>\n",
       "      <td>Битва за Севастополь</td>\n",
       "      <td>111001415</td>\n",
       "      <td>2015-02-20 12:00:00</td>\n",
       "      <td>Художественный</td>\n",
       "      <td>ООО \"Кинокомпания \"Новые люди\", ООО \"Студия \"К...</td>\n",
       "      <td>Россия-Украина</td>\n",
       "      <td>С.Мокрицкий</td>\n",
       "      <td>Н.Мокрицкая, Е.Олесов</td>\n",
       "      <td>12</td>\n",
       "      <td>0.0</td>\n",
       "      <td>27510000.0</td>\n",
       "      <td>131000000.0</td>\n",
       "      <td>Министерство культуры</td>\n",
       "      <td>7.5</td>\n",
       "      <td>биография,военный,драма</td>\n",
       "      <td>4.018045e+08</td>\n",
       "      <td>2015</td>\n",
       "      <td>биография</td>\n",
       "      <td>С.Мокрицкий</td>\n",
       "      <td>0.210000</td>\n",
       "    </tr>\n",
       "    <tr>\n",
       "      <td>2205</td>\n",
       "      <td>8 новых свиданий</td>\n",
       "      <td>111014914</td>\n",
       "      <td>2014-10-30 12:00:00</td>\n",
       "      <td>Художественный</td>\n",
       "      <td>ООО \"Смарт ТВ Продакшн\"</td>\n",
       "      <td>Россия</td>\n",
       "      <td>М.Бальчюнас</td>\n",
       "      <td>ООО \"Грин Филмс\", ООО \"ПЦ \"Горад\"</td>\n",
       "      <td>12</td>\n",
       "      <td>0.0</td>\n",
       "      <td>30000000.0</td>\n",
       "      <td>77401751.0</td>\n",
       "      <td>Фонд кино</td>\n",
       "      <td>6.0</td>\n",
       "      <td>комедия</td>\n",
       "      <td>3.933446e+08</td>\n",
       "      <td>2014</td>\n",
       "      <td>комедия</td>\n",
       "      <td>М.Бальчюнас</td>\n",
       "      <td>0.387588</td>\n",
       "    </tr>\n",
       "    <tr>\n",
       "      <td>2472</td>\n",
       "      <td>Воин (2015)</td>\n",
       "      <td>111017315</td>\n",
       "      <td>2015-09-28 12:00:00</td>\n",
       "      <td>Художественный</td>\n",
       "      <td>ООО \"Форпост Продакшн\", ООО \"Арт Пикчерс Студия\"</td>\n",
       "      <td>Россия</td>\n",
       "      <td>А.Андрианов</td>\n",
       "      <td>ООО \"Арт Пикчерс Студия\"</td>\n",
       "      <td>12</td>\n",
       "      <td>10000000.0</td>\n",
       "      <td>70000000.0</td>\n",
       "      <td>80000000.0</td>\n",
       "      <td>Фонд кино</td>\n",
       "      <td>7.8</td>\n",
       "      <td>боевик,драма,криминал</td>\n",
       "      <td>1.965724e+08</td>\n",
       "      <td>2015</td>\n",
       "      <td>боевик</td>\n",
       "      <td>А.Андрианов</td>\n",
       "      <td>1.000000</td>\n",
       "    </tr>\n",
       "    <tr>\n",
       "      <td>2532</td>\n",
       "      <td>Бармен.</td>\n",
       "      <td>111009615</td>\n",
       "      <td>2015-05-26 12:00:00</td>\n",
       "      <td>Художественный</td>\n",
       "      <td>АО \"ВайТ Медиа\", ООО \"Арт Пикчерс Студия\"</td>\n",
       "      <td>Россия</td>\n",
       "      <td>Д.Штурманова</td>\n",
       "      <td>Т.Вайнштейн</td>\n",
       "      <td>6</td>\n",
       "      <td>20000000.0</td>\n",
       "      <td>0.0</td>\n",
       "      <td>20000000.0</td>\n",
       "      <td>Фонд кино</td>\n",
       "      <td>6.2</td>\n",
       "      <td>комедия,фэнтези</td>\n",
       "      <td>6.741897e+07</td>\n",
       "      <td>2015</td>\n",
       "      <td>комедия</td>\n",
       "      <td>Д.Штурманова</td>\n",
       "      <td>1.000000</td>\n",
       "    </tr>\n",
       "    <tr>\n",
       "      <td>2686</td>\n",
       "      <td>Без границ</td>\n",
       "      <td>111010315</td>\n",
       "      <td>2015-06-08 12:00:00</td>\n",
       "      <td>Художественный</td>\n",
       "      <td>ООО \"Кинокомпания \"Небо\"</td>\n",
       "      <td>Россия</td>\n",
       "      <td>Р.Гигинеишвили, К.Оганисян, Р.Прыгунов</td>\n",
       "      <td>Э.Илоян, Э.Родоная, Р.Гигинеишвили, Д.Жалинский</td>\n",
       "      <td>12</td>\n",
       "      <td>10000000.0</td>\n",
       "      <td>40000000.0</td>\n",
       "      <td>80273277.0</td>\n",
       "      <td>Фонд кино</td>\n",
       "      <td>6.8</td>\n",
       "      <td>комедия,мелодрама</td>\n",
       "      <td>1.909534e+08</td>\n",
       "      <td>2015</td>\n",
       "      <td>комедия</td>\n",
       "      <td>Р.Гигинеишвили</td>\n",
       "      <td>0.622872</td>\n",
       "    </tr>\n",
       "    <tr>\n",
       "      <td>2701</td>\n",
       "      <td>Самый Лучший День</td>\n",
       "      <td>111017815</td>\n",
       "      <td>2015-10-14 12:00:00</td>\n",
       "      <td>Художественный</td>\n",
       "      <td>ООО \"ТаББаК\"</td>\n",
       "      <td>Россия</td>\n",
       "      <td>А.Першин (псевдоним Ж.Крыжовников)</td>\n",
       "      <td>Т.Бекмамбетов, А.Першин (псевдоним Ж.Крыжовник...</td>\n",
       "      <td>6</td>\n",
       "      <td>29000000.0</td>\n",
       "      <td>34000000.0</td>\n",
       "      <td>130619336.0</td>\n",
       "      <td>Фонд кино</td>\n",
       "      <td>4.7</td>\n",
       "      <td>комедия,музыка</td>\n",
       "      <td>6.830291e+08</td>\n",
       "      <td>2015</td>\n",
       "      <td>комедия</td>\n",
       "      <td>А.Першин (псевдоним Ж.Крыжовников)</td>\n",
       "      <td>0.482318</td>\n",
       "    </tr>\n",
       "    <tr>\n",
       "      <td>2767</td>\n",
       "      <td>Страна чудес</td>\n",
       "      <td>111018415</td>\n",
       "      <td>2015-10-16 12:00:00</td>\n",
       "      <td>Художественный</td>\n",
       "      <td>ООО \"Ол Медиа Компани\"</td>\n",
       "      <td>Россия</td>\n",
       "      <td>Д.Дьяченко</td>\n",
       "      <td>Г.Шабанов, Р.Татаринцев, Э.Илоян</td>\n",
       "      <td>12</td>\n",
       "      <td>41000000.0</td>\n",
       "      <td>25000000.0</td>\n",
       "      <td>105445546.0</td>\n",
       "      <td>Фонд кино</td>\n",
       "      <td>6.0</td>\n",
       "      <td>ужасы,комедия</td>\n",
       "      <td>2.945908e+08</td>\n",
       "      <td>2015</td>\n",
       "      <td>ужасы</td>\n",
       "      <td>Д.Дьяченко</td>\n",
       "      <td>0.625915</td>\n",
       "    </tr>\n",
       "    <tr>\n",
       "      <td>2788</td>\n",
       "      <td>Срочно выйду замуж</td>\n",
       "      <td>111017115</td>\n",
       "      <td>2015-09-30 12:00:00</td>\n",
       "      <td>Художественный</td>\n",
       "      <td>АО \"ВайТ Медиа\", ООО \"Арт Пикчерс Студия\"</td>\n",
       "      <td>Россия</td>\n",
       "      <td>С Чекалов</td>\n",
       "      <td>Ф.Бондарчук, Т.Вайнштейн, Д.Рудовский</td>\n",
       "      <td>6</td>\n",
       "      <td>0.0</td>\n",
       "      <td>35000000.0</td>\n",
       "      <td>35000000.0</td>\n",
       "      <td>Фонд кино</td>\n",
       "      <td>5.1</td>\n",
       "      <td>комедия,мелодрама</td>\n",
       "      <td>7.293778e+07</td>\n",
       "      <td>2015</td>\n",
       "      <td>комедия</td>\n",
       "      <td>С Чекалов</td>\n",
       "      <td>1.000000</td>\n",
       "    </tr>\n",
       "    <tr>\n",
       "      <td>2858</td>\n",
       "      <td>28 Панфиловцев</td>\n",
       "      <td>111000916</td>\n",
       "      <td>2016-01-27 12:00:00</td>\n",
       "      <td>Художественный</td>\n",
       "      <td>Индивидуальный Предприниматель Шальопа А.Г.</td>\n",
       "      <td>Россия</td>\n",
       "      <td>К.Дружинин, А.Шальопа</td>\n",
       "      <td>А.Шальопа</td>\n",
       "      <td>12</td>\n",
       "      <td>0.0</td>\n",
       "      <td>30000000.0</td>\n",
       "      <td>85384000.0</td>\n",
       "      <td>Министерство культуры</td>\n",
       "      <td>7.5</td>\n",
       "      <td>военный,драма,история</td>\n",
       "      <td>3.636228e+08</td>\n",
       "      <td>2016</td>\n",
       "      <td>военный</td>\n",
       "      <td>К.Дружинин</td>\n",
       "      <td>0.351354</td>\n",
       "    </tr>\n",
       "    <tr>\n",
       "      <td>2874</td>\n",
       "      <td>Помню - не помню!</td>\n",
       "      <td>111004916</td>\n",
       "      <td>2016-03-01 12:00:00</td>\n",
       "      <td>Художественный</td>\n",
       "      <td>ООО \"КиноФирма\"</td>\n",
       "      <td>Россия</td>\n",
       "      <td>В.Ровенский</td>\n",
       "      <td>ООО \"КиноФирма\"</td>\n",
       "      <td>12</td>\n",
       "      <td>0.0</td>\n",
       "      <td>6000000.0</td>\n",
       "      <td>6000000.0</td>\n",
       "      <td>Министерство культуры</td>\n",
       "      <td>4.3</td>\n",
       "      <td>комедия</td>\n",
       "      <td>1.536293e+07</td>\n",
       "      <td>2016</td>\n",
       "      <td>комедия</td>\n",
       "      <td>В.Ровенский</td>\n",
       "      <td>1.000000</td>\n",
       "    </tr>\n",
       "    <tr>\n",
       "      <td>2920</td>\n",
       "      <td>Экипаж .</td>\n",
       "      <td>111005416</td>\n",
       "      <td>2016-03-21 12:00:00</td>\n",
       "      <td>Художественный</td>\n",
       "      <td>ООО \"Студия \"ТРИТЭ\" Никиты Михалкова\"</td>\n",
       "      <td>Россия</td>\n",
       "      <td>Н.Лебедев</td>\n",
       "      <td>Л.Верещагин, А.Златопольский, Н.Михалков, ООО ...</td>\n",
       "      <td>6</td>\n",
       "      <td>50000000.0</td>\n",
       "      <td>392104482.0</td>\n",
       "      <td>635283867.0</td>\n",
       "      <td>Фонд кино</td>\n",
       "      <td>7.6</td>\n",
       "      <td>драма,триллер,приключения</td>\n",
       "      <td>1.402255e+09</td>\n",
       "      <td>2016</td>\n",
       "      <td>драма</td>\n",
       "      <td>Н.Лебедев</td>\n",
       "      <td>0.695916</td>\n",
       "    </tr>\n",
       "    <tr>\n",
       "      <td>3105</td>\n",
       "      <td>Иван Царевич и Серый Волк 3</td>\n",
       "      <td>114004115</td>\n",
       "      <td>2015-12-24 12:00:00</td>\n",
       "      <td>Анимационный</td>\n",
       "      <td>ООО \"Студия анимационного кино \"Мельница\"</td>\n",
       "      <td>Россия</td>\n",
       "      <td>Д.Шмидт</td>\n",
       "      <td>С.Сельянов, А.Боярский</td>\n",
       "      <td>6</td>\n",
       "      <td>0.0</td>\n",
       "      <td>40000000.0</td>\n",
       "      <td>179257987.0</td>\n",
       "      <td>Фонд кино</td>\n",
       "      <td>6.2</td>\n",
       "      <td>мультфильм,приключения,семейный</td>\n",
       "      <td>7.049282e+08</td>\n",
       "      <td>2015</td>\n",
       "      <td>мультфильм</td>\n",
       "      <td>Д.Шмидт</td>\n",
       "      <td>0.223142</td>\n",
       "    </tr>\n",
       "    <tr>\n",
       "      <td>3224</td>\n",
       "      <td>Кухня. Последняя битва</td>\n",
       "      <td>111001517</td>\n",
       "      <td>2017-03-22 12:00:00</td>\n",
       "      <td>Художественный</td>\n",
       "      <td>ООО Кинокомпания \"Аврора продакшнс\" по заказу ...</td>\n",
       "      <td>Россия</td>\n",
       "      <td>А.Федотов</td>\n",
       "      <td>Э.Илоян, В.Шляппо, Д.Жалинский, А.Троцюк, А.Ку...</td>\n",
       "      <td>12</td>\n",
       "      <td>50000000.0</td>\n",
       "      <td>0.0</td>\n",
       "      <td>162630398.0</td>\n",
       "      <td>Фонд кино</td>\n",
       "      <td>6.0</td>\n",
       "      <td>комедия</td>\n",
       "      <td>3.340074e+08</td>\n",
       "      <td>2017</td>\n",
       "      <td>комедия</td>\n",
       "      <td>А.Федотов</td>\n",
       "      <td>0.307446</td>\n",
       "    </tr>\n",
       "    <tr>\n",
       "      <td>3229</td>\n",
       "      <td>Гуляй, Вася !</td>\n",
       "      <td>111018216</td>\n",
       "      <td>2016-12-20 12:00:00</td>\n",
       "      <td>Художественный</td>\n",
       "      <td>ООО Кинокомпания \"Инвада Фильм\", АО \"ВБД Груп\"</td>\n",
       "      <td>Россия</td>\n",
       "      <td>Р.Каримов</td>\n",
       "      <td>А.Новиков, А.Котелевский, Э.Илоян, Д.Жалинский...</td>\n",
       "      <td>6</td>\n",
       "      <td>0.0</td>\n",
       "      <td>25345000.0</td>\n",
       "      <td>39000000.0</td>\n",
       "      <td>Министерство культуры</td>\n",
       "      <td>6.5</td>\n",
       "      <td>комедия</td>\n",
       "      <td>2.590991e+08</td>\n",
       "      <td>2016</td>\n",
       "      <td>комедия</td>\n",
       "      <td>Р.Каримов</td>\n",
       "      <td>0.649872</td>\n",
       "    </tr>\n",
       "    <tr>\n",
       "      <td>3230</td>\n",
       "      <td>Невеста .</td>\n",
       "      <td>111016516</td>\n",
       "      <td>2016-10-25 12:00:00</td>\n",
       "      <td>Художественный</td>\n",
       "      <td>ООО \"Форс Медиа\"</td>\n",
       "      <td>Россия</td>\n",
       "      <td>С.Подгаевский</td>\n",
       "      <td>В.Северцев, Д.Литвинов, З.Болотаев</td>\n",
       "      <td>6</td>\n",
       "      <td>5000000.0</td>\n",
       "      <td>20000000.0</td>\n",
       "      <td>50000000.0</td>\n",
       "      <td>Фонд кино</td>\n",
       "      <td>4.7</td>\n",
       "      <td>ужасы,триллер</td>\n",
       "      <td>1.757996e+08</td>\n",
       "      <td>2016</td>\n",
       "      <td>ужасы</td>\n",
       "      <td>С.Подгаевский</td>\n",
       "      <td>0.500000</td>\n",
       "    </tr>\n",
       "    <tr>\n",
       "      <td>3565</td>\n",
       "      <td>Притяжение (2016)</td>\n",
       "      <td>111018116</td>\n",
       "      <td>2016-12-16 12:00:00</td>\n",
       "      <td>Художественный</td>\n",
       "      <td>ООО \"Водород 2011\",  ООО \"Арт Пикчерс Студия\"</td>\n",
       "      <td>Россия</td>\n",
       "      <td>Ф.Бондарчук</td>\n",
       "      <td>ООО \"Арт Пикчерс Студия\"</td>\n",
       "      <td>12</td>\n",
       "      <td>0.0</td>\n",
       "      <td>250000000.0</td>\n",
       "      <td>250000000.0</td>\n",
       "      <td>Фонд кино</td>\n",
       "      <td>5.6</td>\n",
       "      <td>фантастика</td>\n",
       "      <td>1.038321e+09</td>\n",
       "      <td>2016</td>\n",
       "      <td>фантастика</td>\n",
       "      <td>Ф.Бондарчук</td>\n",
       "      <td>1.000000</td>\n",
       "    </tr>\n",
       "    <tr>\n",
       "      <td>5505</td>\n",
       "      <td>Последний богатырь</td>\n",
       "      <td>111007017</td>\n",
       "      <td>2017-10-19 12:00:00</td>\n",
       "      <td>Художественный</td>\n",
       "      <td>ООО \"Киностудия \"Слово\" по заказу ООО \"Уолт Ди...</td>\n",
       "      <td>Россия</td>\n",
       "      <td>Д.Дьяченко</td>\n",
       "      <td>Э.Илоян, Д.Жалинский, М.Озкан, А.Троцюк, В.Шляппо</td>\n",
       "      <td>12</td>\n",
       "      <td>50000000.0</td>\n",
       "      <td>50000000.0</td>\n",
       "      <td>352477575.0</td>\n",
       "      <td>Фонд кино</td>\n",
       "      <td>6.8</td>\n",
       "      <td>комедия,фэнтези,приключения</td>\n",
       "      <td>1.655038e+09</td>\n",
       "      <td>2017</td>\n",
       "      <td>комедия</td>\n",
       "      <td>Д.Дьяченко</td>\n",
       "      <td>0.283706</td>\n",
       "    </tr>\n",
       "    <tr>\n",
       "      <td>5641</td>\n",
       "      <td>Ёлки Новые</td>\n",
       "      <td>111011617</td>\n",
       "      <td>2017-12-21 12:00:00</td>\n",
       "      <td>Художественный</td>\n",
       "      <td>ООО \"ТаББаК\"</td>\n",
       "      <td>Россия</td>\n",
       "      <td>Д.Киселев, А.Першин (Ж.Крыжовников), А.Карпило...</td>\n",
       "      <td>Т.Бекмамбетов, Г.Стрижевская</td>\n",
       "      <td>6</td>\n",
       "      <td>50000000.0</td>\n",
       "      <td>50000000.0</td>\n",
       "      <td>174381922.0</td>\n",
       "      <td>Фонд кино</td>\n",
       "      <td>5.8</td>\n",
       "      <td>комедия,мелодрама</td>\n",
       "      <td>8.554511e+08</td>\n",
       "      <td>2017</td>\n",
       "      <td>комедия</td>\n",
       "      <td>Д.Киселев</td>\n",
       "      <td>0.573454</td>\n",
       "    </tr>\n",
       "    <tr>\n",
       "      <td>5653</td>\n",
       "      <td>Движение вверх</td>\n",
       "      <td>111011817</td>\n",
       "      <td>2017-12-21 12:00:00</td>\n",
       "      <td>Художественный</td>\n",
       "      <td>ООО \"Студия \"ТРИТЭ\" Никиты Михалкова\"</td>\n",
       "      <td>Россия</td>\n",
       "      <td>А.Мегердичев</td>\n",
       "      <td>Л.Верещагин, А.Златопольский, Н.Михалков, ООО ...</td>\n",
       "      <td>6</td>\n",
       "      <td>0.0</td>\n",
       "      <td>400000000.0</td>\n",
       "      <td>590192191.0</td>\n",
       "      <td>Фонд кино</td>\n",
       "      <td>7.5</td>\n",
       "      <td>спорт,драма</td>\n",
       "      <td>2.779686e+09</td>\n",
       "      <td>2017</td>\n",
       "      <td>спорт</td>\n",
       "      <td>А.Мегердичев</td>\n",
       "      <td>0.677745</td>\n",
       "    </tr>\n",
       "    <tr>\n",
       "      <td>5659</td>\n",
       "      <td>Три богатыря и принцесса Египта</td>\n",
       "      <td>114003317</td>\n",
       "      <td>2017-12-21 12:00:00</td>\n",
       "      <td>Анимационный</td>\n",
       "      <td>ООО \"Студия анимационного кино \"Мельница\"</td>\n",
       "      <td>Россия</td>\n",
       "      <td>К.Феоктистов</td>\n",
       "      <td>С.Сельянов, А.Боярский</td>\n",
       "      <td>6</td>\n",
       "      <td>50000000.0</td>\n",
       "      <td>0.0</td>\n",
       "      <td>174464395.0</td>\n",
       "      <td>Фонд кино</td>\n",
       "      <td>5.5</td>\n",
       "      <td>мультфильм,приключения,семейный</td>\n",
       "      <td>7.592268e+08</td>\n",
       "      <td>2017</td>\n",
       "      <td>мультфильм</td>\n",
       "      <td>К.Феоктистов</td>\n",
       "      <td>0.286591</td>\n",
       "    </tr>\n",
       "    <tr>\n",
       "      <td>5673</td>\n",
       "      <td>Селфи</td>\n",
       "      <td>111012117</td>\n",
       "      <td>2018-02-01 12:00:00</td>\n",
       "      <td>Художественный</td>\n",
       "      <td>ООО \"Киностудия \"Слово\", ООО \"Арт Пикчерс Студия\"</td>\n",
       "      <td>Россия</td>\n",
       "      <td>Н.Хомерики</td>\n",
       "      <td>П.Ануров, Ф.Бондарчук, Д.Рудовский</td>\n",
       "      <td>6</td>\n",
       "      <td>20000000.0</td>\n",
       "      <td>40000000.0</td>\n",
       "      <td>60000000.0</td>\n",
       "      <td>Фонд кино</td>\n",
       "      <td>5.8</td>\n",
       "      <td>триллер,драма</td>\n",
       "      <td>2.251964e+08</td>\n",
       "      <td>2018</td>\n",
       "      <td>триллер</td>\n",
       "      <td>Н.Хомерики</td>\n",
       "      <td>1.000000</td>\n",
       "    </tr>\n",
       "    <tr>\n",
       "      <td>5708</td>\n",
       "      <td>Лёд</td>\n",
       "      <td>111000518</td>\n",
       "      <td>2018-02-01 12:00:00</td>\n",
       "      <td>Художественный</td>\n",
       "      <td>ООО \"Водород 2011\", ООО \"Арт Пикчерс Студия\", ...</td>\n",
       "      <td>Россия</td>\n",
       "      <td>О.Трофим</td>\n",
       "      <td>М.Врубель, А.Андрющенко, Ф.Бондарчук, Д.Рудовс...</td>\n",
       "      <td>12</td>\n",
       "      <td>25000000.0</td>\n",
       "      <td>60000000.0</td>\n",
       "      <td>148585222.0</td>\n",
       "      <td>Фонд кино</td>\n",
       "      <td>NaN</td>\n",
       "      <td>NA</td>\n",
       "      <td>1.445732e+09</td>\n",
       "      <td>2018</td>\n",
       "      <td>NaN</td>\n",
       "      <td>О.Трофим</td>\n",
       "      <td>0.572062</td>\n",
       "    </tr>\n",
       "    <tr>\n",
       "      <td>5731</td>\n",
       "      <td>О чем говорят мужчины. Продолжение</td>\n",
       "      <td>111000918</td>\n",
       "      <td>2018-02-19 12:00:00</td>\n",
       "      <td>Художественный</td>\n",
       "      <td>ООО \"КЕДР ПРО\"</td>\n",
       "      <td>Россия</td>\n",
       "      <td>Ф.Фархшатова</td>\n",
       "      <td>Л.Барац, С.Петрейков, Р.Хаит, С.Сельянов</td>\n",
       "      <td>6</td>\n",
       "      <td>0.0</td>\n",
       "      <td>50000000.0</td>\n",
       "      <td>109609029.0</td>\n",
       "      <td>Фонд кино</td>\n",
       "      <td>6.7</td>\n",
       "      <td>комедия</td>\n",
       "      <td>3.898188e+08</td>\n",
       "      <td>2018</td>\n",
       "      <td>комедия</td>\n",
       "      <td>Ф.Фархшатова</td>\n",
       "      <td>0.456167</td>\n",
       "    </tr>\n",
       "    <tr>\n",
       "      <td>5749</td>\n",
       "      <td>Я худею</td>\n",
       "      <td>111001618</td>\n",
       "      <td>2018-03-07 12:00:00</td>\n",
       "      <td>Художественный</td>\n",
       "      <td>ООО \"Друг Друга\", ООО \"Ди Пи Джи\"</td>\n",
       "      <td>Россия</td>\n",
       "      <td>А.Черномазов (псевдоним Алексей Нужный)</td>\n",
       "      <td>С.Корнихин, Н.Куликов, А.Черномазов, А.Кремер,...</td>\n",
       "      <td>6</td>\n",
       "      <td>0.0</td>\n",
       "      <td>30000000.0</td>\n",
       "      <td>87649127.0</td>\n",
       "      <td>Министерство культуры</td>\n",
       "      <td>6.9</td>\n",
       "      <td>комедия</td>\n",
       "      <td>6.334623e+08</td>\n",
       "      <td>2018</td>\n",
       "      <td>комедия</td>\n",
       "      <td>А.Черномазов (псевдоним Алексей Нужный)</td>\n",
       "      <td>0.342274</td>\n",
       "    </tr>\n",
       "    <tr>\n",
       "      <td>5826</td>\n",
       "      <td>Тренер</td>\n",
       "      <td>111003218</td>\n",
       "      <td>2018-04-19 12:00:00</td>\n",
       "      <td>Художественный</td>\n",
       "      <td>ООО \"ДК интертеймент\", ООО \"Киностудия \"Слово\"...</td>\n",
       "      <td>Россия</td>\n",
       "      <td>Д.Козловский</td>\n",
       "      <td>Д.Козловский, П.Ануров, Л.Верещагин, А.Златопо...</td>\n",
       "      <td>12</td>\n",
       "      <td>0.0</td>\n",
       "      <td>260000000.0</td>\n",
       "      <td>390191139.0</td>\n",
       "      <td>Фонд кино</td>\n",
       "      <td>6.8</td>\n",
       "      <td>драма,спорт</td>\n",
       "      <td>8.205280e+08</td>\n",
       "      <td>2018</td>\n",
       "      <td>драма</td>\n",
       "      <td>Д.Козловский</td>\n",
       "      <td>0.666340</td>\n",
       "    </tr>\n",
       "    <tr>\n",
       "      <td>5919</td>\n",
       "      <td>Русалка. Озеро мертвых</td>\n",
       "      <td>111007618</td>\n",
       "      <td>2018-06-07 12:00:00</td>\n",
       "      <td>Художественный</td>\n",
       "      <td>ООО \"СТГ МЕДИА\" по заказу ООО \"Киностудия КИТ\"</td>\n",
       "      <td>Россия</td>\n",
       "      <td>С.Подгаевский</td>\n",
       "      <td>ООО \"Киностудия КИТ\"</td>\n",
       "      <td>6</td>\n",
       "      <td>8000000.0</td>\n",
       "      <td>20000000.0</td>\n",
       "      <td>42000000.0</td>\n",
       "      <td>Фонд кино</td>\n",
       "      <td>4.6</td>\n",
       "      <td>фэнтези,ужасы</td>\n",
       "      <td>1.008747e+08</td>\n",
       "      <td>2018</td>\n",
       "      <td>фэнтези</td>\n",
       "      <td>С.Подгаевский</td>\n",
       "      <td>0.666667</td>\n",
       "    </tr>\n",
       "    <tr>\n",
       "      <td>6178</td>\n",
       "      <td>Непрощенный</td>\n",
       "      <td>111016018</td>\n",
       "      <td>2018-09-27 12:00:00</td>\n",
       "      <td>Художественный</td>\n",
       "      <td>ООО \"Кинокомпания Большое кино\"</td>\n",
       "      <td>Россия</td>\n",
       "      <td>С.Андреасян</td>\n",
       "      <td>С.Андреасян, Г.Андреасян, А.Ананикян</td>\n",
       "      <td>6</td>\n",
       "      <td>0.0</td>\n",
       "      <td>40000000.0</td>\n",
       "      <td>82496889.0</td>\n",
       "      <td>Министерство культуры</td>\n",
       "      <td>6.7</td>\n",
       "      <td>драма</td>\n",
       "      <td>3.932796e+08</td>\n",
       "      <td>2018</td>\n",
       "      <td>драма</td>\n",
       "      <td>С.Андреасян</td>\n",
       "      <td>0.484867</td>\n",
       "    </tr>\n",
       "    <tr>\n",
       "      <td>6472</td>\n",
       "      <td>Три богатыря и наследница престола</td>\n",
       "      <td>114008818</td>\n",
       "      <td>2018-12-15 12:00:00</td>\n",
       "      <td>Анимационный</td>\n",
       "      <td>ООО \"Студия анимационного кино \"Мельница\"</td>\n",
       "      <td>Россия</td>\n",
       "      <td>К.Бронзит</td>\n",
       "      <td>С.Сельянов, А.Боярский</td>\n",
       "      <td>6</td>\n",
       "      <td>115000000.0</td>\n",
       "      <td>0.0</td>\n",
       "      <td>185500705.0</td>\n",
       "      <td>Фонд кино</td>\n",
       "      <td>6.5</td>\n",
       "      <td>мультфильм,приключения,семейный</td>\n",
       "      <td>5.773689e+08</td>\n",
       "      <td>2018</td>\n",
       "      <td>мультфильм</td>\n",
       "      <td>К.Бронзит</td>\n",
       "      <td>0.619944</td>\n",
       "    </tr>\n",
       "    <tr>\n",
       "      <td>6509</td>\n",
       "      <td>Ёлки Последние</td>\n",
       "      <td>111023918</td>\n",
       "      <td>2018-12-10 12:00:00</td>\n",
       "      <td>Художественный</td>\n",
       "      <td>ООО \"ТаББаК\"</td>\n",
       "      <td>Россия</td>\n",
       "      <td>Т.Бекмамбетов, А.Першин (псевдоним Ж.Крыжовник...</td>\n",
       "      <td>Т.Бекмамбетов, Г.Стрижевская</td>\n",
       "      <td>6</td>\n",
       "      <td>75000000.0</td>\n",
       "      <td>25000000.0</td>\n",
       "      <td>179708770.0</td>\n",
       "      <td>Фонд кино</td>\n",
       "      <td>6.9</td>\n",
       "      <td>комедия</td>\n",
       "      <td>7.015070e+08</td>\n",
       "      <td>2018</td>\n",
       "      <td>комедия</td>\n",
       "      <td>Т.Бекмамбетов</td>\n",
       "      <td>0.556456</td>\n",
       "    </tr>\n",
       "    <tr>\n",
       "      <td>6549</td>\n",
       "      <td>Т-34</td>\n",
       "      <td>111024918</td>\n",
       "      <td>2018-12-21 12:00:00</td>\n",
       "      <td>Художественный</td>\n",
       "      <td>ООО \"Кинокомпания МАРС-фильм\" по заказу ООО \"М...</td>\n",
       "      <td>Россия</td>\n",
       "      <td>А.Сидоров</td>\n",
       "      <td>А.Златопольский, Р.Дишдишян, Л.Блаватник, Н.Яр...</td>\n",
       "      <td>12</td>\n",
       "      <td>60000000.0</td>\n",
       "      <td>120000000.0</td>\n",
       "      <td>563784717.0</td>\n",
       "      <td>Фонд кино</td>\n",
       "      <td>6.5</td>\n",
       "      <td>драма,военный,боевик</td>\n",
       "      <td>2.271754e+09</td>\n",
       "      <td>2018</td>\n",
       "      <td>драма</td>\n",
       "      <td>А.Сидоров</td>\n",
       "      <td>0.319271</td>\n",
       "    </tr>\n",
       "    <tr>\n",
       "      <td>6632</td>\n",
       "      <td>Бабушка лёгкого поведения 2</td>\n",
       "      <td>111000519</td>\n",
       "      <td>2019-01-23 12:00:00</td>\n",
       "      <td>Художественный</td>\n",
       "      <td>ООО \"Вайс Филмс\"</td>\n",
       "      <td>Россия</td>\n",
       "      <td>М.Бальчюнас (псевдоним Марюс Вайсберг)</td>\n",
       "      <td>А.Ревва, М.Бальчюнас (псевдоним Марюс Вайсберг)</td>\n",
       "      <td>6</td>\n",
       "      <td>0.0</td>\n",
       "      <td>40000000.0</td>\n",
       "      <td>101463696.0</td>\n",
       "      <td>Министерство культуры</td>\n",
       "      <td>5.3</td>\n",
       "      <td>комедия</td>\n",
       "      <td>4.397764e+08</td>\n",
       "      <td>2019</td>\n",
       "      <td>комедия</td>\n",
       "      <td>М.Бальчюнас (псевдоним Марюс Вайсберг)</td>\n",
       "      <td>0.394230</td>\n",
       "    </tr>\n",
       "    <tr>\n",
       "      <td>6778</td>\n",
       "      <td>Балканский рубеж</td>\n",
       "      <td>111004119</td>\n",
       "      <td>2019-03-14 12:00:00</td>\n",
       "      <td>Художественный</td>\n",
       "      <td>ООО \"Кинокомпания Блесс-Фильм\", ООО \"ARCHANGEL...</td>\n",
       "      <td>Россия, Сербия</td>\n",
       "      <td>А.Волгин</td>\n",
       "      <td>В.Быркин, Г.Куценко, В.Шевц, Т.Куранова, Д.Зем...</td>\n",
       "      <td>6</td>\n",
       "      <td>0.0</td>\n",
       "      <td>35000000.0</td>\n",
       "      <td>150000000.0</td>\n",
       "      <td>Министерство культуры</td>\n",
       "      <td>7.3</td>\n",
       "      <td>боевик,военный,драма</td>\n",
       "      <td>3.076506e+08</td>\n",
       "      <td>2019</td>\n",
       "      <td>боевик</td>\n",
       "      <td>А.Волгин</td>\n",
       "      <td>0.233333</td>\n",
       "    </tr>\n",
       "    <tr>\n",
       "      <td>6789</td>\n",
       "      <td>Трезвый водитель</td>\n",
       "      <td>111004519</td>\n",
       "      <td>2019-03-21 12:00:00</td>\n",
       "      <td>Художественный</td>\n",
       "      <td>ООО \"Кинокомпания \"Небо\" по заказу АО \"ВБД Груп\"</td>\n",
       "      <td>Россия</td>\n",
       "      <td>Р.Гигинеишвили</td>\n",
       "      <td>Э.Илоян, В.Шляппо, Д.Жалинский, А.Троцюк, Р.Ги...</td>\n",
       "      <td>6</td>\n",
       "      <td>0.0</td>\n",
       "      <td>40000000.0</td>\n",
       "      <td>80000000.0</td>\n",
       "      <td>Фонд кино</td>\n",
       "      <td>5.1</td>\n",
       "      <td>комедия,приключения</td>\n",
       "      <td>2.148717e+08</td>\n",
       "      <td>2019</td>\n",
       "      <td>комедия</td>\n",
       "      <td>Р.Гигинеишвили</td>\n",
       "      <td>0.500000</td>\n",
       "    </tr>\n",
       "    <tr>\n",
       "      <td>6972</td>\n",
       "      <td>Верность</td>\n",
       "      <td>111009119</td>\n",
       "      <td>2019-06-13 12:00:00</td>\n",
       "      <td>Художественный</td>\n",
       "      <td>ООО \"Друг Друга\", ООО \"1-2-3 Продакшн\"</td>\n",
       "      <td>Россия</td>\n",
       "      <td>Н.Сайфуллаева</td>\n",
       "      <td>С.Корнихин, В.Федорович, Е.Никишов, П.Лилиенфе...</td>\n",
       "      <td>18</td>\n",
       "      <td>0.0</td>\n",
       "      <td>30000000.0</td>\n",
       "      <td>46300000.0</td>\n",
       "      <td>Министерство культуры</td>\n",
       "      <td>6.2</td>\n",
       "      <td>драма</td>\n",
       "      <td>9.763735e+07</td>\n",
       "      <td>2019</td>\n",
       "      <td>драма</td>\n",
       "      <td>Н.Сайфуллаева</td>\n",
       "      <td>0.647948</td>\n",
       "    </tr>\n",
       "    <tr>\n",
       "      <td>6991</td>\n",
       "      <td>Давай разведемся!</td>\n",
       "      <td>111009519</td>\n",
       "      <td>2019-06-12 12:00:00</td>\n",
       "      <td>Художественный</td>\n",
       "      <td>ООО Кинокомпания \"Глобус-фильм\"</td>\n",
       "      <td>Россия</td>\n",
       "      <td>А.Пармас</td>\n",
       "      <td>С.Сельянов, К.Эрнст, Н.Дрозд-Макан</td>\n",
       "      <td>12</td>\n",
       "      <td>0.0</td>\n",
       "      <td>25000000.0</td>\n",
       "      <td>38000000.0</td>\n",
       "      <td>Министерство культуры</td>\n",
       "      <td>5.9</td>\n",
       "      <td>комедия</td>\n",
       "      <td>1.030983e+08</td>\n",
       "      <td>2019</td>\n",
       "      <td>комедия</td>\n",
       "      <td>А.Пармас</td>\n",
       "      <td>0.657895</td>\n",
       "    </tr>\n",
       "    <tr>\n",
       "      <td>7456</td>\n",
       "      <td>Холоп</td>\n",
       "      <td>111021719</td>\n",
       "      <td>2019-12-19 12:00:00</td>\n",
       "      <td>Художественный</td>\n",
       "      <td>ООО \"МЕМ-МЕДИА\" по заказу АО \"ВБД Груп\"</td>\n",
       "      <td>Россия</td>\n",
       "      <td>К.Шипенко</td>\n",
       "      <td>Э.Илоян, Д.Жалинский, В.Дусмухаметов, Т.Бадзие...</td>\n",
       "      <td>12</td>\n",
       "      <td>25000000.0</td>\n",
       "      <td>35000000.0</td>\n",
       "      <td>160000000.0</td>\n",
       "      <td>Фонд кино</td>\n",
       "      <td>6.8</td>\n",
       "      <td>комедия</td>\n",
       "      <td>3.073569e+09</td>\n",
       "      <td>2019</td>\n",
       "      <td>комедия</td>\n",
       "      <td>К.Шипенко</td>\n",
       "      <td>0.375000</td>\n",
       "    </tr>\n",
       "    <tr>\n",
       "      <td>7466</td>\n",
       "      <td>Иван Царевич и Серый Волк 4</td>\n",
       "      <td>114005019</td>\n",
       "      <td>2019-12-20 12:00:00</td>\n",
       "      <td>Анимационный</td>\n",
       "      <td>ООО \"Студия анимационного кино \"Мельница\"</td>\n",
       "      <td>Россия</td>\n",
       "      <td>Д.Шмидт, К.Феоктистов</td>\n",
       "      <td>С.Сельянов, А.Боярский</td>\n",
       "      <td>6</td>\n",
       "      <td>100000000.0</td>\n",
       "      <td>0.0</td>\n",
       "      <td>190000000.0</td>\n",
       "      <td>Фонд кино</td>\n",
       "      <td>6.7</td>\n",
       "      <td>мультфильм,приключения,семейный</td>\n",
       "      <td>5.010692e+08</td>\n",
       "      <td>2019</td>\n",
       "      <td>мультфильм</td>\n",
       "      <td>Д.Шмидт</td>\n",
       "      <td>0.526316</td>\n",
       "    </tr>\n",
       "  </tbody>\n",
       "</table>\n",
       "</div>"
      ],
      "text/plain": [
       "                                   title   puNumber     show_start_date  \\\n",
       "1903                           Призрак_.  111001815 2015-03-02 12:00:00   \n",
       "2058                           Дуxless 2  111000415 2015-01-26 12:00:00   \n",
       "2132                Битва за Севастополь  111001415 2015-02-20 12:00:00   \n",
       "2205                    8 новых свиданий  111014914 2014-10-30 12:00:00   \n",
       "2472                         Воин (2015)  111017315 2015-09-28 12:00:00   \n",
       "2532                             Бармен.  111009615 2015-05-26 12:00:00   \n",
       "2686                          Без границ  111010315 2015-06-08 12:00:00   \n",
       "2701                   Самый Лучший День  111017815 2015-10-14 12:00:00   \n",
       "2767                        Страна чудес  111018415 2015-10-16 12:00:00   \n",
       "2788                  Срочно выйду замуж  111017115 2015-09-30 12:00:00   \n",
       "2858                      28 Панфиловцев  111000916 2016-01-27 12:00:00   \n",
       "2874                   Помню - не помню!  111004916 2016-03-01 12:00:00   \n",
       "2920                            Экипаж .  111005416 2016-03-21 12:00:00   \n",
       "3105         Иван Царевич и Серый Волк 3  114004115 2015-12-24 12:00:00   \n",
       "3224              Кухня. Последняя битва  111001517 2017-03-22 12:00:00   \n",
       "3229                       Гуляй, Вася !  111018216 2016-12-20 12:00:00   \n",
       "3230                           Невеста .  111016516 2016-10-25 12:00:00   \n",
       "3565                   Притяжение (2016)  111018116 2016-12-16 12:00:00   \n",
       "5505                  Последний богатырь  111007017 2017-10-19 12:00:00   \n",
       "5641                          Ёлки Новые  111011617 2017-12-21 12:00:00   \n",
       "5653                      Движение вверх  111011817 2017-12-21 12:00:00   \n",
       "5659     Три богатыря и принцесса Египта  114003317 2017-12-21 12:00:00   \n",
       "5673                               Селфи  111012117 2018-02-01 12:00:00   \n",
       "5708                                 Лёд  111000518 2018-02-01 12:00:00   \n",
       "5731  О чем говорят мужчины. Продолжение  111000918 2018-02-19 12:00:00   \n",
       "5749                             Я худею  111001618 2018-03-07 12:00:00   \n",
       "5826                              Тренер  111003218 2018-04-19 12:00:00   \n",
       "5919              Русалка. Озеро мертвых  111007618 2018-06-07 12:00:00   \n",
       "6178                         Непрощенный  111016018 2018-09-27 12:00:00   \n",
       "6472  Три богатыря и наследница престола  114008818 2018-12-15 12:00:00   \n",
       "6509                      Ёлки Последние  111023918 2018-12-10 12:00:00   \n",
       "6549                                Т-34  111024918 2018-12-21 12:00:00   \n",
       "6632         Бабушка лёгкого поведения 2  111000519 2019-01-23 12:00:00   \n",
       "6778                    Балканский рубеж  111004119 2019-03-14 12:00:00   \n",
       "6789                    Трезвый водитель  111004519 2019-03-21 12:00:00   \n",
       "6972                            Верность  111009119 2019-06-13 12:00:00   \n",
       "6991                   Давай разведемся!  111009519 2019-06-12 12:00:00   \n",
       "7456                               Холоп  111021719 2019-12-19 12:00:00   \n",
       "7466         Иван Царевич и Серый Волк 4  114005019 2019-12-20 12:00:00   \n",
       "\n",
       "                type                                        film_studio  \\\n",
       "1903  Художественный                                 ООО \"Водород 2011\"   \n",
       "2058  Художественный  ООО \"Киностудия \"Слово\", ООО \"Арт Пикчерс Студия\"   \n",
       "2132  Художественный  ООО \"Кинокомпания \"Новые люди\", ООО \"Студия \"К...   \n",
       "2205  Художественный                            ООО \"Смарт ТВ Продакшн\"   \n",
       "2472  Художественный   ООО \"Форпост Продакшн\", ООО \"Арт Пикчерс Студия\"   \n",
       "2532  Художественный          АО \"ВайТ Медиа\", ООО \"Арт Пикчерс Студия\"   \n",
       "2686  Художественный                           ООО \"Кинокомпания \"Небо\"   \n",
       "2701  Художественный                                       ООО \"ТаББаК\"   \n",
       "2767  Художественный                             ООО \"Ол Медиа Компани\"   \n",
       "2788  Художественный          АО \"ВайТ Медиа\", ООО \"Арт Пикчерс Студия\"   \n",
       "2858  Художественный        Индивидуальный Предприниматель Шальопа А.Г.   \n",
       "2874  Художественный                                    ООО \"КиноФирма\"   \n",
       "2920  Художественный              ООО \"Студия \"ТРИТЭ\" Никиты Михалкова\"   \n",
       "3105    Анимационный          ООО \"Студия анимационного кино \"Мельница\"   \n",
       "3224  Художественный  ООО Кинокомпания \"Аврора продакшнс\" по заказу ...   \n",
       "3229  Художественный     ООО Кинокомпания \"Инвада Фильм\", АО \"ВБД Груп\"   \n",
       "3230  Художественный                                   ООО \"Форс Медиа\"   \n",
       "3565  Художественный      ООО \"Водород 2011\",  ООО \"Арт Пикчерс Студия\"   \n",
       "5505  Художественный  ООО \"Киностудия \"Слово\" по заказу ООО \"Уолт Ди...   \n",
       "5641  Художественный                                       ООО \"ТаББаК\"   \n",
       "5653  Художественный              ООО \"Студия \"ТРИТЭ\" Никиты Михалкова\"   \n",
       "5659    Анимационный          ООО \"Студия анимационного кино \"Мельница\"   \n",
       "5673  Художественный  ООО \"Киностудия \"Слово\", ООО \"Арт Пикчерс Студия\"   \n",
       "5708  Художественный  ООО \"Водород 2011\", ООО \"Арт Пикчерс Студия\", ...   \n",
       "5731  Художественный                                     ООО \"КЕДР ПРО\"   \n",
       "5749  Художественный                  ООО \"Друг Друга\", ООО \"Ди Пи Джи\"   \n",
       "5826  Художественный  ООО \"ДК интертеймент\", ООО \"Киностудия \"Слово\"...   \n",
       "5919  Художественный     ООО \"СТГ МЕДИА\" по заказу ООО \"Киностудия КИТ\"   \n",
       "6178  Художественный                    ООО \"Кинокомпания Большое кино\"   \n",
       "6472    Анимационный          ООО \"Студия анимационного кино \"Мельница\"   \n",
       "6509  Художественный                                       ООО \"ТаББаК\"   \n",
       "6549  Художественный  ООО \"Кинокомпания МАРС-фильм\" по заказу ООО \"М...   \n",
       "6632  Художественный                                   ООО \"Вайс Филмс\"   \n",
       "6778  Художественный  ООО \"Кинокомпания Блесс-Фильм\", ООО \"ARCHANGEL...   \n",
       "6789  Художественный   ООО \"Кинокомпания \"Небо\" по заказу АО \"ВБД Груп\"   \n",
       "6972  Художественный             ООО \"Друг Друга\", ООО \"1-2-3 Продакшн\"   \n",
       "6991  Художественный                    ООО Кинокомпания \"Глобус-фильм\"   \n",
       "7456  Художественный            ООО \"МЕМ-МЕДИА\" по заказу АО \"ВБД Груп\"   \n",
       "7466    Анимационный          ООО \"Студия анимационного кино \"Мельница\"   \n",
       "\n",
       "     production_country                                           director  \\\n",
       "1903             Россия                                       А.Войтинский   \n",
       "2058             Россия                                         Р.Прыгунов   \n",
       "2132     Россия-Украина                                        С.Мокрицкий   \n",
       "2205             Россия                                        М.Бальчюнас   \n",
       "2472             Россия                                        А.Андрианов   \n",
       "2532             Россия                                       Д.Штурманова   \n",
       "2686             Россия             Р.Гигинеишвили, К.Оганисян, Р.Прыгунов   \n",
       "2701             Россия                 А.Першин (псевдоним Ж.Крыжовников)   \n",
       "2767             Россия                                         Д.Дьяченко   \n",
       "2788             Россия                                          С Чекалов   \n",
       "2858             Россия                              К.Дружинин, А.Шальопа   \n",
       "2874             Россия                                        В.Ровенский   \n",
       "2920             Россия                                          Н.Лебедев   \n",
       "3105             Россия                                            Д.Шмидт   \n",
       "3224             Россия                                          А.Федотов   \n",
       "3229             Россия                                          Р.Каримов   \n",
       "3230             Россия                                      С.Подгаевский   \n",
       "3565             Россия                                        Ф.Бондарчук   \n",
       "5505             Россия                                         Д.Дьяченко   \n",
       "5641             Россия  Д.Киселев, А.Першин (Ж.Крыжовников), А.Карпило...   \n",
       "5653             Россия                                       А.Мегердичев   \n",
       "5659             Россия                                       К.Феоктистов   \n",
       "5673             Россия                                         Н.Хомерики   \n",
       "5708             Россия                                           О.Трофим   \n",
       "5731             Россия                                       Ф.Фархшатова   \n",
       "5749             Россия            А.Черномазов (псевдоним Алексей Нужный)   \n",
       "5826             Россия                                       Д.Козловский   \n",
       "5919             Россия                                      С.Подгаевский   \n",
       "6178             Россия                                        С.Андреасян   \n",
       "6472             Россия                                          К.Бронзит   \n",
       "6509             Россия  Т.Бекмамбетов, А.Першин (псевдоним Ж.Крыжовник...   \n",
       "6549             Россия                                          А.Сидоров   \n",
       "6632             Россия             М.Бальчюнас (псевдоним Марюс Вайсберг)   \n",
       "6778     Россия, Сербия                                           А.Волгин   \n",
       "6789             Россия                                     Р.Гигинеишвили   \n",
       "6972             Россия                                      Н.Сайфуллаева   \n",
       "6991             Россия                                           А.Пармас   \n",
       "7456             Россия                                          К.Шипенко   \n",
       "7466             Россия                              Д.Шмидт, К.Феоктистов   \n",
       "\n",
       "                                               producer  age_restriction  \\\n",
       "1903                                         С.Сельянов                6   \n",
       "2058                 П.Ануров, Ф.Бондарчук, Д.Рудовский                6   \n",
       "2132                              Н.Мокрицкая, Е.Олесов               12   \n",
       "2205                  ООО \"Грин Филмс\", ООО \"ПЦ \"Горад\"               12   \n",
       "2472                           ООО \"Арт Пикчерс Студия\"               12   \n",
       "2532                                        Т.Вайнштейн                6   \n",
       "2686    Э.Илоян, Э.Родоная, Р.Гигинеишвили, Д.Жалинский               12   \n",
       "2701  Т.Бекмамбетов, А.Першин (псевдоним Ж.Крыжовник...                6   \n",
       "2767                   Г.Шабанов, Р.Татаринцев, Э.Илоян               12   \n",
       "2788              Ф.Бондарчук, Т.Вайнштейн, Д.Рудовский                6   \n",
       "2858                                          А.Шальопа               12   \n",
       "2874                                    ООО \"КиноФирма\"               12   \n",
       "2920  Л.Верещагин, А.Златопольский, Н.Михалков, ООО ...                6   \n",
       "3105                             С.Сельянов, А.Боярский                6   \n",
       "3224  Э.Илоян, В.Шляппо, Д.Жалинский, А.Троцюк, А.Ку...               12   \n",
       "3229  А.Новиков, А.Котелевский, Э.Илоян, Д.Жалинский...                6   \n",
       "3230                 В.Северцев, Д.Литвинов, З.Болотаев                6   \n",
       "3565                           ООО \"Арт Пикчерс Студия\"               12   \n",
       "5505  Э.Илоян, Д.Жалинский, М.Озкан, А.Троцюк, В.Шляппо               12   \n",
       "5641                       Т.Бекмамбетов, Г.Стрижевская                6   \n",
       "5653  Л.Верещагин, А.Златопольский, Н.Михалков, ООО ...                6   \n",
       "5659                             С.Сельянов, А.Боярский                6   \n",
       "5673                 П.Ануров, Ф.Бондарчук, Д.Рудовский                6   \n",
       "5708  М.Врубель, А.Андрющенко, Ф.Бондарчук, Д.Рудовс...               12   \n",
       "5731           Л.Барац, С.Петрейков, Р.Хаит, С.Сельянов                6   \n",
       "5749  С.Корнихин, Н.Куликов, А.Черномазов, А.Кремер,...                6   \n",
       "5826  Д.Козловский, П.Ануров, Л.Верещагин, А.Златопо...               12   \n",
       "5919                               ООО \"Киностудия КИТ\"                6   \n",
       "6178               С.Андреасян, Г.Андреасян, А.Ананикян                6   \n",
       "6472                             С.Сельянов, А.Боярский                6   \n",
       "6509                       Т.Бекмамбетов, Г.Стрижевская                6   \n",
       "6549  А.Златопольский, Р.Дишдишян, Л.Блаватник, Н.Яр...               12   \n",
       "6632    А.Ревва, М.Бальчюнас (псевдоним Марюс Вайсберг)                6   \n",
       "6778  В.Быркин, Г.Куценко, В.Шевц, Т.Куранова, Д.Зем...                6   \n",
       "6789  Э.Илоян, В.Шляппо, Д.Жалинский, А.Троцюк, Р.Ги...                6   \n",
       "6972  С.Корнихин, В.Федорович, Е.Никишов, П.Лилиенфе...               18   \n",
       "6991                 С.Сельянов, К.Эрнст, Н.Дрозд-Макан               12   \n",
       "7456  Э.Илоян, Д.Жалинский, В.Дусмухаметов, Т.Бадзие...               12   \n",
       "7466                             С.Сельянов, А.Боярский                6   \n",
       "\n",
       "      refundable_support  nonrefundable_support       budget  \\\n",
       "1903                 0.0             75000000.0  139551503.0   \n",
       "2058                 0.0             75000000.0   75000000.0   \n",
       "2132                 0.0             27510000.0  131000000.0   \n",
       "2205                 0.0             30000000.0   77401751.0   \n",
       "2472          10000000.0             70000000.0   80000000.0   \n",
       "2532          20000000.0                    0.0   20000000.0   \n",
       "2686          10000000.0             40000000.0   80273277.0   \n",
       "2701          29000000.0             34000000.0  130619336.0   \n",
       "2767          41000000.0             25000000.0  105445546.0   \n",
       "2788                 0.0             35000000.0   35000000.0   \n",
       "2858                 0.0             30000000.0   85384000.0   \n",
       "2874                 0.0              6000000.0    6000000.0   \n",
       "2920          50000000.0            392104482.0  635283867.0   \n",
       "3105                 0.0             40000000.0  179257987.0   \n",
       "3224          50000000.0                    0.0  162630398.0   \n",
       "3229                 0.0             25345000.0   39000000.0   \n",
       "3230           5000000.0             20000000.0   50000000.0   \n",
       "3565                 0.0            250000000.0  250000000.0   \n",
       "5505          50000000.0             50000000.0  352477575.0   \n",
       "5641          50000000.0             50000000.0  174381922.0   \n",
       "5653                 0.0            400000000.0  590192191.0   \n",
       "5659          50000000.0                    0.0  174464395.0   \n",
       "5673          20000000.0             40000000.0   60000000.0   \n",
       "5708          25000000.0             60000000.0  148585222.0   \n",
       "5731                 0.0             50000000.0  109609029.0   \n",
       "5749                 0.0             30000000.0   87649127.0   \n",
       "5826                 0.0            260000000.0  390191139.0   \n",
       "5919           8000000.0             20000000.0   42000000.0   \n",
       "6178                 0.0             40000000.0   82496889.0   \n",
       "6472         115000000.0                    0.0  185500705.0   \n",
       "6509          75000000.0             25000000.0  179708770.0   \n",
       "6549          60000000.0            120000000.0  563784717.0   \n",
       "6632                 0.0             40000000.0  101463696.0   \n",
       "6778                 0.0             35000000.0  150000000.0   \n",
       "6789                 0.0             40000000.0   80000000.0   \n",
       "6972                 0.0             30000000.0   46300000.0   \n",
       "6991                 0.0             25000000.0   38000000.0   \n",
       "7456          25000000.0             35000000.0  160000000.0   \n",
       "7466         100000000.0                    0.0  190000000.0   \n",
       "\n",
       "           financing_source  ratings                           genres  \\\n",
       "1903              Фонд кино      7.0       триллер,боевик,приключения   \n",
       "2058              Фонд кино      6.6                            драма   \n",
       "2132  Министерство культуры      7.5          биография,военный,драма   \n",
       "2205              Фонд кино      6.0                          комедия   \n",
       "2472              Фонд кино      7.8            боевик,драма,криминал   \n",
       "2532              Фонд кино      6.2                  комедия,фэнтези   \n",
       "2686              Фонд кино      6.8                комедия,мелодрама   \n",
       "2701              Фонд кино      4.7                   комедия,музыка   \n",
       "2767              Фонд кино      6.0                    ужасы,комедия   \n",
       "2788              Фонд кино      5.1                комедия,мелодрама   \n",
       "2858  Министерство культуры      7.5            военный,драма,история   \n",
       "2874  Министерство культуры      4.3                          комедия   \n",
       "2920              Фонд кино      7.6        драма,триллер,приключения   \n",
       "3105              Фонд кино      6.2  мультфильм,приключения,семейный   \n",
       "3224              Фонд кино      6.0                          комедия   \n",
       "3229  Министерство культуры      6.5                          комедия   \n",
       "3230              Фонд кино      4.7                    ужасы,триллер   \n",
       "3565              Фонд кино      5.6                       фантастика   \n",
       "5505              Фонд кино      6.8      комедия,фэнтези,приключения   \n",
       "5641              Фонд кино      5.8                комедия,мелодрама   \n",
       "5653              Фонд кино      7.5                      спорт,драма   \n",
       "5659              Фонд кино      5.5  мультфильм,приключения,семейный   \n",
       "5673              Фонд кино      5.8                    триллер,драма   \n",
       "5708              Фонд кино      NaN                               NA   \n",
       "5731              Фонд кино      6.7                          комедия   \n",
       "5749  Министерство культуры      6.9                          комедия   \n",
       "5826              Фонд кино      6.8                      драма,спорт   \n",
       "5919              Фонд кино      4.6                    фэнтези,ужасы   \n",
       "6178  Министерство культуры      6.7                            драма   \n",
       "6472              Фонд кино      6.5  мультфильм,приключения,семейный   \n",
       "6509              Фонд кино      6.9                          комедия   \n",
       "6549              Фонд кино      6.5             драма,военный,боевик   \n",
       "6632  Министерство культуры      5.3                          комедия   \n",
       "6778  Министерство культуры      7.3             боевик,военный,драма   \n",
       "6789              Фонд кино      5.1              комедия,приключения   \n",
       "6972  Министерство культуры      6.2                            драма   \n",
       "6991  Министерство культуры      5.9                          комедия   \n",
       "7456              Фонд кино      6.8                          комедия   \n",
       "7466              Фонд кино      6.7  мультфильм,приключения,семейный   \n",
       "\n",
       "        box_office  year  main_genre                            main_director  \\\n",
       "1903  3.528043e+08  2015     триллер                             А.Войтинский   \n",
       "2058  4.461635e+08  2015       драма                               Р.Прыгунов   \n",
       "2132  4.018045e+08  2015   биография                              С.Мокрицкий   \n",
       "2205  3.933446e+08  2014     комедия                              М.Бальчюнас   \n",
       "2472  1.965724e+08  2015      боевик                              А.Андрианов   \n",
       "2532  6.741897e+07  2015     комедия                             Д.Штурманова   \n",
       "2686  1.909534e+08  2015     комедия                           Р.Гигинеишвили   \n",
       "2701  6.830291e+08  2015     комедия       А.Першин (псевдоним Ж.Крыжовников)   \n",
       "2767  2.945908e+08  2015       ужасы                               Д.Дьяченко   \n",
       "2788  7.293778e+07  2015     комедия                                С Чекалов   \n",
       "2858  3.636228e+08  2016     военный                               К.Дружинин   \n",
       "2874  1.536293e+07  2016     комедия                              В.Ровенский   \n",
       "2920  1.402255e+09  2016       драма                                Н.Лебедев   \n",
       "3105  7.049282e+08  2015  мультфильм                                  Д.Шмидт   \n",
       "3224  3.340074e+08  2017     комедия                                А.Федотов   \n",
       "3229  2.590991e+08  2016     комедия                                Р.Каримов   \n",
       "3230  1.757996e+08  2016       ужасы                            С.Подгаевский   \n",
       "3565  1.038321e+09  2016  фантастика                              Ф.Бондарчук   \n",
       "5505  1.655038e+09  2017     комедия                               Д.Дьяченко   \n",
       "5641  8.554511e+08  2017     комедия                                Д.Киселев   \n",
       "5653  2.779686e+09  2017       спорт                             А.Мегердичев   \n",
       "5659  7.592268e+08  2017  мультфильм                             К.Феоктистов   \n",
       "5673  2.251964e+08  2018     триллер                               Н.Хомерики   \n",
       "5708  1.445732e+09  2018         NaN                                 О.Трофим   \n",
       "5731  3.898188e+08  2018     комедия                             Ф.Фархшатова   \n",
       "5749  6.334623e+08  2018     комедия  А.Черномазов (псевдоним Алексей Нужный)   \n",
       "5826  8.205280e+08  2018       драма                             Д.Козловский   \n",
       "5919  1.008747e+08  2018     фэнтези                            С.Подгаевский   \n",
       "6178  3.932796e+08  2018       драма                              С.Андреасян   \n",
       "6472  5.773689e+08  2018  мультфильм                                К.Бронзит   \n",
       "6509  7.015070e+08  2018     комедия                            Т.Бекмамбетов   \n",
       "6549  2.271754e+09  2018       драма                                А.Сидоров   \n",
       "6632  4.397764e+08  2019     комедия   М.Бальчюнас (псевдоним Марюс Вайсберг)   \n",
       "6778  3.076506e+08  2019      боевик                                 А.Волгин   \n",
       "6789  2.148717e+08  2019     комедия                           Р.Гигинеишвили   \n",
       "6972  9.763735e+07  2019       драма                            Н.Сайфуллаева   \n",
       "6991  1.030983e+08  2019     комедия                                 А.Пармас   \n",
       "7456  3.073569e+09  2019     комедия                                К.Шипенко   \n",
       "7466  5.010692e+08  2019  мультфильм                                  Д.Шмидт   \n",
       "\n",
       "      gov_part_of_budget  \n",
       "1903            0.537436  \n",
       "2058            1.000000  \n",
       "2132            0.210000  \n",
       "2205            0.387588  \n",
       "2472            1.000000  \n",
       "2532            1.000000  \n",
       "2686            0.622872  \n",
       "2701            0.482318  \n",
       "2767            0.625915  \n",
       "2788            1.000000  \n",
       "2858            0.351354  \n",
       "2874            1.000000  \n",
       "2920            0.695916  \n",
       "3105            0.223142  \n",
       "3224            0.307446  \n",
       "3229            0.649872  \n",
       "3230            0.500000  \n",
       "3565            1.000000  \n",
       "5505            0.283706  \n",
       "5641            0.573454  \n",
       "5653            0.677745  \n",
       "5659            0.286591  \n",
       "5673            1.000000  \n",
       "5708            0.572062  \n",
       "5731            0.456167  \n",
       "5749            0.342274  \n",
       "5826            0.666340  \n",
       "5919            0.666667  \n",
       "6178            0.484867  \n",
       "6472            0.619944  \n",
       "6509            0.556456  \n",
       "6549            0.319271  \n",
       "6632            0.394230  \n",
       "6778            0.233333  \n",
       "6789            0.500000  \n",
       "6972            0.647948  \n",
       "6991            0.657895  \n",
       "7456            0.375000  \n",
       "7466            0.526316  "
      ]
     },
     "metadata": {},
     "output_type": "display_data"
    }
   ],
   "source": [
    "good_boxoffice = df_gov.query('(box_office / budget) > 2')\n",
    "display(good_boxoffice)"
   ]
  },
  {
   "cell_type": "markdown",
   "metadata": {},
   "source": [
    "Таких фильмов всего 39 \\\n",
    "Чуть больше 1/10 части от всех профинансированных"
   ]
  },
  {
   "cell_type": "code",
   "execution_count": 62,
   "metadata": {},
   "outputs": [
    {
     "data": {
      "text/plain": [
       "Д.Шмидт           2\n",
       "С.Подгаевский     2\n",
       "Р.Гигинеишвили    2\n",
       "Д.Дьяченко        2\n",
       "Ф.Бондарчук       1\n",
       "Name: main_director, dtype: int64"
      ]
     },
     "execution_count": 62,
     "metadata": {},
     "output_type": "execute_result"
    }
   ],
   "source": [
    "good_boxoffice['main_director'].value_counts().head() # Режиссёры, которые чаще всего окупаются"
   ]
  },
  {
   "cell_type": "markdown",
   "metadata": {
    "id": "V2gYwMcPgFyd"
   },
   "source": [
    "###  Общий вывод"
   ]
  },
  {
   "cell_type": "markdown",
   "metadata": {
    "id": "AYRg3dzXgFye"
   },
   "source": [
    "Видно, что в данных крайне много \"мусора\", различных ошибок, пропусков и т.д. \\\n",
    "И всё это в официальных гос.данных \n",
    "\n",
    "Определённо видно, что сборы с каждым годом растут, меняются тенденции, жанры и возрастные ограничения. Постепенно, с 2015 до 2019, основную кассу стали собирать фильмы 6+ \n",
    "\n",
    "Фильмы с господдержкой окупаются только в 1 случае из 10. Каких-то особых предпочтений для гос поддержки нет, средства выделяют распределённо. Касаемо жанра - больше всего драм и комедий лишь из-за того, что в такие жанры можно \"впихнуть\" достаточно много фильмов. Видно, что вне зависимости от окупаемости и сборов поддержка только растёт и растёт. Причём невозвратная часть - заметно больше"
   ]
  },
  {
   "cell_type": "code",
   "execution_count": null,
   "metadata": {},
   "outputs": [],
   "source": []
  }
 ],
 "metadata": {
  "ExecuteTimeLog": [
   {
    "duration": 537,
    "start_time": "2021-07-07T10:12:08.634Z"
   },
   {
    "duration": 206,
    "start_time": "2021-07-07T10:12:30.191Z"
   },
   {
    "duration": 227,
    "start_time": "2021-07-07T10:12:33.078Z"
   },
   {
    "duration": 153,
    "start_time": "2021-07-07T10:13:42.146Z"
   },
   {
    "duration": 233,
    "start_time": "2021-07-07T10:30:09.252Z"
   },
   {
    "duration": 19,
    "start_time": "2021-07-07T10:30:15.577Z"
   },
   {
    "duration": 18,
    "start_time": "2021-07-07T10:30:57.348Z"
   },
   {
    "duration": 19,
    "start_time": "2021-07-07T10:31:17.452Z"
   },
   {
    "duration": 21,
    "start_time": "2021-07-07T10:31:32.227Z"
   },
   {
    "duration": 27,
    "start_time": "2021-07-07T10:32:06.588Z"
   },
   {
    "duration": 23,
    "start_time": "2021-07-07T10:32:43.645Z"
   },
   {
    "duration": 24,
    "start_time": "2021-07-07T10:33:06.948Z"
   },
   {
    "duration": 7,
    "start_time": "2021-07-07T10:33:28.558Z"
   },
   {
    "duration": 23,
    "start_time": "2021-07-07T10:33:43.761Z"
   },
   {
    "duration": 28,
    "start_time": "2021-07-07T10:34:13.466Z"
   },
   {
    "duration": 23,
    "start_time": "2021-07-07T10:35:56.187Z"
   },
   {
    "duration": 6,
    "start_time": "2021-07-07T10:36:48.182Z"
   },
   {
    "duration": 14,
    "start_time": "2021-07-07T10:37:49.641Z"
   },
   {
    "duration": 6,
    "start_time": "2021-07-07T10:38:06.694Z"
   },
   {
    "duration": 6,
    "start_time": "2021-07-07T10:38:13.493Z"
   },
   {
    "duration": 19,
    "start_time": "2021-07-07T10:38:44.056Z"
   },
   {
    "duration": 186,
    "start_time": "2021-07-07T10:48:35.618Z"
   },
   {
    "duration": 24,
    "start_time": "2021-07-07T10:48:51.498Z"
   },
   {
    "duration": 20,
    "start_time": "2021-07-07T10:48:59.415Z"
   },
   {
    "duration": 20,
    "start_time": "2021-07-07T10:53:02.195Z"
   },
   {
    "duration": 188,
    "start_time": "2021-07-07T10:54:40.486Z"
   },
   {
    "duration": 115,
    "start_time": "2021-07-07T10:54:52.552Z"
   },
   {
    "duration": 214,
    "start_time": "2021-07-07T10:54:56.354Z"
   },
   {
    "duration": 47,
    "start_time": "2021-07-07T10:54:58.282Z"
   },
   {
    "duration": 217,
    "start_time": "2021-07-07T10:59:16.075Z"
   },
   {
    "duration": 51,
    "start_time": "2021-07-07T10:59:16.243Z"
   },
   {
    "duration": 578,
    "start_time": "2021-07-07T10:59:18.774Z"
   },
   {
    "duration": 161,
    "start_time": "2021-07-07T10:59:21.238Z"
   },
   {
    "duration": 59,
    "start_time": "2021-07-07T10:59:21.453Z"
   },
   {
    "duration": 3,
    "start_time": "2021-07-07T11:02:10.786Z"
   },
   {
    "duration": 13,
    "start_time": "2021-07-07T11:07:07.722Z"
   },
   {
    "duration": 26,
    "start_time": "2021-07-07T11:07:17.958Z"
   },
   {
    "duration": 22,
    "start_time": "2021-07-07T11:08:17.939Z"
   },
   {
    "duration": 212,
    "start_time": "2021-07-07T11:08:19.665Z"
   },
   {
    "duration": 21,
    "start_time": "2021-07-07T11:08:29.945Z"
   },
   {
    "duration": 31,
    "start_time": "2021-07-07T11:08:38.899Z"
   },
   {
    "duration": 23,
    "start_time": "2021-07-07T11:08:54.527Z"
   },
   {
    "duration": 8,
    "start_time": "2021-07-07T11:18:55.974Z"
   },
   {
    "duration": 7,
    "start_time": "2021-07-07T11:19:03.639Z"
   },
   {
    "duration": 7,
    "start_time": "2021-07-07T11:19:06.444Z"
   },
   {
    "duration": 578,
    "start_time": "2021-07-07T12:09:59.576Z"
   },
   {
    "duration": 195,
    "start_time": "2021-07-07T12:10:00.156Z"
   },
   {
    "duration": 115,
    "start_time": "2021-07-07T12:10:00.353Z"
   },
   {
    "duration": 3,
    "start_time": "2021-07-07T12:10:00.470Z"
   },
   {
    "duration": 32,
    "start_time": "2021-07-07T12:10:00.474Z"
   },
   {
    "duration": 23,
    "start_time": "2021-07-07T12:10:00.508Z"
   },
   {
    "duration": 19,
    "start_time": "2021-07-07T12:10:00.533Z"
   },
   {
    "duration": 44,
    "start_time": "2021-07-07T12:10:00.553Z"
   },
   {
    "duration": 7,
    "start_time": "2021-07-07T12:10:00.600Z"
   },
   {
    "duration": 7,
    "start_time": "2021-07-07T12:19:45.761Z"
   },
   {
    "duration": 21,
    "start_time": "2021-07-07T12:21:35.482Z"
   },
   {
    "duration": 21,
    "start_time": "2021-07-07T12:29:23.569Z"
   },
   {
    "duration": 525,
    "start_time": "2021-07-07T12:29:44.542Z"
   },
   {
    "duration": 214,
    "start_time": "2021-07-07T12:29:45.069Z"
   },
   {
    "duration": 92,
    "start_time": "2021-07-07T12:29:45.285Z"
   },
   {
    "duration": 3,
    "start_time": "2021-07-07T12:29:45.379Z"
   },
   {
    "duration": 28,
    "start_time": "2021-07-07T12:29:45.384Z"
   },
   {
    "duration": 23,
    "start_time": "2021-07-07T12:29:45.413Z"
   },
   {
    "duration": 21,
    "start_time": "2021-07-07T12:29:45.437Z"
   },
   {
    "duration": 41,
    "start_time": "2021-07-07T12:29:45.460Z"
   },
   {
    "duration": 7,
    "start_time": "2021-07-07T12:29:45.502Z"
   },
   {
    "duration": 20,
    "start_time": "2021-07-07T12:29:45.511Z"
   },
   {
    "duration": 12,
    "start_time": "2021-07-07T12:34:02.800Z"
   },
   {
    "duration": 7,
    "start_time": "2021-07-07T12:35:10.479Z"
   },
   {
    "duration": 8,
    "start_time": "2021-07-07T12:35:22.440Z"
   },
   {
    "duration": 6,
    "start_time": "2021-07-07T12:35:35.649Z"
   },
   {
    "duration": 6,
    "start_time": "2021-07-07T12:35:43.107Z"
   },
   {
    "duration": 22,
    "start_time": "2021-07-07T12:38:03.029Z"
   },
   {
    "duration": 10,
    "start_time": "2021-07-07T12:38:06.592Z"
   },
   {
    "duration": 563,
    "start_time": "2021-07-07T12:38:46.493Z"
   },
   {
    "duration": 265,
    "start_time": "2021-07-07T12:38:47.058Z"
   },
   {
    "duration": 94,
    "start_time": "2021-07-07T12:38:47.325Z"
   },
   {
    "duration": 3,
    "start_time": "2021-07-07T12:38:47.422Z"
   },
   {
    "duration": 30,
    "start_time": "2021-07-07T12:38:47.427Z"
   },
   {
    "duration": 16,
    "start_time": "2021-07-07T12:38:53.305Z"
   },
   {
    "duration": 10,
    "start_time": "2021-07-07T12:38:53.499Z"
   },
   {
    "duration": 8,
    "start_time": "2021-07-07T12:39:48.161Z"
   },
   {
    "duration": 27,
    "start_time": "2021-07-07T12:41:17.629Z"
   },
   {
    "duration": 17,
    "start_time": "2021-07-07T12:41:17.867Z"
   },
   {
    "duration": 21,
    "start_time": "2021-07-07T12:41:19.310Z"
   },
   {
    "duration": 7,
    "start_time": "2021-07-07T12:41:19.544Z"
   },
   {
    "duration": 20,
    "start_time": "2021-07-07T12:41:20.504Z"
   },
   {
    "duration": 554,
    "start_time": "2021-07-07T12:56:23.696Z"
   },
   {
    "duration": 200,
    "start_time": "2021-07-07T12:56:25.234Z"
   },
   {
    "duration": 119,
    "start_time": "2021-07-07T12:56:25.480Z"
   },
   {
    "duration": 4,
    "start_time": "2021-07-07T12:56:25.762Z"
   },
   {
    "duration": 26,
    "start_time": "2021-07-07T12:56:27.172Z"
   },
   {
    "duration": 12,
    "start_time": "2021-07-07T12:56:29.051Z"
   },
   {
    "duration": 10,
    "start_time": "2021-07-07T12:56:29.291Z"
   },
   {
    "duration": 8,
    "start_time": "2021-07-07T12:56:29.623Z"
   },
   {
    "duration": 28,
    "start_time": "2021-07-07T12:56:32.137Z"
   },
   {
    "duration": 19,
    "start_time": "2021-07-07T12:56:39.785Z"
   },
   {
    "duration": 20,
    "start_time": "2021-07-07T12:56:44.297Z"
   },
   {
    "duration": 7,
    "start_time": "2021-07-07T12:56:45.392Z"
   },
   {
    "duration": 23,
    "start_time": "2021-07-07T12:56:46.615Z"
   },
   {
    "duration": 4,
    "start_time": "2021-07-07T12:57:06.625Z"
   },
   {
    "duration": 32,
    "start_time": "2021-07-07T12:57:36.690Z"
   },
   {
    "duration": 18,
    "start_time": "2021-07-07T12:58:00.149Z"
   },
   {
    "duration": 15,
    "start_time": "2021-07-07T12:59:16.793Z"
   },
   {
    "duration": 7,
    "start_time": "2021-07-07T13:19:22.624Z"
   },
   {
    "duration": 6,
    "start_time": "2021-07-07T14:17:33.527Z"
   },
   {
    "duration": 9,
    "start_time": "2021-07-07T14:17:48.409Z"
   },
   {
    "duration": 8,
    "start_time": "2021-07-07T14:20:13.060Z"
   },
   {
    "duration": 8,
    "start_time": "2021-07-07T14:20:37.957Z"
   },
   {
    "duration": 8,
    "start_time": "2021-07-07T14:20:47.470Z"
   },
   {
    "duration": 9,
    "start_time": "2021-07-07T14:20:54.503Z"
   },
   {
    "duration": 10,
    "start_time": "2021-07-07T14:28:57.763Z"
   },
   {
    "duration": 3,
    "start_time": "2021-07-07T14:30:23.377Z"
   },
   {
    "duration": 3,
    "start_time": "2021-07-07T14:30:36.489Z"
   },
   {
    "duration": 103,
    "start_time": "2021-07-07T14:30:52.351Z"
   },
   {
    "duration": 8,
    "start_time": "2021-07-07T14:30:54.763Z"
   },
   {
    "duration": 8,
    "start_time": "2021-07-07T14:31:29.301Z"
   },
   {
    "duration": 13,
    "start_time": "2021-07-07T14:31:44.516Z"
   },
   {
    "duration": 7,
    "start_time": "2021-07-07T14:33:10.972Z"
   },
   {
    "duration": 11,
    "start_time": "2021-07-07T14:33:27.780Z"
   },
   {
    "duration": 8,
    "start_time": "2021-07-07T14:34:44.588Z"
   },
   {
    "duration": 57,
    "start_time": "2021-07-07T14:35:59.042Z"
   },
   {
    "duration": 3,
    "start_time": "2021-07-07T14:36:28.168Z"
   },
   {
    "duration": 5,
    "start_time": "2021-07-07T14:36:46.254Z"
   },
   {
    "duration": 4,
    "start_time": "2021-07-07T14:36:52.714Z"
   },
   {
    "duration": 3,
    "start_time": "2021-07-07T14:36:56.612Z"
   },
   {
    "duration": 4,
    "start_time": "2021-07-07T14:36:57.049Z"
   },
   {
    "duration": 3,
    "start_time": "2021-07-07T14:39:21.214Z"
   },
   {
    "duration": 7,
    "start_time": "2021-07-07T14:39:52.406Z"
   },
   {
    "duration": 11,
    "start_time": "2021-07-07T14:39:58.576Z"
   },
   {
    "duration": 9,
    "start_time": "2021-07-07T14:40:26.301Z"
   },
   {
    "duration": 10,
    "start_time": "2021-07-07T14:40:31.704Z"
   },
   {
    "duration": 11,
    "start_time": "2021-07-07T14:40:36.249Z"
   },
   {
    "duration": 10,
    "start_time": "2021-07-07T14:40:39.783Z"
   },
   {
    "duration": 9,
    "start_time": "2021-07-07T14:40:48.558Z"
   },
   {
    "duration": 10,
    "start_time": "2021-07-07T14:40:57.143Z"
   },
   {
    "duration": 9,
    "start_time": "2021-07-07T14:41:06.074Z"
   },
   {
    "duration": 4324,
    "start_time": "2021-07-07T14:41:22.004Z"
   },
   {
    "duration": 11,
    "start_time": "2021-07-07T14:41:33.392Z"
   },
   {
    "duration": 9,
    "start_time": "2021-07-07T14:41:39.288Z"
   },
   {
    "duration": 569,
    "start_time": "2021-07-07T14:42:14.387Z"
   },
   {
    "duration": 197,
    "start_time": "2021-07-07T14:42:14.959Z"
   },
   {
    "duration": 84,
    "start_time": "2021-07-07T14:42:16.052Z"
   },
   {
    "duration": 4,
    "start_time": "2021-07-07T14:42:16.900Z"
   },
   {
    "duration": 27,
    "start_time": "2021-07-07T14:42:19.898Z"
   },
   {
    "duration": 12,
    "start_time": "2021-07-07T14:42:21.577Z"
   },
   {
    "duration": 9,
    "start_time": "2021-07-07T14:42:21.813Z"
   },
   {
    "duration": 9,
    "start_time": "2021-07-07T14:42:22.569Z"
   },
   {
    "duration": 29,
    "start_time": "2021-07-07T14:42:25.837Z"
   },
   {
    "duration": 20,
    "start_time": "2021-07-07T14:42:27.003Z"
   },
   {
    "duration": 21,
    "start_time": "2021-07-07T14:42:28.767Z"
   },
   {
    "duration": 7,
    "start_time": "2021-07-07T14:42:29.838Z"
   },
   {
    "duration": 4,
    "start_time": "2021-07-07T14:43:25.493Z"
   },
   {
    "duration": 7,
    "start_time": "2021-07-07T14:43:26.573Z"
   },
   {
    "duration": 10,
    "start_time": "2021-07-07T14:43:31.639Z"
   },
   {
    "duration": 9,
    "start_time": "2021-07-07T14:43:32.046Z"
   },
   {
    "duration": 10,
    "start_time": "2021-07-07T14:43:33.301Z"
   },
   {
    "duration": 12,
    "start_time": "2021-07-07T14:43:33.658Z"
   },
   {
    "duration": 8,
    "start_time": "2021-07-07T14:43:34.552Z"
   },
   {
    "duration": 9,
    "start_time": "2021-07-07T14:43:35.058Z"
   },
   {
    "duration": 12,
    "start_time": "2021-07-07T14:43:35.914Z"
   },
   {
    "duration": 17,
    "start_time": "2021-07-07T14:45:34.368Z"
   },
   {
    "duration": 512,
    "start_time": "2021-07-07T14:51:58.236Z"
   },
   {
    "duration": 223,
    "start_time": "2021-07-07T14:51:58.750Z"
   },
   {
    "duration": 93,
    "start_time": "2021-07-07T14:51:58.977Z"
   },
   {
    "duration": 4,
    "start_time": "2021-07-07T14:51:59.071Z"
   },
   {
    "duration": 37,
    "start_time": "2021-07-07T14:51:59.077Z"
   },
   {
    "duration": 18,
    "start_time": "2021-07-07T14:51:59.116Z"
   },
   {
    "duration": 10,
    "start_time": "2021-07-07T14:51:59.137Z"
   },
   {
    "duration": 8,
    "start_time": "2021-07-07T14:51:59.149Z"
   },
   {
    "duration": 54,
    "start_time": "2021-07-07T14:51:59.158Z"
   },
   {
    "duration": 18,
    "start_time": "2021-07-07T14:51:59.213Z"
   },
   {
    "duration": 22,
    "start_time": "2021-07-07T14:51:59.232Z"
   },
   {
    "duration": 36,
    "start_time": "2021-07-07T14:51:59.255Z"
   },
   {
    "duration": 7,
    "start_time": "2021-07-07T14:51:59.293Z"
   },
   {
    "duration": 10,
    "start_time": "2021-07-07T14:51:59.302Z"
   },
   {
    "duration": 9,
    "start_time": "2021-07-07T14:51:59.313Z"
   },
   {
    "duration": 11,
    "start_time": "2021-07-07T14:51:59.324Z"
   },
   {
    "duration": 8,
    "start_time": "2021-07-07T14:51:59.337Z"
   },
   {
    "duration": 46,
    "start_time": "2021-07-07T14:51:59.347Z"
   },
   {
    "duration": 22,
    "start_time": "2021-07-07T14:51:59.395Z"
   },
   {
    "duration": 24,
    "start_time": "2021-07-07T14:57:32.911Z"
   },
   {
    "duration": 7,
    "start_time": "2021-07-07T14:58:22.070Z"
   },
   {
    "duration": 4,
    "start_time": "2021-07-07T14:59:11.239Z"
   },
   {
    "duration": 25,
    "start_time": "2021-07-07T15:07:22.208Z"
   },
   {
    "duration": 16,
    "start_time": "2021-07-07T15:08:25.560Z"
   },
   {
    "duration": 15,
    "start_time": "2021-07-07T15:08:40.647Z"
   },
   {
    "duration": 14,
    "start_time": "2021-07-07T15:08:46.669Z"
   },
   {
    "duration": 533,
    "start_time": "2021-07-07T15:18:07.440Z"
   },
   {
    "duration": 173,
    "start_time": "2021-07-07T15:18:07.974Z"
   },
   {
    "duration": 84,
    "start_time": "2021-07-07T15:18:08.149Z"
   },
   {
    "duration": 3,
    "start_time": "2021-07-07T15:18:08.235Z"
   },
   {
    "duration": 30,
    "start_time": "2021-07-07T15:18:08.240Z"
   },
   {
    "duration": 22,
    "start_time": "2021-07-07T15:18:08.272Z"
   },
   {
    "duration": 11,
    "start_time": "2021-07-07T15:18:08.295Z"
   },
   {
    "duration": 11,
    "start_time": "2021-07-07T15:18:08.309Z"
   },
   {
    "duration": 40,
    "start_time": "2021-07-07T15:18:08.322Z"
   },
   {
    "duration": 42,
    "start_time": "2021-07-07T15:18:08.364Z"
   },
   {
    "duration": 22,
    "start_time": "2021-07-07T15:18:08.408Z"
   },
   {
    "duration": 5,
    "start_time": "2021-07-07T15:18:08.432Z"
   },
   {
    "duration": 13,
    "start_time": "2021-07-07T15:18:08.439Z"
   },
   {
    "duration": 9,
    "start_time": "2021-07-07T15:18:08.454Z"
   },
   {
    "duration": 32,
    "start_time": "2021-07-07T15:18:08.465Z"
   },
   {
    "duration": 10,
    "start_time": "2021-07-07T15:18:08.501Z"
   },
   {
    "duration": 7,
    "start_time": "2021-07-07T15:18:08.513Z"
   },
   {
    "duration": 11,
    "start_time": "2021-07-07T15:18:08.521Z"
   },
   {
    "duration": 17,
    "start_time": "2021-07-07T15:18:08.534Z"
   },
   {
    "duration": 44,
    "start_time": "2021-07-07T15:18:08.553Z"
   },
   {
    "duration": 22,
    "start_time": "2021-07-07T15:18:08.599Z"
   },
   {
    "duration": 61,
    "start_time": "2021-07-07T15:18:08.622Z"
   },
   {
    "duration": 7,
    "start_time": "2021-07-07T15:18:39.457Z"
   },
   {
    "duration": 5,
    "start_time": "2021-07-07T16:05:17.020Z"
   },
   {
    "duration": 5,
    "start_time": "2021-07-07T16:51:28.794Z"
   },
   {
    "duration": 546,
    "start_time": "2021-07-07T16:52:26.306Z"
   },
   {
    "duration": 203,
    "start_time": "2021-07-07T16:52:27.523Z"
   },
   {
    "duration": 85,
    "start_time": "2021-07-07T16:52:27.736Z"
   },
   {
    "duration": 4,
    "start_time": "2021-07-07T16:52:27.899Z"
   },
   {
    "duration": 25,
    "start_time": "2021-07-07T16:52:28.674Z"
   },
   {
    "duration": 8,
    "start_time": "2021-07-07T16:52:32.956Z"
   },
   {
    "duration": 18,
    "start_time": "2021-07-07T16:52:35.616Z"
   },
   {
    "duration": 6,
    "start_time": "2021-07-07T16:52:36.913Z"
   },
   {
    "duration": 11,
    "start_time": "2021-07-07T16:52:40.258Z"
   },
   {
    "duration": 10,
    "start_time": "2021-07-07T16:52:46.251Z"
   },
   {
    "duration": 8,
    "start_time": "2021-07-07T16:52:47.182Z"
   },
   {
    "duration": 27,
    "start_time": "2021-07-07T16:53:20.391Z"
   },
   {
    "duration": 20,
    "start_time": "2021-07-07T16:53:22.022Z"
   },
   {
    "duration": 23,
    "start_time": "2021-07-07T16:53:23.690Z"
   },
   {
    "duration": 8,
    "start_time": "2021-07-07T16:53:24.261Z"
   },
   {
    "duration": 4,
    "start_time": "2021-07-07T16:53:38.733Z"
   },
   {
    "duration": 7,
    "start_time": "2021-07-07T16:53:40.445Z"
   },
   {
    "duration": 11,
    "start_time": "2021-07-07T16:53:41.348Z"
   },
   {
    "duration": 13,
    "start_time": "2021-07-07T16:53:45.250Z"
   },
   {
    "duration": 12,
    "start_time": "2021-07-07T16:53:45.467Z"
   },
   {
    "duration": 4,
    "start_time": "2021-07-07T16:55:32.704Z"
   },
   {
    "duration": 12,
    "start_time": "2021-07-07T16:55:49.012Z"
   },
   {
    "duration": 18,
    "start_time": "2021-07-07T16:55:49.547Z"
   },
   {
    "duration": 611,
    "start_time": "2021-07-07T16:58:35.156Z"
   },
   {
    "duration": 200,
    "start_time": "2021-07-07T16:58:35.770Z"
   },
   {
    "duration": 86,
    "start_time": "2021-07-07T16:58:35.972Z"
   },
   {
    "duration": 3,
    "start_time": "2021-07-07T16:58:36.060Z"
   },
   {
    "duration": 27,
    "start_time": "2021-07-07T16:58:36.065Z"
   },
   {
    "duration": 8,
    "start_time": "2021-07-07T16:58:36.094Z"
   },
   {
    "duration": 17,
    "start_time": "2021-07-07T16:58:36.103Z"
   },
   {
    "duration": 5,
    "start_time": "2021-07-07T16:58:36.123Z"
   },
   {
    "duration": 11,
    "start_time": "2021-07-07T16:58:36.130Z"
   },
   {
    "duration": 7,
    "start_time": "2021-07-07T16:58:36.143Z"
   },
   {
    "duration": 37,
    "start_time": "2021-07-07T16:58:36.152Z"
   },
   {
    "duration": 27,
    "start_time": "2021-07-07T16:58:36.191Z"
   },
   {
    "duration": 19,
    "start_time": "2021-07-07T16:58:36.219Z"
   },
   {
    "duration": 49,
    "start_time": "2021-07-07T16:58:36.240Z"
   },
   {
    "duration": 6,
    "start_time": "2021-07-07T16:58:36.291Z"
   },
   {
    "duration": 3,
    "start_time": "2021-07-07T16:58:36.299Z"
   },
   {
    "duration": 13,
    "start_time": "2021-07-07T16:58:36.304Z"
   },
   {
    "duration": 10,
    "start_time": "2021-07-07T16:58:36.319Z"
   },
   {
    "duration": 10,
    "start_time": "2021-07-07T16:58:36.331Z"
   },
   {
    "duration": 44,
    "start_time": "2021-07-07T16:58:36.343Z"
   },
   {
    "duration": 4,
    "start_time": "2021-07-07T16:58:36.388Z"
   },
   {
    "duration": 13,
    "start_time": "2021-07-07T16:58:36.394Z"
   },
   {
    "duration": 16,
    "start_time": "2021-07-07T16:58:36.410Z"
   },
   {
    "duration": 8,
    "start_time": "2021-07-07T17:02:31.629Z"
   },
   {
    "duration": 8,
    "start_time": "2021-07-07T17:02:34.308Z"
   },
   {
    "duration": 6,
    "start_time": "2021-07-07T17:05:13.483Z"
   },
   {
    "duration": 17,
    "start_time": "2021-07-07T17:05:20.606Z"
   },
   {
    "duration": 7,
    "start_time": "2021-07-07T17:05:34.638Z"
   },
   {
    "duration": 3,
    "start_time": "2021-07-07T17:06:31.883Z"
   },
   {
    "duration": 570,
    "start_time": "2021-07-07T17:06:37.165Z"
   },
   {
    "duration": 174,
    "start_time": "2021-07-07T17:06:37.737Z"
   },
   {
    "duration": 47,
    "start_time": "2021-07-07T17:06:37.913Z"
   },
   {
    "duration": 3,
    "start_time": "2021-07-07T17:06:37.962Z"
   },
   {
    "duration": 27,
    "start_time": "2021-07-07T17:06:37.967Z"
   },
   {
    "duration": 7,
    "start_time": "2021-07-07T17:06:37.996Z"
   },
   {
    "duration": 16,
    "start_time": "2021-07-07T17:06:38.005Z"
   },
   {
    "duration": 6,
    "start_time": "2021-07-07T17:06:38.024Z"
   },
   {
    "duration": 12,
    "start_time": "2021-07-07T17:06:38.031Z"
   },
   {
    "duration": 41,
    "start_time": "2021-07-07T17:06:38.045Z"
   },
   {
    "duration": 8,
    "start_time": "2021-07-07T17:06:38.088Z"
   },
   {
    "duration": 26,
    "start_time": "2021-07-07T17:06:38.098Z"
   },
   {
    "duration": 17,
    "start_time": "2021-07-07T17:06:38.126Z"
   },
   {
    "duration": 43,
    "start_time": "2021-07-07T17:06:38.144Z"
   },
   {
    "duration": 6,
    "start_time": "2021-07-07T17:06:38.188Z"
   },
   {
    "duration": 5,
    "start_time": "2021-07-07T17:06:38.195Z"
   },
   {
    "duration": 9,
    "start_time": "2021-07-07T17:06:38.201Z"
   },
   {
    "duration": 12,
    "start_time": "2021-07-07T17:06:38.212Z"
   },
   {
    "duration": 11,
    "start_time": "2021-07-07T17:06:38.226Z"
   },
   {
    "duration": 47,
    "start_time": "2021-07-07T17:06:38.239Z"
   },
   {
    "duration": 4,
    "start_time": "2021-07-07T17:06:38.288Z"
   },
   {
    "duration": 13,
    "start_time": "2021-07-07T17:06:38.293Z"
   },
   {
    "duration": 5,
    "start_time": "2021-07-07T17:06:38.309Z"
   },
   {
    "duration": 18,
    "start_time": "2021-07-07T17:06:38.325Z"
   },
   {
    "duration": 20,
    "start_time": "2021-07-07T17:07:02.805Z"
   },
   {
    "duration": 19,
    "start_time": "2021-07-07T17:07:08.527Z"
   },
   {
    "duration": 19,
    "start_time": "2021-07-07T17:07:12.758Z"
   },
   {
    "duration": 22,
    "start_time": "2021-07-07T17:07:17.497Z"
   },
   {
    "duration": 19,
    "start_time": "2021-07-07T17:07:19.645Z"
   },
   {
    "duration": 10,
    "start_time": "2021-07-07T17:07:34.239Z"
   },
   {
    "duration": 17,
    "start_time": "2021-07-07T17:07:54.144Z"
   },
   {
    "duration": 14,
    "start_time": "2021-07-07T17:08:14.357Z"
   },
   {
    "duration": 616,
    "start_time": "2021-07-07T17:08:45.254Z"
   },
   {
    "duration": 178,
    "start_time": "2021-07-07T17:08:45.872Z"
   },
   {
    "duration": 60,
    "start_time": "2021-07-07T17:08:46.054Z"
   },
   {
    "duration": 3,
    "start_time": "2021-07-07T17:08:46.116Z"
   },
   {
    "duration": 26,
    "start_time": "2021-07-07T17:08:46.121Z"
   },
   {
    "duration": 7,
    "start_time": "2021-07-07T17:08:46.149Z"
   },
   {
    "duration": 17,
    "start_time": "2021-07-07T17:08:46.158Z"
   },
   {
    "duration": 14,
    "start_time": "2021-07-07T17:08:46.176Z"
   },
   {
    "duration": 17,
    "start_time": "2021-07-07T17:08:46.193Z"
   },
   {
    "duration": 9,
    "start_time": "2021-07-07T17:08:46.211Z"
   },
   {
    "duration": 21,
    "start_time": "2021-07-07T17:08:46.221Z"
   },
   {
    "duration": 49,
    "start_time": "2021-07-07T17:08:46.244Z"
   },
   {
    "duration": 24,
    "start_time": "2021-07-07T17:08:46.295Z"
   },
   {
    "duration": 22,
    "start_time": "2021-07-07T17:08:46.321Z"
   },
   {
    "duration": 6,
    "start_time": "2021-07-07T17:08:46.345Z"
   },
   {
    "duration": 5,
    "start_time": "2021-07-07T17:08:46.353Z"
   },
   {
    "duration": 13,
    "start_time": "2021-07-07T17:08:46.386Z"
   },
   {
    "duration": 12,
    "start_time": "2021-07-07T17:08:46.402Z"
   },
   {
    "duration": 10,
    "start_time": "2021-07-07T17:08:46.415Z"
   },
   {
    "duration": 7,
    "start_time": "2021-07-07T17:08:46.427Z"
   },
   {
    "duration": 8,
    "start_time": "2021-07-07T17:08:46.435Z"
   },
   {
    "duration": 68,
    "start_time": "2021-07-07T17:08:46.446Z"
   },
   {
    "duration": 13,
    "start_time": "2021-07-07T17:08:46.516Z"
   },
   {
    "duration": 78,
    "start_time": "2021-07-07T17:08:46.530Z"
   },
   {
    "duration": 40,
    "start_time": "2021-07-07T17:09:08.185Z"
   },
   {
    "duration": 16,
    "start_time": "2021-07-07T17:09:19.324Z"
   },
   {
    "duration": 21,
    "start_time": "2021-07-07T17:09:23.290Z"
   },
   {
    "duration": 13,
    "start_time": "2021-07-07T17:09:54.812Z"
   },
   {
    "duration": 13,
    "start_time": "2021-07-07T17:10:02.039Z"
   },
   {
    "duration": 10,
    "start_time": "2021-07-07T17:10:29.632Z"
   },
   {
    "duration": 13,
    "start_time": "2021-07-07T17:10:52.372Z"
   },
   {
    "duration": 13,
    "start_time": "2021-07-07T17:11:17.270Z"
   },
   {
    "duration": 13,
    "start_time": "2021-07-07T17:14:59.284Z"
   },
   {
    "duration": 547,
    "start_time": "2021-07-07T17:18:52.403Z"
   },
   {
    "duration": 163,
    "start_time": "2021-07-07T17:18:52.952Z"
   },
   {
    "duration": 44,
    "start_time": "2021-07-07T17:18:53.117Z"
   },
   {
    "duration": 3,
    "start_time": "2021-07-07T17:18:53.162Z"
   },
   {
    "duration": 26,
    "start_time": "2021-07-07T17:18:53.167Z"
   },
   {
    "duration": 6,
    "start_time": "2021-07-07T17:18:53.195Z"
   },
   {
    "duration": 15,
    "start_time": "2021-07-07T17:18:53.203Z"
   },
   {
    "duration": 5,
    "start_time": "2021-07-07T17:18:53.220Z"
   },
   {
    "duration": 11,
    "start_time": "2021-07-07T17:18:53.228Z"
   },
   {
    "duration": 9,
    "start_time": "2021-07-07T17:18:53.241Z"
   },
   {
    "duration": 41,
    "start_time": "2021-07-07T17:18:53.252Z"
   },
   {
    "duration": 33,
    "start_time": "2021-07-07T17:18:53.295Z"
   },
   {
    "duration": 19,
    "start_time": "2021-07-07T17:18:53.330Z"
   },
   {
    "duration": 49,
    "start_time": "2021-07-07T17:18:53.350Z"
   },
   {
    "duration": 5,
    "start_time": "2021-07-07T17:18:53.401Z"
   },
   {
    "duration": 5,
    "start_time": "2021-07-07T17:18:53.408Z"
   },
   {
    "duration": 11,
    "start_time": "2021-07-07T17:18:53.414Z"
   },
   {
    "duration": 9,
    "start_time": "2021-07-07T17:18:53.427Z"
   },
   {
    "duration": 10,
    "start_time": "2021-07-07T17:18:53.437Z"
   },
   {
    "duration": 39,
    "start_time": "2021-07-07T17:18:53.448Z"
   },
   {
    "duration": 26,
    "start_time": "2021-07-07T17:18:55.799Z"
   },
   {
    "duration": 598,
    "start_time": "2021-07-07T17:20:17.862Z"
   },
   {
    "duration": 161,
    "start_time": "2021-07-07T17:20:18.462Z"
   },
   {
    "duration": 45,
    "start_time": "2021-07-07T17:20:18.626Z"
   },
   {
    "duration": 4,
    "start_time": "2021-07-07T17:20:18.673Z"
   },
   {
    "duration": 38,
    "start_time": "2021-07-07T17:20:26.877Z"
   },
   {
    "duration": 7,
    "start_time": "2021-07-07T17:20:37.405Z"
   },
   {
    "duration": 19,
    "start_time": "2021-07-07T17:20:51.534Z"
   },
   {
    "duration": 5,
    "start_time": "2021-07-07T17:20:57.228Z"
   },
   {
    "duration": 7,
    "start_time": "2021-07-07T17:21:08.235Z"
   },
   {
    "duration": 19,
    "start_time": "2021-07-07T17:21:42.158Z"
   },
   {
    "duration": 14,
    "start_time": "2021-07-07T17:21:50.225Z"
   },
   {
    "duration": 22,
    "start_time": "2021-07-07T17:22:54.104Z"
   },
   {
    "duration": 5,
    "start_time": "2021-07-07T17:22:56.371Z"
   },
   {
    "duration": 14,
    "start_time": "2021-07-07T17:22:58.316Z"
   },
   {
    "duration": 5,
    "start_time": "2021-07-07T17:22:58.493Z"
   },
   {
    "duration": 35,
    "start_time": "2021-07-07T17:22:59.666Z"
   },
   {
    "duration": 6,
    "start_time": "2021-07-07T17:23:02.410Z"
   },
   {
    "duration": 611,
    "start_time": "2021-07-07T17:24:59.664Z"
   },
   {
    "duration": 178,
    "start_time": "2021-07-07T17:25:01.945Z"
   },
   {
    "duration": 47,
    "start_time": "2021-07-07T17:25:02.125Z"
   },
   {
    "duration": 2,
    "start_time": "2021-07-07T17:25:07.903Z"
   },
   {
    "duration": 254,
    "start_time": "2021-07-07T17:25:08.232Z"
   },
   {
    "duration": 182,
    "start_time": "2021-07-07T17:25:08.671Z"
   },
   {
    "duration": 6,
    "start_time": "2021-07-07T17:25:13.104Z"
   },
   {
    "duration": 36,
    "start_time": "2021-07-07T17:25:13.662Z"
   },
   {
    "duration": 7,
    "start_time": "2021-07-07T17:25:14.528Z"
   },
   {
    "duration": 24,
    "start_time": "2021-07-07T17:25:27.982Z"
   },
   {
    "duration": 3,
    "start_time": "2021-07-07T17:25:48.982Z"
   },
   {
    "duration": 165,
    "start_time": "2021-07-07T17:25:48.987Z"
   },
   {
    "duration": 50,
    "start_time": "2021-07-07T17:25:49.154Z"
   },
   {
    "duration": 4,
    "start_time": "2021-07-07T17:25:49.206Z"
   },
   {
    "duration": 26,
    "start_time": "2021-07-07T17:25:49.212Z"
   },
   {
    "duration": 7,
    "start_time": "2021-07-07T17:25:49.240Z"
   },
   {
    "duration": 16,
    "start_time": "2021-07-07T17:25:49.249Z"
   },
   {
    "duration": 22,
    "start_time": "2021-07-07T17:25:49.266Z"
   },
   {
    "duration": 16,
    "start_time": "2021-07-07T17:25:49.291Z"
   },
   {
    "duration": 9,
    "start_time": "2021-07-07T17:25:49.309Z"
   },
   {
    "duration": 7,
    "start_time": "2021-07-07T17:25:49.319Z"
   },
   {
    "duration": 28,
    "start_time": "2021-07-07T17:25:49.328Z"
   },
   {
    "duration": 44,
    "start_time": "2021-07-07T17:25:49.357Z"
   },
   {
    "duration": 22,
    "start_time": "2021-07-07T17:25:49.403Z"
   },
   {
    "duration": 7,
    "start_time": "2021-07-07T17:25:49.427Z"
   },
   {
    "duration": 3,
    "start_time": "2021-07-07T17:25:49.436Z"
   },
   {
    "duration": 44,
    "start_time": "2021-07-07T17:25:49.441Z"
   },
   {
    "duration": 12,
    "start_time": "2021-07-07T17:25:49.488Z"
   },
   {
    "duration": 13,
    "start_time": "2021-07-07T17:25:49.502Z"
   },
   {
    "duration": 10,
    "start_time": "2021-07-07T17:25:49.516Z"
   },
   {
    "duration": 62,
    "start_time": "2021-07-07T17:25:49.527Z"
   },
   {
    "duration": 26,
    "start_time": "2021-07-07T17:26:51.809Z"
   },
   {
    "duration": 26,
    "start_time": "2021-07-07T17:26:55.759Z"
   },
   {
    "duration": 26,
    "start_time": "2021-07-07T17:27:04.501Z"
   },
   {
    "duration": 25,
    "start_time": "2021-07-07T17:28:24.859Z"
   },
   {
    "duration": 21,
    "start_time": "2021-07-07T17:28:55.250Z"
   },
   {
    "duration": 21,
    "start_time": "2021-07-07T17:28:58.885Z"
   },
   {
    "duration": 7,
    "start_time": "2021-07-07T17:45:40.972Z"
   },
   {
    "duration": 13,
    "start_time": "2021-07-07T17:45:42.529Z"
   },
   {
    "duration": 27,
    "start_time": "2021-07-07T17:45:51.026Z"
   },
   {
    "duration": 518,
    "start_time": "2021-07-07T17:46:15.532Z"
   },
   {
    "duration": 235,
    "start_time": "2021-07-07T17:46:16.053Z"
   },
   {
    "duration": 80,
    "start_time": "2021-07-07T17:46:16.292Z"
   },
   {
    "duration": 5,
    "start_time": "2021-07-07T17:46:16.373Z"
   },
   {
    "duration": 26,
    "start_time": "2021-07-07T17:46:16.380Z"
   },
   {
    "duration": 7,
    "start_time": "2021-07-07T17:46:16.408Z"
   },
   {
    "duration": 16,
    "start_time": "2021-07-07T17:46:16.418Z"
   },
   {
    "duration": 5,
    "start_time": "2021-07-07T17:46:16.436Z"
   },
   {
    "duration": 13,
    "start_time": "2021-07-07T17:46:16.442Z"
   },
   {
    "duration": 35,
    "start_time": "2021-07-07T17:46:16.456Z"
   },
   {
    "duration": 8,
    "start_time": "2021-07-07T17:46:16.493Z"
   },
   {
    "duration": 28,
    "start_time": "2021-07-07T17:46:16.502Z"
   },
   {
    "duration": 17,
    "start_time": "2021-07-07T17:46:16.532Z"
   },
   {
    "duration": 44,
    "start_time": "2021-07-07T17:46:16.551Z"
   },
   {
    "duration": 6,
    "start_time": "2021-07-07T17:46:16.597Z"
   },
   {
    "duration": 4,
    "start_time": "2021-07-07T17:46:16.605Z"
   },
   {
    "duration": 9,
    "start_time": "2021-07-07T17:46:16.610Z"
   },
   {
    "duration": 9,
    "start_time": "2021-07-07T17:46:16.621Z"
   },
   {
    "duration": 10,
    "start_time": "2021-07-07T17:46:16.632Z"
   },
   {
    "duration": 43,
    "start_time": "2021-07-07T17:46:16.644Z"
   },
   {
    "duration": 26,
    "start_time": "2021-07-07T17:46:16.689Z"
   },
   {
    "duration": 19,
    "start_time": "2021-07-07T17:46:16.718Z"
   },
   {
    "duration": 8,
    "start_time": "2021-07-07T17:46:16.738Z"
   },
   {
    "duration": 43,
    "start_time": "2021-07-07T17:46:16.747Z"
   },
   {
    "duration": 19,
    "start_time": "2021-07-07T17:46:16.791Z"
   },
   {
    "duration": 9,
    "start_time": "2021-07-07T17:46:16.812Z"
   },
   {
    "duration": 60,
    "start_time": "2021-07-07T17:46:16.822Z"
   },
   {
    "duration": -8,
    "start_time": "2021-07-07T17:46:16.892Z"
   },
   {
    "duration": 12,
    "start_time": "2021-07-07T17:48:47.707Z"
   },
   {
    "duration": 553,
    "start_time": "2021-07-07T18:10:09.350Z"
   },
   {
    "duration": 230,
    "start_time": "2021-07-07T18:10:09.905Z"
   },
   {
    "duration": 97,
    "start_time": "2021-07-07T18:10:10.137Z"
   },
   {
    "duration": 5,
    "start_time": "2021-07-07T18:10:10.236Z"
   },
   {
    "duration": 29,
    "start_time": "2021-07-07T18:10:10.242Z"
   },
   {
    "duration": 7,
    "start_time": "2021-07-07T18:10:10.272Z"
   },
   {
    "duration": 15,
    "start_time": "2021-07-07T18:10:10.281Z"
   },
   {
    "duration": 4,
    "start_time": "2021-07-07T18:10:10.299Z"
   },
   {
    "duration": 14,
    "start_time": "2021-07-07T18:10:10.305Z"
   },
   {
    "duration": 8,
    "start_time": "2021-07-07T18:10:10.321Z"
   },
   {
    "duration": 8,
    "start_time": "2021-07-07T18:10:10.331Z"
   },
   {
    "duration": 56,
    "start_time": "2021-07-07T18:10:10.341Z"
   },
   {
    "duration": 19,
    "start_time": "2021-07-07T18:10:10.399Z"
   },
   {
    "duration": 23,
    "start_time": "2021-07-07T18:10:10.419Z"
   },
   {
    "duration": 6,
    "start_time": "2021-07-07T18:10:10.444Z"
   },
   {
    "duration": 9,
    "start_time": "2021-07-07T18:10:10.451Z"
   },
   {
    "duration": 30,
    "start_time": "2021-07-07T18:10:10.462Z"
   },
   {
    "duration": 9,
    "start_time": "2021-07-07T18:10:10.494Z"
   },
   {
    "duration": 14,
    "start_time": "2021-07-07T18:10:10.505Z"
   },
   {
    "duration": 7,
    "start_time": "2021-07-07T18:10:10.521Z"
   },
   {
    "duration": 26,
    "start_time": "2021-07-07T18:10:10.530Z"
   },
   {
    "duration": 44,
    "start_time": "2021-07-07T18:10:10.558Z"
   },
   {
    "duration": 7,
    "start_time": "2021-07-07T18:10:10.605Z"
   },
   {
    "duration": 11,
    "start_time": "2021-07-07T18:10:10.614Z"
   },
   {
    "duration": 19,
    "start_time": "2021-07-07T18:10:10.626Z"
   },
   {
    "duration": 44,
    "start_time": "2021-07-07T18:10:10.646Z"
   },
   {
    "duration": 516,
    "start_time": "2021-07-07T18:14:00.826Z"
   },
   {
    "duration": 230,
    "start_time": "2021-07-07T18:14:01.344Z"
   },
   {
    "duration": 105,
    "start_time": "2021-07-07T18:14:01.576Z"
   },
   {
    "duration": 5,
    "start_time": "2021-07-07T18:14:01.683Z"
   },
   {
    "duration": 46,
    "start_time": "2021-07-07T18:14:01.690Z"
   },
   {
    "duration": 7,
    "start_time": "2021-07-07T18:14:01.738Z"
   },
   {
    "duration": 20,
    "start_time": "2021-07-07T18:14:01.747Z"
   },
   {
    "duration": 16,
    "start_time": "2021-07-07T18:14:01.769Z"
   },
   {
    "duration": 14,
    "start_time": "2021-07-07T18:14:01.787Z"
   },
   {
    "duration": 15,
    "start_time": "2021-07-07T18:14:01.803Z"
   },
   {
    "duration": 12,
    "start_time": "2021-07-07T18:14:01.820Z"
   },
   {
    "duration": 35,
    "start_time": "2021-07-07T18:14:01.833Z"
   },
   {
    "duration": 31,
    "start_time": "2021-07-07T18:14:01.869Z"
   },
   {
    "duration": 37,
    "start_time": "2021-07-07T18:14:01.902Z"
   },
   {
    "duration": 8,
    "start_time": "2021-07-07T18:14:01.942Z"
   },
   {
    "duration": 16,
    "start_time": "2021-07-07T18:14:01.952Z"
   },
   {
    "duration": 13,
    "start_time": "2021-07-07T18:14:01.970Z"
   },
   {
    "duration": 32,
    "start_time": "2021-07-07T18:14:01.985Z"
   },
   {
    "duration": 11,
    "start_time": "2021-07-07T18:14:02.019Z"
   },
   {
    "duration": 22,
    "start_time": "2021-07-07T18:14:02.031Z"
   },
   {
    "duration": 27,
    "start_time": "2021-07-07T18:14:02.055Z"
   },
   {
    "duration": 18,
    "start_time": "2021-07-07T18:14:02.084Z"
   },
   {
    "duration": 18,
    "start_time": "2021-07-07T18:14:02.106Z"
   },
   {
    "duration": 11,
    "start_time": "2021-07-07T18:14:02.126Z"
   },
   {
    "duration": 21,
    "start_time": "2021-07-07T18:14:02.138Z"
   },
   {
    "duration": 32,
    "start_time": "2021-07-07T18:14:02.161Z"
   },
   {
    "duration": 28,
    "start_time": "2021-07-07T18:14:44.295Z"
   },
   {
    "duration": 6,
    "start_time": "2021-07-07T18:15:05.834Z"
   },
   {
    "duration": 511,
    "start_time": "2021-07-07T18:15:41.541Z"
   },
   {
    "duration": 183,
    "start_time": "2021-07-07T18:15:42.054Z"
   },
   {
    "duration": 50,
    "start_time": "2021-07-07T18:15:42.239Z"
   },
   {
    "duration": 5,
    "start_time": "2021-07-07T18:15:42.291Z"
   },
   {
    "duration": 48,
    "start_time": "2021-07-07T18:15:42.297Z"
   },
   {
    "duration": 8,
    "start_time": "2021-07-07T18:15:42.346Z"
   },
   {
    "duration": 17,
    "start_time": "2021-07-07T18:15:42.356Z"
   },
   {
    "duration": 15,
    "start_time": "2021-07-07T18:15:42.375Z"
   },
   {
    "duration": 12,
    "start_time": "2021-07-07T18:15:42.392Z"
   },
   {
    "duration": 7,
    "start_time": "2021-07-07T18:15:42.406Z"
   },
   {
    "duration": 7,
    "start_time": "2021-07-07T18:15:42.415Z"
   },
   {
    "duration": 29,
    "start_time": "2021-07-07T18:15:42.423Z"
   },
   {
    "duration": 43,
    "start_time": "2021-07-07T18:15:42.453Z"
   },
   {
    "duration": 18,
    "start_time": "2021-07-07T18:15:42.497Z"
   },
   {
    "duration": 6,
    "start_time": "2021-07-07T18:15:42.516Z"
   },
   {
    "duration": 3,
    "start_time": "2021-07-07T18:15:42.523Z"
   },
   {
    "duration": 18,
    "start_time": "2021-07-07T18:15:42.528Z"
   },
   {
    "duration": 10,
    "start_time": "2021-07-07T18:15:42.547Z"
   },
   {
    "duration": 36,
    "start_time": "2021-07-07T18:15:42.559Z"
   },
   {
    "duration": 8,
    "start_time": "2021-07-07T18:15:42.597Z"
   },
   {
    "duration": 28,
    "start_time": "2021-07-07T18:15:42.606Z"
   },
   {
    "duration": 52,
    "start_time": "2021-07-07T18:15:42.635Z"
   },
   {
    "duration": 7,
    "start_time": "2021-07-07T18:15:42.690Z"
   },
   {
    "duration": 10,
    "start_time": "2021-07-07T18:15:42.699Z"
   },
   {
    "duration": 19,
    "start_time": "2021-07-07T18:15:42.711Z"
   },
   {
    "duration": 9,
    "start_time": "2021-07-07T18:15:42.732Z"
   },
   {
    "duration": 5,
    "start_time": "2021-07-07T18:15:42.743Z"
   },
   {
    "duration": 1450,
    "start_time": "2021-07-07T18:15:51.984Z"
   },
   {
    "duration": 161,
    "start_time": "2021-07-07T18:15:53.435Z"
   },
   {
    "duration": 124,
    "start_time": "2021-07-07T18:15:53.598Z"
   },
   {
    "duration": 5,
    "start_time": "2021-07-07T18:15:53.724Z"
   },
   {
    "duration": 34,
    "start_time": "2021-07-07T18:15:53.730Z"
   },
   {
    "duration": 7,
    "start_time": "2021-07-07T18:15:53.765Z"
   },
   {
    "duration": 15,
    "start_time": "2021-07-07T18:15:53.773Z"
   },
   {
    "duration": 5,
    "start_time": "2021-07-07T18:15:53.791Z"
   },
   {
    "duration": 19,
    "start_time": "2021-07-07T18:15:53.798Z"
   },
   {
    "duration": 9,
    "start_time": "2021-07-07T18:15:53.818Z"
   },
   {
    "duration": 19,
    "start_time": "2021-07-07T18:15:53.828Z"
   },
   {
    "duration": 27,
    "start_time": "2021-07-07T18:15:53.848Z"
   },
   {
    "duration": 16,
    "start_time": "2021-07-07T18:15:53.884Z"
   },
   {
    "duration": 29,
    "start_time": "2021-07-07T18:15:53.901Z"
   },
   {
    "duration": 5,
    "start_time": "2021-07-07T18:15:53.932Z"
   },
   {
    "duration": 15,
    "start_time": "2021-07-07T18:15:53.939Z"
   },
   {
    "duration": 13,
    "start_time": "2021-07-07T18:15:53.956Z"
   },
   {
    "duration": 20,
    "start_time": "2021-07-07T18:15:53.971Z"
   },
   {
    "duration": 14,
    "start_time": "2021-07-07T18:15:53.992Z"
   },
   {
    "duration": 9,
    "start_time": "2021-07-07T18:15:54.009Z"
   },
   {
    "duration": 28,
    "start_time": "2021-07-07T18:15:54.020Z"
   },
   {
    "duration": 50,
    "start_time": "2021-07-07T18:15:54.051Z"
   },
   {
    "duration": 8,
    "start_time": "2021-07-07T18:15:54.105Z"
   },
   {
    "duration": 11,
    "start_time": "2021-07-07T18:15:54.115Z"
   },
   {
    "duration": 20,
    "start_time": "2021-07-07T18:15:54.128Z"
   },
   {
    "duration": 13,
    "start_time": "2021-07-07T18:15:54.184Z"
   },
   {
    "duration": 7,
    "start_time": "2021-07-07T18:15:54.199Z"
   },
   {
    "duration": 7,
    "start_time": "2021-07-07T18:17:08.042Z"
   },
   {
    "duration": 8,
    "start_time": "2021-07-07T18:17:21.008Z"
   },
   {
    "duration": 7,
    "start_time": "2021-07-07T18:17:29.003Z"
   },
   {
    "duration": 8,
    "start_time": "2021-07-07T18:17:32.492Z"
   },
   {
    "duration": 9,
    "start_time": "2021-07-07T18:17:41.758Z"
   },
   {
    "duration": 255,
    "start_time": "2021-07-07T18:20:20.897Z"
   },
   {
    "duration": 173,
    "start_time": "2021-07-07T18:20:26.636Z"
   },
   {
    "duration": 7,
    "start_time": "2021-07-07T18:21:47.164Z"
   },
   {
    "duration": 254,
    "start_time": "2021-07-07T18:23:08.703Z"
   },
   {
    "duration": 21,
    "start_time": "2021-07-07T18:23:22.506Z"
   },
   {
    "duration": 315,
    "start_time": "2021-07-07T18:25:54.801Z"
   },
   {
    "duration": 34,
    "start_time": "2021-07-07T18:26:51.817Z"
   },
   {
    "duration": 327,
    "start_time": "2021-07-07T18:26:56.147Z"
   },
   {
    "duration": 342,
    "start_time": "2021-07-07T18:27:15.887Z"
   },
   {
    "duration": 302,
    "start_time": "2021-07-07T18:28:18.569Z"
   },
   {
    "duration": 226,
    "start_time": "2021-07-07T18:29:20.879Z"
   },
   {
    "duration": 207,
    "start_time": "2021-07-07T18:29:58.114Z"
   },
   {
    "duration": 140,
    "start_time": "2021-07-07T18:32:04.372Z"
   },
   {
    "duration": 158,
    "start_time": "2021-07-07T18:32:32.508Z"
   },
   {
    "duration": 145,
    "start_time": "2021-07-07T18:32:41.365Z"
   },
   {
    "duration": 132,
    "start_time": "2021-07-07T18:32:45.199Z"
   },
   {
    "duration": 11,
    "start_time": "2021-07-07T18:35:24.679Z"
   },
   {
    "duration": 268,
    "start_time": "2021-07-07T18:36:16.145Z"
   },
   {
    "duration": 227,
    "start_time": "2021-07-07T18:37:04.918Z"
   },
   {
    "duration": 3,
    "start_time": "2021-07-07T18:37:33.012Z"
   },
   {
    "duration": 671,
    "start_time": "2021-07-07T18:37:38.295Z"
   },
   {
    "duration": 54,
    "start_time": "2021-07-07T18:37:53.406Z"
   },
   {
    "duration": 631,
    "start_time": "2021-07-07T18:37:56.463Z"
   },
   {
    "duration": 19,
    "start_time": "2021-07-07T18:39:40.535Z"
   },
   {
    "duration": 20,
    "start_time": "2021-07-07T18:40:12.236Z"
   },
   {
    "duration": 633,
    "start_time": "2021-07-07T18:42:00.398Z"
   },
   {
    "duration": 218,
    "start_time": "2021-07-07T18:42:01.033Z"
   },
   {
    "duration": 49,
    "start_time": "2021-07-07T18:42:01.253Z"
   },
   {
    "duration": 5,
    "start_time": "2021-07-07T18:42:01.303Z"
   },
   {
    "duration": 27,
    "start_time": "2021-07-07T18:42:01.310Z"
   },
   {
    "duration": 8,
    "start_time": "2021-07-07T18:42:01.339Z"
   },
   {
    "duration": 20,
    "start_time": "2021-07-07T18:42:01.348Z"
   },
   {
    "duration": 6,
    "start_time": "2021-07-07T18:42:01.386Z"
   },
   {
    "duration": 16,
    "start_time": "2021-07-07T18:42:01.394Z"
   },
   {
    "duration": 9,
    "start_time": "2021-07-07T18:42:01.411Z"
   },
   {
    "duration": 11,
    "start_time": "2021-07-07T18:42:01.421Z"
   },
   {
    "duration": 31,
    "start_time": "2021-07-07T18:42:01.434Z"
   },
   {
    "duration": 18,
    "start_time": "2021-07-07T18:42:01.485Z"
   },
   {
    "duration": 23,
    "start_time": "2021-07-07T18:42:01.505Z"
   },
   {
    "duration": 6,
    "start_time": "2021-07-07T18:42:01.530Z"
   },
   {
    "duration": 10,
    "start_time": "2021-07-07T18:42:01.538Z"
   },
   {
    "duration": 13,
    "start_time": "2021-07-07T18:42:01.550Z"
   },
   {
    "duration": 24,
    "start_time": "2021-07-07T18:42:01.564Z"
   },
   {
    "duration": 20,
    "start_time": "2021-07-07T18:42:01.590Z"
   },
   {
    "duration": 8,
    "start_time": "2021-07-07T18:42:01.611Z"
   },
   {
    "duration": 31,
    "start_time": "2021-07-07T18:42:01.620Z"
   },
   {
    "duration": 39,
    "start_time": "2021-07-07T18:42:01.653Z"
   },
   {
    "duration": 8,
    "start_time": "2021-07-07T18:42:01.696Z"
   },
   {
    "duration": 13,
    "start_time": "2021-07-07T18:42:01.705Z"
   },
   {
    "duration": 20,
    "start_time": "2021-07-07T18:42:01.720Z"
   },
   {
    "duration": 12,
    "start_time": "2021-07-07T18:42:01.741Z"
   },
   {
    "duration": 35,
    "start_time": "2021-07-07T18:42:01.755Z"
   },
   {
    "duration": 14,
    "start_time": "2021-07-07T18:42:01.792Z"
   },
   {
    "duration": 188,
    "start_time": "2021-07-07T18:42:01.808Z"
   },
   {
    "duration": 19,
    "start_time": "2021-07-07T18:42:01.998Z"
   },
   {
    "duration": 175,
    "start_time": "2021-07-07T18:42:02.019Z"
   },
   {
    "duration": 134,
    "start_time": "2021-07-07T18:42:02.196Z"
   },
   {
    "duration": 10,
    "start_time": "2021-07-07T18:42:02.331Z"
   },
   {
    "duration": 19,
    "start_time": "2021-07-07T18:42:02.343Z"
   },
   {
    "duration": 628,
    "start_time": "2021-07-07T18:46:30.701Z"
   },
   {
    "duration": 183,
    "start_time": "2021-07-07T18:46:31.331Z"
   },
   {
    "duration": 48,
    "start_time": "2021-07-07T18:46:31.516Z"
   },
   {
    "duration": 5,
    "start_time": "2021-07-07T18:46:31.566Z"
   },
   {
    "duration": 28,
    "start_time": "2021-07-07T18:46:31.572Z"
   },
   {
    "duration": 8,
    "start_time": "2021-07-07T18:46:31.602Z"
   },
   {
    "duration": 19,
    "start_time": "2021-07-07T18:46:31.611Z"
   },
   {
    "duration": 6,
    "start_time": "2021-07-07T18:46:31.633Z"
   },
   {
    "duration": 17,
    "start_time": "2021-07-07T18:46:31.642Z"
   },
   {
    "duration": 10,
    "start_time": "2021-07-07T18:46:31.684Z"
   },
   {
    "duration": 9,
    "start_time": "2021-07-07T18:46:31.695Z"
   },
   {
    "duration": 28,
    "start_time": "2021-07-07T18:46:31.705Z"
   },
   {
    "duration": 18,
    "start_time": "2021-07-07T18:46:31.735Z"
   },
   {
    "duration": 48,
    "start_time": "2021-07-07T18:46:31.755Z"
   },
   {
    "duration": 6,
    "start_time": "2021-07-07T18:46:31.804Z"
   },
   {
    "duration": 4,
    "start_time": "2021-07-07T18:46:31.812Z"
   },
   {
    "duration": 9,
    "start_time": "2021-07-07T18:46:31.817Z"
   },
   {
    "duration": 10,
    "start_time": "2021-07-07T18:46:31.827Z"
   },
   {
    "duration": 12,
    "start_time": "2021-07-07T18:46:31.838Z"
   },
   {
    "duration": 39,
    "start_time": "2021-07-07T18:46:31.851Z"
   },
   {
    "duration": 24,
    "start_time": "2021-07-07T18:46:31.892Z"
   },
   {
    "duration": 15,
    "start_time": "2021-07-07T18:46:31.918Z"
   },
   {
    "duration": 7,
    "start_time": "2021-07-07T18:46:31.936Z"
   },
   {
    "duration": 8,
    "start_time": "2021-07-07T18:46:31.944Z"
   },
   {
    "duration": 19,
    "start_time": "2021-07-07T18:46:31.984Z"
   },
   {
    "duration": 10,
    "start_time": "2021-07-07T18:46:32.004Z"
   },
   {
    "duration": 5,
    "start_time": "2021-07-07T18:46:32.016Z"
   },
   {
    "duration": 9,
    "start_time": "2021-07-07T18:46:32.023Z"
   },
   {
    "duration": 199,
    "start_time": "2021-07-07T18:46:32.033Z"
   },
   {
    "duration": 19,
    "start_time": "2021-07-07T18:46:32.234Z"
   },
   {
    "duration": 159,
    "start_time": "2021-07-07T18:46:32.255Z"
   },
   {
    "duration": 134,
    "start_time": "2021-07-07T18:46:32.416Z"
   },
   {
    "duration": 10,
    "start_time": "2021-07-07T18:46:32.552Z"
   },
   {
    "duration": 34,
    "start_time": "2021-07-07T18:46:32.563Z"
   },
   {
    "duration": 1039,
    "start_time": "2021-07-08T08:41:09.419Z"
   },
   {
    "duration": 333,
    "start_time": "2021-07-08T08:41:10.459Z"
   },
   {
    "duration": 173,
    "start_time": "2021-07-08T08:41:10.794Z"
   },
   {
    "duration": 5,
    "start_time": "2021-07-08T08:41:10.968Z"
   },
   {
    "duration": 25,
    "start_time": "2021-07-08T08:41:10.975Z"
   },
   {
    "duration": 9,
    "start_time": "2021-07-08T08:41:11.002Z"
   },
   {
    "duration": 18,
    "start_time": "2021-07-08T08:41:11.013Z"
   },
   {
    "duration": 6,
    "start_time": "2021-07-08T08:41:11.033Z"
   },
   {
    "duration": 44,
    "start_time": "2021-07-08T08:41:11.042Z"
   },
   {
    "duration": 10,
    "start_time": "2021-07-08T08:41:11.088Z"
   },
   {
    "duration": 9,
    "start_time": "2021-07-08T08:41:11.100Z"
   },
   {
    "duration": 27,
    "start_time": "2021-07-08T08:41:11.111Z"
   },
   {
    "duration": 46,
    "start_time": "2021-07-08T08:41:11.140Z"
   },
   {
    "duration": 17,
    "start_time": "2021-07-08T08:41:11.187Z"
   },
   {
    "duration": 6,
    "start_time": "2021-07-08T08:41:11.206Z"
   },
   {
    "duration": 5,
    "start_time": "2021-07-08T08:41:11.213Z"
   },
   {
    "duration": 10,
    "start_time": "2021-07-08T08:41:11.219Z"
   },
   {
    "duration": 9,
    "start_time": "2021-07-08T08:41:11.230Z"
   },
   {
    "duration": 45,
    "start_time": "2021-07-08T08:41:11.241Z"
   },
   {
    "duration": 7,
    "start_time": "2021-07-08T08:41:11.287Z"
   },
   {
    "duration": 24,
    "start_time": "2021-07-08T08:41:11.296Z"
   },
   {
    "duration": 16,
    "start_time": "2021-07-08T08:41:11.322Z"
   },
   {
    "duration": 7,
    "start_time": "2021-07-08T08:41:11.341Z"
   },
   {
    "duration": 41,
    "start_time": "2021-07-08T08:41:11.349Z"
   },
   {
    "duration": 17,
    "start_time": "2021-07-08T08:41:11.391Z"
   },
   {
    "duration": 9,
    "start_time": "2021-07-08T08:41:11.410Z"
   },
   {
    "duration": 5,
    "start_time": "2021-07-08T08:41:11.421Z"
   },
   {
    "duration": 6,
    "start_time": "2021-07-08T08:41:11.428Z"
   },
   {
    "duration": 198,
    "start_time": "2021-07-08T08:41:11.435Z"
   },
   {
    "duration": 18,
    "start_time": "2021-07-08T08:41:11.635Z"
   },
   {
    "duration": 155,
    "start_time": "2021-07-08T08:41:11.655Z"
   },
   {
    "duration": 138,
    "start_time": "2021-07-08T08:41:11.811Z"
   },
   {
    "duration": 10,
    "start_time": "2021-07-08T08:41:11.950Z"
   },
   {
    "duration": 29,
    "start_time": "2021-07-08T08:41:11.961Z"
   },
   {
    "duration": 171,
    "start_time": "2021-07-08T08:47:44.522Z"
   },
   {
    "duration": 124,
    "start_time": "2021-07-08T08:47:46.872Z"
   },
   {
    "duration": 191,
    "start_time": "2021-07-08T08:47:58.148Z"
   },
   {
    "duration": 191,
    "start_time": "2021-07-08T08:48:07.412Z"
   },
   {
    "duration": 261,
    "start_time": "2021-07-08T08:48:10.385Z"
   },
   {
    "duration": 255,
    "start_time": "2021-07-08T08:48:14.494Z"
   },
   {
    "duration": 219,
    "start_time": "2021-07-08T08:48:22.752Z"
   },
   {
    "duration": 173,
    "start_time": "2021-07-08T08:49:06.395Z"
   },
   {
    "duration": 180,
    "start_time": "2021-07-08T08:49:21.011Z"
   },
   {
    "duration": 6,
    "start_time": "2021-07-08T08:50:31.697Z"
   },
   {
    "duration": 10,
    "start_time": "2021-07-08T08:50:47.394Z"
   },
   {
    "duration": 11,
    "start_time": "2021-07-08T08:53:49.332Z"
   },
   {
    "duration": 171,
    "start_time": "2021-07-08T08:54:28.408Z"
   },
   {
    "duration": 636,
    "start_time": "2021-07-08T09:02:48.385Z"
   },
   {
    "duration": 227,
    "start_time": "2021-07-08T09:02:49.023Z"
   },
   {
    "duration": 104,
    "start_time": "2021-07-08T09:02:49.252Z"
   },
   {
    "duration": 5,
    "start_time": "2021-07-08T09:02:49.358Z"
   },
   {
    "duration": 27,
    "start_time": "2021-07-08T09:02:49.365Z"
   },
   {
    "duration": 8,
    "start_time": "2021-07-08T09:02:49.394Z"
   },
   {
    "duration": 18,
    "start_time": "2021-07-08T09:02:49.404Z"
   },
   {
    "duration": 6,
    "start_time": "2021-07-08T09:02:49.424Z"
   },
   {
    "duration": 11,
    "start_time": "2021-07-08T09:02:49.433Z"
   },
   {
    "duration": 13,
    "start_time": "2021-07-08T09:02:49.485Z"
   },
   {
    "duration": 9,
    "start_time": "2021-07-08T09:02:49.500Z"
   },
   {
    "duration": 38,
    "start_time": "2021-07-08T09:02:49.511Z"
   },
   {
    "duration": 42,
    "start_time": "2021-07-08T09:02:49.551Z"
   },
   {
    "duration": 21,
    "start_time": "2021-07-08T09:02:49.594Z"
   },
   {
    "duration": 6,
    "start_time": "2021-07-08T09:02:49.616Z"
   },
   {
    "duration": 3,
    "start_time": "2021-07-08T09:02:49.623Z"
   },
   {
    "duration": 9,
    "start_time": "2021-07-08T09:02:49.628Z"
   },
   {
    "duration": 52,
    "start_time": "2021-07-08T09:02:49.638Z"
   },
   {
    "duration": 11,
    "start_time": "2021-07-08T09:02:49.692Z"
   },
   {
    "duration": 8,
    "start_time": "2021-07-08T09:02:49.704Z"
   },
   {
    "duration": 27,
    "start_time": "2021-07-08T09:02:49.713Z"
   },
   {
    "duration": 59,
    "start_time": "2021-07-08T09:02:49.741Z"
   },
   {
    "duration": 8,
    "start_time": "2021-07-08T09:02:49.803Z"
   },
   {
    "duration": 14,
    "start_time": "2021-07-08T09:02:49.813Z"
   },
   {
    "duration": 20,
    "start_time": "2021-07-08T09:02:49.829Z"
   },
   {
    "duration": 44,
    "start_time": "2021-07-08T09:02:49.851Z"
   },
   {
    "duration": 14,
    "start_time": "2021-07-08T09:02:49.896Z"
   },
   {
    "duration": 221,
    "start_time": "2021-07-08T09:02:49.912Z"
   },
   {
    "duration": 6,
    "start_time": "2021-07-08T09:02:50.134Z"
   },
   {
    "duration": 206,
    "start_time": "2021-07-08T09:02:50.142Z"
   },
   {
    "duration": 19,
    "start_time": "2021-07-08T09:02:50.350Z"
   },
   {
    "duration": 21,
    "start_time": "2021-07-08T09:02:50.370Z"
   },
   {
    "duration": 20,
    "start_time": "2021-07-08T09:02:50.393Z"
   },
   {
    "duration": 5,
    "start_time": "2021-07-08T09:02:50.414Z"
   },
   {
    "duration": 5,
    "start_time": "2021-07-08T09:03:34.173Z"
   },
   {
    "duration": 6,
    "start_time": "2021-07-08T09:04:49.062Z"
   },
   {
    "duration": 9,
    "start_time": "2021-07-08T09:04:50.118Z"
   },
   {
    "duration": 14,
    "start_time": "2021-07-08T09:04:58.512Z"
   },
   {
    "duration": 9,
    "start_time": "2021-07-08T09:05:10.988Z"
   },
   {
    "duration": 11,
    "start_time": "2021-07-08T09:05:11.743Z"
   },
   {
    "duration": 7,
    "start_time": "2021-07-08T09:05:25.677Z"
   },
   {
    "duration": 13,
    "start_time": "2021-07-08T09:05:47.189Z"
   },
   {
    "duration": 13,
    "start_time": "2021-07-08T09:05:54.755Z"
   },
   {
    "duration": 4,
    "start_time": "2021-07-08T09:06:29.189Z"
   },
   {
    "duration": 244,
    "start_time": "2021-07-08T09:06:29.195Z"
   },
   {
    "duration": 91,
    "start_time": "2021-07-08T09:06:29.441Z"
   },
   {
    "duration": 4,
    "start_time": "2021-07-08T09:06:29.534Z"
   },
   {
    "duration": 28,
    "start_time": "2021-07-08T09:06:29.540Z"
   },
   {
    "duration": 6,
    "start_time": "2021-07-08T09:06:29.570Z"
   },
   {
    "duration": 18,
    "start_time": "2021-07-08T09:06:29.578Z"
   },
   {
    "duration": 5,
    "start_time": "2021-07-08T09:06:29.597Z"
   },
   {
    "duration": 13,
    "start_time": "2021-07-08T09:06:29.605Z"
   },
   {
    "duration": 8,
    "start_time": "2021-07-08T09:06:29.620Z"
   },
   {
    "duration": 7,
    "start_time": "2021-07-08T09:06:29.630Z"
   },
   {
    "duration": 63,
    "start_time": "2021-07-08T09:06:29.639Z"
   },
   {
    "duration": 17,
    "start_time": "2021-07-08T09:06:29.704Z"
   },
   {
    "duration": 20,
    "start_time": "2021-07-08T09:06:29.723Z"
   },
   {
    "duration": 6,
    "start_time": "2021-07-08T09:06:29.745Z"
   },
   {
    "duration": 3,
    "start_time": "2021-07-08T09:06:29.752Z"
   },
   {
    "duration": 7,
    "start_time": "2021-07-08T09:06:29.785Z"
   },
   {
    "duration": 11,
    "start_time": "2021-07-08T09:06:29.794Z"
   },
   {
    "duration": 15,
    "start_time": "2021-07-08T09:06:29.807Z"
   },
   {
    "duration": 8,
    "start_time": "2021-07-08T09:06:29.823Z"
   },
   {
    "duration": 70,
    "start_time": "2021-07-08T09:06:29.832Z"
   },
   {
    "duration": 17,
    "start_time": "2021-07-08T09:06:29.903Z"
   },
   {
    "duration": 9,
    "start_time": "2021-07-08T09:06:29.921Z"
   },
   {
    "duration": 9,
    "start_time": "2021-07-08T09:06:29.932Z"
   },
   {
    "duration": 57,
    "start_time": "2021-07-08T09:06:29.942Z"
   },
   {
    "duration": 11,
    "start_time": "2021-07-08T09:06:30.001Z"
   },
   {
    "duration": 19,
    "start_time": "2021-07-08T09:06:30.016Z"
   },
   {
    "duration": 217,
    "start_time": "2021-07-08T09:06:30.037Z"
   },
   {
    "duration": 6,
    "start_time": "2021-07-08T09:06:30.255Z"
   },
   {
    "duration": 205,
    "start_time": "2021-07-08T09:06:30.263Z"
   },
   {
    "duration": 27,
    "start_time": "2021-07-08T09:06:30.470Z"
   },
   {
    "duration": 11,
    "start_time": "2021-07-08T09:06:30.500Z"
   },
   {
    "duration": 31,
    "start_time": "2021-07-08T09:06:30.513Z"
   },
   {
    "duration": 18,
    "start_time": "2021-07-08T09:06:30.546Z"
   },
   {
    "duration": 11,
    "start_time": "2021-07-08T09:06:30.566Z"
   },
   {
    "duration": 19,
    "start_time": "2021-07-08T09:06:30.579Z"
   },
   {
    "duration": 20,
    "start_time": "2021-07-08T09:06:49.466Z"
   },
   {
    "duration": 9,
    "start_time": "2021-07-08T09:06:51.994Z"
   },
   {
    "duration": 20,
    "start_time": "2021-07-08T09:06:52.273Z"
   },
   {
    "duration": 246,
    "start_time": "2021-07-08T09:10:21.272Z"
   },
   {
    "duration": 84,
    "start_time": "2021-07-08T09:10:21.436Z"
   },
   {
    "duration": 7,
    "start_time": "2021-07-08T09:10:37.608Z"
   },
   {
    "duration": 189,
    "start_time": "2021-07-08T09:10:38.573Z"
   },
   {
    "duration": 185,
    "start_time": "2021-07-08T09:10:53.181Z"
   },
   {
    "duration": 11,
    "start_time": "2021-07-08T09:10:59.549Z"
   },
   {
    "duration": 42,
    "start_time": "2021-07-08T09:10:59.709Z"
   },
   {
    "duration": 12,
    "start_time": "2021-07-08T09:11:02.857Z"
   },
   {
    "duration": 28,
    "start_time": "2021-07-08T09:11:10.062Z"
   },
   {
    "duration": 249,
    "start_time": "2021-07-08T09:11:37.388Z"
   },
   {
    "duration": 232,
    "start_time": "2021-07-08T09:11:49.485Z"
   },
   {
    "duration": 453,
    "start_time": "2021-07-08T09:12:01.546Z"
   },
   {
    "duration": 440,
    "start_time": "2021-07-08T09:12:12.347Z"
   },
   {
    "duration": 213,
    "start_time": "2021-07-08T09:13:32.196Z"
   },
   {
    "duration": 172,
    "start_time": "2021-07-08T09:14:07.400Z"
   },
   {
    "duration": 185,
    "start_time": "2021-07-08T09:14:14.905Z"
   },
   {
    "duration": 209,
    "start_time": "2021-07-08T09:14:40.109Z"
   },
   {
    "duration": 201,
    "start_time": "2021-07-08T09:14:54.506Z"
   },
   {
    "duration": 622,
    "start_time": "2021-07-08T09:18:14.497Z"
   },
   {
    "duration": 220,
    "start_time": "2021-07-08T09:18:15.121Z"
   },
   {
    "duration": 79,
    "start_time": "2021-07-08T09:18:15.343Z"
   },
   {
    "duration": 4,
    "start_time": "2021-07-08T09:18:15.425Z"
   },
   {
    "duration": 24,
    "start_time": "2021-07-08T09:18:15.431Z"
   },
   {
    "duration": 8,
    "start_time": "2021-07-08T09:18:15.457Z"
   },
   {
    "duration": 16,
    "start_time": "2021-07-08T09:18:15.466Z"
   },
   {
    "duration": 5,
    "start_time": "2021-07-08T09:18:15.484Z"
   },
   {
    "duration": 10,
    "start_time": "2021-07-08T09:18:15.493Z"
   },
   {
    "duration": 8,
    "start_time": "2021-07-08T09:18:15.504Z"
   },
   {
    "duration": 7,
    "start_time": "2021-07-08T09:18:15.513Z"
   },
   {
    "duration": 26,
    "start_time": "2021-07-08T09:18:15.522Z"
   },
   {
    "duration": 49,
    "start_time": "2021-07-08T09:18:15.550Z"
   },
   {
    "duration": 21,
    "start_time": "2021-07-08T09:18:15.601Z"
   },
   {
    "duration": 8,
    "start_time": "2021-07-08T09:18:15.624Z"
   },
   {
    "duration": 3,
    "start_time": "2021-07-08T09:18:15.634Z"
   },
   {
    "duration": 8,
    "start_time": "2021-07-08T09:18:15.639Z"
   },
   {
    "duration": 45,
    "start_time": "2021-07-08T09:18:15.649Z"
   },
   {
    "duration": 13,
    "start_time": "2021-07-08T09:18:15.696Z"
   },
   {
    "duration": 10,
    "start_time": "2021-07-08T09:18:15.711Z"
   },
   {
    "duration": 64,
    "start_time": "2021-07-08T09:18:15.722Z"
   },
   {
    "duration": 19,
    "start_time": "2021-07-08T09:18:15.788Z"
   },
   {
    "duration": 9,
    "start_time": "2021-07-08T09:18:15.809Z"
   },
   {
    "duration": 9,
    "start_time": "2021-07-08T09:18:15.820Z"
   },
   {
    "duration": 18,
    "start_time": "2021-07-08T09:18:15.831Z"
   },
   {
    "duration": 43,
    "start_time": "2021-07-08T09:18:15.851Z"
   },
   {
    "duration": 12,
    "start_time": "2021-07-08T09:18:15.897Z"
   },
   {
    "duration": 219,
    "start_time": "2021-07-08T09:18:15.911Z"
   },
   {
    "duration": 8,
    "start_time": "2021-07-08T09:18:16.132Z"
   },
   {
    "duration": 199,
    "start_time": "2021-07-08T09:18:16.141Z"
   },
   {
    "duration": 18,
    "start_time": "2021-07-08T09:18:16.341Z"
   },
   {
    "duration": 24,
    "start_time": "2021-07-08T09:18:16.361Z"
   },
   {
    "duration": 24,
    "start_time": "2021-07-08T09:18:16.387Z"
   },
   {
    "duration": 211,
    "start_time": "2021-07-08T09:18:16.413Z"
   },
   {
    "duration": 18,
    "start_time": "2021-07-08T09:18:16.626Z"
   },
   {
    "duration": 596,
    "start_time": "2021-07-08T10:06:33.623Z"
   },
   {
    "duration": 181,
    "start_time": "2021-07-08T10:06:34.221Z"
   },
   {
    "duration": 176,
    "start_time": "2021-07-08T10:06:34.635Z"
   },
   {
    "duration": 239,
    "start_time": "2021-07-08T10:06:55.572Z"
   },
   {
    "duration": 6,
    "start_time": "2021-07-08T10:06:57.687Z"
   },
   {
    "duration": 4,
    "start_time": "2021-07-08T10:07:03.956Z"
   },
   {
    "duration": 4,
    "start_time": "2021-07-08T10:07:10.376Z"
   },
   {
    "duration": 4,
    "start_time": "2021-07-08T10:17:19.889Z"
   },
   {
    "duration": 3,
    "start_time": "2021-07-08T10:19:19.407Z"
   },
   {
    "duration": 197,
    "start_time": "2021-07-08T10:19:19.412Z"
   },
   {
    "duration": 127,
    "start_time": "2021-07-08T10:19:19.611Z"
   },
   {
    "duration": 4,
    "start_time": "2021-07-08T10:19:19.740Z"
   },
   {
    "duration": 27,
    "start_time": "2021-07-08T10:19:19.746Z"
   },
   {
    "duration": 7,
    "start_time": "2021-07-08T10:19:19.775Z"
   },
   {
    "duration": 30,
    "start_time": "2021-07-08T10:19:19.784Z"
   },
   {
    "duration": 7,
    "start_time": "2021-07-08T10:19:19.817Z"
   },
   {
    "duration": 26,
    "start_time": "2021-07-08T10:19:19.826Z"
   },
   {
    "duration": 18,
    "start_time": "2021-07-08T10:19:19.854Z"
   },
   {
    "duration": 14,
    "start_time": "2021-07-08T10:19:19.874Z"
   },
   {
    "duration": 48,
    "start_time": "2021-07-08T10:19:19.890Z"
   },
   {
    "duration": 17,
    "start_time": "2021-07-08T10:19:19.940Z"
   },
   {
    "duration": 38,
    "start_time": "2021-07-08T10:19:19.959Z"
   },
   {
    "duration": 8,
    "start_time": "2021-07-08T10:19:19.999Z"
   },
   {
    "duration": 15,
    "start_time": "2021-07-08T10:19:20.009Z"
   },
   {
    "duration": 22,
    "start_time": "2021-07-08T10:19:20.026Z"
   },
   {
    "duration": 10,
    "start_time": "2021-07-08T10:19:20.050Z"
   },
   {
    "duration": 10,
    "start_time": "2021-07-08T10:19:20.062Z"
   },
   {
    "duration": 20,
    "start_time": "2021-07-08T10:19:20.073Z"
   },
   {
    "duration": 29,
    "start_time": "2021-07-08T10:19:20.095Z"
   },
   {
    "duration": 17,
    "start_time": "2021-07-08T10:19:20.126Z"
   },
   {
    "duration": 40,
    "start_time": "2021-07-08T10:19:20.146Z"
   },
   {
    "duration": 15,
    "start_time": "2021-07-08T10:19:20.189Z"
   },
   {
    "duration": 19,
    "start_time": "2021-07-08T10:19:20.206Z"
   },
   {
    "duration": 10,
    "start_time": "2021-07-08T10:19:20.226Z"
   },
   {
    "duration": 11,
    "start_time": "2021-07-08T10:19:20.238Z"
   },
   {
    "duration": 297,
    "start_time": "2021-07-08T10:19:20.250Z"
   },
   {
    "duration": 6,
    "start_time": "2021-07-08T10:19:20.549Z"
   },
   {
    "duration": 191,
    "start_time": "2021-07-08T10:19:20.557Z"
   },
   {
    "duration": 19,
    "start_time": "2021-07-08T10:19:20.750Z"
   },
   {
    "duration": 20,
    "start_time": "2021-07-08T10:19:20.771Z"
   },
   {
    "duration": 15,
    "start_time": "2021-07-08T10:19:20.793Z"
   },
   {
    "duration": 222,
    "start_time": "2021-07-08T10:19:20.809Z"
   },
   {
    "duration": 20,
    "start_time": "2021-07-08T10:19:21.033Z"
   },
   {
    "duration": 27,
    "start_time": "2021-07-08T10:45:04.055Z"
   },
   {
    "duration": 8,
    "start_time": "2021-07-08T10:45:08.478Z"
   },
   {
    "duration": 8,
    "start_time": "2021-07-08T10:45:31.982Z"
   },
   {
    "duration": 10,
    "start_time": "2021-07-08T10:46:01.221Z"
   },
   {
    "duration": 17,
    "start_time": "2021-07-08T10:46:40.011Z"
   },
   {
    "duration": 193,
    "start_time": "2021-07-08T10:48:19.471Z"
   },
   {
    "duration": 225,
    "start_time": "2021-07-08T10:49:26.480Z"
   },
   {
    "duration": 204,
    "start_time": "2021-07-08T10:49:59.992Z"
   },
   {
    "duration": 435,
    "start_time": "2021-07-08T10:50:06.779Z"
   },
   {
    "duration": 199,
    "start_time": "2021-07-08T10:50:14.891Z"
   },
   {
    "duration": 204,
    "start_time": "2021-07-08T10:50:18.501Z"
   },
   {
    "duration": 244,
    "start_time": "2021-07-08T10:50:23.359Z"
   },
   {
    "duration": 192,
    "start_time": "2021-07-08T10:50:29.135Z"
   },
   {
    "duration": 218,
    "start_time": "2021-07-08T10:50:33.092Z"
   },
   {
    "duration": 207,
    "start_time": "2021-07-08T10:52:45.381Z"
   },
   {
    "duration": 5,
    "start_time": "2021-07-08T10:53:34.641Z"
   },
   {
    "duration": 196,
    "start_time": "2021-07-08T10:53:41.478Z"
   },
   {
    "duration": 43,
    "start_time": "2021-07-08T10:53:50.335Z"
   },
   {
    "duration": 32,
    "start_time": "2021-07-08T10:53:55.294Z"
   },
   {
    "duration": 55,
    "start_time": "2021-07-08T10:54:09.675Z"
   },
   {
    "duration": 16,
    "start_time": "2021-07-08T10:54:12.260Z"
   },
   {
    "duration": 15,
    "start_time": "2021-07-08T10:54:49.150Z"
   },
   {
    "duration": 20,
    "start_time": "2021-07-08T10:56:07.596Z"
   },
   {
    "duration": 16,
    "start_time": "2021-07-08T10:58:26.276Z"
   },
   {
    "duration": 22,
    "start_time": "2021-07-08T10:59:00.486Z"
   },
   {
    "duration": 18,
    "start_time": "2021-07-08T11:02:09.653Z"
   },
   {
    "duration": 10,
    "start_time": "2021-07-08T11:03:44.331Z"
   },
   {
    "duration": 10,
    "start_time": "2021-07-08T11:03:54.055Z"
   },
   {
    "duration": 12,
    "start_time": "2021-07-08T11:04:41.967Z"
   },
   {
    "duration": 24,
    "start_time": "2021-07-08T11:07:30.732Z"
   },
   {
    "duration": 6,
    "start_time": "2021-07-08T11:07:37.364Z"
   },
   {
    "duration": 16,
    "start_time": "2021-07-08T11:08:01.819Z"
   },
   {
    "duration": 17,
    "start_time": "2021-07-08T11:09:47.488Z"
   },
   {
    "duration": 246,
    "start_time": "2021-07-08T11:10:00.830Z"
   },
   {
    "duration": 18,
    "start_time": "2021-07-08T11:13:55.195Z"
   },
   {
    "duration": 204,
    "start_time": "2021-07-08T11:14:04.951Z"
   },
   {
    "duration": 19,
    "start_time": "2021-07-08T11:15:10.613Z"
   },
   {
    "duration": 680,
    "start_time": "2021-07-08T11:16:25.793Z"
   },
   {
    "duration": 451,
    "start_time": "2021-07-08T11:16:40.313Z"
   },
   {
    "duration": 469,
    "start_time": "2021-07-08T11:17:21.286Z"
   },
   {
    "duration": 20,
    "start_time": "2021-07-08T11:19:12.554Z"
   },
   {
    "duration": 35,
    "start_time": "2021-07-08T11:20:05.484Z"
   },
   {
    "duration": 53,
    "start_time": "2021-07-08T11:21:40.050Z"
   },
   {
    "duration": 13,
    "start_time": "2021-07-08T11:22:26.059Z"
   },
   {
    "duration": 19,
    "start_time": "2021-07-08T11:22:47.419Z"
   },
   {
    "duration": 25,
    "start_time": "2021-07-08T11:23:19.958Z"
   },
   {
    "duration": 29,
    "start_time": "2021-07-08T11:23:25.415Z"
   },
   {
    "duration": 10,
    "start_time": "2021-07-08T11:24:45.138Z"
   },
   {
    "duration": 19,
    "start_time": "2021-07-08T11:24:54.498Z"
   },
   {
    "duration": 12,
    "start_time": "2021-07-08T11:25:32.225Z"
   },
   {
    "duration": 19,
    "start_time": "2021-07-08T11:25:37.092Z"
   },
   {
    "duration": 17,
    "start_time": "2021-07-08T11:25:58.116Z"
   },
   {
    "duration": 15,
    "start_time": "2021-07-08T11:26:02.258Z"
   },
   {
    "duration": 8,
    "start_time": "2021-07-08T11:26:59.682Z"
   },
   {
    "duration": 184,
    "start_time": "2021-07-08T11:27:21.894Z"
   },
   {
    "duration": 8,
    "start_time": "2021-07-08T11:27:23.824Z"
   },
   {
    "duration": 202,
    "start_time": "2021-07-08T11:27:23.962Z"
   },
   {
    "duration": 360,
    "start_time": "2021-07-08T11:28:33.215Z"
   },
   {
    "duration": 231,
    "start_time": "2021-07-08T11:32:05.542Z"
   },
   {
    "duration": 607,
    "start_time": "2021-07-08T11:36:27.854Z"
   },
   {
    "duration": 241,
    "start_time": "2021-07-08T11:36:28.463Z"
   },
   {
    "duration": 67,
    "start_time": "2021-07-08T11:36:28.709Z"
   },
   {
    "duration": 5,
    "start_time": "2021-07-08T11:36:28.778Z"
   },
   {
    "duration": 32,
    "start_time": "2021-07-08T11:36:28.784Z"
   },
   {
    "duration": 11,
    "start_time": "2021-07-08T11:36:28.819Z"
   },
   {
    "duration": 20,
    "start_time": "2021-07-08T11:36:28.834Z"
   },
   {
    "duration": 36,
    "start_time": "2021-07-08T11:36:28.857Z"
   },
   {
    "duration": 16,
    "start_time": "2021-07-08T11:36:28.895Z"
   },
   {
    "duration": 14,
    "start_time": "2021-07-08T11:36:28.913Z"
   },
   {
    "duration": 9,
    "start_time": "2021-07-08T11:36:28.930Z"
   },
   {
    "duration": 55,
    "start_time": "2021-07-08T11:36:28.941Z"
   },
   {
    "duration": 27,
    "start_time": "2021-07-08T11:36:28.999Z"
   },
   {
    "duration": 30,
    "start_time": "2021-07-08T11:36:29.028Z"
   },
   {
    "duration": 31,
    "start_time": "2021-07-08T11:36:29.060Z"
   },
   {
    "duration": 3,
    "start_time": "2021-07-08T11:36:29.093Z"
   },
   {
    "duration": 12,
    "start_time": "2021-07-08T11:36:29.099Z"
   },
   {
    "duration": 11,
    "start_time": "2021-07-08T11:36:29.112Z"
   },
   {
    "duration": 12,
    "start_time": "2021-07-08T11:36:29.125Z"
   },
   {
    "duration": 9,
    "start_time": "2021-07-08T11:36:29.139Z"
   },
   {
    "duration": 31,
    "start_time": "2021-07-08T11:36:29.191Z"
   },
   {
    "duration": 17,
    "start_time": "2021-07-08T11:36:29.226Z"
   },
   {
    "duration": 7,
    "start_time": "2021-07-08T11:36:29.245Z"
   },
   {
    "duration": 10,
    "start_time": "2021-07-08T11:36:29.254Z"
   },
   {
    "duration": 30,
    "start_time": "2021-07-08T11:36:29.292Z"
   },
   {
    "duration": 11,
    "start_time": "2021-07-08T11:36:29.324Z"
   },
   {
    "duration": 11,
    "start_time": "2021-07-08T11:36:29.337Z"
   },
   {
    "duration": 230,
    "start_time": "2021-07-08T11:36:29.349Z"
   },
   {
    "duration": 13,
    "start_time": "2021-07-08T11:36:29.588Z"
   },
   {
    "duration": 205,
    "start_time": "2021-07-08T11:36:29.603Z"
   },
   {
    "duration": 20,
    "start_time": "2021-07-08T11:36:29.810Z"
   },
   {
    "duration": 9,
    "start_time": "2021-07-08T11:36:29.832Z"
   },
   {
    "duration": 16,
    "start_time": "2021-07-08T11:36:29.843Z"
   },
   {
    "duration": 283,
    "start_time": "2021-07-08T11:36:29.861Z"
   },
   {
    "duration": 50,
    "start_time": "2021-07-08T11:36:30.146Z"
   },
   {
    "duration": 14,
    "start_time": "2021-07-08T11:36:30.198Z"
   },
   {
    "duration": 11,
    "start_time": "2021-07-08T11:36:30.214Z"
   },
   {
    "duration": 245,
    "start_time": "2021-07-08T11:36:30.227Z"
   },
   {
    "duration": 439,
    "start_time": "2021-07-08T11:36:30.474Z"
   },
   {
    "duration": 210,
    "start_time": "2021-07-08T11:36:30.915Z"
   },
   {
    "duration": 15,
    "start_time": "2021-07-08T11:36:31.127Z"
   },
   {
    "duration": 17,
    "start_time": "2021-07-08T11:38:20.451Z"
   },
   {
    "duration": 642,
    "start_time": "2021-07-08T11:46:17.881Z"
   },
   {
    "duration": 210,
    "start_time": "2021-07-08T11:46:18.525Z"
   },
   {
    "duration": 104,
    "start_time": "2021-07-08T11:46:18.741Z"
   },
   {
    "duration": 8,
    "start_time": "2021-07-08T11:46:18.847Z"
   },
   {
    "duration": 25,
    "start_time": "2021-07-08T11:46:18.857Z"
   },
   {
    "duration": 14,
    "start_time": "2021-07-08T11:46:18.884Z"
   },
   {
    "duration": 22,
    "start_time": "2021-07-08T11:46:18.900Z"
   },
   {
    "duration": 5,
    "start_time": "2021-07-08T11:46:18.924Z"
   },
   {
    "duration": 13,
    "start_time": "2021-07-08T11:46:18.931Z"
   },
   {
    "duration": 45,
    "start_time": "2021-07-08T11:46:18.946Z"
   },
   {
    "duration": 12,
    "start_time": "2021-07-08T11:46:18.993Z"
   },
   {
    "duration": 38,
    "start_time": "2021-07-08T11:46:19.006Z"
   },
   {
    "duration": 50,
    "start_time": "2021-07-08T11:46:19.046Z"
   },
   {
    "duration": 29,
    "start_time": "2021-07-08T11:46:19.099Z"
   },
   {
    "duration": 7,
    "start_time": "2021-07-08T11:46:19.130Z"
   },
   {
    "duration": 3,
    "start_time": "2021-07-08T11:46:19.139Z"
   },
   {
    "duration": 11,
    "start_time": "2021-07-08T11:46:19.144Z"
   },
   {
    "duration": 40,
    "start_time": "2021-07-08T11:46:19.157Z"
   },
   {
    "duration": 15,
    "start_time": "2021-07-08T11:46:19.199Z"
   },
   {
    "duration": 10,
    "start_time": "2021-07-08T11:46:19.217Z"
   },
   {
    "duration": 68,
    "start_time": "2021-07-08T11:46:19.230Z"
   },
   {
    "duration": 17,
    "start_time": "2021-07-08T11:46:19.301Z"
   },
   {
    "duration": 7,
    "start_time": "2021-07-08T11:46:19.321Z"
   },
   {
    "duration": 11,
    "start_time": "2021-07-08T11:46:19.330Z"
   },
   {
    "duration": 59,
    "start_time": "2021-07-08T11:46:19.343Z"
   },
   {
    "duration": 17,
    "start_time": "2021-07-08T11:46:19.405Z"
   },
   {
    "duration": 16,
    "start_time": "2021-07-08T11:46:19.424Z"
   },
   {
    "duration": 252,
    "start_time": "2021-07-08T11:46:19.443Z"
   },
   {
    "duration": 9,
    "start_time": "2021-07-08T11:46:19.697Z"
   },
   {
    "duration": 224,
    "start_time": "2021-07-08T11:46:19.708Z"
   },
   {
    "duration": 21,
    "start_time": "2021-07-08T11:46:19.934Z"
   },
   {
    "duration": 9,
    "start_time": "2021-07-08T11:46:19.956Z"
   },
   {
    "duration": 32,
    "start_time": "2021-07-08T11:46:19.967Z"
   },
   {
    "duration": 288,
    "start_time": "2021-07-08T11:46:20.004Z"
   },
   {
    "duration": 23,
    "start_time": "2021-07-08T11:46:20.300Z"
   },
   {
    "duration": 11,
    "start_time": "2021-07-08T11:46:20.325Z"
   },
   {
    "duration": 11,
    "start_time": "2021-07-08T11:46:20.339Z"
   },
   {
    "duration": 259,
    "start_time": "2021-07-08T11:46:20.352Z"
   },
   {
    "duration": 438,
    "start_time": "2021-07-08T11:46:20.613Z"
   },
   {
    "duration": 207,
    "start_time": "2021-07-08T11:46:21.054Z"
   },
   {
    "duration": 27,
    "start_time": "2021-07-08T11:46:21.262Z"
   },
   {
    "duration": 19,
    "start_time": "2021-07-08T11:46:21.291Z"
   },
   {
    "duration": 820,
    "start_time": "2021-07-08T11:49:01.655Z"
   },
   {
    "duration": 372,
    "start_time": "2021-07-08T11:49:02.478Z"
   },
   {
    "duration": 98,
    "start_time": "2021-07-08T11:49:02.853Z"
   },
   {
    "duration": 6,
    "start_time": "2021-07-08T11:49:02.953Z"
   },
   {
    "duration": 39,
    "start_time": "2021-07-08T11:49:02.960Z"
   },
   {
    "duration": 9,
    "start_time": "2021-07-08T11:49:03.003Z"
   },
   {
    "duration": 23,
    "start_time": "2021-07-08T11:49:03.014Z"
   },
   {
    "duration": 6,
    "start_time": "2021-07-08T11:49:03.041Z"
   },
   {
    "duration": 20,
    "start_time": "2021-07-08T11:49:03.049Z"
   },
   {
    "duration": 18,
    "start_time": "2021-07-08T11:49:03.084Z"
   },
   {
    "duration": 14,
    "start_time": "2021-07-08T11:49:03.104Z"
   },
   {
    "duration": 39,
    "start_time": "2021-07-08T11:49:03.119Z"
   },
   {
    "duration": 38,
    "start_time": "2021-07-08T11:49:03.160Z"
   },
   {
    "duration": 26,
    "start_time": "2021-07-08T11:49:03.200Z"
   },
   {
    "duration": 7,
    "start_time": "2021-07-08T11:49:03.227Z"
   },
   {
    "duration": 4,
    "start_time": "2021-07-08T11:49:03.236Z"
   },
   {
    "duration": 15,
    "start_time": "2021-07-08T11:49:03.243Z"
   },
   {
    "duration": 21,
    "start_time": "2021-07-08T11:49:03.285Z"
   },
   {
    "duration": 17,
    "start_time": "2021-07-08T11:49:03.309Z"
   },
   {
    "duration": 10,
    "start_time": "2021-07-08T11:49:03.328Z"
   },
   {
    "duration": 65,
    "start_time": "2021-07-08T11:49:03.340Z"
   },
   {
    "duration": 18,
    "start_time": "2021-07-08T11:49:03.407Z"
   },
   {
    "duration": 8,
    "start_time": "2021-07-08T11:49:03.428Z"
   },
   {
    "duration": 15,
    "start_time": "2021-07-08T11:49:03.438Z"
   },
   {
    "duration": 40,
    "start_time": "2021-07-08T11:49:03.455Z"
   },
   {
    "duration": 12,
    "start_time": "2021-07-08T11:49:03.497Z"
   },
   {
    "duration": 29,
    "start_time": "2021-07-08T11:49:03.511Z"
   },
   {
    "duration": 285,
    "start_time": "2021-07-08T11:49:03.542Z"
   },
   {
    "duration": 8,
    "start_time": "2021-07-08T11:49:03.829Z"
   },
   {
    "duration": 227,
    "start_time": "2021-07-08T11:49:03.838Z"
   },
   {
    "duration": 40,
    "start_time": "2021-07-08T11:49:04.066Z"
   },
   {
    "duration": 10,
    "start_time": "2021-07-08T11:49:04.108Z"
   },
   {
    "duration": 26,
    "start_time": "2021-07-08T11:49:04.121Z"
   },
   {
    "duration": 290,
    "start_time": "2021-07-08T11:49:04.149Z"
   },
   {
    "duration": 26,
    "start_time": "2021-07-08T11:49:04.441Z"
   },
   {
    "duration": 31,
    "start_time": "2021-07-08T11:49:04.470Z"
   },
   {
    "duration": 14,
    "start_time": "2021-07-08T11:49:04.503Z"
   },
   {
    "duration": 259,
    "start_time": "2021-07-08T11:49:04.521Z"
   },
   {
    "duration": 480,
    "start_time": "2021-07-08T11:49:04.782Z"
   },
   {
    "duration": 225,
    "start_time": "2021-07-08T11:49:05.264Z"
   },
   {
    "duration": 22,
    "start_time": "2021-07-08T11:49:05.491Z"
   },
   {
    "duration": 24,
    "start_time": "2021-07-08T11:49:05.515Z"
   },
   {
    "duration": 634,
    "start_time": "2021-07-08T11:52:24.960Z"
   },
   {
    "duration": 199,
    "start_time": "2021-07-08T11:52:25.599Z"
   },
   {
    "duration": 106,
    "start_time": "2021-07-08T11:52:25.803Z"
   },
   {
    "duration": 7,
    "start_time": "2021-07-08T11:52:25.911Z"
   },
   {
    "duration": 29,
    "start_time": "2021-07-08T11:52:25.920Z"
   },
   {
    "duration": 7,
    "start_time": "2021-07-08T11:52:25.951Z"
   },
   {
    "duration": 26,
    "start_time": "2021-07-08T11:52:25.961Z"
   },
   {
    "duration": 11,
    "start_time": "2021-07-08T11:52:25.990Z"
   },
   {
    "duration": 29,
    "start_time": "2021-07-08T11:52:26.005Z"
   },
   {
    "duration": 9,
    "start_time": "2021-07-08T11:52:26.036Z"
   },
   {
    "duration": 8,
    "start_time": "2021-07-08T11:52:26.047Z"
   },
   {
    "duration": 63,
    "start_time": "2021-07-08T11:52:26.057Z"
   },
   {
    "duration": 17,
    "start_time": "2021-07-08T11:52:26.122Z"
   },
   {
    "duration": 43,
    "start_time": "2021-07-08T11:52:26.142Z"
   },
   {
    "duration": 17,
    "start_time": "2021-07-08T11:52:26.187Z"
   },
   {
    "duration": 5,
    "start_time": "2021-07-08T11:52:26.206Z"
   },
   {
    "duration": 12,
    "start_time": "2021-07-08T11:52:26.212Z"
   },
   {
    "duration": 11,
    "start_time": "2021-07-08T11:52:26.226Z"
   },
   {
    "duration": 12,
    "start_time": "2021-07-08T11:52:26.238Z"
   },
   {
    "duration": 38,
    "start_time": "2021-07-08T11:52:26.252Z"
   },
   {
    "duration": 40,
    "start_time": "2021-07-08T11:52:26.292Z"
   },
   {
    "duration": 17,
    "start_time": "2021-07-08T11:52:26.336Z"
   },
   {
    "duration": 39,
    "start_time": "2021-07-08T11:52:26.355Z"
   },
   {
    "duration": 11,
    "start_time": "2021-07-08T11:52:26.395Z"
   },
   {
    "duration": 23,
    "start_time": "2021-07-08T11:52:26.408Z"
   },
   {
    "duration": 12,
    "start_time": "2021-07-08T11:52:26.432Z"
   },
   {
    "duration": 41,
    "start_time": "2021-07-08T11:52:26.446Z"
   },
   {
    "duration": 215,
    "start_time": "2021-07-08T11:52:26.493Z"
   },
   {
    "duration": 8,
    "start_time": "2021-07-08T11:52:26.710Z"
   },
   {
    "duration": 228,
    "start_time": "2021-07-08T11:52:26.720Z"
   },
   {
    "duration": 18,
    "start_time": "2021-07-08T11:52:26.950Z"
   },
   {
    "duration": 35,
    "start_time": "2021-07-08T11:52:26.969Z"
   },
   {
    "duration": 23,
    "start_time": "2021-07-08T11:52:27.006Z"
   },
   {
    "duration": 258,
    "start_time": "2021-07-08T11:52:27.030Z"
   },
   {
    "duration": 24,
    "start_time": "2021-07-08T11:52:27.290Z"
   },
   {
    "duration": 12,
    "start_time": "2021-07-08T11:52:27.316Z"
   },
   {
    "duration": 10,
    "start_time": "2021-07-08T11:52:27.329Z"
   },
   {
    "duration": 298,
    "start_time": "2021-07-08T11:52:27.341Z"
   },
   {
    "duration": 436,
    "start_time": "2021-07-08T11:52:27.641Z"
   },
   {
    "duration": 216,
    "start_time": "2021-07-08T11:52:28.079Z"
   },
   {
    "duration": 20,
    "start_time": "2021-07-08T11:52:28.297Z"
   },
   {
    "duration": 17,
    "start_time": "2021-07-08T11:52:28.319Z"
   },
   {
    "duration": 1511,
    "start_time": "2021-10-10T13:22:30.500Z"
   },
   {
    "duration": 27,
    "start_time": "2021-10-10T13:23:18.361Z"
   },
   {
    "duration": 23,
    "start_time": "2021-10-10T13:23:33.324Z"
   },
   {
    "duration": 20,
    "start_time": "2021-10-10T13:24:07.454Z"
   },
   {
    "duration": 14,
    "start_time": "2021-10-10T13:24:27.867Z"
   },
   {
    "duration": 22,
    "start_time": "2021-10-10T13:24:49.050Z"
   },
   {
    "duration": 21,
    "start_time": "2021-10-10T13:26:06.897Z"
   },
   {
    "duration": 27,
    "start_time": "2021-10-10T13:27:26.389Z"
   },
   {
    "duration": 14,
    "start_time": "2021-10-10T13:55:30.367Z"
   },
   {
    "duration": 390,
    "start_time": "2021-10-10T13:56:17.635Z"
   },
   {
    "duration": 309,
    "start_time": "2021-10-10T13:56:29.788Z"
   },
   {
    "duration": 312,
    "start_time": "2021-10-10T13:56:47.640Z"
   },
   {
    "duration": 289,
    "start_time": "2021-10-10T13:56:55.724Z"
   },
   {
    "duration": 1325,
    "start_time": "2021-10-10T13:57:32.188Z"
   },
   {
    "duration": 343,
    "start_time": "2021-10-10T14:25:44.680Z"
   },
   {
    "duration": 10,
    "start_time": "2021-10-10T14:26:05.991Z"
   },
   {
    "duration": 8,
    "start_time": "2021-10-10T14:27:49.688Z"
   },
   {
    "duration": 8,
    "start_time": "2021-10-10T14:37:21.412Z"
   },
   {
    "duration": 14,
    "start_time": "2021-10-10T14:38:56.543Z"
   },
   {
    "duration": 313,
    "start_time": "2021-10-10T14:39:07.719Z"
   },
   {
    "duration": 13,
    "start_time": "2021-10-10T14:39:13.519Z"
   },
   {
    "duration": 14,
    "start_time": "2021-10-10T14:39:18.174Z"
   },
   {
    "duration": 92,
    "start_time": "2021-10-10T14:39:23.509Z"
   },
   {
    "duration": 14,
    "start_time": "2021-10-10T14:39:27.733Z"
   },
   {
    "duration": 15,
    "start_time": "2021-10-10T14:39:33.094Z"
   },
   {
    "duration": 282,
    "start_time": "2021-10-10T14:39:36.822Z"
   },
   {
    "duration": 260,
    "start_time": "2021-10-10T14:39:44.271Z"
   },
   {
    "duration": 367,
    "start_time": "2021-10-10T14:39:52.531Z"
   },
   {
    "duration": 275,
    "start_time": "2021-10-10T14:39:58.826Z"
   },
   {
    "duration": 310,
    "start_time": "2021-10-10T14:40:18.994Z"
   },
   {
    "duration": 15,
    "start_time": "2021-10-10T14:40:26.773Z"
   },
   {
    "duration": 15,
    "start_time": "2021-10-10T14:40:36.923Z"
   },
   {
    "duration": 294,
    "start_time": "2021-10-10T14:41:07.956Z"
   },
   {
    "duration": 24,
    "start_time": "2021-10-10T14:41:15.770Z"
   },
   {
    "duration": 16,
    "start_time": "2021-10-10T14:41:21.647Z"
   },
   {
    "duration": 15,
    "start_time": "2021-10-10T14:41:30.075Z"
   },
   {
    "duration": 15,
    "start_time": "2021-10-10T14:41:34.994Z"
   },
   {
    "duration": 23,
    "start_time": "2021-10-10T14:41:40.061Z"
   },
   {
    "duration": 15,
    "start_time": "2021-10-10T14:42:07.922Z"
   },
   {
    "duration": 327,
    "start_time": "2021-10-10T14:42:12.721Z"
   },
   {
    "duration": 302,
    "start_time": "2021-10-10T14:42:16.561Z"
   },
   {
    "duration": 13,
    "start_time": "2021-10-10T14:42:43.232Z"
   },
   {
    "duration": 14,
    "start_time": "2021-10-10T14:42:51.382Z"
   },
   {
    "duration": 13,
    "start_time": "2021-10-10T14:43:00.198Z"
   },
   {
    "duration": 130,
    "start_time": "2021-10-10T14:43:18.828Z"
   },
   {
    "duration": 342,
    "start_time": "2021-10-10T14:43:28.293Z"
   },
   {
    "duration": 263,
    "start_time": "2021-10-10T14:43:55.602Z"
   },
   {
    "duration": 5,
    "start_time": "2021-10-10T16:41:04.922Z"
   },
   {
    "duration": 3,
    "start_time": "2021-10-10T16:41:34.478Z"
   },
   {
    "duration": 5,
    "start_time": "2021-10-10T16:41:47.191Z"
   },
   {
    "duration": 3,
    "start_time": "2021-10-10T16:41:55.543Z"
   },
   {
    "duration": 3,
    "start_time": "2021-10-10T16:42:03.159Z"
   },
   {
    "duration": 3,
    "start_time": "2021-10-10T16:42:05.720Z"
   },
   {
    "duration": 269,
    "start_time": "2021-10-10T16:42:21.995Z"
   },
   {
    "duration": 274,
    "start_time": "2021-10-10T16:42:34.196Z"
   },
   {
    "duration": 293,
    "start_time": "2021-10-10T16:42:37.521Z"
   },
   {
    "duration": 274,
    "start_time": "2021-10-10T16:42:57.970Z"
   },
   {
    "duration": 280,
    "start_time": "2021-10-10T16:43:02.340Z"
   },
   {
    "duration": 5,
    "start_time": "2021-10-10T16:43:33.635Z"
   },
   {
    "duration": 1335,
    "start_time": "2021-10-10T16:44:00.790Z"
   },
   {
    "duration": 1412,
    "start_time": "2021-10-10T16:48:18.552Z"
   },
   {
    "duration": 1064,
    "start_time": "2021-10-10T16:48:58.667Z"
   },
   {
    "duration": 16,
    "start_time": "2021-10-10T16:50:59.941Z"
   },
   {
    "duration": 117,
    "start_time": "2021-10-10T16:51:30.020Z"
   },
   {
    "duration": 23,
    "start_time": "2021-10-10T16:51:30.140Z"
   },
   {
    "duration": 29,
    "start_time": "2021-10-10T16:51:30.166Z"
   },
   {
    "duration": 302,
    "start_time": "2021-10-10T16:51:30.201Z"
   },
   {
    "duration": 13,
    "start_time": "2021-10-10T16:51:44.542Z"
   },
   {
    "duration": 17,
    "start_time": "2021-10-10T17:17:45.202Z"
   },
   {
    "duration": 16,
    "start_time": "2021-10-10T17:17:50.994Z"
   },
   {
    "duration": 286,
    "start_time": "2021-10-10T17:18:02.148Z"
   },
   {
    "duration": 300,
    "start_time": "2021-10-10T17:18:08.570Z"
   },
   {
    "duration": 23,
    "start_time": "2021-10-10T17:18:12.544Z"
   },
   {
    "duration": 4,
    "start_time": "2021-10-10T17:24:50.582Z"
   },
   {
    "duration": 38,
    "start_time": "2021-10-10T17:25:56.909Z"
   },
   {
    "duration": 16,
    "start_time": "2021-10-10T17:26:13.361Z"
   },
   {
    "duration": 239,
    "start_time": "2021-10-10T17:26:23.151Z"
   },
   {
    "duration": 266,
    "start_time": "2021-10-10T17:26:33.799Z"
   },
   {
    "duration": 277,
    "start_time": "2021-10-10T17:26:42.525Z"
   },
   {
    "duration": 37,
    "start_time": "2021-10-10T17:41:01.826Z"
   },
   {
    "duration": 12,
    "start_time": "2021-10-10T17:41:18.327Z"
   },
   {
    "duration": 13,
    "start_time": "2021-10-10T17:41:45.027Z"
   },
   {
    "duration": 21,
    "start_time": "2021-10-10T17:57:11.091Z"
   },
   {
    "duration": 17,
    "start_time": "2021-10-10T17:57:22.651Z"
   },
   {
    "duration": 267,
    "start_time": "2021-10-10T18:15:40.078Z"
   },
   {
    "duration": 264,
    "start_time": "2021-10-10T18:16:22.953Z"
   },
   {
    "duration": 2383,
    "start_time": "2021-10-10T18:16:45.745Z"
   },
   {
    "duration": 30,
    "start_time": "2021-10-10T18:17:09.293Z"
   },
   {
    "duration": 11,
    "start_time": "2021-10-10T18:17:39.126Z"
   },
   {
    "duration": 9,
    "start_time": "2021-10-10T18:27:51.777Z"
   },
   {
    "duration": 10,
    "start_time": "2021-10-10T18:27:58.852Z"
   },
   {
    "duration": 10,
    "start_time": "2021-10-10T18:28:16.107Z"
   },
   {
    "duration": 11,
    "start_time": "2021-10-10T18:28:29.772Z"
   },
   {
    "duration": 7,
    "start_time": "2021-10-10T18:33:26.409Z"
   },
   {
    "duration": 15,
    "start_time": "2021-10-10T18:33:42.104Z"
   },
   {
    "duration": 7,
    "start_time": "2021-10-10T18:33:50.992Z"
   },
   {
    "duration": 14,
    "start_time": "2021-10-10T18:33:54.169Z"
   },
   {
    "duration": 1005,
    "start_time": "2021-10-10T18:40:37.230Z"
   },
   {
    "duration": 264,
    "start_time": "2021-10-10T18:41:51.525Z"
   },
   {
    "duration": 269,
    "start_time": "2021-10-10T18:41:59.692Z"
   },
   {
    "duration": 115,
    "start_time": "2021-10-10T18:42:18.634Z"
   },
   {
    "duration": 1315,
    "start_time": "2021-10-10T18:42:24.278Z"
   },
   {
    "duration": 290,
    "start_time": "2021-10-10T18:42:46.059Z"
   },
   {
    "duration": 8,
    "start_time": "2021-10-10T18:44:35.159Z"
   },
   {
    "duration": 14,
    "start_time": "2021-10-10T18:44:36.506Z"
   },
   {
    "duration": 270,
    "start_time": "2021-10-10T18:47:40.932Z"
   },
   {
    "duration": 301,
    "start_time": "2021-10-10T18:48:15.908Z"
   },
   {
    "duration": 7207,
    "start_time": "2021-10-10T18:49:45.409Z"
   },
   {
    "duration": 8560,
    "start_time": "2021-10-10T18:50:05.016Z"
   },
   {
    "duration": 1851,
    "start_time": "2021-10-10T18:55:26.872Z"
   },
   {
    "duration": 283,
    "start_time": "2021-10-10T18:55:50.650Z"
   },
   {
    "duration": 1530,
    "start_time": "2021-10-10T18:56:04.575Z"
   },
   {
    "duration": 87,
    "start_time": "2021-10-10T18:56:18.114Z"
   },
   {
    "duration": 1557,
    "start_time": "2021-10-10T18:56:24.398Z"
   },
   {
    "duration": 1672,
    "start_time": "2021-10-10T18:56:30.148Z"
   },
   {
    "duration": 282,
    "start_time": "2021-10-10T18:56:50.409Z"
   },
   {
    "duration": 285,
    "start_time": "2021-10-10T18:57:03.704Z"
   },
   {
    "duration": 1563,
    "start_time": "2021-10-10T18:57:10.488Z"
   },
   {
    "duration": 83,
    "start_time": "2021-10-10T18:58:16.797Z"
   },
   {
    "duration": 1388,
    "start_time": "2021-10-10T18:58:22.113Z"
   },
   {
    "duration": 1413,
    "start_time": "2021-10-10T18:58:38.388Z"
   },
   {
    "duration": 61,
    "start_time": "2021-10-10T18:59:13.872Z"
   },
   {
    "duration": 7,
    "start_time": "2021-10-10T19:00:05.075Z"
   },
   {
    "duration": 15,
    "start_time": "2021-10-10T19:00:10.264Z"
   },
   {
    "duration": 278,
    "start_time": "2021-10-10T19:00:30.135Z"
   },
   {
    "duration": 285,
    "start_time": "2021-10-10T19:00:34.185Z"
   },
   {
    "duration": 9,
    "start_time": "2021-10-10T19:00:40.650Z"
   },
   {
    "duration": 40,
    "start_time": "2021-10-10T19:01:21.131Z"
   },
   {
    "duration": 19,
    "start_time": "2021-10-10T19:03:34.090Z"
   },
   {
    "duration": 53,
    "start_time": "2021-10-10T19:03:37.987Z"
   },
   {
    "duration": 543,
    "start_time": "2021-10-10T19:14:24.242Z"
   },
   {
    "duration": 561,
    "start_time": "2021-10-10T19:15:25.178Z"
   },
   {
    "duration": 532,
    "start_time": "2021-10-10T19:15:58.428Z"
   },
   {
    "duration": 154,
    "start_time": "2021-10-10T19:21:54.272Z"
   },
   {
    "duration": 667,
    "start_time": "2021-10-10T19:22:03.728Z"
   },
   {
    "duration": 477,
    "start_time": "2021-10-10T19:22:55.952Z"
   },
   {
    "duration": 26,
    "start_time": "2021-10-10T19:23:30.265Z"
   },
   {
    "duration": 27,
    "start_time": "2021-10-10T19:24:27.259Z"
   },
   {
    "duration": 26,
    "start_time": "2021-10-10T19:26:09.232Z"
   },
   {
    "duration": 9,
    "start_time": "2021-10-10T19:26:36.514Z"
   },
   {
    "duration": 27,
    "start_time": "2021-10-10T19:27:19.762Z"
   },
   {
    "duration": 24,
    "start_time": "2021-10-10T19:32:27.593Z"
   },
   {
    "duration": 9,
    "start_time": "2021-10-10T19:32:34.377Z"
   },
   {
    "duration": 20,
    "start_time": "2021-10-10T19:41:53.217Z"
   },
   {
    "duration": 14,
    "start_time": "2021-10-10T19:41:57.616Z"
   },
   {
    "duration": 27,
    "start_time": "2021-10-10T19:42:45.433Z"
   },
   {
    "duration": 13,
    "start_time": "2021-10-10T19:43:01.399Z"
   },
   {
    "duration": 16,
    "start_time": "2021-10-10T19:43:55.505Z"
   },
   {
    "duration": 18,
    "start_time": "2021-10-10T19:43:58.471Z"
   },
   {
    "duration": 14,
    "start_time": "2021-10-10T19:45:04.447Z"
   },
   {
    "duration": 18,
    "start_time": "2021-10-10T19:45:10.132Z"
   },
   {
    "duration": 15,
    "start_time": "2021-10-10T19:45:19.744Z"
   },
   {
    "duration": 17,
    "start_time": "2021-10-10T19:45:36.735Z"
   },
   {
    "duration": 19,
    "start_time": "2021-10-10T19:45:43.316Z"
   },
   {
    "duration": 9,
    "start_time": "2021-10-10T19:46:18.983Z"
   },
   {
    "duration": 12,
    "start_time": "2021-10-10T19:46:38.214Z"
   },
   {
    "duration": 203,
    "start_time": "2021-10-10T19:48:56.797Z"
   },
   {
    "duration": 192,
    "start_time": "2021-10-10T19:49:26.933Z"
   },
   {
    "duration": 7,
    "start_time": "2021-10-10T19:49:37.072Z"
   },
   {
    "duration": 8,
    "start_time": "2021-10-10T19:49:46.968Z"
   },
   {
    "duration": 40,
    "start_time": "2021-10-10T19:50:08.977Z"
   },
   {
    "duration": 111,
    "start_time": "2021-10-10T19:51:14.606Z"
   },
   {
    "duration": 21,
    "start_time": "2021-10-10T19:51:14.720Z"
   },
   {
    "duration": 32,
    "start_time": "2021-10-10T19:51:14.744Z"
   },
   {
    "duration": 32,
    "start_time": "2021-10-10T19:51:14.779Z"
   },
   {
    "duration": 45,
    "start_time": "2021-10-10T19:51:14.813Z"
   },
   {
    "duration": 22,
    "start_time": "2021-10-10T19:51:14.860Z"
   },
   {
    "duration": 18,
    "start_time": "2021-10-10T19:51:14.884Z"
   },
   {
    "duration": 15,
    "start_time": "2021-10-10T19:51:14.905Z"
   },
   {
    "duration": 21,
    "start_time": "2021-10-10T19:51:14.923Z"
   },
   {
    "duration": 234,
    "start_time": "2021-10-10T19:51:14.947Z"
   },
   {
    "duration": 42,
    "start_time": "2021-10-10T19:51:15.184Z"
   },
   {
    "duration": 111,
    "start_time": "2021-10-10T19:52:28.786Z"
   },
   {
    "duration": 22,
    "start_time": "2021-10-10T19:52:28.900Z"
   },
   {
    "duration": 29,
    "start_time": "2021-10-10T19:52:28.925Z"
   },
   {
    "duration": 51,
    "start_time": "2021-10-10T19:52:28.957Z"
   },
   {
    "duration": 22,
    "start_time": "2021-10-10T19:52:29.011Z"
   },
   {
    "duration": 13,
    "start_time": "2021-10-10T19:52:29.036Z"
   },
   {
    "duration": 48,
    "start_time": "2021-10-10T19:52:29.052Z"
   },
   {
    "duration": 16,
    "start_time": "2021-10-10T19:52:29.103Z"
   },
   {
    "duration": 21,
    "start_time": "2021-10-10T19:52:29.122Z"
   },
   {
    "duration": 223,
    "start_time": "2021-10-10T19:52:29.145Z"
   },
   {
    "duration": 47,
    "start_time": "2021-10-10T19:52:29.370Z"
   },
   {
    "duration": 38,
    "start_time": "2021-10-10T19:52:53.818Z"
   },
   {
    "duration": 27,
    "start_time": "2021-10-10T19:57:39.309Z"
   },
   {
    "duration": 40,
    "start_time": "2021-10-10T19:57:43.305Z"
   },
   {
    "duration": 9,
    "start_time": "2021-10-10T19:58:22.660Z"
   },
   {
    "duration": 10,
    "start_time": "2021-10-10T19:58:30.458Z"
   },
   {
    "duration": 185,
    "start_time": "2021-10-10T20:00:38.099Z"
   },
   {
    "duration": 3948,
    "start_time": "2021-10-10T20:01:09.124Z"
   },
   {
    "duration": 493,
    "start_time": "2021-10-10T20:02:14.192Z"
   },
   {
    "duration": 89,
    "start_time": "2021-10-10T20:06:39.696Z"
   },
   {
    "duration": 1293,
    "start_time": "2021-10-10T20:06:55.064Z"
   },
   {
    "duration": 12,
    "start_time": "2021-10-10T20:07:54.639Z"
   },
   {
    "duration": 12,
    "start_time": "2021-10-10T20:08:06.242Z"
   },
   {
    "duration": 107,
    "start_time": "2021-10-10T20:08:23.700Z"
   },
   {
    "duration": 11,
    "start_time": "2021-10-10T20:08:29.718Z"
   },
   {
    "duration": 9,
    "start_time": "2021-10-10T20:08:34.597Z"
   },
   {
    "duration": 13,
    "start_time": "2021-10-10T20:09:04.625Z"
   },
   {
    "duration": 20,
    "start_time": "2021-10-10T20:09:06.611Z"
   },
   {
    "duration": 13,
    "start_time": "2021-10-10T20:10:14.399Z"
   },
   {
    "duration": 10,
    "start_time": "2021-10-10T20:10:17.240Z"
   },
   {
    "duration": 86,
    "start_time": "2021-10-10T20:11:55.598Z"
   },
   {
    "duration": 14,
    "start_time": "2021-10-10T20:12:01.861Z"
   },
   {
    "duration": 13,
    "start_time": "2021-10-10T20:12:54.035Z"
   },
   {
    "duration": 6443,
    "start_time": "2021-10-10T20:14:56.883Z"
   },
   {
    "duration": 309,
    "start_time": "2021-10-10T20:15:18.133Z"
   },
   {
    "duration": 30,
    "start_time": "2021-10-10T20:15:39.736Z"
   },
   {
    "duration": 10,
    "start_time": "2021-10-10T20:15:49.812Z"
   },
   {
    "duration": 9,
    "start_time": "2021-10-10T20:15:57.300Z"
   },
   {
    "duration": 10,
    "start_time": "2021-10-10T20:16:05.926Z"
   },
   {
    "duration": 11,
    "start_time": "2021-10-10T20:16:13.317Z"
   },
   {
    "duration": 659,
    "start_time": "2021-10-11T09:30:14.826Z"
   },
   {
    "duration": 19,
    "start_time": "2021-10-11T09:30:15.487Z"
   },
   {
    "duration": 17,
    "start_time": "2021-10-11T09:30:15.508Z"
   },
   {
    "duration": 10,
    "start_time": "2021-10-11T09:30:15.526Z"
   },
   {
    "duration": 14,
    "start_time": "2021-10-11T09:30:15.538Z"
   },
   {
    "duration": 7,
    "start_time": "2021-10-11T09:30:15.554Z"
   },
   {
    "duration": 48,
    "start_time": "2021-10-11T09:30:15.562Z"
   },
   {
    "duration": 11,
    "start_time": "2021-10-11T09:30:15.612Z"
   },
   {
    "duration": 14,
    "start_time": "2021-10-11T09:30:15.624Z"
   },
   {
    "duration": 11,
    "start_time": "2021-10-11T09:30:15.639Z"
   },
   {
    "duration": 56,
    "start_time": "2021-10-11T09:30:15.652Z"
   },
   {
    "duration": 14,
    "start_time": "2021-10-11T09:41:32.062Z"
   },
   {
    "duration": 16,
    "start_time": "2021-10-11T09:41:42.391Z"
   },
   {
    "duration": 15,
    "start_time": "2021-10-11T09:42:00.291Z"
   },
   {
    "duration": 8,
    "start_time": "2021-10-11T09:42:20.531Z"
   },
   {
    "duration": 10,
    "start_time": "2021-10-11T09:42:33.796Z"
   },
   {
    "duration": 190,
    "start_time": "2021-10-11T09:45:32.827Z"
   },
   {
    "duration": 140,
    "start_time": "2021-10-11T09:45:44.167Z"
   },
   {
    "duration": 18,
    "start_time": "2021-10-11T09:45:50.767Z"
   },
   {
    "duration": 15,
    "start_time": "2021-10-11T09:45:59.662Z"
   },
   {
    "duration": 17,
    "start_time": "2021-10-11T09:46:12.327Z"
   },
   {
    "duration": 18,
    "start_time": "2021-10-11T09:46:37.339Z"
   },
   {
    "duration": 323,
    "start_time": "2021-10-11T09:47:11.811Z"
   },
   {
    "duration": 9,
    "start_time": "2021-10-11T09:47:22.492Z"
   },
   {
    "duration": 11,
    "start_time": "2021-10-11T09:48:04.238Z"
   },
   {
    "duration": 14,
    "start_time": "2021-10-11T09:48:08.297Z"
   },
   {
    "duration": 7,
    "start_time": "2021-10-11T09:49:32.065Z"
   },
   {
    "duration": 23,
    "start_time": "2021-10-11T10:00:44.439Z"
   },
   {
    "duration": 15,
    "start_time": "2021-10-11T10:01:24.089Z"
   },
   {
    "duration": 15,
    "start_time": "2021-10-11T10:05:42.226Z"
   },
   {
    "duration": 148,
    "start_time": "2021-10-11T10:06:20.957Z"
   },
   {
    "duration": 15,
    "start_time": "2021-10-11T10:06:31.539Z"
   },
   {
    "duration": 3516,
    "start_time": "2021-10-11T10:16:56.376Z"
   },
   {
    "duration": 8,
    "start_time": "2021-10-11T10:17:08.028Z"
   },
   {
    "duration": 4,
    "start_time": "2021-10-11T10:18:57.955Z"
   },
   {
    "duration": 73,
    "start_time": "2021-10-11T10:19:04.931Z"
   },
   {
    "duration": 782,
    "start_time": "2021-10-11T10:19:20.027Z"
   },
   {
    "duration": 7,
    "start_time": "2021-10-11T10:20:11.633Z"
   },
   {
    "duration": 203,
    "start_time": "2021-10-11T10:21:39.520Z"
   },
   {
    "duration": 10,
    "start_time": "2021-10-11T10:21:57.063Z"
   },
   {
    "duration": 150,
    "start_time": "2021-10-11T10:22:38.083Z"
   },
   {
    "duration": 134,
    "start_time": "2021-10-11T10:22:46.081Z"
   },
   {
    "duration": 238,
    "start_time": "2021-10-11T10:22:54.255Z"
   },
   {
    "duration": 8,
    "start_time": "2021-10-11T10:23:20.102Z"
   },
   {
    "duration": 3,
    "start_time": "2021-10-11T10:30:15.673Z"
   },
   {
    "duration": 1853,
    "start_time": "2021-10-11T10:30:46.841Z"
   },
   {
    "duration": 3,
    "start_time": "2021-10-11T10:31:26.274Z"
   },
   {
    "duration": 536,
    "start_time": "2021-10-11T10:31:30.229Z"
   },
   {
    "duration": 4,
    "start_time": "2021-10-11T10:31:42.059Z"
   },
   {
    "duration": 103,
    "start_time": "2021-10-11T10:31:45.325Z"
   },
   {
    "duration": 6,
    "start_time": "2021-10-11T10:32:18.143Z"
   },
   {
    "duration": 99,
    "start_time": "2021-10-11T10:32:32.379Z"
   },
   {
    "duration": 98,
    "start_time": "2021-10-11T10:32:41.939Z"
   },
   {
    "duration": 144,
    "start_time": "2021-10-11T10:32:48.269Z"
   },
   {
    "duration": 5,
    "start_time": "2021-10-11T10:33:22.852Z"
   },
   {
    "duration": 7,
    "start_time": "2021-10-11T10:33:29.962Z"
   },
   {
    "duration": 3,
    "start_time": "2021-10-11T10:40:13.317Z"
   },
   {
    "duration": 98,
    "start_time": "2021-10-11T10:40:17.189Z"
   },
   {
    "duration": 104,
    "start_time": "2021-10-11T10:40:30.041Z"
   },
   {
    "duration": 100,
    "start_time": "2021-10-11T10:40:40.523Z"
   },
   {
    "duration": 100,
    "start_time": "2021-10-11T10:41:02.206Z"
   },
   {
    "duration": 6,
    "start_time": "2021-10-11T10:41:04.971Z"
   },
   {
    "duration": 6,
    "start_time": "2021-10-11T10:41:13.436Z"
   },
   {
    "duration": 97,
    "start_time": "2021-10-11T10:41:19.790Z"
   },
   {
    "duration": 6,
    "start_time": "2021-10-11T10:41:22.144Z"
   },
   {
    "duration": 97,
    "start_time": "2021-10-11T10:41:25.082Z"
   },
   {
    "duration": 15,
    "start_time": "2021-10-11T10:41:25.181Z"
   },
   {
    "duration": 18,
    "start_time": "2021-10-11T10:41:25.199Z"
   },
   {
    "duration": 11,
    "start_time": "2021-10-11T10:41:25.219Z"
   },
   {
    "duration": 14,
    "start_time": "2021-10-11T10:41:25.232Z"
   },
   {
    "duration": 9,
    "start_time": "2021-10-11T10:41:25.247Z"
   },
   {
    "duration": 50,
    "start_time": "2021-10-11T10:41:25.258Z"
   },
   {
    "duration": 11,
    "start_time": "2021-10-11T10:41:25.310Z"
   },
   {
    "duration": 14,
    "start_time": "2021-10-11T10:41:25.324Z"
   },
   {
    "duration": 12,
    "start_time": "2021-10-11T10:41:25.340Z"
   },
   {
    "duration": 46,
    "start_time": "2021-10-11T10:41:25.353Z"
   },
   {
    "duration": 3,
    "start_time": "2021-10-11T10:41:25.401Z"
   },
   {
    "duration": 110,
    "start_time": "2021-10-11T10:41:25.406Z"
   },
   {
    "duration": 5,
    "start_time": "2021-10-11T10:41:25.518Z"
   },
   {
    "duration": 15,
    "start_time": "2021-10-11T10:41:25.525Z"
   },
   {
    "duration": 9,
    "start_time": "2021-10-11T10:41:25.542Z"
   },
   {
    "duration": 17,
    "start_time": "2021-10-11T10:41:25.553Z"
   },
   {
    "duration": 39,
    "start_time": "2021-10-11T10:41:25.572Z"
   },
   {
    "duration": 15,
    "start_time": "2021-10-11T10:41:25.612Z"
   },
   {
    "duration": 17,
    "start_time": "2021-10-11T10:41:25.628Z"
   },
   {
    "duration": 7,
    "start_time": "2021-10-11T10:41:35.285Z"
   },
   {
    "duration": 7,
    "start_time": "2021-10-11T10:41:41.677Z"
   },
   {
    "duration": 3,
    "start_time": "2021-10-11T10:43:16.946Z"
   },
   {
    "duration": 104,
    "start_time": "2021-10-11T10:43:19.387Z"
   },
   {
    "duration": 10,
    "start_time": "2021-10-11T10:43:22.480Z"
   },
   {
    "duration": 6,
    "start_time": "2021-10-11T10:43:50.876Z"
   },
   {
    "duration": 25,
    "start_time": "2021-10-11T10:45:17.024Z"
   },
   {
    "duration": 661,
    "start_time": "2021-10-11T22:02:56.069Z"
   },
   {
    "duration": 30,
    "start_time": "2021-10-11T22:02:56.733Z"
   },
   {
    "duration": 20,
    "start_time": "2021-10-11T22:02:56.765Z"
   },
   {
    "duration": 12,
    "start_time": "2021-10-11T22:02:56.787Z"
   },
   {
    "duration": 21,
    "start_time": "2021-10-11T22:02:56.801Z"
   },
   {
    "duration": 31,
    "start_time": "2021-10-11T22:02:56.824Z"
   },
   {
    "duration": 18,
    "start_time": "2021-10-11T22:02:56.857Z"
   },
   {
    "duration": 11,
    "start_time": "2021-10-11T22:02:56.878Z"
   },
   {
    "duration": 16,
    "start_time": "2021-10-11T22:02:56.891Z"
   },
   {
    "duration": 46,
    "start_time": "2021-10-11T22:02:56.908Z"
   },
   {
    "duration": 26,
    "start_time": "2021-10-11T22:02:56.957Z"
   },
   {
    "duration": 3,
    "start_time": "2021-10-11T22:02:56.985Z"
   },
   {
    "duration": 130,
    "start_time": "2021-10-11T22:02:56.990Z"
   },
   {
    "duration": 25,
    "start_time": "2021-10-11T22:02:57.122Z"
   },
   {
    "duration": 25,
    "start_time": "2021-10-11T22:02:57.149Z"
   },
   {
    "duration": 14,
    "start_time": "2021-10-11T22:02:57.176Z"
   },
   {
    "duration": 16,
    "start_time": "2021-10-11T22:02:57.192Z"
   },
   {
    "duration": 61,
    "start_time": "2021-10-11T22:02:57.210Z"
   },
   {
    "duration": 9,
    "start_time": "2021-10-11T22:12:16.550Z"
   },
   {
    "duration": 11,
    "start_time": "2021-10-11T22:12:49.631Z"
   },
   {
    "duration": 5,
    "start_time": "2021-10-11T22:15:41.600Z"
   },
   {
    "duration": 8,
    "start_time": "2021-10-11T22:16:11.783Z"
   },
   {
    "duration": 7,
    "start_time": "2021-10-11T22:16:26.373Z"
   },
   {
    "duration": 7,
    "start_time": "2021-10-11T22:17:42.368Z"
   },
   {
    "duration": 5,
    "start_time": "2021-10-11T22:21:30.066Z"
   },
   {
    "duration": 5,
    "start_time": "2021-10-11T22:21:40.589Z"
   },
   {
    "duration": 6937,
    "start_time": "2021-10-11T22:23:39.011Z"
   },
   {
    "duration": 9,
    "start_time": "2021-10-11T22:23:54.358Z"
   },
   {
    "duration": 98,
    "start_time": "2021-10-11T22:33:02.273Z"
   },
   {
    "duration": 219,
    "start_time": "2021-10-11T22:34:04.423Z"
   },
   {
    "duration": 925,
    "start_time": "2021-10-11T22:34:39.726Z"
   },
   {
    "duration": 2350,
    "start_time": "2021-10-11T22:34:49.098Z"
   },
   {
    "duration": 1265,
    "start_time": "2021-10-11T22:35:33.179Z"
   },
   {
    "duration": 6,
    "start_time": "2021-10-11T22:35:53.505Z"
   },
   {
    "duration": 15,
    "start_time": "2021-10-11T22:36:17.144Z"
   },
   {
    "duration": 646,
    "start_time": "2021-10-11T22:36:56.348Z"
   },
   {
    "duration": 1149,
    "start_time": "2021-10-11T22:37:35.104Z"
   },
   {
    "duration": 353,
    "start_time": "2021-10-11T22:37:45.738Z"
   },
   {
    "duration": 658,
    "start_time": "2021-10-11T22:37:53.632Z"
   },
   {
    "duration": 9,
    "start_time": "2021-10-11T22:39:21.144Z"
   },
   {
    "duration": 6,
    "start_time": "2021-10-11T22:39:34.206Z"
   },
   {
    "duration": 6,
    "start_time": "2021-10-11T22:39:38.610Z"
   },
   {
    "duration": 677,
    "start_time": "2021-10-11T22:41:06.816Z"
   },
   {
    "duration": 668,
    "start_time": "2021-10-12T15:31:29.109Z"
   },
   {
    "duration": 20,
    "start_time": "2021-10-12T15:31:29.778Z"
   },
   {
    "duration": 47,
    "start_time": "2021-10-12T15:31:29.800Z"
   },
   {
    "duration": 32,
    "start_time": "2021-10-12T15:31:29.849Z"
   },
   {
    "duration": 36,
    "start_time": "2021-10-12T15:31:29.882Z"
   },
   {
    "duration": 8,
    "start_time": "2021-10-12T15:31:29.920Z"
   },
   {
    "duration": 26,
    "start_time": "2021-10-12T15:31:29.929Z"
   },
   {
    "duration": 17,
    "start_time": "2021-10-12T15:31:29.956Z"
   },
   {
    "duration": 20,
    "start_time": "2021-10-12T15:31:29.976Z"
   },
   {
    "duration": 18,
    "start_time": "2021-10-12T15:31:29.998Z"
   },
   {
    "duration": 44,
    "start_time": "2021-10-12T15:31:30.018Z"
   },
   {
    "duration": 14,
    "start_time": "2021-10-12T15:31:30.064Z"
   },
   {
    "duration": 110,
    "start_time": "2021-10-12T15:31:30.080Z"
   },
   {
    "duration": 15,
    "start_time": "2021-10-12T15:31:30.192Z"
   },
   {
    "duration": 36,
    "start_time": "2021-10-12T15:31:30.208Z"
   },
   {
    "duration": 20,
    "start_time": "2021-10-12T15:31:30.245Z"
   },
   {
    "duration": 30,
    "start_time": "2021-10-12T15:31:30.267Z"
   },
   {
    "duration": 46,
    "start_time": "2021-10-12T15:31:30.299Z"
   },
   {
    "duration": 6,
    "start_time": "2021-10-12T15:31:30.347Z"
   },
   {
    "duration": 33,
    "start_time": "2021-10-12T15:31:30.354Z"
   },
   {
    "duration": 28,
    "start_time": "2021-10-12T15:31:30.389Z"
   },
   {
    "duration": 1604,
    "start_time": "2021-10-12T15:31:30.419Z"
   },
   {
    "duration": 6,
    "start_time": "2021-10-12T15:31:32.024Z"
   },
   {
    "duration": 8,
    "start_time": "2021-10-12T15:37:17.719Z"
   },
   {
    "duration": 10,
    "start_time": "2021-10-12T15:37:35.745Z"
   },
   {
    "duration": 9,
    "start_time": "2021-10-12T15:38:10.687Z"
   },
   {
    "duration": 614,
    "start_time": "2021-10-12T15:42:22.714Z"
   },
   {
    "duration": 3,
    "start_time": "2021-10-12T15:59:29.185Z"
   },
   {
    "duration": 923,
    "start_time": "2021-10-12T15:59:37.142Z"
   },
   {
    "duration": 1056,
    "start_time": "2021-10-12T15:59:52.536Z"
   },
   {
    "duration": 2,
    "start_time": "2021-10-12T16:00:56.969Z"
   },
   {
    "duration": 1325,
    "start_time": "2021-10-12T16:01:00.860Z"
   },
   {
    "duration": 3412,
    "start_time": "2021-10-12T16:01:38.747Z"
   },
   {
    "duration": 876,
    "start_time": "2021-10-12T16:01:54.628Z"
   },
   {
    "duration": 3,
    "start_time": "2021-10-12T16:02:17.169Z"
   },
   {
    "duration": 882,
    "start_time": "2021-10-12T16:02:21.088Z"
   },
   {
    "duration": 3,
    "start_time": "2021-10-12T16:51:17.386Z"
   },
   {
    "duration": 3,
    "start_time": "2021-10-12T16:51:24.194Z"
   },
   {
    "duration": 4,
    "start_time": "2021-10-12T16:51:32.449Z"
   },
   {
    "duration": 3,
    "start_time": "2021-10-12T16:51:42.486Z"
   },
   {
    "duration": 4,
    "start_time": "2021-10-12T16:57:17.053Z"
   },
   {
    "duration": 515,
    "start_time": "2021-10-12T16:57:19.156Z"
   },
   {
    "duration": 3,
    "start_time": "2021-10-12T16:59:56.196Z"
   },
   {
    "duration": 483,
    "start_time": "2021-10-12T16:59:58.630Z"
   },
   {
    "duration": 8,
    "start_time": "2021-10-12T17:04:52.559Z"
   },
   {
    "duration": 6,
    "start_time": "2021-10-12T17:14:21.347Z"
   },
   {
    "duration": 3,
    "start_time": "2021-10-12T17:15:21.268Z"
   },
   {
    "duration": 103,
    "start_time": "2021-10-12T17:15:41.847Z"
   },
   {
    "duration": 4,
    "start_time": "2021-10-12T17:17:10.912Z"
   },
   {
    "duration": 104,
    "start_time": "2021-10-12T17:17:12.778Z"
   },
   {
    "duration": 102,
    "start_time": "2021-10-12T17:17:46.505Z"
   },
   {
    "duration": 6,
    "start_time": "2021-10-12T17:18:56.951Z"
   },
   {
    "duration": 6,
    "start_time": "2021-10-12T17:19:04.886Z"
   },
   {
    "duration": 19,
    "start_time": "2021-10-12T17:34:11.235Z"
   },
   {
    "duration": 7,
    "start_time": "2021-10-12T17:37:12.236Z"
   },
   {
    "duration": 3,
    "start_time": "2021-10-12T17:45:30.624Z"
   },
   {
    "duration": 232,
    "start_time": "2021-10-12T17:45:51.938Z"
   },
   {
    "duration": 227,
    "start_time": "2021-10-12T17:46:02.286Z"
   },
   {
    "duration": 7,
    "start_time": "2021-10-12T17:46:27.242Z"
   },
   {
    "duration": 6,
    "start_time": "2021-10-12T17:51:28.806Z"
   },
   {
    "duration": 6,
    "start_time": "2021-10-12T17:51:37.042Z"
   },
   {
    "duration": 6,
    "start_time": "2021-10-12T17:53:31.620Z"
   },
   {
    "duration": 216,
    "start_time": "2021-10-12T17:59:08.262Z"
   },
   {
    "duration": 211,
    "start_time": "2021-10-12T17:59:16.414Z"
   },
   {
    "duration": 4,
    "start_time": "2021-10-12T18:00:10.518Z"
   },
   {
    "duration": 5,
    "start_time": "2021-10-12T18:13:49.694Z"
   },
   {
    "duration": 5,
    "start_time": "2021-10-12T18:14:01.621Z"
   },
   {
    "duration": 3,
    "start_time": "2021-10-12T18:14:57.254Z"
   },
   {
    "duration": 3,
    "start_time": "2021-10-12T18:15:03.661Z"
   },
   {
    "duration": 2,
    "start_time": "2021-10-12T18:15:32.398Z"
   },
   {
    "duration": 4,
    "start_time": "2021-10-12T18:15:42.461Z"
   },
   {
    "duration": 219,
    "start_time": "2021-10-12T18:16:51.560Z"
   },
   {
    "duration": 237,
    "start_time": "2021-10-12T18:17:43.827Z"
   },
   {
    "duration": 3,
    "start_time": "2021-10-12T18:17:54.561Z"
   },
   {
    "duration": 3,
    "start_time": "2021-10-12T18:18:10.477Z"
   },
   {
    "duration": 3,
    "start_time": "2021-10-12T18:19:17.742Z"
   },
   {
    "duration": 3,
    "start_time": "2021-10-12T18:19:29.597Z"
   },
   {
    "duration": 216,
    "start_time": "2021-10-12T18:20:47.468Z"
   },
   {
    "duration": 3,
    "start_time": "2021-10-12T18:20:56.877Z"
   },
   {
    "duration": 499,
    "start_time": "2021-10-12T18:20:58.733Z"
   },
   {
    "duration": 281,
    "start_time": "2021-10-12T18:22:07.653Z"
   },
   {
    "duration": 19,
    "start_time": "2021-10-12T18:31:57.161Z"
   },
   {
    "duration": 12,
    "start_time": "2021-10-12T18:37:52.705Z"
   },
   {
    "duration": 7,
    "start_time": "2021-10-12T18:38:09.255Z"
   },
   {
    "duration": 484,
    "start_time": "2021-10-12T18:38:32.321Z"
   },
   {
    "duration": 7,
    "start_time": "2021-10-12T18:38:57.472Z"
   },
   {
    "duration": 100,
    "start_time": "2021-10-12T18:40:57.376Z"
   },
   {
    "duration": 15,
    "start_time": "2021-10-12T18:40:57.477Z"
   },
   {
    "duration": 15,
    "start_time": "2021-10-12T18:40:57.494Z"
   },
   {
    "duration": 10,
    "start_time": "2021-10-12T18:40:57.511Z"
   },
   {
    "duration": 14,
    "start_time": "2021-10-12T18:40:57.522Z"
   },
   {
    "duration": 14,
    "start_time": "2021-10-12T18:40:57.537Z"
   },
   {
    "duration": 10,
    "start_time": "2021-10-12T18:40:57.552Z"
   },
   {
    "duration": 11,
    "start_time": "2021-10-12T18:40:57.564Z"
   },
   {
    "duration": 16,
    "start_time": "2021-10-12T18:40:57.577Z"
   },
   {
    "duration": 9,
    "start_time": "2021-10-12T18:40:57.595Z"
   },
   {
    "duration": 38,
    "start_time": "2021-10-12T18:40:57.606Z"
   },
   {
    "duration": 3,
    "start_time": "2021-10-12T18:40:57.646Z"
   },
   {
    "duration": 113,
    "start_time": "2021-10-12T18:40:57.650Z"
   },
   {
    "duration": 14,
    "start_time": "2021-10-12T18:40:57.765Z"
   },
   {
    "duration": 21,
    "start_time": "2021-10-12T18:40:57.781Z"
   },
   {
    "duration": 14,
    "start_time": "2021-10-12T18:40:57.803Z"
   },
   {
    "duration": 36,
    "start_time": "2021-10-12T18:40:57.819Z"
   },
   {
    "duration": 25,
    "start_time": "2021-10-12T18:40:57.856Z"
   },
   {
    "duration": 5,
    "start_time": "2021-10-12T18:40:57.882Z"
   },
   {
    "duration": 9,
    "start_time": "2021-10-12T18:40:57.888Z"
   },
   {
    "duration": 8,
    "start_time": "2021-10-12T18:40:57.898Z"
   },
   {
    "duration": 4,
    "start_time": "2021-10-12T18:40:57.908Z"
   },
   {
    "duration": 123,
    "start_time": "2021-10-12T18:40:57.913Z"
   },
   {
    "duration": 11,
    "start_time": "2021-10-12T18:40:58.038Z"
   },
   {
    "duration": 6,
    "start_time": "2021-10-12T18:40:58.050Z"
   },
   {
    "duration": 22,
    "start_time": "2021-10-12T18:40:58.058Z"
   },
   {
    "duration": 2,
    "start_time": "2021-10-12T18:40:58.083Z"
   },
   {
    "duration": 252,
    "start_time": "2021-10-12T18:40:58.087Z"
   },
   {
    "duration": 8,
    "start_time": "2021-10-12T18:40:58.340Z"
   },
   {
    "duration": 5,
    "start_time": "2021-10-12T18:40:58.349Z"
   },
   {
    "duration": 6,
    "start_time": "2021-10-12T18:40:58.356Z"
   },
   {
    "duration": 77,
    "start_time": "2021-10-12T18:40:58.363Z"
   },
   {
    "duration": -223258,
    "start_time": "2021-10-12T18:44:41.699Z"
   },
   {
    "duration": 4,
    "start_time": "2021-10-12T18:41:25.009Z"
   },
   {
    "duration": 243,
    "start_time": "2021-10-12T18:41:28.420Z"
   },
   {
    "duration": 460,
    "start_time": "2021-10-12T18:42:43.788Z"
   },
   {
    "duration": 143,
    "start_time": "2021-10-12T18:44:15.218Z"
   },
   {
    "duration": 457,
    "start_time": "2021-10-12T18:45:51.745Z"
   },
   {
    "duration": 92,
    "start_time": "2021-10-12T18:46:06.835Z"
   },
   {
    "duration": 16,
    "start_time": "2021-10-12T18:46:06.929Z"
   },
   {
    "duration": 33,
    "start_time": "2021-10-12T18:46:06.947Z"
   },
   {
    "duration": 29,
    "start_time": "2021-10-12T18:46:06.982Z"
   },
   {
    "duration": 25,
    "start_time": "2021-10-12T18:46:07.013Z"
   },
   {
    "duration": 24,
    "start_time": "2021-10-12T18:46:07.040Z"
   },
   {
    "duration": 24,
    "start_time": "2021-10-12T18:46:07.066Z"
   },
   {
    "duration": 24,
    "start_time": "2021-10-12T18:46:07.092Z"
   },
   {
    "duration": 25,
    "start_time": "2021-10-12T18:46:07.118Z"
   },
   {
    "duration": 17,
    "start_time": "2021-10-12T18:46:07.146Z"
   },
   {
    "duration": 33,
    "start_time": "2021-10-12T18:46:07.165Z"
   },
   {
    "duration": 12,
    "start_time": "2021-10-12T18:46:07.200Z"
   },
   {
    "duration": 127,
    "start_time": "2021-10-12T18:46:07.214Z"
   },
   {
    "duration": 14,
    "start_time": "2021-10-12T18:46:07.342Z"
   },
   {
    "duration": 22,
    "start_time": "2021-10-12T18:46:07.357Z"
   },
   {
    "duration": 15,
    "start_time": "2021-10-12T18:46:07.380Z"
   },
   {
    "duration": 14,
    "start_time": "2021-10-12T18:46:07.397Z"
   },
   {
    "duration": 51,
    "start_time": "2021-10-12T18:46:07.413Z"
   },
   {
    "duration": 4,
    "start_time": "2021-10-12T18:46:07.466Z"
   },
   {
    "duration": 13,
    "start_time": "2021-10-12T18:46:07.472Z"
   },
   {
    "duration": 8,
    "start_time": "2021-10-12T18:46:07.486Z"
   },
   {
    "duration": 4,
    "start_time": "2021-10-12T18:46:07.496Z"
   },
   {
    "duration": 119,
    "start_time": "2021-10-12T18:46:07.501Z"
   },
   {
    "duration": 6,
    "start_time": "2021-10-12T18:46:07.622Z"
   },
   {
    "duration": 27,
    "start_time": "2021-10-12T18:46:07.630Z"
   },
   {
    "duration": 25,
    "start_time": "2021-10-12T18:46:07.659Z"
   },
   {
    "duration": 3,
    "start_time": "2021-10-12T18:46:07.687Z"
   },
   {
    "duration": 261,
    "start_time": "2021-10-12T18:46:07.692Z"
   },
   {
    "duration": 6,
    "start_time": "2021-10-12T18:46:07.955Z"
   },
   {
    "duration": 17,
    "start_time": "2021-10-12T18:46:07.962Z"
   },
   {
    "duration": 16,
    "start_time": "2021-10-12T18:46:07.981Z"
   },
   {
    "duration": 55,
    "start_time": "2021-10-12T18:46:07.998Z"
   },
   {
    "duration": 503,
    "start_time": "2021-10-12T18:46:08.055Z"
   },
   {
    "duration": 358,
    "start_time": "2021-10-12T18:46:51.416Z"
   },
   {
    "duration": 3,
    "start_time": "2021-10-12T18:47:34.626Z"
   },
   {
    "duration": 445,
    "start_time": "2021-10-12T18:47:35.737Z"
   },
   {
    "duration": 146,
    "start_time": "2021-10-12T18:47:42.112Z"
   },
   {
    "duration": 375,
    "start_time": "2021-10-12T18:48:26.540Z"
   },
   {
    "duration": 1360,
    "start_time": "2021-10-13T04:34:01.921Z"
   },
   {
    "duration": 30,
    "start_time": "2021-10-13T04:34:03.284Z"
   },
   {
    "duration": 31,
    "start_time": "2021-10-13T04:34:03.317Z"
   },
   {
    "duration": 49,
    "start_time": "2021-10-13T04:34:03.351Z"
   },
   {
    "duration": 27,
    "start_time": "2021-10-13T04:34:03.403Z"
   },
   {
    "duration": 15,
    "start_time": "2021-10-13T04:34:03.433Z"
   },
   {
    "duration": 58,
    "start_time": "2021-10-13T04:34:03.450Z"
   },
   {
    "duration": 17,
    "start_time": "2021-10-13T04:34:03.511Z"
   },
   {
    "duration": 22,
    "start_time": "2021-10-13T04:34:03.532Z"
   },
   {
    "duration": 53,
    "start_time": "2021-10-13T04:34:03.558Z"
   },
   {
    "duration": 34,
    "start_time": "2021-10-13T04:34:03.613Z"
   },
   {
    "duration": 7,
    "start_time": "2021-10-13T04:34:03.649Z"
   },
   {
    "duration": 217,
    "start_time": "2021-10-13T04:34:03.659Z"
   },
   {
    "duration": 29,
    "start_time": "2021-10-13T04:34:03.879Z"
   },
   {
    "duration": 33,
    "start_time": "2021-10-13T04:34:03.911Z"
   },
   {
    "duration": 55,
    "start_time": "2021-10-13T04:34:03.947Z"
   },
   {
    "duration": 25,
    "start_time": "2021-10-13T04:34:04.005Z"
   },
   {
    "duration": 68,
    "start_time": "2021-10-13T04:34:04.034Z"
   },
   {
    "duration": 11,
    "start_time": "2021-10-13T04:34:04.105Z"
   },
   {
    "duration": 21,
    "start_time": "2021-10-13T04:34:04.119Z"
   },
   {
    "duration": 11,
    "start_time": "2021-10-13T04:34:04.143Z"
   },
   {
    "duration": 7,
    "start_time": "2021-10-13T04:34:04.156Z"
   },
   {
    "duration": 192,
    "start_time": "2021-10-13T04:34:04.201Z"
   },
   {
    "duration": 13,
    "start_time": "2021-10-13T04:34:04.396Z"
   },
   {
    "duration": 9,
    "start_time": "2021-10-13T04:34:04.412Z"
   },
   {
    "duration": 37,
    "start_time": "2021-10-13T04:34:04.424Z"
   },
   {
    "duration": 4,
    "start_time": "2021-10-13T04:34:04.502Z"
   },
   {
    "duration": 429,
    "start_time": "2021-10-13T04:34:04.509Z"
   },
   {
    "duration": 12,
    "start_time": "2021-10-13T04:34:04.940Z"
   },
   {
    "duration": 15,
    "start_time": "2021-10-13T04:34:04.955Z"
   },
   {
    "duration": 39,
    "start_time": "2021-10-13T04:34:04.972Z"
   },
   {
    "duration": 12,
    "start_time": "2021-10-13T04:34:05.014Z"
   },
   {
    "duration": 871,
    "start_time": "2021-10-13T04:34:05.029Z"
   },
   {
    "duration": 1396,
    "start_time": "2021-10-13T04:38:55.877Z"
   },
   {
    "duration": 89,
    "start_time": "2021-10-13T04:39:12.934Z"
   },
   {
    "duration": 94,
    "start_time": "2021-10-13T04:39:21.622Z"
   },
   {
    "duration": 571,
    "start_time": "2021-10-13T04:39:28.616Z"
   },
   {
    "duration": 5,
    "start_time": "2021-10-13T04:39:35.176Z"
   },
   {
    "duration": 9,
    "start_time": "2021-10-13T04:39:37.905Z"
   },
   {
    "duration": 7,
    "start_time": "2021-10-13T04:39:56.679Z"
   },
   {
    "duration": 15,
    "start_time": "2021-10-13T04:40:34.376Z"
   },
   {
    "duration": 19,
    "start_time": "2021-10-13T04:40:56.891Z"
   },
   {
    "duration": 20,
    "start_time": "2021-10-13T04:42:11.434Z"
   },
   {
    "duration": 16,
    "start_time": "2021-10-13T04:42:50.002Z"
   },
   {
    "duration": 17,
    "start_time": "2021-10-13T04:43:05.249Z"
   },
   {
    "duration": 272,
    "start_time": "2021-10-13T04:43:36.593Z"
   },
   {
    "duration": 17,
    "start_time": "2021-10-13T04:43:43.992Z"
   },
   {
    "duration": 11,
    "start_time": "2021-10-13T04:43:52.629Z"
   },
   {
    "duration": 11,
    "start_time": "2021-10-13T04:44:09.144Z"
   },
   {
    "duration": 410,
    "start_time": "2021-10-13T17:45:16.212Z"
   },
   {
    "duration": 903,
    "start_time": "2021-10-13T17:45:21.538Z"
   },
   {
    "duration": 29,
    "start_time": "2021-10-13T17:45:22.444Z"
   },
   {
    "duration": 42,
    "start_time": "2021-10-13T17:45:22.476Z"
   },
   {
    "duration": 17,
    "start_time": "2021-10-13T17:45:22.521Z"
   },
   {
    "duration": 28,
    "start_time": "2021-10-13T17:45:22.557Z"
   },
   {
    "duration": 12,
    "start_time": "2021-10-13T17:45:22.587Z"
   },
   {
    "duration": 18,
    "start_time": "2021-10-13T17:45:22.601Z"
   },
   {
    "duration": 40,
    "start_time": "2021-10-13T17:45:22.621Z"
   },
   {
    "duration": 22,
    "start_time": "2021-10-13T17:45:22.665Z"
   },
   {
    "duration": 18,
    "start_time": "2021-10-13T17:45:22.690Z"
   },
   {
    "duration": 59,
    "start_time": "2021-10-13T17:45:22.710Z"
   },
   {
    "duration": 5,
    "start_time": "2021-10-13T17:45:22.771Z"
   },
   {
    "duration": 190,
    "start_time": "2021-10-13T17:45:22.778Z"
   },
   {
    "duration": 20,
    "start_time": "2021-10-13T17:45:22.970Z"
   },
   {
    "duration": 28,
    "start_time": "2021-10-13T17:45:22.992Z"
   },
   {
    "duration": 50,
    "start_time": "2021-10-13T17:45:23.022Z"
   },
   {
    "duration": 24,
    "start_time": "2021-10-13T17:45:23.075Z"
   },
   {
    "duration": 60,
    "start_time": "2021-10-13T17:45:23.102Z"
   },
   {
    "duration": 7,
    "start_time": "2021-10-13T17:45:23.164Z"
   },
   {
    "duration": 11,
    "start_time": "2021-10-13T17:45:23.173Z"
   },
   {
    "duration": 9,
    "start_time": "2021-10-13T17:45:23.186Z"
   },
   {
    "duration": 5,
    "start_time": "2021-10-13T17:45:23.197Z"
   },
   {
    "duration": 306,
    "start_time": "2021-10-13T17:45:23.204Z"
   },
   {
    "duration": 11,
    "start_time": "2021-10-13T17:45:23.512Z"
   },
   {
    "duration": 11,
    "start_time": "2021-10-13T17:45:23.526Z"
   },
   {
    "duration": 33,
    "start_time": "2021-10-13T17:45:23.557Z"
   },
   {
    "duration": 4,
    "start_time": "2021-10-13T17:45:23.594Z"
   },
   {
    "duration": 576,
    "start_time": "2021-10-13T17:45:23.601Z"
   },
   {
    "duration": 9,
    "start_time": "2021-10-13T17:45:24.180Z"
   },
   {
    "duration": 5,
    "start_time": "2021-10-13T17:45:24.191Z"
   },
   {
    "duration": 64,
    "start_time": "2021-10-13T17:45:24.198Z"
   },
   {
    "duration": 5,
    "start_time": "2021-10-13T17:45:24.264Z"
   },
   {
    "duration": 19,
    "start_time": "2021-10-13T17:45:24.271Z"
   },
   {
    "duration": 66,
    "start_time": "2021-10-13T17:45:24.293Z"
   },
   {
    "duration": 8,
    "start_time": "2021-10-13T17:45:24.361Z"
   },
   {
    "duration": 399,
    "start_time": "2021-10-13T17:45:24.371Z"
   },
   {
    "duration": 8,
    "start_time": "2021-10-13T17:45:40.951Z"
   },
   {
    "duration": 6,
    "start_time": "2021-10-13T17:46:02.636Z"
   },
   {
    "duration": 8,
    "start_time": "2021-10-13T17:46:16.340Z"
   },
   {
    "duration": 9,
    "start_time": "2021-10-13T17:47:43.485Z"
   },
   {
    "duration": 7,
    "start_time": "2021-10-13T17:48:38.716Z"
   },
   {
    "duration": 29,
    "start_time": "2021-10-13T17:48:44.813Z"
   },
   {
    "duration": 10,
    "start_time": "2021-10-13T17:49:40.311Z"
   },
   {
    "duration": 28,
    "start_time": "2021-10-13T17:51:36.847Z"
   },
   {
    "duration": 40,
    "start_time": "2021-10-13T17:54:55.401Z"
   },
   {
    "duration": 175,
    "start_time": "2021-10-13T18:11:51.783Z"
   },
   {
    "duration": 119,
    "start_time": "2021-10-13T18:12:43.105Z"
   },
   {
    "duration": 20,
    "start_time": "2021-10-13T18:12:43.226Z"
   },
   {
    "duration": 32,
    "start_time": "2021-10-13T18:12:43.249Z"
   },
   {
    "duration": 15,
    "start_time": "2021-10-13T18:12:43.284Z"
   },
   {
    "duration": 28,
    "start_time": "2021-10-13T18:12:43.302Z"
   },
   {
    "duration": 18,
    "start_time": "2021-10-13T18:12:43.359Z"
   },
   {
    "duration": 32,
    "start_time": "2021-10-13T18:12:43.380Z"
   },
   {
    "duration": 50,
    "start_time": "2021-10-13T18:12:43.415Z"
   },
   {
    "duration": 41,
    "start_time": "2021-10-13T18:12:43.471Z"
   },
   {
    "duration": 41,
    "start_time": "2021-10-13T18:12:43.517Z"
   },
   {
    "duration": 59,
    "start_time": "2021-10-13T18:12:43.562Z"
   },
   {
    "duration": 13,
    "start_time": "2021-10-13T18:12:43.625Z"
   },
   {
    "duration": 272,
    "start_time": "2021-10-13T18:12:43.641Z"
   },
   {
    "duration": 21,
    "start_time": "2021-10-13T18:12:43.916Z"
   },
   {
    "duration": 43,
    "start_time": "2021-10-13T18:12:43.939Z"
   },
   {
    "duration": 24,
    "start_time": "2021-10-13T18:12:43.984Z"
   },
   {
    "duration": 46,
    "start_time": "2021-10-13T18:12:44.010Z"
   },
   {
    "duration": 39,
    "start_time": "2021-10-13T18:12:44.059Z"
   },
   {
    "duration": 7,
    "start_time": "2021-10-13T18:12:44.101Z"
   },
   {
    "duration": 16,
    "start_time": "2021-10-13T18:12:44.111Z"
   },
   {
    "duration": 17,
    "start_time": "2021-10-13T18:12:44.157Z"
   },
   {
    "duration": 5,
    "start_time": "2021-10-13T18:12:44.177Z"
   },
   {
    "duration": 194,
    "start_time": "2021-10-13T18:12:44.184Z"
   },
   {
    "duration": 9,
    "start_time": "2021-10-13T18:12:44.381Z"
   },
   {
    "duration": 10,
    "start_time": "2021-10-13T18:12:44.393Z"
   },
   {
    "duration": 54,
    "start_time": "2021-10-13T18:12:44.406Z"
   },
   {
    "duration": 4,
    "start_time": "2021-10-13T18:12:44.465Z"
   },
   {
    "duration": 433,
    "start_time": "2021-10-13T18:12:44.471Z"
   },
   {
    "duration": 54,
    "start_time": "2021-10-13T18:12:44.907Z"
   },
   {
    "duration": 7,
    "start_time": "2021-10-13T18:12:44.964Z"
   },
   {
    "duration": 12,
    "start_time": "2021-10-13T18:12:44.974Z"
   },
   {
    "duration": 4,
    "start_time": "2021-10-13T18:12:44.989Z"
   },
   {
    "duration": 78,
    "start_time": "2021-10-13T18:12:44.996Z"
   },
   {
    "duration": 87,
    "start_time": "2021-10-13T18:12:45.078Z"
   },
   {
    "duration": 12,
    "start_time": "2021-10-13T18:12:45.168Z"
   },
   {
    "duration": 9,
    "start_time": "2021-10-13T18:12:45.183Z"
   },
   {
    "duration": 67,
    "start_time": "2021-10-13T18:12:45.195Z"
   },
   {
    "duration": 711,
    "start_time": "2021-10-13T18:12:45.265Z"
   },
   {
    "duration": 87,
    "start_time": "2021-10-13T18:12:45.979Z"
   },
   {
    "duration": 12,
    "start_time": "2021-10-13T18:14:45.835Z"
   },
   {
    "duration": 182,
    "start_time": "2021-10-13T18:15:27.505Z"
   },
   {
    "duration": 13,
    "start_time": "2021-10-13T18:15:28.272Z"
   },
   {
    "duration": 892,
    "start_time": "2021-10-13T21:18:09.678Z"
   },
   {
    "duration": 32,
    "start_time": "2021-10-13T21:18:10.573Z"
   },
   {
    "duration": 54,
    "start_time": "2021-10-13T21:18:10.608Z"
   },
   {
    "duration": 17,
    "start_time": "2021-10-13T21:18:10.666Z"
   },
   {
    "duration": 31,
    "start_time": "2021-10-13T21:18:10.685Z"
   },
   {
    "duration": 12,
    "start_time": "2021-10-13T21:18:10.718Z"
   },
   {
    "duration": 44,
    "start_time": "2021-10-13T21:18:10.732Z"
   },
   {
    "duration": 17,
    "start_time": "2021-10-13T21:18:10.779Z"
   },
   {
    "duration": 23,
    "start_time": "2021-10-13T21:18:10.800Z"
   },
   {
    "duration": 51,
    "start_time": "2021-10-13T21:18:10.826Z"
   },
   {
    "duration": 33,
    "start_time": "2021-10-13T21:18:10.880Z"
   },
   {
    "duration": 4,
    "start_time": "2021-10-13T21:18:10.916Z"
   },
   {
    "duration": 378,
    "start_time": "2021-10-13T21:18:10.923Z"
   },
   {
    "duration": 69,
    "start_time": "2021-10-13T21:18:11.304Z"
   },
   {
    "duration": 31,
    "start_time": "2021-10-13T21:18:11.376Z"
   },
   {
    "duration": 31,
    "start_time": "2021-10-13T21:18:11.463Z"
   },
   {
    "duration": 81,
    "start_time": "2021-10-13T21:18:11.496Z"
   },
   {
    "duration": 94,
    "start_time": "2021-10-13T21:18:11.580Z"
   },
   {
    "duration": 8,
    "start_time": "2021-10-13T21:18:11.676Z"
   },
   {
    "duration": 27,
    "start_time": "2021-10-13T21:18:11.687Z"
   },
   {
    "duration": 9,
    "start_time": "2021-10-13T21:18:11.763Z"
   },
   {
    "duration": 6,
    "start_time": "2021-10-13T21:18:11.774Z"
   },
   {
    "duration": 225,
    "start_time": "2021-10-13T21:18:11.783Z"
   },
   {
    "duration": 12,
    "start_time": "2021-10-13T21:18:12.010Z"
   },
   {
    "duration": 12,
    "start_time": "2021-10-13T21:18:12.025Z"
   },
   {
    "duration": 38,
    "start_time": "2021-10-13T21:18:12.063Z"
   },
   {
    "duration": 5,
    "start_time": "2021-10-13T21:18:12.107Z"
   },
   {
    "duration": 460,
    "start_time": "2021-10-13T21:18:12.115Z"
   },
   {
    "duration": 11,
    "start_time": "2021-10-13T21:18:12.578Z"
   },
   {
    "duration": 8,
    "start_time": "2021-10-13T21:18:12.591Z"
   },
   {
    "duration": 25,
    "start_time": "2021-10-13T21:18:12.601Z"
   },
   {
    "duration": 5,
    "start_time": "2021-10-13T21:18:12.629Z"
   },
   {
    "duration": 16,
    "start_time": "2021-10-13T21:18:12.663Z"
   },
   {
    "duration": 19,
    "start_time": "2021-10-13T21:18:12.682Z"
   },
   {
    "duration": 11,
    "start_time": "2021-10-13T21:18:12.704Z"
   },
   {
    "duration": 46,
    "start_time": "2021-10-13T21:18:12.718Z"
   },
   {
    "duration": 12,
    "start_time": "2021-10-13T21:18:12.767Z"
   },
   {
    "duration": 381,
    "start_time": "2021-10-13T21:18:12.782Z"
   },
   {
    "duration": -223126,
    "start_time": "2021-10-13T21:21:56.292Z"
   },
   {
    "duration": 319,
    "start_time": "2021-10-13T21:18:26.263Z"
   },
   {
    "duration": 223,
    "start_time": "2021-10-13T21:18:43.731Z"
   },
   {
    "duration": 13,
    "start_time": "2021-10-13T21:18:44.627Z"
   },
   {
    "duration": 225,
    "start_time": "2021-10-13T21:19:21.628Z"
   },
   {
    "duration": 13,
    "start_time": "2021-10-13T21:19:22.478Z"
   },
   {
    "duration": 8,
    "start_time": "2021-10-13T21:20:08.158Z"
   },
   {
    "duration": 7,
    "start_time": "2021-10-13T21:20:11.814Z"
   },
   {
    "duration": 8,
    "start_time": "2021-10-13T21:20:22.864Z"
   },
   {
    "duration": 6577,
    "start_time": "2021-10-13T21:20:34.237Z"
   },
   {
    "duration": 280,
    "start_time": "2021-10-13T21:20:52.422Z"
   },
   {
    "duration": 8,
    "start_time": "2021-10-13T21:20:58.844Z"
   },
   {
    "duration": 260,
    "start_time": "2021-10-13T21:24:28.021Z"
   },
   {
    "duration": 326,
    "start_time": "2021-10-13T21:24:29.778Z"
   },
   {
    "duration": 375,
    "start_time": "2021-10-13T21:24:31.946Z"
   },
   {
    "duration": 5,
    "start_time": "2021-10-13T21:24:35.379Z"
   },
   {
    "duration": 7,
    "start_time": "2021-10-13T21:24:39.856Z"
   },
   {
    "duration": 297,
    "start_time": "2021-10-13T21:26:57.574Z"
   },
   {
    "duration": 8,
    "start_time": "2021-10-13T21:27:22.867Z"
   },
   {
    "duration": 8,
    "start_time": "2021-10-13T21:27:33.000Z"
   },
   {
    "duration": 9,
    "start_time": "2021-10-13T21:27:41.616Z"
   },
   {
    "duration": 7,
    "start_time": "2021-10-13T21:30:19.050Z"
   },
   {
    "duration": 4,
    "start_time": "2021-10-13T21:32:23.167Z"
   },
   {
    "duration": 12,
    "start_time": "2021-10-13T21:34:42.930Z"
   },
   {
    "duration": 89,
    "start_time": "2021-10-13T21:37:18.175Z"
   },
   {
    "duration": 7,
    "start_time": "2021-10-13T21:37:25.261Z"
   },
   {
    "duration": 11,
    "start_time": "2021-10-13T21:37:33.529Z"
   },
   {
    "duration": 8,
    "start_time": "2021-10-13T21:37:38.569Z"
   },
   {
    "duration": 7,
    "start_time": "2021-10-13T21:38:31.297Z"
   },
   {
    "duration": 9,
    "start_time": "2021-10-13T21:38:46.509Z"
   },
   {
    "duration": 9,
    "start_time": "2021-10-13T21:40:01.562Z"
   },
   {
    "duration": 9,
    "start_time": "2021-10-13T21:40:14.011Z"
   },
   {
    "duration": 6,
    "start_time": "2021-10-13T21:40:19.240Z"
   },
   {
    "duration": 8,
    "start_time": "2021-10-13T21:41:40.172Z"
   },
   {
    "duration": 12,
    "start_time": "2021-10-13T21:42:00.409Z"
   },
   {
    "duration": 14,
    "start_time": "2021-10-13T21:42:35.462Z"
   },
   {
    "duration": 8,
    "start_time": "2021-10-13T21:42:43.104Z"
   },
   {
    "duration": 8,
    "start_time": "2021-10-13T21:42:54.249Z"
   },
   {
    "duration": 79,
    "start_time": "2021-10-13T21:43:30.657Z"
   },
   {
    "duration": 2572,
    "start_time": "2021-10-13T21:43:37.825Z"
   },
   {
    "duration": 2755,
    "start_time": "2021-10-13T21:43:44.475Z"
   },
   {
    "duration": 785,
    "start_time": "2021-10-13T21:43:56.251Z"
   },
   {
    "duration": 95,
    "start_time": "2021-10-13T21:44:23.581Z"
   },
   {
    "duration": 94,
    "start_time": "2021-10-13T21:44:39.414Z"
   },
   {
    "duration": 7,
    "start_time": "2021-10-13T21:45:02.727Z"
   },
   {
    "duration": 9,
    "start_time": "2021-10-13T21:45:06.371Z"
   },
   {
    "duration": 8,
    "start_time": "2021-10-13T21:45:08.401Z"
   },
   {
    "duration": 8,
    "start_time": "2021-10-13T21:45:22.995Z"
   },
   {
    "duration": 11,
    "start_time": "2021-10-13T21:45:51.529Z"
   },
   {
    "duration": 282,
    "start_time": "2021-10-13T21:52:58.179Z"
   },
   {
    "duration": 6,
    "start_time": "2021-10-13T21:53:02.005Z"
   },
   {
    "duration": 8,
    "start_time": "2021-10-13T21:53:02.747Z"
   },
   {
    "duration": 6,
    "start_time": "2021-10-13T21:53:51.623Z"
   },
   {
    "duration": 8,
    "start_time": "2021-10-13T21:54:04.537Z"
   },
   {
    "duration": 6,
    "start_time": "2021-10-13T21:54:19.125Z"
   },
   {
    "duration": 7,
    "start_time": "2021-10-13T21:54:28.449Z"
   },
   {
    "duration": 15,
    "start_time": "2021-10-13T21:57:02.568Z"
   },
   {
    "duration": 20,
    "start_time": "2021-10-13T21:57:12.833Z"
   },
   {
    "duration": 293,
    "start_time": "2021-10-13T21:57:29.955Z"
   },
   {
    "duration": 92,
    "start_time": "2021-10-13T21:57:39.492Z"
   },
   {
    "duration": 297,
    "start_time": "2021-10-13T21:57:43.331Z"
   },
   {
    "duration": 290,
    "start_time": "2021-10-13T21:57:56.834Z"
   },
   {
    "duration": 299,
    "start_time": "2021-10-13T21:58:02.394Z"
   },
   {
    "duration": 288,
    "start_time": "2021-10-13T21:58:13.375Z"
   },
   {
    "duration": 291,
    "start_time": "2021-10-13T21:58:19.322Z"
   },
   {
    "duration": 289,
    "start_time": "2021-10-13T21:58:46.797Z"
   },
   {
    "duration": 283,
    "start_time": "2021-10-13T21:58:56.392Z"
   },
   {
    "duration": 311,
    "start_time": "2021-10-13T21:59:02.695Z"
   },
   {
    "duration": 19,
    "start_time": "2021-10-13T21:59:08.826Z"
   },
   {
    "duration": 286,
    "start_time": "2021-10-13T21:59:21.299Z"
   },
   {
    "duration": 310,
    "start_time": "2021-10-13T21:59:25.376Z"
   },
   {
    "duration": 291,
    "start_time": "2021-10-13T21:59:54.091Z"
   },
   {
    "duration": 78,
    "start_time": "2021-10-13T21:59:59.523Z"
   },
   {
    "duration": 318,
    "start_time": "2021-10-13T22:00:02.531Z"
   },
   {
    "duration": 313,
    "start_time": "2021-10-13T22:00:08.924Z"
   },
   {
    "duration": 17,
    "start_time": "2021-10-13T22:00:11.640Z"
   },
   {
    "duration": 293,
    "start_time": "2021-10-13T22:00:17.745Z"
   },
   {
    "duration": 20,
    "start_time": "2021-10-13T22:00:40.008Z"
   },
   {
    "duration": 291,
    "start_time": "2021-10-13T22:00:54.940Z"
   },
   {
    "duration": 22,
    "start_time": "2021-10-13T22:01:03.214Z"
   },
   {
    "duration": 25,
    "start_time": "2021-10-13T22:01:29.536Z"
   },
   {
    "duration": 26,
    "start_time": "2021-10-13T22:12:36.747Z"
   },
   {
    "duration": 25,
    "start_time": "2021-10-13T22:13:25.794Z"
   },
   {
    "duration": 34,
    "start_time": "2021-10-13T22:13:37.789Z"
   },
   {
    "duration": 25,
    "start_time": "2021-10-13T22:24:51.267Z"
   },
   {
    "duration": 470,
    "start_time": "2021-10-13T22:30:29.843Z"
   },
   {
    "duration": 324,
    "start_time": "2021-10-13T22:31:05.609Z"
   },
   {
    "duration": 274,
    "start_time": "2021-10-13T22:31:36.956Z"
   },
   {
    "duration": 518,
    "start_time": "2021-10-13T22:31:47.656Z"
   },
   {
    "duration": 7344,
    "start_time": "2021-10-13T22:31:58.182Z"
   },
   {
    "duration": 270,
    "start_time": "2021-10-13T22:32:22.624Z"
   },
   {
    "duration": 224,
    "start_time": "2021-10-13T22:33:05.376Z"
   },
   {
    "duration": 361,
    "start_time": "2021-10-13T22:35:50.833Z"
   },
   {
    "duration": 17,
    "start_time": "2021-10-13T22:37:18.193Z"
   },
   {
    "duration": 27,
    "start_time": "2021-10-13T22:37:25.271Z"
   },
   {
    "duration": 5,
    "start_time": "2021-10-13T22:37:35.152Z"
   },
   {
    "duration": 1822,
    "start_time": "2021-10-13T22:37:52.386Z"
   },
   {
    "duration": 5,
    "start_time": "2021-10-13T22:38:10.684Z"
   },
   {
    "duration": 13,
    "start_time": "2021-10-13T22:41:11.057Z"
   },
   {
    "duration": 8,
    "start_time": "2021-10-13T22:41:15.664Z"
   },
   {
    "duration": 1816,
    "start_time": "2021-10-13T22:41:38.208Z"
   },
   {
    "duration": 1966,
    "start_time": "2021-10-13T22:41:55.927Z"
   },
   {
    "duration": 2039,
    "start_time": "2021-10-13T22:42:04.023Z"
   },
   {
    "duration": 14,
    "start_time": "2021-10-13T22:42:20.325Z"
   },
   {
    "duration": 6,
    "start_time": "2021-10-13T22:42:43.815Z"
   },
   {
    "duration": 7898,
    "start_time": "2021-10-13T22:44:59.901Z"
   },
   {
    "duration": 7943,
    "start_time": "2021-10-13T22:45:14.288Z"
   },
   {
    "duration": 13,
    "start_time": "2021-10-13T22:46:18.433Z"
   },
   {
    "duration": 10,
    "start_time": "2021-10-13T22:46:32.549Z"
   },
   {
    "duration": 12,
    "start_time": "2021-10-13T23:14:22.395Z"
   },
   {
    "duration": 12,
    "start_time": "2021-10-13T23:14:31.347Z"
   },
   {
    "duration": 650,
    "start_time": "2021-10-13T23:14:55.103Z"
   },
   {
    "duration": 275,
    "start_time": "2021-10-13T23:15:05.953Z"
   },
   {
    "duration": 269,
    "start_time": "2021-10-13T23:15:15.833Z"
   },
   {
    "duration": 6,
    "start_time": "2021-10-13T23:15:29.497Z"
   },
   {
    "duration": 5,
    "start_time": "2021-10-13T23:15:39.587Z"
   },
   {
    "duration": 85,
    "start_time": "2021-10-13T23:15:47.713Z"
   },
   {
    "duration": 5,
    "start_time": "2021-10-13T23:16:52.139Z"
   },
   {
    "duration": 101,
    "start_time": "2021-10-13T23:17:07.709Z"
   },
   {
    "duration": 5,
    "start_time": "2021-10-13T23:17:11.664Z"
   },
   {
    "duration": 1933,
    "start_time": "2021-10-13T23:18:13.232Z"
   },
   {
    "duration": 512,
    "start_time": "2021-10-13T23:19:03.617Z"
   },
   {
    "duration": 274,
    "start_time": "2021-10-13T23:19:51.127Z"
   },
   {
    "duration": 288,
    "start_time": "2021-10-13T23:20:00.997Z"
   },
   {
    "duration": 434,
    "start_time": "2021-10-13T23:20:09.222Z"
   },
   {
    "duration": 7,
    "start_time": "2021-10-13T23:20:18.145Z"
   },
   {
    "duration": 115,
    "start_time": "2021-10-13T23:28:52.883Z"
   },
   {
    "duration": 110,
    "start_time": "2021-10-13T23:29:09.888Z"
   },
   {
    "duration": 112,
    "start_time": "2021-10-13T23:29:50.831Z"
   },
   {
    "duration": 113,
    "start_time": "2021-10-13T23:29:57.436Z"
   },
   {
    "duration": 108,
    "start_time": "2021-10-13T23:30:39.726Z"
   },
   {
    "duration": 91,
    "start_time": "2021-10-13T23:30:43.936Z"
   },
   {
    "duration": 290,
    "start_time": "2021-10-13T23:30:46.981Z"
   },
   {
    "duration": 402,
    "start_time": "2021-10-13T23:31:20.395Z"
   },
   {
    "duration": 129,
    "start_time": "2021-10-13T23:31:41.245Z"
   },
   {
    "duration": 1172,
    "start_time": "2021-10-13T23:31:47.603Z"
   },
   {
    "duration": 1139,
    "start_time": "2021-10-13T23:32:04.109Z"
   },
   {
    "duration": 1441,
    "start_time": "2021-10-13T23:32:38.047Z"
   },
   {
    "duration": 3017,
    "start_time": "2021-10-13T23:32:50.111Z"
   },
   {
    "duration": 1954,
    "start_time": "2021-10-13T23:32:56.805Z"
   },
   {
    "duration": 25,
    "start_time": "2021-10-13T23:34:18.294Z"
   },
   {
    "duration": 8,
    "start_time": "2021-10-13T23:34:28.598Z"
   },
   {
    "duration": 299,
    "start_time": "2021-10-14T08:56:55.013Z"
   },
   {
    "duration": 278,
    "start_time": "2021-10-14T08:57:01.343Z"
   },
   {
    "duration": 974,
    "start_time": "2021-10-14T08:57:05.036Z"
   },
   {
    "duration": 28,
    "start_time": "2021-10-14T08:57:06.012Z"
   },
   {
    "duration": 39,
    "start_time": "2021-10-14T08:57:06.043Z"
   },
   {
    "duration": 12,
    "start_time": "2021-10-14T08:57:06.084Z"
   },
   {
    "duration": 69,
    "start_time": "2021-10-14T08:57:06.099Z"
   },
   {
    "duration": 46,
    "start_time": "2021-10-14T08:57:06.171Z"
   },
   {
    "duration": 30,
    "start_time": "2021-10-14T08:57:06.219Z"
   },
   {
    "duration": 17,
    "start_time": "2021-10-14T08:57:06.252Z"
   },
   {
    "duration": 24,
    "start_time": "2021-10-14T08:57:06.272Z"
   },
   {
    "duration": 17,
    "start_time": "2021-10-14T08:57:06.298Z"
   },
   {
    "duration": 32,
    "start_time": "2021-10-14T08:57:06.317Z"
   },
   {
    "duration": 5,
    "start_time": "2021-10-14T08:57:06.351Z"
   },
   {
    "duration": 191,
    "start_time": "2021-10-14T08:57:06.385Z"
   },
   {
    "duration": 21,
    "start_time": "2021-10-14T08:57:06.578Z"
   },
   {
    "duration": 32,
    "start_time": "2021-10-14T08:57:06.601Z"
   },
   {
    "duration": 49,
    "start_time": "2021-10-14T08:57:06.635Z"
   },
   {
    "duration": 26,
    "start_time": "2021-10-14T08:57:06.686Z"
   },
   {
    "duration": 66,
    "start_time": "2021-10-14T08:57:06.716Z"
   },
   {
    "duration": 7,
    "start_time": "2021-10-14T08:57:06.785Z"
   },
   {
    "duration": 13,
    "start_time": "2021-10-14T08:57:06.795Z"
   },
   {
    "duration": 11,
    "start_time": "2021-10-14T08:57:06.810Z"
   },
   {
    "duration": 13,
    "start_time": "2021-10-14T08:57:06.823Z"
   },
   {
    "duration": 193,
    "start_time": "2021-10-14T08:57:06.841Z"
   },
   {
    "duration": 10,
    "start_time": "2021-10-14T08:57:07.037Z"
   },
   {
    "duration": 11,
    "start_time": "2021-10-14T08:57:07.050Z"
   },
   {
    "duration": 33,
    "start_time": "2021-10-14T08:57:07.083Z"
   },
   {
    "duration": 4,
    "start_time": "2021-10-14T08:57:07.119Z"
   },
   {
    "duration": 417,
    "start_time": "2021-10-14T08:57:07.126Z"
   },
   {
    "duration": 10,
    "start_time": "2021-10-14T08:57:07.545Z"
   },
   {
    "duration": 21,
    "start_time": "2021-10-14T08:57:07.557Z"
   },
   {
    "duration": 13,
    "start_time": "2021-10-14T08:57:07.583Z"
   },
   {
    "duration": 10,
    "start_time": "2021-10-14T08:57:07.598Z"
   },
   {
    "duration": 30,
    "start_time": "2021-10-14T08:57:07.611Z"
   },
   {
    "duration": 25,
    "start_time": "2021-10-14T08:57:07.643Z"
   },
   {
    "duration": 17,
    "start_time": "2021-10-14T08:57:07.671Z"
   },
   {
    "duration": 13,
    "start_time": "2021-10-14T08:57:07.690Z"
   },
   {
    "duration": 14,
    "start_time": "2021-10-14T08:57:07.706Z"
   },
   {
    "duration": 275,
    "start_time": "2021-10-14T08:57:07.723Z"
   },
   {
    "duration": 12,
    "start_time": "2021-10-14T08:57:08.000Z"
   },
   {
    "duration": 6,
    "start_time": "2021-10-14T08:57:08.014Z"
   },
   {
    "duration": 15,
    "start_time": "2021-10-14T08:57:08.022Z"
   },
   {
    "duration": 55,
    "start_time": "2021-10-14T08:57:08.040Z"
   },
   {
    "duration": 376,
    "start_time": "2021-10-14T08:57:08.097Z"
   },
   {
    "duration": 33,
    "start_time": "2021-10-14T08:57:08.483Z"
   },
   {
    "duration": 23,
    "start_time": "2021-10-14T08:57:08.519Z"
   },
   {
    "duration": 38,
    "start_time": "2021-10-14T08:57:08.545Z"
   },
   {
    "duration": 1858,
    "start_time": "2021-10-14T08:57:08.585Z"
   },
   {
    "duration": 620,
    "start_time": "2021-10-14T09:59:37.734Z"
   },
   {
    "duration": 9,
    "start_time": "2021-10-14T09:59:50.093Z"
   },
   {
    "duration": 106,
    "start_time": "2021-10-14T09:59:58.545Z"
   },
   {
    "duration": 6,
    "start_time": "2021-10-14T10:00:46.128Z"
   },
   {
    "duration": 5,
    "start_time": "2021-10-14T10:01:26.692Z"
   },
   {
    "duration": 8,
    "start_time": "2021-10-14T10:02:37.022Z"
   },
   {
    "duration": 7,
    "start_time": "2021-10-14T10:02:53.224Z"
   },
   {
    "duration": 8,
    "start_time": "2021-10-14T10:04:49.053Z"
   },
   {
    "duration": 8,
    "start_time": "2021-10-14T10:12:43.319Z"
   },
   {
    "duration": 8,
    "start_time": "2021-10-14T10:13:11.870Z"
   },
   {
    "duration": 10,
    "start_time": "2021-10-14T10:15:08.426Z"
   },
   {
    "duration": 8,
    "start_time": "2021-10-14T10:17:26.409Z"
   },
   {
    "duration": 20,
    "start_time": "2021-10-14T10:17:35.619Z"
   },
   {
    "duration": 20,
    "start_time": "2021-10-14T10:22:57.956Z"
   },
   {
    "duration": 21,
    "start_time": "2021-10-14T10:25:01.073Z"
   },
   {
    "duration": 21,
    "start_time": "2021-10-14T10:27:13.416Z"
   },
   {
    "duration": 8,
    "start_time": "2021-10-14T10:29:28.238Z"
   },
   {
    "duration": 10,
    "start_time": "2021-10-14T10:30:45.236Z"
   },
   {
    "duration": 13,
    "start_time": "2021-10-14T10:31:10.446Z"
   },
   {
    "duration": 9,
    "start_time": "2021-10-14T10:31:21.677Z"
   },
   {
    "duration": -223640,
    "start_time": "2021-10-14T10:36:08.776Z"
   },
   {
    "duration": 8,
    "start_time": "2021-10-14T10:32:29.381Z"
   },
   {
    "duration": 9,
    "start_time": "2021-10-14T10:32:38.079Z"
   },
   {
    "duration": 9,
    "start_time": "2021-10-14T10:33:07.090Z"
   },
   {
    "duration": 304,
    "start_time": "2021-10-14T10:33:27.017Z"
   },
   {
    "duration": 9,
    "start_time": "2021-10-14T10:33:36.242Z"
   },
   {
    "duration": 21,
    "start_time": "2021-10-14T10:39:04.838Z"
   },
   {
    "duration": 18,
    "start_time": "2021-10-14T10:39:47.761Z"
   },
   {
    "duration": 61,
    "start_time": "2021-10-14T10:43:14.859Z"
   },
   {
    "duration": 9,
    "start_time": "2021-10-14T10:46:00.458Z"
   },
   {
    "duration": 8,
    "start_time": "2021-10-14T10:47:45.494Z"
   },
   {
    "duration": 10,
    "start_time": "2021-10-14T10:48:40.901Z"
   },
   {
    "duration": 8,
    "start_time": "2021-10-14T10:48:45.962Z"
   },
   {
    "duration": 9,
    "start_time": "2021-10-14T10:48:59.293Z"
   },
   {
    "duration": 999,
    "start_time": "2021-10-15T08:47:55.703Z"
   },
   {
    "duration": 27,
    "start_time": "2021-10-15T08:47:56.706Z"
   },
   {
    "duration": 33,
    "start_time": "2021-10-15T08:47:56.736Z"
   },
   {
    "duration": 32,
    "start_time": "2021-10-15T08:47:56.772Z"
   },
   {
    "duration": 50,
    "start_time": "2021-10-15T08:47:56.807Z"
   },
   {
    "duration": 12,
    "start_time": "2021-10-15T08:47:56.859Z"
   },
   {
    "duration": 25,
    "start_time": "2021-10-15T08:47:56.873Z"
   },
   {
    "duration": 24,
    "start_time": "2021-10-15T08:47:56.902Z"
   },
   {
    "duration": 44,
    "start_time": "2021-10-15T08:47:56.929Z"
   },
   {
    "duration": 18,
    "start_time": "2021-10-15T08:47:56.975Z"
   },
   {
    "duration": 44,
    "start_time": "2021-10-15T08:47:56.995Z"
   },
   {
    "duration": 4,
    "start_time": "2021-10-15T08:47:57.042Z"
   },
   {
    "duration": 186,
    "start_time": "2021-10-15T08:47:57.048Z"
   },
   {
    "duration": 19,
    "start_time": "2021-10-15T08:47:57.236Z"
   },
   {
    "duration": 32,
    "start_time": "2021-10-15T08:47:57.258Z"
   },
   {
    "duration": 43,
    "start_time": "2021-10-15T08:47:57.292Z"
   },
   {
    "duration": 24,
    "start_time": "2021-10-15T08:47:57.338Z"
   },
   {
    "duration": 69,
    "start_time": "2021-10-15T08:47:57.365Z"
   },
   {
    "duration": 9,
    "start_time": "2021-10-15T08:47:57.437Z"
   },
   {
    "duration": 24,
    "start_time": "2021-10-15T08:47:57.449Z"
   },
   {
    "duration": 35,
    "start_time": "2021-10-15T08:47:57.476Z"
   },
   {
    "duration": 28,
    "start_time": "2021-10-15T08:47:57.514Z"
   },
   {
    "duration": 174,
    "start_time": "2021-10-15T08:47:57.547Z"
   },
   {
    "duration": 10,
    "start_time": "2021-10-15T08:47:57.724Z"
   },
   {
    "duration": 19,
    "start_time": "2021-10-15T08:47:57.737Z"
   },
   {
    "duration": 40,
    "start_time": "2021-10-15T08:47:57.759Z"
   },
   {
    "duration": 21,
    "start_time": "2021-10-15T08:47:57.801Z"
   },
   {
    "duration": 426,
    "start_time": "2021-10-15T08:47:57.825Z"
   },
   {
    "duration": 9,
    "start_time": "2021-10-15T08:47:58.253Z"
   },
   {
    "duration": 22,
    "start_time": "2021-10-15T08:47:58.265Z"
   },
   {
    "duration": 16,
    "start_time": "2021-10-15T08:47:58.289Z"
   },
   {
    "duration": 19,
    "start_time": "2021-10-15T08:47:58.308Z"
   },
   {
    "duration": 41,
    "start_time": "2021-10-15T08:47:58.329Z"
   },
   {
    "duration": 56,
    "start_time": "2021-10-15T08:47:58.373Z"
   },
   {
    "duration": 22,
    "start_time": "2021-10-15T08:47:58.432Z"
   },
   {
    "duration": 20,
    "start_time": "2021-10-15T08:47:58.456Z"
   },
   {
    "duration": 42,
    "start_time": "2021-10-15T08:47:58.478Z"
   },
   {
    "duration": 307,
    "start_time": "2021-10-15T08:47:58.523Z"
   },
   {
    "duration": 11,
    "start_time": "2021-10-15T08:47:58.833Z"
   },
   {
    "duration": 22,
    "start_time": "2021-10-15T08:47:58.846Z"
   },
   {
    "duration": 26,
    "start_time": "2021-10-15T08:47:58.870Z"
   },
   {
    "duration": 39,
    "start_time": "2021-10-15T08:47:58.898Z"
   },
   {
    "duration": 362,
    "start_time": "2021-10-15T08:47:58.939Z"
   },
   {
    "duration": 41,
    "start_time": "2021-10-15T08:47:59.303Z"
   },
   {
    "duration": 35,
    "start_time": "2021-10-15T08:47:59.346Z"
   },
   {
    "duration": 20,
    "start_time": "2021-10-15T08:47:59.384Z"
   },
   {
    "duration": 1914,
    "start_time": "2021-10-15T08:47:59.406Z"
   },
   {
    "duration": 69,
    "start_time": "2021-10-15T08:48:01.323Z"
   },
   {
    "duration": 29,
    "start_time": "2021-10-15T08:48:01.395Z"
   },
   {
    "duration": 32,
    "start_time": "2021-10-15T08:48:01.427Z"
   },
   {
    "duration": 114,
    "start_time": "2021-10-15T08:48:01.462Z"
   },
   {
    "duration": 52,
    "start_time": "2021-10-15T08:48:01.578Z"
   },
   {
    "duration": 39,
    "start_time": "2021-10-15T08:48:01.633Z"
   },
   {
    "duration": 36,
    "start_time": "2021-10-15T08:48:01.675Z"
   },
   {
    "duration": 54,
    "start_time": "2021-10-15T08:48:01.714Z"
   },
   {
    "duration": 30,
    "start_time": "2021-10-15T08:48:01.770Z"
   },
   {
    "duration": 37,
    "start_time": "2021-10-15T08:48:01.802Z"
   },
   {
    "duration": 88,
    "start_time": "2021-10-15T08:48:01.841Z"
   },
   {
    "duration": 87,
    "start_time": "2021-10-15T09:31:35.306Z"
   },
   {
    "duration": 290,
    "start_time": "2021-10-15T10:23:12.855Z"
   },
   {
    "duration": 853,
    "start_time": "2021-10-15T10:23:34.111Z"
   },
   {
    "duration": 22,
    "start_time": "2021-10-15T10:23:34.966Z"
   },
   {
    "duration": 30,
    "start_time": "2021-10-15T10:23:34.991Z"
   },
   {
    "duration": 44,
    "start_time": "2021-10-15T10:23:35.024Z"
   },
   {
    "duration": 23,
    "start_time": "2021-10-15T10:23:35.070Z"
   },
   {
    "duration": 11,
    "start_time": "2021-10-15T10:23:35.096Z"
   },
   {
    "duration": 14,
    "start_time": "2021-10-15T10:23:35.110Z"
   },
   {
    "duration": 42,
    "start_time": "2021-10-15T10:23:35.126Z"
   },
   {
    "duration": 16,
    "start_time": "2021-10-15T10:23:35.171Z"
   },
   {
    "duration": 16,
    "start_time": "2021-10-15T10:23:35.189Z"
   },
   {
    "duration": 23,
    "start_time": "2021-10-15T10:23:43.146Z"
   },
   {
    "duration": 5307,
    "start_time": "2021-10-15T10:25:33.577Z"
   },
   {
    "duration": 1142,
    "start_time": "2021-10-15T10:25:54.690Z"
   },
   {
    "duration": 1148,
    "start_time": "2021-10-15T10:26:08.804Z"
   },
   {
    "duration": 103,
    "start_time": "2021-10-15T10:26:12.975Z"
   },
   {
    "duration": 23,
    "start_time": "2021-10-15T10:26:13.081Z"
   },
   {
    "duration": 27,
    "start_time": "2021-10-15T10:26:13.107Z"
   },
   {
    "duration": 19,
    "start_time": "2021-10-15T10:26:13.136Z"
   },
   {
    "duration": 21,
    "start_time": "2021-10-15T10:26:13.164Z"
   },
   {
    "duration": 10,
    "start_time": "2021-10-15T10:26:13.187Z"
   },
   {
    "duration": 16,
    "start_time": "2021-10-15T10:26:13.198Z"
   },
   {
    "duration": 16,
    "start_time": "2021-10-15T10:26:13.216Z"
   },
   {
    "duration": 34,
    "start_time": "2021-10-15T10:26:13.234Z"
   },
   {
    "duration": 1369,
    "start_time": "2021-10-15T10:26:18.271Z"
   },
   {
    "duration": 9,
    "start_time": "2021-10-15T10:32:15.732Z"
   },
   {
    "duration": 97,
    "start_time": "2021-10-15T10:32:19.989Z"
   },
   {
    "duration": 16,
    "start_time": "2021-10-15T10:32:20.088Z"
   },
   {
    "duration": 18,
    "start_time": "2021-10-15T10:32:20.106Z"
   },
   {
    "duration": 11,
    "start_time": "2021-10-15T10:32:20.126Z"
   },
   {
    "duration": 27,
    "start_time": "2021-10-15T10:32:20.138Z"
   },
   {
    "duration": 10,
    "start_time": "2021-10-15T10:32:20.166Z"
   },
   {
    "duration": 18,
    "start_time": "2021-10-15T10:32:20.177Z"
   },
   {
    "duration": 19,
    "start_time": "2021-10-15T10:32:20.197Z"
   },
   {
    "duration": 19,
    "start_time": "2021-10-15T10:32:20.217Z"
   },
   {
    "duration": 28,
    "start_time": "2021-10-15T10:32:20.238Z"
   },
   {
    "duration": 22,
    "start_time": "2021-10-15T10:32:20.268Z"
   },
   {
    "duration": 3,
    "start_time": "2021-10-15T10:32:20.291Z"
   },
   {
    "duration": 124,
    "start_time": "2021-10-15T10:32:20.296Z"
   },
   {
    "duration": 10,
    "start_time": "2021-10-15T10:32:20.422Z"
   },
   {
    "duration": 33,
    "start_time": "2021-10-15T10:32:20.433Z"
   },
   {
    "duration": 15,
    "start_time": "2021-10-15T10:32:20.468Z"
   },
   {
    "duration": 23,
    "start_time": "2021-10-15T10:32:20.485Z"
   },
   {
    "duration": 41,
    "start_time": "2021-10-15T10:32:20.509Z"
   },
   {
    "duration": 6,
    "start_time": "2021-10-15T10:32:20.551Z"
   },
   {
    "duration": 17,
    "start_time": "2021-10-15T10:32:20.558Z"
   },
   {
    "duration": 36,
    "start_time": "2021-10-15T10:32:20.577Z"
   },
   {
    "duration": 12,
    "start_time": "2021-10-15T10:32:20.614Z"
   },
   {
    "duration": 123,
    "start_time": "2021-10-15T10:32:20.629Z"
   },
   {
    "duration": 12,
    "start_time": "2021-10-15T10:32:20.755Z"
   },
   {
    "duration": 14,
    "start_time": "2021-10-15T10:32:20.768Z"
   },
   {
    "duration": 34,
    "start_time": "2021-10-15T10:32:20.783Z"
   },
   {
    "duration": 3,
    "start_time": "2021-10-15T10:32:20.819Z"
   },
   {
    "duration": 1061,
    "start_time": "2021-10-15T10:32:20.823Z"
   },
   {
    "duration": 8,
    "start_time": "2021-10-15T10:32:21.886Z"
   },
   {
    "duration": 15,
    "start_time": "2021-10-15T10:32:21.895Z"
   },
   {
    "duration": 15,
    "start_time": "2021-10-15T10:32:21.911Z"
   },
   {
    "duration": 14,
    "start_time": "2021-10-15T10:32:21.928Z"
   },
   {
    "duration": 13,
    "start_time": "2021-10-15T10:32:21.944Z"
   },
   {
    "duration": 15,
    "start_time": "2021-10-15T10:32:21.959Z"
   },
   {
    "duration": 11,
    "start_time": "2021-10-15T10:32:21.976Z"
   },
   {
    "duration": 284,
    "start_time": "2021-10-15T10:32:21.989Z"
   },
   {
    "duration": -224012,
    "start_time": "2021-10-15T10:36:06.287Z"
   },
   {
    "duration": -224014,
    "start_time": "2021-10-15T10:36:06.290Z"
   },
   {
    "duration": -224017,
    "start_time": "2021-10-15T10:36:06.294Z"
   },
   {
    "duration": -224019,
    "start_time": "2021-10-15T10:36:06.297Z"
   },
   {
    "duration": -224022,
    "start_time": "2021-10-15T10:36:06.301Z"
   },
   {
    "duration": -224025,
    "start_time": "2021-10-15T10:36:06.305Z"
   },
   {
    "duration": -224027,
    "start_time": "2021-10-15T10:36:06.308Z"
   },
   {
    "duration": -224030,
    "start_time": "2021-10-15T10:36:06.312Z"
   },
   {
    "duration": -224032,
    "start_time": "2021-10-15T10:36:06.315Z"
   },
   {
    "duration": -224033,
    "start_time": "2021-10-15T10:36:06.317Z"
   },
   {
    "duration": -224037,
    "start_time": "2021-10-15T10:36:06.321Z"
   },
   {
    "duration": -224038,
    "start_time": "2021-10-15T10:36:06.323Z"
   },
   {
    "duration": -224048,
    "start_time": "2021-10-15T10:36:06.334Z"
   },
   {
    "duration": -224050,
    "start_time": "2021-10-15T10:36:06.337Z"
   },
   {
    "duration": -224052,
    "start_time": "2021-10-15T10:36:06.340Z"
   },
   {
    "duration": -224054,
    "start_time": "2021-10-15T10:36:06.343Z"
   },
   {
    "duration": -224056,
    "start_time": "2021-10-15T10:36:06.346Z"
   },
   {
    "duration": -224058,
    "start_time": "2021-10-15T10:36:06.349Z"
   },
   {
    "duration": -224060,
    "start_time": "2021-10-15T10:36:06.352Z"
   },
   {
    "duration": -224063,
    "start_time": "2021-10-15T10:36:06.355Z"
   },
   {
    "duration": -224067,
    "start_time": "2021-10-15T10:36:06.360Z"
   },
   {
    "duration": -224069,
    "start_time": "2021-10-15T10:36:06.363Z"
   },
   {
    "duration": 12,
    "start_time": "2021-10-15T10:32:35.595Z"
   },
   {
    "duration": 248,
    "start_time": "2021-10-15T10:33:06.590Z"
   },
   {
    "duration": 8,
    "start_time": "2021-10-15T10:33:11.088Z"
   },
   {
    "duration": 12,
    "start_time": "2021-10-15T10:33:13.508Z"
   },
   {
    "duration": 95,
    "start_time": "2021-10-15T10:33:24.518Z"
   },
   {
    "duration": 19,
    "start_time": "2021-10-15T10:33:24.615Z"
   },
   {
    "duration": 18,
    "start_time": "2021-10-15T10:33:24.636Z"
   },
   {
    "duration": 12,
    "start_time": "2021-10-15T10:33:24.664Z"
   },
   {
    "duration": 17,
    "start_time": "2021-10-15T10:33:24.678Z"
   },
   {
    "duration": 11,
    "start_time": "2021-10-15T10:33:24.697Z"
   },
   {
    "duration": 13,
    "start_time": "2021-10-15T10:33:24.710Z"
   },
   {
    "duration": 52,
    "start_time": "2021-10-15T10:33:24.725Z"
   },
   {
    "duration": 19,
    "start_time": "2021-10-15T10:33:24.781Z"
   },
   {
    "duration": 15,
    "start_time": "2021-10-15T10:33:24.803Z"
   },
   {
    "duration": 59,
    "start_time": "2021-10-15T10:33:24.820Z"
   },
   {
    "duration": 4,
    "start_time": "2021-10-15T10:33:24.881Z"
   },
   {
    "duration": 181,
    "start_time": "2021-10-15T10:33:24.887Z"
   },
   {
    "duration": 9,
    "start_time": "2021-10-15T10:33:25.070Z"
   },
   {
    "duration": 12,
    "start_time": "2021-10-15T10:33:25.080Z"
   },
   {
    "duration": 27,
    "start_time": "2021-10-15T10:33:25.093Z"
   },
   {
    "duration": 42,
    "start_time": "2021-10-15T10:33:25.122Z"
   },
   {
    "duration": 17,
    "start_time": "2021-10-15T10:33:25.166Z"
   },
   {
    "duration": 31,
    "start_time": "2021-10-15T10:33:25.185Z"
   },
   {
    "duration": 6,
    "start_time": "2021-10-15T10:33:25.218Z"
   },
   {
    "duration": 12,
    "start_time": "2021-10-15T10:33:25.225Z"
   },
   {
    "duration": 25,
    "start_time": "2021-10-15T10:33:25.239Z"
   },
   {
    "duration": 7,
    "start_time": "2021-10-15T10:33:25.266Z"
   },
   {
    "duration": 117,
    "start_time": "2021-10-15T10:33:25.274Z"
   },
   {
    "duration": 7,
    "start_time": "2021-10-15T10:33:25.393Z"
   },
   {
    "duration": 9,
    "start_time": "2021-10-15T10:33:25.402Z"
   },
   {
    "duration": 28,
    "start_time": "2021-10-15T10:33:25.415Z"
   },
   {
    "duration": 18,
    "start_time": "2021-10-15T10:33:25.446Z"
   },
   {
    "duration": 4056,
    "start_time": "2021-10-15T10:33:25.465Z"
   },
   {
    "duration": 8,
    "start_time": "2021-10-15T10:33:29.523Z"
   },
   {
    "duration": 5,
    "start_time": "2021-10-15T10:33:29.533Z"
   },
   {
    "duration": 28,
    "start_time": "2021-10-15T10:33:29.539Z"
   },
   {
    "duration": 3,
    "start_time": "2021-10-15T10:33:29.569Z"
   },
   {
    "duration": 14,
    "start_time": "2021-10-15T10:33:29.574Z"
   },
   {
    "duration": 18,
    "start_time": "2021-10-15T10:33:29.589Z"
   },
   {
    "duration": 7,
    "start_time": "2021-10-15T10:33:29.609Z"
   },
   {
    "duration": 263,
    "start_time": "2021-10-15T10:33:29.618Z"
   },
   {
    "duration": -224012,
    "start_time": "2021-10-15T10:37:13.895Z"
   },
   {
    "duration": -224014,
    "start_time": "2021-10-15T10:37:13.898Z"
   },
   {
    "duration": -224016,
    "start_time": "2021-10-15T10:37:13.902Z"
   },
   {
    "duration": -224018,
    "start_time": "2021-10-15T10:37:13.905Z"
   },
   {
    "duration": -224019,
    "start_time": "2021-10-15T10:37:13.908Z"
   },
   {
    "duration": -224021,
    "start_time": "2021-10-15T10:37:13.911Z"
   },
   {
    "duration": -224023,
    "start_time": "2021-10-15T10:37:13.914Z"
   },
   {
    "duration": -224024,
    "start_time": "2021-10-15T10:37:13.917Z"
   },
   {
    "duration": -224031,
    "start_time": "2021-10-15T10:37:13.925Z"
   },
   {
    "duration": -224033,
    "start_time": "2021-10-15T10:37:13.928Z"
   },
   {
    "duration": -224035,
    "start_time": "2021-10-15T10:37:13.932Z"
   },
   {
    "duration": -224036,
    "start_time": "2021-10-15T10:37:13.934Z"
   },
   {
    "duration": -224038,
    "start_time": "2021-10-15T10:37:13.937Z"
   },
   {
    "duration": -224039,
    "start_time": "2021-10-15T10:37:13.940Z"
   },
   {
    "duration": -224040,
    "start_time": "2021-10-15T10:37:13.943Z"
   },
   {
    "duration": -224041,
    "start_time": "2021-10-15T10:37:13.946Z"
   },
   {
    "duration": -224043,
    "start_time": "2021-10-15T10:37:13.949Z"
   },
   {
    "duration": -224045,
    "start_time": "2021-10-15T10:37:13.952Z"
   },
   {
    "duration": -224046,
    "start_time": "2021-10-15T10:37:13.955Z"
   },
   {
    "duration": -224049,
    "start_time": "2021-10-15T10:37:13.959Z"
   },
   {
    "duration": -224050,
    "start_time": "2021-10-15T10:37:13.962Z"
   },
   {
    "duration": -224052,
    "start_time": "2021-10-15T10:37:13.965Z"
   },
   {
    "duration": 11,
    "start_time": "2021-10-15T10:33:49.051Z"
   },
   {
    "duration": 12,
    "start_time": "2021-10-15T10:33:50.291Z"
   },
   {
    "duration": 11,
    "start_time": "2021-10-15T10:33:53.137Z"
   },
   {
    "duration": 12,
    "start_time": "2021-10-15T10:33:55.089Z"
   },
   {
    "duration": 9,
    "start_time": "2021-10-15T10:34:14.701Z"
   },
   {
    "duration": 99,
    "start_time": "2021-10-15T10:34:17.520Z"
   },
   {
    "duration": 15,
    "start_time": "2021-10-15T10:34:17.621Z"
   },
   {
    "duration": 25,
    "start_time": "2021-10-15T10:34:17.638Z"
   },
   {
    "duration": 10,
    "start_time": "2021-10-15T10:34:17.665Z"
   },
   {
    "duration": 20,
    "start_time": "2021-10-15T10:34:17.677Z"
   },
   {
    "duration": 9,
    "start_time": "2021-10-15T10:34:17.699Z"
   },
   {
    "duration": 12,
    "start_time": "2021-10-15T10:34:17.710Z"
   },
   {
    "duration": 51,
    "start_time": "2021-10-15T10:34:17.723Z"
   },
   {
    "duration": 16,
    "start_time": "2021-10-15T10:34:17.776Z"
   },
   {
    "duration": 12,
    "start_time": "2021-10-15T10:34:17.794Z"
   },
   {
    "duration": 23,
    "start_time": "2021-10-15T10:34:17.808Z"
   },
   {
    "duration": 3,
    "start_time": "2021-10-15T10:34:17.832Z"
   },
   {
    "duration": 131,
    "start_time": "2021-10-15T10:34:17.837Z"
   },
   {
    "duration": 7,
    "start_time": "2021-10-15T10:34:17.970Z"
   },
   {
    "duration": 12,
    "start_time": "2021-10-15T10:34:17.979Z"
   },
   {
    "duration": 25,
    "start_time": "2021-10-15T10:34:17.993Z"
   },
   {
    "duration": 16,
    "start_time": "2021-10-15T10:34:18.020Z"
   },
   {
    "duration": 15,
    "start_time": "2021-10-15T10:34:18.064Z"
   },
   {
    "duration": 31,
    "start_time": "2021-10-15T10:34:18.081Z"
   },
   {
    "duration": 5,
    "start_time": "2021-10-15T10:34:18.114Z"
   },
   {
    "duration": 9,
    "start_time": "2021-10-15T10:34:18.120Z"
   },
   {
    "duration": 11,
    "start_time": "2021-10-15T10:34:18.130Z"
   },
   {
    "duration": 25,
    "start_time": "2021-10-15T10:34:18.142Z"
   },
   {
    "duration": 106,
    "start_time": "2021-10-15T10:34:18.169Z"
   },
   {
    "duration": 6,
    "start_time": "2021-10-15T10:34:18.277Z"
   },
   {
    "duration": 12,
    "start_time": "2021-10-15T10:34:18.285Z"
   },
   {
    "duration": 34,
    "start_time": "2021-10-15T10:34:18.301Z"
   },
   {
    "duration": 3,
    "start_time": "2021-10-15T10:34:18.337Z"
   },
   {
    "duration": 4042,
    "start_time": "2021-10-15T10:34:18.342Z"
   },
   {
    "duration": 8,
    "start_time": "2021-10-15T10:34:22.386Z"
   },
   {
    "duration": 18,
    "start_time": "2021-10-15T10:34:22.396Z"
   },
   {
    "duration": 31,
    "start_time": "2021-10-15T10:34:22.416Z"
   },
   {
    "duration": 16,
    "start_time": "2021-10-15T10:34:22.448Z"
   },
   {
    "duration": 23,
    "start_time": "2021-10-15T10:34:22.466Z"
   },
   {
    "duration": 34,
    "start_time": "2021-10-15T10:34:22.491Z"
   },
   {
    "duration": 11,
    "start_time": "2021-10-15T10:34:22.527Z"
   },
   {
    "duration": 290,
    "start_time": "2021-10-15T10:34:22.539Z"
   },
   {
    "duration": -224016,
    "start_time": "2021-10-15T10:38:06.846Z"
   },
   {
    "duration": -224019,
    "start_time": "2021-10-15T10:38:06.850Z"
   },
   {
    "duration": -224022,
    "start_time": "2021-10-15T10:38:06.854Z"
   },
   {
    "duration": -224025,
    "start_time": "2021-10-15T10:38:06.858Z"
   },
   {
    "duration": -224029,
    "start_time": "2021-10-15T10:38:06.863Z"
   },
   {
    "duration": -224031,
    "start_time": "2021-10-15T10:38:06.866Z"
   },
   {
    "duration": -224035,
    "start_time": "2021-10-15T10:38:06.870Z"
   },
   {
    "duration": -224037,
    "start_time": "2021-10-15T10:38:06.873Z"
   },
   {
    "duration": -224049,
    "start_time": "2021-10-15T10:38:06.886Z"
   },
   {
    "duration": -224051,
    "start_time": "2021-10-15T10:38:06.889Z"
   },
   {
    "duration": -224054,
    "start_time": "2021-10-15T10:38:06.893Z"
   },
   {
    "duration": -224058,
    "start_time": "2021-10-15T10:38:06.898Z"
   },
   {
    "duration": -224062,
    "start_time": "2021-10-15T10:38:06.902Z"
   },
   {
    "duration": -224063,
    "start_time": "2021-10-15T10:38:06.905Z"
   },
   {
    "duration": -224067,
    "start_time": "2021-10-15T10:38:06.909Z"
   },
   {
    "duration": -224070,
    "start_time": "2021-10-15T10:38:06.913Z"
   },
   {
    "duration": -224073,
    "start_time": "2021-10-15T10:38:06.917Z"
   },
   {
    "duration": -224075,
    "start_time": "2021-10-15T10:38:06.920Z"
   },
   {
    "duration": -224078,
    "start_time": "2021-10-15T10:38:06.924Z"
   },
   {
    "duration": -224081,
    "start_time": "2021-10-15T10:38:06.928Z"
   },
   {
    "duration": -224085,
    "start_time": "2021-10-15T10:38:06.933Z"
   },
   {
    "duration": -224087,
    "start_time": "2021-10-15T10:38:06.936Z"
   },
   {
    "duration": 10,
    "start_time": "2021-10-15T10:34:26.204Z"
   },
   {
    "duration": 13,
    "start_time": "2021-10-15T10:34:28.216Z"
   },
   {
    "duration": 9,
    "start_time": "2021-10-15T10:34:41.231Z"
   },
   {
    "duration": 99,
    "start_time": "2021-10-15T10:34:43.576Z"
   },
   {
    "duration": 15,
    "start_time": "2021-10-15T10:34:43.676Z"
   },
   {
    "duration": 27,
    "start_time": "2021-10-15T10:34:43.693Z"
   },
   {
    "duration": 14,
    "start_time": "2021-10-15T10:34:43.722Z"
   },
   {
    "duration": 26,
    "start_time": "2021-10-15T10:34:43.738Z"
   },
   {
    "duration": 9,
    "start_time": "2021-10-15T10:34:43.766Z"
   },
   {
    "duration": 15,
    "start_time": "2021-10-15T10:34:43.777Z"
   },
   {
    "duration": 13,
    "start_time": "2021-10-15T10:34:43.794Z"
   },
   {
    "duration": 16,
    "start_time": "2021-10-15T10:34:43.810Z"
   },
   {
    "duration": 42,
    "start_time": "2021-10-15T10:34:43.828Z"
   },
   {
    "duration": 25,
    "start_time": "2021-10-15T10:34:43.872Z"
   },
   {
    "duration": 4,
    "start_time": "2021-10-15T10:34:43.899Z"
   },
   {
    "duration": 125,
    "start_time": "2021-10-15T10:34:43.905Z"
   },
   {
    "duration": 10,
    "start_time": "2021-10-15T10:34:44.032Z"
   },
   {
    "duration": 22,
    "start_time": "2021-10-15T10:34:44.043Z"
   },
   {
    "duration": 25,
    "start_time": "2021-10-15T10:34:44.067Z"
   },
   {
    "duration": 17,
    "start_time": "2021-10-15T10:34:44.094Z"
   },
   {
    "duration": 17,
    "start_time": "2021-10-15T10:34:44.113Z"
   },
   {
    "duration": 28,
    "start_time": "2021-10-15T10:34:44.163Z"
   },
   {
    "duration": 7,
    "start_time": "2021-10-15T10:34:44.193Z"
   },
   {
    "duration": 10,
    "start_time": "2021-10-15T10:34:44.202Z"
   },
   {
    "duration": 9,
    "start_time": "2021-10-15T10:34:44.214Z"
   },
   {
    "duration": 5,
    "start_time": "2021-10-15T10:34:44.225Z"
   },
   {
    "duration": 139,
    "start_time": "2021-10-15T10:34:44.231Z"
   },
   {
    "duration": 8,
    "start_time": "2021-10-15T10:34:44.372Z"
   },
   {
    "duration": 7,
    "start_time": "2021-10-15T10:34:44.382Z"
   },
   {
    "duration": 28,
    "start_time": "2021-10-15T10:34:44.392Z"
   },
   {
    "duration": 3,
    "start_time": "2021-10-15T10:34:44.423Z"
   },
   {
    "duration": 3928,
    "start_time": "2021-10-15T10:34:44.427Z"
   },
   {
    "duration": 8,
    "start_time": "2021-10-15T10:34:48.357Z"
   },
   {
    "duration": 20,
    "start_time": "2021-10-15T10:34:48.366Z"
   },
   {
    "duration": 10,
    "start_time": "2021-10-15T10:34:48.387Z"
   },
   {
    "duration": 5,
    "start_time": "2021-10-15T10:34:48.399Z"
   },
   {
    "duration": 23,
    "start_time": "2021-10-15T10:34:48.406Z"
   },
   {
    "duration": 22,
    "start_time": "2021-10-15T10:34:48.431Z"
   },
   {
    "duration": 13,
    "start_time": "2021-10-15T10:34:48.455Z"
   },
   {
    "duration": 398,
    "start_time": "2021-10-15T10:34:48.470Z"
   },
   {
    "duration": -224012,
    "start_time": "2021-10-15T10:38:32.882Z"
   },
   {
    "duration": -224014,
    "start_time": "2021-10-15T10:38:32.885Z"
   },
   {
    "duration": -224016,
    "start_time": "2021-10-15T10:38:32.888Z"
   },
   {
    "duration": -224018,
    "start_time": "2021-10-15T10:38:32.891Z"
   },
   {
    "duration": -224021,
    "start_time": "2021-10-15T10:38:32.895Z"
   },
   {
    "duration": -224024,
    "start_time": "2021-10-15T10:38:32.899Z"
   },
   {
    "duration": -224027,
    "start_time": "2021-10-15T10:38:32.903Z"
   },
   {
    "duration": -224029,
    "start_time": "2021-10-15T10:38:32.906Z"
   },
   {
    "duration": -224032,
    "start_time": "2021-10-15T10:38:32.909Z"
   },
   {
    "duration": -224034,
    "start_time": "2021-10-15T10:38:32.912Z"
   },
   {
    "duration": -224036,
    "start_time": "2021-10-15T10:38:32.915Z"
   },
   {
    "duration": -224043,
    "start_time": "2021-10-15T10:38:32.923Z"
   },
   {
    "duration": -224047,
    "start_time": "2021-10-15T10:38:32.928Z"
   },
   {
    "duration": -224049,
    "start_time": "2021-10-15T10:38:32.931Z"
   },
   {
    "duration": -224051,
    "start_time": "2021-10-15T10:38:32.934Z"
   },
   {
    "duration": -224052,
    "start_time": "2021-10-15T10:38:32.936Z"
   },
   {
    "duration": -224055,
    "start_time": "2021-10-15T10:38:32.940Z"
   },
   {
    "duration": -224057,
    "start_time": "2021-10-15T10:38:32.943Z"
   },
   {
    "duration": -224060,
    "start_time": "2021-10-15T10:38:32.947Z"
   },
   {
    "duration": -224062,
    "start_time": "2021-10-15T10:38:32.950Z"
   },
   {
    "duration": -224065,
    "start_time": "2021-10-15T10:38:32.954Z"
   },
   {
    "duration": -224066,
    "start_time": "2021-10-15T10:38:32.956Z"
   },
   {
    "duration": -224069,
    "start_time": "2021-10-15T10:38:32.960Z"
   },
   {
    "duration": 13,
    "start_time": "2021-10-15T10:34:52.148Z"
   },
   {
    "duration": 9,
    "start_time": "2021-10-15T10:36:03.790Z"
   },
   {
    "duration": 12,
    "start_time": "2021-10-15T10:36:04.727Z"
   },
   {
    "duration": 97,
    "start_time": "2021-10-15T10:36:08.943Z"
   },
   {
    "duration": 21,
    "start_time": "2021-10-15T10:36:09.042Z"
   },
   {
    "duration": 19,
    "start_time": "2021-10-15T10:36:09.065Z"
   },
   {
    "duration": 9,
    "start_time": "2021-10-15T10:36:09.086Z"
   },
   {
    "duration": 16,
    "start_time": "2021-10-15T10:36:09.097Z"
   },
   {
    "duration": 9,
    "start_time": "2021-10-15T10:36:09.114Z"
   },
   {
    "duration": 50,
    "start_time": "2021-10-15T10:36:09.125Z"
   },
   {
    "duration": 14,
    "start_time": "2021-10-15T10:36:09.178Z"
   },
   {
    "duration": 15,
    "start_time": "2021-10-15T10:36:09.194Z"
   },
   {
    "duration": 12,
    "start_time": "2021-10-15T10:36:09.211Z"
   },
   {
    "duration": 50,
    "start_time": "2021-10-15T10:36:09.224Z"
   },
   {
    "duration": 3,
    "start_time": "2021-10-15T10:36:09.276Z"
   },
   {
    "duration": 117,
    "start_time": "2021-10-15T10:36:09.281Z"
   },
   {
    "duration": 14,
    "start_time": "2021-10-15T10:36:09.400Z"
   },
   {
    "duration": 13,
    "start_time": "2021-10-15T10:36:09.416Z"
   },
   {
    "duration": 43,
    "start_time": "2021-10-15T10:36:09.431Z"
   },
   {
    "duration": 16,
    "start_time": "2021-10-15T10:36:09.476Z"
   },
   {
    "duration": 17,
    "start_time": "2021-10-15T10:36:09.494Z"
   },
   {
    "duration": 59,
    "start_time": "2021-10-15T10:36:09.513Z"
   },
   {
    "duration": 6,
    "start_time": "2021-10-15T10:36:09.574Z"
   },
   {
    "duration": 12,
    "start_time": "2021-10-15T10:36:09.582Z"
   },
   {
    "duration": 11,
    "start_time": "2021-10-15T10:36:09.596Z"
   },
   {
    "duration": 4,
    "start_time": "2021-10-15T10:36:09.608Z"
   },
   {
    "duration": 132,
    "start_time": "2021-10-15T10:36:09.614Z"
   },
   {
    "duration": 7,
    "start_time": "2021-10-15T10:36:09.747Z"
   },
   {
    "duration": 6,
    "start_time": "2021-10-15T10:36:09.763Z"
   },
   {
    "duration": 25,
    "start_time": "2021-10-15T10:36:09.773Z"
   },
   {
    "duration": 3,
    "start_time": "2021-10-15T10:36:09.800Z"
   },
   {
    "duration": 255,
    "start_time": "2021-10-15T10:36:09.804Z"
   },
   {
    "duration": 7,
    "start_time": "2021-10-15T10:36:10.063Z"
   },
   {
    "duration": 14,
    "start_time": "2021-10-15T10:36:10.071Z"
   },
   {
    "duration": 11,
    "start_time": "2021-10-15T10:36:10.087Z"
   },
   {
    "duration": 4,
    "start_time": "2021-10-15T10:36:10.099Z"
   },
   {
    "duration": 12,
    "start_time": "2021-10-15T10:36:10.105Z"
   },
   {
    "duration": 12,
    "start_time": "2021-10-15T10:36:10.119Z"
   },
   {
    "duration": 8,
    "start_time": "2021-10-15T10:36:10.133Z"
   },
   {
    "duration": 5,
    "start_time": "2021-10-15T10:36:10.162Z"
   },
   {
    "duration": 10,
    "start_time": "2021-10-15T10:36:10.169Z"
   },
   {
    "duration": 198,
    "start_time": "2021-10-15T10:36:10.181Z"
   },
   {
    "duration": 9,
    "start_time": "2021-10-15T10:36:10.381Z"
   },
   {
    "duration": 4,
    "start_time": "2021-10-15T10:36:10.392Z"
   },
   {
    "duration": 10,
    "start_time": "2021-10-15T10:36:10.398Z"
   },
   {
    "duration": 57,
    "start_time": "2021-10-15T10:36:10.410Z"
   },
   {
    "duration": 420,
    "start_time": "2021-10-15T10:36:10.469Z"
   },
   {
    "duration": 21,
    "start_time": "2021-10-15T10:36:10.891Z"
   },
   {
    "duration": 17,
    "start_time": "2021-10-15T10:36:10.914Z"
   },
   {
    "duration": 30,
    "start_time": "2021-10-15T10:36:10.933Z"
   },
   {
    "duration": 1259,
    "start_time": "2021-10-15T10:36:10.965Z"
   },
   {
    "duration": 49,
    "start_time": "2021-10-15T10:36:12.226Z"
   },
   {
    "duration": 7,
    "start_time": "2021-10-15T10:36:12.277Z"
   },
   {
    "duration": 16,
    "start_time": "2021-10-15T10:36:12.286Z"
   },
   {
    "duration": 17,
    "start_time": "2021-10-15T10:36:12.304Z"
   },
   {
    "duration": 6,
    "start_time": "2021-10-15T10:36:12.323Z"
   },
   {
    "duration": 34,
    "start_time": "2021-10-15T10:36:12.331Z"
   },
   {
    "duration": 8,
    "start_time": "2021-10-15T10:36:12.366Z"
   },
   {
    "duration": 7,
    "start_time": "2021-10-15T10:36:12.376Z"
   },
   {
    "duration": 10,
    "start_time": "2021-10-15T10:36:12.385Z"
   },
   {
    "duration": 16,
    "start_time": "2021-10-15T10:36:12.397Z"
   },
   {
    "duration": 65,
    "start_time": "2021-10-15T10:36:12.415Z"
   },
   {
    "duration": 11,
    "start_time": "2021-10-15T10:36:15.651Z"
   },
   {
    "duration": 12,
    "start_time": "2021-10-15T10:36:19.947Z"
   },
   {
    "duration": 388,
    "start_time": "2021-10-16T01:20:00.024Z"
   },
   {
    "duration": 1132,
    "start_time": "2021-10-16T01:20:03.775Z"
   },
   {
    "duration": 66,
    "start_time": "2021-10-16T01:20:04.910Z"
   },
   {
    "duration": 83,
    "start_time": "2021-10-16T01:20:04.979Z"
   },
   {
    "duration": 15,
    "start_time": "2021-10-16T01:20:05.065Z"
   },
   {
    "duration": 89,
    "start_time": "2021-10-16T01:20:05.082Z"
   },
   {
    "duration": 12,
    "start_time": "2021-10-16T01:20:05.173Z"
   },
   {
    "duration": 17,
    "start_time": "2021-10-16T01:20:05.188Z"
   },
   {
    "duration": 17,
    "start_time": "2021-10-16T01:20:05.263Z"
   },
   {
    "duration": 78,
    "start_time": "2021-10-16T01:20:05.284Z"
   },
   {
    "duration": 18,
    "start_time": "2021-10-16T01:20:05.365Z"
   },
   {
    "duration": 90,
    "start_time": "2021-10-16T01:20:05.385Z"
   },
   {
    "duration": 4,
    "start_time": "2021-10-16T01:20:05.478Z"
   },
   {
    "duration": 265,
    "start_time": "2021-10-16T01:20:05.485Z"
   },
   {
    "duration": 21,
    "start_time": "2021-10-16T01:20:05.752Z"
   },
   {
    "duration": 32,
    "start_time": "2021-10-16T01:20:05.776Z"
   },
   {
    "duration": 52,
    "start_time": "2021-10-16T01:20:05.810Z"
   },
   {
    "duration": 363,
    "start_time": "2021-10-16T01:20:05.865Z"
   },
   {
    "duration": -224223,
    "start_time": "2021-10-16T01:23:50.456Z"
   },
   {
    "duration": -224227,
    "start_time": "2021-10-16T01:23:50.461Z"
   },
   {
    "duration": -224235,
    "start_time": "2021-10-16T01:23:50.471Z"
   },
   {
    "duration": -224238,
    "start_time": "2021-10-16T01:23:50.475Z"
   },
   {
    "duration": -224241,
    "start_time": "2021-10-16T01:23:50.480Z"
   },
   {
    "duration": -224251,
    "start_time": "2021-10-16T01:23:50.491Z"
   },
   {
    "duration": -224254,
    "start_time": "2021-10-16T01:23:50.496Z"
   },
   {
    "duration": -224262,
    "start_time": "2021-10-16T01:23:50.505Z"
   },
   {
    "duration": -224264,
    "start_time": "2021-10-16T01:23:50.509Z"
   },
   {
    "duration": -224266,
    "start_time": "2021-10-16T01:23:50.513Z"
   },
   {
    "duration": -224274,
    "start_time": "2021-10-16T01:23:50.522Z"
   },
   {
    "duration": -224276,
    "start_time": "2021-10-16T01:23:50.525Z"
   },
   {
    "duration": -224278,
    "start_time": "2021-10-16T01:23:50.529Z"
   },
   {
    "duration": -224281,
    "start_time": "2021-10-16T01:23:50.533Z"
   },
   {
    "duration": -224283,
    "start_time": "2021-10-16T01:23:50.536Z"
   },
   {
    "duration": -224286,
    "start_time": "2021-10-16T01:23:50.541Z"
   },
   {
    "duration": -224289,
    "start_time": "2021-10-16T01:23:50.546Z"
   },
   {
    "duration": -224291,
    "start_time": "2021-10-16T01:23:50.549Z"
   },
   {
    "duration": -224293,
    "start_time": "2021-10-16T01:23:50.552Z"
   },
   {
    "duration": -224300,
    "start_time": "2021-10-16T01:23:50.561Z"
   },
   {
    "duration": -224305,
    "start_time": "2021-10-16T01:23:50.567Z"
   },
   {
    "duration": -224308,
    "start_time": "2021-10-16T01:23:50.572Z"
   },
   {
    "duration": -224312,
    "start_time": "2021-10-16T01:23:50.577Z"
   },
   {
    "duration": -224315,
    "start_time": "2021-10-16T01:23:50.582Z"
   },
   {
    "duration": -224319,
    "start_time": "2021-10-16T01:23:50.587Z"
   },
   {
    "duration": -224322,
    "start_time": "2021-10-16T01:23:50.591Z"
   },
   {
    "duration": -224324,
    "start_time": "2021-10-16T01:23:50.595Z"
   },
   {
    "duration": -224325,
    "start_time": "2021-10-16T01:23:50.598Z"
   },
   {
    "duration": -224328,
    "start_time": "2021-10-16T01:23:50.602Z"
   },
   {
    "duration": -224330,
    "start_time": "2021-10-16T01:23:50.606Z"
   },
   {
    "duration": -224333,
    "start_time": "2021-10-16T01:23:50.610Z"
   },
   {
    "duration": -224336,
    "start_time": "2021-10-16T01:23:50.614Z"
   },
   {
    "duration": -224339,
    "start_time": "2021-10-16T01:23:50.618Z"
   },
   {
    "duration": -224351,
    "start_time": "2021-10-16T01:23:50.632Z"
   },
   {
    "duration": -224354,
    "start_time": "2021-10-16T01:23:50.636Z"
   },
   {
    "duration": -224370,
    "start_time": "2021-10-16T01:23:50.654Z"
   },
   {
    "duration": -224372,
    "start_time": "2021-10-16T01:23:50.657Z"
   },
   {
    "duration": -224375,
    "start_time": "2021-10-16T01:23:50.662Z"
   },
   {
    "duration": -224379,
    "start_time": "2021-10-16T01:23:50.667Z"
   },
   {
    "duration": -224379,
    "start_time": "2021-10-16T01:23:50.669Z"
   },
   {
    "duration": -224382,
    "start_time": "2021-10-16T01:23:50.673Z"
   },
   {
    "duration": 42,
    "start_time": "2021-10-16T01:21:08.823Z"
   },
   {
    "duration": 11,
    "start_time": "2021-10-16T01:21:23.135Z"
   },
   {
    "duration": 110,
    "start_time": "2021-10-16T01:21:25.837Z"
   },
   {
    "duration": 29,
    "start_time": "2021-10-16T01:21:25.950Z"
   },
   {
    "duration": 30,
    "start_time": "2021-10-16T01:21:25.983Z"
   },
   {
    "duration": 55,
    "start_time": "2021-10-16T01:21:26.017Z"
   },
   {
    "duration": 32,
    "start_time": "2021-10-16T01:21:26.075Z"
   },
   {
    "duration": 14,
    "start_time": "2021-10-16T01:21:26.110Z"
   },
   {
    "duration": 51,
    "start_time": "2021-10-16T01:21:26.127Z"
   },
   {
    "duration": 19,
    "start_time": "2021-10-16T01:21:26.181Z"
   },
   {
    "duration": 21,
    "start_time": "2021-10-16T01:21:26.206Z"
   },
   {
    "duration": 18,
    "start_time": "2021-10-16T01:21:26.262Z"
   },
   {
    "duration": 34,
    "start_time": "2021-10-16T01:21:26.282Z"
   },
   {
    "duration": 5,
    "start_time": "2021-10-16T01:21:26.318Z"
   },
   {
    "duration": 217,
    "start_time": "2021-10-16T01:21:26.326Z"
   },
   {
    "duration": 24,
    "start_time": "2021-10-16T01:21:26.546Z"
   },
   {
    "duration": 30,
    "start_time": "2021-10-16T01:21:26.572Z"
   },
   {
    "duration": 25,
    "start_time": "2021-10-16T01:21:26.605Z"
   },
   {
    "duration": 37,
    "start_time": "2021-10-16T01:21:26.632Z"
   },
   {
    "duration": 52,
    "start_time": "2021-10-16T01:21:26.672Z"
   },
   {
    "duration": 8,
    "start_time": "2021-10-16T01:21:26.728Z"
   },
   {
    "duration": 9,
    "start_time": "2021-10-16T01:21:26.762Z"
   },
   {
    "duration": 12,
    "start_time": "2021-10-16T01:21:26.773Z"
   },
   {
    "duration": 12,
    "start_time": "2021-10-16T01:21:26.788Z"
   },
   {
    "duration": 196,
    "start_time": "2021-10-16T01:21:26.802Z"
   },
   {
    "duration": 66,
    "start_time": "2021-10-16T01:21:27.001Z"
   },
   {
    "duration": 14,
    "start_time": "2021-10-16T01:21:27.069Z"
   },
   {
    "duration": 86,
    "start_time": "2021-10-16T01:21:27.085Z"
   },
   {
    "duration": 4,
    "start_time": "2021-10-16T01:21:27.176Z"
   },
   {
    "duration": 746,
    "start_time": "2021-10-16T01:21:27.183Z"
   },
   {
    "duration": 9,
    "start_time": "2021-10-16T01:21:27.932Z"
   },
   {
    "duration": 18,
    "start_time": "2021-10-16T01:21:27.944Z"
   },
   {
    "duration": 12,
    "start_time": "2021-10-16T01:21:27.964Z"
   },
   {
    "duration": 5,
    "start_time": "2021-10-16T01:21:27.978Z"
   },
   {
    "duration": 20,
    "start_time": "2021-10-16T01:21:27.985Z"
   },
   {
    "duration": 19,
    "start_time": "2021-10-16T01:21:28.007Z"
   },
   {
    "duration": 38,
    "start_time": "2021-10-16T01:21:28.028Z"
   },
   {
    "duration": 6,
    "start_time": "2021-10-16T01:21:28.068Z"
   },
   {
    "duration": 15,
    "start_time": "2021-10-16T01:21:28.077Z"
   },
   {
    "duration": 236,
    "start_time": "2021-10-16T01:21:28.094Z"
   },
   {
    "duration": 12,
    "start_time": "2021-10-16T01:21:28.332Z"
   },
   {
    "duration": 7,
    "start_time": "2021-10-16T01:21:28.362Z"
   },
   {
    "duration": 10,
    "start_time": "2021-10-16T01:21:28.372Z"
   },
   {
    "duration": 24,
    "start_time": "2021-10-16T01:21:28.384Z"
   },
   {
    "duration": 381,
    "start_time": "2021-10-16T01:21:28.410Z"
   },
   {
    "duration": 31,
    "start_time": "2021-10-16T01:21:28.794Z"
   },
   {
    "duration": 46,
    "start_time": "2021-10-16T01:21:28.827Z"
   },
   {
    "duration": 7,
    "start_time": "2021-10-16T01:21:28.875Z"
   },
   {
    "duration": 2015,
    "start_time": "2021-10-16T01:21:28.884Z"
   },
   {
    "duration": 83,
    "start_time": "2021-10-16T01:21:30.901Z"
   },
   {
    "duration": 8,
    "start_time": "2021-10-16T01:21:30.987Z"
   },
   {
    "duration": 38,
    "start_time": "2021-10-16T01:21:30.997Z"
   },
   {
    "duration": 33,
    "start_time": "2021-10-16T01:21:31.037Z"
   },
   {
    "duration": 13,
    "start_time": "2021-10-16T01:21:31.073Z"
   },
   {
    "duration": 13,
    "start_time": "2021-10-16T01:21:31.088Z"
   },
   {
    "duration": 26,
    "start_time": "2021-10-16T01:21:31.103Z"
   },
   {
    "duration": 20,
    "start_time": "2021-10-16T01:21:31.131Z"
   },
   {
    "duration": 12,
    "start_time": "2021-10-16T01:21:31.162Z"
   },
   {
    "duration": 31,
    "start_time": "2021-10-16T01:21:31.176Z"
   },
   {
    "duration": 105,
    "start_time": "2021-10-16T01:21:31.210Z"
   },
   {
    "duration": 385,
    "start_time": "2021-10-16T09:40:32.543Z"
   },
   {
    "duration": 1058,
    "start_time": "2021-10-16T09:42:35.070Z"
   },
   {
    "duration": 26,
    "start_time": "2021-10-16T09:42:36.131Z"
   },
   {
    "duration": 29,
    "start_time": "2021-10-16T09:42:36.160Z"
   },
   {
    "duration": 22,
    "start_time": "2021-10-16T09:42:36.192Z"
   },
   {
    "duration": 27,
    "start_time": "2021-10-16T09:42:36.216Z"
   },
   {
    "duration": 12,
    "start_time": "2021-10-16T09:42:36.246Z"
   },
   {
    "duration": 53,
    "start_time": "2021-10-16T09:42:36.261Z"
   },
   {
    "duration": 25,
    "start_time": "2021-10-16T09:42:36.317Z"
   },
   {
    "duration": 36,
    "start_time": "2021-10-16T09:42:36.400Z"
   },
   {
    "duration": 79,
    "start_time": "2021-10-16T09:42:36.441Z"
   },
   {
    "duration": 106,
    "start_time": "2021-10-16T09:42:36.523Z"
   },
   {
    "duration": 7,
    "start_time": "2021-10-16T09:42:36.632Z"
   },
   {
    "duration": 377,
    "start_time": "2021-10-16T09:42:36.641Z"
   },
   {
    "duration": 15,
    "start_time": "2021-10-16T09:42:37.021Z"
   },
   {
    "duration": 82,
    "start_time": "2021-10-16T09:42:37.039Z"
   },
   {
    "duration": 79,
    "start_time": "2021-10-16T09:42:37.123Z"
   },
   {
    "duration": 28,
    "start_time": "2021-10-16T09:42:37.204Z"
   },
   {
    "duration": 94,
    "start_time": "2021-10-16T09:42:37.235Z"
   },
   {
    "duration": 9,
    "start_time": "2021-10-16T09:42:37.332Z"
   },
   {
    "duration": 15,
    "start_time": "2021-10-16T09:42:37.343Z"
   },
   {
    "duration": 11,
    "start_time": "2021-10-16T09:42:37.360Z"
   },
   {
    "duration": 4,
    "start_time": "2021-10-16T09:42:37.401Z"
   },
   {
    "duration": 192,
    "start_time": "2021-10-16T09:42:37.408Z"
   },
   {
    "duration": 10,
    "start_time": "2021-10-16T09:42:37.603Z"
   },
   {
    "duration": 8,
    "start_time": "2021-10-16T09:42:37.616Z"
   },
   {
    "duration": 37,
    "start_time": "2021-10-16T09:42:37.626Z"
   },
   {
    "duration": 32,
    "start_time": "2021-10-16T09:42:37.668Z"
   },
   {
    "duration": 458,
    "start_time": "2021-10-16T09:42:37.703Z"
   },
   {
    "duration": 12,
    "start_time": "2021-10-16T09:42:38.163Z"
   },
   {
    "duration": 27,
    "start_time": "2021-10-16T09:42:38.178Z"
   },
   {
    "duration": 12,
    "start_time": "2021-10-16T09:42:38.208Z"
   },
   {
    "duration": 5,
    "start_time": "2021-10-16T09:42:38.222Z"
   },
   {
    "duration": 18,
    "start_time": "2021-10-16T09:42:38.230Z"
   },
   {
    "duration": 55,
    "start_time": "2021-10-16T09:42:38.251Z"
   },
   {
    "duration": 10,
    "start_time": "2021-10-16T09:42:38.309Z"
   },
   {
    "duration": 13,
    "start_time": "2021-10-16T09:42:38.322Z"
   },
   {
    "duration": 13,
    "start_time": "2021-10-16T09:42:38.337Z"
   },
   {
    "duration": 15,
    "start_time": "2021-10-16T09:42:38.353Z"
   },
   {
    "duration": 419,
    "start_time": "2021-10-16T09:42:38.371Z"
   },
   {
    "duration": -224578,
    "start_time": "2021-10-16T09:46:23.370Z"
   },
   {
    "duration": -224586,
    "start_time": "2021-10-16T09:46:23.380Z"
   },
   {
    "duration": -224593,
    "start_time": "2021-10-16T09:46:23.388Z"
   },
   {
    "duration": -224598,
    "start_time": "2021-10-16T09:46:23.394Z"
   },
   {
    "duration": -224605,
    "start_time": "2021-10-16T09:46:23.402Z"
   },
   {
    "duration": -224610,
    "start_time": "2021-10-16T09:46:23.408Z"
   },
   {
    "duration": -224616,
    "start_time": "2021-10-16T09:46:23.416Z"
   },
   {
    "duration": -224623,
    "start_time": "2021-10-16T09:46:23.424Z"
   },
   {
    "duration": -224630,
    "start_time": "2021-10-16T09:46:23.432Z"
   },
   {
    "duration": -224635,
    "start_time": "2021-10-16T09:46:23.439Z"
   },
   {
    "duration": -224652,
    "start_time": "2021-10-16T09:46:23.457Z"
   },
   {
    "duration": -224659,
    "start_time": "2021-10-16T09:46:23.465Z"
   },
   {
    "duration": -224665,
    "start_time": "2021-10-16T09:46:23.472Z"
   },
   {
    "duration": -224670,
    "start_time": "2021-10-16T09:46:23.478Z"
   },
   {
    "duration": -224678,
    "start_time": "2021-10-16T09:46:23.487Z"
   },
   {
    "duration": -224682,
    "start_time": "2021-10-16T09:46:23.493Z"
   },
   {
    "duration": -224691,
    "start_time": "2021-10-16T09:46:23.503Z"
   },
   {
    "duration": -224696,
    "start_time": "2021-10-16T09:46:23.509Z"
   },
   {
    "duration": 7,
    "start_time": "2021-10-16T09:43:14.409Z"
   },
   {
    "duration": 415,
    "start_time": "2021-10-16T09:43:37.308Z"
   },
   {
    "duration": 342,
    "start_time": "2021-10-16T09:43:55.492Z"
   },
   {
    "duration": 297,
    "start_time": "2021-10-16T09:44:10.725Z"
   },
   {
    "duration": 326,
    "start_time": "2021-10-16T09:45:13.744Z"
   },
   {
    "duration": 19,
    "start_time": "2021-10-16T09:45:17.279Z"
   },
   {
    "duration": 427,
    "start_time": "2021-10-16T09:45:18.454Z"
   },
   {
    "duration": 33,
    "start_time": "2021-10-16T12:09:57.763Z"
   },
   {
    "duration": 26,
    "start_time": "2021-10-16T12:10:06.139Z"
   },
   {
    "duration": 333,
    "start_time": "2021-10-16T12:10:40.977Z"
   },
   {
    "duration": 7,
    "start_time": "2021-10-16T12:10:45.277Z"
   },
   {
    "duration": 3110,
    "start_time": "2021-10-16T12:10:45.860Z"
   },
   {
    "duration": 3904,
    "start_time": "2021-10-16T12:13:58.296Z"
   },
   {
    "duration": 7,
    "start_time": "2021-10-16T12:20:47.222Z"
   },
   {
    "duration": 7,
    "start_time": "2021-10-16T12:22:01.378Z"
   },
   {
    "duration": 852,
    "start_time": "2021-10-16T12:22:14.909Z"
   },
   {
    "duration": 573,
    "start_time": "2021-10-16T12:22:56.479Z"
   },
   {
    "duration": 28,
    "start_time": "2021-10-16T12:23:01.432Z"
   },
   {
    "duration": 11,
    "start_time": "2021-10-16T12:23:07.032Z"
   },
   {
    "duration": 16,
    "start_time": "2021-10-16T12:23:13.838Z"
   },
   {
    "duration": 11,
    "start_time": "2021-10-16T12:24:09.828Z"
   },
   {
    "duration": 344,
    "start_time": "2021-10-16T12:25:42.696Z"
   },
   {
    "duration": 1555,
    "start_time": "2021-10-16T12:26:00.598Z"
   },
   {
    "duration": 430,
    "start_time": "2021-10-16T12:26:34.788Z"
   },
   {
    "duration": 439,
    "start_time": "2021-10-16T12:27:17.466Z"
   },
   {
    "duration": 538,
    "start_time": "2021-10-16T12:27:32.802Z"
   },
   {
    "duration": 19,
    "start_time": "2021-10-16T12:41:01.603Z"
   },
   {
    "duration": 8277,
    "start_time": "2021-10-16T12:41:20.548Z"
   },
   {
    "duration": 22,
    "start_time": "2021-10-16T12:42:10.898Z"
   },
   {
    "duration": 357,
    "start_time": "2021-10-16T12:42:30.389Z"
   },
   {
    "duration": 20,
    "start_time": "2021-10-16T12:42:42.599Z"
   },
   {
    "duration": 344,
    "start_time": "2021-10-16T12:43:09.465Z"
   },
   {
    "duration": 19,
    "start_time": "2021-10-16T12:44:04.353Z"
   },
   {
    "duration": 26,
    "start_time": "2021-10-16T12:50:15.917Z"
   },
   {
    "duration": 7,
    "start_time": "2021-10-16T12:51:18.907Z"
   },
   {
    "duration": 335,
    "start_time": "2021-10-16T12:51:42.058Z"
   },
   {
    "duration": 252,
    "start_time": "2021-10-16T12:51:58.328Z"
   },
   {
    "duration": 29,
    "start_time": "2021-10-16T12:52:05.413Z"
   },
   {
    "duration": 2477,
    "start_time": "2021-10-16T12:57:57.538Z"
   },
   {
    "duration": 346,
    "start_time": "2021-10-16T12:59:54.797Z"
   },
   {
    "duration": 36,
    "start_time": "2021-10-16T13:00:05.988Z"
   },
   {
    "duration": 336,
    "start_time": "2021-10-16T13:01:18.630Z"
   },
   {
    "duration": 18,
    "start_time": "2021-10-16T13:01:29.125Z"
   },
   {
    "duration": 341,
    "start_time": "2021-10-16T13:01:42.180Z"
   },
   {
    "duration": 179,
    "start_time": "2021-10-16T13:03:12.733Z"
   },
   {
    "duration": 18,
    "start_time": "2021-10-16T13:03:44.284Z"
   },
   {
    "duration": 24,
    "start_time": "2021-10-16T13:04:19.828Z"
   },
   {
    "duration": 24,
    "start_time": "2021-10-16T13:04:24.917Z"
   },
   {
    "duration": 2880,
    "start_time": "2021-10-16T13:04:27.473Z"
   },
   {
    "duration": 2280,
    "start_time": "2021-10-16T13:04:37.747Z"
   },
   {
    "duration": 26,
    "start_time": "2021-10-16T13:05:06.654Z"
   },
   {
    "duration": 387,
    "start_time": "2021-10-16T13:05:32.888Z"
   },
   {
    "duration": 352,
    "start_time": "2021-10-16T13:05:49.804Z"
   },
   {
    "duration": 29,
    "start_time": "2021-10-16T13:06:07.284Z"
   },
   {
    "duration": 29,
    "start_time": "2021-10-16T13:14:38.031Z"
   },
   {
    "duration": 165,
    "start_time": "2021-10-16T13:14:40.990Z"
   },
   {
    "duration": 336,
    "start_time": "2021-10-16T13:14:50.214Z"
   },
   {
    "duration": 9177,
    "start_time": "2021-10-16T13:15:17.863Z"
   },
   {
    "duration": 11245,
    "start_time": "2021-10-16T13:15:40.323Z"
   },
   {
    "duration": 2850,
    "start_time": "2021-10-16T13:15:57.895Z"
   },
   {
    "duration": 11,
    "start_time": "2021-10-16T13:16:26.385Z"
   },
   {
    "duration": 349,
    "start_time": "2021-10-16T13:16:58.735Z"
   },
   {
    "duration": 353,
    "start_time": "2021-10-16T13:17:02.348Z"
   },
   {
    "duration": 371,
    "start_time": "2021-10-16T13:17:06.581Z"
   },
   {
    "duration": 23,
    "start_time": "2021-10-16T13:17:18.312Z"
   },
   {
    "duration": 1320,
    "start_time": "2021-10-16T13:17:54.097Z"
   },
   {
    "duration": 1310,
    "start_time": "2021-10-16T13:18:13.803Z"
   },
   {
    "duration": 30,
    "start_time": "2021-10-16T13:22:02.489Z"
   },
   {
    "duration": 322,
    "start_time": "2021-10-16T13:22:43.409Z"
   },
   {
    "duration": 402,
    "start_time": "2021-10-16T13:22:58.798Z"
   },
   {
    "duration": 579,
    "start_time": "2021-10-16T13:23:08.829Z"
   },
   {
    "duration": 489,
    "start_time": "2021-10-16T13:24:14.411Z"
   },
   {
    "duration": 399,
    "start_time": "2021-10-16T13:24:25.207Z"
   },
   {
    "duration": 411,
    "start_time": "2021-10-16T13:25:25.185Z"
   },
   {
    "duration": 125,
    "start_time": "2021-10-16T13:25:27.582Z"
   },
   {
    "duration": 24,
    "start_time": "2021-10-16T13:25:27.710Z"
   },
   {
    "duration": 65,
    "start_time": "2021-10-16T13:25:27.737Z"
   },
   {
    "duration": 14,
    "start_time": "2021-10-16T13:25:27.805Z"
   },
   {
    "duration": 30,
    "start_time": "2021-10-16T13:25:27.821Z"
   },
   {
    "duration": 47,
    "start_time": "2021-10-16T13:25:27.853Z"
   },
   {
    "duration": 19,
    "start_time": "2021-10-16T13:25:27.903Z"
   },
   {
    "duration": 18,
    "start_time": "2021-10-16T13:25:27.925Z"
   },
   {
    "duration": 54,
    "start_time": "2021-10-16T13:25:27.948Z"
   },
   {
    "duration": 18,
    "start_time": "2021-10-16T13:25:28.005Z"
   },
   {
    "duration": 33,
    "start_time": "2021-10-16T13:25:28.025Z"
   },
   {
    "duration": 4,
    "start_time": "2021-10-16T13:25:28.061Z"
   },
   {
    "duration": 214,
    "start_time": "2021-10-16T13:25:28.067Z"
   },
   {
    "duration": 22,
    "start_time": "2021-10-16T13:25:28.284Z"
   },
   {
    "duration": 32,
    "start_time": "2021-10-16T13:25:28.309Z"
   },
   {
    "duration": 25,
    "start_time": "2021-10-16T13:25:28.343Z"
   },
   {
    "duration": 54,
    "start_time": "2021-10-16T13:25:28.371Z"
   },
   {
    "duration": 42,
    "start_time": "2021-10-16T13:25:28.428Z"
   },
   {
    "duration": 29,
    "start_time": "2021-10-16T13:25:28.472Z"
   },
   {
    "duration": 17,
    "start_time": "2021-10-16T13:25:28.504Z"
   },
   {
    "duration": 16,
    "start_time": "2021-10-16T13:25:28.523Z"
   },
   {
    "duration": 9,
    "start_time": "2021-10-16T13:25:28.541Z"
   },
   {
    "duration": 197,
    "start_time": "2021-10-16T13:25:28.553Z"
   },
   {
    "duration": 10,
    "start_time": "2021-10-16T13:25:28.753Z"
   },
   {
    "duration": 40,
    "start_time": "2021-10-16T13:25:28.765Z"
   },
   {
    "duration": 39,
    "start_time": "2021-10-16T13:25:28.808Z"
   },
   {
    "duration": 4,
    "start_time": "2021-10-16T13:25:28.903Z"
   },
   {
    "duration": 813,
    "start_time": "2021-10-16T13:25:28.910Z"
   },
   {
    "duration": 9,
    "start_time": "2021-10-16T13:25:29.725Z"
   },
   {
    "duration": 8,
    "start_time": "2021-10-16T13:25:29.737Z"
   },
   {
    "duration": 10,
    "start_time": "2021-10-16T13:25:29.747Z"
   },
   {
    "duration": 4,
    "start_time": "2021-10-16T13:25:29.759Z"
   },
   {
    "duration": 15,
    "start_time": "2021-10-16T13:25:29.801Z"
   },
   {
    "duration": 22,
    "start_time": "2021-10-16T13:25:29.818Z"
   },
   {
    "duration": 10,
    "start_time": "2021-10-16T13:25:29.842Z"
   },
   {
    "duration": 5,
    "start_time": "2021-10-16T13:25:29.855Z"
   },
   {
    "duration": 39,
    "start_time": "2021-10-16T13:25:29.863Z"
   },
   {
    "duration": 14,
    "start_time": "2021-10-16T13:25:29.904Z"
   },
   {
    "duration": 6,
    "start_time": "2021-10-16T13:25:29.920Z"
   },
   {
    "duration": 343,
    "start_time": "2021-10-16T13:25:29.929Z"
   },
   {
    "duration": 29,
    "start_time": "2021-10-16T13:25:30.274Z"
   },
   {
    "duration": 461,
    "start_time": "2021-10-16T13:25:30.306Z"
   },
   {
    "duration": 44,
    "start_time": "2021-10-16T13:25:30.770Z"
   },
   {
    "duration": 35,
    "start_time": "2021-10-16T13:25:30.817Z"
   },
   {
    "duration": 589,
    "start_time": "2021-10-16T13:25:30.855Z"
   },
   {
    "duration": 431,
    "start_time": "2021-10-16T13:25:31.447Z"
   },
   {
    "duration": 65,
    "start_time": "2021-10-16T13:25:31.881Z"
   },
   {
    "duration": 8,
    "start_time": "2021-10-16T13:25:31.949Z"
   },
   {
    "duration": 53,
    "start_time": "2021-10-16T13:25:31.959Z"
   },
   {
    "duration": 22,
    "start_time": "2021-10-16T13:25:32.014Z"
   },
   {
    "duration": 8,
    "start_time": "2021-10-16T13:25:32.038Z"
   },
   {
    "duration": 8,
    "start_time": "2021-10-16T13:25:32.049Z"
   },
   {
    "duration": 44,
    "start_time": "2021-10-16T13:25:32.060Z"
   },
   {
    "duration": 9,
    "start_time": "2021-10-16T13:25:32.107Z"
   },
   {
    "duration": 9,
    "start_time": "2021-10-16T13:25:32.118Z"
   },
   {
    "duration": 20,
    "start_time": "2021-10-16T13:25:32.129Z"
   },
   {
    "duration": 101,
    "start_time": "2021-10-16T13:25:32.152Z"
   },
   {
    "duration": 15,
    "start_time": "2021-10-16T13:27:17.227Z"
   },
   {
    "duration": 21,
    "start_time": "2021-10-16T13:27:25.667Z"
   },
   {
    "duration": 311,
    "start_time": "2021-10-16T13:27:49.368Z"
   },
   {
    "duration": 280,
    "start_time": "2021-10-16T13:27:57.245Z"
   },
   {
    "duration": 419,
    "start_time": "2021-10-16T13:28:20.938Z"
   },
   {
    "duration": 334,
    "start_time": "2021-10-16T13:28:28.568Z"
   },
   {
    "duration": 310,
    "start_time": "2021-10-16T13:29:29.636Z"
   },
   {
    "duration": 7,
    "start_time": "2021-10-16T13:31:12.076Z"
   },
   {
    "duration": 58,
    "start_time": "2021-10-16T13:31:21.552Z"
   },
   {
    "duration": 9,
    "start_time": "2021-10-16T13:31:47.140Z"
   },
   {
    "duration": 10,
    "start_time": "2021-10-16T13:31:56.221Z"
   },
   {
    "duration": 9,
    "start_time": "2021-10-16T13:32:12.133Z"
   },
   {
    "duration": 23,
    "start_time": "2021-10-16T13:33:39.685Z"
   },
   {
    "duration": 5,
    "start_time": "2021-10-16T13:35:54.376Z"
   },
   {
    "duration": 285,
    "start_time": "2021-10-16T13:36:01.618Z"
   },
   {
    "duration": 377,
    "start_time": "2021-10-16T13:36:46.603Z"
   },
   {
    "duration": 9,
    "start_time": "2021-10-16T13:36:54.757Z"
   },
   {
    "duration": 597,
    "start_time": "2021-10-16T13:37:34.389Z"
   },
   {
    "duration": 510,
    "start_time": "2021-10-16T13:37:45.859Z"
   },
   {
    "duration": 514,
    "start_time": "2021-10-16T13:37:53.210Z"
   },
   {
    "duration": 155,
    "start_time": "2021-10-16T13:39:34.844Z"
   },
   {
    "duration": 26,
    "start_time": "2021-10-16T13:39:35.002Z"
   },
   {
    "duration": 106,
    "start_time": "2021-10-16T13:39:35.031Z"
   },
   {
    "duration": 15,
    "start_time": "2021-10-16T13:39:35.139Z"
   },
   {
    "duration": 23,
    "start_time": "2021-10-16T13:39:35.156Z"
   },
   {
    "duration": 13,
    "start_time": "2021-10-16T13:39:35.200Z"
   },
   {
    "duration": 20,
    "start_time": "2021-10-16T13:39:35.216Z"
   },
   {
    "duration": 16,
    "start_time": "2021-10-16T13:39:35.240Z"
   },
   {
    "duration": 55,
    "start_time": "2021-10-16T13:39:35.259Z"
   },
   {
    "duration": 3,
    "start_time": "2021-10-16T13:39:35.317Z"
   },
   {
    "duration": 2245,
    "start_time": "2021-10-16T13:39:35.323Z"
   },
   {
    "duration": -224643,
    "start_time": "2021-10-16T13:43:22.215Z"
   },
   {
    "duration": -224650,
    "start_time": "2021-10-16T13:43:22.223Z"
   },
   {
    "duration": -224655,
    "start_time": "2021-10-16T13:43:22.230Z"
   },
   {
    "duration": -224660,
    "start_time": "2021-10-16T13:43:22.236Z"
   },
   {
    "duration": -224666,
    "start_time": "2021-10-16T13:43:22.243Z"
   },
   {
    "duration": -224671,
    "start_time": "2021-10-16T13:43:22.250Z"
   },
   {
    "duration": -224676,
    "start_time": "2021-10-16T13:43:22.256Z"
   },
   {
    "duration": -224679,
    "start_time": "2021-10-16T13:43:22.261Z"
   },
   {
    "duration": -224684,
    "start_time": "2021-10-16T13:43:22.267Z"
   },
   {
    "duration": -224698,
    "start_time": "2021-10-16T13:43:22.282Z"
   },
   {
    "duration": -224704,
    "start_time": "2021-10-16T13:43:22.290Z"
   },
   {
    "duration": -224710,
    "start_time": "2021-10-16T13:43:22.297Z"
   },
   {
    "duration": -224718,
    "start_time": "2021-10-16T13:43:22.306Z"
   },
   {
    "duration": -224722,
    "start_time": "2021-10-16T13:43:22.312Z"
   },
   {
    "duration": -224729,
    "start_time": "2021-10-16T13:43:22.320Z"
   },
   {
    "duration": -224733,
    "start_time": "2021-10-16T13:43:22.325Z"
   },
   {
    "duration": -224736,
    "start_time": "2021-10-16T13:43:22.330Z"
   },
   {
    "duration": -224740,
    "start_time": "2021-10-16T13:43:22.335Z"
   },
   {
    "duration": -224743,
    "start_time": "2021-10-16T13:43:22.339Z"
   },
   {
    "duration": -224746,
    "start_time": "2021-10-16T13:43:22.344Z"
   },
   {
    "duration": -224755,
    "start_time": "2021-10-16T13:43:22.354Z"
   },
   {
    "duration": -224763,
    "start_time": "2021-10-16T13:43:22.363Z"
   },
   {
    "duration": -224768,
    "start_time": "2021-10-16T13:43:22.369Z"
   },
   {
    "duration": -224770,
    "start_time": "2021-10-16T13:43:22.373Z"
   },
   {
    "duration": -224773,
    "start_time": "2021-10-16T13:43:22.377Z"
   },
   {
    "duration": -224783,
    "start_time": "2021-10-16T13:43:22.389Z"
   },
   {
    "duration": -224789,
    "start_time": "2021-10-16T13:43:22.396Z"
   },
   {
    "duration": -224795,
    "start_time": "2021-10-16T13:43:22.403Z"
   },
   {
    "duration": -224798,
    "start_time": "2021-10-16T13:43:22.408Z"
   },
   {
    "duration": -224832,
    "start_time": "2021-10-16T13:43:22.443Z"
   },
   {
    "duration": -224836,
    "start_time": "2021-10-16T13:43:22.448Z"
   },
   {
    "duration": -224839,
    "start_time": "2021-10-16T13:43:22.453Z"
   },
   {
    "duration": -224842,
    "start_time": "2021-10-16T13:43:22.458Z"
   },
   {
    "duration": -224857,
    "start_time": "2021-10-16T13:43:22.474Z"
   },
   {
    "duration": -224860,
    "start_time": "2021-10-16T13:43:22.478Z"
   },
   {
    "duration": -224880,
    "start_time": "2021-10-16T13:43:22.500Z"
   },
   {
    "duration": -224885,
    "start_time": "2021-10-16T13:43:22.506Z"
   },
   {
    "duration": -224900,
    "start_time": "2021-10-16T13:43:22.523Z"
   },
   {
    "duration": -224905,
    "start_time": "2021-10-16T13:43:22.529Z"
   },
   {
    "duration": -224907,
    "start_time": "2021-10-16T13:43:22.533Z"
   },
   {
    "duration": -224913,
    "start_time": "2021-10-16T13:43:22.540Z"
   },
   {
    "duration": -224922,
    "start_time": "2021-10-16T13:43:22.550Z"
   },
   {
    "duration": -224924,
    "start_time": "2021-10-16T13:43:22.554Z"
   },
   {
    "duration": -224927,
    "start_time": "2021-10-16T13:43:22.558Z"
   },
   {
    "duration": -224933,
    "start_time": "2021-10-16T13:43:22.565Z"
   },
   {
    "duration": -224934,
    "start_time": "2021-10-16T13:43:22.568Z"
   },
   {
    "duration": -224939,
    "start_time": "2021-10-16T13:43:22.574Z"
   },
   {
    "duration": -224944,
    "start_time": "2021-10-16T13:43:22.580Z"
   },
   {
    "duration": -224959,
    "start_time": "2021-10-16T13:43:22.596Z"
   },
   {
    "duration": 403,
    "start_time": "2021-10-16T17:12:40.557Z"
   },
   {
    "duration": 1002,
    "start_time": "2021-10-16T17:13:01.146Z"
   },
   {
    "duration": 24,
    "start_time": "2021-10-16T17:13:02.151Z"
   },
   {
    "duration": 43,
    "start_time": "2021-10-16T17:13:02.180Z"
   },
   {
    "duration": 13,
    "start_time": "2021-10-16T17:13:02.225Z"
   },
   {
    "duration": 56,
    "start_time": "2021-10-16T17:13:02.240Z"
   },
   {
    "duration": 13,
    "start_time": "2021-10-16T17:13:02.298Z"
   },
   {
    "duration": 25,
    "start_time": "2021-10-16T17:13:02.313Z"
   },
   {
    "duration": 22,
    "start_time": "2021-10-16T17:13:02.341Z"
   },
   {
    "duration": 43,
    "start_time": "2021-10-16T17:13:02.366Z"
   },
   {
    "duration": 7,
    "start_time": "2021-10-16T17:13:02.411Z"
   },
   {
    "duration": 1426,
    "start_time": "2021-10-16T17:13:02.421Z"
   },
   {
    "duration": -13687,
    "start_time": "2021-10-16T17:13:17.538Z"
   },
   {
    "duration": -13689,
    "start_time": "2021-10-16T17:13:17.542Z"
   },
   {
    "duration": -13691,
    "start_time": "2021-10-16T17:13:17.545Z"
   },
   {
    "duration": -13693,
    "start_time": "2021-10-16T17:13:17.548Z"
   },
   {
    "duration": -13694,
    "start_time": "2021-10-16T17:13:17.551Z"
   },
   {
    "duration": -13698,
    "start_time": "2021-10-16T17:13:17.556Z"
   },
   {
    "duration": -13701,
    "start_time": "2021-10-16T17:13:17.560Z"
   },
   {
    "duration": -13702,
    "start_time": "2021-10-16T17:13:17.563Z"
   },
   {
    "duration": -13705,
    "start_time": "2021-10-16T17:13:17.567Z"
   },
   {
    "duration": -13705,
    "start_time": "2021-10-16T17:13:17.569Z"
   },
   {
    "duration": -13706,
    "start_time": "2021-10-16T17:13:17.571Z"
   },
   {
    "duration": -13707,
    "start_time": "2021-10-16T17:13:17.573Z"
   },
   {
    "duration": -13708,
    "start_time": "2021-10-16T17:13:17.576Z"
   },
   {
    "duration": -13710,
    "start_time": "2021-10-16T17:13:17.579Z"
   },
   {
    "duration": -13712,
    "start_time": "2021-10-16T17:13:17.582Z"
   },
   {
    "duration": -13713,
    "start_time": "2021-10-16T17:13:17.584Z"
   },
   {
    "duration": -13713,
    "start_time": "2021-10-16T17:13:17.586Z"
   },
   {
    "duration": -13714,
    "start_time": "2021-10-16T17:13:17.588Z"
   },
   {
    "duration": -13716,
    "start_time": "2021-10-16T17:13:17.591Z"
   },
   {
    "duration": -13718,
    "start_time": "2021-10-16T17:13:17.594Z"
   },
   {
    "duration": -13718,
    "start_time": "2021-10-16T17:13:17.596Z"
   },
   {
    "duration": -13720,
    "start_time": "2021-10-16T17:13:17.599Z"
   },
   {
    "duration": -13720,
    "start_time": "2021-10-16T17:13:17.601Z"
   },
   {
    "duration": -13720,
    "start_time": "2021-10-16T17:13:17.603Z"
   },
   {
    "duration": -13720,
    "start_time": "2021-10-16T17:13:17.605Z"
   },
   {
    "duration": -13720,
    "start_time": "2021-10-16T17:13:17.607Z"
   },
   {
    "duration": -13720,
    "start_time": "2021-10-16T17:13:17.610Z"
   },
   {
    "duration": -13720,
    "start_time": "2021-10-16T17:13:17.612Z"
   },
   {
    "duration": -13721,
    "start_time": "2021-10-16T17:13:17.615Z"
   },
   {
    "duration": -13717,
    "start_time": "2021-10-16T17:13:17.617Z"
   },
   {
    "duration": -13739,
    "start_time": "2021-10-16T17:13:17.641Z"
   },
   {
    "duration": -13743,
    "start_time": "2021-10-16T17:13:17.646Z"
   },
   {
    "duration": -13744,
    "start_time": "2021-10-16T17:13:17.649Z"
   },
   {
    "duration": -13746,
    "start_time": "2021-10-16T17:13:17.652Z"
   },
   {
    "duration": -13748,
    "start_time": "2021-10-16T17:13:17.655Z"
   },
   {
    "duration": -13750,
    "start_time": "2021-10-16T17:13:17.659Z"
   },
   {
    "duration": -13753,
    "start_time": "2021-10-16T17:13:17.663Z"
   },
   {
    "duration": -13755,
    "start_time": "2021-10-16T17:13:17.666Z"
   },
   {
    "duration": -13757,
    "start_time": "2021-10-16T17:13:17.669Z"
   },
   {
    "duration": -13760,
    "start_time": "2021-10-16T17:13:17.673Z"
   },
   {
    "duration": -13760,
    "start_time": "2021-10-16T17:13:17.675Z"
   },
   {
    "duration": -13763,
    "start_time": "2021-10-16T17:13:17.679Z"
   },
   {
    "duration": -13765,
    "start_time": "2021-10-16T17:13:17.682Z"
   },
   {
    "duration": -13765,
    "start_time": "2021-10-16T17:13:17.684Z"
   },
   {
    "duration": -13766,
    "start_time": "2021-10-16T17:13:17.686Z"
   },
   {
    "duration": -13767,
    "start_time": "2021-10-16T17:13:17.688Z"
   },
   {
    "duration": -13768,
    "start_time": "2021-10-16T17:13:17.690Z"
   },
   {
    "duration": -13769,
    "start_time": "2021-10-16T17:13:17.692Z"
   },
   {
    "duration": -13770,
    "start_time": "2021-10-16T17:13:17.694Z"
   },
   {
    "duration": -13714,
    "start_time": "2021-10-16T17:13:17.696Z"
   },
   {
    "duration": 8,
    "start_time": "2021-10-16T17:13:14.997Z"
   },
   {
    "duration": 8,
    "start_time": "2021-10-16T17:13:32.558Z"
   },
   {
    "duration": 9,
    "start_time": "2021-10-16T17:13:46.630Z"
   },
   {
    "duration": 8,
    "start_time": "2021-10-16T17:14:17.302Z"
   },
   {
    "duration": 8,
    "start_time": "2021-10-16T17:14:27.272Z"
   },
   {
    "duration": 9,
    "start_time": "2021-10-16T17:14:29.562Z"
   },
   {
    "duration": 9,
    "start_time": "2021-10-16T17:14:34.279Z"
   },
   {
    "duration": 11,
    "start_time": "2021-10-16T17:15:14.414Z"
   },
   {
    "duration": 7,
    "start_time": "2021-10-16T17:15:39.136Z"
   },
   {
    "duration": 688,
    "start_time": "2021-10-16T17:15:59.112Z"
   },
   {
    "duration": 10,
    "start_time": "2021-10-16T17:18:53.919Z"
   },
   {
    "duration": 9,
    "start_time": "2021-10-16T17:19:01.008Z"
   },
   {
    "duration": 5,
    "start_time": "2021-10-16T17:19:45.211Z"
   },
   {
    "duration": 180,
    "start_time": "2021-10-16T17:19:45.616Z"
   },
   {
    "duration": 13,
    "start_time": "2021-10-16T17:19:47.627Z"
   },
   {
    "duration": 28,
    "start_time": "2021-10-16T17:19:51.249Z"
   },
   {
    "duration": 23,
    "start_time": "2021-10-16T17:19:51.457Z"
   },
   {
    "duration": 29,
    "start_time": "2021-10-16T17:19:52.068Z"
   },
   {
    "duration": 40,
    "start_time": "2021-10-16T17:19:52.618Z"
   },
   {
    "duration": 9,
    "start_time": "2021-10-16T17:20:21.092Z"
   },
   {
    "duration": 9,
    "start_time": "2021-10-16T17:20:21.314Z"
   },
   {
    "duration": 9,
    "start_time": "2021-10-16T17:20:22.694Z"
   },
   {
    "duration": 5,
    "start_time": "2021-10-16T17:20:23.926Z"
   },
   {
    "duration": 173,
    "start_time": "2021-10-16T17:20:25.084Z"
   },
   {
    "duration": 10,
    "start_time": "2021-10-16T17:20:25.610Z"
   },
   {
    "duration": 9,
    "start_time": "2021-10-16T17:20:25.954Z"
   },
   {
    "duration": 34,
    "start_time": "2021-10-16T17:20:27.548Z"
   },
   {
    "duration": 4,
    "start_time": "2021-10-16T17:20:28.254Z"
   },
   {
    "duration": 364,
    "start_time": "2021-10-16T17:20:28.665Z"
   },
   {
    "duration": 10,
    "start_time": "2021-10-16T17:20:29.920Z"
   },
   {
    "duration": 6,
    "start_time": "2021-10-16T17:20:30.807Z"
   },
   {
    "duration": 10,
    "start_time": "2021-10-16T17:20:31.334Z"
   },
   {
    "duration": 4,
    "start_time": "2021-10-16T17:20:32.190Z"
   },
   {
    "duration": 16,
    "start_time": "2021-10-16T17:20:32.509Z"
   },
   {
    "duration": 18,
    "start_time": "2021-10-16T17:20:32.713Z"
   },
   {
    "duration": 9,
    "start_time": "2021-10-16T17:20:33.113Z"
   },
   {
    "duration": 6,
    "start_time": "2021-10-16T17:20:33.826Z"
   },
   {
    "duration": 9,
    "start_time": "2021-10-16T17:20:34.107Z"
   },
   {
    "duration": 14,
    "start_time": "2021-10-16T17:20:35.649Z"
   },
   {
    "duration": 7,
    "start_time": "2021-10-16T17:20:35.870Z"
   },
   {
    "duration": 280,
    "start_time": "2021-10-16T17:20:36.212Z"
   },
   {
    "duration": 20,
    "start_time": "2021-10-16T17:21:02.748Z"
   },
   {
    "duration": 448,
    "start_time": "2021-10-16T17:21:02.950Z"
   },
   {
    "duration": 29,
    "start_time": "2021-10-16T17:21:24.582Z"
   },
   {
    "duration": 31,
    "start_time": "2021-10-16T17:23:10.251Z"
   },
   {
    "duration": 497,
    "start_time": "2021-10-16T17:23:10.442Z"
   },
   {
    "duration": 397,
    "start_time": "2021-10-16T17:23:10.942Z"
   },
   {
    "duration": 53,
    "start_time": "2021-10-16T17:24:03.798Z"
   },
   {
    "duration": 9,
    "start_time": "2021-10-16T17:24:04.093Z"
   },
   {
    "duration": 21,
    "start_time": "2021-10-16T17:24:04.274Z"
   },
   {
    "duration": 329,
    "start_time": "2021-10-16T17:24:04.706Z"
   },
   {
    "duration": 311,
    "start_time": "2021-10-16T17:24:05.333Z"
   },
   {
    "duration": 28,
    "start_time": "2021-10-16T17:24:09.360Z"
   },
   {
    "duration": 8,
    "start_time": "2021-10-16T17:24:11.932Z"
   },
   {
    "duration": 573,
    "start_time": "2021-10-16T17:24:12.365Z"
   },
   {
    "duration": 10,
    "start_time": "2021-10-16T17:24:13.159Z"
   },
   {
    "duration": 9,
    "start_time": "2021-10-16T17:24:13.524Z"
   },
   {
    "duration": 10,
    "start_time": "2021-10-16T17:24:14.066Z"
   },
   {
    "duration": 18,
    "start_time": "2021-10-16T17:24:14.468Z"
   },
   {
    "duration": 72,
    "start_time": "2021-10-16T17:24:15.073Z"
   },
   {
    "duration": 8,
    "start_time": "2021-10-16T17:24:15.666Z"
   },
   {
    "duration": 371,
    "start_time": "2021-10-16T18:13:10.681Z"
   },
   {
    "duration": 3,
    "start_time": "2021-10-16T18:13:14.764Z"
   },
   {
    "duration": 742,
    "start_time": "2021-10-16T18:13:17.129Z"
   },
   {
    "duration": 17,
    "start_time": "2021-10-16T18:13:17.872Z"
   },
   {
    "duration": 17,
    "start_time": "2021-10-16T18:13:17.892Z"
   },
   {
    "duration": 9,
    "start_time": "2021-10-16T18:13:17.910Z"
   },
   {
    "duration": 14,
    "start_time": "2021-10-16T18:13:17.920Z"
   },
   {
    "duration": 8,
    "start_time": "2021-10-16T18:13:17.936Z"
   },
   {
    "duration": 36,
    "start_time": "2021-10-16T18:13:17.945Z"
   },
   {
    "duration": 10,
    "start_time": "2021-10-16T18:13:17.983Z"
   },
   {
    "duration": 14,
    "start_time": "2021-10-16T18:13:17.996Z"
   },
   {
    "duration": 2,
    "start_time": "2021-10-16T18:13:18.012Z"
   },
   {
    "duration": 29,
    "start_time": "2021-10-16T18:13:18.016Z"
   },
   {
    "duration": 30,
    "start_time": "2021-10-16T18:13:18.047Z"
   },
   {
    "duration": 170,
    "start_time": "2021-10-16T18:13:18.079Z"
   },
   {
    "duration": 25,
    "start_time": "2021-10-16T18:13:18.251Z"
   },
   {
    "duration": 19,
    "start_time": "2021-10-16T18:13:18.278Z"
   },
   {
    "duration": 15,
    "start_time": "2021-10-16T18:13:18.298Z"
   },
   {
    "duration": 17,
    "start_time": "2021-10-16T18:13:18.314Z"
   },
   {
    "duration": 57,
    "start_time": "2021-10-16T18:13:18.333Z"
   },
   {
    "duration": 7,
    "start_time": "2021-10-16T18:13:18.392Z"
   },
   {
    "duration": 9,
    "start_time": "2021-10-16T18:13:18.400Z"
   },
   {
    "duration": 10,
    "start_time": "2021-10-16T18:13:18.411Z"
   },
   {
    "duration": 5,
    "start_time": "2021-10-16T18:13:18.422Z"
   },
   {
    "duration": 124,
    "start_time": "2021-10-16T18:13:18.429Z"
   },
   {
    "duration": 8,
    "start_time": "2021-10-16T18:13:18.554Z"
   },
   {
    "duration": 16,
    "start_time": "2021-10-16T18:13:18.564Z"
   },
   {
    "duration": 22,
    "start_time": "2021-10-16T18:13:18.582Z"
   },
   {
    "duration": 3,
    "start_time": "2021-10-16T18:13:18.609Z"
   },
   {
    "duration": 261,
    "start_time": "2021-10-16T18:13:18.615Z"
   },
   {
    "duration": 6,
    "start_time": "2021-10-16T18:13:18.878Z"
   },
   {
    "duration": 4,
    "start_time": "2021-10-16T18:13:18.886Z"
   },
   {
    "duration": 8,
    "start_time": "2021-10-16T18:13:18.891Z"
   },
   {
    "duration": 3,
    "start_time": "2021-10-16T18:13:18.901Z"
   },
   {
    "duration": 11,
    "start_time": "2021-10-16T18:13:18.906Z"
   },
   {
    "duration": 11,
    "start_time": "2021-10-16T18:13:18.919Z"
   },
   {
    "duration": 6,
    "start_time": "2021-10-16T18:13:18.931Z"
   },
   {
    "duration": 4,
    "start_time": "2021-10-16T18:13:18.938Z"
   },
   {
    "duration": 34,
    "start_time": "2021-10-16T18:13:18.944Z"
   },
   {
    "duration": 9,
    "start_time": "2021-10-16T18:13:18.979Z"
   },
   {
    "duration": 4,
    "start_time": "2021-10-16T18:13:18.990Z"
   },
   {
    "duration": 190,
    "start_time": "2021-10-16T18:13:18.996Z"
   },
   {
    "duration": 13,
    "start_time": "2021-10-16T18:13:19.188Z"
   },
   {
    "duration": 288,
    "start_time": "2021-10-16T18:13:19.202Z"
   },
   {
    "duration": 20,
    "start_time": "2021-10-16T18:13:19.491Z"
   },
   {
    "duration": 17,
    "start_time": "2021-10-16T18:13:19.512Z"
   },
   {
    "duration": 317,
    "start_time": "2021-10-16T18:13:19.530Z"
   },
   {
    "duration": 242,
    "start_time": "2021-10-16T18:13:19.849Z"
   },
   {
    "duration": 31,
    "start_time": "2021-10-16T18:13:20.092Z"
   },
   {
    "duration": 17,
    "start_time": "2021-10-16T18:13:20.125Z"
   },
   {
    "duration": 40,
    "start_time": "2021-10-16T18:13:20.143Z"
   },
   {
    "duration": 191,
    "start_time": "2021-10-16T18:13:20.184Z"
   },
   {
    "duration": 187,
    "start_time": "2021-10-16T18:13:20.377Z"
   },
   {
    "duration": 19,
    "start_time": "2021-10-16T18:13:20.566Z"
   },
   {
    "duration": 12,
    "start_time": "2021-10-16T18:13:20.587Z"
   },
   {
    "duration": 290,
    "start_time": "2021-10-16T18:13:20.601Z"
   },
   {
    "duration": 6,
    "start_time": "2021-10-16T18:13:20.892Z"
   },
   {
    "duration": 10,
    "start_time": "2021-10-16T18:13:20.900Z"
   },
   {
    "duration": 8,
    "start_time": "2021-10-16T18:13:20.911Z"
   },
   {
    "duration": 12,
    "start_time": "2021-10-16T18:13:20.921Z"
   },
   {
    "duration": 55,
    "start_time": "2021-10-16T18:13:20.934Z"
   },
   {
    "duration": 10,
    "start_time": "2021-10-16T18:13:20.991Z"
   },
   {
    "duration": 11,
    "start_time": "2021-10-16T18:14:19.583Z"
   },
   {
    "duration": 386,
    "start_time": "2021-10-16T18:14:33.331Z"
   },
   {
    "duration": 7,
    "start_time": "2021-10-16T18:14:55.843Z"
   },
   {
    "duration": 5,
    "start_time": "2021-10-16T18:15:05.525Z"
   },
   {
    "duration": 5,
    "start_time": "2021-10-16T18:15:21.225Z"
   }
  ],
  "colab": {
   "name": "DA+. Сборный проект 1. Шаблон (1).ipynb",
   "provenance": []
  },
  "kernelspec": {
   "display_name": "Python 3 (ipykernel)",
   "language": "python",
   "name": "python3"
  },
  "language_info": {
   "codemirror_mode": {
    "name": "ipython",
    "version": 3
   },
   "file_extension": ".py",
   "mimetype": "text/x-python",
   "name": "python",
   "nbconvert_exporter": "python",
   "pygments_lexer": "ipython3",
   "version": "3.9.7"
  },
  "toc": {
   "base_numbering": 1,
   "nav_menu": {
    "height": "261px",
    "width": "514px"
   },
   "number_sections": true,
   "sideBar": true,
   "skip_h1_title": true,
   "title_cell": "Table of Contents",
   "title_sidebar": "Contents",
   "toc_cell": false,
   "toc_position": {
    "height": "798px",
    "left": "44px",
    "top": "110.8px",
    "width": "165px"
   },
   "toc_section_display": true,
   "toc_window_display": false
  }
 },
 "nbformat": 4,
 "nbformat_minor": 1
}

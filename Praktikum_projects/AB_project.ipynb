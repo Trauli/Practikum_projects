{
 "cells": [
  {
   "cell_type": "markdown",
   "metadata": {},
   "source": [
    "# Исследование A/B теста в компании "
   ]
  },
  {
   "cell_type": "markdown",
   "metadata": {},
   "source": [
    "Необходимо на основании приведённых данных дать ответ о наличии различий в группах А и В проводившегося теста, провести приоритезацию гипотез"
   ]
  },
  {
   "cell_type": "markdown",
   "metadata": {},
   "source": [
    "# Описание данных "
   ]
  },
  {
   "cell_type": "markdown",
   "metadata": {},
   "source": [
    "Файл hypothesis.csv. \\\n",
    "Hypothesis — краткое описание гипотезы; \\\n",
    "Reach — охват пользователей по 10-балльной шкале; \\\n",
    "Impact — влияние на пользователей по 10-балльной шкале; \\\n",
    "Confidence — уверенность в гипотезе по 10-балльной шкале; \\\n",
    "Efforts — затраты ресурсов на проверку гипотезы по 10-балльной шкале. Чем больше значение Efforts, тем дороже проверка гипотезы."
   ]
  },
  {
   "cell_type": "markdown",
   "metadata": {},
   "source": [
    "Файл orders.csv: \\\n",
    "transactionId — идентификатор заказа; \\\n",
    "visitorId — идентификатор пользователя, совершившего заказ; \\\n",
    "date — дата, когда был совершён заказ; \\\n",
    "revenue — выручка заказа; \\\n",
    "group — группа A/B-теста, в которую попал заказ."
   ]
  },
  {
   "cell_type": "markdown",
   "metadata": {},
   "source": [
    "Файл visitors.csv: \\\n",
    "date — дата; \\\n",
    "group — группа A/B-теста; \\\n",
    "visitors — количество пользователей в указанную дату в указанной группе A/B-теста"
   ]
  },
  {
   "cell_type": "markdown",
   "metadata": {},
   "source": [
    "## Начало работы"
   ]
  },
  {
   "cell_type": "code",
   "execution_count": 1,
   "metadata": {},
   "outputs": [],
   "source": [
    "import pandas as pd\n",
    "import numpy as np\n",
    "import seaborn as sns\n",
    "import matplotlib.pyplot as plt\n",
    "import math\n",
    "\n",
    "from scipy import stats as st"
   ]
  },
  {
   "cell_type": "code",
   "execution_count": 2,
   "metadata": {},
   "outputs": [],
   "source": [
    "hypothesis = pd.read_csv('/datasets/hypothesis.csv')\n",
    "orders = pd.read_csv('/datasets/orders.csv')\n",
    "visitors = pd.read_csv('/datasets/visitors.csv')"
   ]
  },
  {
   "cell_type": "code",
   "execution_count": 3,
   "metadata": {},
   "outputs": [
    {
     "name": "stdout",
     "output_type": "stream",
     "text": [
      "<class 'pandas.core.frame.DataFrame'>\n",
      "RangeIndex: 9 entries, 0 to 8\n",
      "Data columns (total 5 columns):\n",
      " #   Column      Non-Null Count  Dtype \n",
      "---  ------      --------------  ----- \n",
      " 0   Hypothesis  9 non-null      object\n",
      " 1   Reach       9 non-null      int64 \n",
      " 2   Impact      9 non-null      int64 \n",
      " 3   Confidence  9 non-null      int64 \n",
      " 4   Efforts     9 non-null      int64 \n",
      "dtypes: int64(4), object(1)\n",
      "memory usage: 488.0+ bytes\n"
     ]
    },
    {
     "data": {
      "text/html": [
       "<div>\n",
       "<style scoped>\n",
       "    .dataframe tbody tr th:only-of-type {\n",
       "        vertical-align: middle;\n",
       "    }\n",
       "\n",
       "    .dataframe tbody tr th {\n",
       "        vertical-align: top;\n",
       "    }\n",
       "\n",
       "    .dataframe thead th {\n",
       "        text-align: right;\n",
       "    }\n",
       "</style>\n",
       "<table border=\"1\" class=\"dataframe\">\n",
       "  <thead>\n",
       "    <tr style=\"text-align: right;\">\n",
       "      <th></th>\n",
       "      <th>Hypothesis</th>\n",
       "      <th>Reach</th>\n",
       "      <th>Impact</th>\n",
       "      <th>Confidence</th>\n",
       "      <th>Efforts</th>\n",
       "    </tr>\n",
       "  </thead>\n",
       "  <tbody>\n",
       "    <tr>\n",
       "      <th>0</th>\n",
       "      <td>Добавить два новых канала привлечения трафика,...</td>\n",
       "      <td>3</td>\n",
       "      <td>10</td>\n",
       "      <td>8</td>\n",
       "      <td>6</td>\n",
       "    </tr>\n",
       "    <tr>\n",
       "      <th>1</th>\n",
       "      <td>Запустить собственную службу доставки, что сок...</td>\n",
       "      <td>2</td>\n",
       "      <td>5</td>\n",
       "      <td>4</td>\n",
       "      <td>10</td>\n",
       "    </tr>\n",
       "    <tr>\n",
       "      <th>2</th>\n",
       "      <td>Добавить блоки рекомендаций товаров на сайт ин...</td>\n",
       "      <td>8</td>\n",
       "      <td>3</td>\n",
       "      <td>7</td>\n",
       "      <td>3</td>\n",
       "    </tr>\n",
       "    <tr>\n",
       "      <th>3</th>\n",
       "      <td>Изменить структура категорий, что увеличит кон...</td>\n",
       "      <td>8</td>\n",
       "      <td>3</td>\n",
       "      <td>3</td>\n",
       "      <td>8</td>\n",
       "    </tr>\n",
       "    <tr>\n",
       "      <th>4</th>\n",
       "      <td>Изменить цвет фона главной страницы, чтобы уве...</td>\n",
       "      <td>3</td>\n",
       "      <td>1</td>\n",
       "      <td>1</td>\n",
       "      <td>1</td>\n",
       "    </tr>\n",
       "    <tr>\n",
       "      <th>5</th>\n",
       "      <td>Добавить страницу отзывов клиентов о магазине,...</td>\n",
       "      <td>3</td>\n",
       "      <td>2</td>\n",
       "      <td>2</td>\n",
       "      <td>3</td>\n",
       "    </tr>\n",
       "    <tr>\n",
       "      <th>6</th>\n",
       "      <td>Показать на главной странице баннеры с актуаль...</td>\n",
       "      <td>5</td>\n",
       "      <td>3</td>\n",
       "      <td>8</td>\n",
       "      <td>3</td>\n",
       "    </tr>\n",
       "    <tr>\n",
       "      <th>7</th>\n",
       "      <td>Добавить форму подписки на все основные страни...</td>\n",
       "      <td>10</td>\n",
       "      <td>7</td>\n",
       "      <td>8</td>\n",
       "      <td>5</td>\n",
       "    </tr>\n",
       "    <tr>\n",
       "      <th>8</th>\n",
       "      <td>Запустить акцию, дающую скидку на товар в день...</td>\n",
       "      <td>1</td>\n",
       "      <td>9</td>\n",
       "      <td>9</td>\n",
       "      <td>5</td>\n",
       "    </tr>\n",
       "  </tbody>\n",
       "</table>\n",
       "</div>"
      ],
      "text/plain": [
       "                                          Hypothesis  Reach  Impact  \\\n",
       "0  Добавить два новых канала привлечения трафика,...      3      10   \n",
       "1  Запустить собственную службу доставки, что сок...      2       5   \n",
       "2  Добавить блоки рекомендаций товаров на сайт ин...      8       3   \n",
       "3  Изменить структура категорий, что увеличит кон...      8       3   \n",
       "4  Изменить цвет фона главной страницы, чтобы уве...      3       1   \n",
       "5  Добавить страницу отзывов клиентов о магазине,...      3       2   \n",
       "6  Показать на главной странице баннеры с актуаль...      5       3   \n",
       "7  Добавить форму подписки на все основные страни...     10       7   \n",
       "8  Запустить акцию, дающую скидку на товар в день...      1       9   \n",
       "\n",
       "   Confidence  Efforts  \n",
       "0           8        6  \n",
       "1           4       10  \n",
       "2           7        3  \n",
       "3           3        8  \n",
       "4           1        1  \n",
       "5           2        3  \n",
       "6           8        3  \n",
       "7           8        5  \n",
       "8           9        5  "
      ]
     },
     "execution_count": 3,
     "metadata": {},
     "output_type": "execute_result"
    }
   ],
   "source": [
    "# Это скорее подсобный датасет, изменять ничего не нужно\n",
    "hypothesis.info()\n",
    "hypothesis"
   ]
  },
  {
   "cell_type": "code",
   "execution_count": 4,
   "metadata": {},
   "outputs": [
    {
     "name": "stdout",
     "output_type": "stream",
     "text": [
      "<class 'pandas.core.frame.DataFrame'>\n",
      "RangeIndex: 1197 entries, 0 to 1196\n",
      "Data columns (total 5 columns):\n",
      " #   Column         Non-Null Count  Dtype \n",
      "---  ------         --------------  ----- \n",
      " 0   transactionId  1197 non-null   int64 \n",
      " 1   visitorId      1197 non-null   int64 \n",
      " 2   date           1197 non-null   object\n",
      " 3   revenue        1197 non-null   int64 \n",
      " 4   group          1197 non-null   object\n",
      "dtypes: int64(3), object(2)\n",
      "memory usage: 46.9+ KB\n"
     ]
    },
    {
     "data": {
      "text/html": [
       "<div>\n",
       "<style scoped>\n",
       "    .dataframe tbody tr th:only-of-type {\n",
       "        vertical-align: middle;\n",
       "    }\n",
       "\n",
       "    .dataframe tbody tr th {\n",
       "        vertical-align: top;\n",
       "    }\n",
       "\n",
       "    .dataframe thead th {\n",
       "        text-align: right;\n",
       "    }\n",
       "</style>\n",
       "<table border=\"1\" class=\"dataframe\">\n",
       "  <thead>\n",
       "    <tr style=\"text-align: right;\">\n",
       "      <th></th>\n",
       "      <th>transactionId</th>\n",
       "      <th>visitorId</th>\n",
       "      <th>date</th>\n",
       "      <th>revenue</th>\n",
       "      <th>group</th>\n",
       "    </tr>\n",
       "  </thead>\n",
       "  <tbody>\n",
       "    <tr>\n",
       "      <th>0</th>\n",
       "      <td>3667963787</td>\n",
       "      <td>3312258926</td>\n",
       "      <td>2019-08-15</td>\n",
       "      <td>1650</td>\n",
       "      <td>B</td>\n",
       "    </tr>\n",
       "    <tr>\n",
       "      <th>1</th>\n",
       "      <td>2804400009</td>\n",
       "      <td>3642806036</td>\n",
       "      <td>2019-08-15</td>\n",
       "      <td>730</td>\n",
       "      <td>B</td>\n",
       "    </tr>\n",
       "    <tr>\n",
       "      <th>2</th>\n",
       "      <td>2961555356</td>\n",
       "      <td>4069496402</td>\n",
       "      <td>2019-08-15</td>\n",
       "      <td>400</td>\n",
       "      <td>A</td>\n",
       "    </tr>\n",
       "    <tr>\n",
       "      <th>3</th>\n",
       "      <td>3797467345</td>\n",
       "      <td>1196621759</td>\n",
       "      <td>2019-08-15</td>\n",
       "      <td>9759</td>\n",
       "      <td>B</td>\n",
       "    </tr>\n",
       "    <tr>\n",
       "      <th>4</th>\n",
       "      <td>2282983706</td>\n",
       "      <td>2322279887</td>\n",
       "      <td>2019-08-15</td>\n",
       "      <td>2308</td>\n",
       "      <td>B</td>\n",
       "    </tr>\n",
       "    <tr>\n",
       "      <th>...</th>\n",
       "      <td>...</td>\n",
       "      <td>...</td>\n",
       "      <td>...</td>\n",
       "      <td>...</td>\n",
       "      <td>...</td>\n",
       "    </tr>\n",
       "    <tr>\n",
       "      <th>1192</th>\n",
       "      <td>2662137336</td>\n",
       "      <td>3733762160</td>\n",
       "      <td>2019-08-14</td>\n",
       "      <td>6490</td>\n",
       "      <td>B</td>\n",
       "    </tr>\n",
       "    <tr>\n",
       "      <th>1193</th>\n",
       "      <td>2203539145</td>\n",
       "      <td>370388673</td>\n",
       "      <td>2019-08-14</td>\n",
       "      <td>3190</td>\n",
       "      <td>A</td>\n",
       "    </tr>\n",
       "    <tr>\n",
       "      <th>1194</th>\n",
       "      <td>1807773912</td>\n",
       "      <td>573423106</td>\n",
       "      <td>2019-08-14</td>\n",
       "      <td>10550</td>\n",
       "      <td>A</td>\n",
       "    </tr>\n",
       "    <tr>\n",
       "      <th>1195</th>\n",
       "      <td>1947021204</td>\n",
       "      <td>1614305549</td>\n",
       "      <td>2019-08-14</td>\n",
       "      <td>100</td>\n",
       "      <td>A</td>\n",
       "    </tr>\n",
       "    <tr>\n",
       "      <th>1196</th>\n",
       "      <td>3936777065</td>\n",
       "      <td>2108080724</td>\n",
       "      <td>2019-08-15</td>\n",
       "      <td>202740</td>\n",
       "      <td>B</td>\n",
       "    </tr>\n",
       "  </tbody>\n",
       "</table>\n",
       "<p>1197 rows × 5 columns</p>\n",
       "</div>"
      ],
      "text/plain": [
       "      transactionId   visitorId        date  revenue group\n",
       "0        3667963787  3312258926  2019-08-15     1650     B\n",
       "1        2804400009  3642806036  2019-08-15      730     B\n",
       "2        2961555356  4069496402  2019-08-15      400     A\n",
       "3        3797467345  1196621759  2019-08-15     9759     B\n",
       "4        2282983706  2322279887  2019-08-15     2308     B\n",
       "...             ...         ...         ...      ...   ...\n",
       "1192     2662137336  3733762160  2019-08-14     6490     B\n",
       "1193     2203539145   370388673  2019-08-14     3190     A\n",
       "1194     1807773912   573423106  2019-08-14    10550     A\n",
       "1195     1947021204  1614305549  2019-08-14      100     A\n",
       "1196     3936777065  2108080724  2019-08-15   202740     B\n",
       "\n",
       "[1197 rows x 5 columns]"
      ]
     },
     "execution_count": 4,
     "metadata": {},
     "output_type": "execute_result"
    }
   ],
   "source": [
    "orders.info()\n",
    "orders"
   ]
  },
  {
   "cell_type": "code",
   "execution_count": 5,
   "metadata": {},
   "outputs": [],
   "source": [
    "# Здесь необходимо было изменить только тип данных, всё остальное в порядке\n",
    "orders['date'] = pd.to_datetime(orders['date'])"
   ]
  },
  {
   "cell_type": "code",
   "execution_count": 6,
   "metadata": {},
   "outputs": [],
   "source": [
    "# Приведём названия столбоцов в нижний регистр\n",
    "orders.columns = orders.columns.str.lower()"
   ]
  },
  {
   "cell_type": "code",
   "execution_count": 7,
   "metadata": {},
   "outputs": [],
   "source": [
    "# Посмотрим, нет ли пользователей, которые находятся в обеих группах\n",
    "orders_a = orders.query('group == \"A\"')\n",
    "orders_b = orders.query('group == \"B\"')\n",
    "orders_doub = orders_a.query('visitorid in (@orders_b[\"visitorid\"])')\n",
    "orders = orders.query('visitorid not in (@orders_doub[\"visitorid\"])')"
   ]
  },
  {
   "cell_type": "code",
   "execution_count": 8,
   "metadata": {},
   "outputs": [
    {
     "name": "stdout",
     "output_type": "stream",
     "text": [
      "<class 'pandas.core.frame.DataFrame'>\n",
      "RangeIndex: 62 entries, 0 to 61\n",
      "Data columns (total 3 columns):\n",
      " #   Column    Non-Null Count  Dtype \n",
      "---  ------    --------------  ----- \n",
      " 0   date      62 non-null     object\n",
      " 1   group     62 non-null     object\n",
      " 2   visitors  62 non-null     int64 \n",
      "dtypes: int64(1), object(2)\n",
      "memory usage: 1.6+ KB\n"
     ]
    },
    {
     "data": {
      "text/html": [
       "<div>\n",
       "<style scoped>\n",
       "    .dataframe tbody tr th:only-of-type {\n",
       "        vertical-align: middle;\n",
       "    }\n",
       "\n",
       "    .dataframe tbody tr th {\n",
       "        vertical-align: top;\n",
       "    }\n",
       "\n",
       "    .dataframe thead th {\n",
       "        text-align: right;\n",
       "    }\n",
       "</style>\n",
       "<table border=\"1\" class=\"dataframe\">\n",
       "  <thead>\n",
       "    <tr style=\"text-align: right;\">\n",
       "      <th></th>\n",
       "      <th>date</th>\n",
       "      <th>group</th>\n",
       "      <th>visitors</th>\n",
       "    </tr>\n",
       "  </thead>\n",
       "  <tbody>\n",
       "    <tr>\n",
       "      <th>0</th>\n",
       "      <td>2019-08-01</td>\n",
       "      <td>A</td>\n",
       "      <td>719</td>\n",
       "    </tr>\n",
       "    <tr>\n",
       "      <th>1</th>\n",
       "      <td>2019-08-02</td>\n",
       "      <td>A</td>\n",
       "      <td>619</td>\n",
       "    </tr>\n",
       "    <tr>\n",
       "      <th>2</th>\n",
       "      <td>2019-08-03</td>\n",
       "      <td>A</td>\n",
       "      <td>507</td>\n",
       "    </tr>\n",
       "    <tr>\n",
       "      <th>3</th>\n",
       "      <td>2019-08-04</td>\n",
       "      <td>A</td>\n",
       "      <td>717</td>\n",
       "    </tr>\n",
       "    <tr>\n",
       "      <th>4</th>\n",
       "      <td>2019-08-05</td>\n",
       "      <td>A</td>\n",
       "      <td>756</td>\n",
       "    </tr>\n",
       "    <tr>\n",
       "      <th>...</th>\n",
       "      <td>...</td>\n",
       "      <td>...</td>\n",
       "      <td>...</td>\n",
       "    </tr>\n",
       "    <tr>\n",
       "      <th>57</th>\n",
       "      <td>2019-08-27</td>\n",
       "      <td>B</td>\n",
       "      <td>720</td>\n",
       "    </tr>\n",
       "    <tr>\n",
       "      <th>58</th>\n",
       "      <td>2019-08-28</td>\n",
       "      <td>B</td>\n",
       "      <td>654</td>\n",
       "    </tr>\n",
       "    <tr>\n",
       "      <th>59</th>\n",
       "      <td>2019-08-29</td>\n",
       "      <td>B</td>\n",
       "      <td>531</td>\n",
       "    </tr>\n",
       "    <tr>\n",
       "      <th>60</th>\n",
       "      <td>2019-08-30</td>\n",
       "      <td>B</td>\n",
       "      <td>490</td>\n",
       "    </tr>\n",
       "    <tr>\n",
       "      <th>61</th>\n",
       "      <td>2019-08-31</td>\n",
       "      <td>B</td>\n",
       "      <td>718</td>\n",
       "    </tr>\n",
       "  </tbody>\n",
       "</table>\n",
       "<p>62 rows × 3 columns</p>\n",
       "</div>"
      ],
      "text/plain": [
       "          date group  visitors\n",
       "0   2019-08-01     A       719\n",
       "1   2019-08-02     A       619\n",
       "2   2019-08-03     A       507\n",
       "3   2019-08-04     A       717\n",
       "4   2019-08-05     A       756\n",
       "..         ...   ...       ...\n",
       "57  2019-08-27     B       720\n",
       "58  2019-08-28     B       654\n",
       "59  2019-08-29     B       531\n",
       "60  2019-08-30     B       490\n",
       "61  2019-08-31     B       718\n",
       "\n",
       "[62 rows x 3 columns]"
      ]
     },
     "execution_count": 8,
     "metadata": {},
     "output_type": "execute_result"
    }
   ],
   "source": [
    "visitors.info()\n",
    "visitors"
   ]
  },
  {
   "cell_type": "code",
   "execution_count": 9,
   "metadata": {},
   "outputs": [],
   "source": [
    "# Аналогично с предыдущим\n",
    "visitors['date'] = pd.to_datetime(visitors['date'])"
   ]
  },
  {
   "cell_type": "markdown",
   "metadata": {},
   "source": [
    "## Приоритезация гипотез "
   ]
  },
  {
   "cell_type": "markdown",
   "metadata": {},
   "source": [
    "### С помощью ICE"
   ]
  },
  {
   "cell_type": "code",
   "execution_count": 10,
   "metadata": {},
   "outputs": [],
   "source": [
    "hypothesis['ICE'] = hypothesis['Impact'] * hypothesis['Confidence'] / hypothesis['Efforts']"
   ]
  },
  {
   "cell_type": "code",
   "execution_count": 11,
   "metadata": {},
   "outputs": [
    {
     "data": {
      "image/png": "[encoded data removed]",
      "text/plain": [
       "<Figure size 432x288 with 1 Axes>"
      ]
     },
     "metadata": {
      "needs_background": "light"
     },
     "output_type": "display_data"
    }
   ],
   "source": [
    "ax = hypothesis[['Hypothesis', 'ICE']].set_index('Hypothesis').sort_values('ICE', ascending=True).plot(kind='barh')\n",
    "ax.set_xlabel('Приоритет')\n",
    "ax.set_ylabel('Гипотеза')\n",
    "ax.set_title('ICE')\n",
    "plt.show()"
   ]
  },
  {
   "cell_type": "markdown",
   "metadata": {},
   "source": [
    "### С помощью RICE"
   ]
  },
  {
   "cell_type": "code",
   "execution_count": 12,
   "metadata": {},
   "outputs": [],
   "source": [
    "hypothesis['RICE'] = hypothesis['Reach'] * hypothesis['Impact'] * hypothesis['Confidence'] / hypothesis['Efforts']"
   ]
  },
  {
   "cell_type": "code",
   "execution_count": 13,
   "metadata": {},
   "outputs": [
    {
     "data": {
      "image/png": "[encoded data removed]",
      "text/plain": [
       "<Figure size 432x288 with 1 Axes>"
      ]
     },
     "metadata": {
      "needs_background": "light"
     },
     "output_type": "display_data"
    }
   ],
   "source": [
    "ax2 = hypothesis[['Hypothesis', 'RICE']].set_index('Hypothesis').sort_values('RICE', ascending=True).plot(kind='barh')\n",
    "ax2.set_xlabel('Приоритет')\n",
    "ax2.set_ylabel('Гипотеза')\n",
    "ax2.set_title('RICE')\n",
    "plt.show()"
   ]
  },
  {
   "cell_type": "markdown",
   "metadata": {},
   "source": [
    "Изменение в рангах гипотез есть только из-за значения охвата \\\n",
    "Из этого следует, что акция на день рождения даст хороший импакт, но вот охват будет небольшой \\\n",
    "А вот форма подписки дост боооольшущий охват, вот гипотеза и вырвалась вперёд"
   ]
  },
  {
   "cell_type": "markdown",
   "metadata": {},
   "source": [
    "## Анализ A/B теста"
   ]
  },
  {
   "cell_type": "code",
   "execution_count": 14,
   "metadata": {},
   "outputs": [],
   "source": [
    "orders_grouped = (orders.groupby(['date','group'], as_index=False)\n",
    "                        .agg({'transactionid':'nunique','visitorid':'nunique','revenue':'sum'}))\\\n",
    "                        .rename(columns={'transactionid':'orders','visitorid':'buyers'})\n",
    "orders_grouped['group_copy'] = orders_grouped['group']\n",
    "orders_grouped = orders_grouped.set_index(['date','group'])\n",
    "orders_cumsum = orders_grouped.sort_values(['date','group']).groupby('group_copy').cumsum().reset_index()"
   ]
  },
  {
   "cell_type": "code",
   "execution_count": 15,
   "metadata": {},
   "outputs": [],
   "source": [
    "visitors_cumsum = visitors.groupby(['date','group'], as_index=False).agg({'visitors':'sum'}).sort_values(['date','group'])\n",
    "visitors_cumsum['group_copy'] = visitors_cumsum['group']\n",
    "visitors_cumsum = visitors_cumsum.set_index(['date','group']).groupby('group_copy').cumsum().reset_index()    "
   ]
  },
  {
   "cell_type": "code",
   "execution_count": 16,
   "metadata": {},
   "outputs": [],
   "source": [
    "cummulative = orders_cumsum.join(visitors_cumsum[['visitors']])\n",
    "cummulative['average_check'] = cummulative['revenue'] / cummulative['orders']\n",
    "cummulative['conversion'] = cummulative['orders'] / cummulative['visitors']"
   ]
  },
  {
   "cell_type": "markdown",
   "metadata": {},
   "source": [
    "### Кумулятивная выручка по группам"
   ]
  },
  {
   "cell_type": "code",
   "execution_count": 17,
   "metadata": {},
   "outputs": [
    {
     "data": {
      "image/png": "[encoded data removed]",
      "text/plain": [
       "<Figure size 576x576 with 1 Axes>"
      ]
     },
     "metadata": {
      "needs_background": "light"
     },
     "output_type": "display_data"
    }
   ],
   "source": [
    "cummulativeA = cummulative[cummulative['group']=='A'][['date', 'revenue']]\n",
    "cummulativeB = cummulative[cummulative['group']=='B'][['date', 'revenue']]\n",
    "plt.figure(figsize=(8,8))\n",
    "plt.plot(cummulativeA.iloc[:,0].to_frame(), cummulativeA.iloc[:,1].to_frame(), label='A' )\n",
    "plt.plot(cummulativeB.iloc[:,0].to_frame(), cummulativeB.iloc[:,1].to_frame(), label='B')\n",
    "plt.title('Кумулятивная выручка по группам')\n",
    "plt.ylabel(\"Выручка\")\n",
    "plt.xlabel('Дата')\n",
    "plt.xticks(rotation=45)\n",
    "plt.legend()\n",
    "plt.show()"
   ]
  },
  {
   "cell_type": "markdown",
   "metadata": {},
   "source": [
    "У группы В в районе 17 числа есть сильный рост, будем посмотреть"
   ]
  },
  {
   "cell_type": "markdown",
   "metadata": {},
   "source": [
    "### Кумулятивный средний чек по группам"
   ]
  },
  {
   "cell_type": "code",
   "execution_count": 18,
   "metadata": {},
   "outputs": [
    {
     "data": {
      "image/png": "[encoded data removed]",
      "text/plain": [
       "<Figure size 576x576 with 1 Axes>"
      ]
     },
     "metadata": {
      "needs_background": "light"
     },
     "output_type": "display_data"
    }
   ],
   "source": [
    "cummulativeA = cummulative[cummulative['group']=='A'][['date', 'average_check']]\n",
    "cummulativeB = cummulative[cummulative['group']=='B'][['date', 'average_check']]\n",
    "plt.figure(figsize=(8,8))\n",
    "plt.plot(cummulativeA.iloc[:,0].to_frame(), cummulativeA.iloc[:,1].to_frame(), label='A' )\n",
    "plt.plot(cummulativeB.iloc[:,0].to_frame(), cummulativeB.iloc[:,1].to_frame(), label='B')\n",
    "plt.title('Кумулятивный средний чек по группам')\n",
    "plt.ylabel(\"Выручка\")\n",
    "plt.xlabel('Дата')\n",
    "plt.xticks(rotation=45)\n",
    "plt.legend()\n",
    "plt.show()"
   ]
  },
  {
   "cell_type": "markdown",
   "metadata": {},
   "source": [
    "Та же картина, резкий рост в районе 17 числа у группы В"
   ]
  },
  {
   "cell_type": "markdown",
   "metadata": {},
   "source": [
    "### Относительное изменение среднего чека по группам"
   ]
  },
  {
   "cell_type": "code",
   "execution_count": 19,
   "metadata": {},
   "outputs": [
    {
     "data": {
      "image/png": "[encoded data removed]",
      "text/plain": [
       "<Figure size 576x576 with 1 Axes>"
      ]
     },
     "metadata": {
      "needs_background": "light"
     },
     "output_type": "display_data"
    }
   ],
   "source": [
    "temp = (cummulativeA[['date', 'average_check']].merge(cummulativeB[['date', 'average_check']], \n",
    "                                            left_on='date', right_on='date', how='left', suffixes=['_A', '_B']))\n",
    "plt.figure(figsize=(8,8))\n",
    "plt.plot(temp['date'], temp['average_check_B'] / temp['average_check_A']-1)\n",
    "plt.title('График относительного изменения кумулятивного среднего чека группы B к группе A')\n",
    "plt.axhline(y=0, color='red', linestyle='-')\n",
    "plt.xlabel('Дата')\n",
    "plt.ylabel('Средний чек')\n",
    "plt.xticks(rotation=45)\n",
    "plt.show()"
   ]
  },
  {
   "cell_type": "markdown",
   "metadata": {},
   "source": [
    "И ещё раз таже картина - резкий рост в районе 17 числа \\\n",
    "Все три графика говорят об одном, есть выбросы"
   ]
  },
  {
   "cell_type": "markdown",
   "metadata": {},
   "source": [
    "### Кумулятивная конверсия по группам"
   ]
  },
  {
   "cell_type": "code",
   "execution_count": 20,
   "metadata": {},
   "outputs": [
    {
     "data": {
      "image/png": "[encoded data removed]",
      "text/plain": [
       "<Figure size 576x576 with 1 Axes>"
      ]
     },
     "metadata": {
      "needs_background": "light"
     },
     "output_type": "display_data"
    }
   ],
   "source": [
    "cummulativeA = cummulative[cummulative['group']=='A'][['date', 'conversion']]\n",
    "cummulativeB = cummulative[cummulative['group']=='B'][['date', 'conversion']]\n",
    "plt.figure(figsize=(8,8))\n",
    "plt.plot(cummulativeA.iloc[:,0].to_frame(), cummulativeA.iloc[:,1].to_frame(), label='A' )\n",
    "plt.plot(cummulativeB.iloc[:,0].to_frame(), cummulativeB.iloc[:,1].to_frame(), label='B')\n",
    "plt.title('График кумулятивной конверсии по группам')\n",
    "plt.ylabel(\"Выручка\")\n",
    "plt.xlabel('Дата')\n",
    "plt.xticks(rotation=45)\n",
    "plt.legend()\n",
    "plt.show()"
   ]
  },
  {
   "cell_type": "markdown",
   "metadata": {},
   "source": [
    "А вот график конверсии не показывает резких выбросов \\\n",
    "После нормализации начальных пиков графики ведут себя более-менее прилично"
   ]
  },
  {
   "cell_type": "markdown",
   "metadata": {},
   "source": [
    "### Относительное изменение кумулятиной конверсии по группам"
   ]
  },
  {
   "cell_type": "code",
   "execution_count": 21,
   "metadata": {},
   "outputs": [
    {
     "data": {
      "image/png": "[encoded data removed]",
      "text/plain": [
       "<Figure size 576x576 with 1 Axes>"
      ]
     },
     "metadata": {
      "needs_background": "light"
     },
     "output_type": "display_data"
    }
   ],
   "source": [
    "temp = (cummulativeA[['date', 'conversion']].merge(cummulativeB[['date', 'conversion']], \n",
    "                                            left_on='date', right_on='date', how='left', suffixes=['_A', '_B']))\n",
    "plt.figure(figsize=(8,8))\n",
    "plt.plot(temp['date'], temp['conversion_B'] / temp['conversion_A']-1)\n",
    "plt.title('График относительного изменения кумулятивной конверсии группы B к группе A')\n",
    "plt.axhline(y=0, color='red', linestyle='-')\n",
    "plt.xlabel('Дата')\n",
    "plt.ylabel('Конверсия')\n",
    "plt.xticks(rotation=45)\n",
    "plt.show()"
   ]
  },
  {
   "cell_type": "markdown",
   "metadata": {},
   "source": [
    "Однозначно можно сказать, что конверсия группы В лучше группы А"
   ]
  },
  {
   "cell_type": "markdown",
   "metadata": {},
   "source": [
    "### Точечный график количества заказов"
   ]
  },
  {
   "cell_type": "code",
   "execution_count": 22,
   "metadata": {},
   "outputs": [],
   "source": [
    "orders_per_user = orders.groupby('visitorid', as_index=False).agg({'transactionid':'nunique'})\\\n",
    "                         .rename(columns={'transactionid':'orders'})"
   ]
  },
  {
   "cell_type": "code",
   "execution_count": 23,
   "metadata": {},
   "outputs": [
    {
     "data": {
      "image/png": "[encoded data removed]",
      "text/plain": [
       "<Figure size 576x576 with 1 Axes>"
      ]
     },
     "metadata": {
      "needs_background": "light"
     },
     "output_type": "display_data"
    }
   ],
   "source": [
    "x_values = pd.Series(range(0,len(orders_per_user['orders'])))\n",
    "plt.figure(figsize=(8,8))\n",
    "plt.scatter(x_values, orders_per_user['orders'], color='red')\n",
    "plt.title('Точечный график количества заказов по Id')\n",
    "plt.ylabel('Количество заказов')\n",
    "plt.xlabel('')\n",
    "plt.show()"
   ]
  },
  {
   "cell_type": "markdown",
   "metadata": {},
   "source": [
    "Больше всего единичных заказов, есть выбросы больше десяти штук"
   ]
  },
  {
   "cell_type": "markdown",
   "metadata": {},
   "source": [
    "### Считаем перцентили количества заказов"
   ]
  },
  {
   "cell_type": "code",
   "execution_count": 24,
   "metadata": {},
   "outputs": [
    {
     "name": "stdout",
     "output_type": "stream",
     "text": [
      "90 перцентиль: 1.00\n",
      "95 перцентиль: 1.00\n",
      "99 перцентиль: 2.00\n"
     ]
    }
   ],
   "source": [
    "print('90 перцентиль: %.2f' % (np.percentile(orders_per_user['orders'], [90])))\n",
    "print('95 перцентиль: %.2f' % (np.percentile(orders_per_user['orders'], [95])))\n",
    "print('99 перцентиль: %.2f' % (np.percentile(orders_per_user['orders'], [99])))"
   ]
  },
  {
   "cell_type": "markdown",
   "metadata": {},
   "source": [
    "В целом можно сказать, что всё, что больше 4 заказов - аномалия, будем избавляться"
   ]
  },
  {
   "cell_type": "code",
   "execution_count": 25,
   "metadata": {},
   "outputs": [],
   "source": [
    "outlaws_1p = orders_per_user[orders_per_user['orders'] >= 4]['visitorid'].to_list()"
   ]
  },
  {
   "cell_type": "markdown",
   "metadata": {},
   "source": [
    "### Точечный график суммы заказов"
   ]
  },
  {
   "cell_type": "code",
   "execution_count": 26,
   "metadata": {},
   "outputs": [
    {
     "data": {
      "image/png": "[encoded data removed]",
      "text/plain": [
       "<Figure size 576x576 with 1 Axes>"
      ]
     },
     "metadata": {
      "needs_background": "light"
     },
     "output_type": "display_data"
    }
   ],
   "source": [
    "x_values = pd.Series(range(0,len(orders['revenue'])))\n",
    "plt.figure(figsize=(8,8))\n",
    "plt.scatter(x_values, orders['revenue'], color='red')\n",
    "plt.title('Точечный график сумм заказов')\n",
    "plt.ylabel(\"Сумма заказа\")\n",
    "plt.show()"
   ]
  },
  {
   "cell_type": "markdown",
   "metadata": {},
   "source": [
    "Видно только два аномальных значения, всё остальное лежит в общей массе"
   ]
  },
  {
   "cell_type": "code",
   "execution_count": 27,
   "metadata": {},
   "outputs": [
    {
     "data": {
      "text/html": [
       "<div>\n",
       "<style scoped>\n",
       "    .dataframe tbody tr th:only-of-type {\n",
       "        vertical-align: middle;\n",
       "    }\n",
       "\n",
       "    .dataframe tbody tr th {\n",
       "        vertical-align: top;\n",
       "    }\n",
       "\n",
       "    .dataframe thead th {\n",
       "        text-align: right;\n",
       "    }\n",
       "</style>\n",
       "<table border=\"1\" class=\"dataframe\">\n",
       "  <thead>\n",
       "    <tr style=\"text-align: right;\">\n",
       "      <th></th>\n",
       "      <th>transactionid</th>\n",
       "      <th>visitorid</th>\n",
       "      <th>date</th>\n",
       "      <th>revenue</th>\n",
       "      <th>group</th>\n",
       "    </tr>\n",
       "  </thead>\n",
       "  <tbody>\n",
       "    <tr>\n",
       "      <th>425</th>\n",
       "      <td>590470918</td>\n",
       "      <td>1920142716</td>\n",
       "      <td>2019-08-19</td>\n",
       "      <td>1294500</td>\n",
       "      <td>B</td>\n",
       "    </tr>\n",
       "    <tr>\n",
       "      <th>1196</th>\n",
       "      <td>3936777065</td>\n",
       "      <td>2108080724</td>\n",
       "      <td>2019-08-15</td>\n",
       "      <td>202740</td>\n",
       "      <td>B</td>\n",
       "    </tr>\n",
       "  </tbody>\n",
       "</table>\n",
       "</div>"
      ],
      "text/plain": [
       "      transactionid   visitorid       date  revenue group\n",
       "425       590470918  1920142716 2019-08-19  1294500     B\n",
       "1196     3936777065  2108080724 2019-08-15   202740     B"
      ]
     },
     "execution_count": 27,
     "metadata": {},
     "output_type": "execute_result"
    }
   ],
   "source": [
    "orders.query('revenue > 100000')"
   ]
  },
  {
   "cell_type": "markdown",
   "metadata": {},
   "source": [
    "А вот и выбросы в районе 17 числа, которые привели к скачкам"
   ]
  },
  {
   "cell_type": "markdown",
   "metadata": {},
   "source": [
    "### Считаем перцентили выручки"
   ]
  },
  {
   "cell_type": "code",
   "execution_count": 28,
   "metadata": {},
   "outputs": [
    {
     "name": "stdout",
     "output_type": "stream",
     "text": [
      "90 перцентиль: 17990.00\n",
      "95 перцентиль: 26785.00\n",
      "99 перцентиль: 53904.00\n"
     ]
    }
   ],
   "source": [
    "print('90 перцентиль: %.2f' % (np.percentile(orders['revenue'], [90])))\n",
    "print('95 перцентиль: %.2f' % (np.percentile(orders['revenue'], [95])))\n",
    "print('99 перцентиль: %.2f' % (np.percentile(orders['revenue'], [99])))"
   ]
  },
  {
   "cell_type": "markdown",
   "metadata": {},
   "source": [
    "Спокойно можно брать за аномалии всё, что выше 99 процентиля"
   ]
  },
  {
   "cell_type": "markdown",
   "metadata": {},
   "source": [
    "### Стат. значимость различий между конверсиями по группам по неочищенным данным"
   ]
  },
  {
   "cell_type": "code",
   "execution_count": 29,
   "metadata": {},
   "outputs": [],
   "source": [
    "conversion = (orders.groupby('group').agg({'transactionid':'count'}).rename(columns={'transactionid':'orders'}))\\\n",
    "                                     .join((visitors.groupby('group').agg({'visitors':'sum'}))).reset_index()\n",
    "conversion['conversion'] = conversion['orders'] / conversion['visitors']"
   ]
  },
  {
   "cell_type": "code",
   "execution_count": 30,
   "metadata": {},
   "outputs": [],
   "source": [
    "# Зададим рассчёт z-значения функцией\n",
    "def z_val(diff, comb, leads):\n",
    "    z_value = diff / math.sqrt(comb * (1 - comb) * (1 / leads[0] + 1 / leads[1]))\n",
    "    return(z_value)"
   ]
  },
  {
   "cell_type": "markdown",
   "metadata": {},
   "source": [
    "Воспользуемся Z-критерием для разности двух долей. \\\n",
    "H0: Конверсия в группе A РАВНА конверсии в группе B \\\n",
    "H1: Конверсия в группе A НЕ РАВНА конверсии в группе B "
   ]
  },
  {
   "cell_type": "code",
   "execution_count": 31,
   "metadata": {},
   "outputs": [
    {
     "name": "stdout",
     "output_type": "stream",
     "text": [
      "p-значение:  0.016851380434703023\n",
      "Отвергаем нулевую гипотезу\n"
     ]
    }
   ],
   "source": [
    "alpha=0.05\n",
    "purchases = np.array(conversion['orders'])\n",
    "leads = np.array(conversion['visitors'])\n",
    "p1 = purchases[0] / leads[0]\n",
    "p2 = purchases[1] / leads[1]\n",
    "combined = (purchases[0] + purchases[1]) / (leads[0] + leads[1])\n",
    "difference = p1-p2\n",
    "distr = st.norm(0,1)\n",
    "p_value = (1 - distr.cdf(abs(z_val(difference, combined, leads)))) * 2\n",
    "print('p-значение: ', p_value)\n",
    "if (p_value < alpha):\n",
    "    print(\"Отвергаем нулевую гипотезу\")\n",
    "else:\n",
    "    print(\"Не получилось отвергнуть нулевую гипотезу\")"
   ]
  },
  {
   "cell_type": "markdown",
   "metadata": {},
   "source": [
    "Всё же конверсия группы В выше конверсии группы А"
   ]
  },
  {
   "cell_type": "markdown",
   "metadata": {},
   "source": [
    "### Стат. значимость различий между средним чеком групп по сырым данным"
   ]
  },
  {
   "cell_type": "markdown",
   "metadata": {},
   "source": [
    "Воспользуемся критерием Манна-Уитни \\\n",
    "H0: Средний чек A НЕ ПРЕВОСХОДИТ среднему чеку группы B \\\n",
    "H1: Средний чек A ПРЕВОСХОДИТ среднему чеку группы B "
   ]
  },
  {
   "cell_type": "code",
   "execution_count": 32,
   "metadata": {},
   "outputs": [
    {
     "name": "stdout",
     "output_type": "stream",
     "text": [
      "p-значение:  0.8294908998149533\n",
      "Не получилось отвергнуть H0: вывод о различии сделать нельзя\n"
     ]
    }
   ],
   "source": [
    "alpha = 0.05\n",
    "results = st.mannwhitneyu(orders[orders['group']=='A']['revenue'], orders[orders['group']=='B']['revenue'])\n",
    "pvalue = results.pvalue\n",
    "print('p-значение: ', pvalue)\n",
    "if (pvalue < alpha):\n",
    "    print(\"Отвергаем H0: разница статистически значима\")\n",
    "else:\n",
    "    print(\"Не получилось отвергнуть H0: вывод о различии сделать нельзя\")"
   ]
  },
  {
   "cell_type": "code",
   "execution_count": 33,
   "metadata": {},
   "outputs": [
    {
     "data": {
      "text/plain": [
       "7189.4358974358975"
      ]
     },
     "execution_count": 33,
     "metadata": {},
     "output_type": "execute_result"
    }
   ],
   "source": [
    "orders[orders['group']=='A']['revenue'].mean()"
   ]
  },
  {
   "cell_type": "code",
   "execution_count": 34,
   "metadata": {},
   "outputs": [
    {
     "data": {
      "text/plain": [
       "9249.94890510949"
      ]
     },
     "execution_count": 34,
     "metadata": {},
     "output_type": "execute_result"
    }
   ],
   "source": [
    "orders[orders['group']=='B']['revenue'].mean()"
   ]
  },
  {
   "cell_type": "markdown",
   "metadata": {},
   "source": [
    "Средний чек группы В больше"
   ]
  },
  {
   "cell_type": "markdown",
   "metadata": {},
   "source": [
    "По \"грязным\" данным группа В превосходит группу А, но это только пока. Стоит посмотреть и после очистики"
   ]
  },
  {
   "cell_type": "markdown",
   "metadata": {},
   "source": [
    "### Стат. значимость различий конверсий группы по очищенным данным"
   ]
  },
  {
   "cell_type": "code",
   "execution_count": 35,
   "metadata": {},
   "outputs": [],
   "source": [
    "orders_temp = orders[~orders['visitorid'].isin(outlaws_1p)]\n",
    "conversion_clear = (orders_temp.groupby('group').agg({'transactionid':'count'}).rename(columns={'transactionid':'orders'}))\\\n",
    "                                                .join((visitors.groupby('group').agg({'visitors':'sum'}))).reset_index()"
   ]
  },
  {
   "cell_type": "markdown",
   "metadata": {},
   "source": [
    "Воспользуемся Z-критерием для разности двух долей. \\\n",
    "H0: Конверсия в группе A РАВНА конверсии в группе B \\\n",
    "H1: Конверсия в группе A НЕ РАВНА конверсии в группе B "
   ]
  },
  {
   "cell_type": "code",
   "execution_count": 36,
   "metadata": {},
   "outputs": [
    {
     "name": "stdout",
     "output_type": "stream",
     "text": [
      "p-значение:  0.016851380434703023\n",
      "Отвергаем нулевую гипотезу\n"
     ]
    }
   ],
   "source": [
    "alpha=0.05\n",
    "purchases = np.array(conversion_clear['orders'])\n",
    "leads = np.array(conversion_clear['visitors'])\n",
    "p1 = purchases[0] / leads[0]\n",
    "p2 = purchases[1] / leads[1]\n",
    "combined = (purchases[0] + purchases[1]) / (leads[0] + leads[1])\n",
    "difference = p1-p2\n",
    "distr = st.norm(0,1)\n",
    "p_value = (1 - distr.cdf(abs(z_val(difference, combined, leads)))) * 2\n",
    "print('p-значение: ', p_value)\n",
    "if (p_value < alpha):\n",
    "    print(\"Отвергаем нулевую гипотезу\")\n",
    "else:\n",
    "    print(\"Не получилось отвергнуть нулевую гипотезу\")"
   ]
  },
  {
   "cell_type": "markdown",
   "metadata": {},
   "source": [
    "И опять конверсия В больше"
   ]
  },
  {
   "cell_type": "markdown",
   "metadata": {},
   "source": [
    "### Стат. значимость различий средних чеков групп по очищенным данным"
   ]
  },
  {
   "cell_type": "code",
   "execution_count": 37,
   "metadata": {},
   "outputs": [],
   "source": [
    "orders_clear = orders.query('revenue <= 58233')"
   ]
  },
  {
   "cell_type": "markdown",
   "metadata": {},
   "source": [
    "Воспользуемся критерием Манна-Уитни \\\n",
    "H0: Средний чек A НЕ ПРЕВОСХОДИТ среднему чеку группы B \\\n",
    "H1: Средний чек A ПРЕВОСХОДИТ среднему чеку группы B"
   ]
  },
  {
   "cell_type": "code",
   "execution_count": 38,
   "metadata": {},
   "outputs": [
    {
     "name": "stdout",
     "output_type": "stream",
     "text": [
      "p-значение:  0.9006884356560738\n",
      "Не получилось отвергнуть H0: вывод о различии сделать нельзя\n"
     ]
    }
   ],
   "source": [
    "alpha = 0.05\n",
    "results = st.mannwhitneyu(orders_clear[orders_clear['group']=='A']['revenue'], orders_clear[orders_clear['group']=='B']['revenue'])\n",
    "pvalue = results.pvalue\n",
    "print('p-значение: ', pvalue)\n",
    "if (pvalue < alpha):\n",
    "    print(\"Отвергаем H0: разница статистически значима\")\n",
    "else:\n",
    "    print(\"Не получилось отвергнуть H0: вывод о различии сделать нельзя\")"
   ]
  },
  {
   "cell_type": "code",
   "execution_count": 39,
   "metadata": {},
   "outputs": [
    {
     "data": {
      "text/plain": [
       "6504.548596112311"
      ]
     },
     "execution_count": 39,
     "metadata": {},
     "output_type": "execute_result"
    }
   ],
   "source": [
    "orders_clear[orders_clear['group']=='A']['revenue'].mean()"
   ]
  },
  {
   "cell_type": "code",
   "execution_count": 40,
   "metadata": {},
   "outputs": [
    {
     "data": {
      "text/plain": [
       "6298.827205882353"
      ]
     },
     "execution_count": 40,
     "metadata": {},
     "output_type": "execute_result"
    }
   ],
   "source": [
    "orders_clear[orders_clear['group']=='B']['revenue'].mean()"
   ]
  },
  {
   "cell_type": "markdown",
   "metadata": {},
   "source": [
    "Даже после очистки средний чек выше у группы В, но статистически разница уже меньше"
   ]
  },
  {
   "cell_type": "markdown",
   "metadata": {},
   "source": [
    "### Решение на основе анализа"
   ]
  },
  {
   "cell_type": "markdown",
   "metadata": {},
   "source": [
    "Группа В статистически лучше группы А \\\n",
    "Возможно стоит продлить тест на некоторое время и посмотреть на результат точнее, если позволяет бюджет, если нет - принимаем решение о изменении"
   ]
  },
  {
   "cell_type": "markdown",
   "metadata": {},
   "source": [
    "По итогу: \\\n",
    "Посмотрели на распределение данных, конверсию и корреляцию до очистки и после \\\n",
    "Большая часть заказов лежит в общем русле, но есть и достаточно крупные, относительно общего числа, выбросы \\\n",
    "Проверили стат. значимость до очистки и после \\\n",
    "Можно сказать, что по \"грязным\" данным группа В значительно лучше группы А, но после чистки ситуация чуть исправилась. Определённо сказать, что какая-то группа сильнее - нельзя"
   ]
  }
 ],
 "metadata": {
  "ExecuteTimeLog": [
   {
    "duration": 1238,
    "start_time": "2022-06-10T11:05:30.006Z"
   },
   {
    "duration": 3,
    "start_time": "2022-06-10T11:05:38.638Z"
   },
   {
    "duration": 198,
    "start_time": "2022-06-10T11:08:42.570Z"
   },
   {
    "duration": 81,
    "start_time": "2022-06-10T11:12:04.794Z"
   },
   {
    "duration": 10,
    "start_time": "2022-06-10T11:12:10.558Z"
   },
   {
    "duration": 15,
    "start_time": "2022-06-10T11:12:28.135Z"
   },
   {
    "duration": 18,
    "start_time": "2022-06-10T11:12:53.191Z"
   },
   {
    "duration": 5,
    "start_time": "2022-06-10T11:15:19.470Z"
   },
   {
    "duration": 15,
    "start_time": "2022-06-10T11:16:15.206Z"
   },
   {
    "duration": 2,
    "start_time": "2022-06-10T11:16:39.974Z"
   },
   {
    "duration": 3,
    "start_time": "2022-06-10T11:16:44.451Z"
   },
   {
    "duration": 38,
    "start_time": "2022-06-10T11:17:56.410Z"
   },
   {
    "duration": 4,
    "start_time": "2022-06-10T11:17:58.919Z"
   },
   {
    "duration": 309,
    "start_time": "2022-06-10T11:17:59.300Z"
   },
   {
    "duration": 4,
    "start_time": "2022-06-10T11:18:26.415Z"
   },
   {
    "duration": 275,
    "start_time": "2022-06-10T11:18:40.123Z"
   },
   {
    "duration": 3,
    "start_time": "2022-06-10T11:28:58.106Z"
   },
   {
    "duration": 11,
    "start_time": "2022-06-10T11:29:03.444Z"
   },
   {
    "duration": 4,
    "start_time": "2022-06-10T11:29:14.218Z"
   },
   {
    "duration": 7,
    "start_time": "2022-06-10T11:29:19.687Z"
   },
   {
    "duration": 7,
    "start_time": "2022-06-10T11:31:42.038Z"
   },
   {
    "duration": 8,
    "start_time": "2022-06-10T11:32:27.303Z"
   },
   {
    "duration": 35,
    "start_time": "2022-06-10T11:32:38.041Z"
   },
   {
    "duration": 31,
    "start_time": "2022-06-10T11:32:41.912Z"
   },
   {
    "duration": 7,
    "start_time": "2022-06-10T11:32:49.475Z"
   },
   {
    "duration": 4,
    "start_time": "2022-06-10T11:33:02.823Z"
   },
   {
    "duration": 43,
    "start_time": "2022-06-10T11:33:15.492Z"
   },
   {
    "duration": 10,
    "start_time": "2022-06-10T11:33:56.337Z"
   },
   {
    "duration": 4,
    "start_time": "2022-06-10T11:34:02.408Z"
   },
   {
    "duration": 3,
    "start_time": "2022-06-10T11:35:23.773Z"
   },
   {
    "duration": 11,
    "start_time": "2022-06-10T11:35:27.686Z"
   },
   {
    "duration": 17,
    "start_time": "2022-06-10T11:36:30.297Z"
   },
   {
    "duration": 15,
    "start_time": "2022-06-10T11:36:36.527Z"
   },
   {
    "duration": 10,
    "start_time": "2022-06-10T11:37:00.084Z"
   },
   {
    "duration": 14,
    "start_time": "2022-06-10T11:39:32.286Z"
   },
   {
    "duration": 16,
    "start_time": "2022-06-10T11:39:51.496Z"
   },
   {
    "duration": 15,
    "start_time": "2022-06-10T11:40:10.388Z"
   },
   {
    "duration": 6,
    "start_time": "2022-06-10T11:42:42.887Z"
   },
   {
    "duration": 334,
    "start_time": "2022-06-10T11:43:16.132Z"
   },
   {
    "duration": 263,
    "start_time": "2022-06-10T11:44:01.986Z"
   },
   {
    "duration": 240,
    "start_time": "2022-06-10T11:44:16.246Z"
   },
   {
    "duration": 419,
    "start_time": "2022-06-10T11:44:54.862Z"
   },
   {
    "duration": 319,
    "start_time": "2022-06-10T11:46:19.566Z"
   },
   {
    "duration": 312,
    "start_time": "2022-06-10T11:47:26.133Z"
   },
   {
    "duration": 6,
    "start_time": "2022-06-10T11:50:07.505Z"
   },
   {
    "duration": 155,
    "start_time": "2022-06-10T11:50:15.369Z"
   },
   {
    "duration": 6,
    "start_time": "2022-06-10T11:51:12.674Z"
   },
   {
    "duration": 4,
    "start_time": "2022-06-10T11:51:56.205Z"
   },
   {
    "duration": 140,
    "start_time": "2022-06-10T11:52:03.458Z"
   },
   {
    "duration": 10,
    "start_time": "2022-06-10T11:53:10.094Z"
   },
   {
    "duration": 5,
    "start_time": "2022-06-10T11:53:53.570Z"
   },
   {
    "duration": 10,
    "start_time": "2022-06-10T11:59:41.364Z"
   },
   {
    "duration": 6,
    "start_time": "2022-06-10T11:59:43.741Z"
   },
   {
    "duration": 7,
    "start_time": "2022-06-10T12:01:03.288Z"
   },
   {
    "duration": 6,
    "start_time": "2022-06-10T12:06:57.873Z"
   },
   {
    "duration": 8,
    "start_time": "2022-06-10T12:07:24.777Z"
   },
   {
    "duration": 11,
    "start_time": "2022-06-10T12:07:34.899Z"
   },
   {
    "duration": 9,
    "start_time": "2022-06-10T12:07:52.928Z"
   },
   {
    "duration": 7,
    "start_time": "2022-06-10T12:07:53.620Z"
   },
   {
    "duration": 253,
    "start_time": "2022-06-10T12:11:52.136Z"
   },
   {
    "duration": 37,
    "start_time": "2022-06-10T12:12:52.924Z"
   },
   {
    "duration": 5,
    "start_time": "2022-06-10T12:26:30.851Z"
   },
   {
    "duration": 5,
    "start_time": "2022-06-10T12:26:37.323Z"
   },
   {
    "duration": 4,
    "start_time": "2022-06-10T12:28:47.702Z"
   },
   {
    "duration": 11,
    "start_time": "2022-06-10T12:29:04.205Z"
   },
   {
    "duration": 5,
    "start_time": "2022-06-10T12:29:14.758Z"
   },
   {
    "duration": 5,
    "start_time": "2022-06-10T12:29:19.750Z"
   },
   {
    "duration": 1307,
    "start_time": "2022-06-11T10:21:52.735Z"
   },
   {
    "duration": 200,
    "start_time": "2022-06-11T10:21:54.045Z"
   },
   {
    "duration": 26,
    "start_time": "2022-06-11T10:21:54.248Z"
   },
   {
    "duration": 20,
    "start_time": "2022-06-11T10:21:54.276Z"
   },
   {
    "duration": 9,
    "start_time": "2022-06-11T10:21:54.298Z"
   },
   {
    "duration": 17,
    "start_time": "2022-06-11T10:21:54.308Z"
   },
   {
    "duration": 6,
    "start_time": "2022-06-11T10:21:54.327Z"
   },
   {
    "duration": 9,
    "start_time": "2022-06-11T10:21:54.334Z"
   },
   {
    "duration": 271,
    "start_time": "2022-06-11T10:21:54.345Z"
   },
   {
    "duration": 3,
    "start_time": "2022-06-11T10:21:54.618Z"
   },
   {
    "duration": 252,
    "start_time": "2022-06-11T10:21:54.623Z"
   },
   {
    "duration": 4,
    "start_time": "2022-06-11T10:21:54.876Z"
   },
   {
    "duration": 22,
    "start_time": "2022-06-11T10:21:54.884Z"
   },
   {
    "duration": 15,
    "start_time": "2022-06-11T10:21:54.908Z"
   },
   {
    "duration": 10,
    "start_time": "2022-06-11T10:21:54.924Z"
   },
   {
    "duration": 284,
    "start_time": "2022-06-11T10:21:54.935Z"
   },
   {
    "duration": 191,
    "start_time": "2022-06-11T10:21:55.220Z"
   },
   {
    "duration": 308,
    "start_time": "2022-06-11T10:21:55.412Z"
   },
   {
    "duration": 198,
    "start_time": "2022-06-11T10:21:55.721Z"
   },
   {
    "duration": 356,
    "start_time": "2022-06-11T10:21:55.921Z"
   },
   {
    "duration": 6,
    "start_time": "2022-06-11T10:21:56.279Z"
   },
   {
    "duration": 135,
    "start_time": "2022-06-11T10:21:56.287Z"
   },
   {
    "duration": 7,
    "start_time": "2022-06-11T10:21:56.424Z"
   },
   {
    "duration": 15,
    "start_time": "2022-06-11T10:21:56.433Z"
   },
   {
    "duration": 224,
    "start_time": "2022-06-11T10:21:56.451Z"
   },
   {
    "duration": 11,
    "start_time": "2022-06-11T10:21:56.677Z"
   },
   {
    "duration": 8,
    "start_time": "2022-06-11T10:21:56.689Z"
   },
   {
    "duration": 11,
    "start_time": "2022-06-11T10:21:56.699Z"
   },
   {
    "duration": 9,
    "start_time": "2022-06-11T10:21:56.712Z"
   },
   {
    "duration": 12,
    "start_time": "2022-06-11T10:21:56.722Z"
   },
   {
    "duration": 16,
    "start_time": "2022-06-11T10:21:56.759Z"
   },
   {
    "duration": 11,
    "start_time": "2022-06-11T10:21:56.777Z"
   },
   {
    "duration": 11,
    "start_time": "2022-06-11T10:21:56.790Z"
   },
   {
    "duration": 6,
    "start_time": "2022-06-11T10:21:56.802Z"
   },
   {
    "duration": 7,
    "start_time": "2022-06-11T10:21:56.810Z"
   },
   {
    "duration": 11,
    "start_time": "2022-06-11T10:21:56.819Z"
   },
   {
    "duration": 4,
    "start_time": "2022-06-11T10:21:56.832Z"
   },
   {
    "duration": 26,
    "start_time": "2022-06-11T10:21:56.838Z"
   },
   {
    "duration": 1098,
    "start_time": "2022-06-11T10:26:35.792Z"
   },
   {
    "duration": 84,
    "start_time": "2022-06-11T10:26:36.892Z"
   },
   {
    "duration": 21,
    "start_time": "2022-06-11T10:26:36.977Z"
   },
   {
    "duration": 17,
    "start_time": "2022-06-11T10:26:37.000Z"
   },
   {
    "duration": 7,
    "start_time": "2022-06-11T10:26:37.018Z"
   },
   {
    "duration": 17,
    "start_time": "2022-06-11T10:26:37.026Z"
   },
   {
    "duration": 23,
    "start_time": "2022-06-11T10:26:37.044Z"
   },
   {
    "duration": 5,
    "start_time": "2022-06-11T10:26:37.073Z"
   },
   {
    "duration": 310,
    "start_time": "2022-06-11T10:26:37.079Z"
   },
   {
    "duration": 4,
    "start_time": "2022-06-11T10:26:37.392Z"
   },
   {
    "duration": 276,
    "start_time": "2022-06-11T10:26:37.398Z"
   },
   {
    "duration": 3,
    "start_time": "2022-06-11T10:26:37.676Z"
   },
   {
    "duration": 18,
    "start_time": "2022-06-11T10:26:37.681Z"
   },
   {
    "duration": 13,
    "start_time": "2022-06-11T10:26:37.700Z"
   },
   {
    "duration": 5,
    "start_time": "2022-06-11T10:26:37.715Z"
   },
   {
    "duration": 264,
    "start_time": "2022-06-11T10:26:37.721Z"
   },
   {
    "duration": 206,
    "start_time": "2022-06-11T10:26:37.986Z"
   },
   {
    "duration": 298,
    "start_time": "2022-06-11T10:26:38.195Z"
   },
   {
    "duration": 215,
    "start_time": "2022-06-11T10:26:38.494Z"
   },
   {
    "duration": 319,
    "start_time": "2022-06-11T10:26:38.711Z"
   },
   {
    "duration": 8,
    "start_time": "2022-06-11T10:26:39.032Z"
   },
   {
    "duration": 141,
    "start_time": "2022-06-11T10:26:39.041Z"
   },
   {
    "duration": 7,
    "start_time": "2022-06-11T10:26:39.184Z"
   },
   {
    "duration": 8,
    "start_time": "2022-06-11T10:26:39.193Z"
   },
   {
    "duration": 238,
    "start_time": "2022-06-11T10:26:39.204Z"
   },
   {
    "duration": 20,
    "start_time": "2022-06-11T10:26:39.443Z"
   },
   {
    "duration": 35,
    "start_time": "2022-06-11T10:26:39.465Z"
   },
   {
    "duration": 11,
    "start_time": "2022-06-11T10:26:39.503Z"
   },
   {
    "duration": 7,
    "start_time": "2022-06-11T10:26:39.516Z"
   },
   {
    "duration": 11,
    "start_time": "2022-06-11T10:26:39.525Z"
   },
   {
    "duration": 5,
    "start_time": "2022-06-11T10:26:39.538Z"
   },
   {
    "duration": 7,
    "start_time": "2022-06-11T10:26:39.544Z"
   },
   {
    "duration": 19,
    "start_time": "2022-06-11T10:26:39.559Z"
   },
   {
    "duration": 21,
    "start_time": "2022-06-11T10:26:39.580Z"
   },
   {
    "duration": 10,
    "start_time": "2022-06-11T10:26:39.603Z"
   },
   {
    "duration": 12,
    "start_time": "2022-06-11T10:26:39.614Z"
   },
   {
    "duration": 6,
    "start_time": "2022-06-11T10:26:39.628Z"
   },
   {
    "duration": 7,
    "start_time": "2022-06-11T10:26:39.636Z"
   },
   {
    "duration": 50,
    "start_time": "2022-06-12T08:55:48.045Z"
   },
   {
    "duration": 1432,
    "start_time": "2022-06-12T08:55:50.733Z"
   },
   {
    "duration": 171,
    "start_time": "2022-06-12T08:55:52.167Z"
   },
   {
    "duration": 21,
    "start_time": "2022-06-12T08:55:52.340Z"
   },
   {
    "duration": 20,
    "start_time": "2022-06-12T08:55:52.363Z"
   },
   {
    "duration": 6,
    "start_time": "2022-06-12T08:55:52.386Z"
   },
   {
    "duration": 17,
    "start_time": "2022-06-12T08:55:52.394Z"
   },
   {
    "duration": 3,
    "start_time": "2022-06-12T08:55:52.413Z"
   },
   {
    "duration": 7,
    "start_time": "2022-06-12T08:55:52.418Z"
   },
   {
    "duration": 300,
    "start_time": "2022-06-12T08:55:52.426Z"
   },
   {
    "duration": 4,
    "start_time": "2022-06-12T08:55:52.728Z"
   },
   {
    "duration": 271,
    "start_time": "2022-06-12T08:55:52.734Z"
   },
   {
    "duration": 4,
    "start_time": "2022-06-12T08:55:53.007Z"
   },
   {
    "duration": 20,
    "start_time": "2022-06-12T08:55:53.013Z"
   },
   {
    "duration": 31,
    "start_time": "2022-06-12T08:55:53.036Z"
   },
   {
    "duration": 6,
    "start_time": "2022-06-12T08:55:53.068Z"
   },
   {
    "duration": 420,
    "start_time": "2022-06-12T08:55:53.076Z"
   },
   {
    "duration": 239,
    "start_time": "2022-06-12T08:55:53.498Z"
   },
   {
    "duration": 382,
    "start_time": "2022-06-12T08:55:53.740Z"
   },
   {
    "duration": 248,
    "start_time": "2022-06-12T08:55:54.124Z"
   },
   {
    "duration": 302,
    "start_time": "2022-06-12T08:55:54.375Z"
   },
   {
    "duration": 7,
    "start_time": "2022-06-12T08:55:54.678Z"
   },
   {
    "duration": 156,
    "start_time": "2022-06-12T08:55:54.687Z"
   },
   {
    "duration": 14,
    "start_time": "2022-06-12T08:55:54.845Z"
   },
   {
    "duration": 6,
    "start_time": "2022-06-12T08:55:54.862Z"
   },
   {
    "duration": 235,
    "start_time": "2022-06-12T08:55:54.869Z"
   },
   {
    "duration": 11,
    "start_time": "2022-06-12T08:55:55.106Z"
   },
   {
    "duration": 7,
    "start_time": "2022-06-12T08:55:55.119Z"
   },
   {
    "duration": 32,
    "start_time": "2022-06-12T08:55:55.128Z"
   },
   {
    "duration": 8,
    "start_time": "2022-06-12T08:55:55.162Z"
   },
   {
    "duration": 12,
    "start_time": "2022-06-12T08:55:55.172Z"
   },
   {
    "duration": 8,
    "start_time": "2022-06-12T08:55:55.186Z"
   },
   {
    "duration": 7,
    "start_time": "2022-06-12T08:55:55.196Z"
   },
   {
    "duration": 19,
    "start_time": "2022-06-12T08:55:55.205Z"
   },
   {
    "duration": 37,
    "start_time": "2022-06-12T08:55:55.226Z"
   },
   {
    "duration": 10,
    "start_time": "2022-06-12T08:55:55.265Z"
   },
   {
    "duration": 12,
    "start_time": "2022-06-12T08:55:55.277Z"
   },
   {
    "duration": 10,
    "start_time": "2022-06-12T08:55:55.291Z"
   },
   {
    "duration": 7,
    "start_time": "2022-06-12T08:55:55.303Z"
   },
   {
    "duration": 206,
    "start_time": "2022-06-12T08:56:17.327Z"
   },
   {
    "duration": 206,
    "start_time": "2022-06-12T08:56:25.085Z"
   },
   {
    "duration": 213,
    "start_time": "2022-06-12T08:56:48.996Z"
   },
   {
    "duration": 200,
    "start_time": "2022-06-12T08:57:18.975Z"
   },
   {
    "duration": 332,
    "start_time": "2022-06-12T08:57:57.960Z"
   },
   {
    "duration": 228,
    "start_time": "2022-06-12T08:58:25.927Z"
   },
   {
    "duration": 385,
    "start_time": "2022-06-12T08:58:42.292Z"
   },
   {
    "duration": 176,
    "start_time": "2022-06-12T08:59:50.700Z"
   },
   {
    "duration": 144,
    "start_time": "2022-06-12T09:02:06.040Z"
   },
   {
    "duration": 118,
    "start_time": "2022-06-12T09:02:28.101Z"
   },
   {
    "duration": 194,
    "start_time": "2022-06-12T09:02:34.331Z"
   },
   {
    "duration": 123,
    "start_time": "2022-06-12T09:02:49.999Z"
   },
   {
    "duration": 127,
    "start_time": "2022-06-12T09:09:52.262Z"
   },
   {
    "duration": 183,
    "start_time": "2022-06-12T09:10:27.402Z"
   },
   {
    "duration": 27,
    "start_time": "2022-06-12T09:11:32.622Z"
   },
   {
    "duration": 9,
    "start_time": "2022-06-12T09:11:58.711Z"
   },
   {
    "duration": 6,
    "start_time": "2022-06-12T09:13:02.529Z"
   },
   {
    "duration": 17,
    "start_time": "2022-06-12T09:13:09.747Z"
   },
   {
    "duration": 34,
    "start_time": "2022-06-12T09:14:52.376Z"
   },
   {
    "duration": 16,
    "start_time": "2022-06-12T09:18:03.076Z"
   },
   {
    "duration": 10,
    "start_time": "2022-06-12T09:21:02.228Z"
   },
   {
    "duration": 27,
    "start_time": "2022-06-12T09:23:24.458Z"
   },
   {
    "duration": 2,
    "start_time": "2022-06-12T09:29:32.931Z"
   },
   {
    "duration": 3,
    "start_time": "2022-06-12T09:31:51.277Z"
   },
   {
    "duration": 3,
    "start_time": "2022-06-12T09:32:01.634Z"
   },
   {
    "duration": 11,
    "start_time": "2022-06-12T09:32:50.714Z"
   },
   {
    "duration": 4,
    "start_time": "2022-06-12T09:32:55.626Z"
   },
   {
    "duration": 6,
    "start_time": "2022-06-12T09:32:57.426Z"
   },
   {
    "duration": 8,
    "start_time": "2022-06-12T09:33:14.998Z"
   },
   {
    "duration": 7,
    "start_time": "2022-06-12T09:33:53.427Z"
   },
   {
    "duration": 152,
    "start_time": "2022-06-12T09:40:50.616Z"
   },
   {
    "duration": 154,
    "start_time": "2022-06-12T09:41:12.573Z"
   },
   {
    "duration": 182,
    "start_time": "2022-06-12T09:41:26.828Z"
   },
   {
    "duration": 1272,
    "start_time": "2022-06-13T07:18:43.264Z"
   },
   {
    "duration": 182,
    "start_time": "2022-06-13T07:18:44.538Z"
   },
   {
    "duration": 20,
    "start_time": "2022-06-13T07:18:44.722Z"
   },
   {
    "duration": 23,
    "start_time": "2022-06-13T07:18:44.744Z"
   },
   {
    "duration": 5,
    "start_time": "2022-06-13T07:18:44.769Z"
   },
   {
    "duration": 17,
    "start_time": "2022-06-13T07:18:44.776Z"
   },
   {
    "duration": 5,
    "start_time": "2022-06-13T07:18:44.800Z"
   },
   {
    "duration": 15,
    "start_time": "2022-06-13T07:18:44.808Z"
   },
   {
    "duration": 282,
    "start_time": "2022-06-13T07:18:44.824Z"
   },
   {
    "duration": 10,
    "start_time": "2022-06-13T07:18:45.108Z"
   },
   {
    "duration": 239,
    "start_time": "2022-06-13T07:18:45.120Z"
   },
   {
    "duration": 3,
    "start_time": "2022-06-13T07:18:45.361Z"
   },
   {
    "duration": 25,
    "start_time": "2022-06-13T07:18:45.365Z"
   },
   {
    "duration": 17,
    "start_time": "2022-06-13T07:18:45.402Z"
   },
   {
    "duration": 6,
    "start_time": "2022-06-13T07:18:45.421Z"
   },
   {
    "duration": 294,
    "start_time": "2022-06-13T07:18:45.429Z"
   },
   {
    "duration": 213,
    "start_time": "2022-06-13T07:18:45.725Z"
   },
   {
    "duration": 388,
    "start_time": "2022-06-13T07:18:45.939Z"
   },
   {
    "duration": 248,
    "start_time": "2022-06-13T07:18:46.329Z"
   },
   {
    "duration": 348,
    "start_time": "2022-06-13T07:18:46.580Z"
   },
   {
    "duration": 6,
    "start_time": "2022-06-13T07:18:46.930Z"
   },
   {
    "duration": 148,
    "start_time": "2022-06-13T07:18:46.938Z"
   },
   {
    "duration": 13,
    "start_time": "2022-06-13T07:18:47.088Z"
   },
   {
    "duration": 16,
    "start_time": "2022-06-13T07:18:47.107Z"
   },
   {
    "duration": 225,
    "start_time": "2022-06-13T07:18:47.125Z"
   },
   {
    "duration": 10,
    "start_time": "2022-06-13T07:18:47.352Z"
   },
   {
    "duration": 7,
    "start_time": "2022-06-13T07:18:47.363Z"
   },
   {
    "duration": 179,
    "start_time": "2022-06-13T07:18:47.372Z"
   },
   {
    "duration": 10,
    "start_time": "2022-06-13T07:18:47.553Z"
   },
   {
    "duration": 7,
    "start_time": "2022-06-13T07:18:47.564Z"
   },
   {
    "duration": 12,
    "start_time": "2022-06-13T07:18:47.573Z"
   },
   {
    "duration": 21,
    "start_time": "2022-06-13T07:18:47.586Z"
   },
   {
    "duration": 10,
    "start_time": "2022-06-13T07:18:47.608Z"
   },
   {
    "duration": 10,
    "start_time": "2022-06-13T07:18:47.620Z"
   },
   {
    "duration": 11,
    "start_time": "2022-06-13T07:18:47.631Z"
   },
   {
    "duration": 7,
    "start_time": "2022-06-13T07:18:47.643Z"
   },
   {
    "duration": 7,
    "start_time": "2022-06-13T07:18:47.651Z"
   },
   {
    "duration": 10,
    "start_time": "2022-06-13T07:18:47.659Z"
   },
   {
    "duration": 6,
    "start_time": "2022-06-13T07:18:47.671Z"
   },
   {
    "duration": 23,
    "start_time": "2022-06-13T07:18:47.678Z"
   },
   {
    "duration": 1366,
    "start_time": "2022-06-13T12:20:08.948Z"
   },
   {
    "duration": 203,
    "start_time": "2022-06-13T12:20:10.316Z"
   },
   {
    "duration": 23,
    "start_time": "2022-06-13T12:20:10.521Z"
   },
   {
    "duration": 24,
    "start_time": "2022-06-13T12:20:10.546Z"
   },
   {
    "duration": 12,
    "start_time": "2022-06-13T12:20:10.572Z"
   },
   {
    "duration": 154,
    "start_time": "2022-06-13T12:20:10.586Z"
   },
   {
    "duration": 0,
    "start_time": "2022-06-13T12:20:10.743Z"
   },
   {
    "duration": 0,
    "start_time": "2022-06-13T12:20:10.745Z"
   },
   {
    "duration": 0,
    "start_time": "2022-06-13T12:20:10.746Z"
   },
   {
    "duration": 0,
    "start_time": "2022-06-13T12:20:10.747Z"
   },
   {
    "duration": 0,
    "start_time": "2022-06-13T12:20:10.749Z"
   },
   {
    "duration": 0,
    "start_time": "2022-06-13T12:20:10.766Z"
   },
   {
    "duration": 0,
    "start_time": "2022-06-13T12:20:10.766Z"
   },
   {
    "duration": 0,
    "start_time": "2022-06-13T12:20:10.767Z"
   },
   {
    "duration": 0,
    "start_time": "2022-06-13T12:20:10.768Z"
   },
   {
    "duration": 0,
    "start_time": "2022-06-13T12:20:10.769Z"
   },
   {
    "duration": 0,
    "start_time": "2022-06-13T12:20:10.776Z"
   },
   {
    "duration": 0,
    "start_time": "2022-06-13T12:20:10.777Z"
   },
   {
    "duration": 0,
    "start_time": "2022-06-13T12:20:10.780Z"
   },
   {
    "duration": 0,
    "start_time": "2022-06-13T12:20:10.782Z"
   },
   {
    "duration": 0,
    "start_time": "2022-06-13T12:20:10.783Z"
   },
   {
    "duration": 0,
    "start_time": "2022-06-13T12:20:10.784Z"
   },
   {
    "duration": 0,
    "start_time": "2022-06-13T12:20:10.786Z"
   },
   {
    "duration": 0,
    "start_time": "2022-06-13T12:20:10.788Z"
   },
   {
    "duration": 0,
    "start_time": "2022-06-13T12:20:10.789Z"
   },
   {
    "duration": 0,
    "start_time": "2022-06-13T12:20:10.790Z"
   },
   {
    "duration": 0,
    "start_time": "2022-06-13T12:20:10.792Z"
   },
   {
    "duration": 0,
    "start_time": "2022-06-13T12:20:10.794Z"
   },
   {
    "duration": 0,
    "start_time": "2022-06-13T12:20:10.795Z"
   },
   {
    "duration": 0,
    "start_time": "2022-06-13T12:20:10.796Z"
   },
   {
    "duration": 0,
    "start_time": "2022-06-13T12:20:10.797Z"
   },
   {
    "duration": 0,
    "start_time": "2022-06-13T12:20:10.798Z"
   },
   {
    "duration": 0,
    "start_time": "2022-06-13T12:20:10.799Z"
   },
   {
    "duration": 0,
    "start_time": "2022-06-13T12:20:10.801Z"
   },
   {
    "duration": 0,
    "start_time": "2022-06-13T12:20:10.802Z"
   },
   {
    "duration": 0,
    "start_time": "2022-06-13T12:20:10.803Z"
   },
   {
    "duration": 0,
    "start_time": "2022-06-13T12:20:10.804Z"
   },
   {
    "duration": 0,
    "start_time": "2022-06-13T12:20:10.805Z"
   },
   {
    "duration": 0,
    "start_time": "2022-06-13T12:20:10.806Z"
   },
   {
    "duration": 0,
    "start_time": "2022-06-13T12:20:10.807Z"
   },
   {
    "duration": 4,
    "start_time": "2022-06-13T12:21:44.225Z"
   },
   {
    "duration": 3,
    "start_time": "2022-06-13T12:21:47.287Z"
   },
   {
    "duration": 88,
    "start_time": "2022-06-13T12:21:47.292Z"
   },
   {
    "duration": 20,
    "start_time": "2022-06-13T12:21:47.381Z"
   },
   {
    "duration": 19,
    "start_time": "2022-06-13T12:21:47.403Z"
   },
   {
    "duration": 10,
    "start_time": "2022-06-13T12:21:47.425Z"
   },
   {
    "duration": 9,
    "start_time": "2022-06-13T12:21:47.437Z"
   },
   {
    "duration": 92,
    "start_time": "2022-06-13T12:21:47.447Z"
   },
   {
    "duration": 16,
    "start_time": "2022-06-13T12:21:47.540Z"
   },
   {
    "duration": 5,
    "start_time": "2022-06-13T12:21:47.557Z"
   },
   {
    "duration": 8,
    "start_time": "2022-06-13T12:21:47.563Z"
   },
   {
    "duration": 269,
    "start_time": "2022-06-13T12:21:47.572Z"
   },
   {
    "duration": 4,
    "start_time": "2022-06-13T12:21:47.843Z"
   },
   {
    "duration": 254,
    "start_time": "2022-06-13T12:21:47.848Z"
   },
   {
    "duration": 20,
    "start_time": "2022-06-13T12:21:48.105Z"
   },
   {
    "duration": 14,
    "start_time": "2022-06-13T12:21:48.127Z"
   },
   {
    "duration": 25,
    "start_time": "2022-06-13T12:21:48.143Z"
   },
   {
    "duration": 267,
    "start_time": "2022-06-13T12:21:48.169Z"
   },
   {
    "duration": 217,
    "start_time": "2022-06-13T12:21:48.439Z"
   },
   {
    "duration": 395,
    "start_time": "2022-06-13T12:21:48.664Z"
   },
   {
    "duration": 258,
    "start_time": "2022-06-13T12:21:49.066Z"
   },
   {
    "duration": 318,
    "start_time": "2022-06-13T12:21:49.326Z"
   },
   {
    "duration": 6,
    "start_time": "2022-06-13T12:21:49.646Z"
   },
   {
    "duration": 133,
    "start_time": "2022-06-13T12:21:49.664Z"
   },
   {
    "duration": 5,
    "start_time": "2022-06-13T12:21:49.799Z"
   },
   {
    "duration": 7,
    "start_time": "2022-06-13T12:21:49.805Z"
   },
   {
    "duration": 238,
    "start_time": "2022-06-13T12:21:49.813Z"
   },
   {
    "duration": 16,
    "start_time": "2022-06-13T12:21:50.053Z"
   },
   {
    "duration": 10,
    "start_time": "2022-06-13T12:21:50.071Z"
   },
   {
    "duration": 15,
    "start_time": "2022-06-13T12:21:50.082Z"
   },
   {
    "duration": 8,
    "start_time": "2022-06-13T12:21:50.098Z"
   },
   {
    "duration": 10,
    "start_time": "2022-06-13T12:21:50.107Z"
   },
   {
    "duration": 11,
    "start_time": "2022-06-13T12:21:50.119Z"
   },
   {
    "duration": 35,
    "start_time": "2022-06-13T12:21:50.132Z"
   },
   {
    "duration": 5,
    "start_time": "2022-06-13T12:21:50.169Z"
   },
   {
    "duration": 21,
    "start_time": "2022-06-13T12:21:50.176Z"
   },
   {
    "duration": 7,
    "start_time": "2022-06-13T12:21:50.198Z"
   },
   {
    "duration": 7,
    "start_time": "2022-06-13T12:21:50.207Z"
   },
   {
    "duration": 13,
    "start_time": "2022-06-13T12:21:50.216Z"
   },
   {
    "duration": 13,
    "start_time": "2022-06-13T12:21:50.230Z"
   },
   {
    "duration": 25,
    "start_time": "2022-06-13T12:21:50.245Z"
   },
   {
    "duration": 31,
    "start_time": "2022-06-13T12:25:09.807Z"
   },
   {
    "duration": 29,
    "start_time": "2022-06-13T12:27:00.480Z"
   },
   {
    "duration": 27,
    "start_time": "2022-06-13T12:27:09.552Z"
   },
   {
    "duration": 20,
    "start_time": "2022-06-13T12:28:07.561Z"
   },
   {
    "duration": 28,
    "start_time": "2022-06-13T12:29:06.915Z"
   },
   {
    "duration": 14,
    "start_time": "2022-06-13T12:30:44.247Z"
   },
   {
    "duration": 3,
    "start_time": "2022-06-13T12:30:54.893Z"
   },
   {
    "duration": 86,
    "start_time": "2022-06-13T12:30:54.898Z"
   },
   {
    "duration": 15,
    "start_time": "2022-06-13T12:30:54.986Z"
   },
   {
    "duration": 22,
    "start_time": "2022-06-13T12:30:55.004Z"
   },
   {
    "duration": 10,
    "start_time": "2022-06-13T12:30:55.028Z"
   },
   {
    "duration": 7,
    "start_time": "2022-06-13T12:30:55.039Z"
   },
   {
    "duration": 38,
    "start_time": "2022-06-13T12:30:55.048Z"
   },
   {
    "duration": 16,
    "start_time": "2022-06-13T12:30:55.087Z"
   },
   {
    "duration": 7,
    "start_time": "2022-06-13T12:30:55.105Z"
   },
   {
    "duration": 6,
    "start_time": "2022-06-13T12:30:55.114Z"
   },
   {
    "duration": 275,
    "start_time": "2022-06-13T12:30:55.122Z"
   },
   {
    "duration": 5,
    "start_time": "2022-06-13T12:30:55.399Z"
   },
   {
    "duration": 256,
    "start_time": "2022-06-13T12:30:55.405Z"
   },
   {
    "duration": 17,
    "start_time": "2022-06-13T12:30:55.664Z"
   },
   {
    "duration": 16,
    "start_time": "2022-06-13T12:30:55.682Z"
   },
   {
    "duration": 6,
    "start_time": "2022-06-13T12:30:55.700Z"
   },
   {
    "duration": 225,
    "start_time": "2022-06-13T12:30:55.708Z"
   },
   {
    "duration": 217,
    "start_time": "2022-06-13T12:30:55.934Z"
   },
   {
    "duration": 319,
    "start_time": "2022-06-13T12:30:56.153Z"
   },
   {
    "duration": 222,
    "start_time": "2022-06-13T12:30:56.473Z"
   },
   {
    "duration": 285,
    "start_time": "2022-06-13T12:30:56.696Z"
   },
   {
    "duration": 7,
    "start_time": "2022-06-13T12:30:56.982Z"
   },
   {
    "duration": 160,
    "start_time": "2022-06-13T12:30:56.991Z"
   },
   {
    "duration": 13,
    "start_time": "2022-06-13T12:30:57.153Z"
   },
   {
    "duration": 6,
    "start_time": "2022-06-13T12:30:57.168Z"
   },
   {
    "duration": 146,
    "start_time": "2022-06-13T12:30:57.176Z"
   },
   {
    "duration": 10,
    "start_time": "2022-06-13T12:30:57.323Z"
   },
   {
    "duration": 8,
    "start_time": "2022-06-13T12:30:57.335Z"
   },
   {
    "duration": 27,
    "start_time": "2022-06-13T12:30:57.344Z"
   },
   {
    "duration": 3,
    "start_time": "2022-06-13T12:30:57.372Z"
   },
   {
    "duration": 12,
    "start_time": "2022-06-13T12:30:57.378Z"
   },
   {
    "duration": 14,
    "start_time": "2022-06-13T12:30:57.393Z"
   },
   {
    "duration": 13,
    "start_time": "2022-06-13T12:30:57.409Z"
   },
   {
    "duration": 7,
    "start_time": "2022-06-13T12:30:57.423Z"
   },
   {
    "duration": 41,
    "start_time": "2022-06-13T12:30:57.431Z"
   },
   {
    "duration": 7,
    "start_time": "2022-06-13T12:30:57.474Z"
   },
   {
    "duration": 10,
    "start_time": "2022-06-13T12:30:57.483Z"
   },
   {
    "duration": 9,
    "start_time": "2022-06-13T12:30:57.495Z"
   },
   {
    "duration": 6,
    "start_time": "2022-06-13T12:30:57.505Z"
   },
   {
    "duration": 7,
    "start_time": "2022-06-13T12:30:57.513Z"
   },
   {
    "duration": 269,
    "start_time": "2022-06-13T12:32:21.702Z"
   },
   {
    "duration": 240,
    "start_time": "2022-06-13T12:32:39.276Z"
   },
   {
    "duration": 927,
    "start_time": "2022-06-13T15:50:24.357Z"
   },
   {
    "duration": 174,
    "start_time": "2022-06-13T15:50:25.286Z"
   },
   {
    "duration": 17,
    "start_time": "2022-06-13T15:50:25.462Z"
   },
   {
    "duration": 39,
    "start_time": "2022-06-13T15:50:25.480Z"
   },
   {
    "duration": 27,
    "start_time": "2022-06-13T15:50:25.521Z"
   },
   {
    "duration": 19,
    "start_time": "2022-06-13T15:50:25.549Z"
   },
   {
    "duration": 118,
    "start_time": "2022-06-13T15:50:25.569Z"
   },
   {
    "duration": 16,
    "start_time": "2022-06-13T15:50:25.689Z"
   },
   {
    "duration": 11,
    "start_time": "2022-06-13T15:50:25.706Z"
   },
   {
    "duration": 23,
    "start_time": "2022-06-13T15:50:25.718Z"
   },
   {
    "duration": 242,
    "start_time": "2022-06-13T15:50:25.743Z"
   },
   {
    "duration": 7,
    "start_time": "2022-06-13T15:50:25.986Z"
   },
   {
    "duration": 227,
    "start_time": "2022-06-13T15:50:25.995Z"
   },
   {
    "duration": 16,
    "start_time": "2022-06-13T15:50:26.225Z"
   },
   {
    "duration": 24,
    "start_time": "2022-06-13T15:50:26.242Z"
   },
   {
    "duration": 19,
    "start_time": "2022-06-13T15:50:26.267Z"
   },
   {
    "duration": 240,
    "start_time": "2022-06-13T15:50:26.287Z"
   },
   {
    "duration": 176,
    "start_time": "2022-06-13T15:50:26.528Z"
   },
   {
    "duration": 286,
    "start_time": "2022-06-13T15:50:26.705Z"
   },
   {
    "duration": 236,
    "start_time": "2022-06-13T15:50:26.993Z"
   },
   {
    "duration": 255,
    "start_time": "2022-06-13T15:50:27.230Z"
   },
   {
    "duration": 7,
    "start_time": "2022-06-13T15:50:27.491Z"
   },
   {
    "duration": 135,
    "start_time": "2022-06-13T15:50:27.499Z"
   },
   {
    "duration": 5,
    "start_time": "2022-06-13T15:50:27.635Z"
   },
   {
    "duration": 4,
    "start_time": "2022-06-13T15:50:27.641Z"
   },
   {
    "duration": 213,
    "start_time": "2022-06-13T15:50:27.647Z"
   },
   {
    "duration": 10,
    "start_time": "2022-06-13T15:50:27.861Z"
   },
   {
    "duration": 9,
    "start_time": "2022-06-13T15:50:27.872Z"
   },
   {
    "duration": 10,
    "start_time": "2022-06-13T15:50:27.891Z"
   },
   {
    "duration": 4,
    "start_time": "2022-06-13T15:50:27.902Z"
   },
   {
    "duration": 10,
    "start_time": "2022-06-13T15:50:27.908Z"
   },
   {
    "duration": 8,
    "start_time": "2022-06-13T15:50:27.920Z"
   },
   {
    "duration": 6,
    "start_time": "2022-06-13T15:50:27.930Z"
   },
   {
    "duration": 8,
    "start_time": "2022-06-13T15:50:27.937Z"
   },
   {
    "duration": 9,
    "start_time": "2022-06-13T15:50:27.946Z"
   },
   {
    "duration": 6,
    "start_time": "2022-06-13T15:50:27.956Z"
   },
   {
    "duration": 29,
    "start_time": "2022-06-13T15:50:27.963Z"
   },
   {
    "duration": 9,
    "start_time": "2022-06-13T15:50:27.993Z"
   },
   {
    "duration": 4,
    "start_time": "2022-06-13T15:50:28.004Z"
   },
   {
    "duration": 6,
    "start_time": "2022-06-13T15:50:28.009Z"
   },
   {
    "duration": 956,
    "start_time": "2022-06-13T16:17:57.294Z"
   },
   {
    "duration": 67,
    "start_time": "2022-06-13T16:17:58.252Z"
   },
   {
    "duration": 17,
    "start_time": "2022-06-13T16:17:58.321Z"
   },
   {
    "duration": 17,
    "start_time": "2022-06-13T16:17:58.340Z"
   },
   {
    "duration": 7,
    "start_time": "2022-06-13T16:17:58.358Z"
   },
   {
    "duration": 7,
    "start_time": "2022-06-13T16:17:58.366Z"
   },
   {
    "duration": 104,
    "start_time": "2022-06-13T16:17:58.374Z"
   },
   {
    "duration": 14,
    "start_time": "2022-06-13T16:17:58.480Z"
   },
   {
    "duration": 10,
    "start_time": "2022-06-13T16:17:58.495Z"
   },
   {
    "duration": 6,
    "start_time": "2022-06-13T16:17:58.507Z"
   },
   {
    "duration": 230,
    "start_time": "2022-06-13T16:17:58.514Z"
   },
   {
    "duration": 4,
    "start_time": "2022-06-13T16:17:58.745Z"
   },
   {
    "duration": 211,
    "start_time": "2022-06-13T16:17:58.750Z"
   },
   {
    "duration": 29,
    "start_time": "2022-06-13T16:17:58.963Z"
   },
   {
    "duration": 14,
    "start_time": "2022-06-13T16:17:58.994Z"
   },
   {
    "duration": 8,
    "start_time": "2022-06-13T16:17:59.009Z"
   },
   {
    "duration": 348,
    "start_time": "2022-06-13T16:17:59.019Z"
   },
   {
    "duration": 189,
    "start_time": "2022-06-13T16:17:59.368Z"
   },
   {
    "duration": 291,
    "start_time": "2022-06-13T16:17:59.559Z"
   },
   {
    "duration": 188,
    "start_time": "2022-06-13T16:17:59.852Z"
   },
   {
    "duration": 371,
    "start_time": "2022-06-13T16:18:00.043Z"
   },
   {
    "duration": 7,
    "start_time": "2022-06-13T16:18:00.416Z"
   },
   {
    "duration": 148,
    "start_time": "2022-06-13T16:18:00.424Z"
   },
   {
    "duration": 5,
    "start_time": "2022-06-13T16:18:00.574Z"
   },
   {
    "duration": 13,
    "start_time": "2022-06-13T16:18:00.580Z"
   },
   {
    "duration": 214,
    "start_time": "2022-06-13T16:18:00.594Z"
   },
   {
    "duration": 9,
    "start_time": "2022-06-13T16:18:00.810Z"
   },
   {
    "duration": 7,
    "start_time": "2022-06-13T16:18:00.823Z"
   },
   {
    "duration": 14,
    "start_time": "2022-06-13T16:18:00.832Z"
   },
   {
    "duration": 8,
    "start_time": "2022-06-13T16:18:00.847Z"
   },
   {
    "duration": 12,
    "start_time": "2022-06-13T16:18:00.857Z"
   },
   {
    "duration": 11,
    "start_time": "2022-06-13T16:18:00.871Z"
   },
   {
    "duration": 10,
    "start_time": "2022-06-13T16:18:00.883Z"
   },
   {
    "duration": 8,
    "start_time": "2022-06-13T16:18:00.894Z"
   },
   {
    "duration": 14,
    "start_time": "2022-06-13T16:18:00.903Z"
   },
   {
    "duration": 6,
    "start_time": "2022-06-13T16:18:00.918Z"
   },
   {
    "duration": 18,
    "start_time": "2022-06-13T16:18:00.925Z"
   },
   {
    "duration": 11,
    "start_time": "2022-06-13T16:18:00.944Z"
   },
   {
    "duration": 6,
    "start_time": "2022-06-13T16:18:00.956Z"
   },
   {
    "duration": 9,
    "start_time": "2022-06-13T16:18:00.963Z"
   }
  ],
  "kernelspec": {
   "display_name": "Python 3 (ipykernel)",
   "language": "python",
   "name": "python3"
  },
  "language_info": {
   "codemirror_mode": {
    "name": "ipython",
    "version": 3
   },
   "file_extension": ".py",
   "mimetype": "text/x-python",
   "name": "python",
   "nbconvert_exporter": "python",
   "pygments_lexer": "ipython3",
   "version": "3.9.7"
  },
  "toc": {
   "base_numbering": 1,
   "nav_menu": {},
   "number_sections": true,
   "sideBar": true,
   "skip_h1_title": true,
   "title_cell": "Table of Contents",
   "title_sidebar": "Contents",
   "toc_cell": false,
   "toc_position": {},
   "toc_section_display": true,
   "toc_window_display": false
  }
 },
 "nbformat": 4,
 "nbformat_minor": 2
}

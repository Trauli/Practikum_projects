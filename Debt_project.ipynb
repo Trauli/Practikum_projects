{
 "cells": [
  {
   "cell_type": "markdown",
   "metadata": {},
   "source": [
    "# Исследование надёжности заёмщиков\n",
    "\n",
    "Предполагаемый заказчик исследования - кредитный отдел некоего банка. Необходимо провести предварительную очистку датасета, провести анализ заёмщиков и в итоге выдать маску клиента, который с наибольшей вероятностью не будет задерживать выплаты\n",
    "\n",
    "Результаты исследования будут учтены при построении модели **кредитного скоринга** — специальной системы, которая оценивает способность потенциального заёмщика вернуть кредит банку."
   ]
  },
  {
   "cell_type": "markdown",
   "metadata": {},
   "source": [
    "## Описание используемого датасета"
   ]
  },
  {
   "cell_type": "markdown",
   "metadata": {},
   "source": [
    "Столбец  | Содержащиеся данные | Тип данных\n",
    "------------- | ------------- | -----------------\n",
    "children  | Число детей в семье | int\n",
    "days_employed  | Общий трудовой стаж в днях | float\n",
    "dob_years | Возраст клиента в годах | int\n",
    "education | Уровень образования клиента | object\n",
    "education_id | Числовой идентификатор образования | int\n",
    "family_status | Семейное положение клиента | object\n",
    "family_status_id | Числовой идентификатор семейного положения | int\n",
    "gender | Пол клиента | object\n",
    "income_type | Тип занятости | object\n",
    "debt | Имел ли ранее задолженность | int, по сути bool\n",
    "total_income | Ежемесячный доход в рублях | float\n",
    "purpose | Цель кредита | object"
   ]
  },
  {
   "cell_type": "markdown",
   "metadata": {},
   "source": [
    "## Импорт библиотек и используемого датасета"
   ]
  },
  {
   "cell_type": "code",
   "execution_count": 31,
   "metadata": {},
   "outputs": [],
   "source": [
    "# Импорт необходимых для анализа инстурментов\n",
    "import warnings\n",
    "warnings.filterwarnings('ignore')\n",
    "warnings.simplefilter('ignore')\n",
    "\n",
    "import pandas as pd\n",
    "import seaborn as sns\n",
    "import matplotlib.pyplot as plt\n",
    "import numpy as np\n",
    "\n",
    "from pymystem3 import Mystem\n",
    "from collections import Counter\n",
    "import numpy as np\n",
    "m = Mystem()"
   ]
  },
  {
   "cell_type": "code",
   "execution_count": 32,
   "metadata": {},
   "outputs": [
    {
     "name": "stdout",
     "output_type": "stream",
     "text": [
      "<class 'pandas.core.frame.DataFrame'>\n",
      "RangeIndex: 21525 entries, 0 to 21524\n",
      "Data columns (total 12 columns):\n",
      " #   Column            Non-Null Count  Dtype  \n",
      "---  ------            --------------  -----  \n",
      " 0   children          21525 non-null  int64  \n",
      " 1   days_employed     19351 non-null  float64\n",
      " 2   dob_years         21525 non-null  int64  \n",
      " 3   education         21525 non-null  object \n",
      " 4   education_id      21525 non-null  int64  \n",
      " 5   family_status     21525 non-null  object \n",
      " 6   family_status_id  21525 non-null  int64  \n",
      " 7   gender            21525 non-null  object \n",
      " 8   income_type       21525 non-null  object \n",
      " 9   debt              21525 non-null  int64  \n",
      " 10  total_income      19351 non-null  float64\n",
      " 11  purpose           21525 non-null  object \n",
      "dtypes: float64(2), int64(5), object(5)\n",
      "memory usage: 2.0+ MB\n"
     ]
    }
   ],
   "source": [
    "df = pd.read_csv('deb_project.csv')\n",
    "df.info()"
   ]
  },
  {
   "cell_type": "markdown",
   "metadata": {},
   "source": [
    "Есть пропуски в двух столбцах, будем разбираться"
   ]
  },
  {
   "cell_type": "code",
   "execution_count": 33,
   "metadata": {},
   "outputs": [
    {
     "data": {
      "text/html": [
       "<div>\n",
       "<style scoped>\n",
       "    .dataframe tbody tr th:only-of-type {\n",
       "        vertical-align: middle;\n",
       "    }\n",
       "\n",
       "    .dataframe tbody tr th {\n",
       "        vertical-align: top;\n",
       "    }\n",
       "\n",
       "    .dataframe thead th {\n",
       "        text-align: right;\n",
       "    }\n",
       "</style>\n",
       "<table border=\"1\" class=\"dataframe\">\n",
       "  <thead>\n",
       "    <tr style=\"text-align: right;\">\n",
       "      <th></th>\n",
       "      <th>children</th>\n",
       "      <th>days_employed</th>\n",
       "      <th>dob_years</th>\n",
       "      <th>education</th>\n",
       "      <th>education_id</th>\n",
       "      <th>family_status</th>\n",
       "      <th>family_status_id</th>\n",
       "      <th>gender</th>\n",
       "      <th>income_type</th>\n",
       "      <th>debt</th>\n",
       "      <th>total_income</th>\n",
       "      <th>purpose</th>\n",
       "    </tr>\n",
       "  </thead>\n",
       "  <tbody>\n",
       "    <tr>\n",
       "      <th>0</th>\n",
       "      <td>1</td>\n",
       "      <td>-8437.673028</td>\n",
       "      <td>42</td>\n",
       "      <td>высшее</td>\n",
       "      <td>0</td>\n",
       "      <td>женат / замужем</td>\n",
       "      <td>0</td>\n",
       "      <td>F</td>\n",
       "      <td>сотрудник</td>\n",
       "      <td>0</td>\n",
       "      <td>253875.639453</td>\n",
       "      <td>покупка жилья</td>\n",
       "    </tr>\n",
       "    <tr>\n",
       "      <th>1</th>\n",
       "      <td>1</td>\n",
       "      <td>-4024.803754</td>\n",
       "      <td>36</td>\n",
       "      <td>среднее</td>\n",
       "      <td>1</td>\n",
       "      <td>женат / замужем</td>\n",
       "      <td>0</td>\n",
       "      <td>F</td>\n",
       "      <td>сотрудник</td>\n",
       "      <td>0</td>\n",
       "      <td>112080.014102</td>\n",
       "      <td>приобретение автомобиля</td>\n",
       "    </tr>\n",
       "    <tr>\n",
       "      <th>2</th>\n",
       "      <td>0</td>\n",
       "      <td>-5623.422610</td>\n",
       "      <td>33</td>\n",
       "      <td>Среднее</td>\n",
       "      <td>1</td>\n",
       "      <td>женат / замужем</td>\n",
       "      <td>0</td>\n",
       "      <td>M</td>\n",
       "      <td>сотрудник</td>\n",
       "      <td>0</td>\n",
       "      <td>145885.952297</td>\n",
       "      <td>покупка жилья</td>\n",
       "    </tr>\n",
       "    <tr>\n",
       "      <th>3</th>\n",
       "      <td>3</td>\n",
       "      <td>-4124.747207</td>\n",
       "      <td>32</td>\n",
       "      <td>среднее</td>\n",
       "      <td>1</td>\n",
       "      <td>женат / замужем</td>\n",
       "      <td>0</td>\n",
       "      <td>M</td>\n",
       "      <td>сотрудник</td>\n",
       "      <td>0</td>\n",
       "      <td>267628.550329</td>\n",
       "      <td>дополнительное образование</td>\n",
       "    </tr>\n",
       "    <tr>\n",
       "      <th>4</th>\n",
       "      <td>0</td>\n",
       "      <td>340266.072047</td>\n",
       "      <td>53</td>\n",
       "      <td>среднее</td>\n",
       "      <td>1</td>\n",
       "      <td>гражданский брак</td>\n",
       "      <td>1</td>\n",
       "      <td>F</td>\n",
       "      <td>пенсионер</td>\n",
       "      <td>0</td>\n",
       "      <td>158616.077870</td>\n",
       "      <td>сыграть свадьбу</td>\n",
       "    </tr>\n",
       "  </tbody>\n",
       "</table>\n",
       "</div>"
      ],
      "text/plain": [
       "   children  days_employed  dob_years education  education_id  \\\n",
       "0         1   -8437.673028         42    высшее             0   \n",
       "1         1   -4024.803754         36   среднее             1   \n",
       "2         0   -5623.422610         33   Среднее             1   \n",
       "3         3   -4124.747207         32   среднее             1   \n",
       "4         0  340266.072047         53   среднее             1   \n",
       "\n",
       "      family_status  family_status_id gender income_type  debt   total_income  \\\n",
       "0   женат / замужем                 0      F   сотрудник     0  253875.639453   \n",
       "1   женат / замужем                 0      F   сотрудник     0  112080.014102   \n",
       "2   женат / замужем                 0      M   сотрудник     0  145885.952297   \n",
       "3   женат / замужем                 0      M   сотрудник     0  267628.550329   \n",
       "4  гражданский брак                 1      F   пенсионер     0  158616.077870   \n",
       "\n",
       "                      purpose  \n",
       "0               покупка жилья  \n",
       "1     приобретение автомобиля  \n",
       "2               покупка жилья  \n",
       "3  дополнительное образование  \n",
       "4             сыграть свадьбу  "
      ]
     },
     "execution_count": 33,
     "metadata": {},
     "output_type": "execute_result"
    }
   ],
   "source": [
    "df.head()"
   ]
  },
  {
   "cell_type": "markdown",
   "metadata": {},
   "source": [
    "Можно отметить некоторые ошибки и артефакты. Проведём передобработку и избавимся от них"
   ]
  },
  {
   "cell_type": "markdown",
   "metadata": {},
   "source": [
    "## Предобработка данных"
   ]
  },
  {
   "cell_type": "markdown",
   "metadata": {},
   "source": [
    "### Обработка пропусков"
   ]
  },
  {
   "cell_type": "code",
   "execution_count": 34,
   "metadata": {},
   "outputs": [
    {
     "data": {
      "text/plain": [
       "children               0\n",
       "days_employed       2174\n",
       "dob_years              0\n",
       "education              0\n",
       "education_id           0\n",
       "family_status          0\n",
       "family_status_id       0\n",
       "gender                 0\n",
       "income_type            0\n",
       "debt                   0\n",
       "total_income        2174\n",
       "purpose                0\n",
       "dtype: int64"
      ]
     },
     "execution_count": 34,
     "metadata": {},
     "output_type": "execute_result"
    }
   ],
   "source": [
    "df.isna().sum()"
   ]
  },
  {
   "cell_type": "markdown",
   "metadata": {},
   "source": [
    "Так как количество пропусков совпадает в обоих случаях, можно предположить, что пропуски расположены в одних и тех же строках. Проверим"
   ]
  },
  {
   "cell_type": "code",
   "execution_count": 35,
   "metadata": {},
   "outputs": [
    {
     "data": {
      "text/html": [
       "<div>\n",
       "<style scoped>\n",
       "    .dataframe tbody tr th:only-of-type {\n",
       "        vertical-align: middle;\n",
       "    }\n",
       "\n",
       "    .dataframe tbody tr th {\n",
       "        vertical-align: top;\n",
       "    }\n",
       "\n",
       "    .dataframe thead th {\n",
       "        text-align: right;\n",
       "    }\n",
       "</style>\n",
       "<table border=\"1\" class=\"dataframe\">\n",
       "  <thead>\n",
       "    <tr style=\"text-align: right;\">\n",
       "      <th></th>\n",
       "      <th>children</th>\n",
       "      <th>days_employed</th>\n",
       "      <th>dob_years</th>\n",
       "      <th>education</th>\n",
       "      <th>education_id</th>\n",
       "      <th>family_status</th>\n",
       "      <th>family_status_id</th>\n",
       "      <th>gender</th>\n",
       "      <th>income_type</th>\n",
       "      <th>debt</th>\n",
       "      <th>total_income</th>\n",
       "      <th>purpose</th>\n",
       "    </tr>\n",
       "  </thead>\n",
       "  <tbody>\n",
       "    <tr>\n",
       "      <th>12</th>\n",
       "      <td>0</td>\n",
       "      <td>NaN</td>\n",
       "      <td>65</td>\n",
       "      <td>среднее</td>\n",
       "      <td>1</td>\n",
       "      <td>гражданский брак</td>\n",
       "      <td>1</td>\n",
       "      <td>M</td>\n",
       "      <td>пенсионер</td>\n",
       "      <td>0</td>\n",
       "      <td>NaN</td>\n",
       "      <td>сыграть свадьбу</td>\n",
       "    </tr>\n",
       "    <tr>\n",
       "      <th>26</th>\n",
       "      <td>0</td>\n",
       "      <td>NaN</td>\n",
       "      <td>41</td>\n",
       "      <td>среднее</td>\n",
       "      <td>1</td>\n",
       "      <td>женат / замужем</td>\n",
       "      <td>0</td>\n",
       "      <td>M</td>\n",
       "      <td>госслужащий</td>\n",
       "      <td>0</td>\n",
       "      <td>NaN</td>\n",
       "      <td>образование</td>\n",
       "    </tr>\n",
       "    <tr>\n",
       "      <th>29</th>\n",
       "      <td>0</td>\n",
       "      <td>NaN</td>\n",
       "      <td>63</td>\n",
       "      <td>среднее</td>\n",
       "      <td>1</td>\n",
       "      <td>Не женат / не замужем</td>\n",
       "      <td>4</td>\n",
       "      <td>F</td>\n",
       "      <td>пенсионер</td>\n",
       "      <td>0</td>\n",
       "      <td>NaN</td>\n",
       "      <td>строительство жилой недвижимости</td>\n",
       "    </tr>\n",
       "    <tr>\n",
       "      <th>41</th>\n",
       "      <td>0</td>\n",
       "      <td>NaN</td>\n",
       "      <td>50</td>\n",
       "      <td>среднее</td>\n",
       "      <td>1</td>\n",
       "      <td>женат / замужем</td>\n",
       "      <td>0</td>\n",
       "      <td>F</td>\n",
       "      <td>госслужащий</td>\n",
       "      <td>0</td>\n",
       "      <td>NaN</td>\n",
       "      <td>сделка с подержанным автомобилем</td>\n",
       "    </tr>\n",
       "    <tr>\n",
       "      <th>55</th>\n",
       "      <td>0</td>\n",
       "      <td>NaN</td>\n",
       "      <td>54</td>\n",
       "      <td>среднее</td>\n",
       "      <td>1</td>\n",
       "      <td>гражданский брак</td>\n",
       "      <td>1</td>\n",
       "      <td>F</td>\n",
       "      <td>пенсионер</td>\n",
       "      <td>1</td>\n",
       "      <td>NaN</td>\n",
       "      <td>сыграть свадьбу</td>\n",
       "    </tr>\n",
       "    <tr>\n",
       "      <th>...</th>\n",
       "      <td>...</td>\n",
       "      <td>...</td>\n",
       "      <td>...</td>\n",
       "      <td>...</td>\n",
       "      <td>...</td>\n",
       "      <td>...</td>\n",
       "      <td>...</td>\n",
       "      <td>...</td>\n",
       "      <td>...</td>\n",
       "      <td>...</td>\n",
       "      <td>...</td>\n",
       "      <td>...</td>\n",
       "    </tr>\n",
       "    <tr>\n",
       "      <th>21489</th>\n",
       "      <td>2</td>\n",
       "      <td>NaN</td>\n",
       "      <td>47</td>\n",
       "      <td>Среднее</td>\n",
       "      <td>1</td>\n",
       "      <td>женат / замужем</td>\n",
       "      <td>0</td>\n",
       "      <td>M</td>\n",
       "      <td>компаньон</td>\n",
       "      <td>0</td>\n",
       "      <td>NaN</td>\n",
       "      <td>сделка с автомобилем</td>\n",
       "    </tr>\n",
       "    <tr>\n",
       "      <th>21495</th>\n",
       "      <td>1</td>\n",
       "      <td>NaN</td>\n",
       "      <td>50</td>\n",
       "      <td>среднее</td>\n",
       "      <td>1</td>\n",
       "      <td>гражданский брак</td>\n",
       "      <td>1</td>\n",
       "      <td>F</td>\n",
       "      <td>сотрудник</td>\n",
       "      <td>0</td>\n",
       "      <td>NaN</td>\n",
       "      <td>свадьба</td>\n",
       "    </tr>\n",
       "    <tr>\n",
       "      <th>21497</th>\n",
       "      <td>0</td>\n",
       "      <td>NaN</td>\n",
       "      <td>48</td>\n",
       "      <td>ВЫСШЕЕ</td>\n",
       "      <td>0</td>\n",
       "      <td>женат / замужем</td>\n",
       "      <td>0</td>\n",
       "      <td>F</td>\n",
       "      <td>компаньон</td>\n",
       "      <td>0</td>\n",
       "      <td>NaN</td>\n",
       "      <td>строительство недвижимости</td>\n",
       "    </tr>\n",
       "    <tr>\n",
       "      <th>21502</th>\n",
       "      <td>1</td>\n",
       "      <td>NaN</td>\n",
       "      <td>42</td>\n",
       "      <td>среднее</td>\n",
       "      <td>1</td>\n",
       "      <td>женат / замужем</td>\n",
       "      <td>0</td>\n",
       "      <td>F</td>\n",
       "      <td>сотрудник</td>\n",
       "      <td>0</td>\n",
       "      <td>NaN</td>\n",
       "      <td>строительство жилой недвижимости</td>\n",
       "    </tr>\n",
       "    <tr>\n",
       "      <th>21510</th>\n",
       "      <td>2</td>\n",
       "      <td>NaN</td>\n",
       "      <td>28</td>\n",
       "      <td>среднее</td>\n",
       "      <td>1</td>\n",
       "      <td>женат / замужем</td>\n",
       "      <td>0</td>\n",
       "      <td>F</td>\n",
       "      <td>сотрудник</td>\n",
       "      <td>0</td>\n",
       "      <td>NaN</td>\n",
       "      <td>приобретение автомобиля</td>\n",
       "    </tr>\n",
       "  </tbody>\n",
       "</table>\n",
       "<p>2174 rows × 12 columns</p>\n",
       "</div>"
      ],
      "text/plain": [
       "       children  days_employed  dob_years education  education_id  \\\n",
       "12            0            NaN         65   среднее             1   \n",
       "26            0            NaN         41   среднее             1   \n",
       "29            0            NaN         63   среднее             1   \n",
       "41            0            NaN         50   среднее             1   \n",
       "55            0            NaN         54   среднее             1   \n",
       "...         ...            ...        ...       ...           ...   \n",
       "21489         2            NaN         47   Среднее             1   \n",
       "21495         1            NaN         50   среднее             1   \n",
       "21497         0            NaN         48    ВЫСШЕЕ             0   \n",
       "21502         1            NaN         42   среднее             1   \n",
       "21510         2            NaN         28   среднее             1   \n",
       "\n",
       "               family_status  family_status_id gender  income_type  debt  \\\n",
       "12          гражданский брак                 1      M    пенсионер     0   \n",
       "26           женат / замужем                 0      M  госслужащий     0   \n",
       "29     Не женат / не замужем                 4      F    пенсионер     0   \n",
       "41           женат / замужем                 0      F  госслужащий     0   \n",
       "55          гражданский брак                 1      F    пенсионер     1   \n",
       "...                      ...               ...    ...          ...   ...   \n",
       "21489        женат / замужем                 0      M    компаньон     0   \n",
       "21495       гражданский брак                 1      F    сотрудник     0   \n",
       "21497        женат / замужем                 0      F    компаньон     0   \n",
       "21502        женат / замужем                 0      F    сотрудник     0   \n",
       "21510        женат / замужем                 0      F    сотрудник     0   \n",
       "\n",
       "       total_income                           purpose  \n",
       "12              NaN                   сыграть свадьбу  \n",
       "26              NaN                       образование  \n",
       "29              NaN  строительство жилой недвижимости  \n",
       "41              NaN  сделка с подержанным автомобилем  \n",
       "55              NaN                   сыграть свадьбу  \n",
       "...             ...                               ...  \n",
       "21489           NaN              сделка с автомобилем  \n",
       "21495           NaN                           свадьба  \n",
       "21497           NaN        строительство недвижимости  \n",
       "21502           NaN  строительство жилой недвижимости  \n",
       "21510           NaN           приобретение автомобиля  \n",
       "\n",
       "[2174 rows x 12 columns]"
      ]
     },
     "execution_count": 35,
     "metadata": {},
     "output_type": "execute_result"
    }
   ],
   "source": [
    "df.query('total_income.isnull() and days_employed.isnull()', engine='python')"
   ]
  },
  {
   "cell_type": "markdown",
   "metadata": {},
   "source": [
    "Пропуски в обоих случаях в одиних и тех же строках \\\n",
    "Я решил заполнить отсутствующие значения в total_income по медиане в зависимости от типа занятости \\\n",
    "Посмотрим количество заёмщиков по категориям"
   ]
  },
  {
   "cell_type": "code",
   "execution_count": 36,
   "metadata": {
    "scrolled": true
   },
   "outputs": [
    {
     "data": {
      "text/plain": [
       "сотрудник          11119\n",
       "компаньон           5085\n",
       "пенсионер           3856\n",
       "госслужащий         1459\n",
       "безработный            2\n",
       "предприниматель        2\n",
       "студент                1\n",
       "в декрете              1\n",
       "Name: income_type, dtype: int64"
      ]
     },
     "execution_count": 36,
     "metadata": {},
     "output_type": "execute_result"
    }
   ],
   "source": [
    "df['income_type'].value_counts()"
   ]
  },
  {
   "cell_type": "markdown",
   "metadata": {},
   "source": [
    "Предпринимателей всего два, и один из них с пропуском. Заменять медианой или средней величиной - некорректно \\\n",
    "Более правильно, на мой взгляд, будет удалить эту конкретную строчку, так как доход предпринимателя может очень сильно различаться вне зависимости от любых других показателей датасета\n",
    "\n"
   ]
  },
  {
   "cell_type": "code",
   "execution_count": 37,
   "metadata": {},
   "outputs": [],
   "source": [
    "df = df.drop(df.query('income_type == \"предприниматель\" and total_income.isnull()', engine='python').index)"
   ]
  },
  {
   "cell_type": "markdown",
   "metadata": {},
   "source": [
    "Теперь напишу цикл для замены пустого значения в столбце total_income на медиану в зависимости от категории в income_type"
   ]
  },
  {
   "cell_type": "code",
   "execution_count": 38,
   "metadata": {
    "scrolled": true
   },
   "outputs": [],
   "source": [
    "list_of_types = ['сотрудник', 'пенсионер', 'компаньон', 'госслужащий']\n",
    "for inc_type in list_of_types:   \n",
    "    median_ti = df.loc[df['income_type'] == inc_type, 'total_income'].median()\n",
    "    df.loc[(df['total_income'].isna()) & (df['income_type'] == inc_type), 'total_income'] = median_ti"
   ]
  },
  {
   "cell_type": "markdown",
   "metadata": {},
   "source": [
    "Теперь можно разобраться с пропусками в days_employed. Так же заменим на медиану:"
   ]
  },
  {
   "cell_type": "code",
   "execution_count": 39,
   "metadata": {},
   "outputs": [],
   "source": [
    "df['days_employed'] = abs(df['days_employed'])\n",
    "for inc_type in list_of_types:   \n",
    "    median_days = df.loc[df['income_type'] == inc_type, 'days_employed'].median()\n",
    "    df.loc[(df['days_employed'].isna()) & (df['income_type'] == inc_type), 'days_employed'] = median_days"
   ]
  },
  {
   "cell_type": "markdown",
   "metadata": {},
   "source": [
    "**Вывод**"
   ]
  },
  {
   "cell_type": "markdown",
   "metadata": {},
   "source": [
    "Пропуски в данных были в одних и тех же строках в столбцах total_income и days_employed. В первом случае пропуски я заполнин медианным значением в зависимости от категории в income_type и удалил единственную строку с пропуском в случае \"предпринимателя\", т.к. заполнять её какой-либо другой величиной некорректно. Слишком мало данных.\n",
    "Теоретические причины - их могли не заполнить ещё во время сбора данных. Либо же техничская ошибка/баг"
   ]
  },
  {
   "cell_type": "markdown",
   "metadata": {},
   "source": [
    "### Замена типа данных"
   ]
  },
  {
   "cell_type": "markdown",
   "metadata": {},
   "source": [
    "Во всей таблицы используется три типа данных - int, float, str \\\n",
    "Вещественный тип данных используется только в total_income и days_employed, но т.к. такая большая точность в данном случае нам не нужна, мы можем привести их так же к целочисленному для удобства работы"
   ]
  },
  {
   "cell_type": "code",
   "execution_count": 40,
   "metadata": {},
   "outputs": [],
   "source": [
    "df['total_income'] = df['total_income'].astype('int')#Преобразуем этот столбец в целочисленный методом astype()\n",
    "df['days_employed'] = df['days_employed'].astype('int')"
   ]
  },
  {
   "cell_type": "markdown",
   "metadata": {},
   "source": [
    "**Вывод**"
   ]
  },
  {
   "cell_type": "markdown",
   "metadata": {},
   "source": [
    "Тип данных в большинстве случаев можно было не менять, за исключением total_income. Для удобства будущих расчётов необходимо было привести его в int. Так удобнее, быстрее и не теряется большая часть данных"
   ]
  },
  {
   "cell_type": "markdown",
   "metadata": {},
   "source": [
    "### Обработка значений"
   ]
  },
  {
   "cell_type": "markdown",
   "metadata": {},
   "source": [
    "Проверим корректность заполнения столбцов"
   ]
  },
  {
   "cell_type": "code",
   "execution_count": 41,
   "metadata": {},
   "outputs": [
    {
     "name": "stdout",
     "output_type": "stream",
     "text": [
      "[ 1  0  3  2 -1  4 20  5]\n",
      "['высшее' 'среднее' 'Среднее' 'СРЕДНЕЕ' 'ВЫСШЕЕ' 'неоконченное высшее'\n",
      " 'начальное' 'Высшее' 'НЕОКОНЧЕННОЕ ВЫСШЕЕ' 'Неоконченное высшее'\n",
      " 'НАЧАЛЬНОЕ' 'Начальное' 'Ученая степень' 'УЧЕНАЯ СТЕПЕНЬ'\n",
      " 'ученая степень']\n",
      "['женат / замужем' 'гражданский брак' 'вдовец / вдова' 'в разводе'\n",
      " 'Не женат / не замужем']\n",
      "['F' 'M' 'XNA']\n",
      "['сотрудник' 'пенсионер' 'компаньон' 'госслужащий' 'безработный' 'студент'\n",
      " 'предприниматель' 'в декрете']\n",
      "['покупка жилья' 'приобретение автомобиля' 'дополнительное образование'\n",
      " 'сыграть свадьбу' 'операции с жильем' 'образование'\n",
      " 'на проведение свадьбы' 'покупка жилья для семьи' 'покупка недвижимости'\n",
      " 'покупка коммерческой недвижимости' 'покупка жилой недвижимости'\n",
      " 'строительство собственной недвижимости' 'недвижимость'\n",
      " 'строительство недвижимости' 'на покупку подержанного автомобиля'\n",
      " 'на покупку своего автомобиля' 'операции с коммерческой недвижимостью'\n",
      " 'строительство жилой недвижимости' 'жилье'\n",
      " 'операции со своей недвижимостью' 'автомобили' 'заняться образованием'\n",
      " 'сделка с подержанным автомобилем' 'получение образования' 'автомобиль'\n",
      " 'свадьба' 'получение дополнительного образования' 'покупка своего жилья'\n",
      " 'операции с недвижимостью' 'получение высшего образования'\n",
      " 'свой автомобиль' 'сделка с автомобилем' 'профильное образование'\n",
      " 'высшее образование' 'покупка жилья для сдачи' 'на покупку автомобиля'\n",
      " 'ремонт жилью' 'заняться высшим образованием']\n"
     ]
    }
   ],
   "source": [
    "for value in ['children' ,'education', 'family_status', 'gender', 'income_type', 'purpose']:\n",
    "    print(df[value].unique())"
   ]
  },
  {
   "cell_type": "markdown",
   "metadata": {},
   "source": [
    "Видно неверное заполнение в некоторых столбцах в регистре, повторяющиеся по смыслу значение и т.д. Сначала разберёмся со столбоцом education. Достаточно привести всё к одному регистру"
   ]
  },
  {
   "cell_type": "code",
   "execution_count": 42,
   "metadata": {},
   "outputs": [
    {
     "name": "stdout",
     "output_type": "stream",
     "text": [
      "['высшее' 'среднее' 'неоконченное высшее' 'начальное' 'ученая степень']\n"
     ]
    }
   ],
   "source": [
    "df['education'] = df['education'].str.lower()\n",
    "print(df['education'].unique())"
   ]
  },
  {
   "cell_type": "markdown",
   "metadata": {},
   "source": [
    "В столбце gender есть странное значение XNA. Посмотрим, сколько таких значений есть в датафрейме"
   ]
  },
  {
   "cell_type": "code",
   "execution_count": 43,
   "metadata": {},
   "outputs": [
    {
     "data": {
      "text/plain": [
       "F      14236\n",
       "M       7287\n",
       "XNA        1\n",
       "Name: gender, dtype: int64"
      ]
     },
     "metadata": {},
     "output_type": "display_data"
    }
   ],
   "source": [
    "display(df['gender'].value_counts())"
   ]
  },
  {
   "cell_type": "markdown",
   "metadata": {},
   "source": [
    "Такое значение всего лишь одно. Т.к. для исследования пол неважен - оставим как есть."
   ]
  },
  {
   "cell_type": "markdown",
   "metadata": {},
   "source": [
    "Со столбцом children тоже не всё впорядке"
   ]
  },
  {
   "cell_type": "code",
   "execution_count": 44,
   "metadata": {},
   "outputs": [
    {
     "name": "stdout",
     "output_type": "stream",
     "text": [
      " 0     14148\n",
      " 1      4818\n",
      " 2      2055\n",
      " 3       330\n",
      " 20       76\n",
      "-1        47\n",
      " 4        41\n",
      " 5         9\n",
      "Name: children, dtype: int64\n"
     ]
    }
   ],
   "source": [
    "print(df['children'].value_counts())"
   ]
  },
  {
   "cell_type": "markdown",
   "metadata": {},
   "source": [
    "Есть несколько смущающих моментов: \\\n",
    "20 детей в 76 семьях и -1 детей в 47 семьях\\\n",
    "Скорее всего это ошибки и детей должно быть двое в случае \"огромных\" семей, и 1 в случае отрицательного значения"
   ]
  },
  {
   "cell_type": "code",
   "execution_count": 45,
   "metadata": {},
   "outputs": [
    {
     "name": "stdout",
     "output_type": "stream",
     "text": [
      "0    14148\n",
      "1     4865\n",
      "2     2131\n",
      "3      330\n",
      "4       41\n",
      "5        9\n",
      "Name: children, dtype: int64\n"
     ]
    }
   ],
   "source": [
    "df['children'] = abs(df['children']).replace(20,2)\n",
    "print(df['children'].value_counts())"
   ]
  },
  {
   "cell_type": "markdown",
   "metadata": {},
   "source": [
    "Стоит так же проверить на аномалии столбец days_employed "
   ]
  },
  {
   "cell_type": "code",
   "execution_count": 46,
   "metadata": {},
   "outputs": [
    {
     "data": {
      "text/plain": [
       "count     21524.000000\n",
       "mean      67302.111829\n",
       "std      139404.298348\n",
       "min          24.000000\n",
       "25%        1025.000000\n",
       "50%        1993.500000\n",
       "75%        5347.500000\n",
       "max      401755.000000\n",
       "Name: days_employed, dtype: float64"
      ]
     },
     "execution_count": 46,
     "metadata": {},
     "output_type": "execute_result"
    }
   ],
   "source": [
    "df['days_employed'].describe()"
   ]
  },
  {
   "cell_type": "markdown",
   "metadata": {},
   "source": [
    "Для удобства переведём числа из дней в года"
   ]
  },
  {
   "cell_type": "code",
   "execution_count": 47,
   "metadata": {},
   "outputs": [
    {
     "data": {
      "text/plain": [
       "count    21524.000000\n",
       "mean       184.374048\n",
       "std        381.958314\n",
       "min          0.000000\n",
       "25%          3.000000\n",
       "50%          5.000000\n",
       "75%         15.000000\n",
       "max       1101.000000\n",
       "Name: days_employed, dtype: float64"
      ]
     },
     "execution_count": 47,
     "metadata": {},
     "output_type": "execute_result"
    }
   ],
   "source": [
    "years_employed = round(df['days_employed'] / 365).astype(int)\n",
    "years_employed.describe()"
   ]
  },
  {
   "cell_type": "code",
   "execution_count": 48,
   "metadata": {},
   "outputs": [
    {
     "data": {
      "image/png": "[encoded data removed]",
      "text/plain": [
       "<Figure size 432x288 with 1 Axes>"
      ]
     },
     "metadata": {
      "needs_background": "light"
     },
     "output_type": "display_data"
    }
   ],
   "source": [
    "df.boxplot('days_employed') #Посмотрим на распределние значений через боксплот\n",
    "plt.show()"
   ]
  },
  {
   "cell_type": "code",
   "execution_count": 49,
   "metadata": {},
   "outputs": [
    {
     "data": {
      "image/png": "[encoded data removed]",
      "text/plain": [
       "<Figure size 432x432 with 1 Axes>"
      ]
     },
     "metadata": {
      "needs_background": "light"
     },
     "output_type": "display_data"
    }
   ],
   "source": [
    " #Более подробно рассмотрим гистограмму\n",
    "plt.figure(figsize=(6,6))\n",
    "ax_1 = sns.histplot(data=years_employed, bins=30, kde=True)\n",
    "plt.ylabel('Число заёмщиков')\n",
    "plt.xlabel('Трудовой стаж (в годах)')\n",
    "ax_1.axes.set_title('Распределние заёмщиков по трудовому стажу', fontsize=12)\n",
    "plt.show()"
   ]
  },
  {
   "cell_type": "markdown",
   "metadata": {},
   "source": [
    "Есть большой \"остров\" аномалий в районе тысячи лет стажа "
   ]
  },
  {
   "cell_type": "markdown",
   "metadata": {},
   "source": [
    "Взглянем на распределение аномалий"
   ]
  },
  {
   "cell_type": "code",
   "execution_count": 50,
   "metadata": {},
   "outputs": [
    {
     "data": {
      "image/png": "[encoded data removed]",
      "text/plain": [
       "<Figure size 432x432 with 1 Axes>"
      ]
     },
     "metadata": {
      "needs_background": "light"
     },
     "output_type": "display_data"
    },
    {
     "name": "stdout",
     "output_type": "stream",
     "text": [
      "Количество строк в аномальном участке 3858\n"
     ]
    }
   ],
   "source": [
    "years_employed = round(df['days_employed'] / 365).astype(int)\n",
    "plt.figure(figsize=(6,6))\n",
    "ax_1 = sns.histplot(data=years_employed[years_employed > 50], bins=30, kde=True)\n",
    "plt.ylabel('Число заёмщиков')\n",
    "plt.xlabel('Трудовой стаж (в годах)')\n",
    "ax_1.axes.set_title('Распределние заёмщиков по трудовому стажу (артефакты)', fontsize=12)\n",
    "plt.show()\n",
    "print(f'Количество строк в аномальном участке {years_employed[years_employed > 50].count()}')"
   ]
  },
  {
   "cell_type": "markdown",
   "metadata": {},
   "source": [
    "И распределение \"нормального\" участка"
   ]
  },
  {
   "cell_type": "code",
   "execution_count": 51,
   "metadata": {},
   "outputs": [
    {
     "data": {
      "image/png": "[encoded data removed]",
      "text/plain": [
       "<Figure size 432x432 with 1 Axes>"
      ]
     },
     "metadata": {
      "needs_background": "light"
     },
     "output_type": "display_data"
    },
    {
     "name": "stdout",
     "output_type": "stream",
     "text": [
      "Количество строк в нормальном участке 17665\n"
     ]
    }
   ],
   "source": [
    "years_employed = round(df['days_employed'] / 365).astype(int)\n",
    "years_employed_without_mstk = years_employed[years_employed < 50]\n",
    "plt.figure(figsize=(6,6))\n",
    "ax_1 = sns.histplot(data=years_employed_without_mstk, bins=30, kde=True)\n",
    "plt.ylabel('Число заёмщиков')\n",
    "plt.xlabel('Трудовой стаж (в годах)')\n",
    "ax_1.axes.set_title('Распределние заёмщиков по трудовому стажу (норма)', fontsize=12)\n",
    "plt.show()\n",
    "print(f'Количество строк в нормальном участке {years_employed[years_employed < 50].count()}')"
   ]
  },
  {
   "cell_type": "code",
   "execution_count": 69,
   "metadata": {},
   "outputs": [
    {
     "data": {
      "text/plain": [
       "count    17666.000000\n",
       "mean      2283.457659\n",
       "std       2198.476789\n",
       "min         24.000000\n",
       "25%        843.250000\n",
       "50%       1574.000000\n",
       "75%       2939.750000\n",
       "max      18388.000000\n",
       "Name: days_employed, dtype: float64"
      ]
     },
     "execution_count": 69,
     "metadata": {},
     "output_type": "execute_result"
    }
   ],
   "source": [
    "df['days_employed'].loc[df['days_employed'] > 67302.111829] = np.nan #Всё выше среднего числа заменил на nan\n",
    "df['days_employed'].describe()"
   ]
  },
  {
   "cell_type": "markdown",
   "metadata": {},
   "source": [
    "### Лемматизация"
   ]
  },
  {
   "cell_type": "markdown",
   "metadata": {},
   "source": [
    "Проведём в purpose лемматизацию что бы свести назначения кредита к каким-то единым категориям"
   ]
  },
  {
   "cell_type": "code",
   "execution_count": 54,
   "metadata": {},
   "outputs": [],
   "source": [
    "uniq_purpose = df['purpose'].unique() # Для экономии ресурсов вместо лемматизации всего столбца - прмиеним лемматизацию\n",
    "lemmed_purpose = [] # уникальных значений, создадим список {оригинал:лемматизированное значение} и по ключу подставим нужные\n",
    "for val in uniq_purpose:\n",
    "    lemmed_purpose.append(m.lemmatize(val))\n",
    "not_lemmed_and_lemmed = dict(zip(uniq_purpose, lemmed_purpose))"
   ]
  },
  {
   "cell_type": "code",
   "execution_count": 55,
   "metadata": {},
   "outputs": [
    {
     "name": "stdout",
     "output_type": "stream",
     "text": [
      "['покупка', ' ', 'жилье', '\\n']\n",
      "['приобретение', ' ', 'автомобиль', '\\n']\n",
      "['дополнительный', ' ', 'образование', '\\n']\n",
      "['сыграть', ' ', 'свадьба', '\\n']\n",
      "['операция', ' ', 'с', ' ', 'жилье', '\\n']\n",
      "['образование', '\\n']\n",
      "['на', ' ', 'проведение', ' ', 'свадьба', '\\n']\n",
      "['покупка', ' ', 'жилье', ' ', 'для', ' ', 'семья', '\\n']\n",
      "['покупка', ' ', 'недвижимость', '\\n']\n",
      "['покупка', ' ', 'коммерческий', ' ', 'недвижимость', '\\n']\n",
      "['покупка', ' ', 'жилой', ' ', 'недвижимость', '\\n']\n",
      "['строительство', ' ', 'собственный', ' ', 'недвижимость', '\\n']\n",
      "['недвижимость', '\\n']\n",
      "['строительство', ' ', 'недвижимость', '\\n']\n",
      "['на', ' ', 'покупка', ' ', 'подержать', ' ', 'автомобиль', '\\n']\n",
      "['на', ' ', 'покупка', ' ', 'свой', ' ', 'автомобиль', '\\n']\n",
      "['операция', ' ', 'с', ' ', 'коммерческий', ' ', 'недвижимость', '\\n']\n",
      "['строительство', ' ', 'жилой', ' ', 'недвижимость', '\\n']\n",
      "['жилье', '\\n']\n",
      "['операция', ' ', 'со', ' ', 'свой', ' ', 'недвижимость', '\\n']\n",
      "['автомобиль', '\\n']\n",
      "['заниматься', ' ', 'образование', '\\n']\n",
      "['сделка', ' ', 'с', ' ', 'подержанный', ' ', 'автомобиль', '\\n']\n",
      "['получение', ' ', 'образование', '\\n']\n",
      "['автомобиль', '\\n']\n",
      "['свадьба', '\\n']\n",
      "['получение', ' ', 'дополнительный', ' ', 'образование', '\\n']\n",
      "['покупка', ' ', 'свой', ' ', 'жилье', '\\n']\n",
      "['операция', ' ', 'с', ' ', 'недвижимость', '\\n']\n",
      "['получение', ' ', 'высокий', ' ', 'образование', '\\n']\n",
      "['свой', ' ', 'автомобиль', '\\n']\n",
      "['сделка', ' ', 'с', ' ', 'автомобиль', '\\n']\n",
      "['профильный', ' ', 'образование', '\\n']\n",
      "['высокий', ' ', 'образование', '\\n']\n",
      "['покупка', ' ', 'жилье', ' ', 'для', ' ', 'сдача', '\\n']\n",
      "['на', ' ', 'покупка', ' ', 'автомобиль', '\\n']\n",
      "['ремонт', ' ', 'жилье', '\\n']\n",
      "['заниматься', ' ', 'высокий', ' ', 'образование', '\\n']\n"
     ]
    }
   ],
   "source": [
    "for val in lemmed_purpose: print(val)"
   ]
  },
  {
   "cell_type": "code",
   "execution_count": 56,
   "metadata": {},
   "outputs": [],
   "source": [
    "def creating_of_lemmedcol(row):\n",
    "    return not_lemmed_and_lemmed[row]\n",
    "df['shorted_purpose'] = df['purpose'].apply(creating_of_lemmedcol)"
   ]
  },
  {
   "cell_type": "markdown",
   "metadata": {},
   "source": [
    "Разобьём все цели на 4 основных категории - образование, автомобиль, свадьба, недвижимость(жильё)"
   ]
  },
  {
   "cell_type": "code",
   "execution_count": 57,
   "metadata": {},
   "outputs": [
    {
     "data": {
      "text/plain": [
       "недвижимость    10839\n",
       "автомобиль       4315\n",
       "образование      4022\n",
       "свадьба          2348\n",
       "Name: shorted_purpose, dtype: int64"
      ]
     },
     "metadata": {},
     "output_type": "display_data"
    }
   ],
   "source": [
    "def shorted_lemmas(row):\n",
    "    if 'автомобиль' in row:\n",
    "        return 'автомобиль'\n",
    "    elif 'образование' in row:\n",
    "        return 'образование'\n",
    "    elif 'свадьба' in row:\n",
    "        return 'свадьба'\n",
    "    elif 'жилье' or 'недвижимость' in row:\n",
    "        return 'недвижимость'\n",
    "df['shorted_purpose'] = df['shorted_purpose'].apply(shorted_lemmas)\n",
    "display(df['shorted_purpose'].value_counts())"
   ]
  },
  {
   "cell_type": "markdown",
   "metadata": {},
   "source": [
    "### Категоризация данных"
   ]
  },
  {
   "cell_type": "markdown",
   "metadata": {},
   "source": [
    "Зададим столбцу с доходами категории на основе квартилей"
   ]
  },
  {
   "cell_type": "code",
   "execution_count": 58,
   "metadata": {},
   "outputs": [
    {
     "name": "stdout",
     "output_type": "stream",
     "text": [
      "count    2.152400e+04\n",
      "mean     1.652093e+05\n",
      "std      9.801952e+04\n",
      "min      2.066700e+04\n",
      "25%      1.077958e+05\n",
      "50%      1.425940e+05\n",
      "75%      1.955445e+05\n",
      "max      2.265604e+06\n",
      "Name: total_income, dtype: float64\n"
     ]
    }
   ],
   "source": [
    "print(df['total_income'].describe())"
   ]
  },
  {
   "cell_type": "markdown",
   "metadata": {},
   "source": [
    "Задам категории для уровня дохода и выделю их в отдельный столбец"
   ]
  },
  {
   "cell_type": "code",
   "execution_count": 90,
   "metadata": {},
   "outputs": [
    {
     "data": {
      "text/plain": [
       "средний доход         5524\n",
       "сверхвысокий доход    5381\n",
       "низкий доход          5381\n",
       "высокий доход         5238\n",
       "Name: total_income_category, dtype: int64"
      ]
     },
     "execution_count": 90,
     "metadata": {},
     "output_type": "execute_result"
    }
   ],
   "source": [
    "def ti_category(row):\n",
    "    if row <= 1.077958e+05:\n",
    "        return 'низкий доход'\n",
    "    elif row <= 1.425940e+05:\n",
    "        return 'средний доход'\n",
    "    elif row <= 1.955445e+05:\n",
    "        return 'высокий доход'\n",
    "    elif row >= 1.955445e+05:\n",
    "        return 'сверхвысокий доход'\n",
    "df['total_income_category'] = df['total_income'].apply(ti_category)\n",
    "df['total_income_category'].value_counts()"
   ]
  },
  {
   "cell_type": "markdown",
   "metadata": {},
   "source": [
    "**Вывод**"
   ]
  },
  {
   "cell_type": "markdown",
   "metadata": {},
   "source": [
    "Почистив датасет от артефактов, отлемматизировав назначение кредита и проделав прочую предобработку подготовили данные к дальнейшему анализу"
   ]
  },
  {
   "cell_type": "code",
   "execution_count": 60,
   "metadata": {},
   "outputs": [
    {
     "data": {
      "text/html": [
       "<div>\n",
       "<style scoped>\n",
       "    .dataframe tbody tr th:only-of-type {\n",
       "        vertical-align: middle;\n",
       "    }\n",
       "\n",
       "    .dataframe tbody tr th {\n",
       "        vertical-align: top;\n",
       "    }\n",
       "\n",
       "    .dataframe thead th {\n",
       "        text-align: right;\n",
       "    }\n",
       "</style>\n",
       "<table border=\"1\" class=\"dataframe\">\n",
       "  <thead>\n",
       "    <tr style=\"text-align: right;\">\n",
       "      <th></th>\n",
       "      <th>children</th>\n",
       "      <th>days_employed</th>\n",
       "      <th>dob_years</th>\n",
       "      <th>education</th>\n",
       "      <th>education_id</th>\n",
       "      <th>family_status</th>\n",
       "      <th>family_status_id</th>\n",
       "      <th>gender</th>\n",
       "      <th>income_type</th>\n",
       "      <th>debt</th>\n",
       "      <th>total_income</th>\n",
       "      <th>purpose</th>\n",
       "      <th>shorted_purpose</th>\n",
       "      <th>total_income_category</th>\n",
       "    </tr>\n",
       "  </thead>\n",
       "  <tbody>\n",
       "    <tr>\n",
       "      <th>0</th>\n",
       "      <td>1</td>\n",
       "      <td>8437</td>\n",
       "      <td>42</td>\n",
       "      <td>высшее</td>\n",
       "      <td>0</td>\n",
       "      <td>женат / замужем</td>\n",
       "      <td>0</td>\n",
       "      <td>F</td>\n",
       "      <td>сотрудник</td>\n",
       "      <td>0</td>\n",
       "      <td>253875</td>\n",
       "      <td>покупка жилья</td>\n",
       "      <td>недвижимость</td>\n",
       "      <td>сверхвысокий доход</td>\n",
       "    </tr>\n",
       "    <tr>\n",
       "      <th>1</th>\n",
       "      <td>1</td>\n",
       "      <td>4024</td>\n",
       "      <td>36</td>\n",
       "      <td>среднее</td>\n",
       "      <td>1</td>\n",
       "      <td>женат / замужем</td>\n",
       "      <td>0</td>\n",
       "      <td>F</td>\n",
       "      <td>сотрудник</td>\n",
       "      <td>0</td>\n",
       "      <td>112080</td>\n",
       "      <td>приобретение автомобиля</td>\n",
       "      <td>автомобиль</td>\n",
       "      <td>средний доход</td>\n",
       "    </tr>\n",
       "    <tr>\n",
       "      <th>2</th>\n",
       "      <td>0</td>\n",
       "      <td>5623</td>\n",
       "      <td>33</td>\n",
       "      <td>среднее</td>\n",
       "      <td>1</td>\n",
       "      <td>женат / замужем</td>\n",
       "      <td>0</td>\n",
       "      <td>M</td>\n",
       "      <td>сотрудник</td>\n",
       "      <td>0</td>\n",
       "      <td>145885</td>\n",
       "      <td>покупка жилья</td>\n",
       "      <td>недвижимость</td>\n",
       "      <td>высокий доход</td>\n",
       "    </tr>\n",
       "    <tr>\n",
       "      <th>3</th>\n",
       "      <td>3</td>\n",
       "      <td>4124</td>\n",
       "      <td>32</td>\n",
       "      <td>среднее</td>\n",
       "      <td>1</td>\n",
       "      <td>женат / замужем</td>\n",
       "      <td>0</td>\n",
       "      <td>M</td>\n",
       "      <td>сотрудник</td>\n",
       "      <td>0</td>\n",
       "      <td>267628</td>\n",
       "      <td>дополнительное образование</td>\n",
       "      <td>образование</td>\n",
       "      <td>сверхвысокий доход</td>\n",
       "    </tr>\n",
       "    <tr>\n",
       "      <th>4</th>\n",
       "      <td>0</td>\n",
       "      <td>340266</td>\n",
       "      <td>53</td>\n",
       "      <td>среднее</td>\n",
       "      <td>1</td>\n",
       "      <td>гражданский брак</td>\n",
       "      <td>1</td>\n",
       "      <td>F</td>\n",
       "      <td>пенсионер</td>\n",
       "      <td>0</td>\n",
       "      <td>158616</td>\n",
       "      <td>сыграть свадьбу</td>\n",
       "      <td>свадьба</td>\n",
       "      <td>высокий доход</td>\n",
       "    </tr>\n",
       "    <tr>\n",
       "      <th>...</th>\n",
       "      <td>...</td>\n",
       "      <td>...</td>\n",
       "      <td>...</td>\n",
       "      <td>...</td>\n",
       "      <td>...</td>\n",
       "      <td>...</td>\n",
       "      <td>...</td>\n",
       "      <td>...</td>\n",
       "      <td>...</td>\n",
       "      <td>...</td>\n",
       "      <td>...</td>\n",
       "      <td>...</td>\n",
       "      <td>...</td>\n",
       "      <td>...</td>\n",
       "    </tr>\n",
       "    <tr>\n",
       "      <th>21520</th>\n",
       "      <td>1</td>\n",
       "      <td>4529</td>\n",
       "      <td>43</td>\n",
       "      <td>среднее</td>\n",
       "      <td>1</td>\n",
       "      <td>гражданский брак</td>\n",
       "      <td>1</td>\n",
       "      <td>F</td>\n",
       "      <td>компаньон</td>\n",
       "      <td>0</td>\n",
       "      <td>224791</td>\n",
       "      <td>операции с жильем</td>\n",
       "      <td>недвижимость</td>\n",
       "      <td>сверхвысокий доход</td>\n",
       "    </tr>\n",
       "    <tr>\n",
       "      <th>21521</th>\n",
       "      <td>0</td>\n",
       "      <td>343937</td>\n",
       "      <td>67</td>\n",
       "      <td>среднее</td>\n",
       "      <td>1</td>\n",
       "      <td>женат / замужем</td>\n",
       "      <td>0</td>\n",
       "      <td>F</td>\n",
       "      <td>пенсионер</td>\n",
       "      <td>0</td>\n",
       "      <td>155999</td>\n",
       "      <td>сделка с автомобилем</td>\n",
       "      <td>автомобиль</td>\n",
       "      <td>высокий доход</td>\n",
       "    </tr>\n",
       "    <tr>\n",
       "      <th>21522</th>\n",
       "      <td>1</td>\n",
       "      <td>2113</td>\n",
       "      <td>38</td>\n",
       "      <td>среднее</td>\n",
       "      <td>1</td>\n",
       "      <td>гражданский брак</td>\n",
       "      <td>1</td>\n",
       "      <td>M</td>\n",
       "      <td>сотрудник</td>\n",
       "      <td>1</td>\n",
       "      <td>89672</td>\n",
       "      <td>недвижимость</td>\n",
       "      <td>недвижимость</td>\n",
       "      <td>низкий доход</td>\n",
       "    </tr>\n",
       "    <tr>\n",
       "      <th>21523</th>\n",
       "      <td>3</td>\n",
       "      <td>3112</td>\n",
       "      <td>38</td>\n",
       "      <td>среднее</td>\n",
       "      <td>1</td>\n",
       "      <td>женат / замужем</td>\n",
       "      <td>0</td>\n",
       "      <td>M</td>\n",
       "      <td>сотрудник</td>\n",
       "      <td>1</td>\n",
       "      <td>244093</td>\n",
       "      <td>на покупку своего автомобиля</td>\n",
       "      <td>автомобиль</td>\n",
       "      <td>сверхвысокий доход</td>\n",
       "    </tr>\n",
       "    <tr>\n",
       "      <th>21524</th>\n",
       "      <td>2</td>\n",
       "      <td>1984</td>\n",
       "      <td>40</td>\n",
       "      <td>среднее</td>\n",
       "      <td>1</td>\n",
       "      <td>женат / замужем</td>\n",
       "      <td>0</td>\n",
       "      <td>F</td>\n",
       "      <td>сотрудник</td>\n",
       "      <td>0</td>\n",
       "      <td>82047</td>\n",
       "      <td>на покупку автомобиля</td>\n",
       "      <td>автомобиль</td>\n",
       "      <td>низкий доход</td>\n",
       "    </tr>\n",
       "  </tbody>\n",
       "</table>\n",
       "<p>21524 rows × 14 columns</p>\n",
       "</div>"
      ],
      "text/plain": [
       "       children  days_employed  dob_years education  education_id  \\\n",
       "0             1           8437         42    высшее             0   \n",
       "1             1           4024         36   среднее             1   \n",
       "2             0           5623         33   среднее             1   \n",
       "3             3           4124         32   среднее             1   \n",
       "4             0         340266         53   среднее             1   \n",
       "...         ...            ...        ...       ...           ...   \n",
       "21520         1           4529         43   среднее             1   \n",
       "21521         0         343937         67   среднее             1   \n",
       "21522         1           2113         38   среднее             1   \n",
       "21523         3           3112         38   среднее             1   \n",
       "21524         2           1984         40   среднее             1   \n",
       "\n",
       "          family_status  family_status_id gender income_type  debt  \\\n",
       "0       женат / замужем                 0      F   сотрудник     0   \n",
       "1       женат / замужем                 0      F   сотрудник     0   \n",
       "2       женат / замужем                 0      M   сотрудник     0   \n",
       "3       женат / замужем                 0      M   сотрудник     0   \n",
       "4      гражданский брак                 1      F   пенсионер     0   \n",
       "...                 ...               ...    ...         ...   ...   \n",
       "21520  гражданский брак                 1      F   компаньон     0   \n",
       "21521   женат / замужем                 0      F   пенсионер     0   \n",
       "21522  гражданский брак                 1      M   сотрудник     1   \n",
       "21523   женат / замужем                 0      M   сотрудник     1   \n",
       "21524   женат / замужем                 0      F   сотрудник     0   \n",
       "\n",
       "       total_income                       purpose shorted_purpose  \\\n",
       "0            253875                 покупка жилья    недвижимость   \n",
       "1            112080       приобретение автомобиля      автомобиль   \n",
       "2            145885                 покупка жилья    недвижимость   \n",
       "3            267628    дополнительное образование     образование   \n",
       "4            158616               сыграть свадьбу         свадьба   \n",
       "...             ...                           ...             ...   \n",
       "21520        224791             операции с жильем    недвижимость   \n",
       "21521        155999          сделка с автомобилем      автомобиль   \n",
       "21522         89672                  недвижимость    недвижимость   \n",
       "21523        244093  на покупку своего автомобиля      автомобиль   \n",
       "21524         82047         на покупку автомобиля      автомобиль   \n",
       "\n",
       "      total_income_category  \n",
       "0        сверхвысокий доход  \n",
       "1             средний доход  \n",
       "2             высокий доход  \n",
       "3        сверхвысокий доход  \n",
       "4             высокий доход  \n",
       "...                     ...  \n",
       "21520    сверхвысокий доход  \n",
       "21521         высокий доход  \n",
       "21522          низкий доход  \n",
       "21523    сверхвысокий доход  \n",
       "21524          низкий доход  \n",
       "\n",
       "[21524 rows x 14 columns]"
      ]
     },
     "execution_count": 60,
     "metadata": {},
     "output_type": "execute_result"
    }
   ],
   "source": [
    "df"
   ]
  },
  {
   "cell_type": "markdown",
   "metadata": {},
   "source": [
    "## Анализ датасета"
   ]
  },
  {
   "cell_type": "markdown",
   "metadata": {},
   "source": [
    "Рассмотрим информацию касаемо семейного положения и семьи заёмщика в целом"
   ]
  },
  {
   "cell_type": "code",
   "execution_count": 61,
   "metadata": {},
   "outputs": [
    {
     "data": {
      "text/html": [
       "<div>\n",
       "<style scoped>\n",
       "    .dataframe tbody tr th:only-of-type {\n",
       "        vertical-align: middle;\n",
       "    }\n",
       "\n",
       "    .dataframe tbody tr th {\n",
       "        vertical-align: top;\n",
       "    }\n",
       "\n",
       "    .dataframe thead tr th {\n",
       "        text-align: left;\n",
       "    }\n",
       "\n",
       "    .dataframe thead tr:last-of-type th {\n",
       "        text-align: right;\n",
       "    }\n",
       "</style>\n",
       "<table border=\"1\" class=\"dataframe\">\n",
       "  <thead>\n",
       "    <tr>\n",
       "      <th></th>\n",
       "      <th>sum</th>\n",
       "      <th>count</th>\n",
       "      <th>mean</th>\n",
       "    </tr>\n",
       "    <tr>\n",
       "      <th></th>\n",
       "      <th>debt</th>\n",
       "      <th>debt</th>\n",
       "      <th>debt</th>\n",
       "    </tr>\n",
       "    <tr>\n",
       "      <th>children</th>\n",
       "      <th></th>\n",
       "      <th></th>\n",
       "      <th></th>\n",
       "    </tr>\n",
       "  </thead>\n",
       "  <tbody>\n",
       "    <tr>\n",
       "      <th>0</th>\n",
       "      <td>1063</td>\n",
       "      <td>14148</td>\n",
       "      <td>0.075134</td>\n",
       "    </tr>\n",
       "    <tr>\n",
       "      <th>1</th>\n",
       "      <td>445</td>\n",
       "      <td>4865</td>\n",
       "      <td>0.091470</td>\n",
       "    </tr>\n",
       "    <tr>\n",
       "      <th>2</th>\n",
       "      <td>202</td>\n",
       "      <td>2131</td>\n",
       "      <td>0.094791</td>\n",
       "    </tr>\n",
       "    <tr>\n",
       "      <th>3</th>\n",
       "      <td>27</td>\n",
       "      <td>330</td>\n",
       "      <td>0.081818</td>\n",
       "    </tr>\n",
       "    <tr>\n",
       "      <th>4</th>\n",
       "      <td>4</td>\n",
       "      <td>41</td>\n",
       "      <td>0.097561</td>\n",
       "    </tr>\n",
       "    <tr>\n",
       "      <th>5</th>\n",
       "      <td>0</td>\n",
       "      <td>9</td>\n",
       "      <td>0.000000</td>\n",
       "    </tr>\n",
       "  </tbody>\n",
       "</table>\n",
       "</div>"
      ],
      "text/plain": [
       "           sum  count      mean\n",
       "          debt   debt      debt\n",
       "children                       \n",
       "0         1063  14148  0.075134\n",
       "1          445   4865  0.091470\n",
       "2          202   2131  0.094791\n",
       "3           27    330  0.081818\n",
       "4            4     41  0.097561\n",
       "5            0      9  0.000000"
      ]
     },
     "metadata": {},
     "output_type": "display_data"
    },
    {
     "data": {
      "text/html": [
       "<div>\n",
       "<style scoped>\n",
       "    .dataframe tbody tr th:only-of-type {\n",
       "        vertical-align: middle;\n",
       "    }\n",
       "\n",
       "    .dataframe tbody tr th {\n",
       "        vertical-align: top;\n",
       "    }\n",
       "\n",
       "    .dataframe thead tr th {\n",
       "        text-align: left;\n",
       "    }\n",
       "\n",
       "    .dataframe thead tr:last-of-type th {\n",
       "        text-align: right;\n",
       "    }\n",
       "</style>\n",
       "<table border=\"1\" class=\"dataframe\">\n",
       "  <thead>\n",
       "    <tr>\n",
       "      <th></th>\n",
       "      <th>sum</th>\n",
       "      <th>count</th>\n",
       "      <th>mean</th>\n",
       "    </tr>\n",
       "    <tr>\n",
       "      <th></th>\n",
       "      <th>debt</th>\n",
       "      <th>debt</th>\n",
       "      <th>debt</th>\n",
       "    </tr>\n",
       "    <tr>\n",
       "      <th>family_status</th>\n",
       "      <th></th>\n",
       "      <th></th>\n",
       "      <th></th>\n",
       "    </tr>\n",
       "  </thead>\n",
       "  <tbody>\n",
       "    <tr>\n",
       "      <th>Не женат / не замужем</th>\n",
       "      <td>274</td>\n",
       "      <td>2813</td>\n",
       "      <td>0.097405</td>\n",
       "    </tr>\n",
       "    <tr>\n",
       "      <th>в разводе</th>\n",
       "      <td>85</td>\n",
       "      <td>1195</td>\n",
       "      <td>0.071130</td>\n",
       "    </tr>\n",
       "    <tr>\n",
       "      <th>вдовец / вдова</th>\n",
       "      <td>63</td>\n",
       "      <td>960</td>\n",
       "      <td>0.065625</td>\n",
       "    </tr>\n",
       "    <tr>\n",
       "      <th>гражданский брак</th>\n",
       "      <td>388</td>\n",
       "      <td>4177</td>\n",
       "      <td>0.092890</td>\n",
       "    </tr>\n",
       "    <tr>\n",
       "      <th>женат / замужем</th>\n",
       "      <td>931</td>\n",
       "      <td>12379</td>\n",
       "      <td>0.075208</td>\n",
       "    </tr>\n",
       "  </tbody>\n",
       "</table>\n",
       "</div>"
      ],
      "text/plain": [
       "                       sum  count      mean\n",
       "                      debt   debt      debt\n",
       "family_status                              \n",
       "Не женат / не замужем  274   2813  0.097405\n",
       "в разводе               85   1195  0.071130\n",
       "вдовец / вдова          63    960  0.065625\n",
       "гражданский брак       388   4177  0.092890\n",
       "женат / замужем        931  12379  0.075208"
      ]
     },
     "metadata": {},
     "output_type": "display_data"
    }
   ],
   "source": [
    "child_pivot = df.pivot_table(index = 'children', values='debt', aggfunc=['sum', 'count', 'mean'])\n",
    "display(child_pivot) # Составим общую таблицу по детям \n",
    "fam_pivot = df.pivot_table(index = 'family_status', values='debt', aggfunc=['sum', 'count', 'mean'])\n",
    "display(fam_pivot) # И по семейному положению "
   ]
  },
  {
   "cell_type": "code",
   "execution_count": 62,
   "metadata": {},
   "outputs": [
    {
     "data": {
      "text/plain": [
       "<matplotlib.collections.PathCollection at 0x240a0ca2430>"
      ]
     },
     "execution_count": 62,
     "metadata": {},
     "output_type": "execute_result"
    },
    {
     "data": {
      "image/png": "[encoded data removed]",
      "text/plain": [
       "<Figure size 576x576 with 1 Axes>"
      ]
     },
     "metadata": {
      "needs_background": "light"
     },
     "output_type": "display_data"
    }
   ],
   "source": [
    "x = df['children']\n",
    "y = df['total_income']\n",
    "fig,ax = plt.subplots(figsize = (8,8))\n",
    "ax.scatter(x, y)"
   ]
  },
  {
   "cell_type": "markdown",
   "metadata": {},
   "source": [
    "**Вывод**"
   ]
  },
  {
   "cell_type": "markdown",
   "metadata": {},
   "source": [
    "Пояснение к таблице: \\\n",
    "В столбце sum - число должников, в count - общее число людей в категории, mean - процент должников от общей суммы, выраженный в виде вещественного числа(чем числоближе к единице, тем больший процент должников в категории)\n",
    "Из аналаза видно следующее: \\\n",
    "Лучшие показатели по возврату у заёмщиков без детей и с 5 детьми. Но так как количтесво займщиков с 5 детьми крайне мало относительно общей таблицы это можно списать на погрешность. Для более точного результата необходимо больше данных "
   ]
  },
  {
   "cell_type": "markdown",
   "metadata": {},
   "source": [
    "- Есть ли зависимость между уровнем дохода и возвратом кредита в срок?"
   ]
  },
  {
   "cell_type": "code",
   "execution_count": 63,
   "metadata": {},
   "outputs": [
    {
     "data": {
      "text/html": [
       "<div>\n",
       "<style scoped>\n",
       "    .dataframe tbody tr th:only-of-type {\n",
       "        vertical-align: middle;\n",
       "    }\n",
       "\n",
       "    .dataframe tbody tr th {\n",
       "        vertical-align: top;\n",
       "    }\n",
       "\n",
       "    .dataframe thead tr th {\n",
       "        text-align: left;\n",
       "    }\n",
       "\n",
       "    .dataframe thead tr:last-of-type th {\n",
       "        text-align: right;\n",
       "    }\n",
       "</style>\n",
       "<table border=\"1\" class=\"dataframe\">\n",
       "  <thead>\n",
       "    <tr>\n",
       "      <th></th>\n",
       "      <th>sum</th>\n",
       "      <th>count</th>\n",
       "      <th>mean</th>\n",
       "    </tr>\n",
       "    <tr>\n",
       "      <th></th>\n",
       "      <th>debt</th>\n",
       "      <th>debt</th>\n",
       "      <th>debt</th>\n",
       "    </tr>\n",
       "    <tr>\n",
       "      <th>total_income_category</th>\n",
       "      <th></th>\n",
       "      <th></th>\n",
       "      <th></th>\n",
       "    </tr>\n",
       "  </thead>\n",
       "  <tbody>\n",
       "    <tr>\n",
       "      <th>высокий доход</th>\n",
       "      <td>543</td>\n",
       "      <td>6343</td>\n",
       "      <td>0.085606</td>\n",
       "    </tr>\n",
       "    <tr>\n",
       "      <th>низкий доход</th>\n",
       "      <td>427</td>\n",
       "      <td>5381</td>\n",
       "      <td>0.079353</td>\n",
       "    </tr>\n",
       "    <tr>\n",
       "      <th>сверхвысокий доход</th>\n",
       "      <td>386</td>\n",
       "      <td>5381</td>\n",
       "      <td>0.071734</td>\n",
       "    </tr>\n",
       "    <tr>\n",
       "      <th>средний доход</th>\n",
       "      <td>385</td>\n",
       "      <td>4419</td>\n",
       "      <td>0.087124</td>\n",
       "    </tr>\n",
       "  </tbody>\n",
       "</table>\n",
       "</div>"
      ],
      "text/plain": [
       "                       sum count      mean\n",
       "                      debt  debt      debt\n",
       "total_income_category                     \n",
       "высокий доход          543  6343  0.085606\n",
       "низкий доход           427  5381  0.079353\n",
       "сверхвысокий доход     386  5381  0.071734\n",
       "средний доход          385  4419  0.087124"
      ]
     },
     "metadata": {},
     "output_type": "display_data"
    }
   ],
   "source": [
    "income_pivot = df.pivot_table(index = 'total_income_category', values='debt', aggfunc=['sum', 'count', 'mean'])\n",
    "display(income_pivot)"
   ]
  },
  {
   "cell_type": "markdown",
   "metadata": {},
   "source": [
    "**Вывод**"
   ]
  },
  {
   "cell_type": "markdown",
   "metadata": {},
   "source": [
    "Из аналази видно следующее: \\\n",
    "Лучшая ситуация сложилась в категории сверхвысокого дохода. Немногим хуже - в категории низкого дохода. Две средние группы имеют примерно одинаковое значение"
   ]
  },
  {
   "cell_type": "markdown",
   "metadata": {},
   "source": [
    "- Как разные цели кредита влияют на его возврат в срок?"
   ]
  },
  {
   "cell_type": "markdown",
   "metadata": {},
   "source": [
    "Применим функцию, аналогичную предыдущей"
   ]
  },
  {
   "cell_type": "code",
   "execution_count": 64,
   "metadata": {},
   "outputs": [
    {
     "data": {
      "text/html": [
       "<div>\n",
       "<style scoped>\n",
       "    .dataframe tbody tr th:only-of-type {\n",
       "        vertical-align: middle;\n",
       "    }\n",
       "\n",
       "    .dataframe tbody tr th {\n",
       "        vertical-align: top;\n",
       "    }\n",
       "\n",
       "    .dataframe thead tr th {\n",
       "        text-align: left;\n",
       "    }\n",
       "\n",
       "    .dataframe thead tr:last-of-type th {\n",
       "        text-align: right;\n",
       "    }\n",
       "</style>\n",
       "<table border=\"1\" class=\"dataframe\">\n",
       "  <thead>\n",
       "    <tr>\n",
       "      <th></th>\n",
       "      <th>sum</th>\n",
       "      <th>count</th>\n",
       "      <th>mean</th>\n",
       "    </tr>\n",
       "    <tr>\n",
       "      <th></th>\n",
       "      <th>debt</th>\n",
       "      <th>debt</th>\n",
       "      <th>debt</th>\n",
       "    </tr>\n",
       "    <tr>\n",
       "      <th>shorted_purpose</th>\n",
       "      <th></th>\n",
       "      <th></th>\n",
       "      <th></th>\n",
       "    </tr>\n",
       "  </thead>\n",
       "  <tbody>\n",
       "    <tr>\n",
       "      <th>автомобиль</th>\n",
       "      <td>403</td>\n",
       "      <td>4315</td>\n",
       "      <td>0.093395</td>\n",
       "    </tr>\n",
       "    <tr>\n",
       "      <th>недвижимость</th>\n",
       "      <td>782</td>\n",
       "      <td>10839</td>\n",
       "      <td>0.072147</td>\n",
       "    </tr>\n",
       "    <tr>\n",
       "      <th>образование</th>\n",
       "      <td>370</td>\n",
       "      <td>4022</td>\n",
       "      <td>0.091994</td>\n",
       "    </tr>\n",
       "    <tr>\n",
       "      <th>свадьба</th>\n",
       "      <td>186</td>\n",
       "      <td>2348</td>\n",
       "      <td>0.079216</td>\n",
       "    </tr>\n",
       "  </tbody>\n",
       "</table>\n",
       "</div>"
      ],
      "text/plain": [
       "                 sum  count      mean\n",
       "                debt   debt      debt\n",
       "shorted_purpose                      \n",
       "автомобиль       403   4315  0.093395\n",
       "недвижимость     782  10839  0.072147\n",
       "образование      370   4022  0.091994\n",
       "свадьба          186   2348  0.079216"
      ]
     },
     "metadata": {},
     "output_type": "display_data"
    }
   ],
   "source": [
    "purpose_pivot = df.pivot_table(index = 'shorted_purpose', values='debt', aggfunc=['sum', 'count', 'mean'])\n",
    "display(purpose_pivot)"
   ]
  },
  {
   "cell_type": "markdown",
   "metadata": {},
   "source": [
    "**Вывод**"
   ]
  },
  {
   "cell_type": "markdown",
   "metadata": {},
   "source": [
    "Из анализа видно следующее: \\\n",
    "Хуже всего возвращают кредиты на авто. Чуть лучше - на образование. И достаточно хорошая ситуация сложилась с категорией недвижимости и свадеб."
   ]
  },
  {
   "cell_type": "markdown",
   "metadata": {},
   "source": [
    "## Шаг 4. Общий вывод"
   ]
  },
  {
   "cell_type": "markdown",
   "metadata": {},
   "source": [
    "Из общего анализа можно сделать следующий вывод: \\\n",
    "Целесообразнее всего выдавать кредит людям без детей, состоящим в официальном браке, со сверхвысоким или низким доходом, на недвижимость или свадьбу. У такой категории шанс вернуть кредит вовремя выше всего"
   ]
  }
 ],
 "metadata": {
  "ExecuteTimeLog": [
   {
    "duration": 841,
    "start_time": "2021-09-07T08:51:07.168Z"
   },
   {
    "duration": 134,
    "start_time": "2021-09-07T08:53:01.902Z"
   },
   {
    "duration": 20,
    "start_time": "2021-09-07T08:53:18.558Z"
   },
   {
    "duration": 101,
    "start_time": "2021-09-07T11:54:22.367Z"
   },
   {
    "duration": 84,
    "start_time": "2021-09-07T11:55:53.804Z"
   },
   {
    "duration": 14,
    "start_time": "2021-09-07T11:56:13.335Z"
   },
   {
    "duration": 15,
    "start_time": "2021-09-07T11:56:27.552Z"
   },
   {
    "duration": 305,
    "start_time": "2021-09-07T11:57:04.491Z"
   },
   {
    "duration": 261,
    "start_time": "2021-09-07T11:58:51.166Z"
   },
   {
    "duration": 4,
    "start_time": "2021-09-07T11:59:02.205Z"
   },
   {
    "duration": 5,
    "start_time": "2021-09-07T11:59:13.871Z"
   },
   {
    "duration": 5,
    "start_time": "2021-09-07T11:59:29.199Z"
   },
   {
    "duration": 13,
    "start_time": "2021-09-07T12:03:44.395Z"
   },
   {
    "duration": 289,
    "start_time": "2021-09-08T09:21:05.071Z"
   },
   {
    "duration": 807,
    "start_time": "2021-09-08T09:21:20.188Z"
   },
   {
    "duration": 28,
    "start_time": "2021-09-08T09:21:28.852Z"
   },
   {
    "duration": 12,
    "start_time": "2021-09-08T09:21:33.535Z"
   },
   {
    "duration": 96,
    "start_time": "2021-09-08T09:26:40.831Z"
   },
   {
    "duration": 12,
    "start_time": "2021-09-08T09:27:02.512Z"
   },
   {
    "duration": 294,
    "start_time": "2021-09-08T09:27:44.260Z"
   },
   {
    "duration": 265,
    "start_time": "2021-09-08T09:30:03.487Z"
   },
   {
    "duration": 8,
    "start_time": "2021-09-08T09:30:13.312Z"
   },
   {
    "duration": 33,
    "start_time": "2021-09-08T09:30:54.406Z"
   },
   {
    "duration": 9,
    "start_time": "2021-09-08T09:31:38.345Z"
   },
   {
    "duration": 20,
    "start_time": "2021-09-08T09:31:47.603Z"
   },
   {
    "duration": 11,
    "start_time": "2021-09-08T09:32:05.984Z"
   },
   {
    "duration": 19,
    "start_time": "2021-09-08T09:32:24.142Z"
   },
   {
    "duration": 33,
    "start_time": "2021-09-08T09:35:38.632Z"
   },
   {
    "duration": 471,
    "start_time": "2021-09-08T09:36:15.698Z"
   },
   {
    "duration": 21,
    "start_time": "2021-09-08T09:36:22.201Z"
   },
   {
    "duration": 20,
    "start_time": "2021-09-08T09:41:35.881Z"
   },
   {
    "duration": 37,
    "start_time": "2021-09-08T09:42:40.683Z"
   },
   {
    "duration": 37,
    "start_time": "2021-09-08T09:43:59.583Z"
   },
   {
    "duration": 338,
    "start_time": "2021-09-08T09:44:32.487Z"
   },
   {
    "duration": 10,
    "start_time": "2021-09-08T09:48:49.493Z"
   },
   {
    "duration": 21,
    "start_time": "2021-09-08T10:38:01.915Z"
   },
   {
    "duration": 21,
    "start_time": "2021-09-08T10:38:20.089Z"
   },
   {
    "duration": 33,
    "start_time": "2021-09-08T10:38:57.168Z"
   },
   {
    "duration": 19,
    "start_time": "2021-09-08T10:39:08.927Z"
   },
   {
    "duration": 310,
    "start_time": "2021-09-08T10:40:11.284Z"
   },
   {
    "duration": 42,
    "start_time": "2021-09-08T10:40:48.953Z"
   },
   {
    "duration": 24,
    "start_time": "2021-09-08T10:41:03.216Z"
   },
   {
    "duration": 26,
    "start_time": "2021-09-08T10:42:08.123Z"
   },
   {
    "duration": 19,
    "start_time": "2021-09-08T10:43:15.523Z"
   },
   {
    "duration": 16,
    "start_time": "2021-09-08T10:43:26.809Z"
   },
   {
    "duration": 80,
    "start_time": "2021-09-08T10:43:54.720Z"
   },
   {
    "duration": 17,
    "start_time": "2021-09-08T10:43:54.803Z"
   },
   {
    "duration": 15,
    "start_time": "2021-09-08T10:43:54.824Z"
   },
   {
    "duration": 62,
    "start_time": "2021-09-08T10:43:54.842Z"
   },
   {
    "duration": 79,
    "start_time": "2021-09-08T10:43:54.907Z"
   },
   {
    "duration": 9,
    "start_time": "2021-09-08T10:43:54.988Z"
   },
   {
    "duration": 29,
    "start_time": "2021-09-08T10:43:54.999Z"
   },
   {
    "duration": 29,
    "start_time": "2021-09-08T10:50:21.595Z"
   },
   {
    "duration": 32,
    "start_time": "2021-09-08T10:50:36.317Z"
   },
   {
    "duration": 9,
    "start_time": "2021-09-08T11:07:47.841Z"
   },
   {
    "duration": 11,
    "start_time": "2021-09-08T11:07:58.798Z"
   },
   {
    "duration": 26,
    "start_time": "2021-09-08T11:19:10.371Z"
   },
   {
    "duration": 36,
    "start_time": "2021-09-08T11:19:31.749Z"
   },
   {
    "duration": 30,
    "start_time": "2021-09-08T11:19:58.410Z"
   },
   {
    "duration": 86,
    "start_time": "2021-09-08T11:20:03.436Z"
   },
   {
    "duration": 15,
    "start_time": "2021-09-08T11:20:03.525Z"
   },
   {
    "duration": 34,
    "start_time": "2021-09-08T11:20:03.543Z"
   },
   {
    "duration": 40,
    "start_time": "2021-09-08T11:20:03.580Z"
   },
   {
    "duration": 63,
    "start_time": "2021-09-08T11:20:03.623Z"
   },
   {
    "duration": 10,
    "start_time": "2021-09-08T11:20:03.688Z"
   },
   {
    "duration": 42,
    "start_time": "2021-09-08T11:20:03.701Z"
   },
   {
    "duration": 788,
    "start_time": "2021-09-09T10:11:43.552Z"
   },
   {
    "duration": 28,
    "start_time": "2021-09-09T10:11:44.343Z"
   },
   {
    "duration": 13,
    "start_time": "2021-09-09T10:11:44.374Z"
   },
   {
    "duration": 67,
    "start_time": "2021-09-09T10:11:44.390Z"
   },
   {
    "duration": 39,
    "start_time": "2021-09-09T10:11:44.460Z"
   },
   {
    "duration": 10,
    "start_time": "2021-09-09T10:11:44.501Z"
   },
   {
    "duration": 410,
    "start_time": "2021-09-09T10:11:44.513Z"
   },
   {
    "duration": -201040,
    "start_time": "2021-09-09T10:15:05.966Z"
   },
   {
    "duration": 71,
    "start_time": "2021-09-09T10:14:06.717Z"
   },
   {
    "duration": 16,
    "start_time": "2021-09-09T10:14:06.791Z"
   },
   {
    "duration": 24,
    "start_time": "2021-09-09T10:14:06.811Z"
   },
   {
    "duration": 48,
    "start_time": "2021-09-09T10:14:06.838Z"
   },
   {
    "duration": 65,
    "start_time": "2021-09-09T10:14:06.889Z"
   },
   {
    "duration": 10,
    "start_time": "2021-09-09T10:14:06.956Z"
   },
   {
    "duration": 2022,
    "start_time": "2021-09-09T10:14:06.969Z"
   },
   {
    "duration": -201051,
    "start_time": "2021-09-09T10:17:30.045Z"
   },
   {
    "duration": 72,
    "start_time": "2021-09-09T10:17:34.080Z"
   },
   {
    "duration": 18,
    "start_time": "2021-09-09T10:17:34.154Z"
   },
   {
    "duration": 16,
    "start_time": "2021-09-09T10:17:34.176Z"
   },
   {
    "duration": 61,
    "start_time": "2021-09-09T10:17:34.195Z"
   },
   {
    "duration": 36,
    "start_time": "2021-09-09T10:17:34.258Z"
   },
   {
    "duration": 9,
    "start_time": "2021-09-09T10:17:34.296Z"
   },
   {
    "duration": 58,
    "start_time": "2021-09-09T10:17:34.308Z"
   },
   {
    "duration": 3,
    "start_time": "2021-09-09T10:17:34.369Z"
   },
   {
    "duration": 330,
    "start_time": "2021-09-09T10:18:27.425Z"
   },
   {
    "duration": 70,
    "start_time": "2021-09-09T10:18:38.274Z"
   },
   {
    "duration": 16,
    "start_time": "2021-09-09T10:18:38.347Z"
   },
   {
    "duration": 29,
    "start_time": "2021-09-09T10:18:38.366Z"
   },
   {
    "duration": 43,
    "start_time": "2021-09-09T10:18:38.397Z"
   },
   {
    "duration": 47,
    "start_time": "2021-09-09T10:18:38.443Z"
   },
   {
    "duration": 10,
    "start_time": "2021-09-09T10:18:38.492Z"
   },
   {
    "duration": 67,
    "start_time": "2021-09-09T10:18:38.504Z"
   },
   {
    "duration": 4,
    "start_time": "2021-09-09T10:18:38.573Z"
   },
   {
    "duration": 75,
    "start_time": "2021-09-09T10:19:47.125Z"
   },
   {
    "duration": 21,
    "start_time": "2021-09-09T10:19:47.202Z"
   },
   {
    "duration": 32,
    "start_time": "2021-09-09T10:19:47.225Z"
   },
   {
    "duration": 39,
    "start_time": "2021-09-09T10:19:47.260Z"
   },
   {
    "duration": 73,
    "start_time": "2021-09-09T10:19:47.302Z"
   },
   {
    "duration": 11,
    "start_time": "2021-09-09T10:19:47.378Z"
   },
   {
    "duration": 70,
    "start_time": "2021-09-09T10:19:47.392Z"
   },
   {
    "duration": 4,
    "start_time": "2021-09-09T10:19:47.466Z"
   },
   {
    "duration": 996,
    "start_time": "2021-09-09T10:55:42.089Z"
   },
   {
    "duration": 26,
    "start_time": "2021-09-09T10:55:43.088Z"
   },
   {
    "duration": 13,
    "start_time": "2021-09-09T10:55:43.117Z"
   },
   {
    "duration": 57,
    "start_time": "2021-09-09T10:55:43.132Z"
   },
   {
    "duration": 36,
    "start_time": "2021-09-09T10:55:43.191Z"
   },
   {
    "duration": 9,
    "start_time": "2021-09-09T10:55:43.255Z"
   },
   {
    "duration": 46,
    "start_time": "2021-09-09T10:55:43.266Z"
   },
   {
    "duration": 4,
    "start_time": "2021-09-09T10:55:43.314Z"
   },
   {
    "duration": 41,
    "start_time": "2021-09-09T10:56:54.524Z"
   },
   {
    "duration": 73,
    "start_time": "2021-09-09T10:59:06.285Z"
   },
   {
    "duration": 16,
    "start_time": "2021-09-09T10:59:06.361Z"
   },
   {
    "duration": 30,
    "start_time": "2021-09-09T10:59:06.380Z"
   },
   {
    "duration": 53,
    "start_time": "2021-09-09T10:59:06.413Z"
   },
   {
    "duration": 38,
    "start_time": "2021-09-09T10:59:06.469Z"
   },
   {
    "duration": 11,
    "start_time": "2021-09-09T10:59:06.509Z"
   },
   {
    "duration": 43,
    "start_time": "2021-09-09T10:59:06.554Z"
   },
   {
    "duration": 4,
    "start_time": "2021-09-09T10:59:06.600Z"
   },
   {
    "duration": 73,
    "start_time": "2021-09-09T11:41:59.670Z"
   },
   {
    "duration": 18,
    "start_time": "2021-09-09T11:41:59.746Z"
   },
   {
    "duration": 15,
    "start_time": "2021-09-09T11:41:59.769Z"
   },
   {
    "duration": 35,
    "start_time": "2021-09-09T11:41:59.787Z"
   },
   {
    "duration": 36,
    "start_time": "2021-09-09T11:41:59.854Z"
   },
   {
    "duration": 9,
    "start_time": "2021-09-09T11:41:59.892Z"
   },
   {
    "duration": 75,
    "start_time": "2021-09-09T11:41:59.903Z"
   },
   {
    "duration": 2339,
    "start_time": "2021-09-09T11:41:59.980Z"
   },
   {
    "duration": 72,
    "start_time": "2021-09-09T11:42:44.384Z"
   },
   {
    "duration": 17,
    "start_time": "2021-09-09T11:42:44.460Z"
   },
   {
    "duration": 16,
    "start_time": "2021-09-09T11:42:44.481Z"
   },
   {
    "duration": 74,
    "start_time": "2021-09-09T11:42:44.500Z"
   },
   {
    "duration": 35,
    "start_time": "2021-09-09T11:42:44.577Z"
   },
   {
    "duration": 10,
    "start_time": "2021-09-09T11:42:44.615Z"
   },
   {
    "duration": 44,
    "start_time": "2021-09-09T11:42:44.655Z"
   },
   {
    "duration": 5584,
    "start_time": "2021-09-09T11:42:44.701Z"
   },
   {
    "duration": 2112,
    "start_time": "2021-09-09T12:03:20.048Z"
   },
   {
    "duration": 2158,
    "start_time": "2021-09-09T12:03:52.440Z"
   },
   {
    "duration": 3,
    "start_time": "2021-09-09T12:28:43.643Z"
   },
   {
    "duration": 73,
    "start_time": "2021-09-09T12:28:48.653Z"
   },
   {
    "duration": 27,
    "start_time": "2021-09-09T12:28:48.729Z"
   },
   {
    "duration": 12,
    "start_time": "2021-09-09T12:28:48.759Z"
   },
   {
    "duration": 43,
    "start_time": "2021-09-09T12:28:48.774Z"
   },
   {
    "duration": 68,
    "start_time": "2021-09-09T12:28:48.819Z"
   },
   {
    "duration": 10,
    "start_time": "2021-09-09T12:28:48.889Z"
   },
   {
    "duration": 74,
    "start_time": "2021-09-09T12:28:48.901Z"
   },
   {
    "duration": 3,
    "start_time": "2021-09-09T12:28:48.977Z"
   },
   {
    "duration": 656,
    "start_time": "2021-09-09T12:32:06.667Z"
   },
   {
    "duration": 392,
    "start_time": "2021-09-09T12:32:37.561Z"
   },
   {
    "duration": 72,
    "start_time": "2021-09-09T12:32:44.487Z"
   },
   {
    "duration": 17,
    "start_time": "2021-09-09T12:32:44.562Z"
   },
   {
    "duration": 20,
    "start_time": "2021-09-09T12:32:44.582Z"
   },
   {
    "duration": 63,
    "start_time": "2021-09-09T12:32:44.605Z"
   },
   {
    "duration": 37,
    "start_time": "2021-09-09T12:32:44.671Z"
   },
   {
    "duration": 9,
    "start_time": "2021-09-09T12:32:44.711Z"
   },
   {
    "duration": 66,
    "start_time": "2021-09-09T12:32:44.722Z"
   },
   {
    "duration": 3,
    "start_time": "2021-09-09T12:32:44.791Z"
   },
   {
    "duration": 418,
    "start_time": "2021-09-09T12:32:44.797Z"
   },
   {
    "duration": 19,
    "start_time": "2021-09-09T12:36:34.513Z"
   },
   {
    "duration": 74,
    "start_time": "2021-09-09T13:58:06.962Z"
   },
   {
    "duration": 17,
    "start_time": "2021-09-09T13:58:07.039Z"
   },
   {
    "duration": 16,
    "start_time": "2021-09-09T13:58:07.059Z"
   },
   {
    "duration": 36,
    "start_time": "2021-09-09T13:58:07.078Z"
   },
   {
    "duration": 67,
    "start_time": "2021-09-09T13:58:07.116Z"
   },
   {
    "duration": 10,
    "start_time": "2021-09-09T13:58:07.186Z"
   },
   {
    "duration": 82,
    "start_time": "2021-09-09T13:58:07.199Z"
   },
   {
    "duration": 4,
    "start_time": "2021-09-09T13:58:07.284Z"
   },
   {
    "duration": 20,
    "start_time": "2021-09-09T13:58:07.292Z"
   },
   {
    "duration": 464,
    "start_time": "2021-09-09T13:58:07.316Z"
   },
   {
    "duration": 73,
    "start_time": "2021-09-09T13:59:18.997Z"
   },
   {
    "duration": 18,
    "start_time": "2021-09-09T13:59:19.340Z"
   },
   {
    "duration": 17,
    "start_time": "2021-09-09T13:59:19.360Z"
   },
   {
    "duration": 64,
    "start_time": "2021-09-09T13:59:19.379Z"
   },
   {
    "duration": 62,
    "start_time": "2021-09-09T13:59:19.448Z"
   },
   {
    "duration": 41,
    "start_time": "2021-09-09T13:59:19.513Z"
   },
   {
    "duration": 63,
    "start_time": "2021-09-09T13:59:19.558Z"
   },
   {
    "duration": 6,
    "start_time": "2021-09-09T13:59:19.624Z"
   },
   {
    "duration": 421,
    "start_time": "2021-09-09T13:59:19.656Z"
   },
   {
    "duration": -201085,
    "start_time": "2021-09-09T14:02:41.165Z"
   },
   {
    "duration": 71,
    "start_time": "2021-09-09T13:59:46.754Z"
   },
   {
    "duration": 17,
    "start_time": "2021-09-09T13:59:46.828Z"
   },
   {
    "duration": 12,
    "start_time": "2021-09-09T13:59:47.104Z"
   },
   {
    "duration": 37,
    "start_time": "2021-09-09T13:59:47.119Z"
   },
   {
    "duration": 35,
    "start_time": "2021-09-09T13:59:47.158Z"
   },
   {
    "duration": 9,
    "start_time": "2021-09-09T13:59:47.196Z"
   },
   {
    "duration": 70,
    "start_time": "2021-09-09T13:59:47.207Z"
   },
   {
    "duration": 7,
    "start_time": "2021-09-09T13:59:47.280Z"
   },
   {
    "duration": 19,
    "start_time": "2021-09-09T13:59:47.289Z"
   },
   {
    "duration": 575,
    "start_time": "2021-09-09T13:59:47.310Z"
   },
   {
    "duration": 72,
    "start_time": "2021-09-09T14:00:37.939Z"
   },
   {
    "duration": 17,
    "start_time": "2021-09-09T14:00:38.013Z"
   },
   {
    "duration": 12,
    "start_time": "2021-09-09T14:00:38.056Z"
   },
   {
    "duration": 36,
    "start_time": "2021-09-09T14:00:38.071Z"
   },
   {
    "duration": 65,
    "start_time": "2021-09-09T14:00:38.109Z"
   },
   {
    "duration": 9,
    "start_time": "2021-09-09T14:00:38.176Z"
   },
   {
    "duration": 71,
    "start_time": "2021-09-09T14:00:38.188Z"
   },
   {
    "duration": 16,
    "start_time": "2021-09-09T14:00:38.262Z"
   },
   {
    "duration": 16,
    "start_time": "2021-09-09T14:00:38.282Z"
   },
   {
    "duration": 9,
    "start_time": "2021-09-09T14:00:38.301Z"
   },
   {
    "duration": 13700,
    "start_time": "2021-09-09T15:15:27.364Z"
   },
   {
    "duration": 24531,
    "start_time": "2021-09-09T15:19:23.760Z"
   },
   {
    "duration": 678,
    "start_time": "2021-09-09T15:21:35.986Z"
   },
   {
    "duration": 21,
    "start_time": "2021-09-09T15:30:11.942Z"
   },
   {
    "duration": 19,
    "start_time": "2021-09-09T15:40:50.615Z"
   },
   {
    "duration": 17,
    "start_time": "2021-09-09T15:41:47.456Z"
   },
   {
    "duration": 74,
    "start_time": "2021-09-09T15:41:53.336Z"
   },
   {
    "duration": 17,
    "start_time": "2021-09-09T15:41:53.413Z"
   },
   {
    "duration": 13,
    "start_time": "2021-09-09T15:41:53.456Z"
   },
   {
    "duration": 43,
    "start_time": "2021-09-09T15:41:53.471Z"
   },
   {
    "duration": 66,
    "start_time": "2021-09-09T15:41:53.516Z"
   },
   {
    "duration": 9,
    "start_time": "2021-09-09T15:41:53.584Z"
   },
   {
    "duration": 67,
    "start_time": "2021-09-09T15:41:53.596Z"
   },
   {
    "duration": 14,
    "start_time": "2021-09-09T15:41:53.666Z"
   },
   {
    "duration": 17,
    "start_time": "2021-09-09T15:41:53.682Z"
   },
   {
    "duration": 7,
    "start_time": "2021-09-09T15:41:53.701Z"
   },
   {
    "duration": 60,
    "start_time": "2021-09-09T15:41:53.710Z"
   },
   {
    "duration": 18,
    "start_time": "2021-09-09T15:41:53.773Z"
   },
   {
    "duration": 19,
    "start_time": "2021-09-09T15:42:26.929Z"
   },
   {
    "duration": 10,
    "start_time": "2021-09-09T15:44:19.616Z"
   },
   {
    "duration": 76,
    "start_time": "2021-09-09T16:16:26.074Z"
   },
   {
    "duration": 17,
    "start_time": "2021-09-09T16:16:26.154Z"
   },
   {
    "duration": 16,
    "start_time": "2021-09-09T16:16:26.175Z"
   },
   {
    "duration": 62,
    "start_time": "2021-09-09T16:16:26.194Z"
   },
   {
    "duration": 37,
    "start_time": "2021-09-09T16:16:26.259Z"
   },
   {
    "duration": 10,
    "start_time": "2021-09-09T16:16:26.298Z"
   },
   {
    "duration": 71,
    "start_time": "2021-09-09T16:16:26.310Z"
   },
   {
    "duration": 13,
    "start_time": "2021-09-09T16:16:26.383Z"
   },
   {
    "duration": 26,
    "start_time": "2021-09-09T16:16:26.400Z"
   },
   {
    "duration": 27,
    "start_time": "2021-09-09T16:16:26.430Z"
   },
   {
    "duration": 28,
    "start_time": "2021-09-09T16:16:26.460Z"
   },
   {
    "duration": 19,
    "start_time": "2021-09-09T16:16:26.491Z"
   },
   {
    "duration": 44,
    "start_time": "2021-09-09T16:16:26.512Z"
   },
   {
    "duration": 1527,
    "start_time": "2021-09-09T16:17:44.471Z"
   },
   {
    "duration": 473,
    "start_time": "2021-09-09T16:24:30.079Z"
   },
   {
    "duration": 355,
    "start_time": "2021-09-09T16:38:21.474Z"
   },
   {
    "duration": 432,
    "start_time": "2021-09-09T16:38:40.271Z"
   },
   {
    "duration": 523,
    "start_time": "2021-09-09T16:39:21.319Z"
   },
   {
    "duration": 965,
    "start_time": "2021-09-09T16:39:43.877Z"
   },
   {
    "duration": 3454,
    "start_time": "2021-09-09T16:49:44.731Z"
   },
   {
    "duration": 3537,
    "start_time": "2021-09-09T16:50:07.252Z"
   },
   {
    "duration": 257,
    "start_time": "2021-09-09T20:05:53.245Z"
   },
   {
    "duration": 751,
    "start_time": "2021-09-09T20:06:02.916Z"
   },
   {
    "duration": 27,
    "start_time": "2021-09-09T20:06:03.671Z"
   },
   {
    "duration": 15,
    "start_time": "2021-09-09T20:06:03.701Z"
   },
   {
    "duration": 66,
    "start_time": "2021-09-09T20:06:03.719Z"
   },
   {
    "duration": 37,
    "start_time": "2021-09-09T20:06:03.788Z"
   },
   {
    "duration": 35,
    "start_time": "2021-09-09T20:06:03.827Z"
   },
   {
    "duration": 45,
    "start_time": "2021-09-09T20:06:03.864Z"
   },
   {
    "duration": 14,
    "start_time": "2021-09-09T20:06:03.913Z"
   },
   {
    "duration": 43,
    "start_time": "2021-09-09T20:06:03.929Z"
   },
   {
    "duration": 13,
    "start_time": "2021-09-09T20:06:03.975Z"
   },
   {
    "duration": 42,
    "start_time": "2021-09-09T20:06:03.991Z"
   },
   {
    "duration": 39,
    "start_time": "2021-09-09T20:06:04.035Z"
   },
   {
    "duration": 10,
    "start_time": "2021-09-09T20:06:04.076Z"
   },
   {
    "duration": 4400,
    "start_time": "2021-09-09T20:06:04.088Z"
   },
   {
    "duration": 8,
    "start_time": "2021-09-09T20:06:08.490Z"
   },
   {
    "duration": 97,
    "start_time": "2021-09-09T20:32:12.056Z"
   },
   {
    "duration": 16,
    "start_time": "2021-09-09T20:32:12.162Z"
   },
   {
    "duration": 24,
    "start_time": "2021-09-09T20:32:12.181Z"
   },
   {
    "duration": 55,
    "start_time": "2021-09-09T20:32:12.208Z"
   },
   {
    "duration": 36,
    "start_time": "2021-09-09T20:32:12.266Z"
   },
   {
    "duration": 9,
    "start_time": "2021-09-09T20:32:12.305Z"
   },
   {
    "duration": 70,
    "start_time": "2021-09-09T20:32:12.317Z"
   },
   {
    "duration": 16,
    "start_time": "2021-09-09T20:32:12.391Z"
   },
   {
    "duration": 20,
    "start_time": "2021-09-09T20:32:12.410Z"
   },
   {
    "duration": 48,
    "start_time": "2021-09-09T20:32:12.432Z"
   },
   {
    "duration": 37,
    "start_time": "2021-09-09T20:32:12.483Z"
   },
   {
    "duration": 23,
    "start_time": "2021-09-09T20:32:12.523Z"
   },
   {
    "duration": 24,
    "start_time": "2021-09-09T20:32:12.548Z"
   },
   {
    "duration": 4828,
    "start_time": "2021-09-09T20:32:12.575Z"
   },
   {
    "duration": 5209,
    "start_time": "2021-09-09T20:33:01.999Z"
   },
   {
    "duration": 323,
    "start_time": "2021-09-10T08:30:23.475Z"
   },
   {
    "duration": 772,
    "start_time": "2021-09-10T08:30:34.374Z"
   },
   {
    "duration": 25,
    "start_time": "2021-09-10T08:30:35.148Z"
   },
   {
    "duration": 17,
    "start_time": "2021-09-10T08:30:35.176Z"
   },
   {
    "duration": 35,
    "start_time": "2021-09-10T08:30:35.196Z"
   },
   {
    "duration": 58,
    "start_time": "2021-09-10T08:30:35.233Z"
   },
   {
    "duration": 9,
    "start_time": "2021-09-10T08:30:35.293Z"
   },
   {
    "duration": 48,
    "start_time": "2021-09-10T08:30:35.304Z"
   },
   {
    "duration": 33,
    "start_time": "2021-09-10T08:30:35.356Z"
   },
   {
    "duration": 16,
    "start_time": "2021-09-10T08:30:35.391Z"
   },
   {
    "duration": 8,
    "start_time": "2021-09-10T08:30:35.410Z"
   },
   {
    "duration": 22,
    "start_time": "2021-09-10T08:30:35.420Z"
   },
   {
    "duration": 52,
    "start_time": "2021-09-10T08:30:35.444Z"
   },
   {
    "duration": 13,
    "start_time": "2021-09-10T08:30:35.498Z"
   },
   {
    "duration": 4248,
    "start_time": "2021-09-10T08:30:35.513Z"
   },
   {
    "duration": 763,
    "start_time": "2021-09-10T08:31:25.384Z"
   },
   {
    "duration": 3370,
    "start_time": "2021-09-10T08:31:32.063Z"
   },
   {
    "duration": 7667,
    "start_time": "2021-09-10T08:34:23.827Z"
   },
   {
    "duration": 39057,
    "start_time": "2021-09-10T08:37:50.658Z"
   },
   {
    "duration": 3343,
    "start_time": "2021-09-10T08:38:59.652Z"
   },
   {
    "duration": 96,
    "start_time": "2021-09-10T08:45:44.859Z"
   },
   {
    "duration": 24,
    "start_time": "2021-09-10T08:45:44.958Z"
   },
   {
    "duration": 11,
    "start_time": "2021-09-10T08:45:44.985Z"
   },
   {
    "duration": 36,
    "start_time": "2021-09-10T08:45:44.998Z"
   },
   {
    "duration": 64,
    "start_time": "2021-09-10T08:45:45.036Z"
   },
   {
    "duration": 9,
    "start_time": "2021-09-10T08:45:45.103Z"
   },
   {
    "duration": 68,
    "start_time": "2021-09-10T08:45:45.114Z"
   },
   {
    "duration": 66,
    "start_time": "2021-09-10T08:45:45.184Z"
   },
   {
    "duration": 35,
    "start_time": "2021-09-10T08:45:45.253Z"
   },
   {
    "duration": 220,
    "start_time": "2021-09-10T08:45:45.290Z"
   },
   {
    "duration": -201570,
    "start_time": "2021-09-10T08:49:07.083Z"
   },
   {
    "duration": -201573,
    "start_time": "2021-09-10T08:49:07.088Z"
   },
   {
    "duration": -201575,
    "start_time": "2021-09-10T08:49:07.091Z"
   },
   {
    "duration": -201580,
    "start_time": "2021-09-10T08:49:07.098Z"
   },
   {
    "duration": 90,
    "start_time": "2021-09-10T08:46:57.757Z"
   },
   {
    "duration": 17,
    "start_time": "2021-09-10T08:46:57.849Z"
   },
   {
    "duration": 12,
    "start_time": "2021-09-10T08:46:57.883Z"
   },
   {
    "duration": 36,
    "start_time": "2021-09-10T08:46:57.897Z"
   },
   {
    "duration": 72,
    "start_time": "2021-09-10T08:46:57.936Z"
   },
   {
    "duration": 9,
    "start_time": "2021-09-10T08:46:58.010Z"
   },
   {
    "duration": 67,
    "start_time": "2021-09-10T08:46:58.021Z"
   },
   {
    "duration": 69,
    "start_time": "2021-09-10T08:46:58.091Z"
   },
   {
    "duration": 29,
    "start_time": "2021-09-10T08:46:58.163Z"
   },
   {
    "duration": 7,
    "start_time": "2021-09-10T08:46:58.194Z"
   },
   {
    "duration": 18,
    "start_time": "2021-09-10T08:46:58.204Z"
   },
   {
    "duration": 64,
    "start_time": "2021-09-10T08:46:58.225Z"
   },
   {
    "duration": 10,
    "start_time": "2021-09-10T08:46:58.291Z"
   },
   {
    "duration": 1864,
    "start_time": "2021-09-10T08:46:58.303Z"
   },
   {
    "duration": 980,
    "start_time": "2021-09-10T08:47:38.329Z"
   },
   {
    "duration": 11,
    "start_time": "2021-09-10T08:49:38.735Z"
   },
   {
    "duration": 71,
    "start_time": "2021-09-10T08:55:08.637Z"
   },
   {
    "duration": 16,
    "start_time": "2021-09-10T08:55:08.710Z"
   },
   {
    "duration": 13,
    "start_time": "2021-09-10T08:55:08.729Z"
   },
   {
    "duration": 60,
    "start_time": "2021-09-10T08:55:08.744Z"
   },
   {
    "duration": 35,
    "start_time": "2021-09-10T08:55:08.807Z"
   },
   {
    "duration": 9,
    "start_time": "2021-09-10T08:55:08.844Z"
   },
   {
    "duration": 39,
    "start_time": "2021-09-10T08:55:08.882Z"
   },
   {
    "duration": 60,
    "start_time": "2021-09-10T08:55:08.923Z"
   },
   {
    "duration": 15,
    "start_time": "2021-09-10T08:55:08.987Z"
   },
   {
    "duration": 313,
    "start_time": "2021-09-10T08:55:09.005Z"
   },
   {
    "duration": -201579,
    "start_time": "2021-09-10T08:58:30.900Z"
   },
   {
    "duration": -201583,
    "start_time": "2021-09-10T08:58:30.905Z"
   },
   {
    "duration": -201585,
    "start_time": "2021-09-10T08:58:30.908Z"
   },
   {
    "duration": -201592,
    "start_time": "2021-09-10T08:58:30.917Z"
   },
   {
    "duration": 67,
    "start_time": "2021-09-10T08:56:11.159Z"
   },
   {
    "duration": 16,
    "start_time": "2021-09-10T08:56:11.228Z"
   },
   {
    "duration": 35,
    "start_time": "2021-09-10T08:56:11.247Z"
   },
   {
    "duration": 35,
    "start_time": "2021-09-10T08:56:11.285Z"
   },
   {
    "duration": 33,
    "start_time": "2021-09-10T08:56:11.322Z"
   },
   {
    "duration": 9,
    "start_time": "2021-09-10T08:56:11.383Z"
   },
   {
    "duration": 48,
    "start_time": "2021-09-10T08:56:11.394Z"
   },
   {
    "duration": 57,
    "start_time": "2021-09-10T08:56:11.444Z"
   },
   {
    "duration": 16,
    "start_time": "2021-09-10T08:56:11.504Z"
   },
   {
    "duration": 245,
    "start_time": "2021-09-10T08:56:11.523Z"
   },
   {
    "duration": -201546,
    "start_time": "2021-09-10T08:59:33.317Z"
   },
   {
    "duration": -201551,
    "start_time": "2021-09-10T08:59:33.324Z"
   },
   {
    "duration": -201565,
    "start_time": "2021-09-10T08:59:33.340Z"
   },
   {
    "duration": -201572,
    "start_time": "2021-09-10T08:59:33.350Z"
   },
   {
    "duration": 6162,
    "start_time": "2021-09-10T08:58:33.960Z"
   },
   {
    "duration": 46,
    "start_time": "2021-09-10T08:59:22.036Z"
   },
   {
    "duration": 60,
    "start_time": "2021-09-10T08:59:32.723Z"
   },
   {
    "duration": 43,
    "start_time": "2021-09-10T09:00:09.036Z"
   },
   {
    "duration": 48,
    "start_time": "2021-09-10T09:01:09.040Z"
   },
   {
    "duration": 57,
    "start_time": "2021-09-10T09:03:19.550Z"
   },
   {
    "duration": 66,
    "start_time": "2021-09-10T09:07:33.025Z"
   },
   {
    "duration": 15,
    "start_time": "2021-09-10T09:07:33.093Z"
   },
   {
    "duration": 21,
    "start_time": "2021-09-10T09:07:33.111Z"
   },
   {
    "duration": 52,
    "start_time": "2021-09-10T09:07:33.134Z"
   },
   {
    "duration": 33,
    "start_time": "2021-09-10T09:07:33.188Z"
   },
   {
    "duration": 9,
    "start_time": "2021-09-10T09:07:33.223Z"
   },
   {
    "duration": 69,
    "start_time": "2021-09-10T09:07:33.235Z"
   },
   {
    "duration": 44,
    "start_time": "2021-09-10T09:07:33.306Z"
   },
   {
    "duration": 32,
    "start_time": "2021-09-10T09:07:33.354Z"
   },
   {
    "duration": 241,
    "start_time": "2021-09-10T09:07:33.389Z"
   },
   {
    "duration": -201583,
    "start_time": "2021-09-10T09:10:55.215Z"
   },
   {
    "duration": -201585,
    "start_time": "2021-09-10T09:10:55.219Z"
   },
   {
    "duration": -201588,
    "start_time": "2021-09-10T09:10:55.223Z"
   },
   {
    "duration": -201598,
    "start_time": "2021-09-10T09:10:55.234Z"
   },
   {
    "duration": 68,
    "start_time": "2021-09-10T09:07:56.386Z"
   },
   {
    "duration": 28,
    "start_time": "2021-09-10T09:07:56.456Z"
   },
   {
    "duration": 12,
    "start_time": "2021-09-10T09:07:56.487Z"
   },
   {
    "duration": 33,
    "start_time": "2021-09-10T09:07:56.501Z"
   },
   {
    "duration": 65,
    "start_time": "2021-09-10T09:07:56.536Z"
   },
   {
    "duration": 9,
    "start_time": "2021-09-10T09:07:56.603Z"
   },
   {
    "duration": 39,
    "start_time": "2021-09-10T09:07:56.615Z"
   },
   {
    "duration": 14,
    "start_time": "2021-09-10T09:07:56.682Z"
   },
   {
    "duration": 20,
    "start_time": "2021-09-10T09:07:56.699Z"
   },
   {
    "duration": 7,
    "start_time": "2021-09-10T09:07:56.722Z"
   },
   {
    "duration": 56,
    "start_time": "2021-09-10T09:07:56.731Z"
   },
   {
    "duration": 18,
    "start_time": "2021-09-10T09:07:56.790Z"
   },
   {
    "duration": 11,
    "start_time": "2021-09-10T09:07:56.811Z"
   },
   {
    "duration": 13,
    "start_time": "2021-09-10T09:07:56.824Z"
   },
   {
    "duration": 36,
    "start_time": "2021-09-10T09:13:05.799Z"
   },
   {
    "duration": 257,
    "start_time": "2021-09-10T09:13:17.787Z"
   },
   {
    "duration": 9,
    "start_time": "2021-09-10T09:13:29.501Z"
   },
   {
    "duration": 44,
    "start_time": "2021-09-10T09:15:14.471Z"
   },
   {
    "duration": 74,
    "start_time": "2021-09-10T09:15:26.056Z"
   },
   {
    "duration": 17,
    "start_time": "2021-09-10T09:15:26.133Z"
   },
   {
    "duration": 18,
    "start_time": "2021-09-10T09:15:26.153Z"
   },
   {
    "duration": 33,
    "start_time": "2021-09-10T09:15:26.182Z"
   },
   {
    "duration": 34,
    "start_time": "2021-09-10T09:15:26.217Z"
   },
   {
    "duration": 32,
    "start_time": "2021-09-10T09:15:26.254Z"
   },
   {
    "duration": 41,
    "start_time": "2021-09-10T09:15:26.289Z"
   },
   {
    "duration": 75,
    "start_time": "2021-09-10T09:15:26.333Z"
   },
   {
    "duration": 19,
    "start_time": "2021-09-10T09:15:26.412Z"
   },
   {
    "duration": 292,
    "start_time": "2021-09-10T09:15:26.434Z"
   },
   {
    "duration": -201549,
    "start_time": "2021-09-10T09:18:48.278Z"
   },
   {
    "duration": -201550,
    "start_time": "2021-09-10T09:18:48.280Z"
   },
   {
    "duration": -201553,
    "start_time": "2021-09-10T09:18:48.284Z"
   },
   {
    "duration": -201555,
    "start_time": "2021-09-10T09:18:48.287Z"
   },
   {
    "duration": 47,
    "start_time": "2021-09-10T09:16:24.022Z"
   },
   {
    "duration": 49,
    "start_time": "2021-09-10T09:16:29.732Z"
   },
   {
    "duration": 4863,
    "start_time": "2021-09-10T09:18:28.867Z"
   },
   {
    "duration": 52,
    "start_time": "2021-09-10T09:21:02.198Z"
   },
   {
    "duration": 69,
    "start_time": "2021-09-10T09:21:58.875Z"
   },
   {
    "duration": 15,
    "start_time": "2021-09-10T09:21:58.946Z"
   },
   {
    "duration": 11,
    "start_time": "2021-09-10T09:21:58.983Z"
   },
   {
    "duration": 36,
    "start_time": "2021-09-10T09:21:58.997Z"
   },
   {
    "duration": 64,
    "start_time": "2021-09-10T09:21:59.035Z"
   },
   {
    "duration": 9,
    "start_time": "2021-09-10T09:21:59.101Z"
   },
   {
    "duration": 40,
    "start_time": "2021-09-10T09:21:59.113Z"
   },
   {
    "duration": 51,
    "start_time": "2021-09-10T09:21:59.184Z"
   },
   {
    "duration": 18,
    "start_time": "2021-09-10T09:21:59.238Z"
   },
   {
    "duration": 308,
    "start_time": "2021-09-10T09:21:59.259Z"
   },
   {
    "duration": -201558,
    "start_time": "2021-09-10T09:25:21.127Z"
   },
   {
    "duration": -201560,
    "start_time": "2021-09-10T09:25:21.130Z"
   },
   {
    "duration": -201567,
    "start_time": "2021-09-10T09:25:21.139Z"
   },
   {
    "duration": -201569,
    "start_time": "2021-09-10T09:25:21.142Z"
   },
   {
    "duration": 64,
    "start_time": "2021-09-10T09:22:55.973Z"
   },
   {
    "duration": 73,
    "start_time": "2021-09-10T09:24:16.706Z"
   },
   {
    "duration": 271,
    "start_time": "2021-09-10T09:24:32.550Z"
   },
   {
    "duration": 63,
    "start_time": "2021-09-10T09:25:52.415Z"
   },
   {
    "duration": 63,
    "start_time": "2021-09-10T09:29:39.934Z"
   },
   {
    "duration": 58,
    "start_time": "2021-09-10T09:30:11.576Z"
   },
   {
    "duration": 70,
    "start_time": "2021-09-10T09:30:29.864Z"
   },
   {
    "duration": 17,
    "start_time": "2021-09-10T09:30:29.936Z"
   },
   {
    "duration": 32,
    "start_time": "2021-09-10T09:30:29.956Z"
   },
   {
    "duration": 36,
    "start_time": "2021-09-10T09:30:29.991Z"
   },
   {
    "duration": 68,
    "start_time": "2021-09-10T09:30:30.030Z"
   },
   {
    "duration": 9,
    "start_time": "2021-09-10T09:30:30.100Z"
   },
   {
    "duration": 51,
    "start_time": "2021-09-10T09:30:30.112Z"
   },
   {
    "duration": 54,
    "start_time": "2021-09-10T09:30:30.183Z"
   },
   {
    "duration": 42,
    "start_time": "2021-09-10T09:30:30.240Z"
   },
   {
    "duration": 8,
    "start_time": "2021-09-10T09:30:30.285Z"
   },
   {
    "duration": 32,
    "start_time": "2021-09-10T09:30:30.295Z"
   },
   {
    "duration": 22,
    "start_time": "2021-09-10T09:30:30.330Z"
   },
   {
    "duration": 10,
    "start_time": "2021-09-10T09:30:30.382Z"
   },
   {
    "duration": 115,
    "start_time": "2021-09-10T09:30:30.394Z"
   },
   {
    "duration": 33,
    "start_time": "2021-09-10T09:36:32.929Z"
   },
   {
    "duration": 73,
    "start_time": "2021-09-10T09:37:12.508Z"
   },
   {
    "duration": 16,
    "start_time": "2021-09-10T09:37:12.584Z"
   },
   {
    "duration": 14,
    "start_time": "2021-09-10T09:37:12.603Z"
   },
   {
    "duration": 63,
    "start_time": "2021-09-10T09:37:12.619Z"
   },
   {
    "duration": 35,
    "start_time": "2021-09-10T09:37:12.685Z"
   },
   {
    "duration": 10,
    "start_time": "2021-09-10T09:37:12.722Z"
   },
   {
    "duration": 90,
    "start_time": "2021-09-10T09:37:12.736Z"
   },
   {
    "duration": 55,
    "start_time": "2021-09-10T09:37:12.829Z"
   },
   {
    "duration": 19,
    "start_time": "2021-09-10T09:37:12.887Z"
   },
   {
    "duration": 8,
    "start_time": "2021-09-10T09:37:12.909Z"
   },
   {
    "duration": 68,
    "start_time": "2021-09-10T09:37:12.920Z"
   },
   {
    "duration": 22,
    "start_time": "2021-09-10T09:37:12.991Z"
   },
   {
    "duration": 23,
    "start_time": "2021-09-10T09:37:13.015Z"
   },
   {
    "duration": 462,
    "start_time": "2021-09-10T09:37:13.040Z"
   },
   {
    "duration": 4402,
    "start_time": "2021-09-10T09:37:57.059Z"
   },
   {
    "duration": 3324,
    "start_time": "2021-09-10T09:42:52.412Z"
   },
   {
    "duration": 3299,
    "start_time": "2021-09-10T09:43:07.910Z"
   },
   {
    "duration": 320,
    "start_time": "2021-09-11T09:21:30.168Z"
   },
   {
    "duration": 619,
    "start_time": "2021-09-11T09:21:35.549Z"
   },
   {
    "duration": 17,
    "start_time": "2021-09-11T09:21:36.169Z"
   },
   {
    "duration": 11,
    "start_time": "2021-09-11T09:21:36.188Z"
   },
   {
    "duration": 23,
    "start_time": "2021-09-11T09:21:36.201Z"
   },
   {
    "duration": 20,
    "start_time": "2021-09-11T09:21:36.226Z"
   },
   {
    "duration": 6,
    "start_time": "2021-09-11T09:21:36.248Z"
   },
   {
    "duration": 50,
    "start_time": "2021-09-11T09:21:36.256Z"
   },
   {
    "duration": 25,
    "start_time": "2021-09-11T09:21:36.307Z"
   },
   {
    "duration": 12,
    "start_time": "2021-09-11T09:21:36.334Z"
   },
   {
    "duration": 5,
    "start_time": "2021-09-11T09:21:36.348Z"
   },
   {
    "duration": 45,
    "start_time": "2021-09-11T09:21:36.354Z"
   },
   {
    "duration": 15,
    "start_time": "2021-09-11T09:21:36.400Z"
   },
   {
    "duration": 7,
    "start_time": "2021-09-11T09:21:36.416Z"
   },
   {
    "duration": 3527,
    "start_time": "2021-09-11T09:21:36.425Z"
   },
   {
    "duration": 24730,
    "start_time": "2021-09-11T09:21:39.954Z"
   },
   {
    "duration": 17728,
    "start_time": "2021-09-11T09:22:20.529Z"
   },
   {
    "duration": 7,
    "start_time": "2021-09-11T09:23:18.752Z"
   },
   {
    "duration": 17408,
    "start_time": "2021-09-11T09:24:28.213Z"
   },
   {
    "duration": 7,
    "start_time": "2021-09-11T09:24:48.600Z"
   },
   {
    "duration": 9606,
    "start_time": "2021-09-11T09:26:27.015Z"
   },
   {
    "duration": 84,
    "start_time": "2021-09-11T09:37:29.979Z"
   },
   {
    "duration": 89,
    "start_time": "2021-09-11T09:37:53.782Z"
   },
   {
    "duration": 8486,
    "start_time": "2021-09-11T09:38:45.866Z"
   },
   {
    "duration": 6445,
    "start_time": "2021-09-11T09:40:48.578Z"
   },
   {
    "duration": 80,
    "start_time": "2021-09-11T09:41:06.438Z"
   },
   {
    "duration": 12,
    "start_time": "2021-09-11T09:41:06.520Z"
   },
   {
    "duration": 14,
    "start_time": "2021-09-11T09:41:06.534Z"
   },
   {
    "duration": 49,
    "start_time": "2021-09-11T09:41:06.550Z"
   },
   {
    "duration": 23,
    "start_time": "2021-09-11T09:41:06.601Z"
   },
   {
    "duration": 8,
    "start_time": "2021-09-11T09:41:06.626Z"
   },
   {
    "duration": 57,
    "start_time": "2021-09-11T09:41:06.636Z"
   },
   {
    "duration": 23,
    "start_time": "2021-09-11T09:41:06.695Z"
   },
   {
    "duration": 11,
    "start_time": "2021-09-11T09:41:06.721Z"
   },
   {
    "duration": 11,
    "start_time": "2021-09-11T09:41:06.734Z"
   },
   {
    "duration": 18,
    "start_time": "2021-09-11T09:41:06.746Z"
   },
   {
    "duration": 14,
    "start_time": "2021-09-11T09:41:06.792Z"
   },
   {
    "duration": 8,
    "start_time": "2021-09-11T09:41:06.808Z"
   },
   {
    "duration": 3595,
    "start_time": "2021-09-11T09:41:06.817Z"
   },
   {
    "duration": 6576,
    "start_time": "2021-09-11T09:41:10.414Z"
   },
   {
    "duration": 6831,
    "start_time": "2021-09-11T09:42:08.477Z"
   },
   {
    "duration": 1776,
    "start_time": "2021-09-11T09:42:40.345Z"
   },
   {
    "duration": 249,
    "start_time": "2021-09-11T09:46:39.556Z"
   },
   {
    "duration": 4916,
    "start_time": "2021-09-11T09:47:04.226Z"
   },
   {
    "duration": 4856,
    "start_time": "2021-09-11T09:47:22.718Z"
   },
   {
    "duration": 5137,
    "start_time": "2021-09-11T09:47:44.129Z"
   },
   {
    "duration": 6623,
    "start_time": "2021-09-11T09:48:06.382Z"
   },
   {
    "duration": 267,
    "start_time": "2021-09-11T09:48:51.382Z"
   },
   {
    "duration": 51,
    "start_time": "2021-09-11T09:50:36.053Z"
   },
   {
    "duration": 293,
    "start_time": "2021-09-11T09:56:30.420Z"
   },
   {
    "duration": 278,
    "start_time": "2021-09-11T10:01:44.898Z"
   },
   {
    "duration": 6703,
    "start_time": "2021-09-11T10:03:09.238Z"
   },
   {
    "duration": 5254,
    "start_time": "2021-09-11T10:03:50.472Z"
   },
   {
    "duration": 4697,
    "start_time": "2021-09-11T10:04:22.485Z"
   },
   {
    "duration": 16,
    "start_time": "2021-09-11T10:14:33.154Z"
   },
   {
    "duration": 32,
    "start_time": "2021-09-11T10:15:04.870Z"
   },
   {
    "duration": 21,
    "start_time": "2021-09-11T10:15:41.020Z"
   },
   {
    "duration": 759,
    "start_time": "2021-09-12T07:11:43.591Z"
   },
   {
    "duration": 25,
    "start_time": "2021-09-12T07:11:44.353Z"
   },
   {
    "duration": 10,
    "start_time": "2021-09-12T07:11:44.384Z"
   },
   {
    "duration": 33,
    "start_time": "2021-09-12T07:11:44.397Z"
   },
   {
    "duration": 67,
    "start_time": "2021-09-12T07:11:44.432Z"
   },
   {
    "duration": 9,
    "start_time": "2021-09-12T07:11:44.502Z"
   },
   {
    "duration": 39,
    "start_time": "2021-09-12T07:11:44.514Z"
   },
   {
    "duration": 32,
    "start_time": "2021-09-12T07:11:44.582Z"
   },
   {
    "duration": 16,
    "start_time": "2021-09-12T07:11:44.617Z"
   },
   {
    "duration": 7,
    "start_time": "2021-09-12T07:11:44.636Z"
   },
   {
    "duration": 50,
    "start_time": "2021-09-12T07:11:44.646Z"
   },
   {
    "duration": 19,
    "start_time": "2021-09-12T07:11:44.698Z"
   },
   {
    "duration": 12,
    "start_time": "2021-09-12T07:11:44.719Z"
   },
   {
    "duration": 4140,
    "start_time": "2021-09-12T07:11:44.733Z"
   },
   {
    "duration": 26,
    "start_time": "2021-09-12T07:11:48.883Z"
   },
   {
    "duration": 18,
    "start_time": "2021-09-12T07:14:35.058Z"
   },
   {
    "duration": 93,
    "start_time": "2021-09-12T07:15:07.011Z"
   },
   {
    "duration": 17,
    "start_time": "2021-09-12T07:15:07.106Z"
   },
   {
    "duration": 12,
    "start_time": "2021-09-12T07:15:07.126Z"
   },
   {
    "duration": 61,
    "start_time": "2021-09-12T07:15:07.140Z"
   },
   {
    "duration": 33,
    "start_time": "2021-09-12T07:15:07.204Z"
   },
   {
    "duration": 9,
    "start_time": "2021-09-12T07:15:07.239Z"
   },
   {
    "duration": 39,
    "start_time": "2021-09-12T07:15:07.282Z"
   },
   {
    "duration": 31,
    "start_time": "2021-09-12T07:15:07.325Z"
   },
   {
    "duration": 38,
    "start_time": "2021-09-12T07:15:07.358Z"
   },
   {
    "duration": 7,
    "start_time": "2021-09-12T07:15:07.398Z"
   },
   {
    "duration": 20,
    "start_time": "2021-09-12T07:15:07.407Z"
   },
   {
    "duration": 57,
    "start_time": "2021-09-12T07:15:07.429Z"
   },
   {
    "duration": 9,
    "start_time": "2021-09-12T07:15:07.489Z"
   },
   {
    "duration": 4111,
    "start_time": "2021-09-12T07:15:07.500Z"
   },
   {
    "duration": 23,
    "start_time": "2021-09-12T07:15:11.614Z"
   },
   {
    "duration": 45,
    "start_time": "2021-09-12T07:15:11.639Z"
   },
   {
    "duration": 96,
    "start_time": "2021-09-12T07:23:54.868Z"
   },
   {
    "duration": 24,
    "start_time": "2021-09-12T07:23:54.967Z"
   },
   {
    "duration": 27,
    "start_time": "2021-09-12T07:23:54.994Z"
   },
   {
    "duration": 36,
    "start_time": "2021-09-12T07:23:55.024Z"
   },
   {
    "duration": 56,
    "start_time": "2021-09-12T07:23:55.062Z"
   },
   {
    "duration": 9,
    "start_time": "2021-09-12T07:23:55.120Z"
   },
   {
    "duration": 74,
    "start_time": "2021-09-12T07:23:55.132Z"
   },
   {
    "duration": 32,
    "start_time": "2021-09-12T07:23:55.209Z"
   },
   {
    "duration": 39,
    "start_time": "2021-09-12T07:23:55.243Z"
   },
   {
    "duration": 7,
    "start_time": "2021-09-12T07:23:55.285Z"
   },
   {
    "duration": 21,
    "start_time": "2021-09-12T07:23:55.295Z"
   },
   {
    "duration": 20,
    "start_time": "2021-09-12T07:23:55.318Z"
   },
   {
    "duration": 50,
    "start_time": "2021-09-12T07:23:55.340Z"
   },
   {
    "duration": 4203,
    "start_time": "2021-09-12T07:23:55.393Z"
   },
   {
    "duration": 21,
    "start_time": "2021-09-12T07:23:59.598Z"
   },
   {
    "duration": 27,
    "start_time": "2021-09-12T07:23:59.621Z"
   },
   {
    "duration": 52,
    "start_time": "2021-09-12T07:23:59.650Z"
   },
   {
    "duration": 18,
    "start_time": "2021-09-12T07:23:59.704Z"
   },
   {
    "duration": 105,
    "start_time": "2021-09-12T07:27:31.594Z"
   },
   {
    "duration": 16,
    "start_time": "2021-09-12T07:27:31.701Z"
   },
   {
    "duration": 19,
    "start_time": "2021-09-12T07:27:31.720Z"
   },
   {
    "duration": 58,
    "start_time": "2021-09-12T07:27:31.742Z"
   },
   {
    "duration": 35,
    "start_time": "2021-09-12T07:27:31.803Z"
   },
   {
    "duration": 9,
    "start_time": "2021-09-12T07:27:31.840Z"
   },
   {
    "duration": 40,
    "start_time": "2021-09-12T07:27:31.882Z"
   },
   {
    "duration": 71,
    "start_time": "2021-09-12T07:27:31.925Z"
   },
   {
    "duration": 25,
    "start_time": "2021-09-12T07:27:32.001Z"
   },
   {
    "duration": 11,
    "start_time": "2021-09-12T07:27:32.029Z"
   },
   {
    "duration": 54,
    "start_time": "2021-09-12T07:27:32.043Z"
   },
   {
    "duration": 33,
    "start_time": "2021-09-12T07:27:32.100Z"
   },
   {
    "duration": 12,
    "start_time": "2021-09-12T07:27:32.137Z"
   },
   {
    "duration": 4767,
    "start_time": "2021-09-12T07:27:32.183Z"
   },
   {
    "duration": 37,
    "start_time": "2021-09-12T07:27:36.953Z"
   },
   {
    "duration": 28,
    "start_time": "2021-09-12T07:27:36.992Z"
   },
   {
    "duration": 16,
    "start_time": "2021-09-12T07:27:37.022Z"
   },
   {
    "duration": 3,
    "start_time": "2021-09-12T07:27:37.040Z"
   },
   {
    "duration": 52,
    "start_time": "2021-09-12T07:27:37.045Z"
   },
   {
    "duration": 6230,
    "start_time": "2021-09-12T07:28:16.344Z"
   },
   {
    "duration": 15,
    "start_time": "2021-09-12T07:28:54.538Z"
   },
   {
    "duration": 34,
    "start_time": "2021-09-12T07:29:43.882Z"
   },
   {
    "duration": 12,
    "start_time": "2021-09-12T07:37:19.788Z"
   },
   {
    "duration": 13,
    "start_time": "2021-09-12T07:38:12.176Z"
   },
   {
    "duration": 97,
    "start_time": "2021-09-12T07:38:50.087Z"
   },
   {
    "duration": 16,
    "start_time": "2021-09-12T07:38:50.186Z"
   },
   {
    "duration": 16,
    "start_time": "2021-09-12T07:38:50.205Z"
   },
   {
    "duration": 64,
    "start_time": "2021-09-12T07:38:50.223Z"
   },
   {
    "duration": 37,
    "start_time": "2021-09-12T07:38:50.289Z"
   },
   {
    "duration": 9,
    "start_time": "2021-09-12T07:38:50.329Z"
   },
   {
    "duration": 71,
    "start_time": "2021-09-12T07:38:50.341Z"
   },
   {
    "duration": 30,
    "start_time": "2021-09-12T07:38:50.415Z"
   },
   {
    "duration": 40,
    "start_time": "2021-09-12T07:38:50.448Z"
   },
   {
    "duration": 5,
    "start_time": "2021-09-12T07:38:50.490Z"
   },
   {
    "duration": 22,
    "start_time": "2021-09-12T07:38:50.497Z"
   },
   {
    "duration": 19,
    "start_time": "2021-09-12T07:38:50.521Z"
   },
   {
    "duration": 47,
    "start_time": "2021-09-12T07:38:50.542Z"
   },
   {
    "duration": 4158,
    "start_time": "2021-09-12T07:38:50.591Z"
   },
   {
    "duration": 34,
    "start_time": "2021-09-12T07:38:54.752Z"
   },
   {
    "duration": 33,
    "start_time": "2021-09-12T07:38:54.789Z"
   },
   {
    "duration": 15,
    "start_time": "2021-09-12T07:38:54.824Z"
   },
   {
    "duration": 11,
    "start_time": "2021-09-12T07:38:54.842Z"
   },
   {
    "duration": 42,
    "start_time": "2021-09-12T07:38:54.855Z"
   },
   {
    "duration": 10,
    "start_time": "2021-09-12T07:39:32.267Z"
   },
   {
    "duration": 27,
    "start_time": "2021-09-12T07:45:28.032Z"
   },
   {
    "duration": 292,
    "start_time": "2021-09-12T07:45:52.551Z"
   },
   {
    "duration": 24,
    "start_time": "2021-09-12T07:46:12.968Z"
   },
   {
    "duration": 18,
    "start_time": "2021-09-12T07:46:25.838Z"
   },
   {
    "duration": 33,
    "start_time": "2021-09-12T07:46:40.602Z"
   },
   {
    "duration": 35,
    "start_time": "2021-09-12T07:47:05.092Z"
   },
   {
    "duration": 34,
    "start_time": "2021-09-12T07:47:32.024Z"
   },
   {
    "duration": 19,
    "start_time": "2021-09-12T07:50:18.495Z"
   },
   {
    "duration": 20,
    "start_time": "2021-09-12T07:50:30.775Z"
   },
   {
    "duration": 25,
    "start_time": "2021-09-12T07:51:12.583Z"
   },
   {
    "duration": 23,
    "start_time": "2021-09-12T07:51:29.690Z"
   },
   {
    "duration": 246,
    "start_time": "2021-09-12T07:59:10.771Z"
   },
   {
    "duration": 8,
    "start_time": "2021-09-12T07:59:27.903Z"
   },
   {
    "duration": 8,
    "start_time": "2021-09-12T07:59:36.897Z"
   },
   {
    "duration": 13,
    "start_time": "2021-09-12T08:00:20.689Z"
   },
   {
    "duration": 10,
    "start_time": "2021-09-12T08:01:27.801Z"
   },
   {
    "duration": 11,
    "start_time": "2021-09-12T08:01:34.560Z"
   },
   {
    "duration": 264,
    "start_time": "2021-09-12T08:01:57.349Z"
   },
   {
    "duration": 245,
    "start_time": "2021-09-12T08:02:10.247Z"
   },
   {
    "duration": 70,
    "start_time": "2021-09-12T08:27:35.452Z"
   },
   {
    "duration": 24208,
    "start_time": "2021-09-12T08:34:12.454Z"
   },
   {
    "duration": 25875,
    "start_time": "2021-09-12T08:35:58.881Z"
   },
   {
    "duration": 573,
    "start_time": "2021-09-12T08:36:27.387Z"
   },
   {
    "duration": 15,
    "start_time": "2021-09-12T08:49:45.685Z"
   },
   {
    "duration": 15,
    "start_time": "2021-09-12T08:50:17.495Z"
   },
   {
    "duration": 122,
    "start_time": "2021-09-12T22:26:37.965Z"
   },
   {
    "duration": 814,
    "start_time": "2021-09-12T22:26:45.100Z"
   },
   {
    "duration": 40,
    "start_time": "2021-09-12T22:26:45.916Z"
   },
   {
    "duration": 18,
    "start_time": "2021-09-12T22:26:45.959Z"
   },
   {
    "duration": 40,
    "start_time": "2021-09-12T22:26:45.981Z"
   },
   {
    "duration": 66,
    "start_time": "2021-09-12T22:26:46.024Z"
   },
   {
    "duration": 11,
    "start_time": "2021-09-12T22:26:46.093Z"
   },
   {
    "duration": 78,
    "start_time": "2021-09-12T22:26:46.106Z"
   },
   {
    "duration": 33,
    "start_time": "2021-09-12T22:26:46.187Z"
   },
   {
    "duration": 38,
    "start_time": "2021-09-12T22:26:46.223Z"
   },
   {
    "duration": 7,
    "start_time": "2021-09-12T22:26:46.264Z"
   },
   {
    "duration": 29,
    "start_time": "2021-09-12T22:26:46.273Z"
   },
   {
    "duration": 52,
    "start_time": "2021-09-12T22:26:46.304Z"
   },
   {
    "duration": 9,
    "start_time": "2021-09-12T22:26:46.358Z"
   },
   {
    "duration": 4447,
    "start_time": "2021-09-12T22:26:46.369Z"
   },
   {
    "duration": 38,
    "start_time": "2021-09-12T22:26:50.819Z"
   },
   {
    "duration": 27,
    "start_time": "2021-09-12T22:26:50.860Z"
   },
   {
    "duration": 16,
    "start_time": "2021-09-12T22:26:50.889Z"
   },
   {
    "duration": 13,
    "start_time": "2021-09-12T22:26:50.907Z"
   },
   {
    "duration": 58,
    "start_time": "2021-09-12T22:26:50.922Z"
   },
   {
    "duration": 603,
    "start_time": "2021-09-12T22:26:50.983Z"
   },
   {
    "duration": 15,
    "start_time": "2021-09-12T22:26:51.589Z"
   },
   {
    "duration": 156,
    "start_time": "2021-09-12T22:26:51.606Z"
   },
   {
    "duration": 153,
    "start_time": "2021-09-12T22:27:30.555Z"
   },
   {
    "duration": 23,
    "start_time": "2021-09-12T22:27:30.712Z"
   },
   {
    "duration": 34,
    "start_time": "2021-09-12T22:27:30.755Z"
   },
   {
    "duration": 67,
    "start_time": "2021-09-12T22:27:30.792Z"
   },
   {
    "duration": 55,
    "start_time": "2021-09-12T22:27:30.863Z"
   },
   {
    "duration": 40,
    "start_time": "2021-09-12T22:27:30.921Z"
   },
   {
    "duration": 65,
    "start_time": "2021-09-12T22:27:30.964Z"
   },
   {
    "duration": 69,
    "start_time": "2021-09-12T22:27:31.032Z"
   },
   {
    "duration": 69,
    "start_time": "2021-09-12T22:27:31.106Z"
   },
   {
    "duration": 13,
    "start_time": "2021-09-12T22:27:31.179Z"
   },
   {
    "duration": 54,
    "start_time": "2021-09-12T22:27:31.195Z"
   },
   {
    "duration": 30,
    "start_time": "2021-09-12T22:27:31.252Z"
   },
   {
    "duration": 30,
    "start_time": "2021-09-12T22:27:31.286Z"
   },
   {
    "duration": 4740,
    "start_time": "2021-09-12T22:27:31.318Z"
   },
   {
    "duration": 24,
    "start_time": "2021-09-12T22:27:36.060Z"
   },
   {
    "duration": 33,
    "start_time": "2021-09-12T22:27:36.087Z"
   },
   {
    "duration": 41,
    "start_time": "2021-09-12T22:27:36.123Z"
   },
   {
    "duration": 16,
    "start_time": "2021-09-12T22:27:36.167Z"
   },
   {
    "duration": 34,
    "start_time": "2021-09-12T22:27:36.185Z"
   },
   {
    "duration": 629,
    "start_time": "2021-09-12T22:27:36.221Z"
   },
   {
    "duration": 16,
    "start_time": "2021-09-12T22:27:36.856Z"
   },
   {
    "duration": 114,
    "start_time": "2021-09-12T22:27:36.874Z"
   },
   {
    "duration": 119,
    "start_time": "2021-09-12T22:28:09.617Z"
   },
   {
    "duration": 125,
    "start_time": "2021-09-12T22:28:12.897Z"
   },
   {
    "duration": 106,
    "start_time": "2021-09-12T22:28:24.773Z"
   },
   {
    "duration": 17,
    "start_time": "2021-09-12T22:28:24.882Z"
   },
   {
    "duration": 14,
    "start_time": "2021-09-12T22:28:24.902Z"
   },
   {
    "duration": 64,
    "start_time": "2021-09-12T22:28:24.919Z"
   },
   {
    "duration": 36,
    "start_time": "2021-09-12T22:28:24.985Z"
   },
   {
    "duration": 34,
    "start_time": "2021-09-12T22:28:25.023Z"
   },
   {
    "duration": 48,
    "start_time": "2021-09-12T22:28:25.060Z"
   },
   {
    "duration": 54,
    "start_time": "2021-09-12T22:28:25.110Z"
   },
   {
    "duration": 17,
    "start_time": "2021-09-12T22:28:25.168Z"
   },
   {
    "duration": 5,
    "start_time": "2021-09-12T22:28:25.187Z"
   },
   {
    "duration": 29,
    "start_time": "2021-09-12T22:28:25.194Z"
   },
   {
    "duration": 21,
    "start_time": "2021-09-12T22:28:25.257Z"
   },
   {
    "duration": 12,
    "start_time": "2021-09-12T22:28:25.281Z"
   },
   {
    "duration": 4569,
    "start_time": "2021-09-12T22:28:25.295Z"
   },
   {
    "duration": 23,
    "start_time": "2021-09-12T22:28:29.866Z"
   },
   {
    "duration": 28,
    "start_time": "2021-09-12T22:28:29.891Z"
   },
   {
    "duration": 45,
    "start_time": "2021-09-12T22:28:29.922Z"
   },
   {
    "duration": 13,
    "start_time": "2021-09-12T22:28:29.969Z"
   },
   {
    "duration": 31,
    "start_time": "2021-09-12T22:28:29.984Z"
   },
   {
    "duration": 620,
    "start_time": "2021-09-12T22:28:30.018Z"
   },
   {
    "duration": 24,
    "start_time": "2021-09-12T22:28:30.641Z"
   },
   {
    "duration": 220,
    "start_time": "2021-09-12T22:28:30.668Z"
   },
   {
    "duration": 112,
    "start_time": "2021-09-12T22:28:49.254Z"
   },
   {
    "duration": 128,
    "start_time": "2021-09-12T22:31:54.350Z"
   },
   {
    "duration": 592,
    "start_time": "2021-09-12T22:40:45.765Z"
   },
   {
    "duration": 104,
    "start_time": "2021-09-12T22:43:08.940Z"
   },
   {
    "duration": 17,
    "start_time": "2021-09-12T22:43:09.056Z"
   },
   {
    "duration": 14,
    "start_time": "2021-09-12T22:43:09.076Z"
   },
   {
    "duration": 69,
    "start_time": "2021-09-12T22:43:09.093Z"
   },
   {
    "duration": 37,
    "start_time": "2021-09-12T22:43:09.164Z"
   },
   {
    "duration": 10,
    "start_time": "2021-09-12T22:43:09.203Z"
   },
   {
    "duration": 77,
    "start_time": "2021-09-12T22:43:09.216Z"
   },
   {
    "duration": 37,
    "start_time": "2021-09-12T22:43:09.296Z"
   },
   {
    "duration": 36,
    "start_time": "2021-09-12T22:43:09.336Z"
   },
   {
    "duration": 5,
    "start_time": "2021-09-12T22:43:09.376Z"
   },
   {
    "duration": 28,
    "start_time": "2021-09-12T22:43:09.384Z"
   },
   {
    "duration": 21,
    "start_time": "2021-09-12T22:43:09.458Z"
   },
   {
    "duration": 13,
    "start_time": "2021-09-12T22:43:09.482Z"
   },
   {
    "duration": 4524,
    "start_time": "2021-09-12T22:43:09.498Z"
   },
   {
    "duration": 36,
    "start_time": "2021-09-12T22:43:14.024Z"
   },
   {
    "duration": 32,
    "start_time": "2021-09-12T22:43:14.063Z"
   },
   {
    "duration": 17,
    "start_time": "2021-09-12T22:43:14.097Z"
   },
   {
    "duration": 39,
    "start_time": "2021-09-12T22:43:14.117Z"
   },
   {
    "duration": 34,
    "start_time": "2021-09-12T22:43:14.158Z"
   },
   {
    "duration": 618,
    "start_time": "2021-09-12T22:43:14.195Z"
   },
   {
    "duration": 16,
    "start_time": "2021-09-12T22:43:14.815Z"
   },
   {
    "duration": 613,
    "start_time": "2021-09-12T22:43:14.834Z"
   },
   {
    "duration": 765,
    "start_time": "2021-09-12T22:43:48.465Z"
   },
   {
    "duration": 605,
    "start_time": "2021-09-12T22:45:41.573Z"
   },
   {
    "duration": 606,
    "start_time": "2021-09-12T22:46:04.851Z"
   },
   {
    "duration": 102,
    "start_time": "2021-09-13T09:11:23.192Z"
   },
   {
    "duration": 351,
    "start_time": "2021-09-13T09:23:40.434Z"
   },
   {
    "duration": 830,
    "start_time": "2021-09-13T09:23:44.224Z"
   },
   {
    "duration": 30,
    "start_time": "2021-09-13T09:23:45.057Z"
   },
   {
    "duration": 22,
    "start_time": "2021-09-13T09:23:45.091Z"
   },
   {
    "duration": 61,
    "start_time": "2021-09-13T09:23:45.115Z"
   },
   {
    "duration": 37,
    "start_time": "2021-09-13T09:23:45.179Z"
   },
   {
    "duration": 9,
    "start_time": "2021-09-13T09:23:45.218Z"
   },
   {
    "duration": 67,
    "start_time": "2021-09-13T09:23:45.229Z"
   },
   {
    "duration": 32,
    "start_time": "2021-09-13T09:23:45.298Z"
   },
   {
    "duration": 42,
    "start_time": "2021-09-13T09:23:45.334Z"
   },
   {
    "duration": 6,
    "start_time": "2021-09-13T09:23:45.378Z"
   },
   {
    "duration": 24,
    "start_time": "2021-09-13T09:23:45.387Z"
   },
   {
    "duration": 59,
    "start_time": "2021-09-13T09:23:45.413Z"
   },
   {
    "duration": 12,
    "start_time": "2021-09-13T09:23:45.474Z"
   },
   {
    "duration": 4541,
    "start_time": "2021-09-13T09:23:45.489Z"
   },
   {
    "duration": 43,
    "start_time": "2021-09-13T09:23:50.034Z"
   },
   {
    "duration": 27,
    "start_time": "2021-09-13T09:23:50.079Z"
   },
   {
    "duration": 24,
    "start_time": "2021-09-13T09:23:50.109Z"
   },
   {
    "duration": 29,
    "start_time": "2021-09-13T09:23:50.135Z"
   },
   {
    "duration": 27,
    "start_time": "2021-09-13T09:23:50.166Z"
   },
   {
    "duration": 606,
    "start_time": "2021-09-13T09:23:50.195Z"
   },
   {
    "duration": 14,
    "start_time": "2021-09-13T09:23:50.803Z"
   },
   {
    "duration": 593,
    "start_time": "2021-09-13T09:23:50.820Z"
   },
   {
    "duration": 15,
    "start_time": "2021-09-13T09:23:51.416Z"
   },
   {
    "duration": 16,
    "start_time": "2021-09-13T09:24:20.445Z"
   },
   {
    "duration": 423,
    "start_time": "2021-09-13T09:30:41.032Z"
   },
   {
    "duration": 590,
    "start_time": "2021-09-13T09:31:06.371Z"
   },
   {
    "duration": 567,
    "start_time": "2021-09-13T09:34:33.221Z"
   },
   {
    "duration": 564,
    "start_time": "2021-09-13T09:43:29.116Z"
   },
   {
    "duration": 100,
    "start_time": "2021-09-13T10:00:25.102Z"
   },
   {
    "duration": 17,
    "start_time": "2021-09-13T10:00:25.205Z"
   },
   {
    "duration": 39,
    "start_time": "2021-09-13T10:00:25.225Z"
   },
   {
    "duration": 37,
    "start_time": "2021-09-13T10:00:25.266Z"
   },
   {
    "duration": 70,
    "start_time": "2021-09-13T10:00:25.305Z"
   },
   {
    "duration": 10,
    "start_time": "2021-09-13T10:00:25.377Z"
   },
   {
    "duration": 43,
    "start_time": "2021-09-13T10:00:25.389Z"
   },
   {
    "duration": 33,
    "start_time": "2021-09-13T10:00:25.463Z"
   },
   {
    "duration": 17,
    "start_time": "2021-09-13T10:00:25.500Z"
   },
   {
    "duration": 8,
    "start_time": "2021-09-13T10:00:25.519Z"
   },
   {
    "duration": 49,
    "start_time": "2021-09-13T10:00:25.529Z"
   },
   {
    "duration": 20,
    "start_time": "2021-09-13T10:00:25.580Z"
   },
   {
    "duration": 11,
    "start_time": "2021-09-13T10:00:25.603Z"
   },
   {
    "duration": 4510,
    "start_time": "2021-09-13T10:00:25.617Z"
   },
   {
    "duration": 34,
    "start_time": "2021-09-13T10:00:30.130Z"
   },
   {
    "duration": 37,
    "start_time": "2021-09-13T10:00:30.167Z"
   },
   {
    "duration": 15,
    "start_time": "2021-09-13T10:00:30.207Z"
   },
   {
    "duration": 38,
    "start_time": "2021-09-13T10:00:30.224Z"
   },
   {
    "duration": 28,
    "start_time": "2021-09-13T10:00:30.264Z"
   },
   {
    "duration": 624,
    "start_time": "2021-09-13T10:00:30.294Z"
   },
   {
    "duration": 16,
    "start_time": "2021-09-13T10:00:30.920Z"
   },
   {
    "duration": 635,
    "start_time": "2021-09-13T10:00:30.938Z"
   },
   {
    "duration": 573,
    "start_time": "2021-09-13T10:00:31.575Z"
   },
   {
    "duration": 24,
    "start_time": "2021-09-13T10:00:32.150Z"
   },
   {
    "duration": 618,
    "start_time": "2021-09-13T10:00:32.176Z"
   },
   {
    "duration": 572,
    "start_time": "2021-09-13T10:05:35.698Z"
   },
   {
    "duration": 572,
    "start_time": "2021-09-13T10:15:56.827Z"
   },
   {
    "duration": 1447,
    "start_time": "2021-09-13T21:35:01.930Z"
   },
   {
    "duration": 119,
    "start_time": "2021-09-13T21:36:31.484Z"
   },
   {
    "duration": 26,
    "start_time": "2021-09-13T21:36:31.605Z"
   },
   {
    "duration": 36,
    "start_time": "2021-09-13T21:36:31.633Z"
   },
   {
    "duration": 48,
    "start_time": "2021-09-13T21:36:31.671Z"
   },
   {
    "duration": 67,
    "start_time": "2021-09-13T21:36:31.721Z"
   },
   {
    "duration": 36,
    "start_time": "2021-09-13T21:36:31.790Z"
   },
   {
    "duration": 40,
    "start_time": "2021-09-13T21:36:31.829Z"
   },
   {
    "duration": 45,
    "start_time": "2021-09-13T21:36:31.871Z"
   },
   {
    "duration": 65,
    "start_time": "2021-09-13T21:36:31.918Z"
   },
   {
    "duration": 17,
    "start_time": "2021-09-13T21:36:31.985Z"
   },
   {
    "duration": 4,
    "start_time": "2021-09-13T21:36:32.005Z"
   },
   {
    "duration": 58,
    "start_time": "2021-09-13T21:36:32.012Z"
   },
   {
    "duration": 22,
    "start_time": "2021-09-13T21:36:32.072Z"
   },
   {
    "duration": 11,
    "start_time": "2021-09-13T21:36:32.096Z"
   },
   {
    "duration": 4496,
    "start_time": "2021-09-13T21:36:32.110Z"
   },
   {
    "duration": 25,
    "start_time": "2021-09-13T21:36:36.608Z"
   },
   {
    "duration": 48,
    "start_time": "2021-09-13T21:36:36.636Z"
   },
   {
    "duration": 18,
    "start_time": "2021-09-13T21:36:36.687Z"
   },
   {
    "duration": 14,
    "start_time": "2021-09-13T21:36:36.707Z"
   },
   {
    "duration": 58,
    "start_time": "2021-09-13T21:36:36.724Z"
   },
   {
    "duration": 614,
    "start_time": "2021-09-13T21:36:36.785Z"
   },
   {
    "duration": 16,
    "start_time": "2021-09-13T21:36:37.402Z"
   },
   {
    "duration": 650,
    "start_time": "2021-09-13T21:36:37.421Z"
   },
   {
    "duration": 608,
    "start_time": "2021-09-13T21:36:38.074Z"
   },
   {
    "duration": 626,
    "start_time": "2021-09-13T21:36:38.684Z"
   },
   {
    "duration": 49005,
    "start_time": "2021-09-13T21:37:23.214Z"
   },
   {
    "duration": 839,
    "start_time": "2021-09-13T21:39:05.174Z"
   },
   {
    "duration": 28,
    "start_time": "2021-09-13T21:39:06.015Z"
   },
   {
    "duration": 31,
    "start_time": "2021-09-13T21:39:06.046Z"
   },
   {
    "duration": 40,
    "start_time": "2021-09-13T21:39:06.080Z"
   },
   {
    "duration": 66,
    "start_time": "2021-09-13T21:39:06.123Z"
   },
   {
    "duration": 36,
    "start_time": "2021-09-13T21:39:06.191Z"
   },
   {
    "duration": 10,
    "start_time": "2021-09-13T21:39:06.229Z"
   },
   {
    "duration": 43,
    "start_time": "2021-09-13T21:39:06.268Z"
   },
   {
    "duration": 67,
    "start_time": "2021-09-13T21:39:06.315Z"
   },
   {
    "duration": 17,
    "start_time": "2021-09-13T21:39:06.384Z"
   },
   {
    "duration": 5,
    "start_time": "2021-09-13T21:39:06.404Z"
   },
   {
    "duration": 58,
    "start_time": "2021-09-13T21:39:06.412Z"
   },
   {
    "duration": 23,
    "start_time": "2021-09-13T21:39:06.472Z"
   },
   {
    "duration": 11,
    "start_time": "2021-09-13T21:39:06.497Z"
   },
   {
    "duration": 5020,
    "start_time": "2021-09-13T21:39:06.510Z"
   },
   {
    "duration": 39,
    "start_time": "2021-09-13T21:39:11.533Z"
   },
   {
    "duration": 33,
    "start_time": "2021-09-13T21:39:11.575Z"
   },
   {
    "duration": 17,
    "start_time": "2021-09-13T21:39:11.610Z"
   },
   {
    "duration": 43,
    "start_time": "2021-09-13T21:39:11.629Z"
   },
   {
    "duration": 30,
    "start_time": "2021-09-13T21:39:11.674Z"
   },
   {
    "duration": 642,
    "start_time": "2021-09-13T21:39:11.707Z"
   },
   {
    "duration": 25,
    "start_time": "2021-09-13T21:39:12.351Z"
   },
   {
    "duration": 631,
    "start_time": "2021-09-13T21:39:12.379Z"
   },
   {
    "duration": 629,
    "start_time": "2021-09-13T21:39:13.013Z"
   },
   {
    "duration": 613,
    "start_time": "2021-09-13T21:39:13.644Z"
   },
   {
    "duration": 2224,
    "start_time": "2021-09-14T06:31:07.733Z"
   },
   {
    "duration": 1203,
    "start_time": "2021-09-14T06:31:12.894Z"
   },
   {
    "duration": 27,
    "start_time": "2021-09-14T06:31:14.100Z"
   },
   {
    "duration": 32,
    "start_time": "2021-09-14T06:31:14.130Z"
   },
   {
    "duration": 37,
    "start_time": "2021-09-14T06:31:14.165Z"
   },
   {
    "duration": 63,
    "start_time": "2021-09-14T06:31:14.205Z"
   },
   {
    "duration": 9,
    "start_time": "2021-09-14T06:31:14.270Z"
   },
   {
    "duration": 49,
    "start_time": "2021-09-14T06:31:14.282Z"
   },
   {
    "duration": 58,
    "start_time": "2021-09-14T06:31:14.333Z"
   },
   {
    "duration": 17,
    "start_time": "2021-09-14T06:31:14.395Z"
   },
   {
    "duration": 4,
    "start_time": "2021-09-14T06:31:14.415Z"
   },
   {
    "duration": 51,
    "start_time": "2021-09-14T06:31:14.421Z"
   },
   {
    "duration": 23,
    "start_time": "2021-09-14T06:31:14.474Z"
   },
   {
    "duration": 15,
    "start_time": "2021-09-14T06:31:14.499Z"
   },
   {
    "duration": 4671,
    "start_time": "2021-09-14T06:31:14.516Z"
   },
   {
    "duration": 25,
    "start_time": "2021-09-14T06:31:19.190Z"
   },
   {
    "duration": 49,
    "start_time": "2021-09-14T06:31:19.218Z"
   },
   {
    "duration": 15,
    "start_time": "2021-09-14T06:31:19.269Z"
   },
   {
    "duration": 14,
    "start_time": "2021-09-14T06:31:19.287Z"
   },
   {
    "duration": 45,
    "start_time": "2021-09-14T06:31:19.303Z"
   },
   {
    "duration": 601,
    "start_time": "2021-09-14T06:31:19.362Z"
   },
   {
    "duration": 17,
    "start_time": "2021-09-14T06:31:19.966Z"
   },
   {
    "duration": 627,
    "start_time": "2021-09-14T06:31:19.985Z"
   },
   {
    "duration": 601,
    "start_time": "2021-09-14T06:31:20.614Z"
   },
   {
    "duration": 579,
    "start_time": "2021-09-14T06:31:21.218Z"
   },
   {
    "duration": 9081,
    "start_time": "2021-09-14T06:41:53.959Z"
   },
   {
    "duration": 110,
    "start_time": "2021-09-14T06:42:21.580Z"
   },
   {
    "duration": 18,
    "start_time": "2021-09-14T06:42:21.693Z"
   },
   {
    "duration": 28,
    "start_time": "2021-09-14T06:42:21.714Z"
   },
   {
    "duration": 3,
    "start_time": "2021-09-14T06:42:21.745Z"
   },
   {
    "duration": 40,
    "start_time": "2021-09-14T06:42:21.763Z"
   },
   {
    "duration": 11,
    "start_time": "2021-09-14T06:42:21.806Z"
   },
   {
    "duration": 77,
    "start_time": "2021-09-14T06:42:21.820Z"
   },
   {
    "duration": 35,
    "start_time": "2021-09-14T06:42:21.903Z"
   },
   {
    "duration": 9,
    "start_time": "2021-09-14T06:42:21.962Z"
   },
   {
    "duration": 6,
    "start_time": "2021-09-14T06:42:21.974Z"
   },
   {
    "duration": 29,
    "start_time": "2021-09-14T06:42:21.983Z"
   },
   {
    "duration": 67,
    "start_time": "2021-09-14T06:42:22.014Z"
   },
   {
    "duration": 15,
    "start_time": "2021-09-14T06:42:22.083Z"
   },
   {
    "duration": 4594,
    "start_time": "2021-09-14T06:42:22.100Z"
   },
   {
    "duration": 23,
    "start_time": "2021-09-14T06:42:26.696Z"
   },
   {
    "duration": 45,
    "start_time": "2021-09-14T06:42:26.722Z"
   },
   {
    "duration": 16,
    "start_time": "2021-09-14T06:42:26.770Z"
   },
   {
    "duration": 14,
    "start_time": "2021-09-14T06:42:26.789Z"
   },
   {
    "duration": 56,
    "start_time": "2021-09-14T06:42:26.805Z"
   },
   {
    "duration": 662,
    "start_time": "2021-09-14T06:42:26.864Z"
   },
   {
    "duration": 16,
    "start_time": "2021-09-14T06:42:27.528Z"
   },
   {
    "duration": 603,
    "start_time": "2021-09-14T06:42:27.562Z"
   },
   {
    "duration": 572,
    "start_time": "2021-09-14T06:42:28.169Z"
   },
   {
    "duration": 597,
    "start_time": "2021-09-14T06:42:28.745Z"
   },
   {
    "duration": 25,
    "start_time": "2021-09-14T06:45:07.787Z"
   },
   {
    "duration": 112,
    "start_time": "2021-09-14T06:45:16.213Z"
   },
   {
    "duration": 33,
    "start_time": "2021-09-14T06:45:16.329Z"
   },
   {
    "duration": 11,
    "start_time": "2021-09-14T06:45:16.365Z"
   },
   {
    "duration": 48,
    "start_time": "2021-09-14T06:45:16.379Z"
   },
   {
    "duration": 63,
    "start_time": "2021-09-14T06:45:16.429Z"
   },
   {
    "duration": 10,
    "start_time": "2021-09-14T06:45:16.494Z"
   },
   {
    "duration": 70,
    "start_time": "2021-09-14T06:45:16.506Z"
   },
   {
    "duration": 34,
    "start_time": "2021-09-14T06:45:16.579Z"
   },
   {
    "duration": 9,
    "start_time": "2021-09-14T06:45:16.616Z"
   },
   {
    "duration": 38,
    "start_time": "2021-09-14T06:45:16.628Z"
   },
   {
    "duration": 28,
    "start_time": "2021-09-14T06:45:16.669Z"
   },
   {
    "duration": 22,
    "start_time": "2021-09-14T06:45:16.700Z"
   },
   {
    "duration": 40,
    "start_time": "2021-09-14T06:45:16.724Z"
   },
   {
    "duration": 4774,
    "start_time": "2021-09-14T06:45:16.767Z"
   },
   {
    "duration": 35,
    "start_time": "2021-09-14T06:45:21.544Z"
   },
   {
    "duration": 37,
    "start_time": "2021-09-14T06:45:21.582Z"
   },
   {
    "duration": 41,
    "start_time": "2021-09-14T06:45:21.622Z"
   },
   {
    "duration": 13,
    "start_time": "2021-09-14T06:45:21.666Z"
   },
   {
    "duration": 41,
    "start_time": "2021-09-14T06:45:21.681Z"
   },
   {
    "duration": 608,
    "start_time": "2021-09-14T06:45:21.724Z"
   },
   {
    "duration": 28,
    "start_time": "2021-09-14T06:45:22.334Z"
   },
   {
    "duration": 621,
    "start_time": "2021-09-14T06:45:22.365Z"
   },
   {
    "duration": 575,
    "start_time": "2021-09-14T06:45:22.988Z"
   },
   {
    "duration": 589,
    "start_time": "2021-09-14T06:45:23.566Z"
   },
   {
    "duration": 14601,
    "start_time": "2021-09-14T06:49:58.284Z"
   },
   {
    "duration": 6275,
    "start_time": "2021-09-14T06:51:46.462Z"
   },
   {
    "duration": 100,
    "start_time": "2021-09-14T06:52:06.779Z"
   },
   {
    "duration": 16,
    "start_time": "2021-09-14T06:52:06.882Z"
   },
   {
    "duration": 15,
    "start_time": "2021-09-14T06:52:06.901Z"
   },
   {
    "duration": 67,
    "start_time": "2021-09-14T06:52:06.918Z"
   },
   {
    "duration": 35,
    "start_time": "2021-09-14T06:52:06.987Z"
   },
   {
    "duration": 37,
    "start_time": "2021-09-14T06:52:07.024Z"
   },
   {
    "duration": 41,
    "start_time": "2021-09-14T06:52:07.063Z"
   },
   {
    "duration": 57,
    "start_time": "2021-09-14T06:52:07.106Z"
   },
   {
    "duration": 37,
    "start_time": "2021-09-14T06:52:07.167Z"
   },
   {
    "duration": 7,
    "start_time": "2021-09-14T06:52:07.208Z"
   },
   {
    "duration": 52,
    "start_time": "2021-09-14T06:52:07.218Z"
   },
   {
    "duration": 22,
    "start_time": "2021-09-14T06:52:07.272Z"
   },
   {
    "duration": 13,
    "start_time": "2021-09-14T06:52:07.296Z"
   },
   {
    "duration": 4599,
    "start_time": "2021-09-14T06:52:07.311Z"
   },
   {
    "duration": 24,
    "start_time": "2021-09-14T06:52:11.913Z"
   },
   {
    "duration": 47,
    "start_time": "2021-09-14T06:52:11.939Z"
   },
   {
    "duration": 17,
    "start_time": "2021-09-14T06:52:11.989Z"
   },
   {
    "duration": 14,
    "start_time": "2021-09-14T06:52:12.008Z"
   },
   {
    "duration": 59,
    "start_time": "2021-09-14T06:52:12.024Z"
   },
   {
    "duration": 623,
    "start_time": "2021-09-14T06:52:12.086Z"
   },
   {
    "duration": 15,
    "start_time": "2021-09-14T06:52:12.712Z"
   },
   {
    "duration": 604,
    "start_time": "2021-09-14T06:52:12.729Z"
   },
   {
    "duration": 590,
    "start_time": "2021-09-14T06:52:13.336Z"
   },
   {
    "duration": 584,
    "start_time": "2021-09-14T06:52:13.929Z"
   },
   {
    "duration": 6481,
    "start_time": "2021-09-14T06:53:11.693Z"
   },
   {
    "duration": 104,
    "start_time": "2021-09-14T06:53:30.194Z"
   },
   {
    "duration": 18,
    "start_time": "2021-09-14T06:53:30.301Z"
   },
   {
    "duration": 19,
    "start_time": "2021-09-14T06:53:30.322Z"
   },
   {
    "duration": 53,
    "start_time": "2021-09-14T06:53:30.344Z"
   },
   {
    "duration": 67,
    "start_time": "2021-09-14T06:53:30.399Z"
   },
   {
    "duration": 17,
    "start_time": "2021-09-14T06:53:30.468Z"
   },
   {
    "duration": 49,
    "start_time": "2021-09-14T06:53:30.488Z"
   },
   {
    "duration": 48,
    "start_time": "2021-09-14T06:53:30.540Z"
   },
   {
    "duration": 44,
    "start_time": "2021-09-14T06:53:30.592Z"
   },
   {
    "duration": 4,
    "start_time": "2021-09-14T06:53:30.639Z"
   },
   {
    "duration": 36,
    "start_time": "2021-09-14T06:53:30.645Z"
   },
   {
    "duration": 27,
    "start_time": "2021-09-14T06:53:30.684Z"
   },
   {
    "duration": 28,
    "start_time": "2021-09-14T06:53:30.714Z"
   },
   {
    "duration": 4529,
    "start_time": "2021-09-14T06:53:30.744Z"
   },
   {
    "duration": 23,
    "start_time": "2021-09-14T06:53:35.276Z"
   },
   {
    "duration": 44,
    "start_time": "2021-09-14T06:53:35.302Z"
   },
   {
    "duration": 24,
    "start_time": "2021-09-14T06:53:35.348Z"
   },
   {
    "duration": 13,
    "start_time": "2021-09-14T06:53:35.374Z"
   },
   {
    "duration": 29,
    "start_time": "2021-09-14T06:53:35.389Z"
   },
   {
    "duration": 644,
    "start_time": "2021-09-14T06:53:35.420Z"
   },
   {
    "duration": 17,
    "start_time": "2021-09-14T06:53:36.067Z"
   },
   {
    "duration": 641,
    "start_time": "2021-09-14T06:53:36.088Z"
   },
   {
    "duration": 590,
    "start_time": "2021-09-14T06:53:36.732Z"
   },
   {
    "duration": 602,
    "start_time": "2021-09-14T06:53:37.324Z"
   },
   {
    "duration": 104,
    "start_time": "2021-09-14T06:53:51.220Z"
   },
   {
    "duration": 17,
    "start_time": "2021-09-14T06:53:51.326Z"
   },
   {
    "duration": 11,
    "start_time": "2021-09-14T06:53:51.363Z"
   },
   {
    "duration": 39,
    "start_time": "2021-09-14T06:53:51.377Z"
   },
   {
    "duration": 70,
    "start_time": "2021-09-14T06:53:51.419Z"
   },
   {
    "duration": 11,
    "start_time": "2021-09-14T06:53:51.492Z"
   },
   {
    "duration": 76,
    "start_time": "2021-09-14T06:53:51.505Z"
   },
   {
    "duration": 33,
    "start_time": "2021-09-14T06:53:51.584Z"
   },
   {
    "duration": 61,
    "start_time": "2021-09-14T06:53:51.620Z"
   },
   {
    "duration": 5,
    "start_time": "2021-09-14T06:53:51.683Z"
   },
   {
    "duration": 41,
    "start_time": "2021-09-14T06:53:51.690Z"
   },
   {
    "duration": 39,
    "start_time": "2021-09-14T06:53:51.734Z"
   },
   {
    "duration": 11,
    "start_time": "2021-09-14T06:53:51.776Z"
   },
   {
    "duration": 4859,
    "start_time": "2021-09-14T06:53:51.789Z"
   },
   {
    "duration": 24,
    "start_time": "2021-09-14T06:53:56.662Z"
   },
   {
    "duration": 40,
    "start_time": "2021-09-14T06:53:56.689Z"
   },
   {
    "duration": 40,
    "start_time": "2021-09-14T06:53:56.732Z"
   },
   {
    "duration": 13,
    "start_time": "2021-09-14T06:53:56.775Z"
   },
   {
    "duration": 35,
    "start_time": "2021-09-14T06:53:56.790Z"
   },
   {
    "duration": 653,
    "start_time": "2021-09-14T06:53:56.827Z"
   },
   {
    "duration": 20,
    "start_time": "2021-09-14T06:53:57.482Z"
   },
   {
    "duration": 798,
    "start_time": "2021-09-14T06:53:57.505Z"
   },
   {
    "duration": 589,
    "start_time": "2021-09-14T06:53:58.309Z"
   },
   {
    "duration": 2148,
    "start_time": "2021-09-14T06:53:58.901Z"
   },
   {
    "duration": 6468,
    "start_time": "2021-09-14T06:55:28.920Z"
   },
   {
    "duration": 100,
    "start_time": "2021-09-14T06:55:43.834Z"
   },
   {
    "duration": 16,
    "start_time": "2021-09-14T06:55:43.937Z"
   },
   {
    "duration": 34,
    "start_time": "2021-09-14T06:55:43.963Z"
   },
   {
    "duration": 45,
    "start_time": "2021-09-14T06:55:44.000Z"
   },
   {
    "duration": 37,
    "start_time": "2021-09-14T06:55:44.047Z"
   },
   {
    "duration": 9,
    "start_time": "2021-09-14T06:55:44.087Z"
   },
   {
    "duration": 69,
    "start_time": "2021-09-14T06:55:44.098Z"
   },
   {
    "duration": 33,
    "start_time": "2021-09-14T06:55:44.170Z"
   },
   {
    "duration": 38,
    "start_time": "2021-09-14T06:55:44.206Z"
   },
   {
    "duration": 5,
    "start_time": "2021-09-14T06:55:44.263Z"
   },
   {
    "duration": 38,
    "start_time": "2021-09-14T06:55:44.271Z"
   },
   {
    "duration": 20,
    "start_time": "2021-09-14T06:55:44.312Z"
   },
   {
    "duration": 35,
    "start_time": "2021-09-14T06:55:44.335Z"
   },
   {
    "duration": 4601,
    "start_time": "2021-09-14T06:55:44.372Z"
   },
   {
    "duration": 25,
    "start_time": "2021-09-14T06:55:48.976Z"
   },
   {
    "duration": 33,
    "start_time": "2021-09-14T06:55:49.003Z"
   },
   {
    "duration": 15,
    "start_time": "2021-09-14T06:55:49.062Z"
   },
   {
    "duration": 13,
    "start_time": "2021-09-14T06:55:49.080Z"
   },
   {
    "duration": 29,
    "start_time": "2021-09-14T06:55:49.096Z"
   },
   {
    "duration": 633,
    "start_time": "2021-09-14T06:55:49.128Z"
   },
   {
    "duration": 15,
    "start_time": "2021-09-14T06:55:49.764Z"
   },
   {
    "duration": 627,
    "start_time": "2021-09-14T06:55:49.782Z"
   },
   {
    "duration": 586,
    "start_time": "2021-09-14T06:55:50.412Z"
   },
   {
    "duration": 594,
    "start_time": "2021-09-14T06:55:51.000Z"
   },
   {
    "duration": 119,
    "start_time": "2021-09-14T06:56:25.157Z"
   },
   {
    "duration": 17,
    "start_time": "2021-09-14T06:56:25.278Z"
   },
   {
    "duration": 20,
    "start_time": "2021-09-14T06:56:25.298Z"
   },
   {
    "duration": 61,
    "start_time": "2021-09-14T06:56:25.322Z"
   },
   {
    "duration": 38,
    "start_time": "2021-09-14T06:56:25.385Z"
   },
   {
    "duration": 39,
    "start_time": "2021-09-14T06:56:25.425Z"
   },
   {
    "duration": 44,
    "start_time": "2021-09-14T06:56:25.467Z"
   },
   {
    "duration": 60,
    "start_time": "2021-09-14T06:56:25.515Z"
   },
   {
    "duration": 38,
    "start_time": "2021-09-14T06:56:25.578Z"
   },
   {
    "duration": 5,
    "start_time": "2021-09-14T06:56:25.619Z"
   },
   {
    "duration": 49,
    "start_time": "2021-09-14T06:56:25.627Z"
   },
   {
    "duration": 20,
    "start_time": "2021-09-14T06:56:25.679Z"
   },
   {
    "duration": 11,
    "start_time": "2021-09-14T06:56:25.701Z"
   },
   {
    "duration": 4516,
    "start_time": "2021-09-14T06:56:25.714Z"
   },
   {
    "duration": 31,
    "start_time": "2021-09-14T06:56:30.232Z"
   },
   {
    "duration": 34,
    "start_time": "2021-09-14T06:56:30.266Z"
   },
   {
    "duration": 22,
    "start_time": "2021-09-14T06:56:30.302Z"
   },
   {
    "duration": 13,
    "start_time": "2021-09-14T06:56:30.327Z"
   },
   {
    "duration": 47,
    "start_time": "2021-09-14T06:56:30.343Z"
   },
   {
    "duration": 604,
    "start_time": "2021-09-14T06:56:30.393Z"
   },
   {
    "duration": 14,
    "start_time": "2021-09-14T06:56:31.000Z"
   },
   {
    "duration": 645,
    "start_time": "2021-09-14T06:56:31.017Z"
   },
   {
    "duration": 612,
    "start_time": "2021-09-14T06:56:31.666Z"
   },
   {
    "duration": 610,
    "start_time": "2021-09-14T06:56:32.280Z"
   },
   {
    "duration": 103,
    "start_time": "2021-09-14T07:02:47.600Z"
   },
   {
    "duration": 18,
    "start_time": "2021-09-14T07:02:47.705Z"
   },
   {
    "duration": 36,
    "start_time": "2021-09-14T07:02:47.726Z"
   },
   {
    "duration": 39,
    "start_time": "2021-09-14T07:02:47.765Z"
   },
   {
    "duration": 58,
    "start_time": "2021-09-14T07:02:47.807Z"
   },
   {
    "duration": 10,
    "start_time": "2021-09-14T07:02:47.868Z"
   },
   {
    "duration": 44,
    "start_time": "2021-09-14T07:02:47.880Z"
   },
   {
    "duration": 64,
    "start_time": "2021-09-14T07:02:47.927Z"
   },
   {
    "duration": 33,
    "start_time": "2021-09-14T07:02:47.995Z"
   },
   {
    "duration": 6,
    "start_time": "2021-09-14T07:02:48.031Z"
   },
   {
    "duration": 21,
    "start_time": "2021-09-14T07:02:48.061Z"
   },
   {
    "duration": 19,
    "start_time": "2021-09-14T07:02:48.085Z"
   },
   {
    "duration": 16,
    "start_time": "2021-09-14T07:02:48.107Z"
   },
   {
    "duration": 4737,
    "start_time": "2021-09-14T07:02:48.125Z"
   },
   {
    "duration": 29,
    "start_time": "2021-09-14T07:02:52.865Z"
   },
   {
    "duration": 37,
    "start_time": "2021-09-14T07:02:52.896Z"
   },
   {
    "duration": 35,
    "start_time": "2021-09-14T07:02:52.936Z"
   },
   {
    "duration": 13,
    "start_time": "2021-09-14T07:02:52.973Z"
   },
   {
    "duration": 33,
    "start_time": "2021-09-14T07:02:52.988Z"
   },
   {
    "duration": 618,
    "start_time": "2021-09-14T07:02:53.024Z"
   },
   {
    "duration": 23,
    "start_time": "2021-09-14T07:02:53.644Z"
   },
   {
    "duration": 605,
    "start_time": "2021-09-14T07:02:53.670Z"
   },
   {
    "duration": 601,
    "start_time": "2021-09-14T07:02:54.277Z"
   },
   {
    "duration": 596,
    "start_time": "2021-09-14T07:02:54.881Z"
   },
   {
    "duration": 137,
    "start_time": "2021-09-14T07:05:41.949Z"
   },
   {
    "duration": 8,
    "start_time": "2021-09-14T07:06:13.049Z"
   },
   {
    "duration": 106,
    "start_time": "2021-09-14T07:23:32.543Z"
   },
   {
    "duration": 17,
    "start_time": "2021-09-14T07:23:32.662Z"
   },
   {
    "duration": 19,
    "start_time": "2021-09-14T07:23:32.682Z"
   },
   {
    "duration": 58,
    "start_time": "2021-09-14T07:23:32.704Z"
   },
   {
    "duration": 34,
    "start_time": "2021-09-14T07:23:32.764Z"
   },
   {
    "duration": 8,
    "start_time": "2021-09-14T07:23:32.801Z"
   },
   {
    "duration": 74,
    "start_time": "2021-09-14T07:23:32.811Z"
   },
   {
    "duration": 34,
    "start_time": "2021-09-14T07:23:32.888Z"
   },
   {
    "duration": 58,
    "start_time": "2021-09-14T07:23:32.926Z"
   },
   {
    "duration": 6,
    "start_time": "2021-09-14T07:23:32.987Z"
   },
   {
    "duration": 34,
    "start_time": "2021-09-14T07:23:32.996Z"
   },
   {
    "duration": 51,
    "start_time": "2021-09-14T07:23:33.033Z"
   },
   {
    "duration": 15,
    "start_time": "2021-09-14T07:23:33.087Z"
   },
   {
    "duration": 25,
    "start_time": "2021-09-14T07:23:33.105Z"
   },
   {
    "duration": 29,
    "start_time": "2021-09-14T07:23:33.133Z"
   },
   {
    "duration": 4542,
    "start_time": "2021-09-14T07:23:33.165Z"
   },
   {
    "duration": 27,
    "start_time": "2021-09-14T07:23:37.710Z"
   },
   {
    "duration": 44,
    "start_time": "2021-09-14T07:23:37.739Z"
   },
   {
    "duration": 14,
    "start_time": "2021-09-14T07:23:37.786Z"
   },
   {
    "duration": 13,
    "start_time": "2021-09-14T07:23:37.803Z"
   },
   {
    "duration": 53,
    "start_time": "2021-09-14T07:23:37.818Z"
   },
   {
    "duration": 615,
    "start_time": "2021-09-14T07:23:37.874Z"
   },
   {
    "duration": 15,
    "start_time": "2021-09-14T07:23:38.492Z"
   },
   {
    "duration": 648,
    "start_time": "2021-09-14T07:23:38.509Z"
   },
   {
    "duration": 585,
    "start_time": "2021-09-14T07:23:39.161Z"
   },
   {
    "duration": 596,
    "start_time": "2021-09-14T07:23:39.748Z"
   },
   {
    "duration": 15,
    "start_time": "2021-09-14T07:27:41.820Z"
   },
   {
    "duration": 105,
    "start_time": "2021-09-14T07:33:47.946Z"
   },
   {
    "duration": 21,
    "start_time": "2021-09-14T07:33:48.053Z"
   },
   {
    "duration": 13,
    "start_time": "2021-09-14T07:33:48.077Z"
   },
   {
    "duration": 70,
    "start_time": "2021-09-14T07:33:48.093Z"
   },
   {
    "duration": 36,
    "start_time": "2021-09-14T07:33:48.166Z"
   },
   {
    "duration": 19,
    "start_time": "2021-09-14T07:33:48.204Z"
   },
   {
    "duration": 58,
    "start_time": "2021-09-14T07:33:48.226Z"
   },
   {
    "duration": 32,
    "start_time": "2021-09-14T07:33:48.287Z"
   },
   {
    "duration": 57,
    "start_time": "2021-09-14T07:33:48.323Z"
   },
   {
    "duration": 6,
    "start_time": "2021-09-14T07:33:48.384Z"
   },
   {
    "duration": 36,
    "start_time": "2021-09-14T07:33:48.392Z"
   },
   {
    "duration": 31,
    "start_time": "2021-09-14T07:33:48.431Z"
   },
   {
    "duration": 11,
    "start_time": "2021-09-14T07:33:48.464Z"
   },
   {
    "duration": 15,
    "start_time": "2021-09-14T07:33:48.477Z"
   },
   {
    "duration": 30,
    "start_time": "2021-09-14T07:33:48.494Z"
   },
   {
    "duration": 4588,
    "start_time": "2021-09-14T07:33:48.527Z"
   },
   {
    "duration": 24,
    "start_time": "2021-09-14T07:33:53.118Z"
   },
   {
    "duration": 27,
    "start_time": "2021-09-14T07:33:53.161Z"
   },
   {
    "duration": 24,
    "start_time": "2021-09-14T07:33:53.191Z"
   },
   {
    "duration": 12,
    "start_time": "2021-09-14T07:33:53.218Z"
   },
   {
    "duration": 52,
    "start_time": "2021-09-14T07:33:53.233Z"
   },
   {
    "duration": 621,
    "start_time": "2021-09-14T07:33:53.287Z"
   },
   {
    "duration": 14,
    "start_time": "2021-09-14T07:33:53.911Z"
   },
   {
    "duration": 595,
    "start_time": "2021-09-14T07:33:53.929Z"
   },
   {
    "duration": 574,
    "start_time": "2021-09-14T07:33:54.526Z"
   },
   {
    "duration": 569,
    "start_time": "2021-09-14T07:33:55.102Z"
   },
   {
    "duration": 22,
    "start_time": "2021-09-14T07:38:08.652Z"
   },
   {
    "duration": 282,
    "start_time": "2021-09-14T09:24:34.527Z"
   },
   {
    "duration": 37,
    "start_time": "2021-09-14T09:25:26.947Z"
   },
   {
    "duration": 43,
    "start_time": "2021-09-14T09:32:29.206Z"
   },
   {
    "duration": 46,
    "start_time": "2021-09-14T09:36:56.816Z"
   },
   {
    "duration": 55,
    "start_time": "2021-09-14T09:41:54.166Z"
   },
   {
    "duration": 10,
    "start_time": "2021-09-14T09:49:18.202Z"
   },
   {
    "duration": 103,
    "start_time": "2021-09-14T10:40:28.913Z"
   },
   {
    "duration": 127,
    "start_time": "2021-09-14T10:41:04.122Z"
   },
   {
    "duration": 378,
    "start_time": "2021-09-14T10:41:06.392Z"
   },
   {
    "duration": 793,
    "start_time": "2021-09-14T10:41:12.174Z"
   },
   {
    "duration": 27,
    "start_time": "2021-09-14T10:41:12.970Z"
   },
   {
    "duration": 12,
    "start_time": "2021-09-14T10:41:13.000Z"
   },
   {
    "duration": 63,
    "start_time": "2021-09-14T10:41:13.015Z"
   },
   {
    "duration": 33,
    "start_time": "2021-09-14T10:41:13.081Z"
   },
   {
    "duration": 39,
    "start_time": "2021-09-14T10:41:13.117Z"
   },
   {
    "duration": 39,
    "start_time": "2021-09-14T10:41:13.158Z"
   },
   {
    "duration": 59,
    "start_time": "2021-09-14T10:41:13.201Z"
   },
   {
    "duration": 33,
    "start_time": "2021-09-14T10:41:13.262Z"
   },
   {
    "duration": 6,
    "start_time": "2021-09-14T10:41:13.297Z"
   },
   {
    "duration": 22,
    "start_time": "2021-09-14T10:41:13.305Z"
   },
   {
    "duration": 44,
    "start_time": "2021-09-14T10:41:13.329Z"
   },
   {
    "duration": 18,
    "start_time": "2021-09-14T10:41:13.376Z"
   },
   {
    "duration": 16,
    "start_time": "2021-09-14T10:41:13.397Z"
   },
   {
    "duration": 10,
    "start_time": "2021-09-14T10:41:13.415Z"
   },
   {
    "duration": 4394,
    "start_time": "2021-09-14T10:41:13.427Z"
   },
   {
    "duration": 37,
    "start_time": "2021-09-14T10:41:17.823Z"
   },
   {
    "duration": 27,
    "start_time": "2021-09-14T10:41:17.862Z"
   },
   {
    "duration": 32,
    "start_time": "2021-09-14T10:41:17.893Z"
   },
   {
    "duration": 37,
    "start_time": "2021-09-14T10:41:17.929Z"
   },
   {
    "duration": 24,
    "start_time": "2021-09-14T10:41:17.969Z"
   },
   {
    "duration": 60,
    "start_time": "2021-09-14T10:41:17.997Z"
   },
   {
    "duration": 42,
    "start_time": "2021-09-14T10:41:18.064Z"
   },
   {
    "duration": 51,
    "start_time": "2021-09-14T10:41:18.110Z"
   },
   {
    "duration": 44,
    "start_time": "2021-09-14T10:41:18.164Z"
   },
   {
    "duration": 67,
    "start_time": "2021-09-14T10:41:18.211Z"
   },
   {
    "duration": 43,
    "start_time": "2021-09-14T10:41:18.280Z"
   },
   {
    "duration": 28,
    "start_time": "2021-09-14T10:41:31.494Z"
   }
  ],
  "kernelspec": {
   "display_name": "Python 3 (ipykernel)",
   "language": "python",
   "name": "python3"
  },
  "language_info": {
   "codemirror_mode": {
    "name": "ipython",
    "version": 3
   },
   "file_extension": ".py",
   "mimetype": "text/x-python",
   "name": "python",
   "nbconvert_exporter": "python",
   "pygments_lexer": "ipython3",
   "version": "3.9.7"
  },
  "toc": {
   "base_numbering": 1,
   "nav_menu": {},
   "number_sections": true,
   "sideBar": true,
   "skip_h1_title": true,
   "title_cell": "Table of Contents",
   "title_sidebar": "Contents",
   "toc_cell": false,
   "toc_position": {
    "height": "calc(100% - 180px)",
    "left": "10px",
    "top": "150px",
    "width": "408.8px"
   },
   "toc_section_display": true,
   "toc_window_display": false
  }
 },
 "nbformat": 4,
 "nbformat_minor": 2
}
